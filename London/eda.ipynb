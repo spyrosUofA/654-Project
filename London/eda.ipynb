{
 "cells": [
  {
   "cell_type": "code",
   "execution_count": 749,
   "metadata": {},
   "outputs": [],
   "source": [
    "import pandas as pd\n",
    "import numpy as np\n",
    "import matplotlib.pyplot as plt\n",
    "import scipy.stats\n",
    "import pickle\n",
    "import os "
   ]
  },
  {
   "cell_type": "code",
   "execution_count": 750,
   "metadata": {},
   "outputs": [],
   "source": [
    "filename = '/Users/rohannuttall/Downloads/Power-Networks-LCL-June2015(withAcornGps).csv_Pieces/Power-Networks-LCL-June2015(withAcornGps)v2_1.csv'"
   ]
  },
  {
   "cell_type": "code",
   "execution_count": 889,
   "metadata": {},
   "outputs": [],
   "source": [
    "df = pd.read_csv(filename)"
   ]
  },
  {
   "cell_type": "code",
   "execution_count": 890,
   "metadata": {},
   "outputs": [
    {
     "data": {
      "text/html": [
       "<div>\n",
       "<style scoped>\n",
       "    .dataframe tbody tr th:only-of-type {\n",
       "        vertical-align: middle;\n",
       "    }\n",
       "\n",
       "    .dataframe tbody tr th {\n",
       "        vertical-align: top;\n",
       "    }\n",
       "\n",
       "    .dataframe thead th {\n",
       "        text-align: right;\n",
       "    }\n",
       "</style>\n",
       "<table border=\"1\" class=\"dataframe\">\n",
       "  <thead>\n",
       "    <tr style=\"text-align: right;\">\n",
       "      <th></th>\n",
       "      <th>LCLid</th>\n",
       "      <th>stdorToU</th>\n",
       "      <th>DateTime</th>\n",
       "      <th>KWH/hh (per half hour)</th>\n",
       "      <th>Acorn</th>\n",
       "      <th>Acorn_grouped</th>\n",
       "    </tr>\n",
       "  </thead>\n",
       "  <tbody>\n",
       "    <tr>\n",
       "      <th>0</th>\n",
       "      <td>MAC000002</td>\n",
       "      <td>Std</td>\n",
       "      <td>2012-10-12 00:30:00.0000000</td>\n",
       "      <td>0</td>\n",
       "      <td>ACORN-A</td>\n",
       "      <td>Affluent</td>\n",
       "    </tr>\n",
       "    <tr>\n",
       "      <th>1</th>\n",
       "      <td>MAC000002</td>\n",
       "      <td>Std</td>\n",
       "      <td>2012-10-12 01:00:00.0000000</td>\n",
       "      <td>0</td>\n",
       "      <td>ACORN-A</td>\n",
       "      <td>Affluent</td>\n",
       "    </tr>\n",
       "    <tr>\n",
       "      <th>2</th>\n",
       "      <td>MAC000002</td>\n",
       "      <td>Std</td>\n",
       "      <td>2012-10-12 01:30:00.0000000</td>\n",
       "      <td>0</td>\n",
       "      <td>ACORN-A</td>\n",
       "      <td>Affluent</td>\n",
       "    </tr>\n",
       "    <tr>\n",
       "      <th>3</th>\n",
       "      <td>MAC000002</td>\n",
       "      <td>Std</td>\n",
       "      <td>2012-10-12 02:00:00.0000000</td>\n",
       "      <td>0</td>\n",
       "      <td>ACORN-A</td>\n",
       "      <td>Affluent</td>\n",
       "    </tr>\n",
       "    <tr>\n",
       "      <th>4</th>\n",
       "      <td>MAC000002</td>\n",
       "      <td>Std</td>\n",
       "      <td>2012-10-12 02:30:00.0000000</td>\n",
       "      <td>0</td>\n",
       "      <td>ACORN-A</td>\n",
       "      <td>Affluent</td>\n",
       "    </tr>\n",
       "  </tbody>\n",
       "</table>\n",
       "</div>"
      ],
      "text/plain": [
       "       LCLid stdorToU                     DateTime KWH/hh (per half hour)   \\\n",
       "0  MAC000002      Std  2012-10-12 00:30:00.0000000                      0    \n",
       "1  MAC000002      Std  2012-10-12 01:00:00.0000000                      0    \n",
       "2  MAC000002      Std  2012-10-12 01:30:00.0000000                      0    \n",
       "3  MAC000002      Std  2012-10-12 02:00:00.0000000                      0    \n",
       "4  MAC000002      Std  2012-10-12 02:30:00.0000000                      0    \n",
       "\n",
       "     Acorn Acorn_grouped  \n",
       "0  ACORN-A      Affluent  \n",
       "1  ACORN-A      Affluent  \n",
       "2  ACORN-A      Affluent  \n",
       "3  ACORN-A      Affluent  \n",
       "4  ACORN-A      Affluent  "
      ]
     },
     "execution_count": 890,
     "metadata": {},
     "output_type": "execute_result"
    }
   ],
   "source": [
    "df.head(5)"
   ]
  },
  {
   "cell_type": "code",
   "execution_count": 891,
   "metadata": {},
   "outputs": [
    {
     "name": "stdout",
     "output_type": "stream",
     "text": [
      "<class 'pandas.core.frame.DataFrame'>\n",
      "RangeIndex: 1000000 entries, 0 to 999999\n",
      "Data columns (total 6 columns):\n",
      " #   Column                   Non-Null Count    Dtype \n",
      "---  ------                   --------------    ----- \n",
      " 0   LCLid                    1000000 non-null  object\n",
      " 1   stdorToU                 1000000 non-null  object\n",
      " 2   DateTime                 1000000 non-null  object\n",
      " 3   KWH/hh (per half hour)   1000000 non-null  object\n",
      " 4   Acorn                    1000000 non-null  object\n",
      " 5   Acorn_grouped            1000000 non-null  object\n",
      "dtypes: object(6)\n",
      "memory usage: 45.8+ MB\n",
      "None\n"
     ]
    }
   ],
   "source": [
    "print(df.info())"
   ]
  },
  {
   "cell_type": "code",
   "execution_count": 892,
   "metadata": {},
   "outputs": [
    {
     "data": {
      "text/plain": [
       "30"
      ]
     },
     "execution_count": 892,
     "metadata": {},
     "output_type": "execute_result"
    }
   ],
   "source": [
    "# how many houses? \n",
    "len(df['LCLid'].unique())"
   ]
  },
  {
   "cell_type": "code",
   "execution_count": 755,
   "metadata": {},
   "outputs": [],
   "source": [
    "# TODO \n",
    "# [ ] Create dataframes resampled for hours\n",
    "# [ ] Join to weather data from https://www.kaggle.com/jeanmidev/smart-meters-in-london?select=weather_hourly_darksky.csv\n",
    "# [ ] Pytorch dataloaders for train, test\n",
    "# [ ] Train with MLP \n",
    "# [ ] Train with LSTM\n",
    "# [ ] Re-run experiments with federated learning, LDP, CDP\n",
    "# [ ] Implement hierarchical clustering?\n",
    "# [ ] Moment accountant? "
   ]
  },
  {
   "cell_type": "code",
   "execution_count": 756,
   "metadata": {},
   "outputs": [
    {
     "data": {
      "text/html": [
       "<div>\n",
       "<style scoped>\n",
       "    .dataframe tbody tr th:only-of-type {\n",
       "        vertical-align: middle;\n",
       "    }\n",
       "\n",
       "    .dataframe tbody tr th {\n",
       "        vertical-align: top;\n",
       "    }\n",
       "\n",
       "    .dataframe thead th {\n",
       "        text-align: right;\n",
       "    }\n",
       "</style>\n",
       "<table border=\"1\" class=\"dataframe\">\n",
       "  <thead>\n",
       "    <tr style=\"text-align: right;\">\n",
       "      <th></th>\n",
       "      <th>house_id</th>\n",
       "      <th>consumption</th>\n",
       "    </tr>\n",
       "    <tr>\n",
       "      <th>DateTime</th>\n",
       "      <th></th>\n",
       "      <th></th>\n",
       "    </tr>\n",
       "  </thead>\n",
       "  <tbody>\n",
       "    <tr>\n",
       "      <th>2012-10-12 00:30:00</th>\n",
       "      <td>MAC000002</td>\n",
       "      <td>0</td>\n",
       "    </tr>\n",
       "    <tr>\n",
       "      <th>2012-10-12 01:00:00</th>\n",
       "      <td>MAC000002</td>\n",
       "      <td>0</td>\n",
       "    </tr>\n",
       "    <tr>\n",
       "      <th>2012-10-12 01:30:00</th>\n",
       "      <td>MAC000002</td>\n",
       "      <td>0</td>\n",
       "    </tr>\n",
       "    <tr>\n",
       "      <th>2012-10-12 02:00:00</th>\n",
       "      <td>MAC000002</td>\n",
       "      <td>0</td>\n",
       "    </tr>\n",
       "    <tr>\n",
       "      <th>2012-10-12 02:30:00</th>\n",
       "      <td>MAC000002</td>\n",
       "      <td>0</td>\n",
       "    </tr>\n",
       "  </tbody>\n",
       "</table>\n",
       "</div>"
      ],
      "text/plain": [
       "                      house_id consumption\n",
       "DateTime                                  \n",
       "2012-10-12 00:30:00  MAC000002          0 \n",
       "2012-10-12 01:00:00  MAC000002          0 \n",
       "2012-10-12 01:30:00  MAC000002          0 \n",
       "2012-10-12 02:00:00  MAC000002          0 \n",
       "2012-10-12 02:30:00  MAC000002          0 "
      ]
     },
     "execution_count": 756,
     "metadata": {},
     "output_type": "execute_result"
    }
   ],
   "source": [
    "dti = pd.to_datetime(df['DateTime'])\n",
    "df_reduced = df[['LCLid', 'KWH/hh (per half hour) ']].copy()\n",
    "df_reduced.columns = ['house_id', 'consumption']\n",
    "df_reduced = df_reduced.set_index(dti)\n",
    "df_reduced.head()"
   ]
  },
  {
   "cell_type": "code",
   "execution_count": 757,
   "metadata": {},
   "outputs": [],
   "source": [
    "df_reduced['consumption'] = df_reduced['consumption'].apply(lambda x: float(x) if x != 'Null' else np.nan)"
   ]
  },
  {
   "cell_type": "code",
   "execution_count": 758,
   "metadata": {},
   "outputs": [
    {
     "name": "stdout",
     "output_type": "stream",
     "text": [
      "<class 'pandas.core.frame.DataFrame'>\n",
      "DatetimeIndex: 1000000 entries, 2012-10-12 00:30:00 to 2012-11-08 10:00:00\n",
      "Data columns (total 2 columns):\n",
      " #   Column       Non-Null Count    Dtype  \n",
      "---  ------       --------------    -----  \n",
      " 0   house_id     1000000 non-null  object \n",
      " 1   consumption  999971 non-null   float64\n",
      "dtypes: float64(1), object(1)\n",
      "memory usage: 22.9+ MB\n"
     ]
    }
   ],
   "source": [
    "df_reduced.info()"
   ]
  },
  {
   "cell_type": "code",
   "execution_count": 759,
   "metadata": {},
   "outputs": [],
   "source": [
    "df_reduced = df_reduced.dropna()"
   ]
  },
  {
   "cell_type": "code",
   "execution_count": 760,
   "metadata": {},
   "outputs": [
    {
     "name": "stdout",
     "output_type": "stream",
     "text": [
      "<class 'pandas.core.frame.DataFrame'>\n",
      "DatetimeIndex: 999971 entries, 2012-10-12 00:30:00 to 2012-11-08 10:00:00\n",
      "Data columns (total 2 columns):\n",
      " #   Column       Non-Null Count   Dtype  \n",
      "---  ------       --------------   -----  \n",
      " 0   house_id     999971 non-null  object \n",
      " 1   consumption  999971 non-null  float64\n",
      "dtypes: float64(1), object(1)\n",
      "memory usage: 22.9+ MB\n"
     ]
    }
   ],
   "source": [
    "df_reduced.info()"
   ]
  },
  {
   "cell_type": "code",
   "execution_count": 761,
   "metadata": {},
   "outputs": [
    {
     "data": {
      "text/html": [
       "<div>\n",
       "<style scoped>\n",
       "    .dataframe tbody tr th:only-of-type {\n",
       "        vertical-align: middle;\n",
       "    }\n",
       "\n",
       "    .dataframe tbody tr th {\n",
       "        vertical-align: top;\n",
       "    }\n",
       "\n",
       "    .dataframe thead th {\n",
       "        text-align: right;\n",
       "    }\n",
       "</style>\n",
       "<table border=\"1\" class=\"dataframe\">\n",
       "  <thead>\n",
       "    <tr style=\"text-align: right;\">\n",
       "      <th></th>\n",
       "      <th>house_id</th>\n",
       "      <th>consumption</th>\n",
       "    </tr>\n",
       "    <tr>\n",
       "      <th>DateTime</th>\n",
       "      <th></th>\n",
       "      <th></th>\n",
       "    </tr>\n",
       "  </thead>\n",
       "  <tbody>\n",
       "    <tr>\n",
       "      <th>2012-10-12 00:30:00</th>\n",
       "      <td>MAC000002</td>\n",
       "      <td>0.0</td>\n",
       "    </tr>\n",
       "    <tr>\n",
       "      <th>2012-10-12 01:00:00</th>\n",
       "      <td>MAC000002</td>\n",
       "      <td>0.0</td>\n",
       "    </tr>\n",
       "    <tr>\n",
       "      <th>2012-10-12 01:30:00</th>\n",
       "      <td>MAC000002</td>\n",
       "      <td>0.0</td>\n",
       "    </tr>\n",
       "    <tr>\n",
       "      <th>2012-10-12 02:00:00</th>\n",
       "      <td>MAC000002</td>\n",
       "      <td>0.0</td>\n",
       "    </tr>\n",
       "    <tr>\n",
       "      <th>2012-10-12 02:30:00</th>\n",
       "      <td>MAC000002</td>\n",
       "      <td>0.0</td>\n",
       "    </tr>\n",
       "  </tbody>\n",
       "</table>\n",
       "</div>"
      ],
      "text/plain": [
       "                      house_id  consumption\n",
       "DateTime                                   \n",
       "2012-10-12 00:30:00  MAC000002          0.0\n",
       "2012-10-12 01:00:00  MAC000002          0.0\n",
       "2012-10-12 01:30:00  MAC000002          0.0\n",
       "2012-10-12 02:00:00  MAC000002          0.0\n",
       "2012-10-12 02:30:00  MAC000002          0.0"
      ]
     },
     "execution_count": 761,
     "metadata": {},
     "output_type": "execute_result"
    }
   ],
   "source": [
    "df_reduced.head()"
   ]
  },
  {
   "cell_type": "code",
   "execution_count": 762,
   "metadata": {},
   "outputs": [],
   "source": [
    "# get weather\n",
    "weather_file = '/Users/rohannuttall/Downloads/weather_hourly_darksky.csv'\n",
    "weather = pd.read_csv(weather_file)"
   ]
  },
  {
   "cell_type": "code",
   "execution_count": 763,
   "metadata": {},
   "outputs": [
    {
     "data": {
      "text/html": [
       "<div>\n",
       "<style scoped>\n",
       "    .dataframe tbody tr th:only-of-type {\n",
       "        vertical-align: middle;\n",
       "    }\n",
       "\n",
       "    .dataframe tbody tr th {\n",
       "        vertical-align: top;\n",
       "    }\n",
       "\n",
       "    .dataframe thead th {\n",
       "        text-align: right;\n",
       "    }\n",
       "</style>\n",
       "<table border=\"1\" class=\"dataframe\">\n",
       "  <thead>\n",
       "    <tr style=\"text-align: right;\">\n",
       "      <th></th>\n",
       "      <th>visibility</th>\n",
       "      <th>windBearing</th>\n",
       "      <th>temperature</th>\n",
       "      <th>time</th>\n",
       "      <th>dewPoint</th>\n",
       "      <th>pressure</th>\n",
       "      <th>apparentTemperature</th>\n",
       "      <th>windSpeed</th>\n",
       "      <th>precipType</th>\n",
       "      <th>icon</th>\n",
       "      <th>humidity</th>\n",
       "      <th>summary</th>\n",
       "    </tr>\n",
       "  </thead>\n",
       "  <tbody>\n",
       "    <tr>\n",
       "      <th>0</th>\n",
       "      <td>5.97</td>\n",
       "      <td>104</td>\n",
       "      <td>10.24</td>\n",
       "      <td>2011-11-11 00:00:00</td>\n",
       "      <td>8.86</td>\n",
       "      <td>1016.76</td>\n",
       "      <td>10.24</td>\n",
       "      <td>2.77</td>\n",
       "      <td>rain</td>\n",
       "      <td>partly-cloudy-night</td>\n",
       "      <td>0.91</td>\n",
       "      <td>Partly Cloudy</td>\n",
       "    </tr>\n",
       "    <tr>\n",
       "      <th>1</th>\n",
       "      <td>4.88</td>\n",
       "      <td>99</td>\n",
       "      <td>9.76</td>\n",
       "      <td>2011-11-11 01:00:00</td>\n",
       "      <td>8.83</td>\n",
       "      <td>1016.63</td>\n",
       "      <td>8.24</td>\n",
       "      <td>2.95</td>\n",
       "      <td>rain</td>\n",
       "      <td>partly-cloudy-night</td>\n",
       "      <td>0.94</td>\n",
       "      <td>Partly Cloudy</td>\n",
       "    </tr>\n",
       "    <tr>\n",
       "      <th>2</th>\n",
       "      <td>3.70</td>\n",
       "      <td>98</td>\n",
       "      <td>9.46</td>\n",
       "      <td>2011-11-11 02:00:00</td>\n",
       "      <td>8.79</td>\n",
       "      <td>1016.36</td>\n",
       "      <td>7.76</td>\n",
       "      <td>3.17</td>\n",
       "      <td>rain</td>\n",
       "      <td>partly-cloudy-night</td>\n",
       "      <td>0.96</td>\n",
       "      <td>Partly Cloudy</td>\n",
       "    </tr>\n",
       "    <tr>\n",
       "      <th>3</th>\n",
       "      <td>3.12</td>\n",
       "      <td>99</td>\n",
       "      <td>9.23</td>\n",
       "      <td>2011-11-11 03:00:00</td>\n",
       "      <td>8.63</td>\n",
       "      <td>1016.28</td>\n",
       "      <td>7.44</td>\n",
       "      <td>3.25</td>\n",
       "      <td>rain</td>\n",
       "      <td>fog</td>\n",
       "      <td>0.96</td>\n",
       "      <td>Foggy</td>\n",
       "    </tr>\n",
       "    <tr>\n",
       "      <th>4</th>\n",
       "      <td>1.85</td>\n",
       "      <td>111</td>\n",
       "      <td>9.26</td>\n",
       "      <td>2011-11-11 04:00:00</td>\n",
       "      <td>9.21</td>\n",
       "      <td>1015.98</td>\n",
       "      <td>7.24</td>\n",
       "      <td>3.70</td>\n",
       "      <td>rain</td>\n",
       "      <td>fog</td>\n",
       "      <td>1.00</td>\n",
       "      <td>Foggy</td>\n",
       "    </tr>\n",
       "  </tbody>\n",
       "</table>\n",
       "</div>"
      ],
      "text/plain": [
       "   visibility  windBearing  temperature                 time  dewPoint  \\\n",
       "0        5.97          104        10.24  2011-11-11 00:00:00      8.86   \n",
       "1        4.88           99         9.76  2011-11-11 01:00:00      8.83   \n",
       "2        3.70           98         9.46  2011-11-11 02:00:00      8.79   \n",
       "3        3.12           99         9.23  2011-11-11 03:00:00      8.63   \n",
       "4        1.85          111         9.26  2011-11-11 04:00:00      9.21   \n",
       "\n",
       "   pressure  apparentTemperature  windSpeed precipType                 icon  \\\n",
       "0   1016.76                10.24       2.77       rain  partly-cloudy-night   \n",
       "1   1016.63                 8.24       2.95       rain  partly-cloudy-night   \n",
       "2   1016.36                 7.76       3.17       rain  partly-cloudy-night   \n",
       "3   1016.28                 7.44       3.25       rain                  fog   \n",
       "4   1015.98                 7.24       3.70       rain                  fog   \n",
       "\n",
       "   humidity        summary  \n",
       "0      0.91  Partly Cloudy  \n",
       "1      0.94  Partly Cloudy  \n",
       "2      0.96  Partly Cloudy  \n",
       "3      0.96          Foggy  \n",
       "4      1.00          Foggy  "
      ]
     },
     "execution_count": 763,
     "metadata": {},
     "output_type": "execute_result"
    }
   ],
   "source": [
    "weather.head()"
   ]
  },
  {
   "cell_type": "code",
   "execution_count": 764,
   "metadata": {},
   "outputs": [],
   "source": [
    "dti_wd = pd.to_datetime(weather['time'])\n",
    "weather_reduced = weather[['temperature']].copy()\n",
    "weather_reduced = weather_reduced.set_index(dti_wd)"
   ]
  },
  {
   "cell_type": "code",
   "execution_count": 796,
   "metadata": {},
   "outputs": [],
   "source": [
    "df_merged = pd.merge(df_reduced, weather_reduced,\n",
    "                    how='outer', left_index=True, right_index=True)"
   ]
  },
  {
   "cell_type": "code",
   "execution_count": 797,
   "metadata": {},
   "outputs": [],
   "source": [
    "df_merged = df_merged.groupby('house_id').resample('D').mean()"
   ]
  },
  {
   "cell_type": "code",
   "execution_count": 798,
   "metadata": {},
   "outputs": [],
   "source": [
    "house_ids = df_merged.index.unique('house_id').values"
   ]
  },
  {
   "cell_type": "code",
   "execution_count": 799,
   "metadata": {},
   "outputs": [],
   "source": [
    "df_merged = df_merged.dropna()"
   ]
  },
  {
   "cell_type": "code",
   "execution_count": 800,
   "metadata": {
    "scrolled": true
   },
   "outputs": [
    {
     "data": {
      "text/html": [
       "<div>\n",
       "<style scoped>\n",
       "    .dataframe tbody tr th:only-of-type {\n",
       "        vertical-align: middle;\n",
       "    }\n",
       "\n",
       "    .dataframe tbody tr th {\n",
       "        vertical-align: top;\n",
       "    }\n",
       "\n",
       "    .dataframe thead th {\n",
       "        text-align: right;\n",
       "    }\n",
       "</style>\n",
       "<table border=\"1\" class=\"dataframe\">\n",
       "  <thead>\n",
       "    <tr style=\"text-align: right;\">\n",
       "      <th></th>\n",
       "      <th></th>\n",
       "      <th>consumption</th>\n",
       "      <th>temperature</th>\n",
       "    </tr>\n",
       "    <tr>\n",
       "      <th>house_id</th>\n",
       "      <th></th>\n",
       "      <th></th>\n",
       "      <th></th>\n",
       "    </tr>\n",
       "  </thead>\n",
       "  <tbody>\n",
       "    <tr>\n",
       "      <th rowspan=\"11\" valign=\"top\">MAC000007</th>\n",
       "      <th>2012-09-24</th>\n",
       "      <td>0.206417</td>\n",
       "      <td>13.023333</td>\n",
       "    </tr>\n",
       "    <tr>\n",
       "      <th>2012-09-25</th>\n",
       "      <td>0.220833</td>\n",
       "      <td>12.442917</td>\n",
       "    </tr>\n",
       "    <tr>\n",
       "      <th>2012-09-26</th>\n",
       "      <td>0.217250</td>\n",
       "      <td>12.124167</td>\n",
       "    </tr>\n",
       "    <tr>\n",
       "      <th>2012-09-27</th>\n",
       "      <td>0.242750</td>\n",
       "      <td>12.809583</td>\n",
       "    </tr>\n",
       "    <tr>\n",
       "      <th>2012-09-28</th>\n",
       "      <td>0.076833</td>\n",
       "      <td>12.326667</td>\n",
       "    </tr>\n",
       "    <tr>\n",
       "      <th>...</th>\n",
       "      <td>...</td>\n",
       "      <td>...</td>\n",
       "    </tr>\n",
       "    <tr>\n",
       "      <th>2014-02-24</th>\n",
       "      <td>0.215271</td>\n",
       "      <td>10.570000</td>\n",
       "    </tr>\n",
       "    <tr>\n",
       "      <th>2014-02-25</th>\n",
       "      <td>0.200937</td>\n",
       "      <td>8.760417</td>\n",
       "    </tr>\n",
       "    <tr>\n",
       "      <th>2014-02-26</th>\n",
       "      <td>0.154208</td>\n",
       "      <td>7.478750</td>\n",
       "    </tr>\n",
       "    <tr>\n",
       "      <th>2014-02-27</th>\n",
       "      <td>0.190729</td>\n",
       "      <td>7.550000</td>\n",
       "    </tr>\n",
       "    <tr>\n",
       "      <th>2014-02-28</th>\n",
       "      <td>0.060000</td>\n",
       "      <td>3.810000</td>\n",
       "    </tr>\n",
       "  </tbody>\n",
       "</table>\n",
       "<p>523 rows × 2 columns</p>\n",
       "</div>"
      ],
      "text/plain": [
       "                      consumption  temperature\n",
       "house_id                                      \n",
       "MAC000007 2012-09-24     0.206417    13.023333\n",
       "          2012-09-25     0.220833    12.442917\n",
       "          2012-09-26     0.217250    12.124167\n",
       "          2012-09-27     0.242750    12.809583\n",
       "          2012-09-28     0.076833    12.326667\n",
       "...                           ...          ...\n",
       "          2014-02-24     0.215271    10.570000\n",
       "          2014-02-25     0.200937     8.760417\n",
       "          2014-02-26     0.154208     7.478750\n",
       "          2014-02-27     0.190729     7.550000\n",
       "          2014-02-28     0.060000     3.810000\n",
       "\n",
       "[523 rows x 2 columns]"
      ]
     },
     "execution_count": 800,
     "metadata": {},
     "output_type": "execute_result"
    }
   ],
   "source": [
    "df_merged.loc[['MAC000007']]"
   ]
  },
  {
   "cell_type": "code",
   "execution_count": 801,
   "metadata": {},
   "outputs": [],
   "source": [
    "# created lagged observations: predict future consumption as a function\n",
    "# of historical consumption and weather data"
   ]
  },
  {
   "cell_type": "code",
   "execution_count": 802,
   "metadata": {},
   "outputs": [],
   "source": [
    "# need to go through each house, create the lagged data, and then \n",
    "# remerge into a dataframe that can be indexed... "
   ]
  },
  {
   "cell_type": "code",
   "execution_count": 877,
   "metadata": {},
   "outputs": [],
   "source": [
    "all_houses_train = pd.DataFrame()\n",
    "for house in house_ids[:-2]:#[1:4]:\n",
    "    df_to_featurize = df_merged.copy()\n",
    "    for lag_step in [1,2,3,4,5]:\n",
    "        df_to_featurize.insert(len(df_to_featurize.columns), 'consumption_sub{}'.format(lag_step), np.nan)\n",
    "        df_to_featurize.insert(len(df_to_featurize.columns), 'temperature_sub{}'.format(lag_step), np.nan)\n",
    "        df_to_featurize.loc[house]['consumption_sub{}'.format(lag_step)] = df_to_featurize.loc[house]['consumption'].shift(lag_step)\n",
    "        df_to_featurize.loc[house]['temperature_sub{}'.format(lag_step)] = df_to_featurize.loc[house]['temperature'].shift(lag_step)\n",
    "    house_id = df_to_featurize.loc[house]\n",
    "    house_id = house_id.dropna()\n",
    "    all_houses_train= pd.concat([all_houses_train,house_id])\n",
    "    house_id.to_pickle('daily/{}.pkl'.format(house))"
   ]
  },
  {
   "cell_type": "code",
   "execution_count": 878,
   "metadata": {},
   "outputs": [],
   "source": [
    "all_houses_test = pd.DataFrame()\n",
    "for house in house_ids[-2:]:#[4:5]:\n",
    "    df_to_featurize = df_merged.copy()\n",
    "    for lag_step in [1,2,3,4,5]:\n",
    "        df_to_featurize.insert(len(df_to_featurize.columns), 'consumption_sub{}'.format(lag_step), np.nan)\n",
    "        df_to_featurize.insert(len(df_to_featurize.columns), 'temperature_sub{}'.format(lag_step), np.nan)\n",
    "        df_to_featurize.loc[house]['consumption_sub{}'.format(lag_step)] = df_to_featurize.loc[house]['consumption'].shift(lag_step)\n",
    "        df_to_featurize.loc[house]['temperature_sub{}'.format(lag_step)] = df_to_featurize.loc[house]['temperature'].shift(lag_step)\n",
    "    house_id = df_to_featurize.loc[house]\n",
    "    house_id = house_id.dropna()\n",
    "    all_houses_test= pd.concat([all_houses_test,house_id])\n",
    "    house_id.to_pickle('daily/{}.pkl'.format(house))"
   ]
  },
  {
   "cell_type": "code",
   "execution_count": 894,
   "metadata": {},
   "outputs": [
    {
     "data": {
      "text/html": [
       "<div>\n",
       "<style scoped>\n",
       "    .dataframe tbody tr th:only-of-type {\n",
       "        vertical-align: middle;\n",
       "    }\n",
       "\n",
       "    .dataframe tbody tr th {\n",
       "        vertical-align: top;\n",
       "    }\n",
       "\n",
       "    .dataframe thead th {\n",
       "        text-align: right;\n",
       "    }\n",
       "</style>\n",
       "<table border=\"1\" class=\"dataframe\">\n",
       "  <thead>\n",
       "    <tr style=\"text-align: right;\">\n",
       "      <th></th>\n",
       "      <th>consumption</th>\n",
       "      <th>temperature</th>\n",
       "      <th>consumption_sub1</th>\n",
       "      <th>temperature_sub1</th>\n",
       "      <th>consumption_sub2</th>\n",
       "      <th>temperature_sub2</th>\n",
       "      <th>consumption_sub3</th>\n",
       "      <th>temperature_sub3</th>\n",
       "      <th>consumption_sub4</th>\n",
       "      <th>temperature_sub4</th>\n",
       "      <th>consumption_sub5</th>\n",
       "      <th>temperature_sub5</th>\n",
       "    </tr>\n",
       "  </thead>\n",
       "  <tbody>\n",
       "    <tr>\n",
       "      <th>2012-10-17</th>\n",
       "      <td>0.226771</td>\n",
       "      <td>13.240000</td>\n",
       "      <td>0.203521</td>\n",
       "      <td>11.607500</td>\n",
       "      <td>0.213688</td>\n",
       "      <td>9.235833</td>\n",
       "      <td>0.275479</td>\n",
       "      <td>7.736250</td>\n",
       "      <td>0.230979</td>\n",
       "      <td>8.591250</td>\n",
       "      <td>0.154304</td>\n",
       "      <td>11.234545</td>\n",
       "    </tr>\n",
       "    <tr>\n",
       "      <th>2012-10-18</th>\n",
       "      <td>0.223979</td>\n",
       "      <td>13.836667</td>\n",
       "      <td>0.226771</td>\n",
       "      <td>13.240000</td>\n",
       "      <td>0.203521</td>\n",
       "      <td>11.607500</td>\n",
       "      <td>0.213688</td>\n",
       "      <td>9.235833</td>\n",
       "      <td>0.275479</td>\n",
       "      <td>7.736250</td>\n",
       "      <td>0.230979</td>\n",
       "      <td>8.591250</td>\n",
       "    </tr>\n",
       "    <tr>\n",
       "      <th>2012-10-19</th>\n",
       "      <td>0.175646</td>\n",
       "      <td>12.339167</td>\n",
       "      <td>0.223979</td>\n",
       "      <td>13.836667</td>\n",
       "      <td>0.226771</td>\n",
       "      <td>13.240000</td>\n",
       "      <td>0.203521</td>\n",
       "      <td>11.607500</td>\n",
       "      <td>0.213688</td>\n",
       "      <td>9.235833</td>\n",
       "      <td>0.275479</td>\n",
       "      <td>7.736250</td>\n",
       "    </tr>\n",
       "    <tr>\n",
       "      <th>2012-10-20</th>\n",
       "      <td>0.358735</td>\n",
       "      <td>11.668800</td>\n",
       "      <td>0.175646</td>\n",
       "      <td>12.339167</td>\n",
       "      <td>0.223979</td>\n",
       "      <td>13.836667</td>\n",
       "      <td>0.226771</td>\n",
       "      <td>13.240000</td>\n",
       "      <td>0.203521</td>\n",
       "      <td>11.607500</td>\n",
       "      <td>0.213688</td>\n",
       "      <td>9.235833</td>\n",
       "    </tr>\n",
       "    <tr>\n",
       "      <th>2012-10-21</th>\n",
       "      <td>0.510208</td>\n",
       "      <td>11.346667</td>\n",
       "      <td>0.358735</td>\n",
       "      <td>11.668800</td>\n",
       "      <td>0.175646</td>\n",
       "      <td>12.339167</td>\n",
       "      <td>0.223979</td>\n",
       "      <td>13.836667</td>\n",
       "      <td>0.226771</td>\n",
       "      <td>13.240000</td>\n",
       "      <td>0.203521</td>\n",
       "      <td>11.607500</td>\n",
       "    </tr>\n",
       "  </tbody>\n",
       "</table>\n",
       "</div>"
      ],
      "text/plain": [
       "            consumption  temperature  consumption_sub1  temperature_sub1  \\\n",
       "2012-10-17     0.226771    13.240000          0.203521         11.607500   \n",
       "2012-10-18     0.223979    13.836667          0.226771         13.240000   \n",
       "2012-10-19     0.175646    12.339167          0.223979         13.836667   \n",
       "2012-10-20     0.358735    11.668800          0.175646         12.339167   \n",
       "2012-10-21     0.510208    11.346667          0.358735         11.668800   \n",
       "\n",
       "            consumption_sub2  temperature_sub2  consumption_sub3  \\\n",
       "2012-10-17          0.213688          9.235833          0.275479   \n",
       "2012-10-18          0.203521         11.607500          0.213688   \n",
       "2012-10-19          0.226771         13.240000          0.203521   \n",
       "2012-10-20          0.223979         13.836667          0.226771   \n",
       "2012-10-21          0.175646         12.339167          0.223979   \n",
       "\n",
       "            temperature_sub3  consumption_sub4  temperature_sub4  \\\n",
       "2012-10-17          7.736250          0.230979          8.591250   \n",
       "2012-10-18          9.235833          0.275479          7.736250   \n",
       "2012-10-19         11.607500          0.213688          9.235833   \n",
       "2012-10-20         13.240000          0.203521         11.607500   \n",
       "2012-10-21         13.836667          0.226771         13.240000   \n",
       "\n",
       "            consumption_sub5  temperature_sub5  \n",
       "2012-10-17          0.154304         11.234545  \n",
       "2012-10-18          0.230979          8.591250  \n",
       "2012-10-19          0.275479          7.736250  \n",
       "2012-10-20          0.213688          9.235833  \n",
       "2012-10-21          0.203521         11.607500  "
      ]
     },
     "execution_count": 894,
     "metadata": {},
     "output_type": "execute_result"
    }
   ],
   "source": [
    "all_houses_train.head()"
   ]
  },
  {
   "cell_type": "code",
   "execution_count": 851,
   "metadata": {},
   "outputs": [],
   "source": [
    "import torch\n",
    "from __future__ import print_function, division\n",
    "import os\n",
    "import matplotlib.pyplot as plt\n",
    "from torch.utils.data import Dataset, DataLoader\n",
    "from torchvision import transforms, utils\n",
    "import numpy as np\n",
    "import torch.nn as nn\n",
    "import torch.nn.functional as F\n",
    "from tqdm import tqdm\n",
    "from sklearn.metrics import mean_squared_error, r2_score"
   ]
  },
  {
   "cell_type": "code",
   "execution_count": 852,
   "metadata": {},
   "outputs": [],
   "source": [
    "class LondonEnergyDataset(Dataset):\n",
    "    \"\"\"\n",
    "    Wrapper for London household energy consumption dataset.\n",
    "\n",
    "    \"\"\"\n",
    "\n",
    "    def __init__(self, dataframe, transform=None):\n",
    "        self.data = dataframe\n",
    "        self.transform = transform\n",
    "\n",
    "    def __len__(self):\n",
    "        return len(self.data)\n",
    "\n",
    "    def __getitem__(self, index):\n",
    "        sample = self.data.iloc[index]\n",
    "        X = np.array([sample[1:]], dtype=\"float32\")\n",
    "        y = torch.FloatTensor(np.array([sample[0]], dtype=\"float32\"))\n",
    "        if self.transform:\n",
    "            return self.transform(X), y\n",
    "        else:\n",
    "            return X, y"
   ]
  },
  {
   "cell_type": "code",
   "execution_count": 886,
   "metadata": {},
   "outputs": [],
   "source": [
    "df = pd.read_pickle('houses/MAC000002.pkl')"
   ]
  },
  {
   "cell_type": "code",
   "execution_count": 887,
   "metadata": {},
   "outputs": [
    {
     "data": {
      "text/plain": [
       "Text(0.5, 0, 'Energy Consumption')"
      ]
     },
     "execution_count": 887,
     "metadata": {},
     "output_type": "execute_result"
    },
    {
     "data": {
      "image/png": "[encoded data removed]",
      "text/plain": [
       "<Figure size 432x288 with 1 Axes>"
      ]
     },
     "metadata": {
      "needs_background": "light"
     },
     "output_type": "display_data"
    }
   ],
   "source": [
    "plt.figure()\n",
    "df['consumption'].hist(bins=300)\n",
    "plt.ylabel('Counts')\n",
    "plt.xlabel('Energy Consumption')"
   ]
  },
  {
   "cell_type": "code",
   "execution_count": 854,
   "metadata": {},
   "outputs": [],
   "source": [
    "df = all_houses.copy()"
   ]
  },
  {
   "cell_type": "code",
   "execution_count": 812,
   "metadata": {},
   "outputs": [],
   "source": [
    "train_size = int(0.8 * len(df))\n",
    "train_df = df[:train_size]\n",
    "test_df = df[train_size+1:]\n",
    "\n",
    "apply_transform = transforms.Compose([\n",
    "    transforms.ToTensor()\n",
    "])"
   ]
  },
  {
   "cell_type": "code",
   "execution_count": 855,
   "metadata": {},
   "outputs": [],
   "source": [
    "# for standardized comparison, train and test on same houses\n",
    "# train_df = df_merged.loc[['MAC000003','MAC000004','MAC000006']]\n",
    "# test_df = df_merged.loc['MAC000007']\n",
    "train_df = all_houses_train\n",
    "test_df = all_houses_test"
   ]
  },
  {
   "cell_type": "code",
   "execution_count": 856,
   "metadata": {},
   "outputs": [],
   "source": [
    "train_dataset = LondonEnergyDataset(train_df, transform=apply_transform)\n",
    "test_dataset = LondonEnergyDataset(test_df, transform=apply_transform)"
   ]
  },
  {
   "cell_type": "code",
   "execution_count": 857,
   "metadata": {},
   "outputs": [],
   "source": [
    "# TODO \n",
    "# [X] Create dataframes resampled for hours, days\n",
    "# [X] Join to weather data from https://www.kaggle.com/jeanmidev/smart-meters-in-london?select=weather_hourly_darksky.csv\n",
    "# [X] Pytorch dataloaders for train, test for \"Virtual Workers\" to simulate each house\n",
    "# [X] Train with MLP \n",
    "# [X] Re-run experiments with federated learning, LDP, CDP\n",
    "# [ ] LSTM\n",
    "# [ ] Implement hierarchical clustering?\n",
    "# [ ] Moment accountant?"
   ]
  },
  {
   "cell_type": "code",
   "execution_count": 858,
   "metadata": {},
   "outputs": [],
   "source": [
    "def seed_everything(seed=1234):\n",
    "    torch.manual_seed(seed)\n",
    "    np.random.seed(seed)"
   ]
  },
  {
   "cell_type": "code",
   "execution_count": 859,
   "metadata": {},
   "outputs": [],
   "source": [
    "class MLP(nn.Module):\n",
    "    def __init__(self, dim_in, dim_hidden, dim_out):\n",
    "        super(MLP, self).__init__()\n",
    "        self.layer_input = nn.Linear(dim_in, dim_hidden)\n",
    "        self.relu = nn.ReLU()\n",
    "        self.dropout = nn.Dropout()\n",
    "        self.layer_hidden = nn.Linear(dim_hidden, dim_out)\n",
    "\n",
    "    def forward(self, x):\n",
    "        x = self.layer_input(x)\n",
    "        x = self.dropout(x)\n",
    "        x = self.relu(x)\n",
    "        x = self.layer_hidden(x)\n",
    "        return x.view(-1,1)"
   ]
  },
  {
   "cell_type": "code",
   "execution_count": 860,
   "metadata": {},
   "outputs": [],
   "source": [
    "class MLP2(nn.Module):\n",
    "    def __init__(self, dim_in, dim_hidden1, dim_hidden2, dim_out):\n",
    "        super(MLP2, self).__init__()\n",
    "        self.fc1 = nn.Linear(dim_in, dim_hidden1)\n",
    "        self.fc2 = nn.Linear(dim_hidden1, dim_hidden2)\n",
    "        self.dropout1 = nn.Dropout()\n",
    "        self.dropout2 = nn.Dropout()\n",
    "        self.output = nn.Linear(dim_hidden2, dim_out)\n",
    "\n",
    "    def forward(self, x):\n",
    "        x = self.fc1(x)\n",
    "        x = F.relu(x)\n",
    "        x = self.dropout1(x)\n",
    "        x = self.fc2(x)\n",
    "        x = F.relu(x)\n",
    "        x = self.dropout2(x)\n",
    "        x = self.output(x)\n",
    "        return x.view(-1,1)"
   ]
  },
  {
   "cell_type": "code",
   "execution_count": 861,
   "metadata": {},
   "outputs": [],
   "source": [
    "def test_inference(model, test_dataset):\n",
    "    \"\"\" Returns the test accuracy and loss.\n",
    "    \"\"\"\n",
    "\n",
    "    model.eval()\n",
    "    loss = []\n",
    "    r2 = []\n",
    "    testloader = DataLoader(test_dataset, batch_size=128,\n",
    "                            shuffle=False)\n",
    "    \n",
    "    for batch_idx, (features, labels) in enumerate(testloader):\n",
    "        # Inference\n",
    "        outputs = model(features)\n",
    "        batch_loss = mean_squared_error(labels.detach().numpy(), \n",
    "                                        outputs.detach().numpy())\n",
    "        loss.append(batch_loss)\n",
    "        r_sq = r2_score(labels.detach().numpy(), outputs.detach().numpy())\n",
    "        r2.append(r_sq)\n",
    "    return np.mean(loss), np.mean(r2)"
   ]
  },
  {
   "cell_type": "code",
   "execution_count": 882,
   "metadata": {},
   "outputs": [
    {
     "data": {
      "text/plain": [
       "11"
      ]
     },
     "execution_count": 882,
     "metadata": {},
     "output_type": "execute_result"
    }
   ],
   "source": [
    "train_df.shape[1]-1"
   ]
  },
  {
   "cell_type": "code",
   "execution_count": 862,
   "metadata": {},
   "outputs": [
    {
     "name": "stderr",
     "output_type": "stream",
     "text": [
      "\r",
      "  0%|          | 0/500 [00:00<?, ?it/s]"
     ]
    },
    {
     "name": "stdout",
     "output_type": "stream",
     "text": [
      "Train Epoch: 1 [0/19577 (0%)]\tLoss: 1.970436\n",
      "Train Epoch: 1 [3200/19577 (16%)]\tLoss: 0.313259\n",
      "Train Epoch: 1 [6400/19577 (33%)]\tLoss: 0.160398\n",
      "Train Epoch: 1 [9600/19577 (49%)]\tLoss: 0.209066\n",
      "Train Epoch: 1 [12800/19577 (65%)]\tLoss: 0.119667\n",
      "Train Epoch: 1 [16000/19577 (82%)]\tLoss: 0.155964\n",
      "Train Epoch: 1 [19200/19577 (98%)]\tLoss: 0.078465\n",
      "\n",
      "Train loss: 0.2257974284268867\n"
     ]
    },
    {
     "name": "stderr",
     "output_type": "stream",
     "text": [
      "\r",
      "  0%|          | 1/500 [00:08<1:09:12,  8.32s/it]"
     ]
    },
    {
     "name": "stdout",
     "output_type": "stream",
     "text": [
      "Test on 1143 samples\n",
      "R^2: -64.36\n",
      "Test Loss: 11.15%\n",
      "Train Epoch: 2 [0/19577 (0%)]\tLoss: 0.032116\n",
      "Train Epoch: 2 [3200/19577 (16%)]\tLoss: 0.035546\n",
      "Train Epoch: 2 [6400/19577 (33%)]\tLoss: 0.065488\n",
      "Train Epoch: 2 [9600/19577 (49%)]\tLoss: 0.034710\n",
      "Train Epoch: 2 [12800/19577 (65%)]\tLoss: 0.030920\n",
      "Train Epoch: 2 [16000/19577 (82%)]\tLoss: 0.023051\n",
      "Train Epoch: 2 [19200/19577 (98%)]\tLoss: 0.050540\n",
      "\n",
      "Train loss: 0.04835989145756839\n"
     ]
    },
    {
     "name": "stderr",
     "output_type": "stream",
     "text": [
      "\r",
      "  0%|          | 2/500 [00:15<1:07:17,  8.11s/it]"
     ]
    },
    {
     "name": "stdout",
     "output_type": "stream",
     "text": [
      "Test on 1143 samples\n",
      "R^2: -122.93\n",
      "Test Loss: 9.75%\n",
      "Train Epoch: 3 [0/19577 (0%)]\tLoss: 0.045032\n",
      "Train Epoch: 3 [3200/19577 (16%)]\tLoss: 0.035165\n",
      "Train Epoch: 3 [6400/19577 (33%)]\tLoss: 0.028982\n",
      "Train Epoch: 3 [9600/19577 (49%)]\tLoss: 0.042970\n",
      "Train Epoch: 3 [12800/19577 (65%)]\tLoss: 0.050935\n",
      "Train Epoch: 3 [16000/19577 (82%)]\tLoss: 0.035647\n",
      "Train Epoch: 3 [19200/19577 (98%)]\tLoss: 0.028144\n",
      "\n",
      "Train loss: 0.045754220196672905\n"
     ]
    },
    {
     "name": "stderr",
     "output_type": "stream",
     "text": [
      "\r",
      "  1%|          | 3/500 [00:23<1:06:17,  8.00s/it]"
     ]
    },
    {
     "name": "stdout",
     "output_type": "stream",
     "text": [
      "Test on 1143 samples\n",
      "R^2: -118.23\n",
      "Test Loss: 9.28%\n",
      "Train Epoch: 4 [0/19577 (0%)]\tLoss: 0.016359\n",
      "Train Epoch: 4 [3200/19577 (16%)]\tLoss: 0.070863\n",
      "Train Epoch: 4 [6400/19577 (33%)]\tLoss: 0.027231\n",
      "Train Epoch: 4 [9600/19577 (49%)]\tLoss: 0.057396\n",
      "Train Epoch: 4 [12800/19577 (65%)]\tLoss: 0.054974\n",
      "Train Epoch: 4 [16000/19577 (82%)]\tLoss: 0.024316\n",
      "Train Epoch: 4 [19200/19577 (98%)]\tLoss: 0.053826\n",
      "\n",
      "Train loss: 0.043810617324768326\n"
     ]
    },
    {
     "name": "stderr",
     "output_type": "stream",
     "text": [
      "\r",
      "  1%|          | 4/500 [00:31<1:05:52,  7.97s/it]"
     ]
    },
    {
     "name": "stdout",
     "output_type": "stream",
     "text": [
      "Test on 1143 samples\n",
      "R^2: -121.23\n",
      "Test Loss: 8.84%\n",
      "Train Epoch: 5 [0/19577 (0%)]\tLoss: 0.034863\n",
      "Train Epoch: 5 [3200/19577 (16%)]\tLoss: 0.027405\n",
      "Train Epoch: 5 [6400/19577 (33%)]\tLoss: 0.031687\n",
      "Train Epoch: 5 [9600/19577 (49%)]\tLoss: 0.041799\n",
      "Train Epoch: 5 [12800/19577 (65%)]\tLoss: 0.047992\n",
      "Train Epoch: 5 [16000/19577 (82%)]\tLoss: 0.038738\n",
      "Train Epoch: 5 [19200/19577 (98%)]\tLoss: 0.059635\n",
      "\n",
      "Train loss: 0.04234680719064926\n"
     ]
    },
    {
     "name": "stderr",
     "output_type": "stream",
     "text": [
      "\r",
      "  1%|          | 5/500 [00:39<1:05:03,  7.89s/it]"
     ]
    },
    {
     "name": "stdout",
     "output_type": "stream",
     "text": [
      "Test on 1143 samples\n",
      "R^2: -127.56\n",
      "Test Loss: 8.44%\n",
      "Train Epoch: 6 [0/19577 (0%)]\tLoss: 0.021235\n",
      "Train Epoch: 6 [3200/19577 (16%)]\tLoss: 0.032873\n",
      "Train Epoch: 6 [6400/19577 (33%)]\tLoss: 0.036799\n",
      "Train Epoch: 6 [9600/19577 (49%)]\tLoss: 0.040739\n",
      "Train Epoch: 6 [12800/19577 (65%)]\tLoss: 0.031281\n",
      "Train Epoch: 6 [16000/19577 (82%)]\tLoss: 0.028995\n",
      "Train Epoch: 6 [19200/19577 (98%)]\tLoss: 0.020334\n",
      "\n",
      "Train loss: 0.0411301917895626\n"
     ]
    },
    {
     "name": "stderr",
     "output_type": "stream",
     "text": [
      "\r",
      "  1%|          | 6/500 [00:46<1:03:41,  7.74s/it]"
     ]
    },
    {
     "name": "stdout",
     "output_type": "stream",
     "text": [
      "Test on 1143 samples\n",
      "R^2: -104.80\n",
      "Test Loss: 8.37%\n",
      "Train Epoch: 7 [0/19577 (0%)]\tLoss: 0.027537\n",
      "Train Epoch: 7 [3200/19577 (16%)]\tLoss: 0.030201\n",
      "Train Epoch: 7 [6400/19577 (33%)]\tLoss: 0.037987\n",
      "Train Epoch: 7 [9600/19577 (49%)]\tLoss: 0.055861\n",
      "Train Epoch: 7 [12800/19577 (65%)]\tLoss: 0.043712\n",
      "Train Epoch: 7 [16000/19577 (82%)]\tLoss: 0.041824\n",
      "Train Epoch: 7 [19200/19577 (98%)]\tLoss: 0.022872\n",
      "\n",
      "Train loss: 0.04020306284180264\n"
     ]
    },
    {
     "name": "stderr",
     "output_type": "stream",
     "text": [
      "\r",
      "  1%|▏         | 7/500 [00:54<1:02:57,  7.66s/it]"
     ]
    },
    {
     "name": "stdout",
     "output_type": "stream",
     "text": [
      "Test on 1143 samples\n",
      "R^2: -122.22\n",
      "Test Loss: 7.96%\n",
      "Train Epoch: 8 [0/19577 (0%)]\tLoss: 0.030053\n",
      "Train Epoch: 8 [3200/19577 (16%)]\tLoss: 0.032140\n",
      "Train Epoch: 8 [6400/19577 (33%)]\tLoss: 0.021011\n",
      "Train Epoch: 8 [9600/19577 (49%)]\tLoss: 0.039734\n",
      "Train Epoch: 8 [12800/19577 (65%)]\tLoss: 0.038969\n",
      "Train Epoch: 8 [16000/19577 (82%)]\tLoss: 0.018606\n",
      "Train Epoch: 8 [19200/19577 (98%)]\tLoss: 0.053251\n",
      "\n",
      "Train loss: 0.03946343128831169\n"
     ]
    },
    {
     "name": "stderr",
     "output_type": "stream",
     "text": [
      "\r",
      "  2%|▏         | 8/500 [01:08<1:18:08,  9.53s/it]"
     ]
    },
    {
     "name": "stdout",
     "output_type": "stream",
     "text": [
      "Test on 1143 samples\n",
      "R^2: -123.48\n",
      "Test Loss: 7.74%\n",
      "Train Epoch: 9 [0/19577 (0%)]\tLoss: 0.073591\n",
      "Train Epoch: 9 [3200/19577 (16%)]\tLoss: 0.054311\n",
      "Train Epoch: 9 [6400/19577 (33%)]\tLoss: 0.031314\n",
      "Train Epoch: 9 [9600/19577 (49%)]\tLoss: 0.022707\n",
      "Train Epoch: 9 [12800/19577 (65%)]\tLoss: 0.024644\n",
      "Train Epoch: 9 [16000/19577 (82%)]\tLoss: 0.032663\n",
      "Train Epoch: 9 [19200/19577 (98%)]\tLoss: 0.034940\n",
      "\n",
      "Train loss: 0.0388234906702065\n"
     ]
    },
    {
     "name": "stderr",
     "output_type": "stream",
     "text": [
      "\r",
      "  2%|▏         | 9/500 [01:18<1:19:18,  9.69s/it]"
     ]
    },
    {
     "name": "stdout",
     "output_type": "stream",
     "text": [
      "Test on 1143 samples\n",
      "R^2: -106.71\n",
      "Test Loss: 7.72%\n",
      "Train Epoch: 10 [0/19577 (0%)]\tLoss: 0.013893\n",
      "Train Epoch: 10 [3200/19577 (16%)]\tLoss: 0.045544\n",
      "Train Epoch: 10 [6400/19577 (33%)]\tLoss: 0.032660\n",
      "Train Epoch: 10 [9600/19577 (49%)]\tLoss: 0.043213\n",
      "Train Epoch: 10 [12800/19577 (65%)]\tLoss: 0.039521\n",
      "Train Epoch: 10 [16000/19577 (82%)]\tLoss: 0.033635\n",
      "Train Epoch: 10 [19200/19577 (98%)]\tLoss: 0.038503\n",
      "\n",
      "Train loss: 0.03828894757525691\n"
     ]
    },
    {
     "name": "stderr",
     "output_type": "stream",
     "text": [
      "\r",
      "  2%|▏         | 10/500 [01:26<1:15:17,  9.22s/it]"
     ]
    },
    {
     "name": "stdout",
     "output_type": "stream",
     "text": [
      "Test on 1143 samples\n",
      "R^2: -107.29\n",
      "Test Loss: 7.56%\n",
      "Train Epoch: 11 [0/19577 (0%)]\tLoss: 0.025545\n",
      "Train Epoch: 11 [3200/19577 (16%)]\tLoss: 0.029764\n",
      "Train Epoch: 11 [6400/19577 (33%)]\tLoss: 0.048013\n",
      "Train Epoch: 11 [9600/19577 (49%)]\tLoss: 0.050108\n",
      "Train Epoch: 11 [12800/19577 (65%)]\tLoss: 0.032060\n",
      "Train Epoch: 11 [16000/19577 (82%)]\tLoss: 0.031399\n",
      "Train Epoch: 11 [19200/19577 (98%)]\tLoss: 0.043112\n",
      "\n",
      "Train loss: 0.03781194568252544\n"
     ]
    },
    {
     "name": "stderr",
     "output_type": "stream",
     "text": [
      "\r",
      "  2%|▏         | 11/500 [01:35<1:15:35,  9.28s/it]"
     ]
    },
    {
     "name": "stdout",
     "output_type": "stream",
     "text": [
      "Test on 1143 samples\n",
      "R^2: -114.44\n",
      "Test Loss: 7.34%\n",
      "Train Epoch: 12 [0/19577 (0%)]\tLoss: 0.050652\n",
      "Train Epoch: 12 [3200/19577 (16%)]\tLoss: 0.037500\n",
      "Train Epoch: 12 [6400/19577 (33%)]\tLoss: 0.468238\n",
      "Train Epoch: 12 [9600/19577 (49%)]\tLoss: 0.032541\n",
      "Train Epoch: 12 [12800/19577 (65%)]\tLoss: 0.045546\n",
      "Train Epoch: 12 [16000/19577 (82%)]\tLoss: 0.052005\n",
      "Train Epoch: 12 [19200/19577 (98%)]\tLoss: 0.046895\n",
      "\n",
      "Train loss: 0.03736736031943092\n"
     ]
    },
    {
     "name": "stderr",
     "output_type": "stream",
     "text": [
      "\r",
      "  2%|▏         | 12/500 [01:48<1:23:51, 10.31s/it]"
     ]
    },
    {
     "name": "stdout",
     "output_type": "stream",
     "text": [
      "Test on 1143 samples\n",
      "R^2: -111.82\n",
      "Test Loss: 7.23%\n",
      "Train Epoch: 13 [0/19577 (0%)]\tLoss: 0.035233\n",
      "Train Epoch: 13 [3200/19577 (16%)]\tLoss: 0.038375\n",
      "Train Epoch: 13 [6400/19577 (33%)]\tLoss: 0.031937\n",
      "Train Epoch: 13 [9600/19577 (49%)]\tLoss: 0.027264\n",
      "Train Epoch: 13 [12800/19577 (65%)]\tLoss: 0.036329\n",
      "Train Epoch: 13 [16000/19577 (82%)]\tLoss: 0.033594\n",
      "Train Epoch: 13 [19200/19577 (98%)]\tLoss: 0.068273\n",
      "\n",
      "Train loss: 0.036948629241022796\n"
     ]
    },
    {
     "name": "stderr",
     "output_type": "stream",
     "text": [
      "\r",
      "  3%|▎         | 13/500 [02:00<1:27:11, 10.74s/it]"
     ]
    },
    {
     "name": "stdout",
     "output_type": "stream",
     "text": [
      "Test on 1143 samples\n",
      "R^2: -113.42\n",
      "Test Loss: 7.09%\n",
      "Train Epoch: 14 [0/19577 (0%)]\tLoss: 0.021634\n",
      "Train Epoch: 14 [3200/19577 (16%)]\tLoss: 0.034963\n",
      "Train Epoch: 14 [6400/19577 (33%)]\tLoss: 0.052433\n",
      "Train Epoch: 14 [9600/19577 (49%)]\tLoss: 0.023188\n",
      "Train Epoch: 14 [12800/19577 (65%)]\tLoss: 0.040543\n",
      "Train Epoch: 14 [16000/19577 (82%)]\tLoss: 0.040018\n",
      "Train Epoch: 14 [19200/19577 (98%)]\tLoss: 0.037045\n",
      "\n",
      "Train loss: 0.036505516597185456\n"
     ]
    },
    {
     "name": "stderr",
     "output_type": "stream",
     "text": [
      "\r",
      "  3%|▎         | 14/500 [02:09<1:24:24, 10.42s/it]"
     ]
    },
    {
     "name": "stdout",
     "output_type": "stream",
     "text": [
      "Test on 1143 samples\n",
      "R^2: -104.31\n",
      "Test Loss: 7.06%\n",
      "Train Epoch: 15 [0/19577 (0%)]\tLoss: 0.046281\n",
      "Train Epoch: 15 [3200/19577 (16%)]\tLoss: 0.024703\n",
      "Train Epoch: 15 [6400/19577 (33%)]\tLoss: 0.035144\n",
      "Train Epoch: 15 [9600/19577 (49%)]\tLoss: 0.047722\n",
      "Train Epoch: 15 [12800/19577 (65%)]\tLoss: 0.039276\n",
      "Train Epoch: 15 [16000/19577 (82%)]\tLoss: 0.030081\n",
      "Train Epoch: 15 [19200/19577 (98%)]\tLoss: 0.032813\n",
      "\n",
      "Train loss: 0.03610086062728288\n"
     ]
    },
    {
     "name": "stderr",
     "output_type": "stream",
     "text": [
      "\r",
      "  3%|▎         | 15/500 [02:19<1:22:37, 10.22s/it]"
     ]
    },
    {
     "name": "stdout",
     "output_type": "stream",
     "text": [
      "Test on 1143 samples\n",
      "R^2: -117.78\n",
      "Test Loss: 6.81%\n",
      "Train Epoch: 16 [0/19577 (0%)]\tLoss: 0.054143\n",
      "Train Epoch: 16 [3200/19577 (16%)]\tLoss: 0.020057\n",
      "Train Epoch: 16 [6400/19577 (33%)]\tLoss: 0.038318\n",
      "Train Epoch: 16 [9600/19577 (49%)]\tLoss: 0.056771\n",
      "Train Epoch: 16 [12800/19577 (65%)]\tLoss: 0.042316\n",
      "Train Epoch: 16 [16000/19577 (82%)]\tLoss: 0.035220\n",
      "Train Epoch: 16 [19200/19577 (98%)]\tLoss: 0.036271\n",
      "\n",
      "Train loss: 0.03567872257306685\n"
     ]
    },
    {
     "name": "stderr",
     "output_type": "stream",
     "text": [
      "\r",
      "  3%|▎         | 16/500 [02:27<1:17:11,  9.57s/it]"
     ]
    },
    {
     "name": "stdout",
     "output_type": "stream",
     "text": [
      "Test on 1143 samples\n",
      "R^2: -106.18\n",
      "Test Loss: 6.81%\n",
      "Train Epoch: 17 [0/19577 (0%)]\tLoss: 0.020283\n",
      "Train Epoch: 17 [3200/19577 (16%)]\tLoss: 0.058035\n",
      "Train Epoch: 17 [6400/19577 (33%)]\tLoss: 0.036283\n",
      "Train Epoch: 17 [9600/19577 (49%)]\tLoss: 0.035468\n",
      "Train Epoch: 17 [12800/19577 (65%)]\tLoss: 0.029921\n",
      "Train Epoch: 17 [16000/19577 (82%)]\tLoss: 0.024612\n",
      "Train Epoch: 17 [19200/19577 (98%)]\tLoss: 0.043313\n",
      "\n",
      "Train loss: 0.03527644371272984\n"
     ]
    },
    {
     "name": "stderr",
     "output_type": "stream",
     "text": [
      "\r",
      "  3%|▎         | 17/500 [02:35<1:12:29,  9.01s/it]"
     ]
    },
    {
     "name": "stdout",
     "output_type": "stream",
     "text": [
      "Test on 1143 samples\n",
      "R^2: -109.85\n",
      "Test Loss: 6.66%\n",
      "Train Epoch: 18 [0/19577 (0%)]\tLoss: 0.057414\n",
      "Train Epoch: 18 [3200/19577 (16%)]\tLoss: 0.054557\n",
      "Train Epoch: 18 [6400/19577 (33%)]\tLoss: 0.036259\n",
      "Train Epoch: 18 [9600/19577 (49%)]\tLoss: 0.037845\n",
      "Train Epoch: 18 [12800/19577 (65%)]\tLoss: 0.025565\n",
      "Train Epoch: 18 [16000/19577 (82%)]\tLoss: 0.027058\n",
      "Train Epoch: 18 [19200/19577 (98%)]\tLoss: 0.017161\n",
      "\n",
      "Train loss: 0.034863275914069486\n"
     ]
    },
    {
     "name": "stderr",
     "output_type": "stream",
     "text": [
      "\r",
      "  4%|▎         | 18/500 [02:42<1:07:29,  8.40s/it]"
     ]
    },
    {
     "name": "stdout",
     "output_type": "stream",
     "text": [
      "Test on 1143 samples\n",
      "R^2: -104.03\n",
      "Test Loss: 6.61%\n",
      "Train Epoch: 19 [0/19577 (0%)]\tLoss: 0.025063\n",
      "Train Epoch: 19 [3200/19577 (16%)]\tLoss: 0.029696\n",
      "Train Epoch: 19 [6400/19577 (33%)]\tLoss: 0.021051\n",
      "Train Epoch: 19 [9600/19577 (49%)]\tLoss: 0.026795\n",
      "Train Epoch: 19 [12800/19577 (65%)]\tLoss: 0.037608\n",
      "Train Epoch: 19 [16000/19577 (82%)]\tLoss: 0.045040\n",
      "Train Epoch: 19 [19200/19577 (98%)]\tLoss: 0.026502\n",
      "\n",
      "Train loss: 0.034438325064804626\n"
     ]
    },
    {
     "name": "stderr",
     "output_type": "stream",
     "text": [
      "\r",
      "  4%|▍         | 19/500 [02:50<1:05:55,  8.22s/it]"
     ]
    },
    {
     "name": "stdout",
     "output_type": "stream",
     "text": [
      "Test on 1143 samples\n",
      "R^2: -111.29\n",
      "Test Loss: 6.43%\n",
      "Train Epoch: 20 [0/19577 (0%)]\tLoss: 0.017727\n",
      "Train Epoch: 20 [3200/19577 (16%)]\tLoss: 0.027321\n",
      "Train Epoch: 20 [6400/19577 (33%)]\tLoss: 0.027930\n",
      "Train Epoch: 20 [9600/19577 (49%)]\tLoss: 0.032815\n",
      "Train Epoch: 20 [12800/19577 (65%)]\tLoss: 0.039076\n",
      "Train Epoch: 20 [16000/19577 (82%)]\tLoss: 0.031013\n",
      "Train Epoch: 20 [19200/19577 (98%)]\tLoss: 0.037081\n",
      "\n",
      "Train loss: 0.03401347479229075\n"
     ]
    },
    {
     "name": "stderr",
     "output_type": "stream",
     "text": [
      "\r",
      "  4%|▍         | 20/500 [02:59<1:07:56,  8.49s/it]"
     ]
    },
    {
     "name": "stdout",
     "output_type": "stream",
     "text": [
      "Test on 1143 samples\n",
      "R^2: -98.94\n",
      "Test Loss: 6.44%\n",
      "Train Epoch: 21 [0/19577 (0%)]\tLoss: 0.029946\n",
      "Train Epoch: 21 [3200/19577 (16%)]\tLoss: 0.021319\n",
      "Train Epoch: 21 [6400/19577 (33%)]\tLoss: 0.054087\n",
      "Train Epoch: 21 [9600/19577 (49%)]\tLoss: 0.022496\n",
      "Train Epoch: 21 [12800/19577 (65%)]\tLoss: 0.018559\n",
      "Train Epoch: 21 [16000/19577 (82%)]\tLoss: 0.039739\n",
      "Train Epoch: 21 [19200/19577 (98%)]\tLoss: 0.024321\n",
      "\n",
      "Train loss: 0.03356729138313847\n"
     ]
    },
    {
     "name": "stderr",
     "output_type": "stream",
     "text": [
      "\r",
      "  4%|▍         | 21/500 [03:07<1:06:27,  8.33s/it]"
     ]
    },
    {
     "name": "stdout",
     "output_type": "stream",
     "text": [
      "Test on 1143 samples\n",
      "R^2: -103.60\n",
      "Test Loss: 6.28%\n",
      "Train Epoch: 22 [0/19577 (0%)]\tLoss: 0.027148\n",
      "Train Epoch: 22 [3200/19577 (16%)]\tLoss: 0.027921\n",
      "Train Epoch: 22 [6400/19577 (33%)]\tLoss: 0.037867\n",
      "Train Epoch: 22 [9600/19577 (49%)]\tLoss: 0.018850\n",
      "Train Epoch: 22 [12800/19577 (65%)]\tLoss: 0.029063\n",
      "Train Epoch: 22 [16000/19577 (82%)]\tLoss: 0.041009\n",
      "Train Epoch: 22 [19200/19577 (98%)]\tLoss: 0.022945\n",
      "\n",
      "Train loss: 0.03312088622182023\n"
     ]
    },
    {
     "name": "stderr",
     "output_type": "stream",
     "text": [
      "\r",
      "  4%|▍         | 22/500 [03:15<1:06:41,  8.37s/it]"
     ]
    },
    {
     "name": "stdout",
     "output_type": "stream",
     "text": [
      "Test on 1143 samples\n",
      "R^2: -102.23\n",
      "Test Loss: 6.18%\n",
      "Train Epoch: 23 [0/19577 (0%)]\tLoss: 0.017480\n",
      "Train Epoch: 23 [3200/19577 (16%)]\tLoss: 0.016458\n",
      "Train Epoch: 23 [6400/19577 (33%)]\tLoss: 0.013431\n",
      "Train Epoch: 23 [9600/19577 (49%)]\tLoss: 0.035399\n",
      "Train Epoch: 23 [12800/19577 (65%)]\tLoss: 0.034270\n",
      "Train Epoch: 23 [16000/19577 (82%)]\tLoss: 0.019919\n",
      "Train Epoch: 23 [19200/19577 (98%)]\tLoss: 0.038251\n",
      "\n",
      "Train loss: 0.03264399267903535\n"
     ]
    },
    {
     "name": "stderr",
     "output_type": "stream",
     "text": [
      "\r",
      "  5%|▍         | 23/500 [03:27<1:16:00,  9.56s/it]"
     ]
    },
    {
     "name": "stdout",
     "output_type": "stream",
     "text": [
      "Test on 1143 samples\n",
      "R^2: -103.97\n",
      "Test Loss: 6.05%\n",
      "Train Epoch: 24 [0/19577 (0%)]\tLoss: 0.025663\n",
      "Train Epoch: 24 [3200/19577 (16%)]\tLoss: 0.023727\n",
      "Train Epoch: 24 [6400/19577 (33%)]\tLoss: 0.025016\n",
      "Train Epoch: 24 [9600/19577 (49%)]\tLoss: 0.031210\n",
      "Train Epoch: 24 [12800/19577 (65%)]\tLoss: 0.025581\n",
      "Train Epoch: 24 [16000/19577 (82%)]\tLoss: 0.024868\n",
      "Train Epoch: 24 [19200/19577 (98%)]\tLoss: 0.012362\n",
      "\n",
      "Train loss: 0.0321547430666054\n"
     ]
    },
    {
     "name": "stderr",
     "output_type": "stream",
     "text": [
      "\r",
      "  5%|▍         | 24/500 [03:40<1:21:54, 10.32s/it]"
     ]
    },
    {
     "name": "stdout",
     "output_type": "stream",
     "text": [
      "Test on 1143 samples\n",
      "R^2: -101.27\n",
      "Test Loss: 5.96%\n",
      "Train Epoch: 25 [0/19577 (0%)]\tLoss: 0.031150\n",
      "Train Epoch: 25 [3200/19577 (16%)]\tLoss: 0.024731\n",
      "Train Epoch: 25 [6400/19577 (33%)]\tLoss: 0.032721\n",
      "Train Epoch: 25 [9600/19577 (49%)]\tLoss: 0.036235\n",
      "Train Epoch: 25 [12800/19577 (65%)]\tLoss: 0.050837\n",
      "Train Epoch: 25 [16000/19577 (82%)]\tLoss: 0.038656\n",
      "Train Epoch: 25 [19200/19577 (98%)]\tLoss: 0.035622\n",
      "\n",
      "Train loss: 0.031644725749037816\n"
     ]
    },
    {
     "name": "stderr",
     "output_type": "stream",
     "text": [
      "\r",
      "  5%|▌         | 25/500 [03:48<1:17:30,  9.79s/it]"
     ]
    },
    {
     "name": "stdout",
     "output_type": "stream",
     "text": [
      "Test on 1143 samples\n",
      "R^2: -101.36\n",
      "Test Loss: 5.84%\n",
      "Train Epoch: 26 [0/19577 (0%)]\tLoss: 0.023744\n",
      "Train Epoch: 26 [3200/19577 (16%)]\tLoss: 0.024111\n",
      "Train Epoch: 26 [6400/19577 (33%)]\tLoss: 0.046417\n",
      "Train Epoch: 26 [9600/19577 (49%)]\tLoss: 0.042078\n",
      "Train Epoch: 26 [12800/19577 (65%)]\tLoss: 0.023121\n",
      "Train Epoch: 26 [16000/19577 (82%)]\tLoss: 0.022979\n",
      "Train Epoch: 26 [19200/19577 (98%)]\tLoss: 0.041953\n",
      "\n",
      "Train loss: 0.031105300512018742\n"
     ]
    },
    {
     "name": "stderr",
     "output_type": "stream",
     "text": [
      "\r",
      "  5%|▌         | 26/500 [03:55<1:10:39,  8.94s/it]"
     ]
    },
    {
     "name": "stdout",
     "output_type": "stream",
     "text": [
      "Test on 1143 samples\n",
      "R^2: -108.43\n",
      "Test Loss: 5.66%\n",
      "Train Epoch: 27 [0/19577 (0%)]\tLoss: 0.045226\n",
      "Train Epoch: 27 [3200/19577 (16%)]\tLoss: 0.020038\n",
      "Train Epoch: 27 [6400/19577 (33%)]\tLoss: 0.021423\n",
      "Train Epoch: 27 [9600/19577 (49%)]\tLoss: 0.028890\n",
      "Train Epoch: 27 [12800/19577 (65%)]\tLoss: 0.051637\n",
      "Train Epoch: 27 [16000/19577 (82%)]\tLoss: 0.027431\n",
      "Train Epoch: 27 [19200/19577 (98%)]\tLoss: 0.036503\n",
      "\n",
      "Train loss: 0.03056090213723627\n"
     ]
    },
    {
     "name": "stderr",
     "output_type": "stream",
     "text": [
      "\r",
      "  5%|▌         | 27/500 [04:04<1:09:57,  8.87s/it]"
     ]
    },
    {
     "name": "stdout",
     "output_type": "stream",
     "text": [
      "Test on 1143 samples\n",
      "R^2: -94.14\n",
      "Test Loss: 5.65%\n",
      "Train Epoch: 28 [0/19577 (0%)]\tLoss: 0.031147\n",
      "Train Epoch: 28 [3200/19577 (16%)]\tLoss: 0.044328\n",
      "Train Epoch: 28 [6400/19577 (33%)]\tLoss: 0.019887\n",
      "Train Epoch: 28 [9600/19577 (49%)]\tLoss: 0.019862\n",
      "Train Epoch: 28 [12800/19577 (65%)]\tLoss: 0.030481\n",
      "Train Epoch: 28 [16000/19577 (82%)]\tLoss: 0.032401\n",
      "Train Epoch: 28 [19200/19577 (98%)]\tLoss: 0.034617\n",
      "\n",
      "Train loss: 0.029974722723458327\n"
     ]
    },
    {
     "name": "stderr",
     "output_type": "stream",
     "text": [
      "\r",
      "  6%|▌         | 28/500 [04:11<1:05:36,  8.34s/it]"
     ]
    },
    {
     "name": "stdout",
     "output_type": "stream",
     "text": [
      "Test on 1143 samples\n",
      "R^2: -87.53\n",
      "Test Loss: 5.58%\n",
      "Train Epoch: 29 [0/19577 (0%)]\tLoss: 0.026917\n",
      "Train Epoch: 29 [3200/19577 (16%)]\tLoss: 0.026313\n",
      "Train Epoch: 29 [6400/19577 (33%)]\tLoss: 0.023153\n",
      "Train Epoch: 29 [9600/19577 (49%)]\tLoss: 0.036235\n",
      "Train Epoch: 29 [12800/19577 (65%)]\tLoss: 0.013393\n",
      "Train Epoch: 29 [16000/19577 (82%)]\tLoss: 0.028887\n",
      "Train Epoch: 29 [19200/19577 (98%)]\tLoss: 0.027868\n",
      "\n",
      "Train loss: 0.02938038650047935\n"
     ]
    },
    {
     "name": "stderr",
     "output_type": "stream",
     "text": [
      "\r",
      "  6%|▌         | 29/500 [04:18<1:03:11,  8.05s/it]"
     ]
    },
    {
     "name": "stdout",
     "output_type": "stream",
     "text": [
      "Test on 1143 samples\n",
      "R^2: -86.83\n",
      "Test Loss: 5.45%\n",
      "Train Epoch: 30 [0/19577 (0%)]\tLoss: 0.023378\n",
      "Train Epoch: 30 [3200/19577 (16%)]\tLoss: 0.037483\n",
      "Train Epoch: 30 [6400/19577 (33%)]\tLoss: 0.020900\n",
      "Train Epoch: 30 [9600/19577 (49%)]\tLoss: 0.018551\n",
      "Train Epoch: 30 [12800/19577 (65%)]\tLoss: 0.019126\n",
      "Train Epoch: 30 [16000/19577 (82%)]\tLoss: 0.027165\n",
      "Train Epoch: 30 [19200/19577 (98%)]\tLoss: 0.014871\n",
      "\n",
      "Train loss: 0.028764413356220996\n"
     ]
    },
    {
     "name": "stderr",
     "output_type": "stream",
     "text": [
      "\r",
      "  6%|▌         | 30/500 [04:27<1:05:54,  8.41s/it]"
     ]
    },
    {
     "name": "stdout",
     "output_type": "stream",
     "text": [
      "Test on 1143 samples\n",
      "R^2: -78.16\n",
      "Test Loss: 5.40%\n",
      "Train Epoch: 31 [0/19577 (0%)]\tLoss: 0.014048\n",
      "Train Epoch: 31 [3200/19577 (16%)]\tLoss: 0.037761\n",
      "Train Epoch: 31 [6400/19577 (33%)]\tLoss: 0.020211\n",
      "Train Epoch: 31 [9600/19577 (49%)]\tLoss: 0.019336\n",
      "Train Epoch: 31 [12800/19577 (65%)]\tLoss: 0.023036\n",
      "Train Epoch: 31 [16000/19577 (82%)]\tLoss: 0.019390\n",
      "Train Epoch: 31 [19200/19577 (98%)]\tLoss: 0.018027\n",
      "\n",
      "Train loss: 0.028150269667331883\n"
     ]
    },
    {
     "name": "stderr",
     "output_type": "stream",
     "text": [
      "\r",
      "  6%|▌         | 31/500 [04:36<1:06:14,  8.47s/it]"
     ]
    },
    {
     "name": "stdout",
     "output_type": "stream",
     "text": [
      "Test on 1143 samples\n",
      "R^2: -69.90\n",
      "Test Loss: 5.35%\n",
      "Train Epoch: 32 [0/19577 (0%)]\tLoss: 0.024531\n",
      "Train Epoch: 32 [3200/19577 (16%)]\tLoss: 0.018645\n",
      "Train Epoch: 32 [6400/19577 (33%)]\tLoss: 0.027836\n",
      "Train Epoch: 32 [9600/19577 (49%)]\tLoss: 0.016587\n",
      "Train Epoch: 32 [12800/19577 (65%)]\tLoss: 0.020466\n",
      "Train Epoch: 32 [16000/19577 (82%)]\tLoss: 0.021832\n",
      "Train Epoch: 32 [19200/19577 (98%)]\tLoss: 0.036885\n",
      "\n",
      "Train loss: 0.0275098272367971\n"
     ]
    },
    {
     "name": "stderr",
     "output_type": "stream",
     "text": [
      "\r",
      "  6%|▋         | 32/500 [04:44<1:05:15,  8.37s/it]"
     ]
    },
    {
     "name": "stdout",
     "output_type": "stream",
     "text": [
      "Test on 1143 samples\n",
      "R^2: -80.43\n",
      "Test Loss: 5.08%\n",
      "Train Epoch: 33 [0/19577 (0%)]\tLoss: 0.030391\n",
      "Train Epoch: 33 [3200/19577 (16%)]\tLoss: 0.024830\n",
      "Train Epoch: 33 [6400/19577 (33%)]\tLoss: 0.022151\n",
      "Train Epoch: 33 [9600/19577 (49%)]\tLoss: 0.029978\n",
      "Train Epoch: 33 [12800/19577 (65%)]\tLoss: 0.028893\n",
      "Train Epoch: 33 [16000/19577 (82%)]\tLoss: 0.033019\n",
      "Train Epoch: 33 [19200/19577 (98%)]\tLoss: 0.015692\n",
      "\n",
      "Train loss: 0.026829769320518167\n"
     ]
    },
    {
     "name": "stderr",
     "output_type": "stream",
     "text": [
      "\r",
      "  7%|▋         | 33/500 [04:54<1:08:02,  8.74s/it]"
     ]
    },
    {
     "name": "stdout",
     "output_type": "stream",
     "text": [
      "Test on 1143 samples\n",
      "R^2: -66.27\n",
      "Test Loss: 5.08%\n",
      "Train Epoch: 34 [0/19577 (0%)]\tLoss: 0.027610\n",
      "Train Epoch: 34 [3200/19577 (16%)]\tLoss: 0.027158\n",
      "Train Epoch: 34 [6400/19577 (33%)]\tLoss: 0.024564\n",
      "Train Epoch: 34 [9600/19577 (49%)]\tLoss: 0.024006\n",
      "Train Epoch: 34 [12800/19577 (65%)]\tLoss: 0.029347\n",
      "Train Epoch: 34 [16000/19577 (82%)]\tLoss: 0.029698\n",
      "Train Epoch: 34 [19200/19577 (98%)]\tLoss: 0.023297\n",
      "\n",
      "Train loss: 0.02613955581244203\n"
     ]
    },
    {
     "name": "stderr",
     "output_type": "stream",
     "text": [
      "\r",
      "  7%|▋         | 34/500 [05:04<1:10:50,  9.12s/it]"
     ]
    },
    {
     "name": "stdout",
     "output_type": "stream",
     "text": [
      "Test on 1143 samples\n",
      "R^2: -78.27\n",
      "Test Loss: 4.80%\n",
      "Train Epoch: 35 [0/19577 (0%)]\tLoss: 0.017329\n",
      "Train Epoch: 35 [3200/19577 (16%)]\tLoss: 0.014902\n",
      "Train Epoch: 35 [6400/19577 (33%)]\tLoss: 0.021825\n",
      "Train Epoch: 35 [9600/19577 (49%)]\tLoss: 0.020073\n",
      "Train Epoch: 35 [12800/19577 (65%)]\tLoss: 0.026631\n",
      "Train Epoch: 35 [16000/19577 (82%)]\tLoss: 0.025435\n",
      "Train Epoch: 35 [19200/19577 (98%)]\tLoss: 0.018967\n",
      "\n",
      "Train loss: 0.025436703827889526\n"
     ]
    },
    {
     "name": "stderr",
     "output_type": "stream",
     "text": [
      "\r",
      "  7%|▋         | 35/500 [05:12<1:09:34,  8.98s/it]"
     ]
    },
    {
     "name": "stdout",
     "output_type": "stream",
     "text": [
      "Test on 1143 samples\n",
      "R^2: -67.98\n",
      "Test Loss: 4.74%\n",
      "Train Epoch: 36 [0/19577 (0%)]\tLoss: 0.022503\n",
      "Train Epoch: 36 [3200/19577 (16%)]\tLoss: 0.028687\n",
      "Train Epoch: 36 [6400/19577 (33%)]\tLoss: 0.025583\n",
      "Train Epoch: 36 [9600/19577 (49%)]\tLoss: 0.020553\n",
      "Train Epoch: 36 [12800/19577 (65%)]\tLoss: 0.029414\n",
      "Train Epoch: 36 [16000/19577 (82%)]\tLoss: 0.026089\n",
      "Train Epoch: 36 [19200/19577 (98%)]\tLoss: 0.012570\n",
      "\n",
      "Train loss: 0.024704848711372785\n"
     ]
    },
    {
     "name": "stderr",
     "output_type": "stream",
     "text": [
      "\r",
      "  7%|▋         | 36/500 [05:20<1:05:25,  8.46s/it]"
     ]
    },
    {
     "name": "stdout",
     "output_type": "stream",
     "text": [
      "Test on 1143 samples\n",
      "R^2: -65.57\n",
      "Test Loss: 4.61%\n",
      "Train Epoch: 37 [0/19577 (0%)]\tLoss: 0.029197\n",
      "Train Epoch: 37 [3200/19577 (16%)]\tLoss: 0.028916\n",
      "Train Epoch: 37 [6400/19577 (33%)]\tLoss: 0.022087\n",
      "Train Epoch: 37 [9600/19577 (49%)]\tLoss: 0.012145\n",
      "Train Epoch: 37 [12800/19577 (65%)]\tLoss: 0.024007\n",
      "Train Epoch: 37 [16000/19577 (82%)]\tLoss: 0.018738\n",
      "Train Epoch: 37 [19200/19577 (98%)]\tLoss: 0.014466\n",
      "\n",
      "Train loss: 0.023965752820539123\n"
     ]
    },
    {
     "name": "stderr",
     "output_type": "stream",
     "text": [
      "\r",
      "  7%|▋         | 37/500 [05:27<1:02:46,  8.14s/it]"
     ]
    },
    {
     "name": "stdout",
     "output_type": "stream",
     "text": [
      "Test on 1143 samples\n",
      "R^2: -61.83\n",
      "Test Loss: 4.49%\n",
      "Train Epoch: 38 [0/19577 (0%)]\tLoss: 0.014540\n",
      "Train Epoch: 38 [3200/19577 (16%)]\tLoss: 0.027847\n",
      "Train Epoch: 38 [6400/19577 (33%)]\tLoss: 0.013351\n",
      "Train Epoch: 38 [9600/19577 (49%)]\tLoss: 0.035260\n",
      "Train Epoch: 38 [12800/19577 (65%)]\tLoss: 0.017761\n",
      "Train Epoch: 38 [16000/19577 (82%)]\tLoss: 0.016586\n",
      "Train Epoch: 38 [19200/19577 (98%)]\tLoss: 0.018840\n",
      "\n",
      "Train loss: 0.023216124672710507\n"
     ]
    },
    {
     "name": "stderr",
     "output_type": "stream",
     "text": [
      "\r",
      "  8%|▊         | 38/500 [05:35<1:00:57,  7.92s/it]"
     ]
    },
    {
     "name": "stdout",
     "output_type": "stream",
     "text": [
      "Test on 1143 samples\n",
      "R^2: -58.92\n",
      "Test Loss: 4.36%\n",
      "Train Epoch: 39 [0/19577 (0%)]\tLoss: 0.037154\n",
      "Train Epoch: 39 [3200/19577 (16%)]\tLoss: 0.024251\n",
      "Train Epoch: 39 [6400/19577 (33%)]\tLoss: 0.031701\n",
      "Train Epoch: 39 [9600/19577 (49%)]\tLoss: 0.022760\n",
      "Train Epoch: 39 [12800/19577 (65%)]\tLoss: 0.019457\n",
      "Train Epoch: 39 [16000/19577 (82%)]\tLoss: 0.019227\n",
      "Train Epoch: 39 [19200/19577 (98%)]\tLoss: 0.031686\n",
      "\n",
      "Train loss: 0.022459886642477285\n"
     ]
    },
    {
     "name": "stderr",
     "output_type": "stream",
     "text": [
      "\r",
      "  8%|▊         | 39/500 [05:41<58:19,  7.59s/it]  "
     ]
    },
    {
     "name": "stdout",
     "output_type": "stream",
     "text": [
      "Test on 1143 samples\n",
      "R^2: -66.14\n",
      "Test Loss: 4.14%\n",
      "Train Epoch: 40 [0/19577 (0%)]\tLoss: 0.014848\n",
      "Train Epoch: 40 [3200/19577 (16%)]\tLoss: 0.012942\n",
      "Train Epoch: 40 [6400/19577 (33%)]\tLoss: 0.014911\n",
      "Train Epoch: 40 [9600/19577 (49%)]\tLoss: 0.015930\n",
      "Train Epoch: 40 [12800/19577 (65%)]\tLoss: 0.024703\n",
      "Train Epoch: 40 [16000/19577 (82%)]\tLoss: 0.025754\n",
      "Train Epoch: 40 [19200/19577 (98%)]\tLoss: 0.022950\n",
      "\n",
      "Train loss: 0.02170646304928156\n"
     ]
    },
    {
     "name": "stderr",
     "output_type": "stream",
     "text": [
      "\r",
      "  8%|▊         | 40/500 [05:48<56:43,  7.40s/it]"
     ]
    },
    {
     "name": "stdout",
     "output_type": "stream",
     "text": [
      "Test on 1143 samples\n",
      "R^2: -47.96\n",
      "Test Loss: 4.16%\n",
      "Train Epoch: 41 [0/19577 (0%)]\tLoss: 0.013597\n",
      "Train Epoch: 41 [3200/19577 (16%)]\tLoss: 0.013346\n",
      "Train Epoch: 41 [6400/19577 (33%)]\tLoss: 0.022368\n",
      "Train Epoch: 41 [9600/19577 (49%)]\tLoss: 0.019120\n",
      "Train Epoch: 41 [12800/19577 (65%)]\tLoss: 0.023757\n",
      "Train Epoch: 41 [16000/19577 (82%)]\tLoss: 0.014793\n",
      "Train Epoch: 41 [19200/19577 (98%)]\tLoss: 0.022694\n",
      "\n",
      "Train loss: 0.020984323981394565\n"
     ]
    },
    {
     "name": "stderr",
     "output_type": "stream",
     "text": [
      "\r",
      "  8%|▊         | 41/500 [05:56<57:18,  7.49s/it]"
     ]
    },
    {
     "name": "stdout",
     "output_type": "stream",
     "text": [
      "Test on 1143 samples\n",
      "R^2: -55.01\n",
      "Test Loss: 3.93%\n",
      "Train Epoch: 42 [0/19577 (0%)]\tLoss: 0.033781\n",
      "Train Epoch: 42 [3200/19577 (16%)]\tLoss: 0.012413\n",
      "Train Epoch: 42 [6400/19577 (33%)]\tLoss: 0.030445\n",
      "Train Epoch: 42 [9600/19577 (49%)]\tLoss: 0.029123\n",
      "Train Epoch: 42 [12800/19577 (65%)]\tLoss: 0.022119\n",
      "Train Epoch: 42 [16000/19577 (82%)]\tLoss: 0.010058\n",
      "Train Epoch: 42 [19200/19577 (98%)]\tLoss: 0.014683\n",
      "\n",
      "Train loss: 0.020241115160067293\n"
     ]
    },
    {
     "name": "stderr",
     "output_type": "stream",
     "text": [
      "\r",
      "  8%|▊         | 42/500 [06:05<1:00:33,  7.93s/it]"
     ]
    },
    {
     "name": "stdout",
     "output_type": "stream",
     "text": [
      "Test on 1143 samples\n",
      "R^2: -45.26\n",
      "Test Loss: 3.87%\n",
      "Train Epoch: 43 [0/19577 (0%)]\tLoss: 0.012323\n",
      "Train Epoch: 43 [3200/19577 (16%)]\tLoss: 0.014044\n",
      "Train Epoch: 43 [6400/19577 (33%)]\tLoss: 0.021468\n",
      "Train Epoch: 43 [9600/19577 (49%)]\tLoss: 0.010792\n",
      "Train Epoch: 43 [12800/19577 (65%)]\tLoss: 0.014004\n",
      "Train Epoch: 43 [16000/19577 (82%)]\tLoss: 0.011637\n",
      "Train Epoch: 43 [19200/19577 (98%)]\tLoss: 0.025301\n",
      "\n",
      "Train loss: 0.019521291822718542\n"
     ]
    },
    {
     "name": "stderr",
     "output_type": "stream",
     "text": [
      "\r",
      "  9%|▊         | 43/500 [06:14<1:03:21,  8.32s/it]"
     ]
    },
    {
     "name": "stdout",
     "output_type": "stream",
     "text": [
      "Test on 1143 samples\n",
      "R^2: -40.01\n",
      "Test Loss: 3.78%\n",
      "Train Epoch: 44 [0/19577 (0%)]\tLoss: 0.018255\n",
      "Train Epoch: 44 [3200/19577 (16%)]\tLoss: 0.014049\n",
      "Train Epoch: 44 [6400/19577 (33%)]\tLoss: 0.030542\n",
      "Train Epoch: 44 [9600/19577 (49%)]\tLoss: 0.011676\n",
      "Train Epoch: 44 [12800/19577 (65%)]\tLoss: 0.011967\n",
      "Train Epoch: 44 [16000/19577 (82%)]\tLoss: 0.010519\n",
      "Train Epoch: 44 [19200/19577 (98%)]\tLoss: 0.011361\n",
      "\n",
      "Train loss: 0.01882379407404003\n"
     ]
    },
    {
     "name": "stderr",
     "output_type": "stream",
     "text": [
      "\r",
      "  9%|▉         | 44/500 [06:23<1:04:29,  8.49s/it]"
     ]
    },
    {
     "name": "stdout",
     "output_type": "stream",
     "text": [
      "Test on 1143 samples\n",
      "R^2: -40.82\n",
      "Test Loss: 3.62%\n",
      "Train Epoch: 45 [0/19577 (0%)]\tLoss: 0.007246\n",
      "Train Epoch: 45 [3200/19577 (16%)]\tLoss: 0.012689\n",
      "Train Epoch: 45 [6400/19577 (33%)]\tLoss: 0.012628\n",
      "Train Epoch: 45 [9600/19577 (49%)]\tLoss: 0.011567\n",
      "Train Epoch: 45 [12800/19577 (65%)]\tLoss: 0.017794\n",
      "Train Epoch: 45 [16000/19577 (82%)]\tLoss: 0.012687\n",
      "Train Epoch: 45 [19200/19577 (98%)]\tLoss: 0.016381\n",
      "\n",
      "Train loss: 0.018178356093129303\n"
     ]
    },
    {
     "name": "stderr",
     "output_type": "stream",
     "text": [
      "\r",
      "  9%|▉         | 45/500 [06:31<1:03:04,  8.32s/it]"
     ]
    },
    {
     "name": "stdout",
     "output_type": "stream",
     "text": [
      "Test on 1143 samples\n",
      "R^2: -47.36\n",
      "Test Loss: 3.43%\n",
      "Train Epoch: 46 [0/19577 (0%)]\tLoss: 0.013870\n",
      "Train Epoch: 46 [3200/19577 (16%)]\tLoss: 0.033807\n",
      "Train Epoch: 46 [6400/19577 (33%)]\tLoss: 0.008124\n",
      "Train Epoch: 46 [9600/19577 (49%)]\tLoss: 0.015633\n",
      "Train Epoch: 46 [12800/19577 (65%)]\tLoss: 0.023735\n",
      "Train Epoch: 46 [16000/19577 (82%)]\tLoss: 0.021023\n",
      "Train Epoch: 46 [19200/19577 (98%)]\tLoss: 0.011817\n",
      "\n",
      "Train loss: 0.017518014971203373\n"
     ]
    },
    {
     "name": "stderr",
     "output_type": "stream",
     "text": [
      "\r",
      "  9%|▉         | 46/500 [06:38<59:53,  7.92s/it]  "
     ]
    },
    {
     "name": "stdout",
     "output_type": "stream",
     "text": [
      "Test on 1143 samples\n",
      "R^2: -34.90\n",
      "Test Loss: 3.41%\n",
      "Train Epoch: 47 [0/19577 (0%)]\tLoss: 0.019447\n",
      "Train Epoch: 47 [3200/19577 (16%)]\tLoss: 0.012957\n",
      "Train Epoch: 47 [6400/19577 (33%)]\tLoss: 0.015531\n",
      "Train Epoch: 47 [9600/19577 (49%)]\tLoss: 0.009634\n",
      "Train Epoch: 47 [12800/19577 (65%)]\tLoss: 0.019077\n",
      "Train Epoch: 47 [16000/19577 (82%)]\tLoss: 0.015429\n",
      "Train Epoch: 47 [19200/19577 (98%)]\tLoss: 0.027081\n",
      "\n",
      "Train loss: 0.016883793813511242\n"
     ]
    },
    {
     "name": "stderr",
     "output_type": "stream",
     "text": [
      "\r",
      "  9%|▉         | 47/500 [06:45<57:57,  7.68s/it]"
     ]
    },
    {
     "name": "stdout",
     "output_type": "stream",
     "text": [
      "Test on 1143 samples\n",
      "R^2: -35.18\n",
      "Test Loss: 3.27%\n",
      "Train Epoch: 48 [0/19577 (0%)]\tLoss: 0.009476\n",
      "Train Epoch: 48 [3200/19577 (16%)]\tLoss: 0.011765\n",
      "Train Epoch: 48 [6400/19577 (33%)]\tLoss: 0.011943\n",
      "Train Epoch: 48 [9600/19577 (49%)]\tLoss: 0.012364\n",
      "Train Epoch: 48 [12800/19577 (65%)]\tLoss: 0.008399\n",
      "Train Epoch: 48 [16000/19577 (82%)]\tLoss: 0.022776\n",
      "Train Epoch: 48 [19200/19577 (98%)]\tLoss: 0.010864\n",
      "\n",
      "Train loss: 0.016283621138046964\n"
     ]
    },
    {
     "name": "stderr",
     "output_type": "stream",
     "text": [
      "\r",
      " 10%|▉         | 48/500 [06:52<56:07,  7.45s/it]"
     ]
    },
    {
     "name": "stdout",
     "output_type": "stream",
     "text": [
      "Test on 1143 samples\n",
      "R^2: -39.68\n",
      "Test Loss: 3.13%\n",
      "Train Epoch: 49 [0/19577 (0%)]\tLoss: 0.009593\n",
      "Train Epoch: 49 [3200/19577 (16%)]\tLoss: 0.012170\n",
      "Train Epoch: 49 [6400/19577 (33%)]\tLoss: 0.017570\n",
      "Train Epoch: 49 [9600/19577 (49%)]\tLoss: 0.019960\n",
      "Train Epoch: 49 [12800/19577 (65%)]\tLoss: 0.012554\n",
      "Train Epoch: 49 [16000/19577 (82%)]\tLoss: 0.011713\n",
      "Train Epoch: 49 [19200/19577 (98%)]\tLoss: 0.024776\n",
      "\n",
      "Train loss: 0.01574586776657383\n"
     ]
    },
    {
     "name": "stderr",
     "output_type": "stream",
     "text": [
      "\r",
      " 10%|▉         | 49/500 [06:59<55:59,  7.45s/it]"
     ]
    },
    {
     "name": "stdout",
     "output_type": "stream",
     "text": [
      "Test on 1143 samples\n",
      "R^2: -30.95\n",
      "Test Loss: 3.08%\n",
      "Train Epoch: 50 [0/19577 (0%)]\tLoss: 0.016634\n",
      "Train Epoch: 50 [3200/19577 (16%)]\tLoss: 0.009097\n",
      "Train Epoch: 50 [6400/19577 (33%)]\tLoss: 0.009288\n",
      "Train Epoch: 50 [9600/19577 (49%)]\tLoss: 0.009747\n",
      "Train Epoch: 50 [12800/19577 (65%)]\tLoss: 0.016079\n",
      "Train Epoch: 50 [16000/19577 (82%)]\tLoss: 0.012847\n",
      "Train Epoch: 50 [19200/19577 (98%)]\tLoss: 0.022548\n",
      "\n",
      "Train loss: 0.015206307737351535\n"
     ]
    },
    {
     "name": "stderr",
     "output_type": "stream",
     "text": [
      "\r",
      " 10%|█         | 50/500 [07:07<56:22,  7.52s/it]"
     ]
    },
    {
     "name": "stdout",
     "output_type": "stream",
     "text": [
      "Test on 1143 samples\n",
      "R^2: -22.38\n",
      "Test Loss: 3.07%\n",
      "Train Epoch: 51 [0/19577 (0%)]\tLoss: 0.014990\n",
      "Train Epoch: 51 [3200/19577 (16%)]\tLoss: 0.020963\n",
      "Train Epoch: 51 [6400/19577 (33%)]\tLoss: 0.005136\n",
      "Train Epoch: 51 [9600/19577 (49%)]\tLoss: 0.018378\n",
      "Train Epoch: 51 [12800/19577 (65%)]\tLoss: 0.011004\n",
      "Train Epoch: 51 [16000/19577 (82%)]\tLoss: 0.013175\n",
      "Train Epoch: 51 [19200/19577 (98%)]\tLoss: 0.018177\n",
      "\n",
      "Train loss: 0.014692743544716363\n"
     ]
    },
    {
     "name": "stderr",
     "output_type": "stream",
     "text": [
      "\r",
      " 10%|█         | 51/500 [07:14<55:35,  7.43s/it]"
     ]
    },
    {
     "name": "stdout",
     "output_type": "stream",
     "text": [
      "Test on 1143 samples\n",
      "R^2: -26.15\n",
      "Test Loss: 2.93%\n",
      "Train Epoch: 52 [0/19577 (0%)]\tLoss: 0.012568\n",
      "Train Epoch: 52 [3200/19577 (16%)]\tLoss: 0.011290\n",
      "Train Epoch: 52 [6400/19577 (33%)]\tLoss: 0.013658\n",
      "Train Epoch: 52 [9600/19577 (49%)]\tLoss: 0.014709\n",
      "Train Epoch: 52 [12800/19577 (65%)]\tLoss: 0.012159\n",
      "Train Epoch: 52 [16000/19577 (82%)]\tLoss: 0.022955\n",
      "Train Epoch: 52 [19200/19577 (98%)]\tLoss: 0.013479\n",
      "\n",
      "Train loss: 0.014232737340909593\n"
     ]
    },
    {
     "name": "stderr",
     "output_type": "stream",
     "text": [
      "\r",
      " 10%|█         | 52/500 [07:22<55:56,  7.49s/it]"
     ]
    },
    {
     "name": "stdout",
     "output_type": "stream",
     "text": [
      "Test on 1143 samples\n",
      "R^2: -20.92\n",
      "Test Loss: 2.89%\n",
      "Train Epoch: 53 [0/19577 (0%)]\tLoss: 0.020503\n",
      "Train Epoch: 53 [3200/19577 (16%)]\tLoss: 0.012955\n",
      "Train Epoch: 53 [6400/19577 (33%)]\tLoss: 0.020086\n",
      "Train Epoch: 53 [9600/19577 (49%)]\tLoss: 0.018195\n",
      "Train Epoch: 53 [12800/19577 (65%)]\tLoss: 0.005800\n",
      "Train Epoch: 53 [16000/19577 (82%)]\tLoss: 0.008666\n",
      "Train Epoch: 53 [19200/19577 (98%)]\tLoss: 0.018695\n",
      "\n",
      "Train loss: 0.013811403739393926\n"
     ]
    },
    {
     "name": "stderr",
     "output_type": "stream",
     "text": [
      "\r",
      " 11%|█         | 53/500 [07:29<54:57,  7.38s/it]"
     ]
    },
    {
     "name": "stdout",
     "output_type": "stream",
     "text": [
      "Test on 1143 samples\n",
      "R^2: -16.49\n",
      "Test Loss: 2.85%\n",
      "Train Epoch: 54 [0/19577 (0%)]\tLoss: 0.013376\n",
      "Train Epoch: 54 [3200/19577 (16%)]\tLoss: 0.025368\n",
      "Train Epoch: 54 [6400/19577 (33%)]\tLoss: 0.016557\n",
      "Train Epoch: 54 [9600/19577 (49%)]\tLoss: 0.015950\n",
      "Train Epoch: 54 [12800/19577 (65%)]\tLoss: 0.013364\n",
      "Train Epoch: 54 [16000/19577 (82%)]\tLoss: 0.010639\n",
      "Train Epoch: 54 [19200/19577 (98%)]\tLoss: 0.011277\n",
      "\n",
      "Train loss: 0.01340231566851216\n"
     ]
    },
    {
     "name": "stderr",
     "output_type": "stream",
     "text": [
      "\r",
      " 11%|█         | 54/500 [07:36<54:13,  7.29s/it]"
     ]
    },
    {
     "name": "stdout",
     "output_type": "stream",
     "text": [
      "Test on 1143 samples\n",
      "R^2: -16.66\n",
      "Test Loss: 2.76%\n",
      "Train Epoch: 55 [0/19577 (0%)]\tLoss: 0.013227\n",
      "Train Epoch: 55 [3200/19577 (16%)]\tLoss: 0.012944\n",
      "Train Epoch: 55 [6400/19577 (33%)]\tLoss: 0.010951\n",
      "Train Epoch: 55 [9600/19577 (49%)]\tLoss: 0.010618\n",
      "Train Epoch: 55 [12800/19577 (65%)]\tLoss: 0.016741\n",
      "Train Epoch: 55 [16000/19577 (82%)]\tLoss: 0.008997\n",
      "Train Epoch: 55 [19200/19577 (98%)]\tLoss: 0.007156\n",
      "\n",
      "Train loss: 0.013043588517367645\n"
     ]
    },
    {
     "name": "stderr",
     "output_type": "stream",
     "text": [
      "\r",
      " 11%|█         | 55/500 [07:43<53:35,  7.23s/it]"
     ]
    },
    {
     "name": "stdout",
     "output_type": "stream",
     "text": [
      "Test on 1143 samples\n",
      "R^2: -15.07\n",
      "Test Loss: 2.71%\n",
      "Train Epoch: 56 [0/19577 (0%)]\tLoss: 0.011268\n",
      "Train Epoch: 56 [3200/19577 (16%)]\tLoss: 0.004751\n",
      "Train Epoch: 56 [6400/19577 (33%)]\tLoss: 0.009870\n",
      "Train Epoch: 56 [9600/19577 (49%)]\tLoss: 0.005346\n",
      "Train Epoch: 56 [12800/19577 (65%)]\tLoss: 0.009355\n",
      "Train Epoch: 56 [16000/19577 (82%)]\tLoss: 0.009179\n",
      "Train Epoch: 56 [19200/19577 (98%)]\tLoss: 0.009959\n",
      "\n",
      "Train loss: 0.012697936796577148\n"
     ]
    },
    {
     "name": "stderr",
     "output_type": "stream",
     "text": [
      "\r",
      " 11%|█         | 56/500 [07:50<52:43,  7.12s/it]"
     ]
    },
    {
     "name": "stdout",
     "output_type": "stream",
     "text": [
      "Test on 1143 samples\n",
      "R^2: -17.05\n",
      "Test Loss: 2.62%\n",
      "Train Epoch: 57 [0/19577 (0%)]\tLoss: 0.010865\n",
      "Train Epoch: 57 [3200/19577 (16%)]\tLoss: 0.006375\n",
      "Train Epoch: 57 [6400/19577 (33%)]\tLoss: 0.010028\n",
      "Train Epoch: 57 [9600/19577 (49%)]\tLoss: 0.007824\n",
      "Train Epoch: 57 [12800/19577 (65%)]\tLoss: 0.008283\n",
      "Train Epoch: 57 [16000/19577 (82%)]\tLoss: 0.008329\n",
      "Train Epoch: 57 [19200/19577 (98%)]\tLoss: 0.012027\n",
      "\n",
      "Train loss: 0.012390518859272299\n"
     ]
    },
    {
     "name": "stderr",
     "output_type": "stream",
     "text": [
      "\r",
      " 11%|█▏        | 57/500 [07:58<54:46,  7.42s/it]"
     ]
    },
    {
     "name": "stdout",
     "output_type": "stream",
     "text": [
      "Test on 1143 samples\n",
      "R^2: -24.22\n",
      "Test Loss: 2.55%\n",
      "Train Epoch: 58 [0/19577 (0%)]\tLoss: 0.014195\n",
      "Train Epoch: 58 [3200/19577 (16%)]\tLoss: 0.010444\n",
      "Train Epoch: 58 [6400/19577 (33%)]\tLoss: 0.023837\n",
      "Train Epoch: 58 [9600/19577 (49%)]\tLoss: 0.007662\n",
      "Train Epoch: 58 [12800/19577 (65%)]\tLoss: 0.006503\n",
      "Train Epoch: 58 [16000/19577 (82%)]\tLoss: 0.007328\n",
      "Train Epoch: 58 [19200/19577 (98%)]\tLoss: 0.005971\n",
      "\n",
      "Train loss: 0.01210720094645189\n"
     ]
    },
    {
     "name": "stderr",
     "output_type": "stream",
     "text": [
      "\r",
      " 12%|█▏        | 58/500 [08:06<55:36,  7.55s/it]"
     ]
    },
    {
     "name": "stdout",
     "output_type": "stream",
     "text": [
      "Test on 1143 samples\n",
      "R^2: -11.22\n",
      "Test Loss: 2.57%\n",
      "Train Epoch: 59 [0/19577 (0%)]\tLoss: 0.008851\n",
      "Train Epoch: 59 [3200/19577 (16%)]\tLoss: 0.013114\n",
      "Train Epoch: 59 [6400/19577 (33%)]\tLoss: 0.005840\n",
      "Train Epoch: 59 [9600/19577 (49%)]\tLoss: 0.009338\n",
      "Train Epoch: 59 [12800/19577 (65%)]\tLoss: 0.008516\n",
      "Train Epoch: 59 [16000/19577 (82%)]\tLoss: 0.009757\n",
      "Train Epoch: 59 [19200/19577 (98%)]\tLoss: 0.009305\n",
      "\n",
      "Train loss: 0.011831383159980665\n"
     ]
    },
    {
     "name": "stderr",
     "output_type": "stream",
     "text": [
      "\r",
      " 12%|█▏        | 59/500 [08:14<56:21,  7.67s/it]"
     ]
    },
    {
     "name": "stdout",
     "output_type": "stream",
     "text": [
      "Test on 1143 samples\n",
      "R^2: -9.47\n",
      "Test Loss: 2.54%\n",
      "Train Epoch: 60 [0/19577 (0%)]\tLoss: 0.008377\n",
      "Train Epoch: 60 [3200/19577 (16%)]\tLoss: 0.010471\n",
      "Train Epoch: 60 [6400/19577 (33%)]\tLoss: 0.005182\n",
      "Train Epoch: 60 [9600/19577 (49%)]\tLoss: 0.005099\n",
      "Train Epoch: 60 [12800/19577 (65%)]\tLoss: 0.012367\n",
      "Train Epoch: 60 [16000/19577 (82%)]\tLoss: 0.008239\n",
      "Train Epoch: 60 [19200/19577 (98%)]\tLoss: 0.009186\n",
      "\n",
      "Train loss: 0.011591118631056614\n"
     ]
    },
    {
     "name": "stderr",
     "output_type": "stream",
     "text": [
      "\r",
      " 12%|█▏        | 60/500 [08:21<55:00,  7.50s/it]"
     ]
    },
    {
     "name": "stdout",
     "output_type": "stream",
     "text": [
      "Test on 1143 samples\n",
      "R^2: -10.78\n",
      "Test Loss: 2.48%\n",
      "Train Epoch: 61 [0/19577 (0%)]\tLoss: 0.012606\n",
      "Train Epoch: 61 [3200/19577 (16%)]\tLoss: 0.006595\n",
      "Train Epoch: 61 [6400/19577 (33%)]\tLoss: 0.015256\n",
      "Train Epoch: 61 [9600/19577 (49%)]\tLoss: 0.015468\n",
      "Train Epoch: 61 [12800/19577 (65%)]\tLoss: 0.007513\n",
      "Train Epoch: 61 [16000/19577 (82%)]\tLoss: 0.008291\n",
      "Train Epoch: 61 [19200/19577 (98%)]\tLoss: 0.013566\n",
      "\n",
      "Train loss: 0.01136699457823305\n"
     ]
    },
    {
     "name": "stderr",
     "output_type": "stream",
     "text": [
      "\r",
      " 12%|█▏        | 61/500 [08:31<1:00:09,  8.22s/it]"
     ]
    },
    {
     "name": "stdout",
     "output_type": "stream",
     "text": [
      "Test on 1143 samples\n",
      "R^2: -6.43\n",
      "Test Loss: 2.50%\n",
      "Train Epoch: 62 [0/19577 (0%)]\tLoss: 0.005684\n",
      "Train Epoch: 62 [3200/19577 (16%)]\tLoss: 0.006981\n",
      "Train Epoch: 62 [6400/19577 (33%)]\tLoss: 0.007171\n",
      "Train Epoch: 62 [9600/19577 (49%)]\tLoss: 0.016589\n",
      "Train Epoch: 62 [12800/19577 (65%)]\tLoss: 0.010867\n",
      "Train Epoch: 62 [16000/19577 (82%)]\tLoss: 0.012041\n",
      "Train Epoch: 62 [19200/19577 (98%)]\tLoss: 0.016186\n",
      "\n",
      "Train loss: 0.0111738965432677\n"
     ]
    },
    {
     "name": "stderr",
     "output_type": "stream",
     "text": [
      "\r",
      " 12%|█▏        | 62/500 [08:40<1:01:33,  8.43s/it]"
     ]
    },
    {
     "name": "stdout",
     "output_type": "stream",
     "text": [
      "Test on 1143 samples\n",
      "R^2: -8.94\n",
      "Test Loss: 2.42%\n",
      "Train Epoch: 63 [0/19577 (0%)]\tLoss: 0.010680\n",
      "Train Epoch: 63 [3200/19577 (16%)]\tLoss: 0.004691\n",
      "Train Epoch: 63 [6400/19577 (33%)]\tLoss: 0.012896\n",
      "Train Epoch: 63 [9600/19577 (49%)]\tLoss: 0.019622\n",
      "Train Epoch: 63 [12800/19577 (65%)]\tLoss: 0.007676\n",
      "Train Epoch: 63 [16000/19577 (82%)]\tLoss: 0.006800\n",
      "Train Epoch: 63 [19200/19577 (98%)]\tLoss: 0.006694\n",
      "\n",
      "Train loss: 0.011002729133264545\n"
     ]
    },
    {
     "name": "stderr",
     "output_type": "stream",
     "text": [
      "\r",
      " 13%|█▎        | 63/500 [08:48<1:00:41,  8.33s/it]"
     ]
    },
    {
     "name": "stdout",
     "output_type": "stream",
     "text": [
      "Test on 1143 samples\n",
      "R^2: -5.31\n",
      "Test Loss: 2.44%\n",
      "Train Epoch: 64 [0/19577 (0%)]\tLoss: 0.008713\n",
      "Train Epoch: 64 [3200/19577 (16%)]\tLoss: 0.008841\n",
      "Train Epoch: 64 [6400/19577 (33%)]\tLoss: 0.047978\n",
      "Train Epoch: 64 [9600/19577 (49%)]\tLoss: 0.005404\n",
      "Train Epoch: 64 [12800/19577 (65%)]\tLoss: 0.008327\n",
      "Train Epoch: 64 [16000/19577 (82%)]\tLoss: 0.017795\n",
      "Train Epoch: 64 [19200/19577 (98%)]\tLoss: 0.004146\n",
      "\n",
      "Train loss: 0.010843394640711398\n"
     ]
    },
    {
     "name": "stderr",
     "output_type": "stream",
     "text": [
      "\r",
      " 13%|█▎        | 64/500 [08:55<58:20,  8.03s/it]  "
     ]
    },
    {
     "name": "stdout",
     "output_type": "stream",
     "text": [
      "Test on 1143 samples\n",
      "R^2: -7.02\n",
      "Test Loss: 2.37%\n",
      "Train Epoch: 65 [0/19577 (0%)]\tLoss: 0.007777\n",
      "Train Epoch: 65 [3200/19577 (16%)]\tLoss: 0.007611\n",
      "Train Epoch: 65 [6400/19577 (33%)]\tLoss: 0.016893\n",
      "Train Epoch: 65 [9600/19577 (49%)]\tLoss: 0.003797\n",
      "Train Epoch: 65 [12800/19577 (65%)]\tLoss: 0.008812\n",
      "Train Epoch: 65 [16000/19577 (82%)]\tLoss: 0.010691\n",
      "Train Epoch: 65 [19200/19577 (98%)]\tLoss: 0.009164\n",
      "\n",
      "Train loss: 0.010701255897193953\n"
     ]
    },
    {
     "name": "stderr",
     "output_type": "stream",
     "text": [
      "\r",
      " 13%|█▎        | 65/500 [09:03<56:25,  7.78s/it]"
     ]
    },
    {
     "name": "stdout",
     "output_type": "stream",
     "text": [
      "Test on 1143 samples\n",
      "R^2: -4.31\n",
      "Test Loss: 2.39%\n",
      "Train Epoch: 66 [0/19577 (0%)]\tLoss: 0.008441\n",
      "Train Epoch: 66 [3200/19577 (16%)]\tLoss: 0.008976\n",
      "Train Epoch: 66 [6400/19577 (33%)]\tLoss: 0.006903\n",
      "Train Epoch: 66 [9600/19577 (49%)]\tLoss: 0.010527\n",
      "Train Epoch: 66 [12800/19577 (65%)]\tLoss: 0.008072\n",
      "Train Epoch: 66 [16000/19577 (82%)]\tLoss: 0.011377\n",
      "Train Epoch: 66 [19200/19577 (98%)]\tLoss: 0.012496\n",
      "\n",
      "Train loss: 0.010557087565151354\n"
     ]
    },
    {
     "name": "stderr",
     "output_type": "stream",
     "text": [
      "\r",
      " 13%|█▎        | 66/500 [09:10<54:57,  7.60s/it]"
     ]
    },
    {
     "name": "stdout",
     "output_type": "stream",
     "text": [
      "Test on 1143 samples\n",
      "R^2: -8.78\n",
      "Test Loss: 2.32%\n",
      "Train Epoch: 67 [0/19577 (0%)]\tLoss: 0.011060\n",
      "Train Epoch: 67 [3200/19577 (16%)]\tLoss: 0.009511\n",
      "Train Epoch: 67 [6400/19577 (33%)]\tLoss: 0.005791\n",
      "Train Epoch: 67 [9600/19577 (49%)]\tLoss: 0.007138\n",
      "Train Epoch: 67 [12800/19577 (65%)]\tLoss: 0.008490\n",
      "Train Epoch: 67 [16000/19577 (82%)]\tLoss: 0.004083\n",
      "Train Epoch: 67 [19200/19577 (98%)]\tLoss: 0.007459\n",
      "\n",
      "Train loss: 0.010441655551807748\n"
     ]
    },
    {
     "name": "stderr",
     "output_type": "stream",
     "text": [
      "\r",
      " 13%|█▎        | 67/500 [09:18<55:56,  7.75s/it]"
     ]
    },
    {
     "name": "stdout",
     "output_type": "stream",
     "text": [
      "Test on 1143 samples\n",
      "R^2: -3.98\n",
      "Test Loss: 2.33%\n",
      "Train Epoch: 68 [0/19577 (0%)]\tLoss: 0.005596\n",
      "Train Epoch: 68 [3200/19577 (16%)]\tLoss: 0.011177\n",
      "Train Epoch: 68 [6400/19577 (33%)]\tLoss: 0.010252\n",
      "Train Epoch: 68 [9600/19577 (49%)]\tLoss: 0.006175\n",
      "Train Epoch: 68 [12800/19577 (65%)]\tLoss: 0.012395\n",
      "Train Epoch: 68 [16000/19577 (82%)]\tLoss: 0.007234\n",
      "Train Epoch: 68 [19200/19577 (98%)]\tLoss: 0.011785\n",
      "\n",
      "Train loss: 0.010327876823211662\n"
     ]
    },
    {
     "name": "stderr",
     "output_type": "stream",
     "text": [
      "\r",
      " 14%|█▎        | 68/500 [09:25<53:58,  7.50s/it]"
     ]
    },
    {
     "name": "stdout",
     "output_type": "stream",
     "text": [
      "Test on 1143 samples\n",
      "R^2: -6.48\n",
      "Test Loss: 2.29%\n",
      "Train Epoch: 69 [0/19577 (0%)]\tLoss: 0.007821\n",
      "Train Epoch: 69 [3200/19577 (16%)]\tLoss: 0.008065\n",
      "Train Epoch: 69 [6400/19577 (33%)]\tLoss: 0.006035\n",
      "Train Epoch: 69 [9600/19577 (49%)]\tLoss: 0.006702\n",
      "Train Epoch: 69 [12800/19577 (65%)]\tLoss: 0.010226\n",
      "Train Epoch: 69 [16000/19577 (82%)]\tLoss: 0.009581\n",
      "Train Epoch: 69 [19200/19577 (98%)]\tLoss: 0.007493\n",
      "\n",
      "Train loss: 0.01025023806255822\n"
     ]
    },
    {
     "name": "stderr",
     "output_type": "stream",
     "text": [
      "\r",
      " 14%|█▍        | 69/500 [09:32<52:45,  7.34s/it]"
     ]
    },
    {
     "name": "stdout",
     "output_type": "stream",
     "text": [
      "Test on 1143 samples\n",
      "R^2: -7.01\n",
      "Test Loss: 2.28%\n",
      "Train Epoch: 70 [0/19577 (0%)]\tLoss: 0.014979\n",
      "Train Epoch: 70 [3200/19577 (16%)]\tLoss: 0.007432\n",
      "Train Epoch: 70 [6400/19577 (33%)]\tLoss: 0.009100\n",
      "Train Epoch: 70 [9600/19577 (49%)]\tLoss: 0.009733\n",
      "Train Epoch: 70 [12800/19577 (65%)]\tLoss: 0.011582\n",
      "Train Epoch: 70 [16000/19577 (82%)]\tLoss: 0.010605\n",
      "Train Epoch: 70 [19200/19577 (98%)]\tLoss: 0.009208\n",
      "\n",
      "Train loss: 0.010162173117529236\n"
     ]
    },
    {
     "name": "stderr",
     "output_type": "stream",
     "text": [
      "\r",
      " 14%|█▍        | 70/500 [09:39<51:41,  7.21s/it]"
     ]
    },
    {
     "name": "stdout",
     "output_type": "stream",
     "text": [
      "Test on 1143 samples\n",
      "R^2: -3.74\n",
      "Test Loss: 2.28%\n",
      "Train Epoch: 71 [0/19577 (0%)]\tLoss: 0.005732\n",
      "Train Epoch: 71 [3200/19577 (16%)]\tLoss: 0.012077\n",
      "Train Epoch: 71 [6400/19577 (33%)]\tLoss: 0.005540\n",
      "Train Epoch: 71 [9600/19577 (49%)]\tLoss: 0.009317\n",
      "Train Epoch: 71 [12800/19577 (65%)]\tLoss: 0.004070\n",
      "Train Epoch: 71 [16000/19577 (82%)]\tLoss: 0.004723\n",
      "Train Epoch: 71 [19200/19577 (98%)]\tLoss: 0.006487\n",
      "\n",
      "Train loss: 0.01006669803899926\n"
     ]
    },
    {
     "name": "stderr",
     "output_type": "stream",
     "text": [
      "\r",
      " 14%|█▍        | 71/500 [09:46<50:45,  7.10s/it]"
     ]
    },
    {
     "name": "stdout",
     "output_type": "stream",
     "text": [
      "Test on 1143 samples\n",
      "R^2: -2.70\n",
      "Test Loss: 2.33%\n",
      "Train Epoch: 72 [0/19577 (0%)]\tLoss: 0.012156\n",
      "Train Epoch: 72 [3200/19577 (16%)]\tLoss: 0.011317\n",
      "Train Epoch: 72 [6400/19577 (33%)]\tLoss: 0.006207\n",
      "Train Epoch: 72 [9600/19577 (49%)]\tLoss: 0.006326\n",
      "Train Epoch: 72 [12800/19577 (65%)]\tLoss: 0.008742\n",
      "Train Epoch: 72 [16000/19577 (82%)]\tLoss: 0.003458\n",
      "Train Epoch: 72 [19200/19577 (98%)]\tLoss: 0.004496\n",
      "\n",
      "Train loss: 0.010010954249023271\n"
     ]
    },
    {
     "name": "stderr",
     "output_type": "stream",
     "text": [
      "\r",
      " 14%|█▍        | 72/500 [09:52<50:11,  7.04s/it]"
     ]
    },
    {
     "name": "stdout",
     "output_type": "stream",
     "text": [
      "Test on 1143 samples\n",
      "R^2: -2.70\n",
      "Test Loss: 2.26%\n",
      "Train Epoch: 73 [0/19577 (0%)]\tLoss: 0.004624\n",
      "Train Epoch: 73 [3200/19577 (16%)]\tLoss: 0.005234\n",
      "Train Epoch: 73 [6400/19577 (33%)]\tLoss: 0.009389\n",
      "Train Epoch: 73 [9600/19577 (49%)]\tLoss: 0.006794\n",
      "Train Epoch: 73 [12800/19577 (65%)]\tLoss: 0.007012\n",
      "Train Epoch: 73 [16000/19577 (82%)]\tLoss: 0.003130\n",
      "Train Epoch: 73 [19200/19577 (98%)]\tLoss: 0.009364\n",
      "\n",
      "Train loss: 0.009933077794152732\n"
     ]
    },
    {
     "name": "stderr",
     "output_type": "stream",
     "text": [
      "\r",
      " 15%|█▍        | 73/500 [10:01<52:52,  7.43s/it]"
     ]
    },
    {
     "name": "stdout",
     "output_type": "stream",
     "text": [
      "Test on 1143 samples\n",
      "R^2: -2.34\n",
      "Test Loss: 2.26%\n",
      "Train Epoch: 74 [0/19577 (0%)]\tLoss: 0.004304\n",
      "Train Epoch: 74 [3200/19577 (16%)]\tLoss: 0.006750\n",
      "Train Epoch: 74 [6400/19577 (33%)]\tLoss: 0.007085\n",
      "Train Epoch: 74 [9600/19577 (49%)]\tLoss: 0.008530\n",
      "Train Epoch: 74 [12800/19577 (65%)]\tLoss: 0.012909\n",
      "Train Epoch: 74 [16000/19577 (82%)]\tLoss: 0.002506\n",
      "Train Epoch: 74 [19200/19577 (98%)]\tLoss: 0.015921\n",
      "\n",
      "Train loss: 0.009869421394754907\n"
     ]
    },
    {
     "name": "stderr",
     "output_type": "stream",
     "text": [
      "\r",
      " 15%|█▍        | 74/500 [10:08<51:39,  7.28s/it]"
     ]
    },
    {
     "name": "stdout",
     "output_type": "stream",
     "text": [
      "Test on 1143 samples\n",
      "R^2: -2.62\n",
      "Test Loss: 2.24%\n",
      "Train Epoch: 75 [0/19577 (0%)]\tLoss: 0.012867\n",
      "Train Epoch: 75 [3200/19577 (16%)]\tLoss: 0.008123\n",
      "Train Epoch: 75 [6400/19577 (33%)]\tLoss: 0.006382\n",
      "Train Epoch: 75 [9600/19577 (49%)]\tLoss: 0.015631\n",
      "Train Epoch: 75 [12800/19577 (65%)]\tLoss: 0.005787\n",
      "Train Epoch: 75 [16000/19577 (82%)]\tLoss: 0.007270\n",
      "Train Epoch: 75 [19200/19577 (98%)]\tLoss: 0.006928\n",
      "\n",
      "Train loss: 0.009828191645461701\n"
     ]
    },
    {
     "name": "stderr",
     "output_type": "stream",
     "text": [
      "\r",
      " 15%|█▌        | 75/500 [10:15<50:41,  7.16s/it]"
     ]
    },
    {
     "name": "stdout",
     "output_type": "stream",
     "text": [
      "Test on 1143 samples\n",
      "R^2: -2.28\n",
      "Test Loss: 2.23%\n",
      "Train Epoch: 76 [0/19577 (0%)]\tLoss: 0.015304\n",
      "Train Epoch: 76 [3200/19577 (16%)]\tLoss: 0.012993\n",
      "Train Epoch: 76 [6400/19577 (33%)]\tLoss: 0.008949\n",
      "Train Epoch: 76 [9600/19577 (49%)]\tLoss: 0.012921\n",
      "Train Epoch: 76 [12800/19577 (65%)]\tLoss: 0.009219\n",
      "Train Epoch: 76 [16000/19577 (82%)]\tLoss: 0.007296\n",
      "Train Epoch: 76 [19200/19577 (98%)]\tLoss: 0.007792\n",
      "\n",
      "Train loss: 0.009772871552473483\n"
     ]
    },
    {
     "name": "stderr",
     "output_type": "stream",
     "text": [
      "\r",
      " 15%|█▌        | 76/500 [10:21<49:55,  7.07s/it]"
     ]
    },
    {
     "name": "stdout",
     "output_type": "stream",
     "text": [
      "Test on 1143 samples\n",
      "R^2: -1.54\n",
      "Test Loss: 2.25%\n",
      "Train Epoch: 77 [0/19577 (0%)]\tLoss: 0.008794\n",
      "Train Epoch: 77 [3200/19577 (16%)]\tLoss: 0.005684\n",
      "Train Epoch: 77 [6400/19577 (33%)]\tLoss: 0.010379\n",
      "Train Epoch: 77 [9600/19577 (49%)]\tLoss: 0.011335\n",
      "Train Epoch: 77 [12800/19577 (65%)]\tLoss: 0.007860\n",
      "Train Epoch: 77 [16000/19577 (82%)]\tLoss: 0.008360\n",
      "Train Epoch: 77 [19200/19577 (98%)]\tLoss: 0.013274\n",
      "\n",
      "Train loss: 0.009717499847931702\n"
     ]
    },
    {
     "name": "stderr",
     "output_type": "stream",
     "text": [
      "\r",
      " 15%|█▌        | 77/500 [10:28<49:29,  7.02s/it]"
     ]
    },
    {
     "name": "stdout",
     "output_type": "stream",
     "text": [
      "Test on 1143 samples\n",
      "R^2: -2.57\n",
      "Test Loss: 2.21%\n",
      "Train Epoch: 78 [0/19577 (0%)]\tLoss: 0.004212\n",
      "Train Epoch: 78 [3200/19577 (16%)]\tLoss: 0.004834\n",
      "Train Epoch: 78 [6400/19577 (33%)]\tLoss: 0.005063\n",
      "Train Epoch: 78 [9600/19577 (49%)]\tLoss: 0.011356\n",
      "Train Epoch: 78 [12800/19577 (65%)]\tLoss: 0.006037\n",
      "Train Epoch: 78 [16000/19577 (82%)]\tLoss: 0.007637\n",
      "Train Epoch: 78 [19200/19577 (98%)]\tLoss: 0.010389\n",
      "\n",
      "Train loss: 0.009679825641701813\n"
     ]
    },
    {
     "name": "stderr",
     "output_type": "stream",
     "text": [
      "\r",
      " 16%|█▌        | 78/500 [10:35<49:01,  6.97s/it]"
     ]
    },
    {
     "name": "stdout",
     "output_type": "stream",
     "text": [
      "Test on 1143 samples\n",
      "R^2: -1.41\n",
      "Test Loss: 2.21%\n",
      "Train Epoch: 79 [0/19577 (0%)]\tLoss: 0.004990\n",
      "Train Epoch: 79 [3200/19577 (16%)]\tLoss: 0.008190\n",
      "Train Epoch: 79 [6400/19577 (33%)]\tLoss: 0.006342\n",
      "Train Epoch: 79 [9600/19577 (49%)]\tLoss: 0.006643\n",
      "Train Epoch: 79 [12800/19577 (65%)]\tLoss: 0.009672\n",
      "Train Epoch: 79 [16000/19577 (82%)]\tLoss: 0.014374\n",
      "Train Epoch: 79 [19200/19577 (98%)]\tLoss: 0.005841\n",
      "\n",
      "Train loss: 0.009624422457848305\n"
     ]
    },
    {
     "name": "stderr",
     "output_type": "stream",
     "text": [
      "\r",
      " 16%|█▌        | 79/500 [10:43<49:53,  7.11s/it]"
     ]
    },
    {
     "name": "stdout",
     "output_type": "stream",
     "text": [
      "Test on 1143 samples\n",
      "R^2: -2.22\n",
      "Test Loss: 2.20%\n",
      "Train Epoch: 80 [0/19577 (0%)]\tLoss: 0.007335\n",
      "Train Epoch: 80 [3200/19577 (16%)]\tLoss: 0.013835\n",
      "Train Epoch: 80 [6400/19577 (33%)]\tLoss: 0.021708\n",
      "Train Epoch: 80 [9600/19577 (49%)]\tLoss: 0.013107\n",
      "Train Epoch: 80 [12800/19577 (65%)]\tLoss: 0.008320\n",
      "Train Epoch: 80 [16000/19577 (82%)]\tLoss: 0.007956\n",
      "Train Epoch: 80 [19200/19577 (98%)]\tLoss: 0.005475\n",
      "\n",
      "Train loss: 0.009589175421294142\n"
     ]
    },
    {
     "name": "stderr",
     "output_type": "stream",
     "text": [
      "\r",
      " 16%|█▌        | 80/500 [10:49<49:07,  7.02s/it]"
     ]
    },
    {
     "name": "stdout",
     "output_type": "stream",
     "text": [
      "Test on 1143 samples\n",
      "R^2: -1.15\n",
      "Test Loss: 2.21%\n",
      "Train Epoch: 81 [0/19577 (0%)]\tLoss: 0.007991\n",
      "Train Epoch: 81 [3200/19577 (16%)]\tLoss: 0.010103\n",
      "Train Epoch: 81 [6400/19577 (33%)]\tLoss: 0.005825\n",
      "Train Epoch: 81 [9600/19577 (49%)]\tLoss: 0.012591\n",
      "Train Epoch: 81 [12800/19577 (65%)]\tLoss: 0.007732\n",
      "Train Epoch: 81 [16000/19577 (82%)]\tLoss: 0.011665\n",
      "Train Epoch: 81 [19200/19577 (98%)]\tLoss: 0.007673\n",
      "\n",
      "Train loss: 0.00954953516419563\n"
     ]
    },
    {
     "name": "stderr",
     "output_type": "stream",
     "text": [
      "\r",
      " 16%|█▌        | 81/500 [10:57<49:44,  7.12s/it]"
     ]
    },
    {
     "name": "stdout",
     "output_type": "stream",
     "text": [
      "Test on 1143 samples\n",
      "R^2: -3.80\n",
      "Test Loss: 2.19%\n",
      "Train Epoch: 82 [0/19577 (0%)]\tLoss: 0.002511\n",
      "Train Epoch: 82 [3200/19577 (16%)]\tLoss: 0.004904\n",
      "Train Epoch: 82 [6400/19577 (33%)]\tLoss: 0.004181\n",
      "Train Epoch: 82 [9600/19577 (49%)]\tLoss: 0.008285\n",
      "Train Epoch: 82 [12800/19577 (65%)]\tLoss: 0.015178\n",
      "Train Epoch: 82 [16000/19577 (82%)]\tLoss: 0.004941\n",
      "Train Epoch: 82 [19200/19577 (98%)]\tLoss: 0.010430\n",
      "\n",
      "Train loss: 0.009524849896300949\n"
     ]
    },
    {
     "name": "stderr",
     "output_type": "stream",
     "text": [
      "\r",
      " 16%|█▋        | 82/500 [11:04<50:28,  7.25s/it]"
     ]
    },
    {
     "name": "stdout",
     "output_type": "stream",
     "text": [
      "Test on 1143 samples\n",
      "R^2: -1.32\n",
      "Test Loss: 2.18%\n",
      "Train Epoch: 83 [0/19577 (0%)]\tLoss: 0.018685\n",
      "Train Epoch: 83 [3200/19577 (16%)]\tLoss: 0.008377\n",
      "Train Epoch: 83 [6400/19577 (33%)]\tLoss: 0.005744\n",
      "Train Epoch: 83 [9600/19577 (49%)]\tLoss: 0.003261\n",
      "Train Epoch: 83 [12800/19577 (65%)]\tLoss: 0.005852\n",
      "Train Epoch: 83 [16000/19577 (82%)]\tLoss: 0.006919\n",
      "Train Epoch: 83 [19200/19577 (98%)]\tLoss: 0.009170\n",
      "\n",
      "Train loss: 0.009472451363751069\n"
     ]
    },
    {
     "name": "stderr",
     "output_type": "stream",
     "text": [
      "\r",
      " 17%|█▋        | 83/500 [11:11<49:35,  7.13s/it]"
     ]
    },
    {
     "name": "stdout",
     "output_type": "stream",
     "text": [
      "Test on 1143 samples\n",
      "R^2: -0.89\n",
      "Test Loss: 2.19%\n",
      "Train Epoch: 84 [0/19577 (0%)]\tLoss: 0.009277\n",
      "Train Epoch: 84 [3200/19577 (16%)]\tLoss: 0.007439\n",
      "Train Epoch: 84 [6400/19577 (33%)]\tLoss: 0.007557\n",
      "Train Epoch: 84 [9600/19577 (49%)]\tLoss: 0.009928\n",
      "Train Epoch: 84 [12800/19577 (65%)]\tLoss: 0.006210\n",
      "Train Epoch: 84 [16000/19577 (82%)]\tLoss: 0.008815\n",
      "Train Epoch: 84 [19200/19577 (98%)]\tLoss: 0.005390\n",
      "\n",
      "Train loss: 0.009466566230639134\n"
     ]
    },
    {
     "name": "stderr",
     "output_type": "stream",
     "text": [
      "\r",
      " 17%|█▋        | 84/500 [11:18<49:01,  7.07s/it]"
     ]
    },
    {
     "name": "stdout",
     "output_type": "stream",
     "text": [
      "Test on 1143 samples\n",
      "R^2: -0.94\n",
      "Test Loss: 2.17%\n",
      "Train Epoch: 85 [0/19577 (0%)]\tLoss: 0.006866\n",
      "Train Epoch: 85 [3200/19577 (16%)]\tLoss: 0.003089\n",
      "Train Epoch: 85 [6400/19577 (33%)]\tLoss: 0.005660\n",
      "Train Epoch: 85 [9600/19577 (49%)]\tLoss: 0.008309\n",
      "Train Epoch: 85 [12800/19577 (65%)]\tLoss: 0.003961\n",
      "Train Epoch: 85 [16000/19577 (82%)]\tLoss: 0.003586\n",
      "Train Epoch: 85 [19200/19577 (98%)]\tLoss: 0.008009\n",
      "\n",
      "Train loss: 0.009436337560342224\n"
     ]
    },
    {
     "name": "stderr",
     "output_type": "stream",
     "text": [
      "\r",
      " 17%|█▋        | 85/500 [11:25<49:14,  7.12s/it]"
     ]
    },
    {
     "name": "stdout",
     "output_type": "stream",
     "text": [
      "Test on 1143 samples\n",
      "R^2: -0.95\n",
      "Test Loss: 2.17%\n",
      "Train Epoch: 86 [0/19577 (0%)]\tLoss: 0.011615\n",
      "Train Epoch: 86 [3200/19577 (16%)]\tLoss: 0.003580\n",
      "Train Epoch: 86 [6400/19577 (33%)]\tLoss: 0.005835\n",
      "Train Epoch: 86 [9600/19577 (49%)]\tLoss: 0.004906\n",
      "Train Epoch: 86 [12800/19577 (65%)]\tLoss: 0.007060\n",
      "Train Epoch: 86 [16000/19577 (82%)]\tLoss: 0.004403\n",
      "Train Epoch: 86 [19200/19577 (98%)]\tLoss: 0.075884\n",
      "\n",
      "Train loss: 0.00941075290571533\n"
     ]
    },
    {
     "name": "stderr",
     "output_type": "stream",
     "text": [
      "\r",
      " 17%|█▋        | 86/500 [11:32<48:36,  7.05s/it]"
     ]
    },
    {
     "name": "stdout",
     "output_type": "stream",
     "text": [
      "Test on 1143 samples\n",
      "R^2: -0.75\n",
      "Test Loss: 2.17%\n",
      "Train Epoch: 87 [0/19577 (0%)]\tLoss: 0.005879\n",
      "Train Epoch: 87 [3200/19577 (16%)]\tLoss: 0.005577\n",
      "Train Epoch: 87 [6400/19577 (33%)]\tLoss: 0.011083\n",
      "Train Epoch: 87 [9600/19577 (49%)]\tLoss: 0.003069\n",
      "Train Epoch: 87 [12800/19577 (65%)]\tLoss: 0.009249\n",
      "Train Epoch: 87 [16000/19577 (82%)]\tLoss: 0.004167\n",
      "Train Epoch: 87 [19200/19577 (98%)]\tLoss: 0.010336\n",
      "\n",
      "Train loss: 0.009387350905217912\n"
     ]
    },
    {
     "name": "stderr",
     "output_type": "stream",
     "text": [
      "\r",
      " 17%|█▋        | 87/500 [11:39<48:13,  7.01s/it]"
     ]
    },
    {
     "name": "stdout",
     "output_type": "stream",
     "text": [
      "Test on 1143 samples\n",
      "R^2: -3.28\n",
      "Test Loss: 2.23%\n",
      "Train Epoch: 88 [0/19577 (0%)]\tLoss: 0.008005\n",
      "Train Epoch: 88 [3200/19577 (16%)]\tLoss: 0.008252\n",
      "Train Epoch: 88 [6400/19577 (33%)]\tLoss: 0.007892\n",
      "Train Epoch: 88 [9600/19577 (49%)]\tLoss: 0.006602\n",
      "Train Epoch: 88 [12800/19577 (65%)]\tLoss: 0.007622\n",
      "Train Epoch: 88 [16000/19577 (82%)]\tLoss: 0.026021\n",
      "Train Epoch: 88 [19200/19577 (98%)]\tLoss: 0.006333\n",
      "\n",
      "Train loss: 0.009341876981232096\n"
     ]
    },
    {
     "name": "stderr",
     "output_type": "stream",
     "text": [
      "\r",
      " 18%|█▊        | 88/500 [11:46<47:45,  6.96s/it]"
     ]
    },
    {
     "name": "stdout",
     "output_type": "stream",
     "text": [
      "Test on 1143 samples\n",
      "R^2: -0.75\n",
      "Test Loss: 2.16%\n",
      "Train Epoch: 89 [0/19577 (0%)]\tLoss: 0.004536\n",
      "Train Epoch: 89 [3200/19577 (16%)]\tLoss: 0.007514\n",
      "Train Epoch: 89 [6400/19577 (33%)]\tLoss: 0.014312\n",
      "Train Epoch: 89 [9600/19577 (49%)]\tLoss: 0.011857\n",
      "Train Epoch: 89 [12800/19577 (65%)]\tLoss: 0.008824\n",
      "Train Epoch: 89 [16000/19577 (82%)]\tLoss: 0.005227\n",
      "Train Epoch: 89 [19200/19577 (98%)]\tLoss: 0.011776\n",
      "\n",
      "Train loss: 0.009327322002682908\n"
     ]
    },
    {
     "name": "stderr",
     "output_type": "stream",
     "text": [
      "\r",
      " 18%|█▊        | 89/500 [11:53<47:36,  6.95s/it]"
     ]
    },
    {
     "name": "stdout",
     "output_type": "stream",
     "text": [
      "Test on 1143 samples\n",
      "R^2: -0.72\n",
      "Test Loss: 2.15%\n",
      "Train Epoch: 90 [0/19577 (0%)]\tLoss: 0.009010\n",
      "Train Epoch: 90 [3200/19577 (16%)]\tLoss: 0.008494\n",
      "Train Epoch: 90 [6400/19577 (33%)]\tLoss: 0.003932\n",
      "Train Epoch: 90 [9600/19577 (49%)]\tLoss: 0.004875\n",
      "Train Epoch: 90 [12800/19577 (65%)]\tLoss: 0.004790\n",
      "Train Epoch: 90 [16000/19577 (82%)]\tLoss: 0.006325\n",
      "Train Epoch: 90 [19200/19577 (98%)]\tLoss: 0.004967\n",
      "\n",
      "Train loss: 0.009307617425090738\n"
     ]
    },
    {
     "name": "stderr",
     "output_type": "stream",
     "text": [
      "\r",
      " 18%|█▊        | 90/500 [12:01<49:30,  7.24s/it]"
     ]
    },
    {
     "name": "stdout",
     "output_type": "stream",
     "text": [
      "Test on 1143 samples\n",
      "R^2: -1.57\n",
      "Test Loss: 2.18%\n",
      "Train Epoch: 91 [0/19577 (0%)]\tLoss: 0.004308\n",
      "Train Epoch: 91 [3200/19577 (16%)]\tLoss: 0.005497\n",
      "Train Epoch: 91 [6400/19577 (33%)]\tLoss: 0.007917\n",
      "Train Epoch: 91 [9600/19577 (49%)]\tLoss: 0.012715\n",
      "Train Epoch: 91 [12800/19577 (65%)]\tLoss: 0.012110\n",
      "Train Epoch: 91 [16000/19577 (82%)]\tLoss: 0.004806\n",
      "Train Epoch: 91 [19200/19577 (98%)]\tLoss: 0.015761\n",
      "\n",
      "Train loss: 0.009292265641490861\n"
     ]
    },
    {
     "name": "stderr",
     "output_type": "stream",
     "text": [
      "\r",
      " 18%|█▊        | 91/500 [12:08<48:47,  7.16s/it]"
     ]
    },
    {
     "name": "stdout",
     "output_type": "stream",
     "text": [
      "Test on 1143 samples\n",
      "R^2: -1.31\n",
      "Test Loss: 2.14%\n",
      "Train Epoch: 92 [0/19577 (0%)]\tLoss: 0.006385\n",
      "Train Epoch: 92 [3200/19577 (16%)]\tLoss: 0.004870\n",
      "Train Epoch: 92 [6400/19577 (33%)]\tLoss: 0.003841\n",
      "Train Epoch: 92 [9600/19577 (49%)]\tLoss: 0.006944\n",
      "Train Epoch: 92 [12800/19577 (65%)]\tLoss: 0.007425\n",
      "Train Epoch: 92 [16000/19577 (82%)]\tLoss: 0.006154\n",
      "Train Epoch: 92 [19200/19577 (98%)]\tLoss: 0.005155\n",
      "\n",
      "Train loss: 0.009266604382538669\n"
     ]
    },
    {
     "name": "stderr",
     "output_type": "stream",
     "text": [
      "\r",
      " 18%|█▊        | 92/500 [12:15<48:18,  7.10s/it]"
     ]
    },
    {
     "name": "stdout",
     "output_type": "stream",
     "text": [
      "Test on 1143 samples\n",
      "R^2: -1.44\n",
      "Test Loss: 2.16%\n",
      "Train Epoch: 93 [0/19577 (0%)]\tLoss: 0.012421\n",
      "Train Epoch: 93 [3200/19577 (16%)]\tLoss: 0.003352\n",
      "Train Epoch: 93 [6400/19577 (33%)]\tLoss: 0.008225\n",
      "Train Epoch: 93 [9600/19577 (49%)]\tLoss: 0.013831\n",
      "Train Epoch: 93 [12800/19577 (65%)]\tLoss: 0.005434\n",
      "Train Epoch: 93 [16000/19577 (82%)]\tLoss: 0.006339\n",
      "Train Epoch: 93 [19200/19577 (98%)]\tLoss: 0.004158\n",
      "\n",
      "Train loss: 0.009242867605815478\n"
     ]
    },
    {
     "name": "stderr",
     "output_type": "stream",
     "text": [
      "\r",
      " 19%|█▊        | 93/500 [12:22<48:14,  7.11s/it]"
     ]
    },
    {
     "name": "stdout",
     "output_type": "stream",
     "text": [
      "Test on 1143 samples\n",
      "R^2: -3.04\n",
      "Test Loss: 2.14%\n",
      "Train Epoch: 94 [0/19577 (0%)]\tLoss: 0.007546\n",
      "Train Epoch: 94 [3200/19577 (16%)]\tLoss: 0.013790\n",
      "Train Epoch: 94 [6400/19577 (33%)]\tLoss: 0.015545\n",
      "Train Epoch: 94 [9600/19577 (49%)]\tLoss: 0.005762\n",
      "Train Epoch: 94 [12800/19577 (65%)]\tLoss: 0.009150\n",
      "Train Epoch: 94 [16000/19577 (82%)]\tLoss: 0.014052\n",
      "Train Epoch: 94 [19200/19577 (98%)]\tLoss: 0.006946\n",
      "\n",
      "Train loss: 0.009212556304988372\n"
     ]
    },
    {
     "name": "stderr",
     "output_type": "stream",
     "text": [
      "\r",
      " 19%|█▉        | 94/500 [12:31<52:38,  7.78s/it]"
     ]
    },
    {
     "name": "stdout",
     "output_type": "stream",
     "text": [
      "Test on 1143 samples\n",
      "R^2: -0.50\n",
      "Test Loss: 2.13%\n",
      "Train Epoch: 95 [0/19577 (0%)]\tLoss: 0.008172\n",
      "Train Epoch: 95 [3200/19577 (16%)]\tLoss: 0.004304\n",
      "Train Epoch: 95 [6400/19577 (33%)]\tLoss: 0.080324\n",
      "Train Epoch: 95 [9600/19577 (49%)]\tLoss: 0.012503\n",
      "Train Epoch: 95 [12800/19577 (65%)]\tLoss: 0.005415\n",
      "Train Epoch: 95 [16000/19577 (82%)]\tLoss: 0.006679\n",
      "Train Epoch: 95 [19200/19577 (98%)]\tLoss: 0.006842\n",
      "\n",
      "Train loss: 0.009194871941063967\n"
     ]
    },
    {
     "name": "stderr",
     "output_type": "stream",
     "text": [
      "\r",
      " 19%|█▉        | 95/500 [12:40<54:48,  8.12s/it]"
     ]
    },
    {
     "name": "stdout",
     "output_type": "stream",
     "text": [
      "Test on 1143 samples\n",
      "R^2: -0.63\n",
      "Test Loss: 2.12%\n",
      "Train Epoch: 96 [0/19577 (0%)]\tLoss: 0.008756\n",
      "Train Epoch: 96 [3200/19577 (16%)]\tLoss: 0.002698\n",
      "Train Epoch: 96 [6400/19577 (33%)]\tLoss: 0.006063\n",
      "Train Epoch: 96 [9600/19577 (49%)]\tLoss: 0.005746\n",
      "Train Epoch: 96 [12800/19577 (65%)]\tLoss: 0.007209\n",
      "Train Epoch: 96 [16000/19577 (82%)]\tLoss: 0.011858\n",
      "Train Epoch: 96 [19200/19577 (98%)]\tLoss: 0.005866\n",
      "\n",
      "Train loss: 0.009200335265703354\n"
     ]
    },
    {
     "name": "stderr",
     "output_type": "stream",
     "text": [
      "\r",
      " 19%|█▉        | 96/500 [12:48<54:50,  8.14s/it]"
     ]
    },
    {
     "name": "stdout",
     "output_type": "stream",
     "text": [
      "Test on 1143 samples\n",
      "R^2: -2.41\n",
      "Test Loss: 2.17%\n",
      "Train Epoch: 97 [0/19577 (0%)]\tLoss: 0.004729\n",
      "Train Epoch: 97 [3200/19577 (16%)]\tLoss: 0.003739\n",
      "Train Epoch: 97 [6400/19577 (33%)]\tLoss: 0.007027\n",
      "Train Epoch: 97 [9600/19577 (49%)]\tLoss: 0.003883\n",
      "Train Epoch: 97 [12800/19577 (65%)]\tLoss: 0.011768\n",
      "Train Epoch: 97 [16000/19577 (82%)]\tLoss: 0.005621\n",
      "Train Epoch: 97 [19200/19577 (98%)]\tLoss: 0.007944\n",
      "\n",
      "Train loss: 0.009163158254856182\n"
     ]
    },
    {
     "name": "stderr",
     "output_type": "stream",
     "text": [
      "\r",
      " 19%|█▉        | 97/500 [12:57<54:52,  8.17s/it]"
     ]
    },
    {
     "name": "stdout",
     "output_type": "stream",
     "text": [
      "Test on 1143 samples\n",
      "R^2: -0.89\n",
      "Test Loss: 2.12%\n",
      "Train Epoch: 98 [0/19577 (0%)]\tLoss: 0.006114\n",
      "Train Epoch: 98 [3200/19577 (16%)]\tLoss: 0.006322\n",
      "Train Epoch: 98 [6400/19577 (33%)]\tLoss: 0.007984\n",
      "Train Epoch: 98 [9600/19577 (49%)]\tLoss: 0.006939\n",
      "Train Epoch: 98 [12800/19577 (65%)]\tLoss: 0.004586\n",
      "Train Epoch: 98 [16000/19577 (82%)]\tLoss: 0.006357\n",
      "Train Epoch: 98 [19200/19577 (98%)]\tLoss: 0.010603\n",
      "\n",
      "Train loss: 0.009136878173521362\n"
     ]
    },
    {
     "name": "stderr",
     "output_type": "stream",
     "text": [
      "\r",
      " 20%|█▉        | 98/500 [13:05<55:06,  8.23s/it]"
     ]
    },
    {
     "name": "stdout",
     "output_type": "stream",
     "text": [
      "Test on 1143 samples\n",
      "R^2: -2.68\n",
      "Test Loss: 2.12%\n",
      "Train Epoch: 99 [0/19577 (0%)]\tLoss: 0.010203\n",
      "Train Epoch: 99 [3200/19577 (16%)]\tLoss: 0.005320\n",
      "Train Epoch: 99 [6400/19577 (33%)]\tLoss: 0.005852\n",
      "Train Epoch: 99 [9600/19577 (49%)]\tLoss: 0.006390\n",
      "Train Epoch: 99 [12800/19577 (65%)]\tLoss: 0.005046\n",
      "Train Epoch: 99 [16000/19577 (82%)]\tLoss: 0.010473\n",
      "Train Epoch: 99 [19200/19577 (98%)]\tLoss: 0.009919\n",
      "\n",
      "Train loss: 0.00912239877438611\n"
     ]
    },
    {
     "name": "stderr",
     "output_type": "stream",
     "text": [
      "\r",
      " 20%|█▉        | 99/500 [13:13<53:53,  8.06s/it]"
     ]
    },
    {
     "name": "stdout",
     "output_type": "stream",
     "text": [
      "Test on 1143 samples\n",
      "R^2: -2.10\n",
      "Test Loss: 2.10%\n",
      "Train Epoch: 100 [0/19577 (0%)]\tLoss: 0.003954\n",
      "Train Epoch: 100 [3200/19577 (16%)]\tLoss: 0.007300\n",
      "Train Epoch: 100 [6400/19577 (33%)]\tLoss: 0.009593\n",
      "Train Epoch: 100 [9600/19577 (49%)]\tLoss: 0.006353\n",
      "Train Epoch: 100 [12800/19577 (65%)]\tLoss: 0.006436\n",
      "Train Epoch: 100 [16000/19577 (82%)]\tLoss: 0.007972\n",
      "Train Epoch: 100 [19200/19577 (98%)]\tLoss: 0.013468\n",
      "\n",
      "Train loss: 0.009101535466018747\n"
     ]
    },
    {
     "name": "stderr",
     "output_type": "stream",
     "text": [
      "\r",
      " 20%|██        | 100/500 [13:20<51:29,  7.72s/it]"
     ]
    },
    {
     "name": "stdout",
     "output_type": "stream",
     "text": [
      "Test on 1143 samples\n",
      "R^2: -0.40\n",
      "Test Loss: 2.10%\n",
      "Train Epoch: 101 [0/19577 (0%)]\tLoss: 0.003606\n",
      "Train Epoch: 101 [3200/19577 (16%)]\tLoss: 0.008715\n",
      "Train Epoch: 101 [6400/19577 (33%)]\tLoss: 0.004039\n",
      "Train Epoch: 101 [9600/19577 (49%)]\tLoss: 0.008490\n",
      "Train Epoch: 101 [12800/19577 (65%)]\tLoss: 0.010258\n",
      "Train Epoch: 101 [16000/19577 (82%)]\tLoss: 0.007485\n",
      "Train Epoch: 101 [19200/19577 (98%)]\tLoss: 0.013389\n",
      "\n",
      "Train loss: 0.009095176318629944\n"
     ]
    },
    {
     "name": "stderr",
     "output_type": "stream",
     "text": [
      "\r",
      " 20%|██        | 101/500 [13:27<49:51,  7.50s/it]"
     ]
    },
    {
     "name": "stdout",
     "output_type": "stream",
     "text": [
      "Test on 1143 samples\n",
      "R^2: -2.52\n",
      "Test Loss: 2.10%\n",
      "Train Epoch: 102 [0/19577 (0%)]\tLoss: 0.009539\n",
      "Train Epoch: 102 [3200/19577 (16%)]\tLoss: 0.004648\n",
      "Train Epoch: 102 [6400/19577 (33%)]\tLoss: 0.017345\n",
      "Train Epoch: 102 [9600/19577 (49%)]\tLoss: 0.005386\n",
      "Train Epoch: 102 [12800/19577 (65%)]\tLoss: 0.007875\n",
      "Train Epoch: 102 [16000/19577 (82%)]\tLoss: 0.007304\n",
      "Train Epoch: 102 [19200/19577 (98%)]\tLoss: 0.008659\n",
      "\n",
      "Train loss: 0.009073058300761177\n"
     ]
    },
    {
     "name": "stderr",
     "output_type": "stream",
     "text": [
      "\r",
      " 20%|██        | 102/500 [13:35<50:46,  7.65s/it]"
     ]
    },
    {
     "name": "stdout",
     "output_type": "stream",
     "text": [
      "Test on 1143 samples\n",
      "R^2: -0.63\n",
      "Test Loss: 2.09%\n",
      "Train Epoch: 103 [0/19577 (0%)]\tLoss: 0.005376\n",
      "Train Epoch: 103 [3200/19577 (16%)]\tLoss: 0.005248\n",
      "Train Epoch: 103 [6400/19577 (33%)]\tLoss: 0.004887\n",
      "Train Epoch: 103 [9600/19577 (49%)]\tLoss: 0.007664\n",
      "Train Epoch: 103 [12800/19577 (65%)]\tLoss: 0.005115\n",
      "Train Epoch: 103 [16000/19577 (82%)]\tLoss: 0.006817\n",
      "Train Epoch: 103 [19200/19577 (98%)]\tLoss: 0.005301\n",
      "\n",
      "Train loss: 0.00907233734676018\n"
     ]
    },
    {
     "name": "stderr",
     "output_type": "stream",
     "text": [
      "\r",
      " 21%|██        | 103/500 [13:42<50:19,  7.61s/it]"
     ]
    },
    {
     "name": "stdout",
     "output_type": "stream",
     "text": [
      "Test on 1143 samples\n",
      "R^2: -0.48\n",
      "Test Loss: 2.09%\n",
      "Train Epoch: 104 [0/19577 (0%)]\tLoss: 0.005404\n",
      "Train Epoch: 104 [3200/19577 (16%)]\tLoss: 0.007313\n",
      "Train Epoch: 104 [6400/19577 (33%)]\tLoss: 0.009064\n",
      "Train Epoch: 104 [9600/19577 (49%)]\tLoss: 0.004805\n",
      "Train Epoch: 104 [12800/19577 (65%)]\tLoss: 0.006793\n",
      "Train Epoch: 104 [16000/19577 (82%)]\tLoss: 0.006515\n",
      "Train Epoch: 104 [19200/19577 (98%)]\tLoss: 0.004387\n",
      "\n",
      "Train loss: 0.009023249366174579\n"
     ]
    },
    {
     "name": "stderr",
     "output_type": "stream",
     "text": [
      "\r",
      " 21%|██        | 104/500 [13:49<48:54,  7.41s/it]"
     ]
    },
    {
     "name": "stdout",
     "output_type": "stream",
     "text": [
      "Test on 1143 samples\n",
      "R^2: -0.55\n",
      "Test Loss: 2.08%\n",
      "Train Epoch: 105 [0/19577 (0%)]\tLoss: 0.006985\n",
      "Train Epoch: 105 [3200/19577 (16%)]\tLoss: 0.006411\n",
      "Train Epoch: 105 [6400/19577 (33%)]\tLoss: 0.009553\n",
      "Train Epoch: 105 [9600/19577 (49%)]\tLoss: 0.007638\n",
      "Train Epoch: 105 [12800/19577 (65%)]\tLoss: 0.004424\n",
      "Train Epoch: 105 [16000/19577 (82%)]\tLoss: 0.007551\n",
      "Train Epoch: 105 [19200/19577 (98%)]\tLoss: 0.006520\n",
      "\n",
      "Train loss: 0.009007999422393885\n"
     ]
    },
    {
     "name": "stderr",
     "output_type": "stream",
     "text": [
      "\r",
      " 21%|██        | 105/500 [13:56<48:49,  7.42s/it]"
     ]
    },
    {
     "name": "stdout",
     "output_type": "stream",
     "text": [
      "Test on 1143 samples\n",
      "R^2: -0.30\n",
      "Test Loss: 2.08%\n",
      "Train Epoch: 106 [0/19577 (0%)]\tLoss: 0.006086\n",
      "Train Epoch: 106 [3200/19577 (16%)]\tLoss: 0.003373\n",
      "Train Epoch: 106 [6400/19577 (33%)]\tLoss: 0.007738\n",
      "Train Epoch: 106 [9600/19577 (49%)]\tLoss: 0.002928\n",
      "Train Epoch: 106 [12800/19577 (65%)]\tLoss: 0.005560\n",
      "Train Epoch: 106 [16000/19577 (82%)]\tLoss: 0.007032\n",
      "Train Epoch: 106 [19200/19577 (98%)]\tLoss: 0.008811\n",
      "\n",
      "Train loss: 0.008982719234160446\n"
     ]
    },
    {
     "name": "stderr",
     "output_type": "stream",
     "text": [
      "\r",
      " 21%|██        | 106/500 [14:06<52:30,  8.00s/it]"
     ]
    },
    {
     "name": "stdout",
     "output_type": "stream",
     "text": [
      "Test on 1143 samples\n",
      "R^2: -0.42\n",
      "Test Loss: 2.07%\n",
      "Train Epoch: 107 [0/19577 (0%)]\tLoss: 0.008681\n",
      "Train Epoch: 107 [3200/19577 (16%)]\tLoss: 0.015011\n",
      "Train Epoch: 107 [6400/19577 (33%)]\tLoss: 0.006421\n",
      "Train Epoch: 107 [9600/19577 (49%)]\tLoss: 0.005561\n",
      "Train Epoch: 107 [12800/19577 (65%)]\tLoss: 0.014173\n",
      "Train Epoch: 107 [16000/19577 (82%)]\tLoss: 0.005410\n",
      "Train Epoch: 107 [19200/19577 (98%)]\tLoss: 0.005567\n",
      "\n",
      "Train loss: 0.008978694105167793\n"
     ]
    },
    {
     "name": "stderr",
     "output_type": "stream",
     "text": [
      "\r",
      " 21%|██▏       | 107/500 [14:14<52:29,  8.02s/it]"
     ]
    },
    {
     "name": "stdout",
     "output_type": "stream",
     "text": [
      "Test on 1143 samples\n",
      "R^2: -0.32\n",
      "Test Loss: 2.07%\n",
      "Train Epoch: 108 [0/19577 (0%)]\tLoss: 0.007324\n",
      "Train Epoch: 108 [3200/19577 (16%)]\tLoss: 0.005913\n",
      "Train Epoch: 108 [6400/19577 (33%)]\tLoss: 0.006739\n",
      "Train Epoch: 108 [9600/19577 (49%)]\tLoss: 0.009970\n",
      "Train Epoch: 108 [12800/19577 (65%)]\tLoss: 0.011537\n",
      "Train Epoch: 108 [16000/19577 (82%)]\tLoss: 0.016676\n",
      "Train Epoch: 108 [19200/19577 (98%)]\tLoss: 0.005624\n",
      "\n",
      "Train loss: 0.008959937783633815\n"
     ]
    },
    {
     "name": "stderr",
     "output_type": "stream",
     "text": [
      "\r",
      " 22%|██▏       | 108/500 [14:21<50:21,  7.71s/it]"
     ]
    },
    {
     "name": "stdout",
     "output_type": "stream",
     "text": [
      "Test on 1143 samples\n",
      "R^2: -0.31\n",
      "Test Loss: 2.07%\n",
      "Train Epoch: 109 [0/19577 (0%)]\tLoss: 0.010449\n",
      "Train Epoch: 109 [3200/19577 (16%)]\tLoss: 0.003735\n",
      "Train Epoch: 109 [6400/19577 (33%)]\tLoss: 0.005845\n",
      "Train Epoch: 109 [9600/19577 (49%)]\tLoss: 0.004206\n",
      "Train Epoch: 109 [12800/19577 (65%)]\tLoss: 0.008783\n",
      "Train Epoch: 109 [16000/19577 (82%)]\tLoss: 0.005785\n",
      "Train Epoch: 109 [19200/19577 (98%)]\tLoss: 0.008569\n",
      "\n",
      "Train loss: 0.008943932105062736\n"
     ]
    },
    {
     "name": "stderr",
     "output_type": "stream",
     "text": [
      "\r",
      " 22%|██▏       | 109/500 [14:28<49:08,  7.54s/it]"
     ]
    },
    {
     "name": "stdout",
     "output_type": "stream",
     "text": [
      "Test on 1143 samples\n",
      "R^2: -0.31\n",
      "Test Loss: 2.07%\n",
      "Train Epoch: 110 [0/19577 (0%)]\tLoss: 0.011918\n",
      "Train Epoch: 110 [3200/19577 (16%)]\tLoss: 0.004952\n",
      "Train Epoch: 110 [6400/19577 (33%)]\tLoss: 0.006421\n",
      "Train Epoch: 110 [9600/19577 (49%)]\tLoss: 0.007244\n",
      "Train Epoch: 110 [12800/19577 (65%)]\tLoss: 0.012406\n",
      "Train Epoch: 110 [16000/19577 (82%)]\tLoss: 0.007089\n",
      "Train Epoch: 110 [19200/19577 (98%)]\tLoss: 0.005210\n",
      "\n",
      "Train loss: 0.008938533778217152\n"
     ]
    },
    {
     "name": "stderr",
     "output_type": "stream",
     "text": [
      "\r",
      " 22%|██▏       | 110/500 [14:35<47:48,  7.36s/it]"
     ]
    },
    {
     "name": "stdout",
     "output_type": "stream",
     "text": [
      "Test on 1143 samples\n",
      "R^2: -1.42\n",
      "Test Loss: 2.07%\n",
      "Train Epoch: 111 [0/19577 (0%)]\tLoss: 0.008128\n",
      "Train Epoch: 111 [3200/19577 (16%)]\tLoss: 0.012168\n",
      "Train Epoch: 111 [6400/19577 (33%)]\tLoss: 0.004627\n",
      "Train Epoch: 111 [9600/19577 (49%)]\tLoss: 0.004307\n",
      "Train Epoch: 111 [12800/19577 (65%)]\tLoss: 0.006485\n",
      "Train Epoch: 111 [16000/19577 (82%)]\tLoss: 0.006904\n",
      "Train Epoch: 111 [19200/19577 (98%)]\tLoss: 0.006779\n",
      "\n",
      "Train loss: 0.008914922918740879\n"
     ]
    },
    {
     "name": "stderr",
     "output_type": "stream",
     "text": [
      "\r",
      " 22%|██▏       | 111/500 [14:42<46:44,  7.21s/it]"
     ]
    },
    {
     "name": "stdout",
     "output_type": "stream",
     "text": [
      "Test on 1143 samples\n",
      "R^2: -1.57\n",
      "Test Loss: 2.09%\n",
      "Train Epoch: 112 [0/19577 (0%)]\tLoss: 0.004587\n",
      "Train Epoch: 112 [3200/19577 (16%)]\tLoss: 0.003324\n",
      "Train Epoch: 112 [6400/19577 (33%)]\tLoss: 0.016481\n",
      "Train Epoch: 112 [9600/19577 (49%)]\tLoss: 0.335567\n",
      "Train Epoch: 112 [12800/19577 (65%)]\tLoss: 0.006336\n",
      "Train Epoch: 112 [16000/19577 (82%)]\tLoss: 0.004960\n",
      "Train Epoch: 112 [19200/19577 (98%)]\tLoss: 0.009549\n",
      "\n",
      "Train loss: 0.00891492539998509\n"
     ]
    },
    {
     "name": "stderr",
     "output_type": "stream",
     "text": [
      "\r",
      " 22%|██▏       | 112/500 [14:49<46:01,  7.12s/it]"
     ]
    },
    {
     "name": "stdout",
     "output_type": "stream",
     "text": [
      "Test on 1143 samples\n",
      "R^2: -2.69\n",
      "Test Loss: 2.11%\n",
      "Train Epoch: 113 [0/19577 (0%)]\tLoss: 0.019294\n",
      "Train Epoch: 113 [3200/19577 (16%)]\tLoss: 0.009445\n",
      "Train Epoch: 113 [6400/19577 (33%)]\tLoss: 0.005043\n",
      "Train Epoch: 113 [9600/19577 (49%)]\tLoss: 0.005469\n",
      "Train Epoch: 113 [12800/19577 (65%)]\tLoss: 0.008945\n",
      "Train Epoch: 113 [16000/19577 (82%)]\tLoss: 0.005300\n",
      "Train Epoch: 113 [19200/19577 (98%)]\tLoss: 0.005432\n",
      "\n",
      "Train loss: 0.008901584198777533\n"
     ]
    },
    {
     "name": "stderr",
     "output_type": "stream",
     "text": [
      "\r",
      " 23%|██▎       | 113/500 [14:56<45:22,  7.03s/it]"
     ]
    },
    {
     "name": "stdout",
     "output_type": "stream",
     "text": [
      "Test on 1143 samples\n",
      "R^2: -0.44\n",
      "Test Loss: 2.06%\n",
      "Train Epoch: 114 [0/19577 (0%)]\tLoss: 0.004546\n",
      "Train Epoch: 114 [3200/19577 (16%)]\tLoss: 0.004255\n",
      "Train Epoch: 114 [6400/19577 (33%)]\tLoss: 0.008201\n",
      "Train Epoch: 114 [9600/19577 (49%)]\tLoss: 0.004753\n",
      "Train Epoch: 114 [12800/19577 (65%)]\tLoss: 0.006025\n",
      "Train Epoch: 114 [16000/19577 (82%)]\tLoss: 0.010419\n",
      "Train Epoch: 114 [19200/19577 (98%)]\tLoss: 0.007266\n",
      "\n",
      "Train loss: 0.00888687632658391\n"
     ]
    },
    {
     "name": "stderr",
     "output_type": "stream",
     "text": [
      "\r",
      " 23%|██▎       | 114/500 [15:02<44:56,  6.99s/it]"
     ]
    },
    {
     "name": "stdout",
     "output_type": "stream",
     "text": [
      "Test on 1143 samples\n",
      "R^2: -0.26\n",
      "Test Loss: 2.05%\n",
      "Train Epoch: 115 [0/19577 (0%)]\tLoss: 0.004654\n",
      "Train Epoch: 115 [3200/19577 (16%)]\tLoss: 0.018075\n",
      "Train Epoch: 115 [6400/19577 (33%)]\tLoss: 0.010678\n",
      "Train Epoch: 115 [9600/19577 (49%)]\tLoss: 0.005842\n",
      "Train Epoch: 115 [12800/19577 (65%)]\tLoss: 0.003762\n",
      "Train Epoch: 115 [16000/19577 (82%)]\tLoss: 0.005747\n",
      "Train Epoch: 115 [19200/19577 (98%)]\tLoss: 0.005871\n",
      "\n",
      "Train loss: 0.00886478125546858\n"
     ]
    },
    {
     "name": "stderr",
     "output_type": "stream",
     "text": [
      "\r",
      " 23%|██▎       | 115/500 [15:09<44:50,  6.99s/it]"
     ]
    },
    {
     "name": "stdout",
     "output_type": "stream",
     "text": [
      "Test on 1143 samples\n",
      "R^2: -0.62\n",
      "Test Loss: 2.04%\n",
      "Train Epoch: 116 [0/19577 (0%)]\tLoss: 0.005391\n",
      "Train Epoch: 116 [3200/19577 (16%)]\tLoss: 0.004778\n",
      "Train Epoch: 116 [6400/19577 (33%)]\tLoss: 0.006145\n",
      "Train Epoch: 116 [9600/19577 (49%)]\tLoss: 0.005654\n",
      "Train Epoch: 116 [12800/19577 (65%)]\tLoss: 0.010639\n",
      "Train Epoch: 116 [16000/19577 (82%)]\tLoss: 0.004033\n",
      "Train Epoch: 116 [19200/19577 (98%)]\tLoss: 0.005619\n",
      "\n",
      "Train loss: 0.008857547173891337\n"
     ]
    },
    {
     "name": "stderr",
     "output_type": "stream",
     "text": [
      "\r",
      " 23%|██▎       | 116/500 [15:16<44:34,  6.96s/it]"
     ]
    },
    {
     "name": "stdout",
     "output_type": "stream",
     "text": [
      "Test on 1143 samples\n",
      "R^2: -0.24\n",
      "Test Loss: 2.04%\n",
      "Train Epoch: 117 [0/19577 (0%)]\tLoss: 0.008357\n",
      "Train Epoch: 117 [3200/19577 (16%)]\tLoss: 0.005126\n",
      "Train Epoch: 117 [6400/19577 (33%)]\tLoss: 0.004337\n",
      "Train Epoch: 117 [9600/19577 (49%)]\tLoss: 0.008602\n",
      "Train Epoch: 117 [12800/19577 (65%)]\tLoss: 0.005243\n",
      "Train Epoch: 117 [16000/19577 (82%)]\tLoss: 0.005872\n",
      "Train Epoch: 117 [19200/19577 (98%)]\tLoss: 0.008722\n",
      "\n",
      "Train loss: 0.008850711207225114\n"
     ]
    },
    {
     "name": "stderr",
     "output_type": "stream",
     "text": [
      "\r",
      " 23%|██▎       | 117/500 [15:23<44:15,  6.93s/it]"
     ]
    },
    {
     "name": "stdout",
     "output_type": "stream",
     "text": [
      "Test on 1143 samples\n",
      "R^2: -0.32\n",
      "Test Loss: 2.04%\n",
      "Train Epoch: 118 [0/19577 (0%)]\tLoss: 0.013145\n",
      "Train Epoch: 118 [3200/19577 (16%)]\tLoss: 0.005327\n",
      "Train Epoch: 118 [6400/19577 (33%)]\tLoss: 0.008342\n",
      "Train Epoch: 118 [9600/19577 (49%)]\tLoss: 0.006516\n",
      "Train Epoch: 118 [12800/19577 (65%)]\tLoss: 0.004744\n",
      "Train Epoch: 118 [16000/19577 (82%)]\tLoss: 0.004896\n",
      "Train Epoch: 118 [19200/19577 (98%)]\tLoss: 0.004185\n",
      "\n",
      "Train loss: 0.008869777070632315\n"
     ]
    },
    {
     "name": "stderr",
     "output_type": "stream",
     "text": [
      "\r",
      " 24%|██▎       | 118/500 [15:30<44:00,  6.91s/it]"
     ]
    },
    {
     "name": "stdout",
     "output_type": "stream",
     "text": [
      "Test on 1143 samples\n",
      "R^2: -1.31\n",
      "Test Loss: 2.06%\n",
      "Train Epoch: 119 [0/19577 (0%)]\tLoss: 0.004282\n",
      "Train Epoch: 119 [3200/19577 (16%)]\tLoss: 0.004822\n",
      "Train Epoch: 119 [6400/19577 (33%)]\tLoss: 0.004670\n",
      "Train Epoch: 119 [9600/19577 (49%)]\tLoss: 0.007027\n",
      "Train Epoch: 119 [12800/19577 (65%)]\tLoss: 0.008938\n",
      "Train Epoch: 119 [16000/19577 (82%)]\tLoss: 0.006154\n",
      "Train Epoch: 119 [19200/19577 (98%)]\tLoss: 0.004650\n",
      "\n",
      "Train loss: 0.008817413049899163\n"
     ]
    },
    {
     "name": "stderr",
     "output_type": "stream",
     "text": [
      "\r",
      " 24%|██▍       | 119/500 [15:37<43:46,  6.89s/it]"
     ]
    },
    {
     "name": "stdout",
     "output_type": "stream",
     "text": [
      "Test on 1143 samples\n",
      "R^2: -0.29\n",
      "Test Loss: 2.04%\n",
      "Train Epoch: 120 [0/19577 (0%)]\tLoss: 0.004447\n",
      "Train Epoch: 120 [3200/19577 (16%)]\tLoss: 0.007146\n",
      "Train Epoch: 120 [6400/19577 (33%)]\tLoss: 0.007213\n",
      "Train Epoch: 120 [9600/19577 (49%)]\tLoss: 0.006477\n",
      "Train Epoch: 120 [12800/19577 (65%)]\tLoss: 0.008484\n",
      "Train Epoch: 120 [16000/19577 (82%)]\tLoss: 0.006316\n",
      "Train Epoch: 120 [19200/19577 (98%)]\tLoss: 0.007980\n",
      "\n",
      "Train loss: 0.008793712747313715\n"
     ]
    },
    {
     "name": "stderr",
     "output_type": "stream",
     "text": [
      "\r",
      " 24%|██▍       | 120/500 [15:44<43:41,  6.90s/it]"
     ]
    },
    {
     "name": "stdout",
     "output_type": "stream",
     "text": [
      "Test on 1143 samples\n",
      "R^2: -0.83\n",
      "Test Loss: 2.03%\n",
      "Train Epoch: 121 [0/19577 (0%)]\tLoss: 0.005383\n",
      "Train Epoch: 121 [3200/19577 (16%)]\tLoss: 0.004056\n",
      "Train Epoch: 121 [6400/19577 (33%)]\tLoss: 0.008381\n",
      "Train Epoch: 121 [9600/19577 (49%)]\tLoss: 0.009994\n",
      "Train Epoch: 121 [12800/19577 (65%)]\tLoss: 0.006330\n",
      "Train Epoch: 121 [16000/19577 (82%)]\tLoss: 0.003735\n",
      "Train Epoch: 121 [19200/19577 (98%)]\tLoss: 0.005502\n",
      "\n",
      "Train loss: 0.008766913741638311\n"
     ]
    },
    {
     "name": "stderr",
     "output_type": "stream",
     "text": [
      "\r",
      " 24%|██▍       | 121/500 [15:51<43:29,  6.88s/it]"
     ]
    },
    {
     "name": "stdout",
     "output_type": "stream",
     "text": [
      "Test on 1143 samples\n",
      "R^2: -0.54\n",
      "Test Loss: 2.02%\n",
      "Train Epoch: 122 [0/19577 (0%)]\tLoss: 0.005196\n",
      "Train Epoch: 122 [3200/19577 (16%)]\tLoss: 0.003853\n",
      "Train Epoch: 122 [6400/19577 (33%)]\tLoss: 0.006930\n",
      "Train Epoch: 122 [9600/19577 (49%)]\tLoss: 0.002335\n",
      "Train Epoch: 122 [12800/19577 (65%)]\tLoss: 0.009235\n",
      "Train Epoch: 122 [16000/19577 (82%)]\tLoss: 0.004985\n",
      "Train Epoch: 122 [19200/19577 (98%)]\tLoss: 0.005186\n",
      "\n",
      "Train loss: 0.008758385922132803\n"
     ]
    },
    {
     "name": "stderr",
     "output_type": "stream",
     "text": [
      "\r",
      " 24%|██▍       | 122/500 [15:58<44:39,  7.09s/it]"
     ]
    },
    {
     "name": "stdout",
     "output_type": "stream",
     "text": [
      "Test on 1143 samples\n",
      "R^2: -0.49\n",
      "Test Loss: 2.02%\n",
      "Train Epoch: 123 [0/19577 (0%)]\tLoss: 0.011491\n",
      "Train Epoch: 123 [3200/19577 (16%)]\tLoss: 0.004865\n",
      "Train Epoch: 123 [6400/19577 (33%)]\tLoss: 0.007863\n",
      "Train Epoch: 123 [9600/19577 (49%)]\tLoss: 0.007270\n",
      "Train Epoch: 123 [12800/19577 (65%)]\tLoss: 0.010604\n",
      "Train Epoch: 123 [16000/19577 (82%)]\tLoss: 0.002239\n",
      "Train Epoch: 123 [19200/19577 (98%)]\tLoss: 0.007635\n",
      "\n",
      "Train loss: 0.008757729295205957\n"
     ]
    },
    {
     "name": "stderr",
     "output_type": "stream",
     "text": [
      "\r",
      " 25%|██▍       | 123/500 [16:05<44:15,  7.04s/it]"
     ]
    },
    {
     "name": "stdout",
     "output_type": "stream",
     "text": [
      "Test on 1143 samples\n",
      "R^2: -0.34\n",
      "Test Loss: 2.03%\n",
      "Train Epoch: 124 [0/19577 (0%)]\tLoss: 0.024129\n",
      "Train Epoch: 124 [3200/19577 (16%)]\tLoss: 0.003899\n",
      "Train Epoch: 124 [6400/19577 (33%)]\tLoss: 0.005762\n",
      "Train Epoch: 124 [9600/19577 (49%)]\tLoss: 0.009631\n",
      "Train Epoch: 124 [12800/19577 (65%)]\tLoss: 0.004819\n",
      "Train Epoch: 124 [16000/19577 (82%)]\tLoss: 0.007546\n",
      "Train Epoch: 124 [19200/19577 (98%)]\tLoss: 0.005561\n",
      "\n",
      "Train loss: 0.008737301318510587\n"
     ]
    },
    {
     "name": "stderr",
     "output_type": "stream",
     "text": [
      "\r",
      " 25%|██▍       | 124/500 [16:12<44:07,  7.04s/it]"
     ]
    },
    {
     "name": "stdout",
     "output_type": "stream",
     "text": [
      "Test on 1143 samples\n",
      "R^2: -0.42\n",
      "Test Loss: 2.03%\n",
      "Train Epoch: 125 [0/19577 (0%)]\tLoss: 0.002565\n",
      "Train Epoch: 125 [3200/19577 (16%)]\tLoss: 0.006226\n",
      "Train Epoch: 125 [6400/19577 (33%)]\tLoss: 0.004292\n",
      "Train Epoch: 125 [9600/19577 (49%)]\tLoss: 0.006526\n",
      "Train Epoch: 125 [12800/19577 (65%)]\tLoss: 0.004493\n",
      "Train Epoch: 125 [16000/19577 (82%)]\tLoss: 0.004442\n",
      "Train Epoch: 125 [19200/19577 (98%)]\tLoss: 0.005888\n",
      "\n",
      "Train loss: 0.008741478719124632\n"
     ]
    },
    {
     "name": "stderr",
     "output_type": "stream",
     "text": [
      "\r",
      " 25%|██▌       | 125/500 [16:19<43:45,  7.00s/it]"
     ]
    },
    {
     "name": "stdout",
     "output_type": "stream",
     "text": [
      "Test on 1143 samples\n",
      "R^2: -0.24\n",
      "Test Loss: 2.01%\n",
      "Train Epoch: 126 [0/19577 (0%)]\tLoss: 0.005177\n",
      "Train Epoch: 126 [3200/19577 (16%)]\tLoss: 0.008620\n",
      "Train Epoch: 126 [6400/19577 (33%)]\tLoss: 0.003540\n",
      "Train Epoch: 126 [9600/19577 (49%)]\tLoss: 0.011997\n",
      "Train Epoch: 126 [12800/19577 (65%)]\tLoss: 0.006774\n",
      "Train Epoch: 126 [16000/19577 (82%)]\tLoss: 0.010834\n",
      "Train Epoch: 126 [19200/19577 (98%)]\tLoss: 0.005698\n",
      "\n",
      "Train loss: 0.008706831117617149\n"
     ]
    },
    {
     "name": "stderr",
     "output_type": "stream",
     "text": [
      "\r",
      " 25%|██▌       | 126/500 [16:26<43:25,  6.97s/it]"
     ]
    },
    {
     "name": "stdout",
     "output_type": "stream",
     "text": [
      "Test on 1143 samples\n",
      "R^2: -0.58\n",
      "Test Loss: 2.01%\n",
      "Train Epoch: 127 [0/19577 (0%)]\tLoss: 0.006493\n",
      "Train Epoch: 127 [3200/19577 (16%)]\tLoss: 0.003351\n",
      "Train Epoch: 127 [6400/19577 (33%)]\tLoss: 0.007469\n",
      "Train Epoch: 127 [9600/19577 (49%)]\tLoss: 0.005163\n",
      "Train Epoch: 127 [12800/19577 (65%)]\tLoss: 0.007636\n",
      "Train Epoch: 127 [16000/19577 (82%)]\tLoss: 0.006656\n",
      "Train Epoch: 127 [19200/19577 (98%)]\tLoss: 0.011036\n",
      "\n",
      "Train loss: 0.008719580982251738\n"
     ]
    },
    {
     "name": "stderr",
     "output_type": "stream",
     "text": [
      "\r",
      " 25%|██▌       | 127/500 [16:33<43:11,  6.95s/it]"
     ]
    },
    {
     "name": "stdout",
     "output_type": "stream",
     "text": [
      "Test on 1143 samples\n",
      "R^2: -1.35\n",
      "Test Loss: 2.04%\n",
      "Train Epoch: 128 [0/19577 (0%)]\tLoss: 0.007921\n",
      "Train Epoch: 128 [3200/19577 (16%)]\tLoss: 0.005694\n",
      "Train Epoch: 128 [6400/19577 (33%)]\tLoss: 0.005923\n",
      "Train Epoch: 128 [9600/19577 (49%)]\tLoss: 0.005505\n",
      "Train Epoch: 128 [12800/19577 (65%)]\tLoss: 0.012327\n",
      "Train Epoch: 128 [16000/19577 (82%)]\tLoss: 0.010425\n",
      "Train Epoch: 128 [19200/19577 (98%)]\tLoss: 0.008175\n",
      "\n",
      "Train loss: 0.008696291960161058\n"
     ]
    },
    {
     "name": "stderr",
     "output_type": "stream",
     "text": [
      "\r",
      " 26%|██▌       | 128/500 [16:40<43:21,  6.99s/it]"
     ]
    },
    {
     "name": "stdout",
     "output_type": "stream",
     "text": [
      "Test on 1143 samples\n",
      "R^2: -2.27\n",
      "Test Loss: 2.05%\n",
      "Train Epoch: 129 [0/19577 (0%)]\tLoss: 0.006223\n",
      "Train Epoch: 129 [3200/19577 (16%)]\tLoss: 0.006366\n",
      "Train Epoch: 129 [6400/19577 (33%)]\tLoss: 0.010850\n",
      "Train Epoch: 129 [9600/19577 (49%)]\tLoss: 0.003688\n",
      "Train Epoch: 129 [12800/19577 (65%)]\tLoss: 0.008504\n",
      "Train Epoch: 129 [16000/19577 (82%)]\tLoss: 0.004953\n",
      "Train Epoch: 129 [19200/19577 (98%)]\tLoss: 0.010710\n",
      "\n",
      "Train loss: 0.008686215973617448\n"
     ]
    },
    {
     "name": "stderr",
     "output_type": "stream",
     "text": [
      "\r",
      " 26%|██▌       | 129/500 [16:47<43:36,  7.05s/it]"
     ]
    },
    {
     "name": "stdout",
     "output_type": "stream",
     "text": [
      "Test on 1143 samples\n",
      "R^2: -1.93\n",
      "Test Loss: 2.01%\n",
      "Train Epoch: 130 [0/19577 (0%)]\tLoss: 0.008258\n",
      "Train Epoch: 130 [3200/19577 (16%)]\tLoss: 0.013617\n",
      "Train Epoch: 130 [6400/19577 (33%)]\tLoss: 0.007288\n",
      "Train Epoch: 130 [9600/19577 (49%)]\tLoss: 0.010721\n",
      "Train Epoch: 130 [12800/19577 (65%)]\tLoss: 0.007150\n",
      "Train Epoch: 130 [16000/19577 (82%)]\tLoss: 0.002725\n",
      "Train Epoch: 130 [19200/19577 (98%)]\tLoss: 0.007566\n",
      "\n",
      "Train loss: 0.00866430107841962\n"
     ]
    },
    {
     "name": "stderr",
     "output_type": "stream",
     "text": [
      "\r",
      " 26%|██▌       | 130/500 [16:55<44:17,  7.18s/it]"
     ]
    },
    {
     "name": "stdout",
     "output_type": "stream",
     "text": [
      "Test on 1143 samples\n",
      "R^2: -0.48\n",
      "Test Loss: 2.01%\n",
      "Train Epoch: 131 [0/19577 (0%)]\tLoss: 0.008440\n",
      "Train Epoch: 131 [3200/19577 (16%)]\tLoss: 0.013007\n",
      "Train Epoch: 131 [6400/19577 (33%)]\tLoss: 0.007163\n",
      "Train Epoch: 131 [9600/19577 (49%)]\tLoss: 0.009977\n",
      "Train Epoch: 131 [12800/19577 (65%)]\tLoss: 0.006438\n",
      "Train Epoch: 131 [16000/19577 (82%)]\tLoss: 0.003976\n",
      "Train Epoch: 131 [19200/19577 (98%)]\tLoss: 0.005104\n",
      "\n",
      "Train loss: 0.008652167665632137\n"
     ]
    },
    {
     "name": "stderr",
     "output_type": "stream",
     "text": [
      "\r",
      " 26%|██▌       | 131/500 [17:02<44:28,  7.23s/it]"
     ]
    },
    {
     "name": "stdout",
     "output_type": "stream",
     "text": [
      "Test on 1143 samples\n",
      "R^2: -0.35\n",
      "Test Loss: 2.01%\n",
      "Train Epoch: 132 [0/19577 (0%)]\tLoss: 0.009542\n",
      "Train Epoch: 132 [3200/19577 (16%)]\tLoss: 0.006099\n",
      "Train Epoch: 132 [6400/19577 (33%)]\tLoss: 0.005113\n",
      "Train Epoch: 132 [9600/19577 (49%)]\tLoss: 0.007009\n",
      "Train Epoch: 132 [12800/19577 (65%)]\tLoss: 0.008818\n",
      "Train Epoch: 132 [16000/19577 (82%)]\tLoss: 0.004306\n",
      "Train Epoch: 132 [19200/19577 (98%)]\tLoss: 0.003092\n",
      "\n",
      "Train loss: 0.00865435633455324\n"
     ]
    },
    {
     "name": "stderr",
     "output_type": "stream",
     "text": [
      "\r",
      " 26%|██▋       | 132/500 [17:10<46:22,  7.56s/it]"
     ]
    },
    {
     "name": "stdout",
     "output_type": "stream",
     "text": [
      "Test on 1143 samples\n",
      "R^2: -0.55\n",
      "Test Loss: 1.99%\n",
      "Train Epoch: 133 [0/19577 (0%)]\tLoss: 0.004870\n",
      "Train Epoch: 133 [3200/19577 (16%)]\tLoss: 0.017175\n",
      "Train Epoch: 133 [6400/19577 (33%)]\tLoss: 0.004612\n",
      "Train Epoch: 133 [9600/19577 (49%)]\tLoss: 0.009668\n",
      "Train Epoch: 133 [12800/19577 (65%)]\tLoss: 0.014696\n",
      "Train Epoch: 133 [16000/19577 (82%)]\tLoss: 0.005599\n",
      "Train Epoch: 133 [19200/19577 (98%)]\tLoss: 0.008607\n",
      "\n",
      "Train loss: 0.008674903011126018\n"
     ]
    },
    {
     "name": "stderr",
     "output_type": "stream",
     "text": [
      "\r",
      " 27%|██▋       | 133/500 [17:18<46:17,  7.57s/it]"
     ]
    },
    {
     "name": "stdout",
     "output_type": "stream",
     "text": [
      "Test on 1143 samples\n",
      "R^2: -0.26\n",
      "Test Loss: 1.99%\n",
      "Train Epoch: 134 [0/19577 (0%)]\tLoss: 0.006094\n",
      "Train Epoch: 134 [3200/19577 (16%)]\tLoss: 0.008043\n",
      "Train Epoch: 134 [6400/19577 (33%)]\tLoss: 0.006447\n",
      "Train Epoch: 134 [9600/19577 (49%)]\tLoss: 0.006656\n",
      "Train Epoch: 134 [12800/19577 (65%)]\tLoss: 0.016175\n",
      "Train Epoch: 134 [16000/19577 (82%)]\tLoss: 0.005267\n",
      "Train Epoch: 134 [19200/19577 (98%)]\tLoss: 0.009638\n",
      "\n",
      "Train loss: 0.008629708964791562\n"
     ]
    },
    {
     "name": "stderr",
     "output_type": "stream",
     "text": [
      "\r",
      " 27%|██▋       | 134/500 [17:25<44:53,  7.36s/it]"
     ]
    },
    {
     "name": "stdout",
     "output_type": "stream",
     "text": [
      "Test on 1143 samples\n",
      "R^2: -1.33\n",
      "Test Loss: 2.02%\n",
      "Train Epoch: 135 [0/19577 (0%)]\tLoss: 0.006143\n",
      "Train Epoch: 135 [3200/19577 (16%)]\tLoss: 0.006074\n",
      "Train Epoch: 135 [6400/19577 (33%)]\tLoss: 0.006249\n",
      "Train Epoch: 135 [9600/19577 (49%)]\tLoss: 0.009948\n",
      "Train Epoch: 135 [12800/19577 (65%)]\tLoss: 0.007776\n",
      "Train Epoch: 135 [16000/19577 (82%)]\tLoss: 0.005928\n",
      "Train Epoch: 135 [19200/19577 (98%)]\tLoss: 0.007392\n",
      "\n",
      "Train loss: 0.008616739411509651\n"
     ]
    },
    {
     "name": "stderr",
     "output_type": "stream",
     "text": [
      "\r",
      " 27%|██▋       | 135/500 [17:33<45:39,  7.51s/it]"
     ]
    },
    {
     "name": "stdout",
     "output_type": "stream",
     "text": [
      "Test on 1143 samples\n",
      "R^2: -0.22\n",
      "Test Loss: 1.99%\n",
      "Train Epoch: 136 [0/19577 (0%)]\tLoss: 0.010983\n",
      "Train Epoch: 136 [3200/19577 (16%)]\tLoss: 0.006781\n",
      "Train Epoch: 136 [6400/19577 (33%)]\tLoss: 0.004784\n",
      "Train Epoch: 136 [9600/19577 (49%)]\tLoss: 0.009048\n",
      "Train Epoch: 136 [12800/19577 (65%)]\tLoss: 0.005800\n",
      "Train Epoch: 136 [16000/19577 (82%)]\tLoss: 0.005813\n",
      "Train Epoch: 136 [19200/19577 (98%)]\tLoss: 0.006423\n",
      "\n",
      "Train loss: 0.008592939905569663\n"
     ]
    },
    {
     "name": "stderr",
     "output_type": "stream",
     "text": [
      "\r",
      " 27%|██▋       | 136/500 [17:40<44:29,  7.33s/it]"
     ]
    },
    {
     "name": "stdout",
     "output_type": "stream",
     "text": [
      "Test on 1143 samples\n",
      "R^2: -0.28\n",
      "Test Loss: 1.99%\n",
      "Train Epoch: 137 [0/19577 (0%)]\tLoss: 0.011928\n",
      "Train Epoch: 137 [3200/19577 (16%)]\tLoss: 0.005415\n",
      "Train Epoch: 137 [6400/19577 (33%)]\tLoss: 0.004742\n",
      "Train Epoch: 137 [9600/19577 (49%)]\tLoss: 0.004913\n",
      "Train Epoch: 137 [12800/19577 (65%)]\tLoss: 0.005930\n",
      "Train Epoch: 137 [16000/19577 (82%)]\tLoss: 0.003392\n",
      "Train Epoch: 137 [19200/19577 (98%)]\tLoss: 0.006301\n",
      "\n",
      "Train loss: 0.008617676499305792\n"
     ]
    },
    {
     "name": "stderr",
     "output_type": "stream",
     "text": [
      "\r",
      " 27%|██▋       | 137/500 [17:47<44:35,  7.37s/it]"
     ]
    },
    {
     "name": "stdout",
     "output_type": "stream",
     "text": [
      "Test on 1143 samples\n",
      "R^2: -1.14\n",
      "Test Loss: 1.98%\n",
      "Train Epoch: 138 [0/19577 (0%)]\tLoss: 0.008502\n",
      "Train Epoch: 138 [3200/19577 (16%)]\tLoss: 0.003434\n",
      "Train Epoch: 138 [6400/19577 (33%)]\tLoss: 0.015068\n",
      "Train Epoch: 138 [9600/19577 (49%)]\tLoss: 0.005238\n",
      "Train Epoch: 138 [12800/19577 (65%)]\tLoss: 0.003035\n",
      "Train Epoch: 138 [16000/19577 (82%)]\tLoss: 0.006457\n",
      "Train Epoch: 138 [19200/19577 (98%)]\tLoss: 0.006937\n",
      "\n",
      "Train loss: 0.008582436325929426\n"
     ]
    },
    {
     "name": "stderr",
     "output_type": "stream",
     "text": [
      "\r",
      " 28%|██▊       | 138/500 [17:54<43:34,  7.22s/it]"
     ]
    },
    {
     "name": "stdout",
     "output_type": "stream",
     "text": [
      "Test on 1143 samples\n",
      "R^2: -1.85\n",
      "Test Loss: 1.98%\n",
      "Train Epoch: 139 [0/19577 (0%)]\tLoss: 0.006762\n",
      "Train Epoch: 139 [3200/19577 (16%)]\tLoss: 0.006159\n",
      "Train Epoch: 139 [6400/19577 (33%)]\tLoss: 0.004846\n",
      "Train Epoch: 139 [9600/19577 (49%)]\tLoss: 0.005702\n",
      "Train Epoch: 139 [12800/19577 (65%)]\tLoss: 0.006408\n",
      "Train Epoch: 139 [16000/19577 (82%)]\tLoss: 0.005730\n",
      "Train Epoch: 139 [19200/19577 (98%)]\tLoss: 0.004059\n",
      "\n",
      "Train loss: 0.008581983465381771\n"
     ]
    },
    {
     "name": "stderr",
     "output_type": "stream",
     "text": [
      "\r",
      " 28%|██▊       | 139/500 [18:01<43:59,  7.31s/it]"
     ]
    },
    {
     "name": "stdout",
     "output_type": "stream",
     "text": [
      "Test on 1143 samples\n",
      "R^2: -0.71\n",
      "Test Loss: 1.98%\n",
      "Train Epoch: 140 [0/19577 (0%)]\tLoss: 0.009081\n",
      "Train Epoch: 140 [3200/19577 (16%)]\tLoss: 0.005963\n",
      "Train Epoch: 140 [6400/19577 (33%)]\tLoss: 0.005681\n",
      "Train Epoch: 140 [9600/19577 (49%)]\tLoss: 0.007183\n",
      "Train Epoch: 140 [12800/19577 (65%)]\tLoss: 0.008576\n",
      "Train Epoch: 140 [16000/19577 (82%)]\tLoss: 0.005861\n",
      "Train Epoch: 140 [19200/19577 (98%)]\tLoss: 0.009760\n",
      "\n",
      "Train loss: 0.00858328061017019\n"
     ]
    },
    {
     "name": "stderr",
     "output_type": "stream",
     "text": [
      "\r",
      " 28%|██▊       | 140/500 [18:09<43:36,  7.27s/it]"
     ]
    },
    {
     "name": "stdout",
     "output_type": "stream",
     "text": [
      "Test on 1143 samples\n",
      "R^2: -0.20\n",
      "Test Loss: 1.98%\n",
      "Train Epoch: 141 [0/19577 (0%)]\tLoss: 0.004230\n",
      "Train Epoch: 141 [3200/19577 (16%)]\tLoss: 0.007988\n",
      "Train Epoch: 141 [6400/19577 (33%)]\tLoss: 0.010676\n",
      "Train Epoch: 141 [9600/19577 (49%)]\tLoss: 0.004281\n",
      "Train Epoch: 141 [12800/19577 (65%)]\tLoss: 0.009117\n",
      "Train Epoch: 141 [16000/19577 (82%)]\tLoss: 0.005600\n",
      "Train Epoch: 141 [19200/19577 (98%)]\tLoss: 0.003843\n",
      "\n",
      "Train loss: 0.008578426349950723\n"
     ]
    },
    {
     "name": "stderr",
     "output_type": "stream",
     "text": [
      "\r",
      " 28%|██▊       | 141/500 [18:16<42:57,  7.18s/it]"
     ]
    },
    {
     "name": "stdout",
     "output_type": "stream",
     "text": [
      "Test on 1143 samples\n",
      "R^2: -0.66\n",
      "Test Loss: 1.97%\n",
      "Train Epoch: 142 [0/19577 (0%)]\tLoss: 0.006747\n",
      "Train Epoch: 142 [3200/19577 (16%)]\tLoss: 0.010656\n",
      "Train Epoch: 142 [6400/19577 (33%)]\tLoss: 0.011426\n",
      "Train Epoch: 142 [9600/19577 (49%)]\tLoss: 0.005646\n",
      "Train Epoch: 142 [12800/19577 (65%)]\tLoss: 0.004250\n",
      "Train Epoch: 142 [16000/19577 (82%)]\tLoss: 0.009943\n",
      "Train Epoch: 142 [19200/19577 (98%)]\tLoss: 0.007200\n",
      "\n",
      "Train loss: 0.0085578327016978\n"
     ]
    },
    {
     "name": "stderr",
     "output_type": "stream",
     "text": [
      "\r",
      " 28%|██▊       | 142/500 [18:23<42:54,  7.19s/it]"
     ]
    },
    {
     "name": "stdout",
     "output_type": "stream",
     "text": [
      "Test on 1143 samples\n",
      "R^2: -1.73\n",
      "Test Loss: 2.01%\n",
      "Train Epoch: 143 [0/19577 (0%)]\tLoss: 0.008715\n",
      "Train Epoch: 143 [3200/19577 (16%)]\tLoss: 0.010180\n",
      "Train Epoch: 143 [6400/19577 (33%)]\tLoss: 0.004834\n",
      "Train Epoch: 143 [9600/19577 (49%)]\tLoss: 0.007662\n",
      "Train Epoch: 143 [12800/19577 (65%)]\tLoss: 0.004929\n",
      "Train Epoch: 143 [16000/19577 (82%)]\tLoss: 0.005503\n",
      "Train Epoch: 143 [19200/19577 (98%)]\tLoss: 0.015059\n",
      "\n",
      "Train loss: 0.008521574086759215\n"
     ]
    },
    {
     "name": "stderr",
     "output_type": "stream",
     "text": [
      "\r",
      " 29%|██▊       | 143/500 [18:30<42:41,  7.18s/it]"
     ]
    },
    {
     "name": "stdout",
     "output_type": "stream",
     "text": [
      "Test on 1143 samples\n",
      "R^2: -6.53\n",
      "Test Loss: 2.02%\n",
      "Train Epoch: 144 [0/19577 (0%)]\tLoss: 0.005519\n",
      "Train Epoch: 144 [3200/19577 (16%)]\tLoss: 0.017036\n",
      "Train Epoch: 144 [6400/19577 (33%)]\tLoss: 0.007263\n",
      "Train Epoch: 144 [9600/19577 (49%)]\tLoss: 0.003673\n",
      "Train Epoch: 144 [12800/19577 (65%)]\tLoss: 0.005373\n",
      "Train Epoch: 144 [16000/19577 (82%)]\tLoss: 0.003074\n",
      "Train Epoch: 144 [19200/19577 (98%)]\tLoss: 0.007462\n",
      "\n",
      "Train loss: 0.008506198352799307\n"
     ]
    },
    {
     "name": "stderr",
     "output_type": "stream",
     "text": [
      "\r",
      " 29%|██▉       | 144/500 [18:37<42:03,  7.09s/it]"
     ]
    },
    {
     "name": "stdout",
     "output_type": "stream",
     "text": [
      "Test on 1143 samples\n",
      "R^2: -0.23\n",
      "Test Loss: 1.96%\n",
      "Train Epoch: 145 [0/19577 (0%)]\tLoss: 0.005711\n",
      "Train Epoch: 145 [3200/19577 (16%)]\tLoss: 0.004892\n",
      "Train Epoch: 145 [6400/19577 (33%)]\tLoss: 0.009786\n",
      "Train Epoch: 145 [9600/19577 (49%)]\tLoss: 0.041985\n",
      "Train Epoch: 145 [12800/19577 (65%)]\tLoss: 0.005959\n",
      "Train Epoch: 145 [16000/19577 (82%)]\tLoss: 0.011095\n",
      "Train Epoch: 145 [19200/19577 (98%)]\tLoss: 0.005148\n",
      "\n",
      "Train loss: 0.008513020833168983\n"
     ]
    },
    {
     "name": "stderr",
     "output_type": "stream",
     "text": [
      "\r",
      " 29%|██▉       | 145/500 [18:44<41:34,  7.03s/it]"
     ]
    },
    {
     "name": "stdout",
     "output_type": "stream",
     "text": [
      "Test on 1143 samples\n",
      "R^2: -0.58\n",
      "Test Loss: 1.96%\n",
      "Train Epoch: 146 [0/19577 (0%)]\tLoss: 0.011974\n",
      "Train Epoch: 146 [3200/19577 (16%)]\tLoss: 0.008278\n",
      "Train Epoch: 146 [6400/19577 (33%)]\tLoss: 0.005968\n",
      "Train Epoch: 146 [9600/19577 (49%)]\tLoss: 0.009523\n",
      "Train Epoch: 146 [12800/19577 (65%)]\tLoss: 0.005866\n",
      "Train Epoch: 146 [16000/19577 (82%)]\tLoss: 0.004306\n",
      "Train Epoch: 146 [19200/19577 (98%)]\tLoss: 0.006632\n",
      "\n",
      "Train loss: 0.008511056239394094\n"
     ]
    },
    {
     "name": "stderr",
     "output_type": "stream",
     "text": [
      "\r",
      " 29%|██▉       | 146/500 [18:51<41:06,  6.97s/it]"
     ]
    },
    {
     "name": "stdout",
     "output_type": "stream",
     "text": [
      "Test on 1143 samples\n",
      "R^2: -1.08\n",
      "Test Loss: 1.96%\n",
      "Train Epoch: 147 [0/19577 (0%)]\tLoss: 0.007312\n",
      "Train Epoch: 147 [3200/19577 (16%)]\tLoss: 0.010136\n",
      "Train Epoch: 147 [6400/19577 (33%)]\tLoss: 0.004674\n",
      "Train Epoch: 147 [9600/19577 (49%)]\tLoss: 0.004181\n",
      "Train Epoch: 147 [12800/19577 (65%)]\tLoss: 0.004624\n",
      "Train Epoch: 147 [16000/19577 (82%)]\tLoss: 0.005175\n",
      "Train Epoch: 147 [19200/19577 (98%)]\tLoss: 0.008115\n",
      "\n",
      "Train loss: 0.008498720329382694\n"
     ]
    },
    {
     "name": "stderr",
     "output_type": "stream",
     "text": [
      "\r",
      " 29%|██▉       | 147/500 [18:57<40:56,  6.96s/it]"
     ]
    },
    {
     "name": "stdout",
     "output_type": "stream",
     "text": [
      "Test on 1143 samples\n",
      "R^2: -0.42\n",
      "Test Loss: 1.96%\n",
      "Train Epoch: 148 [0/19577 (0%)]\tLoss: 0.010608\n",
      "Train Epoch: 148 [3200/19577 (16%)]\tLoss: 0.004815\n",
      "Train Epoch: 148 [6400/19577 (33%)]\tLoss: 0.003630\n",
      "Train Epoch: 148 [9600/19577 (49%)]\tLoss: 0.006177\n",
      "Train Epoch: 148 [12800/19577 (65%)]\tLoss: 0.007152\n",
      "Train Epoch: 148 [16000/19577 (82%)]\tLoss: 0.002978\n",
      "Train Epoch: 148 [19200/19577 (98%)]\tLoss: 0.006965\n",
      "\n",
      "Train loss: 0.008476227967013769\n"
     ]
    },
    {
     "name": "stderr",
     "output_type": "stream",
     "text": [
      "\r",
      " 30%|██▉       | 148/500 [19:04<40:44,  6.94s/it]"
     ]
    },
    {
     "name": "stdout",
     "output_type": "stream",
     "text": [
      "Test on 1143 samples\n",
      "R^2: -0.16\n",
      "Test Loss: 1.96%\n",
      "Train Epoch: 149 [0/19577 (0%)]\tLoss: 0.004783\n",
      "Train Epoch: 149 [3200/19577 (16%)]\tLoss: 0.003778\n",
      "Train Epoch: 149 [6400/19577 (33%)]\tLoss: 0.005360\n",
      "Train Epoch: 149 [9600/19577 (49%)]\tLoss: 0.007034\n",
      "Train Epoch: 149 [12800/19577 (65%)]\tLoss: 0.007841\n",
      "Train Epoch: 149 [16000/19577 (82%)]\tLoss: 0.005190\n",
      "Train Epoch: 149 [19200/19577 (98%)]\tLoss: 0.008925\n",
      "\n",
      "Train loss: 0.00845777917595495\n"
     ]
    },
    {
     "name": "stderr",
     "output_type": "stream",
     "text": [
      "\r",
      " 30%|██▉       | 149/500 [19:13<43:43,  7.48s/it]"
     ]
    },
    {
     "name": "stdout",
     "output_type": "stream",
     "text": [
      "Test on 1143 samples\n",
      "R^2: -0.27\n",
      "Test Loss: 1.96%\n",
      "Train Epoch: 150 [0/19577 (0%)]\tLoss: 0.004053\n",
      "Train Epoch: 150 [3200/19577 (16%)]\tLoss: 0.006645\n",
      "Train Epoch: 150 [6400/19577 (33%)]\tLoss: 0.005359\n",
      "Train Epoch: 150 [9600/19577 (49%)]\tLoss: 0.004602\n",
      "Train Epoch: 150 [12800/19577 (65%)]\tLoss: 0.007442\n",
      "Train Epoch: 150 [16000/19577 (82%)]\tLoss: 0.008706\n",
      "Train Epoch: 150 [19200/19577 (98%)]\tLoss: 0.004185\n",
      "\n",
      "Train loss: 0.00847234217460675\n"
     ]
    },
    {
     "name": "stderr",
     "output_type": "stream",
     "text": [
      "\r",
      " 30%|███       | 150/500 [19:27<54:22,  9.32s/it]"
     ]
    },
    {
     "name": "stdout",
     "output_type": "stream",
     "text": [
      "Test on 1143 samples\n",
      "R^2: -0.96\n",
      "Test Loss: 1.95%\n",
      "Train Epoch: 151 [0/19577 (0%)]\tLoss: 0.007754\n",
      "Train Epoch: 151 [3200/19577 (16%)]\tLoss: 0.007573\n",
      "Train Epoch: 151 [6400/19577 (33%)]\tLoss: 0.005966\n",
      "Train Epoch: 151 [9600/19577 (49%)]\tLoss: 0.005101\n",
      "Train Epoch: 151 [12800/19577 (65%)]\tLoss: 0.007898\n",
      "Train Epoch: 151 [16000/19577 (82%)]\tLoss: 0.003898\n",
      "Train Epoch: 151 [19200/19577 (98%)]\tLoss: 0.005716\n",
      "\n",
      "Train loss: 0.008456476149149239\n"
     ]
    },
    {
     "name": "stderr",
     "output_type": "stream",
     "text": [
      "\r",
      " 30%|███       | 151/500 [19:36<54:24,  9.35s/it]"
     ]
    },
    {
     "name": "stdout",
     "output_type": "stream",
     "text": [
      "Test on 1143 samples\n",
      "R^2: -0.21\n",
      "Test Loss: 1.94%\n",
      "Train Epoch: 152 [0/19577 (0%)]\tLoss: 0.016162\n",
      "Train Epoch: 152 [3200/19577 (16%)]\tLoss: 0.008917\n",
      "Train Epoch: 152 [6400/19577 (33%)]\tLoss: 0.012583\n",
      "Train Epoch: 152 [9600/19577 (49%)]\tLoss: 0.008312\n",
      "Train Epoch: 152 [12800/19577 (65%)]\tLoss: 0.008524\n",
      "Train Epoch: 152 [16000/19577 (82%)]\tLoss: 0.004912\n",
      "Train Epoch: 152 [19200/19577 (98%)]\tLoss: 0.006289\n",
      "\n",
      "Train loss: 0.008440738178263083\n"
     ]
    },
    {
     "name": "stderr",
     "output_type": "stream",
     "text": [
      "\r",
      " 30%|███       | 152/500 [19:44<52:01,  8.97s/it]"
     ]
    },
    {
     "name": "stdout",
     "output_type": "stream",
     "text": [
      "Test on 1143 samples\n",
      "R^2: -0.15\n",
      "Test Loss: 1.95%\n",
      "Train Epoch: 153 [0/19577 (0%)]\tLoss: 0.007194\n",
      "Train Epoch: 153 [3200/19577 (16%)]\tLoss: 0.004209\n",
      "Train Epoch: 153 [6400/19577 (33%)]\tLoss: 0.007750\n",
      "Train Epoch: 153 [9600/19577 (49%)]\tLoss: 0.007347\n",
      "Train Epoch: 153 [12800/19577 (65%)]\tLoss: 0.010244\n",
      "Train Epoch: 153 [16000/19577 (82%)]\tLoss: 0.008248\n",
      "Train Epoch: 153 [19200/19577 (98%)]\tLoss: 0.004554\n",
      "\n",
      "Train loss: 0.008443715770613232\n"
     ]
    },
    {
     "name": "stderr",
     "output_type": "stream",
     "text": [
      "\r",
      " 31%|███       | 153/500 [19:54<54:05,  9.35s/it]"
     ]
    },
    {
     "name": "stdout",
     "output_type": "stream",
     "text": [
      "Test on 1143 samples\n",
      "R^2: -0.22\n",
      "Test Loss: 1.94%\n",
      "Train Epoch: 154 [0/19577 (0%)]\tLoss: 0.011411\n",
      "Train Epoch: 154 [3200/19577 (16%)]\tLoss: 0.004012\n",
      "Train Epoch: 154 [6400/19577 (33%)]\tLoss: 0.006557\n",
      "Train Epoch: 154 [9600/19577 (49%)]\tLoss: 0.009777\n",
      "Train Epoch: 154 [12800/19577 (65%)]\tLoss: 0.011051\n",
      "Train Epoch: 154 [16000/19577 (82%)]\tLoss: 0.005775\n",
      "Train Epoch: 154 [19200/19577 (98%)]\tLoss: 0.004656\n",
      "\n",
      "Train loss: 0.008409658247936712\n"
     ]
    },
    {
     "name": "stderr",
     "output_type": "stream",
     "text": [
      "\r",
      " 31%|███       | 154/500 [20:22<1:24:54, 14.72s/it]"
     ]
    },
    {
     "name": "stdout",
     "output_type": "stream",
     "text": [
      "Test on 1143 samples\n",
      "R^2: -0.36\n",
      "Test Loss: 1.94%\n",
      "Train Epoch: 155 [0/19577 (0%)]\tLoss: 0.012019\n",
      "Train Epoch: 155 [3200/19577 (16%)]\tLoss: 0.005958\n",
      "Train Epoch: 155 [6400/19577 (33%)]\tLoss: 0.004575\n",
      "Train Epoch: 155 [9600/19577 (49%)]\tLoss: 0.027500\n",
      "Train Epoch: 155 [12800/19577 (65%)]\tLoss: 0.005253\n",
      "Train Epoch: 155 [16000/19577 (82%)]\tLoss: 0.004285\n",
      "Train Epoch: 155 [19200/19577 (98%)]\tLoss: 0.008752\n",
      "\n",
      "Train loss: 0.008413739813631705\n"
     ]
    },
    {
     "name": "stderr",
     "output_type": "stream",
     "text": [
      "\r",
      " 31%|███       | 155/500 [20:31<1:14:56, 13.03s/it]"
     ]
    },
    {
     "name": "stdout",
     "output_type": "stream",
     "text": [
      "Test on 1143 samples\n",
      "R^2: -0.58\n",
      "Test Loss: 1.94%\n",
      "Train Epoch: 156 [0/19577 (0%)]\tLoss: 0.004885\n",
      "Train Epoch: 156 [3200/19577 (16%)]\tLoss: 0.005629\n",
      "Train Epoch: 156 [6400/19577 (33%)]\tLoss: 0.003407\n",
      "Train Epoch: 156 [9600/19577 (49%)]\tLoss: 0.005543\n",
      "Train Epoch: 156 [12800/19577 (65%)]\tLoss: 0.004812\n",
      "Train Epoch: 156 [16000/19577 (82%)]\tLoss: 0.008050\n",
      "Train Epoch: 156 [19200/19577 (98%)]\tLoss: 0.003323\n",
      "\n",
      "Train loss: 0.008396154433166231\n"
     ]
    },
    {
     "name": "stderr",
     "output_type": "stream",
     "text": [
      "\r",
      " 31%|███       | 156/500 [20:40<1:08:57, 12.03s/it]"
     ]
    },
    {
     "name": "stdout",
     "output_type": "stream",
     "text": [
      "Test on 1143 samples\n",
      "R^2: -2.33\n",
      "Test Loss: 1.95%\n",
      "Train Epoch: 157 [0/19577 (0%)]\tLoss: 0.004876\n",
      "Train Epoch: 157 [3200/19577 (16%)]\tLoss: 0.007571\n",
      "Train Epoch: 157 [6400/19577 (33%)]\tLoss: 0.017373\n",
      "Train Epoch: 157 [9600/19577 (49%)]\tLoss: 0.004735\n",
      "Train Epoch: 157 [12800/19577 (65%)]\tLoss: 0.009796\n",
      "Train Epoch: 157 [16000/19577 (82%)]\tLoss: 0.008455\n",
      "Train Epoch: 157 [19200/19577 (98%)]\tLoss: 0.004096\n",
      "\n",
      "Train loss: 0.008381451358349105\n"
     ]
    },
    {
     "name": "stderr",
     "output_type": "stream",
     "text": [
      "\r",
      " 31%|███▏      | 157/500 [20:48<1:00:27, 10.57s/it]"
     ]
    },
    {
     "name": "stdout",
     "output_type": "stream",
     "text": [
      "Test on 1143 samples\n",
      "R^2: -1.33\n",
      "Test Loss: 1.94%\n",
      "Train Epoch: 158 [0/19577 (0%)]\tLoss: 0.011744\n",
      "Train Epoch: 158 [3200/19577 (16%)]\tLoss: 0.004782\n",
      "Train Epoch: 158 [6400/19577 (33%)]\tLoss: 0.004031\n",
      "Train Epoch: 158 [9600/19577 (49%)]\tLoss: 0.006922\n",
      "Train Epoch: 158 [12800/19577 (65%)]\tLoss: 0.004823\n",
      "Train Epoch: 158 [16000/19577 (82%)]\tLoss: 0.007992\n",
      "Train Epoch: 158 [19200/19577 (98%)]\tLoss: 0.005513\n",
      "\n",
      "Train loss: 0.008381209365134827\n"
     ]
    },
    {
     "name": "stderr",
     "output_type": "stream",
     "text": [
      "\r",
      " 32%|███▏      | 158/500 [20:58<59:15, 10.40s/it]  "
     ]
    },
    {
     "name": "stdout",
     "output_type": "stream",
     "text": [
      "Test on 1143 samples\n",
      "R^2: -0.39\n",
      "Test Loss: 1.94%\n",
      "Train Epoch: 159 [0/19577 (0%)]\tLoss: 0.012516\n",
      "Train Epoch: 159 [3200/19577 (16%)]\tLoss: 0.006688\n",
      "Train Epoch: 159 [6400/19577 (33%)]\tLoss: 0.003032\n",
      "Train Epoch: 159 [9600/19577 (49%)]\tLoss: 0.004825\n",
      "Train Epoch: 159 [12800/19577 (65%)]\tLoss: 0.012099\n",
      "Train Epoch: 159 [16000/19577 (82%)]\tLoss: 0.008093\n",
      "Train Epoch: 159 [19200/19577 (98%)]\tLoss: 0.008185\n",
      "\n",
      "Train loss: 0.008388403153314797\n"
     ]
    },
    {
     "name": "stderr",
     "output_type": "stream",
     "text": [
      "\r",
      " 32%|███▏      | 159/500 [21:05<53:57,  9.49s/it]"
     ]
    },
    {
     "name": "stdout",
     "output_type": "stream",
     "text": [
      "Test on 1143 samples\n",
      "R^2: -1.60\n",
      "Test Loss: 1.96%\n",
      "Train Epoch: 160 [0/19577 (0%)]\tLoss: 0.008146\n",
      "Train Epoch: 160 [3200/19577 (16%)]\tLoss: 0.005397\n",
      "Train Epoch: 160 [6400/19577 (33%)]\tLoss: 0.008257\n",
      "Train Epoch: 160 [9600/19577 (49%)]\tLoss: 0.005239\n",
      "Train Epoch: 160 [12800/19577 (65%)]\tLoss: 0.005938\n",
      "Train Epoch: 160 [16000/19577 (82%)]\tLoss: 0.009656\n",
      "Train Epoch: 160 [19200/19577 (98%)]\tLoss: 0.005826\n",
      "\n",
      "Train loss: 0.00834740395962072\n"
     ]
    },
    {
     "name": "stderr",
     "output_type": "stream",
     "text": [
      "\r",
      " 32%|███▏      | 160/500 [21:15<53:49,  9.50s/it]"
     ]
    },
    {
     "name": "stdout",
     "output_type": "stream",
     "text": [
      "Test on 1143 samples\n",
      "R^2: -0.48\n",
      "Test Loss: 1.95%\n",
      "Train Epoch: 161 [0/19577 (0%)]\tLoss: 0.006240\n",
      "Train Epoch: 161 [3200/19577 (16%)]\tLoss: 0.012874\n",
      "Train Epoch: 161 [6400/19577 (33%)]\tLoss: 0.007217\n",
      "Train Epoch: 161 [9600/19577 (49%)]\tLoss: 0.005981\n",
      "Train Epoch: 161 [12800/19577 (65%)]\tLoss: 0.005712\n",
      "Train Epoch: 161 [16000/19577 (82%)]\tLoss: 0.007092\n",
      "Train Epoch: 161 [19200/19577 (98%)]\tLoss: 0.008371\n",
      "\n",
      "Train loss: 0.008351011501908229\n"
     ]
    },
    {
     "name": "stderr",
     "output_type": "stream",
     "text": [
      "\r",
      " 32%|███▏      | 161/500 [21:22<50:16,  8.90s/it]"
     ]
    },
    {
     "name": "stdout",
     "output_type": "stream",
     "text": [
      "Test on 1143 samples\n",
      "R^2: -0.59\n",
      "Test Loss: 1.93%\n",
      "Train Epoch: 162 [0/19577 (0%)]\tLoss: 0.003605\n",
      "Train Epoch: 162 [3200/19577 (16%)]\tLoss: 0.011624\n",
      "Train Epoch: 162 [6400/19577 (33%)]\tLoss: 0.004637\n",
      "Train Epoch: 162 [9600/19577 (49%)]\tLoss: 0.006943\n",
      "Train Epoch: 162 [12800/19577 (65%)]\tLoss: 0.006603\n",
      "Train Epoch: 162 [16000/19577 (82%)]\tLoss: 0.007314\n",
      "Train Epoch: 162 [19200/19577 (98%)]\tLoss: 0.007406\n",
      "\n",
      "Train loss: 0.008371548980529256\n"
     ]
    },
    {
     "name": "stderr",
     "output_type": "stream",
     "text": [
      "\r",
      " 32%|███▏      | 162/500 [21:31<49:25,  8.77s/it]"
     ]
    },
    {
     "name": "stdout",
     "output_type": "stream",
     "text": [
      "Test on 1143 samples\n",
      "R^2: -0.25\n",
      "Test Loss: 1.92%\n",
      "Train Epoch: 163 [0/19577 (0%)]\tLoss: 0.005044\n",
      "Train Epoch: 163 [3200/19577 (16%)]\tLoss: 0.004150\n",
      "Train Epoch: 163 [6400/19577 (33%)]\tLoss: 0.005515\n",
      "Train Epoch: 163 [9600/19577 (49%)]\tLoss: 0.005399\n",
      "Train Epoch: 163 [12800/19577 (65%)]\tLoss: 0.003993\n",
      "Train Epoch: 163 [16000/19577 (82%)]\tLoss: 0.005591\n",
      "Train Epoch: 163 [19200/19577 (98%)]\tLoss: 0.011717\n",
      "\n",
      "Train loss: 0.008344136958400068\n"
     ]
    },
    {
     "name": "stderr",
     "output_type": "stream",
     "text": [
      "\r",
      " 33%|███▎      | 163/500 [21:39<48:50,  8.70s/it]"
     ]
    },
    {
     "name": "stdout",
     "output_type": "stream",
     "text": [
      "Test on 1143 samples\n",
      "R^2: -3.30\n",
      "Test Loss: 1.94%\n",
      "Train Epoch: 164 [0/19577 (0%)]\tLoss: 0.008065\n",
      "Train Epoch: 164 [3200/19577 (16%)]\tLoss: 0.006150\n",
      "Train Epoch: 164 [6400/19577 (33%)]\tLoss: 0.017293\n",
      "Train Epoch: 164 [9600/19577 (49%)]\tLoss: 0.006321\n",
      "Train Epoch: 164 [12800/19577 (65%)]\tLoss: 0.009990\n",
      "Train Epoch: 164 [16000/19577 (82%)]\tLoss: 0.007217\n",
      "Train Epoch: 164 [19200/19577 (98%)]\tLoss: 0.007494\n",
      "\n",
      "Train loss: 0.00833404779790298\n"
     ]
    },
    {
     "name": "stderr",
     "output_type": "stream",
     "text": [
      "\r",
      " 33%|███▎      | 164/500 [21:47<47:23,  8.46s/it]"
     ]
    },
    {
     "name": "stdout",
     "output_type": "stream",
     "text": [
      "Test on 1143 samples\n",
      "R^2: -0.63\n",
      "Test Loss: 1.92%\n",
      "Train Epoch: 165 [0/19577 (0%)]\tLoss: 0.006369\n",
      "Train Epoch: 165 [3200/19577 (16%)]\tLoss: 0.005393\n",
      "Train Epoch: 165 [6400/19577 (33%)]\tLoss: 0.003628\n",
      "Train Epoch: 165 [9600/19577 (49%)]\tLoss: 0.005240\n",
      "Train Epoch: 165 [12800/19577 (65%)]\tLoss: 0.010349\n",
      "Train Epoch: 165 [16000/19577 (82%)]\tLoss: 0.005240\n",
      "Train Epoch: 165 [19200/19577 (98%)]\tLoss: 0.006328\n",
      "\n",
      "Train loss: 0.008327886645584762\n"
     ]
    },
    {
     "name": "stderr",
     "output_type": "stream",
     "text": [
      "\r",
      " 33%|███▎      | 165/500 [21:56<47:42,  8.54s/it]"
     ]
    },
    {
     "name": "stdout",
     "output_type": "stream",
     "text": [
      "Test on 1143 samples\n",
      "R^2: -0.65\n",
      "Test Loss: 1.92%\n",
      "Train Epoch: 166 [0/19577 (0%)]\tLoss: 0.004835\n",
      "Train Epoch: 166 [3200/19577 (16%)]\tLoss: 0.004851\n",
      "Train Epoch: 166 [6400/19577 (33%)]\tLoss: 0.008178\n",
      "Train Epoch: 166 [9600/19577 (49%)]\tLoss: 0.006069\n",
      "Train Epoch: 166 [12800/19577 (65%)]\tLoss: 0.002654\n",
      "Train Epoch: 166 [16000/19577 (82%)]\tLoss: 0.005645\n",
      "Train Epoch: 166 [19200/19577 (98%)]\tLoss: 0.004937\n",
      "\n",
      "Train loss: 0.008296730269197057\n"
     ]
    },
    {
     "name": "stderr",
     "output_type": "stream",
     "text": [
      "\r",
      " 33%|███▎      | 166/500 [22:03<46:02,  8.27s/it]"
     ]
    },
    {
     "name": "stdout",
     "output_type": "stream",
     "text": [
      "Test on 1143 samples\n",
      "R^2: -1.48\n",
      "Test Loss: 1.92%\n",
      "Train Epoch: 167 [0/19577 (0%)]\tLoss: 0.007624\n",
      "Train Epoch: 167 [3200/19577 (16%)]\tLoss: 0.010802\n",
      "Train Epoch: 167 [6400/19577 (33%)]\tLoss: 0.008349\n",
      "Train Epoch: 167 [9600/19577 (49%)]\tLoss: 0.011514\n",
      "Train Epoch: 167 [12800/19577 (65%)]\tLoss: 0.008478\n",
      "Train Epoch: 167 [16000/19577 (82%)]\tLoss: 0.007062\n",
      "Train Epoch: 167 [19200/19577 (98%)]\tLoss: 0.005877\n",
      "\n",
      "Train loss: 0.008319480600310307\n"
     ]
    },
    {
     "name": "stderr",
     "output_type": "stream",
     "text": [
      "\r",
      " 33%|███▎      | 167/500 [22:20<59:31, 10.72s/it]"
     ]
    },
    {
     "name": "stdout",
     "output_type": "stream",
     "text": [
      "Test on 1143 samples\n",
      "R^2: -0.90\n",
      "Test Loss: 1.91%\n",
      "Train Epoch: 168 [0/19577 (0%)]\tLoss: 0.003293\n",
      "Train Epoch: 168 [3200/19577 (16%)]\tLoss: 0.008035\n",
      "Train Epoch: 168 [6400/19577 (33%)]\tLoss: 0.004446\n",
      "Train Epoch: 168 [9600/19577 (49%)]\tLoss: 0.006889\n",
      "Train Epoch: 168 [12800/19577 (65%)]\tLoss: 0.005995\n",
      "Train Epoch: 168 [16000/19577 (82%)]\tLoss: 0.005267\n",
      "Train Epoch: 168 [19200/19577 (98%)]\tLoss: 0.007419\n",
      "\n",
      "Train loss: 0.008320386605976405\n"
     ]
    },
    {
     "name": "stderr",
     "output_type": "stream",
     "text": [
      "\r",
      " 34%|███▎      | 168/500 [22:32<1:02:07, 11.23s/it]"
     ]
    },
    {
     "name": "stdout",
     "output_type": "stream",
     "text": [
      "Test on 1143 samples\n",
      "R^2: -0.31\n",
      "Test Loss: 1.92%\n",
      "Train Epoch: 169 [0/19577 (0%)]\tLoss: 0.005122\n",
      "Train Epoch: 169 [3200/19577 (16%)]\tLoss: 0.017600\n",
      "Train Epoch: 169 [6400/19577 (33%)]\tLoss: 0.004656\n",
      "Train Epoch: 169 [9600/19577 (49%)]\tLoss: 0.005840\n",
      "Train Epoch: 169 [12800/19577 (65%)]\tLoss: 0.005742\n",
      "Train Epoch: 169 [16000/19577 (82%)]\tLoss: 0.004613\n",
      "Train Epoch: 169 [19200/19577 (98%)]\tLoss: 0.011681\n",
      "\n",
      "Train loss: 0.008283613346291864\n"
     ]
    },
    {
     "name": "stderr",
     "output_type": "stream",
     "text": [
      "\r",
      " 34%|███▍      | 169/500 [22:41<57:54, 10.50s/it]  "
     ]
    },
    {
     "name": "stdout",
     "output_type": "stream",
     "text": [
      "Test on 1143 samples\n",
      "R^2: -0.16\n",
      "Test Loss: 1.92%\n",
      "Train Epoch: 170 [0/19577 (0%)]\tLoss: 0.003397\n",
      "Train Epoch: 170 [3200/19577 (16%)]\tLoss: 0.008732\n",
      "Train Epoch: 170 [6400/19577 (33%)]\tLoss: 0.002654\n",
      "Train Epoch: 170 [9600/19577 (49%)]\tLoss: 0.003762\n",
      "Train Epoch: 170 [12800/19577 (65%)]\tLoss: 0.006092\n",
      "Train Epoch: 170 [16000/19577 (82%)]\tLoss: 0.003694\n",
      "Train Epoch: 170 [19200/19577 (98%)]\tLoss: 0.007955\n",
      "\n",
      "Train loss: 0.00826865996483689\n"
     ]
    },
    {
     "name": "stderr",
     "output_type": "stream",
     "text": [
      "\r",
      " 34%|███▍      | 170/500 [22:49<54:22,  9.89s/it]"
     ]
    },
    {
     "name": "stdout",
     "output_type": "stream",
     "text": [
      "Test on 1143 samples\n",
      "R^2: -1.64\n",
      "Test Loss: 1.95%\n",
      "Train Epoch: 171 [0/19577 (0%)]\tLoss: 0.005211\n",
      "Train Epoch: 171 [3200/19577 (16%)]\tLoss: 0.005046\n",
      "Train Epoch: 171 [6400/19577 (33%)]\tLoss: 0.008598\n",
      "Train Epoch: 171 [9600/19577 (49%)]\tLoss: 0.012577\n",
      "Train Epoch: 171 [12800/19577 (65%)]\tLoss: 0.004495\n",
      "Train Epoch: 171 [16000/19577 (82%)]\tLoss: 0.004947\n",
      "Train Epoch: 171 [19200/19577 (98%)]\tLoss: 0.008268\n",
      "\n",
      "Train loss: 0.00827399239186015\n"
     ]
    },
    {
     "name": "stderr",
     "output_type": "stream",
     "text": [
      "\r",
      " 34%|███▍      | 171/500 [22:58<51:27,  9.38s/it]"
     ]
    },
    {
     "name": "stdout",
     "output_type": "stream",
     "text": [
      "Test on 1143 samples\n",
      "R^2: -1.29\n",
      "Test Loss: 1.94%\n",
      "Train Epoch: 172 [0/19577 (0%)]\tLoss: 0.005044\n",
      "Train Epoch: 172 [3200/19577 (16%)]\tLoss: 0.004983\n",
      "Train Epoch: 172 [6400/19577 (33%)]\tLoss: 0.004146\n",
      "Train Epoch: 172 [9600/19577 (49%)]\tLoss: 0.007948\n",
      "Train Epoch: 172 [12800/19577 (65%)]\tLoss: 0.002152\n",
      "Train Epoch: 172 [16000/19577 (82%)]\tLoss: 0.004936\n",
      "Train Epoch: 172 [19200/19577 (98%)]\tLoss: 0.003196\n",
      "\n",
      "Train loss: 0.008272713178074827\n"
     ]
    },
    {
     "name": "stderr",
     "output_type": "stream",
     "text": [
      "\r",
      " 34%|███▍      | 172/500 [23:09<54:51, 10.03s/it]"
     ]
    },
    {
     "name": "stdout",
     "output_type": "stream",
     "text": [
      "Test on 1143 samples\n",
      "R^2: -0.15\n",
      "Test Loss: 1.91%\n",
      "Train Epoch: 173 [0/19577 (0%)]\tLoss: 0.007155\n",
      "Train Epoch: 173 [3200/19577 (16%)]\tLoss: 0.007542\n",
      "Train Epoch: 173 [6400/19577 (33%)]\tLoss: 0.005227\n",
      "Train Epoch: 173 [9600/19577 (49%)]\tLoss: 0.011442\n",
      "Train Epoch: 173 [12800/19577 (65%)]\tLoss: 0.004414\n",
      "Train Epoch: 173 [16000/19577 (82%)]\tLoss: 0.005817\n",
      "Train Epoch: 173 [19200/19577 (98%)]\tLoss: 0.008919\n",
      "\n",
      "Train loss: 0.008271668978291107\n"
     ]
    },
    {
     "name": "stderr",
     "output_type": "stream",
     "text": [
      "\r",
      " 35%|███▍      | 173/500 [23:18<52:21,  9.61s/it]"
     ]
    },
    {
     "name": "stdout",
     "output_type": "stream",
     "text": [
      "Test on 1143 samples\n",
      "R^2: -1.35\n",
      "Test Loss: 1.94%\n",
      "Train Epoch: 174 [0/19577 (0%)]\tLoss: 0.011746\n",
      "Train Epoch: 174 [3200/19577 (16%)]\tLoss: 0.008322\n",
      "Train Epoch: 174 [6400/19577 (33%)]\tLoss: 0.003980\n",
      "Train Epoch: 174 [9600/19577 (49%)]\tLoss: 0.008671\n",
      "Train Epoch: 174 [12800/19577 (65%)]\tLoss: 0.005750\n",
      "Train Epoch: 174 [16000/19577 (82%)]\tLoss: 0.004989\n",
      "Train Epoch: 174 [19200/19577 (98%)]\tLoss: 0.007885\n",
      "\n",
      "Train loss: 0.008256972955351122\n"
     ]
    },
    {
     "name": "stderr",
     "output_type": "stream",
     "text": [
      "\r",
      " 35%|███▍      | 174/500 [23:27<52:08,  9.60s/it]"
     ]
    },
    {
     "name": "stdout",
     "output_type": "stream",
     "text": [
      "Test on 1143 samples\n",
      "R^2: -1.09\n",
      "Test Loss: 1.93%\n",
      "Train Epoch: 175 [0/19577 (0%)]\tLoss: 0.005546\n",
      "Train Epoch: 175 [3200/19577 (16%)]\tLoss: 0.005064\n",
      "Train Epoch: 175 [6400/19577 (33%)]\tLoss: 0.007447\n",
      "Train Epoch: 175 [9600/19577 (49%)]\tLoss: 0.007719\n",
      "Train Epoch: 175 [12800/19577 (65%)]\tLoss: 0.005915\n",
      "Train Epoch: 175 [16000/19577 (82%)]\tLoss: 0.010555\n",
      "Train Epoch: 175 [19200/19577 (98%)]\tLoss: 0.015631\n",
      "\n",
      "Train loss: 0.008238705683170873\n"
     ]
    },
    {
     "name": "stderr",
     "output_type": "stream",
     "text": [
      "\r",
      " 35%|███▌      | 175/500 [23:35<48:00,  8.86s/it]"
     ]
    },
    {
     "name": "stdout",
     "output_type": "stream",
     "text": [
      "Test on 1143 samples\n",
      "R^2: -0.55\n",
      "Test Loss: 1.91%\n",
      "Train Epoch: 176 [0/19577 (0%)]\tLoss: 0.005080\n",
      "Train Epoch: 176 [3200/19577 (16%)]\tLoss: 0.004492\n",
      "Train Epoch: 176 [6400/19577 (33%)]\tLoss: 0.005982\n",
      "Train Epoch: 176 [9600/19577 (49%)]\tLoss: 0.006760\n",
      "Train Epoch: 176 [12800/19577 (65%)]\tLoss: 0.005056\n",
      "Train Epoch: 176 [16000/19577 (82%)]\tLoss: 0.004790\n",
      "Train Epoch: 176 [19200/19577 (98%)]\tLoss: 0.012063\n",
      "\n",
      "Train loss: 0.008242924615902083\n"
     ]
    },
    {
     "name": "stderr",
     "output_type": "stream",
     "text": [
      "\r",
      " 35%|███▌      | 176/500 [23:42<45:02,  8.34s/it]"
     ]
    },
    {
     "name": "stdout",
     "output_type": "stream",
     "text": [
      "Test on 1143 samples\n",
      "R^2: -0.12\n",
      "Test Loss: 1.90%\n",
      "Train Epoch: 177 [0/19577 (0%)]\tLoss: 0.008022\n",
      "Train Epoch: 177 [3200/19577 (16%)]\tLoss: 0.004883\n",
      "Train Epoch: 177 [6400/19577 (33%)]\tLoss: 0.008144\n",
      "Train Epoch: 177 [9600/19577 (49%)]\tLoss: 0.011675\n",
      "Train Epoch: 177 [12800/19577 (65%)]\tLoss: 0.005564\n",
      "Train Epoch: 177 [16000/19577 (82%)]\tLoss: 0.006856\n",
      "Train Epoch: 177 [19200/19577 (98%)]\tLoss: 0.004532\n",
      "\n",
      "Train loss: 0.008215216386780216\n"
     ]
    },
    {
     "name": "stderr",
     "output_type": "stream",
     "text": [
      "\r",
      " 35%|███▌      | 177/500 [23:49<43:39,  8.11s/it]"
     ]
    },
    {
     "name": "stdout",
     "output_type": "stream",
     "text": [
      "Test on 1143 samples\n",
      "R^2: -0.49\n",
      "Test Loss: 1.90%\n",
      "Train Epoch: 178 [0/19577 (0%)]\tLoss: 0.005856\n",
      "Train Epoch: 178 [3200/19577 (16%)]\tLoss: 0.004870\n",
      "Train Epoch: 178 [6400/19577 (33%)]\tLoss: 0.007406\n",
      "Train Epoch: 178 [9600/19577 (49%)]\tLoss: 0.007001\n",
      "Train Epoch: 178 [12800/19577 (65%)]\tLoss: 0.004918\n",
      "Train Epoch: 178 [16000/19577 (82%)]\tLoss: 0.009033\n",
      "Train Epoch: 178 [19200/19577 (98%)]\tLoss: 0.004648\n",
      "\n",
      "Train loss: 0.008220181955645481\n"
     ]
    },
    {
     "name": "stderr",
     "output_type": "stream",
     "text": [
      "\r",
      " 36%|███▌      | 178/500 [23:57<43:29,  8.10s/it]"
     ]
    },
    {
     "name": "stdout",
     "output_type": "stream",
     "text": [
      "Test on 1143 samples\n",
      "R^2: -0.12\n",
      "Test Loss: 1.89%\n",
      "Train Epoch: 179 [0/19577 (0%)]\tLoss: 0.003530\n",
      "Train Epoch: 179 [3200/19577 (16%)]\tLoss: 0.007091\n",
      "Train Epoch: 179 [6400/19577 (33%)]\tLoss: 0.007197\n",
      "Train Epoch: 179 [9600/19577 (49%)]\tLoss: 0.004990\n",
      "Train Epoch: 179 [12800/19577 (65%)]\tLoss: 0.008292\n",
      "Train Epoch: 179 [16000/19577 (82%)]\tLoss: 0.016165\n",
      "Train Epoch: 179 [19200/19577 (98%)]\tLoss: 0.008863\n",
      "\n",
      "Train loss: 0.008203119458021973\n"
     ]
    },
    {
     "name": "stderr",
     "output_type": "stream",
     "text": [
      "\r",
      " 36%|███▌      | 179/500 [24:05<43:24,  8.11s/it]"
     ]
    },
    {
     "name": "stdout",
     "output_type": "stream",
     "text": [
      "Test on 1143 samples\n",
      "R^2: -0.28\n",
      "Test Loss: 1.90%\n",
      "Train Epoch: 180 [0/19577 (0%)]\tLoss: 0.004947\n",
      "Train Epoch: 180 [3200/19577 (16%)]\tLoss: 0.004709\n",
      "Train Epoch: 180 [6400/19577 (33%)]\tLoss: 0.008724\n",
      "Train Epoch: 180 [9600/19577 (49%)]\tLoss: 0.004719\n",
      "Train Epoch: 180 [12800/19577 (65%)]\tLoss: 0.006269\n",
      "Train Epoch: 180 [16000/19577 (82%)]\tLoss: 0.005341\n",
      "Train Epoch: 180 [19200/19577 (98%)]\tLoss: 0.003735\n",
      "\n",
      "Train loss: 0.008210537824292784\n"
     ]
    },
    {
     "name": "stderr",
     "output_type": "stream",
     "text": [
      "\r",
      " 36%|███▌      | 180/500 [24:14<43:40,  8.19s/it]"
     ]
    },
    {
     "name": "stdout",
     "output_type": "stream",
     "text": [
      "Test on 1143 samples\n",
      "R^2: -0.23\n",
      "Test Loss: 1.89%\n",
      "Train Epoch: 181 [0/19577 (0%)]\tLoss: 0.007072\n",
      "Train Epoch: 181 [3200/19577 (16%)]\tLoss: 0.003913\n",
      "Train Epoch: 181 [6400/19577 (33%)]\tLoss: 0.005589\n",
      "Train Epoch: 181 [9600/19577 (49%)]\tLoss: 0.006637\n",
      "Train Epoch: 181 [12800/19577 (65%)]\tLoss: 0.010604\n",
      "Train Epoch: 181 [16000/19577 (82%)]\tLoss: 0.003115\n",
      "Train Epoch: 181 [19200/19577 (98%)]\tLoss: 0.008855\n",
      "\n",
      "Train loss: 0.00818736310378691\n"
     ]
    },
    {
     "name": "stderr",
     "output_type": "stream",
     "text": [
      "\r",
      " 36%|███▌      | 181/500 [24:24<47:19,  8.90s/it]"
     ]
    },
    {
     "name": "stdout",
     "output_type": "stream",
     "text": [
      "Test on 1143 samples\n",
      "R^2: -0.23\n",
      "Test Loss: 1.89%\n",
      "Train Epoch: 182 [0/19577 (0%)]\tLoss: 0.009349\n",
      "Train Epoch: 182 [3200/19577 (16%)]\tLoss: 0.006164\n",
      "Train Epoch: 182 [6400/19577 (33%)]\tLoss: 0.003671\n",
      "Train Epoch: 182 [9600/19577 (49%)]\tLoss: 0.006065\n",
      "Train Epoch: 182 [12800/19577 (65%)]\tLoss: 0.005072\n",
      "Train Epoch: 182 [16000/19577 (82%)]\tLoss: 0.006035\n",
      "Train Epoch: 182 [19200/19577 (98%)]\tLoss: 0.005147\n",
      "\n",
      "Train loss: 0.008199339420945547\n"
     ]
    },
    {
     "name": "stderr",
     "output_type": "stream",
     "text": [
      "\r",
      " 36%|███▋      | 182/500 [24:39<56:54, 10.74s/it]"
     ]
    },
    {
     "name": "stdout",
     "output_type": "stream",
     "text": [
      "Test on 1143 samples\n",
      "R^2: -1.45\n",
      "Test Loss: 1.89%\n",
      "Train Epoch: 183 [0/19577 (0%)]\tLoss: 0.004570\n",
      "Train Epoch: 183 [3200/19577 (16%)]\tLoss: 0.006353\n",
      "Train Epoch: 183 [6400/19577 (33%)]\tLoss: 0.006150\n",
      "Train Epoch: 183 [9600/19577 (49%)]\tLoss: 0.006430\n",
      "Train Epoch: 183 [12800/19577 (65%)]\tLoss: 0.009312\n",
      "Train Epoch: 183 [16000/19577 (82%)]\tLoss: 0.005526\n",
      "Train Epoch: 183 [19200/19577 (98%)]\tLoss: 0.006130\n",
      "\n",
      "Train loss: 0.00817508436092693\n"
     ]
    },
    {
     "name": "stderr",
     "output_type": "stream",
     "text": [
      "\r",
      " 37%|███▋      | 183/500 [24:48<53:06, 10.05s/it]"
     ]
    },
    {
     "name": "stdout",
     "output_type": "stream",
     "text": [
      "Test on 1143 samples\n",
      "R^2: -0.13\n",
      "Test Loss: 1.89%\n",
      "Train Epoch: 184 [0/19577 (0%)]\tLoss: 0.011334\n",
      "Train Epoch: 184 [3200/19577 (16%)]\tLoss: 0.006323\n",
      "Train Epoch: 184 [6400/19577 (33%)]\tLoss: 0.006897\n",
      "Train Epoch: 184 [9600/19577 (49%)]\tLoss: 0.005156\n",
      "Train Epoch: 184 [12800/19577 (65%)]\tLoss: 0.005673\n",
      "Train Epoch: 184 [16000/19577 (82%)]\tLoss: 0.004748\n",
      "Train Epoch: 184 [19200/19577 (98%)]\tLoss: 0.018883\n",
      "\n",
      "Train loss: 0.008163478093075693\n"
     ]
    },
    {
     "name": "stderr",
     "output_type": "stream",
     "text": [
      "\r",
      " 37%|███▋      | 184/500 [24:59<54:51, 10.42s/it]"
     ]
    },
    {
     "name": "stdout",
     "output_type": "stream",
     "text": [
      "Test on 1143 samples\n",
      "R^2: -0.22\n",
      "Test Loss: 1.89%\n",
      "Train Epoch: 185 [0/19577 (0%)]\tLoss: 0.003802\n",
      "Train Epoch: 185 [3200/19577 (16%)]\tLoss: 0.010980\n",
      "Train Epoch: 185 [6400/19577 (33%)]\tLoss: 0.009397\n",
      "Train Epoch: 185 [9600/19577 (49%)]\tLoss: 0.004805\n",
      "Train Epoch: 185 [12800/19577 (65%)]\tLoss: 0.003432\n",
      "Train Epoch: 185 [16000/19577 (82%)]\tLoss: 0.007208\n",
      "Train Epoch: 185 [19200/19577 (98%)]\tLoss: 0.005659\n",
      "\n",
      "Train loss: 0.008150098739219281\n"
     ]
    },
    {
     "name": "stderr",
     "output_type": "stream",
     "text": [
      "\r",
      " 37%|███▋      | 185/500 [25:08<51:51,  9.88s/it]"
     ]
    },
    {
     "name": "stdout",
     "output_type": "stream",
     "text": [
      "Test on 1143 samples\n",
      "R^2: -2.49\n",
      "Test Loss: 1.93%\n",
      "Train Epoch: 186 [0/19577 (0%)]\tLoss: 0.003515\n",
      "Train Epoch: 186 [3200/19577 (16%)]\tLoss: 0.006569\n",
      "Train Epoch: 186 [6400/19577 (33%)]\tLoss: 0.006744\n",
      "Train Epoch: 186 [9600/19577 (49%)]\tLoss: 0.007216\n",
      "Train Epoch: 186 [12800/19577 (65%)]\tLoss: 0.007737\n",
      "Train Epoch: 186 [16000/19577 (82%)]\tLoss: 0.007028\n",
      "Train Epoch: 186 [19200/19577 (98%)]\tLoss: 0.005610\n",
      "\n",
      "Train loss: 0.008159793720099758\n"
     ]
    },
    {
     "name": "stderr",
     "output_type": "stream",
     "text": [
      "\r",
      " 37%|███▋      | 186/500 [25:15<47:55,  9.16s/it]"
     ]
    },
    {
     "name": "stdout",
     "output_type": "stream",
     "text": [
      "Test on 1143 samples\n",
      "R^2: -0.24\n",
      "Test Loss: 1.88%\n",
      "Train Epoch: 187 [0/19577 (0%)]\tLoss: 0.004387\n",
      "Train Epoch: 187 [3200/19577 (16%)]\tLoss: 0.009394\n",
      "Train Epoch: 187 [6400/19577 (33%)]\tLoss: 0.004612\n",
      "Train Epoch: 187 [9600/19577 (49%)]\tLoss: 0.005905\n",
      "Train Epoch: 187 [12800/19577 (65%)]\tLoss: 0.005232\n",
      "Train Epoch: 187 [16000/19577 (82%)]\tLoss: 0.004528\n",
      "Train Epoch: 187 [19200/19577 (98%)]\tLoss: 0.003196\n",
      "\n",
      "Train loss: 0.008145433593027026\n"
     ]
    },
    {
     "name": "stderr",
     "output_type": "stream",
     "text": [
      "\r",
      " 37%|███▋      | 187/500 [25:23<45:19,  8.69s/it]"
     ]
    },
    {
     "name": "stdout",
     "output_type": "stream",
     "text": [
      "Test on 1143 samples\n",
      "R^2: -0.25\n",
      "Test Loss: 1.88%\n",
      "Train Epoch: 188 [0/19577 (0%)]\tLoss: 0.003389\n",
      "Train Epoch: 188 [3200/19577 (16%)]\tLoss: 0.008391\n",
      "Train Epoch: 188 [6400/19577 (33%)]\tLoss: 0.005339\n",
      "Train Epoch: 188 [9600/19577 (49%)]\tLoss: 0.003035\n",
      "Train Epoch: 188 [12800/19577 (65%)]\tLoss: 0.004302\n",
      "Train Epoch: 188 [16000/19577 (82%)]\tLoss: 0.005033\n",
      "Train Epoch: 188 [19200/19577 (98%)]\tLoss: 0.002460\n",
      "\n",
      "Train loss: 0.008166190232241563\n"
     ]
    },
    {
     "name": "stderr",
     "output_type": "stream",
     "text": [
      "\r",
      " 38%|███▊      | 188/500 [25:30<43:07,  8.29s/it]"
     ]
    },
    {
     "name": "stdout",
     "output_type": "stream",
     "text": [
      "Test on 1143 samples\n",
      "R^2: -0.60\n",
      "Test Loss: 1.89%\n",
      "Train Epoch: 189 [0/19577 (0%)]\tLoss: 0.021180\n",
      "Train Epoch: 189 [3200/19577 (16%)]\tLoss: 0.004530\n",
      "Train Epoch: 189 [6400/19577 (33%)]\tLoss: 0.004941\n",
      "Train Epoch: 189 [9600/19577 (49%)]\tLoss: 0.006832\n",
      "Train Epoch: 189 [12800/19577 (65%)]\tLoss: 0.013337\n",
      "Train Epoch: 189 [16000/19577 (82%)]\tLoss: 0.002854\n",
      "Train Epoch: 189 [19200/19577 (98%)]\tLoss: 0.005276\n",
      "\n",
      "Train loss: 0.008151838856481405\n"
     ]
    },
    {
     "name": "stderr",
     "output_type": "stream",
     "text": [
      "\r",
      " 38%|███▊      | 189/500 [25:38<42:01,  8.11s/it]"
     ]
    },
    {
     "name": "stdout",
     "output_type": "stream",
     "text": [
      "Test on 1143 samples\n",
      "R^2: -0.11\n",
      "Test Loss: 1.87%\n",
      "Train Epoch: 190 [0/19577 (0%)]\tLoss: 0.006770\n",
      "Train Epoch: 190 [3200/19577 (16%)]\tLoss: 0.002839\n",
      "Train Epoch: 190 [6400/19577 (33%)]\tLoss: 0.002465\n",
      "Train Epoch: 190 [9600/19577 (49%)]\tLoss: 0.014709\n",
      "Train Epoch: 190 [12800/19577 (65%)]\tLoss: 0.005703\n",
      "Train Epoch: 190 [16000/19577 (82%)]\tLoss: 0.014625\n",
      "Train Epoch: 190 [19200/19577 (98%)]\tLoss: 0.005204\n",
      "\n",
      "Train loss: 0.008126893234469629\n"
     ]
    },
    {
     "name": "stderr",
     "output_type": "stream",
     "text": [
      "\r",
      " 38%|███▊      | 190/500 [25:46<42:40,  8.26s/it]"
     ]
    },
    {
     "name": "stdout",
     "output_type": "stream",
     "text": [
      "Test on 1143 samples\n",
      "R^2: -0.77\n",
      "Test Loss: 1.87%\n",
      "Train Epoch: 191 [0/19577 (0%)]\tLoss: 0.005814\n",
      "Train Epoch: 191 [3200/19577 (16%)]\tLoss: 0.006083\n",
      "Train Epoch: 191 [6400/19577 (33%)]\tLoss: 0.084436\n",
      "Train Epoch: 191 [9600/19577 (49%)]\tLoss: 0.003657\n",
      "Train Epoch: 191 [12800/19577 (65%)]\tLoss: 0.006314\n",
      "Train Epoch: 191 [16000/19577 (82%)]\tLoss: 0.007674\n",
      "Train Epoch: 191 [19200/19577 (98%)]\tLoss: 0.003942\n",
      "\n",
      "Train loss: 0.008145134672339932\n"
     ]
    },
    {
     "name": "stderr",
     "output_type": "stream",
     "text": [
      "\r",
      " 38%|███▊      | 191/500 [25:55<43:41,  8.48s/it]"
     ]
    },
    {
     "name": "stdout",
     "output_type": "stream",
     "text": [
      "Test on 1143 samples\n",
      "R^2: -0.25\n",
      "Test Loss: 1.87%\n",
      "Train Epoch: 192 [0/19577 (0%)]\tLoss: 0.010292\n",
      "Train Epoch: 192 [3200/19577 (16%)]\tLoss: 0.005651\n",
      "Train Epoch: 192 [6400/19577 (33%)]\tLoss: 0.005772\n",
      "Train Epoch: 192 [9600/19577 (49%)]\tLoss: 0.007081\n",
      "Train Epoch: 192 [12800/19577 (65%)]\tLoss: 0.006037\n",
      "Train Epoch: 192 [16000/19577 (82%)]\tLoss: 0.009259\n",
      "Train Epoch: 192 [19200/19577 (98%)]\tLoss: 0.004063\n",
      "\n",
      "Train loss: 0.008110078127774733\n"
     ]
    },
    {
     "name": "stderr",
     "output_type": "stream",
     "text": [
      "\r",
      " 38%|███▊      | 192/500 [26:04<42:56,  8.36s/it]"
     ]
    },
    {
     "name": "stdout",
     "output_type": "stream",
     "text": [
      "Test on 1143 samples\n",
      "R^2: -0.14\n",
      "Test Loss: 1.87%\n",
      "Train Epoch: 193 [0/19577 (0%)]\tLoss: 0.005745\n",
      "Train Epoch: 193 [3200/19577 (16%)]\tLoss: 0.008001\n",
      "Train Epoch: 193 [6400/19577 (33%)]\tLoss: 0.002899\n",
      "Train Epoch: 193 [9600/19577 (49%)]\tLoss: 0.007801\n",
      "Train Epoch: 193 [12800/19577 (65%)]\tLoss: 0.003966\n",
      "Train Epoch: 193 [16000/19577 (82%)]\tLoss: 0.005199\n",
      "Train Epoch: 193 [19200/19577 (98%)]\tLoss: 0.004862\n",
      "\n",
      "Train loss: 0.008135988386165277\n"
     ]
    },
    {
     "name": "stderr",
     "output_type": "stream",
     "text": [
      "\r",
      " 39%|███▊      | 193/500 [26:15<47:18,  9.24s/it]"
     ]
    },
    {
     "name": "stdout",
     "output_type": "stream",
     "text": [
      "Test on 1143 samples\n",
      "R^2: -0.11\n",
      "Test Loss: 1.87%\n",
      "Train Epoch: 194 [0/19577 (0%)]\tLoss: 0.007681\n",
      "Train Epoch: 194 [3200/19577 (16%)]\tLoss: 0.009491\n",
      "Train Epoch: 194 [6400/19577 (33%)]\tLoss: 0.010268\n",
      "Train Epoch: 194 [9600/19577 (49%)]\tLoss: 0.007916\n",
      "Train Epoch: 194 [12800/19577 (65%)]\tLoss: 0.040366\n",
      "Train Epoch: 194 [16000/19577 (82%)]\tLoss: 0.005808\n",
      "Train Epoch: 194 [19200/19577 (98%)]\tLoss: 0.003592\n",
      "\n",
      "Train loss: 0.00809683726478088\n"
     ]
    },
    {
     "name": "stderr",
     "output_type": "stream",
     "text": [
      "\r",
      " 39%|███▉      | 194/500 [26:23<46:00,  9.02s/it]"
     ]
    },
    {
     "name": "stdout",
     "output_type": "stream",
     "text": [
      "Test on 1143 samples\n",
      "R^2: -4.42\n",
      "Test Loss: 1.90%\n",
      "Train Epoch: 195 [0/19577 (0%)]\tLoss: 0.005747\n",
      "Train Epoch: 195 [3200/19577 (16%)]\tLoss: 0.007711\n",
      "Train Epoch: 195 [6400/19577 (33%)]\tLoss: 0.007167\n",
      "Train Epoch: 195 [9600/19577 (49%)]\tLoss: 0.016344\n",
      "Train Epoch: 195 [12800/19577 (65%)]\tLoss: 0.005213\n",
      "Train Epoch: 195 [16000/19577 (82%)]\tLoss: 0.005571\n",
      "Train Epoch: 195 [19200/19577 (98%)]\tLoss: 0.010532\n",
      "\n",
      "Train loss: 0.00810379250845537\n"
     ]
    },
    {
     "name": "stderr",
     "output_type": "stream",
     "text": [
      "\r",
      " 39%|███▉      | 195/500 [26:35<49:58,  9.83s/it]"
     ]
    },
    {
     "name": "stdout",
     "output_type": "stream",
     "text": [
      "Test on 1143 samples\n",
      "R^2: -0.21\n",
      "Test Loss: 1.86%\n",
      "Train Epoch: 196 [0/19577 (0%)]\tLoss: 0.005066\n",
      "Train Epoch: 196 [3200/19577 (16%)]\tLoss: 0.005335\n",
      "Train Epoch: 196 [6400/19577 (33%)]\tLoss: 0.015144\n",
      "Train Epoch: 196 [9600/19577 (49%)]\tLoss: 0.005870\n",
      "Train Epoch: 196 [12800/19577 (65%)]\tLoss: 0.005331\n",
      "Train Epoch: 196 [16000/19577 (82%)]\tLoss: 0.011865\n",
      "Train Epoch: 196 [19200/19577 (98%)]\tLoss: 0.005605\n",
      "\n",
      "Train loss: 0.008090889694631781\n"
     ]
    },
    {
     "name": "stderr",
     "output_type": "stream",
     "text": [
      "\r",
      " 39%|███▉      | 196/500 [26:45<50:06,  9.89s/it]"
     ]
    },
    {
     "name": "stdout",
     "output_type": "stream",
     "text": [
      "Test on 1143 samples\n",
      "R^2: -0.48\n",
      "Test Loss: 1.86%\n",
      "Train Epoch: 197 [0/19577 (0%)]\tLoss: 0.007739\n",
      "Train Epoch: 197 [3200/19577 (16%)]\tLoss: 0.002499\n",
      "Train Epoch: 197 [6400/19577 (33%)]\tLoss: 0.004018\n",
      "Train Epoch: 197 [9600/19577 (49%)]\tLoss: 0.004040\n",
      "Train Epoch: 197 [12800/19577 (65%)]\tLoss: 0.003562\n",
      "Train Epoch: 197 [16000/19577 (82%)]\tLoss: 0.004272\n",
      "Train Epoch: 197 [19200/19577 (98%)]\tLoss: 0.005879\n",
      "\n",
      "Train loss: 0.00807046609035894\n"
     ]
    },
    {
     "name": "stderr",
     "output_type": "stream",
     "text": [
      "\r",
      " 39%|███▉      | 197/500 [26:53<46:09,  9.14s/it]"
     ]
    },
    {
     "name": "stdout",
     "output_type": "stream",
     "text": [
      "Test on 1143 samples\n",
      "R^2: -0.70\n",
      "Test Loss: 1.86%\n",
      "Train Epoch: 198 [0/19577 (0%)]\tLoss: 0.004023\n",
      "Train Epoch: 198 [3200/19577 (16%)]\tLoss: 0.006226\n",
      "Train Epoch: 198 [6400/19577 (33%)]\tLoss: 0.005321\n",
      "Train Epoch: 198 [9600/19577 (49%)]\tLoss: 0.004850\n",
      "Train Epoch: 198 [12800/19577 (65%)]\tLoss: 0.012157\n",
      "Train Epoch: 198 [16000/19577 (82%)]\tLoss: 0.009024\n",
      "Train Epoch: 198 [19200/19577 (98%)]\tLoss: 0.005254\n",
      "\n",
      "Train loss: 0.008060946026543045\n"
     ]
    },
    {
     "name": "stderr",
     "output_type": "stream",
     "text": [
      "\r",
      " 40%|███▉      | 198/500 [27:00<43:44,  8.69s/it]"
     ]
    },
    {
     "name": "stdout",
     "output_type": "stream",
     "text": [
      "Test on 1143 samples\n",
      "R^2: -0.80\n",
      "Test Loss: 1.88%\n",
      "Train Epoch: 199 [0/19577 (0%)]\tLoss: 0.003722\n",
      "Train Epoch: 199 [3200/19577 (16%)]\tLoss: 0.006578\n",
      "Train Epoch: 199 [6400/19577 (33%)]\tLoss: 0.006955\n",
      "Train Epoch: 199 [9600/19577 (49%)]\tLoss: 0.002964\n",
      "Train Epoch: 199 [12800/19577 (65%)]\tLoss: 0.005076\n",
      "Train Epoch: 199 [16000/19577 (82%)]\tLoss: 0.003241\n",
      "Train Epoch: 199 [19200/19577 (98%)]\tLoss: 0.005454\n",
      "\n",
      "Train loss: 0.008078701229190783\n"
     ]
    },
    {
     "name": "stderr",
     "output_type": "stream",
     "text": [
      "\r",
      " 40%|███▉      | 199/500 [27:07<41:26,  8.26s/it]"
     ]
    },
    {
     "name": "stdout",
     "output_type": "stream",
     "text": [
      "Test on 1143 samples\n",
      "R^2: -0.68\n",
      "Test Loss: 1.86%\n",
      "Train Epoch: 200 [0/19577 (0%)]\tLoss: 0.004728\n",
      "Train Epoch: 200 [3200/19577 (16%)]\tLoss: 0.005188\n",
      "Train Epoch: 200 [6400/19577 (33%)]\tLoss: 0.009154\n",
      "Train Epoch: 200 [9600/19577 (49%)]\tLoss: 0.008680\n",
      "Train Epoch: 200 [12800/19577 (65%)]\tLoss: 0.014148\n",
      "Train Epoch: 200 [16000/19577 (82%)]\tLoss: 0.007312\n",
      "Train Epoch: 200 [19200/19577 (98%)]\tLoss: 0.006799\n",
      "\n",
      "Train loss: 0.008058721102618923\n"
     ]
    },
    {
     "name": "stderr",
     "output_type": "stream",
     "text": [
      "\r",
      " 40%|████      | 200/500 [27:15<40:04,  8.01s/it]"
     ]
    },
    {
     "name": "stdout",
     "output_type": "stream",
     "text": [
      "Test on 1143 samples\n",
      "R^2: -0.12\n",
      "Test Loss: 1.85%\n",
      "Train Epoch: 201 [0/19577 (0%)]\tLoss: 0.005157\n",
      "Train Epoch: 201 [3200/19577 (16%)]\tLoss: 0.004756\n",
      "Train Epoch: 201 [6400/19577 (33%)]\tLoss: 0.010620\n",
      "Train Epoch: 201 [9600/19577 (49%)]\tLoss: 0.004795\n",
      "Train Epoch: 201 [12800/19577 (65%)]\tLoss: 0.007740\n",
      "Train Epoch: 201 [16000/19577 (82%)]\tLoss: 0.004385\n",
      "Train Epoch: 201 [19200/19577 (98%)]\tLoss: 0.004135\n",
      "\n",
      "Train loss: 0.008047372296382522\n"
     ]
    },
    {
     "name": "stderr",
     "output_type": "stream",
     "text": [
      "\r",
      " 40%|████      | 201/500 [27:24<40:56,  8.22s/it]"
     ]
    },
    {
     "name": "stdout",
     "output_type": "stream",
     "text": [
      "Test on 1143 samples\n",
      "R^2: -0.11\n",
      "Test Loss: 1.85%\n",
      "Train Epoch: 202 [0/19577 (0%)]\tLoss: 0.005954\n",
      "Train Epoch: 202 [3200/19577 (16%)]\tLoss: 0.006634\n",
      "Train Epoch: 202 [6400/19577 (33%)]\tLoss: 0.012045\n",
      "Train Epoch: 202 [9600/19577 (49%)]\tLoss: 0.007461\n",
      "Train Epoch: 202 [12800/19577 (65%)]\tLoss: 0.004381\n",
      "Train Epoch: 202 [16000/19577 (82%)]\tLoss: 0.009644\n",
      "Train Epoch: 202 [19200/19577 (98%)]\tLoss: 0.006077\n",
      "\n",
      "Train loss: 0.008054941334895595\n"
     ]
    },
    {
     "name": "stderr",
     "output_type": "stream",
     "text": [
      "\r",
      " 40%|████      | 202/500 [27:32<41:47,  8.41s/it]"
     ]
    },
    {
     "name": "stdout",
     "output_type": "stream",
     "text": [
      "Test on 1143 samples\n",
      "R^2: -0.46\n",
      "Test Loss: 1.84%\n",
      "Train Epoch: 203 [0/19577 (0%)]\tLoss: 0.007336\n",
      "Train Epoch: 203 [3200/19577 (16%)]\tLoss: 0.004491\n",
      "Train Epoch: 203 [6400/19577 (33%)]\tLoss: 0.002707\n",
      "Train Epoch: 203 [9600/19577 (49%)]\tLoss: 0.005714\n",
      "Train Epoch: 203 [12800/19577 (65%)]\tLoss: 0.011780\n",
      "Train Epoch: 203 [16000/19577 (82%)]\tLoss: 0.004883\n",
      "Train Epoch: 203 [19200/19577 (98%)]\tLoss: 0.003091\n",
      "\n",
      "Train loss: 0.008040637888388671\n"
     ]
    },
    {
     "name": "stderr",
     "output_type": "stream",
     "text": [
      "\r",
      " 41%|████      | 203/500 [27:40<40:29,  8.18s/it]"
     ]
    },
    {
     "name": "stdout",
     "output_type": "stream",
     "text": [
      "Test on 1143 samples\n",
      "R^2: -1.19\n",
      "Test Loss: 1.88%\n",
      "Train Epoch: 204 [0/19577 (0%)]\tLoss: 0.004343\n",
      "Train Epoch: 204 [3200/19577 (16%)]\tLoss: 0.008459\n",
      "Train Epoch: 204 [6400/19577 (33%)]\tLoss: 0.003955\n",
      "Train Epoch: 204 [9600/19577 (49%)]\tLoss: 0.007284\n",
      "Train Epoch: 204 [12800/19577 (65%)]\tLoss: 0.003647\n",
      "Train Epoch: 204 [16000/19577 (82%)]\tLoss: 0.005953\n",
      "Train Epoch: 204 [19200/19577 (98%)]\tLoss: 0.002620\n",
      "\n",
      "Train loss: 0.008039447457645258\n"
     ]
    },
    {
     "name": "stderr",
     "output_type": "stream",
     "text": [
      "\r",
      " 41%|████      | 204/500 [27:47<39:16,  7.96s/it]"
     ]
    },
    {
     "name": "stdout",
     "output_type": "stream",
     "text": [
      "Test on 1143 samples\n",
      "R^2: -0.28\n",
      "Test Loss: 1.84%\n",
      "Train Epoch: 205 [0/19577 (0%)]\tLoss: 0.011355\n",
      "Train Epoch: 205 [3200/19577 (16%)]\tLoss: 0.003191\n",
      "Train Epoch: 205 [6400/19577 (33%)]\tLoss: 0.005963\n",
      "Train Epoch: 205 [9600/19577 (49%)]\tLoss: 0.007276\n",
      "Train Epoch: 205 [12800/19577 (65%)]\tLoss: 0.008007\n",
      "Train Epoch: 205 [16000/19577 (82%)]\tLoss: 0.004220\n",
      "Train Epoch: 205 [19200/19577 (98%)]\tLoss: 0.006175\n",
      "\n",
      "Train loss: 0.00803755059628291\n"
     ]
    },
    {
     "name": "stderr",
     "output_type": "stream",
     "text": [
      "\r",
      " 41%|████      | 205/500 [27:55<38:19,  7.79s/it]"
     ]
    },
    {
     "name": "stdout",
     "output_type": "stream",
     "text": [
      "Test on 1143 samples\n",
      "R^2: -0.68\n",
      "Test Loss: 1.85%\n",
      "Train Epoch: 206 [0/19577 (0%)]\tLoss: 0.006249\n",
      "Train Epoch: 206 [3200/19577 (16%)]\tLoss: 0.002827\n",
      "Train Epoch: 206 [6400/19577 (33%)]\tLoss: 0.005087\n",
      "Train Epoch: 206 [9600/19577 (49%)]\tLoss: 0.004286\n",
      "Train Epoch: 206 [12800/19577 (65%)]\tLoss: 0.005619\n",
      "Train Epoch: 206 [16000/19577 (82%)]\tLoss: 0.009852\n",
      "Train Epoch: 206 [19200/19577 (98%)]\tLoss: 0.004474\n",
      "\n",
      "Train loss: 0.008044096270691773\n"
     ]
    },
    {
     "name": "stderr",
     "output_type": "stream",
     "text": [
      "\r",
      " 41%|████      | 206/500 [28:03<38:49,  7.92s/it]"
     ]
    },
    {
     "name": "stdout",
     "output_type": "stream",
     "text": [
      "Test on 1143 samples\n",
      "R^2: -1.07\n",
      "Test Loss: 1.85%\n",
      "Train Epoch: 207 [0/19577 (0%)]\tLoss: 0.005807\n",
      "Train Epoch: 207 [3200/19577 (16%)]\tLoss: 0.007076\n",
      "Train Epoch: 207 [6400/19577 (33%)]\tLoss: 0.002732\n",
      "Train Epoch: 207 [9600/19577 (49%)]\tLoss: 0.003223\n",
      "Train Epoch: 207 [12800/19577 (65%)]\tLoss: 0.005873\n",
      "Train Epoch: 207 [16000/19577 (82%)]\tLoss: 0.005745\n",
      "Train Epoch: 207 [19200/19577 (98%)]\tLoss: 0.004774\n",
      "\n",
      "Train loss: 0.008033380648912557\n"
     ]
    },
    {
     "name": "stderr",
     "output_type": "stream",
     "text": [
      "\r",
      " 41%|████▏     | 207/500 [28:17<47:18,  9.69s/it]"
     ]
    },
    {
     "name": "stdout",
     "output_type": "stream",
     "text": [
      "Test on 1143 samples\n",
      "R^2: -0.21\n",
      "Test Loss: 1.84%\n",
      "Train Epoch: 208 [0/19577 (0%)]\tLoss: 0.005174\n",
      "Train Epoch: 208 [3200/19577 (16%)]\tLoss: 0.018861\n",
      "Train Epoch: 208 [6400/19577 (33%)]\tLoss: 0.007608\n",
      "Train Epoch: 208 [9600/19577 (49%)]\tLoss: 0.014889\n",
      "Train Epoch: 208 [12800/19577 (65%)]\tLoss: 0.010597\n",
      "Train Epoch: 208 [16000/19577 (82%)]\tLoss: 0.006544\n",
      "Train Epoch: 208 [19200/19577 (98%)]\tLoss: 0.005056\n",
      "\n",
      "Train loss: 0.008018541895842266\n"
     ]
    },
    {
     "name": "stderr",
     "output_type": "stream",
     "text": [
      "\r",
      " 42%|████▏     | 208/500 [28:25<45:26,  9.34s/it]"
     ]
    },
    {
     "name": "stdout",
     "output_type": "stream",
     "text": [
      "Test on 1143 samples\n",
      "R^2: -1.08\n",
      "Test Loss: 1.87%\n",
      "Train Epoch: 209 [0/19577 (0%)]\tLoss: 0.004280\n",
      "Train Epoch: 209 [3200/19577 (16%)]\tLoss: 0.008407\n",
      "Train Epoch: 209 [6400/19577 (33%)]\tLoss: 0.006837\n",
      "Train Epoch: 209 [9600/19577 (49%)]\tLoss: 0.010036\n",
      "Train Epoch: 209 [12800/19577 (65%)]\tLoss: 0.002538\n",
      "Train Epoch: 209 [16000/19577 (82%)]\tLoss: 0.005073\n",
      "Train Epoch: 209 [19200/19577 (98%)]\tLoss: 0.005952\n",
      "\n",
      "Train loss: 0.008029331956089176\n"
     ]
    },
    {
     "name": "stderr",
     "output_type": "stream",
     "text": [
      "\r",
      " 42%|████▏     | 209/500 [28:33<42:44,  8.81s/it]"
     ]
    },
    {
     "name": "stdout",
     "output_type": "stream",
     "text": [
      "Test on 1143 samples\n",
      "R^2: -0.11\n",
      "Test Loss: 1.84%\n",
      "Train Epoch: 210 [0/19577 (0%)]\tLoss: 0.007633\n",
      "Train Epoch: 210 [3200/19577 (16%)]\tLoss: 0.013121\n",
      "Train Epoch: 210 [6400/19577 (33%)]\tLoss: 0.005182\n",
      "Train Epoch: 210 [9600/19577 (49%)]\tLoss: 0.006326\n",
      "Train Epoch: 210 [12800/19577 (65%)]\tLoss: 0.004342\n",
      "Train Epoch: 210 [16000/19577 (82%)]\tLoss: 0.005997\n",
      "Train Epoch: 210 [19200/19577 (98%)]\tLoss: 0.007086\n",
      "\n",
      "Train loss: 0.00800465838983655\n"
     ]
    },
    {
     "name": "stderr",
     "output_type": "stream",
     "text": [
      "\r",
      " 42%|████▏     | 210/500 [28:41<41:21,  8.56s/it]"
     ]
    },
    {
     "name": "stdout",
     "output_type": "stream",
     "text": [
      "Test on 1143 samples\n",
      "R^2: -1.29\n",
      "Test Loss: 1.84%\n",
      "Train Epoch: 211 [0/19577 (0%)]\tLoss: 0.004664\n",
      "Train Epoch: 211 [3200/19577 (16%)]\tLoss: 0.006308\n",
      "Train Epoch: 211 [6400/19577 (33%)]\tLoss: 0.012040\n",
      "Train Epoch: 211 [9600/19577 (49%)]\tLoss: 0.005433\n",
      "Train Epoch: 211 [12800/19577 (65%)]\tLoss: 0.010769\n",
      "Train Epoch: 211 [16000/19577 (82%)]\tLoss: 0.005597\n",
      "Train Epoch: 211 [19200/19577 (98%)]\tLoss: 0.005269\n",
      "\n",
      "Train loss: 0.008013432790689608\n"
     ]
    },
    {
     "name": "stderr",
     "output_type": "stream",
     "text": [
      "\r",
      " 42%|████▏     | 211/500 [28:48<39:15,  8.15s/it]"
     ]
    },
    {
     "name": "stdout",
     "output_type": "stream",
     "text": [
      "Test on 1143 samples\n",
      "R^2: -0.12\n",
      "Test Loss: 1.84%\n",
      "Train Epoch: 212 [0/19577 (0%)]\tLoss: 0.011109\n",
      "Train Epoch: 212 [3200/19577 (16%)]\tLoss: 0.003709\n",
      "Train Epoch: 212 [6400/19577 (33%)]\tLoss: 0.010334\n",
      "Train Epoch: 212 [9600/19577 (49%)]\tLoss: 0.003505\n",
      "Train Epoch: 212 [12800/19577 (65%)]\tLoss: 0.009326\n",
      "Train Epoch: 212 [16000/19577 (82%)]\tLoss: 0.005359\n",
      "Train Epoch: 212 [19200/19577 (98%)]\tLoss: 0.003127\n",
      "\n",
      "Train loss: 0.00797671487165335\n"
     ]
    },
    {
     "name": "stderr",
     "output_type": "stream",
     "text": [
      "\r",
      " 42%|████▏     | 212/500 [28:56<38:01,  7.92s/it]"
     ]
    },
    {
     "name": "stdout",
     "output_type": "stream",
     "text": [
      "Test on 1143 samples\n",
      "R^2: -0.07\n",
      "Test Loss: 1.84%\n",
      "Train Epoch: 213 [0/19577 (0%)]\tLoss: 0.006917\n",
      "Train Epoch: 213 [3200/19577 (16%)]\tLoss: 0.003616\n",
      "Train Epoch: 213 [6400/19577 (33%)]\tLoss: 0.009681\n",
      "Train Epoch: 213 [9600/19577 (49%)]\tLoss: 0.004391\n",
      "Train Epoch: 213 [12800/19577 (65%)]\tLoss: 0.003549\n",
      "Train Epoch: 213 [16000/19577 (82%)]\tLoss: 0.009013\n",
      "Train Epoch: 213 [19200/19577 (98%)]\tLoss: 0.012740\n",
      "\n",
      "Train loss: 0.007965761830336322\n"
     ]
    },
    {
     "name": "stderr",
     "output_type": "stream",
     "text": [
      "\r",
      " 43%|████▎     | 213/500 [29:04<38:48,  8.11s/it]"
     ]
    },
    {
     "name": "stdout",
     "output_type": "stream",
     "text": [
      "Test on 1143 samples\n",
      "R^2: -0.15\n",
      "Test Loss: 1.84%\n",
      "Train Epoch: 214 [0/19577 (0%)]\tLoss: 0.010096\n",
      "Train Epoch: 214 [3200/19577 (16%)]\tLoss: 0.012419\n",
      "Train Epoch: 214 [6400/19577 (33%)]\tLoss: 0.005952\n",
      "Train Epoch: 214 [9600/19577 (49%)]\tLoss: 0.003089\n",
      "Train Epoch: 214 [12800/19577 (65%)]\tLoss: 0.006425\n",
      "Train Epoch: 214 [16000/19577 (82%)]\tLoss: 0.004872\n",
      "Train Epoch: 214 [19200/19577 (98%)]\tLoss: 0.041231\n",
      "\n",
      "Train loss: 0.008004300689303433\n"
     ]
    },
    {
     "name": "stderr",
     "output_type": "stream",
     "text": [
      "\r",
      " 43%|████▎     | 214/500 [29:12<37:37,  7.89s/it]"
     ]
    },
    {
     "name": "stdout",
     "output_type": "stream",
     "text": [
      "Test on 1143 samples\n",
      "R^2: -0.24\n",
      "Test Loss: 1.83%\n",
      "Train Epoch: 215 [0/19577 (0%)]\tLoss: 0.019023\n",
      "Train Epoch: 215 [3200/19577 (16%)]\tLoss: 0.005892\n",
      "Train Epoch: 215 [6400/19577 (33%)]\tLoss: 0.005224\n",
      "Train Epoch: 215 [9600/19577 (49%)]\tLoss: 0.006204\n",
      "Train Epoch: 215 [12800/19577 (65%)]\tLoss: 0.005654\n",
      "Train Epoch: 215 [16000/19577 (82%)]\tLoss: 0.002945\n",
      "Train Epoch: 215 [19200/19577 (98%)]\tLoss: 0.021439\n",
      "\n",
      "Train loss: 0.007963958417378927\n"
     ]
    },
    {
     "name": "stderr",
     "output_type": "stream",
     "text": [
      "\r",
      " 43%|████▎     | 215/500 [29:19<36:47,  7.74s/it]"
     ]
    },
    {
     "name": "stdout",
     "output_type": "stream",
     "text": [
      "Test on 1143 samples\n",
      "R^2: -2.11\n",
      "Test Loss: 1.88%\n",
      "Train Epoch: 216 [0/19577 (0%)]\tLoss: 0.009496\n",
      "Train Epoch: 216 [3200/19577 (16%)]\tLoss: 0.003167\n",
      "Train Epoch: 216 [6400/19577 (33%)]\tLoss: 0.009768\n",
      "Train Epoch: 216 [9600/19577 (49%)]\tLoss: 0.004346\n",
      "Train Epoch: 216 [12800/19577 (65%)]\tLoss: 0.008430\n",
      "Train Epoch: 216 [16000/19577 (82%)]\tLoss: 0.004578\n",
      "Train Epoch: 216 [19200/19577 (98%)]\tLoss: 0.004188\n",
      "\n",
      "Train loss: 0.007970280486107286\n"
     ]
    },
    {
     "name": "stderr",
     "output_type": "stream",
     "text": [
      "\r",
      " 43%|████▎     | 216/500 [29:27<36:33,  7.72s/it]"
     ]
    },
    {
     "name": "stdout",
     "output_type": "stream",
     "text": [
      "Test on 1143 samples\n",
      "R^2: -0.32\n",
      "Test Loss: 1.83%\n",
      "Train Epoch: 217 [0/19577 (0%)]\tLoss: 0.006297\n",
      "Train Epoch: 217 [3200/19577 (16%)]\tLoss: 0.008692\n",
      "Train Epoch: 217 [6400/19577 (33%)]\tLoss: 0.008485\n",
      "Train Epoch: 217 [9600/19577 (49%)]\tLoss: 0.003998\n",
      "Train Epoch: 217 [12800/19577 (65%)]\tLoss: 0.003038\n",
      "Train Epoch: 217 [16000/19577 (82%)]\tLoss: 0.009867\n",
      "Train Epoch: 217 [19200/19577 (98%)]\tLoss: 0.006082\n",
      "\n",
      "Train loss: 0.007971547629221592\n"
     ]
    },
    {
     "name": "stderr",
     "output_type": "stream",
     "text": [
      "\r",
      " 43%|████▎     | 217/500 [29:37<40:54,  8.67s/it]"
     ]
    },
    {
     "name": "stdout",
     "output_type": "stream",
     "text": [
      "Test on 1143 samples\n",
      "R^2: -0.11\n",
      "Test Loss: 1.84%\n",
      "Train Epoch: 218 [0/19577 (0%)]\tLoss: 0.007251\n",
      "Train Epoch: 218 [3200/19577 (16%)]\tLoss: 0.006491\n",
      "Train Epoch: 218 [6400/19577 (33%)]\tLoss: 0.009483\n",
      "Train Epoch: 218 [9600/19577 (49%)]\tLoss: 0.007781\n",
      "Train Epoch: 218 [12800/19577 (65%)]\tLoss: 0.005351\n",
      "Train Epoch: 218 [16000/19577 (82%)]\tLoss: 0.006526\n",
      "Train Epoch: 218 [19200/19577 (98%)]\tLoss: 0.003839\n",
      "\n",
      "Train loss: 0.007931057837779566\n"
     ]
    },
    {
     "name": "stderr",
     "output_type": "stream",
     "text": [
      "\r",
      " 44%|████▎     | 218/500 [29:48<42:56,  9.14s/it]"
     ]
    },
    {
     "name": "stdout",
     "output_type": "stream",
     "text": [
      "Test on 1143 samples\n",
      "R^2: -0.15\n",
      "Test Loss: 1.83%\n",
      "Train Epoch: 219 [0/19577 (0%)]\tLoss: 0.006035\n",
      "Train Epoch: 219 [3200/19577 (16%)]\tLoss: 0.014262\n",
      "Train Epoch: 219 [6400/19577 (33%)]\tLoss: 0.002833\n",
      "Train Epoch: 219 [9600/19577 (49%)]\tLoss: 0.005261\n",
      "Train Epoch: 219 [12800/19577 (65%)]\tLoss: 0.009662\n",
      "Train Epoch: 219 [16000/19577 (82%)]\tLoss: 0.004995\n",
      "Train Epoch: 219 [19200/19577 (98%)]\tLoss: 0.004686\n",
      "\n",
      "Train loss: 0.00795557679307154\n"
     ]
    },
    {
     "name": "stderr",
     "output_type": "stream",
     "text": [
      "\r",
      " 44%|████▍     | 219/500 [29:55<40:30,  8.65s/it]"
     ]
    },
    {
     "name": "stdout",
     "output_type": "stream",
     "text": [
      "Test on 1143 samples\n",
      "R^2: -0.21\n",
      "Test Loss: 1.83%\n",
      "Train Epoch: 220 [0/19577 (0%)]\tLoss: 0.005956\n",
      "Train Epoch: 220 [3200/19577 (16%)]\tLoss: 0.004426\n",
      "Train Epoch: 220 [6400/19577 (33%)]\tLoss: 0.002084\n",
      "Train Epoch: 220 [9600/19577 (49%)]\tLoss: 0.002717\n",
      "Train Epoch: 220 [12800/19577 (65%)]\tLoss: 0.016344\n",
      "Train Epoch: 220 [16000/19577 (82%)]\tLoss: 0.006903\n",
      "Train Epoch: 220 [19200/19577 (98%)]\tLoss: 0.011687\n",
      "\n",
      "Train loss: 0.007949914026920215\n"
     ]
    },
    {
     "name": "stderr",
     "output_type": "stream",
     "text": [
      "\r",
      " 44%|████▍     | 220/500 [30:04<39:54,  8.55s/it]"
     ]
    },
    {
     "name": "stdout",
     "output_type": "stream",
     "text": [
      "Test on 1143 samples\n",
      "R^2: -0.92\n",
      "Test Loss: 1.83%\n",
      "Train Epoch: 221 [0/19577 (0%)]\tLoss: 0.005871\n",
      "Train Epoch: 221 [3200/19577 (16%)]\tLoss: 0.009167\n",
      "Train Epoch: 221 [6400/19577 (33%)]\tLoss: 0.013165\n",
      "Train Epoch: 221 [9600/19577 (49%)]\tLoss: 0.006285\n",
      "Train Epoch: 221 [12800/19577 (65%)]\tLoss: 0.008851\n",
      "Train Epoch: 221 [16000/19577 (82%)]\tLoss: 0.004445\n",
      "Train Epoch: 221 [19200/19577 (98%)]\tLoss: 0.005400\n",
      "\n",
      "Train loss: 0.007929175043649046\n"
     ]
    },
    {
     "name": "stderr",
     "output_type": "stream",
     "text": [
      "\r",
      " 44%|████▍     | 221/500 [30:11<37:56,  8.16s/it]"
     ]
    },
    {
     "name": "stdout",
     "output_type": "stream",
     "text": [
      "Test on 1143 samples\n",
      "R^2: -1.24\n",
      "Test Loss: 1.86%\n",
      "Train Epoch: 222 [0/19577 (0%)]\tLoss: 0.004198\n",
      "Train Epoch: 222 [3200/19577 (16%)]\tLoss: 0.005504\n",
      "Train Epoch: 222 [6400/19577 (33%)]\tLoss: 0.007669\n",
      "Train Epoch: 222 [9600/19577 (49%)]\tLoss: 0.005487\n",
      "Train Epoch: 222 [12800/19577 (65%)]\tLoss: 0.015595\n",
      "Train Epoch: 222 [16000/19577 (82%)]\tLoss: 0.005181\n",
      "Train Epoch: 222 [19200/19577 (98%)]\tLoss: 0.006274\n",
      "\n",
      "Train loss: 0.007938257347430207\n"
     ]
    },
    {
     "name": "stderr",
     "output_type": "stream",
     "text": [
      "\r",
      " 44%|████▍     | 222/500 [30:18<37:02,  7.99s/it]"
     ]
    },
    {
     "name": "stdout",
     "output_type": "stream",
     "text": [
      "Test on 1143 samples\n",
      "R^2: -0.06\n",
      "Test Loss: 1.83%\n",
      "Train Epoch: 223 [0/19577 (0%)]\tLoss: 0.006184\n",
      "Train Epoch: 223 [3200/19577 (16%)]\tLoss: 0.014573\n",
      "Train Epoch: 223 [6400/19577 (33%)]\tLoss: 0.007867\n",
      "Train Epoch: 223 [9600/19577 (49%)]\tLoss: 0.005028\n",
      "Train Epoch: 223 [12800/19577 (65%)]\tLoss: 0.005937\n",
      "Train Epoch: 223 [16000/19577 (82%)]\tLoss: 0.010257\n",
      "Train Epoch: 223 [19200/19577 (98%)]\tLoss: 0.007955\n",
      "\n",
      "Train loss: 0.007909774387276615\n"
     ]
    },
    {
     "name": "stderr",
     "output_type": "stream",
     "text": [
      "\r",
      " 45%|████▍     | 223/500 [30:26<35:56,  7.79s/it]"
     ]
    },
    {
     "name": "stdout",
     "output_type": "stream",
     "text": [
      "Test on 1143 samples\n",
      "R^2: -1.21\n",
      "Test Loss: 1.82%\n",
      "Train Epoch: 224 [0/19577 (0%)]\tLoss: 0.003185\n",
      "Train Epoch: 224 [3200/19577 (16%)]\tLoss: 0.003551\n",
      "Train Epoch: 224 [6400/19577 (33%)]\tLoss: 0.006001\n",
      "Train Epoch: 224 [9600/19577 (49%)]\tLoss: 0.005825\n",
      "Train Epoch: 224 [12800/19577 (65%)]\tLoss: 0.011423\n",
      "Train Epoch: 224 [16000/19577 (82%)]\tLoss: 0.012051\n",
      "Train Epoch: 224 [19200/19577 (98%)]\tLoss: 0.006157\n",
      "\n",
      "Train loss: 0.007925212883171351\n"
     ]
    },
    {
     "name": "stderr",
     "output_type": "stream",
     "text": [
      "\r",
      " 45%|████▍     | 224/500 [30:34<35:56,  7.81s/it]"
     ]
    },
    {
     "name": "stdout",
     "output_type": "stream",
     "text": [
      "Test on 1143 samples\n",
      "R^2: -2.13\n",
      "Test Loss: 1.83%\n",
      "Train Epoch: 225 [0/19577 (0%)]\tLoss: 0.005997\n",
      "Train Epoch: 225 [3200/19577 (16%)]\tLoss: 0.005127\n",
      "Train Epoch: 225 [6400/19577 (33%)]\tLoss: 0.333085\n",
      "Train Epoch: 225 [9600/19577 (49%)]\tLoss: 0.004823\n",
      "Train Epoch: 225 [12800/19577 (65%)]\tLoss: 0.003255\n",
      "Train Epoch: 225 [16000/19577 (82%)]\tLoss: 0.004291\n",
      "Train Epoch: 225 [19200/19577 (98%)]\tLoss: 0.005001\n",
      "\n",
      "Train loss: 0.007922950790802418\n"
     ]
    },
    {
     "name": "stderr",
     "output_type": "stream",
     "text": [
      "\r",
      " 45%|████▌     | 225/500 [30:41<35:27,  7.74s/it]"
     ]
    },
    {
     "name": "stdout",
     "output_type": "stream",
     "text": [
      "Test on 1143 samples\n",
      "R^2: -1.23\n",
      "Test Loss: 1.82%\n",
      "Train Epoch: 226 [0/19577 (0%)]\tLoss: 0.003681\n",
      "Train Epoch: 226 [3200/19577 (16%)]\tLoss: 0.003722\n",
      "Train Epoch: 226 [6400/19577 (33%)]\tLoss: 0.010435\n",
      "Train Epoch: 226 [9600/19577 (49%)]\tLoss: 0.002520\n",
      "Train Epoch: 226 [12800/19577 (65%)]\tLoss: 0.006228\n",
      "Train Epoch: 226 [16000/19577 (82%)]\tLoss: 0.009737\n",
      "Train Epoch: 226 [19200/19577 (98%)]\tLoss: 0.007473\n",
      "\n",
      "Train loss: 0.007921798149385532\n"
     ]
    },
    {
     "name": "stderr",
     "output_type": "stream",
     "text": [
      "\r",
      " 45%|████▌     | 226/500 [30:50<37:23,  8.19s/it]"
     ]
    },
    {
     "name": "stdout",
     "output_type": "stream",
     "text": [
      "Test on 1143 samples\n",
      "R^2: -0.15\n",
      "Test Loss: 1.82%\n",
      "Train Epoch: 227 [0/19577 (0%)]\tLoss: 0.003998\n",
      "Train Epoch: 227 [3200/19577 (16%)]\tLoss: 0.007427\n",
      "Train Epoch: 227 [6400/19577 (33%)]\tLoss: 0.006085\n",
      "Train Epoch: 227 [9600/19577 (49%)]\tLoss: 0.004488\n",
      "Train Epoch: 227 [12800/19577 (65%)]\tLoss: 0.002257\n",
      "Train Epoch: 227 [16000/19577 (82%)]\tLoss: 0.004663\n",
      "Train Epoch: 227 [19200/19577 (98%)]\tLoss: 0.009970\n",
      "\n",
      "Train loss: 0.007895615977901673\n"
     ]
    },
    {
     "name": "stderr",
     "output_type": "stream",
     "text": [
      "\r",
      " 45%|████▌     | 227/500 [30:59<37:39,  8.28s/it]"
     ]
    },
    {
     "name": "stdout",
     "output_type": "stream",
     "text": [
      "Test on 1143 samples\n",
      "R^2: -0.30\n",
      "Test Loss: 1.82%\n",
      "Train Epoch: 228 [0/19577 (0%)]\tLoss: 0.003972\n",
      "Train Epoch: 228 [3200/19577 (16%)]\tLoss: 0.004522\n",
      "Train Epoch: 228 [6400/19577 (33%)]\tLoss: 0.005868\n",
      "Train Epoch: 228 [9600/19577 (49%)]\tLoss: 0.004031\n",
      "Train Epoch: 228 [12800/19577 (65%)]\tLoss: 0.004703\n",
      "Train Epoch: 228 [16000/19577 (82%)]\tLoss: 0.004114\n",
      "Train Epoch: 228 [19200/19577 (98%)]\tLoss: 0.009582\n",
      "\n",
      "Train loss: 0.00791546614654971\n"
     ]
    },
    {
     "name": "stderr",
     "output_type": "stream",
     "text": [
      "\r",
      " 46%|████▌     | 228/500 [31:07<36:41,  8.09s/it]"
     ]
    },
    {
     "name": "stdout",
     "output_type": "stream",
     "text": [
      "Test on 1143 samples\n",
      "R^2: -0.54\n",
      "Test Loss: 1.83%\n",
      "Train Epoch: 229 [0/19577 (0%)]\tLoss: 0.009383\n",
      "Train Epoch: 229 [3200/19577 (16%)]\tLoss: 0.005565\n",
      "Train Epoch: 229 [6400/19577 (33%)]\tLoss: 0.007804\n",
      "Train Epoch: 229 [9600/19577 (49%)]\tLoss: 0.011798\n",
      "Train Epoch: 229 [12800/19577 (65%)]\tLoss: 0.004540\n",
      "Train Epoch: 229 [16000/19577 (82%)]\tLoss: 0.005844\n",
      "Train Epoch: 229 [19200/19577 (98%)]\tLoss: 0.016319\n",
      "\n",
      "Train loss: 0.007895884378752336\n"
     ]
    },
    {
     "name": "stderr",
     "output_type": "stream",
     "text": [
      "\r",
      " 46%|████▌     | 229/500 [31:16<38:16,  8.47s/it]"
     ]
    },
    {
     "name": "stdout",
     "output_type": "stream",
     "text": [
      "Test on 1143 samples\n",
      "R^2: -0.52\n",
      "Test Loss: 1.83%\n",
      "Train Epoch: 230 [0/19577 (0%)]\tLoss: 0.003893\n",
      "Train Epoch: 230 [3200/19577 (16%)]\tLoss: 0.004635\n",
      "Train Epoch: 230 [6400/19577 (33%)]\tLoss: 0.003277\n",
      "Train Epoch: 230 [9600/19577 (49%)]\tLoss: 0.017825\n",
      "Train Epoch: 230 [12800/19577 (65%)]\tLoss: 0.005779\n",
      "Train Epoch: 230 [16000/19577 (82%)]\tLoss: 0.006813\n",
      "Train Epoch: 230 [19200/19577 (98%)]\tLoss: 0.008717\n",
      "\n",
      "Train loss: 0.007866034333311095\n"
     ]
    },
    {
     "name": "stderr",
     "output_type": "stream",
     "text": [
      "\r",
      " 46%|████▌     | 230/500 [31:25<39:18,  8.73s/it]"
     ]
    },
    {
     "name": "stdout",
     "output_type": "stream",
     "text": [
      "Test on 1143 samples\n",
      "R^2: -0.14\n",
      "Test Loss: 1.81%\n",
      "Train Epoch: 231 [0/19577 (0%)]\tLoss: 0.009634\n",
      "Train Epoch: 231 [3200/19577 (16%)]\tLoss: 0.007333\n",
      "Train Epoch: 231 [6400/19577 (33%)]\tLoss: 0.005844\n",
      "Train Epoch: 231 [9600/19577 (49%)]\tLoss: 0.007066\n",
      "Train Epoch: 231 [12800/19577 (65%)]\tLoss: 0.005054\n",
      "Train Epoch: 231 [16000/19577 (82%)]\tLoss: 0.007765\n",
      "Train Epoch: 231 [19200/19577 (98%)]\tLoss: 0.005526\n",
      "\n",
      "Train loss: 0.00787044262126989\n"
     ]
    },
    {
     "name": "stderr",
     "output_type": "stream",
     "text": [
      "\r",
      " 46%|████▌     | 231/500 [31:34<38:59,  8.70s/it]"
     ]
    },
    {
     "name": "stdout",
     "output_type": "stream",
     "text": [
      "Test on 1143 samples\n",
      "R^2: -0.27\n",
      "Test Loss: 1.81%\n",
      "Train Epoch: 232 [0/19577 (0%)]\tLoss: 0.003631\n",
      "Train Epoch: 232 [3200/19577 (16%)]\tLoss: 0.005212\n",
      "Train Epoch: 232 [6400/19577 (33%)]\tLoss: 0.004815\n",
      "Train Epoch: 232 [9600/19577 (49%)]\tLoss: 0.010642\n",
      "Train Epoch: 232 [12800/19577 (65%)]\tLoss: 0.006320\n",
      "Train Epoch: 232 [16000/19577 (82%)]\tLoss: 0.004666\n",
      "Train Epoch: 232 [19200/19577 (98%)]\tLoss: 0.006228\n",
      "\n",
      "Train loss: 0.007880270695298593\n"
     ]
    },
    {
     "name": "stderr",
     "output_type": "stream",
     "text": [
      "\r",
      " 46%|████▋     | 232/500 [31:41<37:12,  8.33s/it]"
     ]
    },
    {
     "name": "stdout",
     "output_type": "stream",
     "text": [
      "Test on 1143 samples\n",
      "R^2: -0.82\n",
      "Test Loss: 1.81%\n",
      "Train Epoch: 233 [0/19577 (0%)]\tLoss: 0.004950\n",
      "Train Epoch: 233 [3200/19577 (16%)]\tLoss: 0.010068\n",
      "Train Epoch: 233 [6400/19577 (33%)]\tLoss: 0.006064\n",
      "Train Epoch: 233 [9600/19577 (49%)]\tLoss: 0.003700\n",
      "Train Epoch: 233 [12800/19577 (65%)]\tLoss: 0.006004\n",
      "Train Epoch: 233 [16000/19577 (82%)]\tLoss: 0.007893\n",
      "Train Epoch: 233 [19200/19577 (98%)]\tLoss: 0.004455\n",
      "\n",
      "Train loss: 0.007868778297610679\n"
     ]
    },
    {
     "name": "stderr",
     "output_type": "stream",
     "text": [
      "\r",
      " 47%|████▋     | 233/500 [31:49<35:45,  8.04s/it]"
     ]
    },
    {
     "name": "stdout",
     "output_type": "stream",
     "text": [
      "Test on 1143 samples\n",
      "R^2: -1.11\n",
      "Test Loss: 1.81%\n",
      "Train Epoch: 234 [0/19577 (0%)]\tLoss: 0.007914\n",
      "Train Epoch: 234 [3200/19577 (16%)]\tLoss: 0.003536\n",
      "Train Epoch: 234 [6400/19577 (33%)]\tLoss: 0.008346\n",
      "Train Epoch: 234 [9600/19577 (49%)]\tLoss: 0.008343\n",
      "Train Epoch: 234 [12800/19577 (65%)]\tLoss: 0.007018\n",
      "Train Epoch: 234 [16000/19577 (82%)]\tLoss: 0.008994\n",
      "Train Epoch: 234 [19200/19577 (98%)]\tLoss: 0.004698\n",
      "\n",
      "Train loss: 0.00786915412279199\n"
     ]
    },
    {
     "name": "stderr",
     "output_type": "stream",
     "text": [
      "\r",
      " 47%|████▋     | 234/500 [31:57<36:06,  8.14s/it]"
     ]
    },
    {
     "name": "stdout",
     "output_type": "stream",
     "text": [
      "Test on 1143 samples\n",
      "R^2: -0.10\n",
      "Test Loss: 1.81%\n",
      "Train Epoch: 235 [0/19577 (0%)]\tLoss: 0.003503\n",
      "Train Epoch: 235 [3200/19577 (16%)]\tLoss: 0.007268\n",
      "Train Epoch: 235 [6400/19577 (33%)]\tLoss: 0.005583\n",
      "Train Epoch: 235 [9600/19577 (49%)]\tLoss: 0.005726\n",
      "Train Epoch: 235 [12800/19577 (65%)]\tLoss: 0.009733\n",
      "Train Epoch: 235 [16000/19577 (82%)]\tLoss: 0.006879\n",
      "Train Epoch: 235 [19200/19577 (98%)]\tLoss: 0.006595\n",
      "\n",
      "Train loss: 0.00786879029751944\n"
     ]
    },
    {
     "name": "stderr",
     "output_type": "stream",
     "text": [
      "\r",
      " 47%|████▋     | 235/500 [32:05<35:38,  8.07s/it]"
     ]
    },
    {
     "name": "stdout",
     "output_type": "stream",
     "text": [
      "Test on 1143 samples\n",
      "R^2: -0.20\n",
      "Test Loss: 1.82%\n",
      "Train Epoch: 236 [0/19577 (0%)]\tLoss: 0.007807\n",
      "Train Epoch: 236 [3200/19577 (16%)]\tLoss: 0.003770\n",
      "Train Epoch: 236 [6400/19577 (33%)]\tLoss: 0.009252\n",
      "Train Epoch: 236 [9600/19577 (49%)]\tLoss: 0.003050\n",
      "Train Epoch: 236 [12800/19577 (65%)]\tLoss: 0.018548\n",
      "Train Epoch: 236 [16000/19577 (82%)]\tLoss: 0.006022\n",
      "Train Epoch: 236 [19200/19577 (98%)]\tLoss: 0.009521\n",
      "\n",
      "Train loss: 0.007856192041395439\n"
     ]
    },
    {
     "name": "stderr",
     "output_type": "stream",
     "text": [
      "\r",
      " 47%|████▋     | 236/500 [32:12<34:23,  7.82s/it]"
     ]
    },
    {
     "name": "stdout",
     "output_type": "stream",
     "text": [
      "Test on 1143 samples\n",
      "R^2: -0.54\n",
      "Test Loss: 1.80%\n",
      "Train Epoch: 237 [0/19577 (0%)]\tLoss: 0.002928\n",
      "Train Epoch: 237 [3200/19577 (16%)]\tLoss: 0.003466\n",
      "Train Epoch: 237 [6400/19577 (33%)]\tLoss: 0.009641\n",
      "Train Epoch: 237 [9600/19577 (49%)]\tLoss: 0.011583\n",
      "Train Epoch: 237 [12800/19577 (65%)]\tLoss: 0.003042\n",
      "Train Epoch: 237 [16000/19577 (82%)]\tLoss: 0.006263\n",
      "Train Epoch: 237 [19200/19577 (98%)]\tLoss: 0.005448\n",
      "\n",
      "Train loss: 0.00784595126477892\n"
     ]
    },
    {
     "name": "stderr",
     "output_type": "stream",
     "text": [
      "\r",
      " 47%|████▋     | 237/500 [32:20<33:38,  7.68s/it]"
     ]
    },
    {
     "name": "stdout",
     "output_type": "stream",
     "text": [
      "Test on 1143 samples\n",
      "R^2: -0.31\n",
      "Test Loss: 1.80%\n",
      "Train Epoch: 238 [0/19577 (0%)]\tLoss: 0.009619\n",
      "Train Epoch: 238 [3200/19577 (16%)]\tLoss: 0.010671\n",
      "Train Epoch: 238 [6400/19577 (33%)]\tLoss: 0.008931\n",
      "Train Epoch: 238 [9600/19577 (49%)]\tLoss: 0.004498\n",
      "Train Epoch: 238 [12800/19577 (65%)]\tLoss: 0.009656\n",
      "Train Epoch: 238 [16000/19577 (82%)]\tLoss: 0.003946\n",
      "Train Epoch: 238 [19200/19577 (98%)]\tLoss: 0.007631\n",
      "\n",
      "Train loss: 0.007852961504421033\n"
     ]
    },
    {
     "name": "stderr",
     "output_type": "stream",
     "text": [
      "\r",
      " 48%|████▊     | 238/500 [32:27<32:42,  7.49s/it]"
     ]
    },
    {
     "name": "stdout",
     "output_type": "stream",
     "text": [
      "Test on 1143 samples\n",
      "R^2: -0.11\n",
      "Test Loss: 1.81%\n",
      "Train Epoch: 239 [0/19577 (0%)]\tLoss: 0.006370\n",
      "Train Epoch: 239 [3200/19577 (16%)]\tLoss: 0.012353\n",
      "Train Epoch: 239 [6400/19577 (33%)]\tLoss: 0.009249\n",
      "Train Epoch: 239 [9600/19577 (49%)]\tLoss: 0.008060\n",
      "Train Epoch: 239 [12800/19577 (65%)]\tLoss: 0.004321\n",
      "Train Epoch: 239 [16000/19577 (82%)]\tLoss: 0.006405\n",
      "Train Epoch: 239 [19200/19577 (98%)]\tLoss: 0.004923\n",
      "\n",
      "Train loss: 0.007830220962466758\n"
     ]
    },
    {
     "name": "stderr",
     "output_type": "stream",
     "text": [
      "\r",
      " 48%|████▊     | 239/500 [32:34<32:18,  7.43s/it]"
     ]
    },
    {
     "name": "stdout",
     "output_type": "stream",
     "text": [
      "Test on 1143 samples\n",
      "R^2: -1.09\n",
      "Test Loss: 1.80%\n",
      "Train Epoch: 240 [0/19577 (0%)]\tLoss: 0.006070\n",
      "Train Epoch: 240 [3200/19577 (16%)]\tLoss: 0.004263\n",
      "Train Epoch: 240 [6400/19577 (33%)]\tLoss: 0.004023\n",
      "Train Epoch: 240 [9600/19577 (49%)]\tLoss: 0.007224\n",
      "Train Epoch: 240 [12800/19577 (65%)]\tLoss: 0.004984\n",
      "Train Epoch: 240 [16000/19577 (82%)]\tLoss: 0.008007\n",
      "Train Epoch: 240 [19200/19577 (98%)]\tLoss: 0.006165\n",
      "\n",
      "Train loss: 0.00783703343187964\n"
     ]
    },
    {
     "name": "stderr",
     "output_type": "stream",
     "text": [
      "\r",
      " 48%|████▊     | 240/500 [32:41<32:08,  7.42s/it]"
     ]
    },
    {
     "name": "stdout",
     "output_type": "stream",
     "text": [
      "Test on 1143 samples\n",
      "R^2: -0.14\n",
      "Test Loss: 1.80%\n",
      "Train Epoch: 241 [0/19577 (0%)]\tLoss: 0.004593\n",
      "Train Epoch: 241 [3200/19577 (16%)]\tLoss: 0.006893\n",
      "Train Epoch: 241 [6400/19577 (33%)]\tLoss: 0.004330\n",
      "Train Epoch: 241 [9600/19577 (49%)]\tLoss: 0.005499\n",
      "Train Epoch: 241 [12800/19577 (65%)]\tLoss: 0.003407\n",
      "Train Epoch: 241 [16000/19577 (82%)]\tLoss: 0.003427\n",
      "Train Epoch: 241 [19200/19577 (98%)]\tLoss: 0.004342\n",
      "\n",
      "Train loss: 0.00784011228882032\n"
     ]
    },
    {
     "name": "stderr",
     "output_type": "stream",
     "text": [
      "\r",
      " 48%|████▊     | 241/500 [32:49<32:48,  7.60s/it]"
     ]
    },
    {
     "name": "stdout",
     "output_type": "stream",
     "text": [
      "Test on 1143 samples\n",
      "R^2: -0.31\n",
      "Test Loss: 1.80%\n",
      "Train Epoch: 242 [0/19577 (0%)]\tLoss: 0.005885\n",
      "Train Epoch: 242 [3200/19577 (16%)]\tLoss: 0.005750\n",
      "Train Epoch: 242 [6400/19577 (33%)]\tLoss: 0.014315\n",
      "Train Epoch: 242 [9600/19577 (49%)]\tLoss: 0.004695\n",
      "Train Epoch: 242 [12800/19577 (65%)]\tLoss: 0.004623\n",
      "Train Epoch: 242 [16000/19577 (82%)]\tLoss: 0.004943\n",
      "Train Epoch: 242 [19200/19577 (98%)]\tLoss: 0.005427\n",
      "\n",
      "Train loss: 0.007821044801305249\n"
     ]
    },
    {
     "name": "stderr",
     "output_type": "stream",
     "text": [
      "\r",
      " 48%|████▊     | 242/500 [32:57<33:28,  7.79s/it]"
     ]
    },
    {
     "name": "stdout",
     "output_type": "stream",
     "text": [
      "Test on 1143 samples\n",
      "R^2: -0.93\n",
      "Test Loss: 1.80%\n",
      "Train Epoch: 243 [0/19577 (0%)]\tLoss: 0.003573\n",
      "Train Epoch: 243 [3200/19577 (16%)]\tLoss: 0.009506\n",
      "Train Epoch: 243 [6400/19577 (33%)]\tLoss: 0.012793\n",
      "Train Epoch: 243 [9600/19577 (49%)]\tLoss: 0.004509\n",
      "Train Epoch: 243 [12800/19577 (65%)]\tLoss: 0.004870\n",
      "Train Epoch: 243 [16000/19577 (82%)]\tLoss: 0.004797\n",
      "Train Epoch: 243 [19200/19577 (98%)]\tLoss: 0.003707\n",
      "\n",
      "Train loss: 0.007825382368858247\n"
     ]
    },
    {
     "name": "stderr",
     "output_type": "stream",
     "text": [
      "\r",
      " 49%|████▊     | 243/500 [33:08<36:12,  8.45s/it]"
     ]
    },
    {
     "name": "stdout",
     "output_type": "stream",
     "text": [
      "Test on 1143 samples\n",
      "R^2: -2.82\n",
      "Test Loss: 1.81%\n",
      "Train Epoch: 244 [0/19577 (0%)]\tLoss: 0.008705\n",
      "Train Epoch: 244 [3200/19577 (16%)]\tLoss: 0.076808\n",
      "Train Epoch: 244 [6400/19577 (33%)]\tLoss: 0.003678\n",
      "Train Epoch: 244 [9600/19577 (49%)]\tLoss: 0.002561\n",
      "Train Epoch: 244 [12800/19577 (65%)]\tLoss: 0.006686\n",
      "Train Epoch: 244 [16000/19577 (82%)]\tLoss: 0.003953\n",
      "Train Epoch: 244 [19200/19577 (98%)]\tLoss: 0.006099\n",
      "\n",
      "Train loss: 0.007806328913954762\n"
     ]
    },
    {
     "name": "stderr",
     "output_type": "stream",
     "text": [
      "\r",
      " 49%|████▉     | 244/500 [33:15<35:16,  8.27s/it]"
     ]
    },
    {
     "name": "stdout",
     "output_type": "stream",
     "text": [
      "Test on 1143 samples\n",
      "R^2: -5.18\n",
      "Test Loss: 1.84%\n",
      "Train Epoch: 245 [0/19577 (0%)]\tLoss: 0.006339\n",
      "Train Epoch: 245 [3200/19577 (16%)]\tLoss: 0.007867\n",
      "Train Epoch: 245 [6400/19577 (33%)]\tLoss: 0.003658\n",
      "Train Epoch: 245 [9600/19577 (49%)]\tLoss: 0.002763\n",
      "Train Epoch: 245 [12800/19577 (65%)]\tLoss: 0.010887\n",
      "Train Epoch: 245 [16000/19577 (82%)]\tLoss: 0.003599\n",
      "Train Epoch: 245 [19200/19577 (98%)]\tLoss: 0.002432\n",
      "\n",
      "Train loss: 0.00783760795747143\n"
     ]
    },
    {
     "name": "stderr",
     "output_type": "stream",
     "text": [
      "\r",
      " 49%|████▉     | 245/500 [33:23<34:07,  8.03s/it]"
     ]
    },
    {
     "name": "stdout",
     "output_type": "stream",
     "text": [
      "Test on 1143 samples\n",
      "R^2: -0.19\n",
      "Test Loss: 1.80%\n",
      "Train Epoch: 246 [0/19577 (0%)]\tLoss: 0.004088\n",
      "Train Epoch: 246 [3200/19577 (16%)]\tLoss: 0.008388\n",
      "Train Epoch: 246 [6400/19577 (33%)]\tLoss: 0.004415\n",
      "Train Epoch: 246 [9600/19577 (49%)]\tLoss: 0.007439\n",
      "Train Epoch: 246 [12800/19577 (65%)]\tLoss: 0.004446\n",
      "Train Epoch: 246 [16000/19577 (82%)]\tLoss: 0.006733\n",
      "Train Epoch: 246 [19200/19577 (98%)]\tLoss: 0.003324\n",
      "\n",
      "Train loss: 0.007803154170354889\n"
     ]
    },
    {
     "name": "stderr",
     "output_type": "stream",
     "text": [
      "\r",
      " 49%|████▉     | 246/500 [33:31<34:24,  8.13s/it]"
     ]
    },
    {
     "name": "stdout",
     "output_type": "stream",
     "text": [
      "Test on 1143 samples\n",
      "R^2: -2.46\n",
      "Test Loss: 1.80%\n",
      "Train Epoch: 247 [0/19577 (0%)]\tLoss: 0.005535\n",
      "Train Epoch: 247 [3200/19577 (16%)]\tLoss: 0.003628\n",
      "Train Epoch: 247 [6400/19577 (33%)]\tLoss: 0.011902\n",
      "Train Epoch: 247 [9600/19577 (49%)]\tLoss: 0.007802\n",
      "Train Epoch: 247 [12800/19577 (65%)]\tLoss: 0.004622\n",
      "Train Epoch: 247 [16000/19577 (82%)]\tLoss: 0.008465\n",
      "Train Epoch: 247 [19200/19577 (98%)]\tLoss: 0.008527\n",
      "\n",
      "Train loss: 0.007818191603672222\n"
     ]
    },
    {
     "name": "stderr",
     "output_type": "stream",
     "text": [
      "\r",
      " 49%|████▉     | 247/500 [33:40<34:52,  8.27s/it]"
     ]
    },
    {
     "name": "stdout",
     "output_type": "stream",
     "text": [
      "Test on 1143 samples\n",
      "R^2: -1.01\n",
      "Test Loss: 1.81%\n",
      "Train Epoch: 248 [0/19577 (0%)]\tLoss: 0.005228\n",
      "Train Epoch: 248 [3200/19577 (16%)]\tLoss: 0.005840\n",
      "Train Epoch: 248 [6400/19577 (33%)]\tLoss: 0.004272\n",
      "Train Epoch: 248 [9600/19577 (49%)]\tLoss: 0.004768\n",
      "Train Epoch: 248 [12800/19577 (65%)]\tLoss: 0.003974\n",
      "Train Epoch: 248 [16000/19577 (82%)]\tLoss: 0.003449\n",
      "Train Epoch: 248 [19200/19577 (98%)]\tLoss: 0.010041\n",
      "\n",
      "Train loss: 0.007812801286276868\n"
     ]
    },
    {
     "name": "stderr",
     "output_type": "stream",
     "text": [
      "\r",
      " 50%|████▉     | 248/500 [33:47<33:56,  8.08s/it]"
     ]
    },
    {
     "name": "stdout",
     "output_type": "stream",
     "text": [
      "Test on 1143 samples\n",
      "R^2: -0.13\n",
      "Test Loss: 1.79%\n",
      "Train Epoch: 249 [0/19577 (0%)]\tLoss: 0.003904\n",
      "Train Epoch: 249 [3200/19577 (16%)]\tLoss: 0.008871\n",
      "Train Epoch: 249 [6400/19577 (33%)]\tLoss: 0.003459\n",
      "Train Epoch: 249 [9600/19577 (49%)]\tLoss: 0.006293\n",
      "Train Epoch: 249 [12800/19577 (65%)]\tLoss: 0.005102\n",
      "Train Epoch: 249 [16000/19577 (82%)]\tLoss: 0.013176\n",
      "Train Epoch: 249 [19200/19577 (98%)]\tLoss: 0.004508\n",
      "\n",
      "Train loss: 0.007786140876085638\n"
     ]
    },
    {
     "name": "stderr",
     "output_type": "stream",
     "text": [
      "\r",
      " 50%|████▉     | 249/500 [33:55<32:54,  7.86s/it]"
     ]
    },
    {
     "name": "stdout",
     "output_type": "stream",
     "text": [
      "Test on 1143 samples\n",
      "R^2: -0.04\n",
      "Test Loss: 1.79%\n",
      "Train Epoch: 250 [0/19577 (0%)]\tLoss: 0.007913\n",
      "Train Epoch: 250 [3200/19577 (16%)]\tLoss: 0.006723\n",
      "Train Epoch: 250 [6400/19577 (33%)]\tLoss: 0.003980\n",
      "Train Epoch: 250 [9600/19577 (49%)]\tLoss: 0.007410\n",
      "Train Epoch: 250 [12800/19577 (65%)]\tLoss: 0.005501\n",
      "Train Epoch: 250 [16000/19577 (82%)]\tLoss: 0.004464\n",
      "Train Epoch: 250 [19200/19577 (98%)]\tLoss: 0.006208\n",
      "\n",
      "Train loss: 0.007804982639998319\n"
     ]
    },
    {
     "name": "stderr",
     "output_type": "stream",
     "text": [
      "\r",
      " 50%|█████     | 250/500 [34:03<33:08,  7.95s/it]"
     ]
    },
    {
     "name": "stdout",
     "output_type": "stream",
     "text": [
      "Test on 1143 samples\n",
      "R^2: -0.23\n",
      "Test Loss: 1.80%\n",
      "Train Epoch: 251 [0/19577 (0%)]\tLoss: 0.005468\n",
      "Train Epoch: 251 [3200/19577 (16%)]\tLoss: 0.010982\n",
      "Train Epoch: 251 [6400/19577 (33%)]\tLoss: 0.007466\n",
      "Train Epoch: 251 [9600/19577 (49%)]\tLoss: 0.012678\n",
      "Train Epoch: 251 [12800/19577 (65%)]\tLoss: 0.002752\n",
      "Train Epoch: 251 [16000/19577 (82%)]\tLoss: 0.005095\n",
      "Train Epoch: 251 [19200/19577 (98%)]\tLoss: 0.007444\n",
      "\n",
      "Train loss: 0.007771902119594754\n"
     ]
    },
    {
     "name": "stderr",
     "output_type": "stream",
     "text": [
      "\r",
      " 50%|█████     | 251/500 [34:11<32:36,  7.86s/it]"
     ]
    },
    {
     "name": "stdout",
     "output_type": "stream",
     "text": [
      "Test on 1143 samples\n",
      "R^2: -0.62\n",
      "Test Loss: 1.78%\n",
      "Train Epoch: 252 [0/19577 (0%)]\tLoss: 0.006628\n",
      "Train Epoch: 252 [3200/19577 (16%)]\tLoss: 0.005123\n",
      "Train Epoch: 252 [6400/19577 (33%)]\tLoss: 0.004789\n",
      "Train Epoch: 252 [9600/19577 (49%)]\tLoss: 0.077521\n",
      "Train Epoch: 252 [12800/19577 (65%)]\tLoss: 0.004286\n",
      "Train Epoch: 252 [16000/19577 (82%)]\tLoss: 0.003585\n",
      "Train Epoch: 252 [19200/19577 (98%)]\tLoss: 0.005534\n",
      "\n",
      "Train loss: 0.00775957995001531\n"
     ]
    },
    {
     "name": "stderr",
     "output_type": "stream",
     "text": [
      "\r",
      " 50%|█████     | 252/500 [34:18<31:59,  7.74s/it]"
     ]
    },
    {
     "name": "stdout",
     "output_type": "stream",
     "text": [
      "Test on 1143 samples\n",
      "R^2: -0.50\n",
      "Test Loss: 1.78%\n",
      "Train Epoch: 253 [0/19577 (0%)]\tLoss: 0.007101\n",
      "Train Epoch: 253 [3200/19577 (16%)]\tLoss: 0.004032\n",
      "Train Epoch: 253 [6400/19577 (33%)]\tLoss: 0.006560\n",
      "Train Epoch: 253 [9600/19577 (49%)]\tLoss: 0.005745\n",
      "Train Epoch: 253 [12800/19577 (65%)]\tLoss: 0.002996\n",
      "Train Epoch: 253 [16000/19577 (82%)]\tLoss: 0.003375\n",
      "Train Epoch: 253 [19200/19577 (98%)]\tLoss: 0.008298\n",
      "\n",
      "Train loss: 0.007795243105528499\n"
     ]
    },
    {
     "name": "stderr",
     "output_type": "stream",
     "text": [
      "\r",
      " 51%|█████     | 253/500 [34:25<31:16,  7.60s/it]"
     ]
    },
    {
     "name": "stdout",
     "output_type": "stream",
     "text": [
      "Test on 1143 samples\n",
      "R^2: -0.07\n",
      "Test Loss: 1.78%\n",
      "Train Epoch: 254 [0/19577 (0%)]\tLoss: 0.005511\n",
      "Train Epoch: 254 [3200/19577 (16%)]\tLoss: 0.004125\n",
      "Train Epoch: 254 [6400/19577 (33%)]\tLoss: 0.008852\n",
      "Train Epoch: 254 [9600/19577 (49%)]\tLoss: 0.005898\n",
      "Train Epoch: 254 [12800/19577 (65%)]\tLoss: 0.007156\n",
      "Train Epoch: 254 [16000/19577 (82%)]\tLoss: 0.011514\n",
      "Train Epoch: 254 [19200/19577 (98%)]\tLoss: 0.005527\n",
      "\n",
      "Train loss: 0.007760886521401261\n"
     ]
    },
    {
     "name": "stderr",
     "output_type": "stream",
     "text": [
      "\r",
      " 51%|█████     | 254/500 [34:33<30:43,  7.49s/it]"
     ]
    },
    {
     "name": "stdout",
     "output_type": "stream",
     "text": [
      "Test on 1143 samples\n",
      "R^2: -0.38\n",
      "Test Loss: 1.79%\n",
      "Train Epoch: 255 [0/19577 (0%)]\tLoss: 0.007538\n",
      "Train Epoch: 255 [3200/19577 (16%)]\tLoss: 0.002709\n",
      "Train Epoch: 255 [6400/19577 (33%)]\tLoss: 0.015537\n",
      "Train Epoch: 255 [9600/19577 (49%)]\tLoss: 0.005128\n",
      "Train Epoch: 255 [12800/19577 (65%)]\tLoss: 0.012981\n",
      "Train Epoch: 255 [16000/19577 (82%)]\tLoss: 0.006954\n",
      "Train Epoch: 255 [19200/19577 (98%)]\tLoss: 0.004923\n",
      "\n",
      "Train loss: 0.007760588068277666\n"
     ]
    },
    {
     "name": "stderr",
     "output_type": "stream",
     "text": [
      "\r",
      " 51%|█████     | 255/500 [34:40<30:33,  7.48s/it]"
     ]
    },
    {
     "name": "stdout",
     "output_type": "stream",
     "text": [
      "Test on 1143 samples\n",
      "R^2: -0.39\n",
      "Test Loss: 1.79%\n",
      "Train Epoch: 256 [0/19577 (0%)]\tLoss: 0.009146\n",
      "Train Epoch: 256 [3200/19577 (16%)]\tLoss: 0.003275\n",
      "Train Epoch: 256 [6400/19577 (33%)]\tLoss: 0.008300\n",
      "Train Epoch: 256 [9600/19577 (49%)]\tLoss: 0.002344\n",
      "Train Epoch: 256 [12800/19577 (65%)]\tLoss: 0.006748\n",
      "Train Epoch: 256 [16000/19577 (82%)]\tLoss: 0.006531\n",
      "Train Epoch: 256 [19200/19577 (98%)]\tLoss: 0.005117\n",
      "\n",
      "Train loss: 0.007754766427930079\n"
     ]
    },
    {
     "name": "stderr",
     "output_type": "stream",
     "text": [
      "\r",
      " 51%|█████     | 256/500 [34:48<30:31,  7.51s/it]"
     ]
    },
    {
     "name": "stdout",
     "output_type": "stream",
     "text": [
      "Test on 1143 samples\n",
      "R^2: -0.44\n",
      "Test Loss: 1.80%\n",
      "Train Epoch: 257 [0/19577 (0%)]\tLoss: 0.005045\n",
      "Train Epoch: 257 [3200/19577 (16%)]\tLoss: 0.005893\n",
      "Train Epoch: 257 [6400/19577 (33%)]\tLoss: 0.006609\n",
      "Train Epoch: 257 [9600/19577 (49%)]\tLoss: 0.009218\n",
      "Train Epoch: 257 [12800/19577 (65%)]\tLoss: 0.007491\n",
      "Train Epoch: 257 [16000/19577 (82%)]\tLoss: 0.009598\n",
      "Train Epoch: 257 [19200/19577 (98%)]\tLoss: 0.005829\n",
      "\n",
      "Train loss: 0.007761553049337094\n"
     ]
    },
    {
     "name": "stderr",
     "output_type": "stream",
     "text": [
      "\r",
      " 51%|█████▏    | 257/500 [34:55<30:18,  7.48s/it]"
     ]
    },
    {
     "name": "stdout",
     "output_type": "stream",
     "text": [
      "Test on 1143 samples\n",
      "R^2: -0.08\n",
      "Test Loss: 1.78%\n",
      "Train Epoch: 258 [0/19577 (0%)]\tLoss: 0.004137\n",
      "Train Epoch: 258 [3200/19577 (16%)]\tLoss: 0.006238\n",
      "Train Epoch: 258 [6400/19577 (33%)]\tLoss: 0.003011\n",
      "Train Epoch: 258 [9600/19577 (49%)]\tLoss: 0.006004\n",
      "Train Epoch: 258 [12800/19577 (65%)]\tLoss: 0.008332\n",
      "Train Epoch: 258 [16000/19577 (82%)]\tLoss: 0.012655\n",
      "Train Epoch: 258 [19200/19577 (98%)]\tLoss: 0.006973\n",
      "\n",
      "Train loss: 0.007740938204745427\n"
     ]
    },
    {
     "name": "stderr",
     "output_type": "stream",
     "text": [
      "\r",
      " 52%|█████▏    | 258/500 [35:02<30:08,  7.47s/it]"
     ]
    },
    {
     "name": "stdout",
     "output_type": "stream",
     "text": [
      "Test on 1143 samples\n",
      "R^2: -0.08\n",
      "Test Loss: 1.78%\n",
      "Train Epoch: 259 [0/19577 (0%)]\tLoss: 0.008117\n",
      "Train Epoch: 259 [3200/19577 (16%)]\tLoss: 0.004413\n",
      "Train Epoch: 259 [6400/19577 (33%)]\tLoss: 0.010291\n",
      "Train Epoch: 259 [9600/19577 (49%)]\tLoss: 0.006670\n",
      "Train Epoch: 259 [12800/19577 (65%)]\tLoss: 0.008601\n",
      "Train Epoch: 259 [16000/19577 (82%)]\tLoss: 0.009008\n",
      "Train Epoch: 259 [19200/19577 (98%)]\tLoss: 0.006379\n",
      "\n",
      "Train loss: 0.007766540472706159\n"
     ]
    },
    {
     "name": "stderr",
     "output_type": "stream",
     "text": [
      "\r",
      " 52%|█████▏    | 259/500 [35:10<30:05,  7.49s/it]"
     ]
    },
    {
     "name": "stdout",
     "output_type": "stream",
     "text": [
      "Test on 1143 samples\n",
      "R^2: -0.26\n",
      "Test Loss: 1.78%\n",
      "Train Epoch: 260 [0/19577 (0%)]\tLoss: 0.009383\n",
      "Train Epoch: 260 [3200/19577 (16%)]\tLoss: 0.008178\n",
      "Train Epoch: 260 [6400/19577 (33%)]\tLoss: 0.006307\n",
      "Train Epoch: 260 [9600/19577 (49%)]\tLoss: 0.003578\n",
      "Train Epoch: 260 [12800/19577 (65%)]\tLoss: 0.004507\n",
      "Train Epoch: 260 [16000/19577 (82%)]\tLoss: 0.004176\n",
      "Train Epoch: 260 [19200/19577 (98%)]\tLoss: 0.006981\n",
      "\n",
      "Train loss: 0.007745492279687836\n"
     ]
    },
    {
     "name": "stderr",
     "output_type": "stream",
     "text": [
      "\r",
      " 52%|█████▏    | 260/500 [35:18<30:33,  7.64s/it]"
     ]
    },
    {
     "name": "stdout",
     "output_type": "stream",
     "text": [
      "Test on 1143 samples\n",
      "R^2: -0.08\n",
      "Test Loss: 1.77%\n",
      "Train Epoch: 261 [0/19577 (0%)]\tLoss: 0.011143\n",
      "Train Epoch: 261 [3200/19577 (16%)]\tLoss: 0.009533\n",
      "Train Epoch: 261 [6400/19577 (33%)]\tLoss: 0.007299\n",
      "Train Epoch: 261 [9600/19577 (49%)]\tLoss: 0.004139\n",
      "Train Epoch: 261 [12800/19577 (65%)]\tLoss: 0.004230\n",
      "Train Epoch: 261 [16000/19577 (82%)]\tLoss: 0.010341\n",
      "Train Epoch: 261 [19200/19577 (98%)]\tLoss: 0.009892\n",
      "\n",
      "Train loss: 0.007727041856531857\n"
     ]
    },
    {
     "name": "stderr",
     "output_type": "stream",
     "text": [
      "\r",
      " 52%|█████▏    | 261/500 [35:26<30:50,  7.74s/it]"
     ]
    },
    {
     "name": "stdout",
     "output_type": "stream",
     "text": [
      "Test on 1143 samples\n",
      "R^2: -0.22\n",
      "Test Loss: 1.79%\n",
      "Train Epoch: 262 [0/19577 (0%)]\tLoss: 0.002542\n",
      "Train Epoch: 262 [3200/19577 (16%)]\tLoss: 0.004058\n",
      "Train Epoch: 262 [6400/19577 (33%)]\tLoss: 0.010405\n",
      "Train Epoch: 262 [9600/19577 (49%)]\tLoss: 0.008460\n",
      "Train Epoch: 262 [12800/19577 (65%)]\tLoss: 0.005943\n",
      "Train Epoch: 262 [16000/19577 (82%)]\tLoss: 0.007903\n",
      "Train Epoch: 262 [19200/19577 (98%)]\tLoss: 0.006090\n",
      "\n",
      "Train loss: 0.007768254304834295\n"
     ]
    },
    {
     "name": "stderr",
     "output_type": "stream",
     "text": [
      "\r",
      " 52%|█████▏    | 262/500 [35:34<31:00,  7.82s/it]"
     ]
    },
    {
     "name": "stdout",
     "output_type": "stream",
     "text": [
      "Test on 1143 samples\n",
      "R^2: -0.10\n",
      "Test Loss: 1.78%\n",
      "Train Epoch: 263 [0/19577 (0%)]\tLoss: 0.002415\n",
      "Train Epoch: 263 [3200/19577 (16%)]\tLoss: 0.006116\n",
      "Train Epoch: 263 [6400/19577 (33%)]\tLoss: 0.009729\n",
      "Train Epoch: 263 [9600/19577 (49%)]\tLoss: 0.003173\n",
      "Train Epoch: 263 [12800/19577 (65%)]\tLoss: 0.004105\n",
      "Train Epoch: 263 [16000/19577 (82%)]\tLoss: 0.003170\n",
      "Train Epoch: 263 [19200/19577 (98%)]\tLoss: 0.003913\n",
      "\n",
      "Train loss: 0.007730765972024718\n"
     ]
    },
    {
     "name": "stderr",
     "output_type": "stream",
     "text": [
      "\r",
      " 53%|█████▎    | 263/500 [35:41<30:19,  7.68s/it]"
     ]
    },
    {
     "name": "stdout",
     "output_type": "stream",
     "text": [
      "Test on 1143 samples\n",
      "R^2: -1.17\n",
      "Test Loss: 1.81%\n",
      "Train Epoch: 264 [0/19577 (0%)]\tLoss: 0.006207\n",
      "Train Epoch: 264 [3200/19577 (16%)]\tLoss: 0.005120\n",
      "Train Epoch: 264 [6400/19577 (33%)]\tLoss: 0.013127\n",
      "Train Epoch: 264 [9600/19577 (49%)]\tLoss: 0.001871\n",
      "Train Epoch: 264 [12800/19577 (65%)]\tLoss: 0.005618\n",
      "Train Epoch: 264 [16000/19577 (82%)]\tLoss: 0.006557\n",
      "Train Epoch: 264 [19200/19577 (98%)]\tLoss: 0.002648\n",
      "\n",
      "Train loss: 0.007710276847991337\n"
     ]
    },
    {
     "name": "stderr",
     "output_type": "stream",
     "text": [
      "\r",
      " 53%|█████▎    | 264/500 [35:49<30:02,  7.64s/it]"
     ]
    },
    {
     "name": "stdout",
     "output_type": "stream",
     "text": [
      "Test on 1143 samples\n",
      "R^2: -0.05\n",
      "Test Loss: 1.78%\n",
      "Train Epoch: 265 [0/19577 (0%)]\tLoss: 0.010424\n",
      "Train Epoch: 265 [3200/19577 (16%)]\tLoss: 0.003913\n",
      "Train Epoch: 265 [6400/19577 (33%)]\tLoss: 0.004847\n",
      "Train Epoch: 265 [9600/19577 (49%)]\tLoss: 0.005739\n",
      "Train Epoch: 265 [12800/19577 (65%)]\tLoss: 0.004954\n",
      "Train Epoch: 265 [16000/19577 (82%)]\tLoss: 0.009305\n",
      "Train Epoch: 265 [19200/19577 (98%)]\tLoss: 0.010073\n",
      "\n",
      "Train loss: 0.0077207611548087375\n"
     ]
    },
    {
     "name": "stderr",
     "output_type": "stream",
     "text": [
      "\r",
      " 53%|█████▎    | 265/500 [35:57<30:17,  7.73s/it]"
     ]
    },
    {
     "name": "stdout",
     "output_type": "stream",
     "text": [
      "Test on 1143 samples\n",
      "R^2: -1.03\n",
      "Test Loss: 1.77%\n",
      "Train Epoch: 266 [0/19577 (0%)]\tLoss: 0.011829\n",
      "Train Epoch: 266 [3200/19577 (16%)]\tLoss: 0.004695\n",
      "Train Epoch: 266 [6400/19577 (33%)]\tLoss: 0.006513\n",
      "Train Epoch: 266 [9600/19577 (49%)]\tLoss: 0.011374\n",
      "Train Epoch: 266 [12800/19577 (65%)]\tLoss: 0.012396\n",
      "Train Epoch: 266 [16000/19577 (82%)]\tLoss: 0.003901\n",
      "Train Epoch: 266 [19200/19577 (98%)]\tLoss: 0.003745\n",
      "\n",
      "Train loss: 0.007719707137332876\n"
     ]
    },
    {
     "name": "stderr",
     "output_type": "stream",
     "text": [
      "\r",
      " 53%|█████▎    | 266/500 [36:04<29:29,  7.56s/it]"
     ]
    },
    {
     "name": "stdout",
     "output_type": "stream",
     "text": [
      "Test on 1143 samples\n",
      "R^2: -1.35\n",
      "Test Loss: 1.77%\n",
      "Train Epoch: 267 [0/19577 (0%)]\tLoss: 0.003868\n",
      "Train Epoch: 267 [3200/19577 (16%)]\tLoss: 0.003277\n",
      "Train Epoch: 267 [6400/19577 (33%)]\tLoss: 0.008245\n",
      "Train Epoch: 267 [9600/19577 (49%)]\tLoss: 0.004221\n",
      "Train Epoch: 267 [12800/19577 (65%)]\tLoss: 0.005149\n",
      "Train Epoch: 267 [16000/19577 (82%)]\tLoss: 0.004609\n",
      "Train Epoch: 267 [19200/19577 (98%)]\tLoss: 0.003408\n",
      "\n",
      "Train loss: 0.007718693093682815\n"
     ]
    },
    {
     "name": "stderr",
     "output_type": "stream",
     "text": [
      "\r",
      " 53%|█████▎    | 267/500 [36:12<29:22,  7.56s/it]"
     ]
    },
    {
     "name": "stdout",
     "output_type": "stream",
     "text": [
      "Test on 1143 samples\n",
      "R^2: -1.72\n",
      "Test Loss: 1.81%\n",
      "Train Epoch: 268 [0/19577 (0%)]\tLoss: 0.005962\n",
      "Train Epoch: 268 [3200/19577 (16%)]\tLoss: 0.011880\n",
      "Train Epoch: 268 [6400/19577 (33%)]\tLoss: 0.009782\n",
      "Train Epoch: 268 [9600/19577 (49%)]\tLoss: 0.005330\n",
      "Train Epoch: 268 [12800/19577 (65%)]\tLoss: 0.009809\n",
      "Train Epoch: 268 [16000/19577 (82%)]\tLoss: 0.003411\n",
      "Train Epoch: 268 [19200/19577 (98%)]\tLoss: 0.003336\n",
      "\n",
      "Train loss: 0.007710151478581228\n"
     ]
    },
    {
     "name": "stderr",
     "output_type": "stream",
     "text": [
      "\r",
      " 54%|█████▎    | 268/500 [36:21<31:12,  8.07s/it]"
     ]
    },
    {
     "name": "stdout",
     "output_type": "stream",
     "text": [
      "Test on 1143 samples\n",
      "R^2: -0.08\n",
      "Test Loss: 1.77%\n",
      "Train Epoch: 269 [0/19577 (0%)]\tLoss: 0.002779\n",
      "Train Epoch: 269 [3200/19577 (16%)]\tLoss: 0.043627\n",
      "Train Epoch: 269 [6400/19577 (33%)]\tLoss: 0.004033\n",
      "Train Epoch: 269 [9600/19577 (49%)]\tLoss: 0.006304\n",
      "Train Epoch: 269 [12800/19577 (65%)]\tLoss: 0.009355\n",
      "Train Epoch: 269 [16000/19577 (82%)]\tLoss: 0.012150\n",
      "Train Epoch: 269 [19200/19577 (98%)]\tLoss: 0.006798\n",
      "\n",
      "Train loss: 0.007684198620552623\n"
     ]
    },
    {
     "name": "stderr",
     "output_type": "stream",
     "text": [
      "\r",
      " 54%|█████▍    | 269/500 [36:29<31:42,  8.23s/it]"
     ]
    },
    {
     "name": "stdout",
     "output_type": "stream",
     "text": [
      "Test on 1143 samples\n",
      "R^2: -0.09\n",
      "Test Loss: 1.77%\n",
      "Train Epoch: 270 [0/19577 (0%)]\tLoss: 0.004949\n",
      "Train Epoch: 270 [3200/19577 (16%)]\tLoss: 0.004974\n",
      "Train Epoch: 270 [6400/19577 (33%)]\tLoss: 0.005072\n",
      "Train Epoch: 270 [9600/19577 (49%)]\tLoss: 0.004424\n",
      "Train Epoch: 270 [12800/19577 (65%)]\tLoss: 0.003023\n",
      "Train Epoch: 270 [16000/19577 (82%)]\tLoss: 0.003926\n",
      "Train Epoch: 270 [19200/19577 (98%)]\tLoss: 0.013993\n",
      "\n",
      "Train loss: 0.007710217920533728\n"
     ]
    },
    {
     "name": "stderr",
     "output_type": "stream",
     "text": [
      "\r",
      " 54%|█████▍    | 270/500 [36:38<32:04,  8.37s/it]"
     ]
    },
    {
     "name": "stdout",
     "output_type": "stream",
     "text": [
      "Test on 1143 samples\n",
      "R^2: -1.84\n",
      "Test Loss: 1.81%\n",
      "Train Epoch: 271 [0/19577 (0%)]\tLoss: 0.003410\n",
      "Train Epoch: 271 [3200/19577 (16%)]\tLoss: 0.016086\n",
      "Train Epoch: 271 [6400/19577 (33%)]\tLoss: 0.002316\n",
      "Train Epoch: 271 [9600/19577 (49%)]\tLoss: 0.004598\n",
      "Train Epoch: 271 [12800/19577 (65%)]\tLoss: 0.006333\n",
      "Train Epoch: 271 [16000/19577 (82%)]\tLoss: 0.005492\n",
      "Train Epoch: 271 [19200/19577 (98%)]\tLoss: 0.003457\n",
      "\n",
      "Train loss: 0.007681324766808817\n"
     ]
    },
    {
     "name": "stderr",
     "output_type": "stream",
     "text": [
      "\r",
      " 54%|█████▍    | 271/500 [36:48<33:13,  8.71s/it]"
     ]
    },
    {
     "name": "stdout",
     "output_type": "stream",
     "text": [
      "Test on 1143 samples\n",
      "R^2: -1.33\n",
      "Test Loss: 1.77%\n",
      "Train Epoch: 272 [0/19577 (0%)]\tLoss: 0.013718\n",
      "Train Epoch: 272 [3200/19577 (16%)]\tLoss: 0.014474\n",
      "Train Epoch: 272 [6400/19577 (33%)]\tLoss: 0.010583\n",
      "Train Epoch: 272 [9600/19577 (49%)]\tLoss: 0.004362\n",
      "Train Epoch: 272 [12800/19577 (65%)]\tLoss: 0.005953\n",
      "Train Epoch: 272 [16000/19577 (82%)]\tLoss: 0.005445\n",
      "Train Epoch: 272 [19200/19577 (98%)]\tLoss: 0.007377\n",
      "\n",
      "Train loss: 0.007700365713152279\n"
     ]
    },
    {
     "name": "stderr",
     "output_type": "stream",
     "text": [
      "\r",
      " 54%|█████▍    | 272/500 [36:55<31:56,  8.41s/it]"
     ]
    },
    {
     "name": "stdout",
     "output_type": "stream",
     "text": [
      "Test on 1143 samples\n",
      "R^2: -2.74\n",
      "Test Loss: 1.78%\n",
      "Train Epoch: 273 [0/19577 (0%)]\tLoss: 0.002958\n",
      "Train Epoch: 273 [3200/19577 (16%)]\tLoss: 0.004822\n",
      "Train Epoch: 273 [6400/19577 (33%)]\tLoss: 0.007690\n",
      "Train Epoch: 273 [9600/19577 (49%)]\tLoss: 0.015277\n",
      "Train Epoch: 273 [12800/19577 (65%)]\tLoss: 0.006027\n",
      "Train Epoch: 273 [16000/19577 (82%)]\tLoss: 0.005548\n",
      "Train Epoch: 273 [19200/19577 (98%)]\tLoss: 0.009888\n",
      "\n",
      "Train loss: 0.0076775912285228474\n"
     ]
    },
    {
     "name": "stderr",
     "output_type": "stream",
     "text": [
      "\r",
      " 55%|█████▍    | 273/500 [37:04<32:38,  8.63s/it]"
     ]
    },
    {
     "name": "stdout",
     "output_type": "stream",
     "text": [
      "Test on 1143 samples\n",
      "R^2: -0.06\n",
      "Test Loss: 1.77%\n",
      "Train Epoch: 274 [0/19577 (0%)]\tLoss: 0.007500\n",
      "Train Epoch: 274 [3200/19577 (16%)]\tLoss: 0.009424\n",
      "Train Epoch: 274 [6400/19577 (33%)]\tLoss: 0.004112\n",
      "Train Epoch: 274 [9600/19577 (49%)]\tLoss: 0.004858\n",
      "Train Epoch: 274 [12800/19577 (65%)]\tLoss: 0.003371\n",
      "Train Epoch: 274 [16000/19577 (82%)]\tLoss: 0.012223\n",
      "Train Epoch: 274 [19200/19577 (98%)]\tLoss: 0.003808\n",
      "\n",
      "Train loss: 0.00766519006544091\n"
     ]
    },
    {
     "name": "stderr",
     "output_type": "stream",
     "text": [
      "\r",
      " 55%|█████▍    | 274/500 [37:12<31:14,  8.30s/it]"
     ]
    },
    {
     "name": "stdout",
     "output_type": "stream",
     "text": [
      "Test on 1143 samples\n",
      "R^2: -0.25\n",
      "Test Loss: 1.76%\n",
      "Train Epoch: 275 [0/19577 (0%)]\tLoss: 0.003655\n",
      "Train Epoch: 275 [3200/19577 (16%)]\tLoss: 0.003769\n",
      "Train Epoch: 275 [6400/19577 (33%)]\tLoss: 0.006113\n",
      "Train Epoch: 275 [9600/19577 (49%)]\tLoss: 0.005453\n",
      "Train Epoch: 275 [12800/19577 (65%)]\tLoss: 0.007433\n",
      "Train Epoch: 275 [16000/19577 (82%)]\tLoss: 0.074915\n",
      "Train Epoch: 275 [19200/19577 (98%)]\tLoss: 0.014038\n",
      "\n",
      "Train loss: 0.007670414064146481\n"
     ]
    },
    {
     "name": "stderr",
     "output_type": "stream",
     "text": [
      "\r",
      " 55%|█████▌    | 275/500 [37:20<30:53,  8.24s/it]"
     ]
    },
    {
     "name": "stdout",
     "output_type": "stream",
     "text": [
      "Test on 1143 samples\n",
      "R^2: -2.21\n",
      "Test Loss: 1.77%\n",
      "Train Epoch: 276 [0/19577 (0%)]\tLoss: 0.008140\n",
      "Train Epoch: 276 [3200/19577 (16%)]\tLoss: 0.003468\n",
      "Train Epoch: 276 [6400/19577 (33%)]\tLoss: 0.006198\n",
      "Train Epoch: 276 [9600/19577 (49%)]\tLoss: 0.004955\n",
      "Train Epoch: 276 [12800/19577 (65%)]\tLoss: 0.008255\n",
      "Train Epoch: 276 [16000/19577 (82%)]\tLoss: 0.004734\n",
      "Train Epoch: 276 [19200/19577 (98%)]\tLoss: 0.004836\n",
      "\n",
      "Train loss: 0.0076678420814192474\n"
     ]
    },
    {
     "name": "stderr",
     "output_type": "stream",
     "text": [
      "\r",
      " 55%|█████▌    | 276/500 [37:27<29:43,  7.96s/it]"
     ]
    },
    {
     "name": "stdout",
     "output_type": "stream",
     "text": [
      "Test on 1143 samples\n",
      "R^2: -0.26\n",
      "Test Loss: 1.75%\n",
      "Train Epoch: 277 [0/19577 (0%)]\tLoss: 0.005632\n",
      "Train Epoch: 277 [3200/19577 (16%)]\tLoss: 0.004512\n",
      "Train Epoch: 277 [6400/19577 (33%)]\tLoss: 0.005426\n",
      "Train Epoch: 277 [9600/19577 (49%)]\tLoss: 0.003290\n",
      "Train Epoch: 277 [12800/19577 (65%)]\tLoss: 0.014485\n",
      "Train Epoch: 277 [16000/19577 (82%)]\tLoss: 0.002742\n",
      "Train Epoch: 277 [19200/19577 (98%)]\tLoss: 0.008088\n",
      "\n",
      "Train loss: 0.0076568715275855724\n"
     ]
    },
    {
     "name": "stderr",
     "output_type": "stream",
     "text": [
      "\r",
      " 55%|█████▌    | 277/500 [37:35<28:42,  7.73s/it]"
     ]
    },
    {
     "name": "stdout",
     "output_type": "stream",
     "text": [
      "Test on 1143 samples\n",
      "R^2: -0.06\n",
      "Test Loss: 1.76%\n",
      "Train Epoch: 278 [0/19577 (0%)]\tLoss: 0.003811\n",
      "Train Epoch: 278 [3200/19577 (16%)]\tLoss: 0.003896\n",
      "Train Epoch: 278 [6400/19577 (33%)]\tLoss: 0.008076\n",
      "Train Epoch: 278 [9600/19577 (49%)]\tLoss: 0.007035\n",
      "Train Epoch: 278 [12800/19577 (65%)]\tLoss: 0.005386\n",
      "Train Epoch: 278 [16000/19577 (82%)]\tLoss: 0.003370\n",
      "Train Epoch: 278 [19200/19577 (98%)]\tLoss: 0.007132\n",
      "\n",
      "Train loss: 0.0076557252779785616\n"
     ]
    },
    {
     "name": "stderr",
     "output_type": "stream",
     "text": [
      "\r",
      " 56%|█████▌    | 278/500 [37:42<27:53,  7.54s/it]"
     ]
    },
    {
     "name": "stdout",
     "output_type": "stream",
     "text": [
      "Test on 1143 samples\n",
      "R^2: -0.30\n",
      "Test Loss: 1.77%\n",
      "Train Epoch: 279 [0/19577 (0%)]\tLoss: 0.004853\n",
      "Train Epoch: 279 [3200/19577 (16%)]\tLoss: 0.005203\n",
      "Train Epoch: 279 [6400/19577 (33%)]\tLoss: 0.002474\n",
      "Train Epoch: 279 [9600/19577 (49%)]\tLoss: 0.009272\n",
      "Train Epoch: 279 [12800/19577 (65%)]\tLoss: 0.003556\n",
      "Train Epoch: 279 [16000/19577 (82%)]\tLoss: 0.004728\n",
      "Train Epoch: 279 [19200/19577 (98%)]\tLoss: 0.005127\n",
      "\n",
      "Train loss: 0.007644208950474493\n"
     ]
    },
    {
     "name": "stderr",
     "output_type": "stream",
     "text": [
      "\r",
      " 56%|█████▌    | 279/500 [37:49<27:10,  7.38s/it]"
     ]
    },
    {
     "name": "stdout",
     "output_type": "stream",
     "text": [
      "Test on 1143 samples\n",
      "R^2: -0.90\n",
      "Test Loss: 1.79%\n",
      "Train Epoch: 280 [0/19577 (0%)]\tLoss: 0.007500\n",
      "Train Epoch: 280 [3200/19577 (16%)]\tLoss: 0.004783\n",
      "Train Epoch: 280 [6400/19577 (33%)]\tLoss: 0.006663\n",
      "Train Epoch: 280 [9600/19577 (49%)]\tLoss: 0.002710\n",
      "Train Epoch: 280 [12800/19577 (65%)]\tLoss: 0.006291\n",
      "Train Epoch: 280 [16000/19577 (82%)]\tLoss: 0.006178\n",
      "Train Epoch: 280 [19200/19577 (98%)]\tLoss: 0.007900\n",
      "\n",
      "Train loss: 0.007655612871756936\n"
     ]
    },
    {
     "name": "stderr",
     "output_type": "stream",
     "text": [
      "\r",
      " 56%|█████▌    | 280/500 [37:56<26:47,  7.31s/it]"
     ]
    },
    {
     "name": "stdout",
     "output_type": "stream",
     "text": [
      "Test on 1143 samples\n",
      "R^2: -0.63\n",
      "Test Loss: 1.76%\n",
      "Train Epoch: 281 [0/19577 (0%)]\tLoss: 0.004833\n",
      "Train Epoch: 281 [3200/19577 (16%)]\tLoss: 0.007104\n",
      "Train Epoch: 281 [6400/19577 (33%)]\tLoss: 0.006740\n",
      "Train Epoch: 281 [9600/19577 (49%)]\tLoss: 0.009782\n",
      "Train Epoch: 281 [12800/19577 (65%)]\tLoss: 0.001966\n",
      "Train Epoch: 281 [16000/19577 (82%)]\tLoss: 0.006093\n",
      "Train Epoch: 281 [19200/19577 (98%)]\tLoss: 0.004378\n",
      "\n",
      "Train loss: 0.00763616819593605\n"
     ]
    },
    {
     "name": "stderr",
     "output_type": "stream",
     "text": [
      "\r",
      " 56%|█████▌    | 281/500 [38:05<29:01,  7.95s/it]"
     ]
    },
    {
     "name": "stdout",
     "output_type": "stream",
     "text": [
      "Test on 1143 samples\n",
      "R^2: -1.23\n",
      "Test Loss: 1.76%\n",
      "Train Epoch: 282 [0/19577 (0%)]\tLoss: 0.007288\n",
      "Train Epoch: 282 [3200/19577 (16%)]\tLoss: 0.004316\n",
      "Train Epoch: 282 [6400/19577 (33%)]\tLoss: 0.004197\n",
      "Train Epoch: 282 [9600/19577 (49%)]\tLoss: 0.002771\n",
      "Train Epoch: 282 [12800/19577 (65%)]\tLoss: 0.004215\n",
      "Train Epoch: 282 [16000/19577 (82%)]\tLoss: 0.004485\n",
      "Train Epoch: 282 [19200/19577 (98%)]\tLoss: 0.004036\n",
      "\n",
      "Train loss: 0.007655283159217219\n"
     ]
    },
    {
     "name": "stderr",
     "output_type": "stream",
     "text": [
      "\r",
      " 56%|█████▋    | 282/500 [38:12<27:58,  7.70s/it]"
     ]
    },
    {
     "name": "stdout",
     "output_type": "stream",
     "text": [
      "Test on 1143 samples\n",
      "R^2: -1.22\n",
      "Test Loss: 1.78%\n",
      "Train Epoch: 283 [0/19577 (0%)]\tLoss: 0.005279\n",
      "Train Epoch: 283 [3200/19577 (16%)]\tLoss: 0.004323\n",
      "Train Epoch: 283 [6400/19577 (33%)]\tLoss: 0.004974\n",
      "Train Epoch: 283 [9600/19577 (49%)]\tLoss: 0.002759\n",
      "Train Epoch: 283 [12800/19577 (65%)]\tLoss: 0.004611\n",
      "Train Epoch: 283 [16000/19577 (82%)]\tLoss: 0.010748\n",
      "Train Epoch: 283 [19200/19577 (98%)]\tLoss: 0.005860\n",
      "\n",
      "Train loss: 0.007649560945163316\n"
     ]
    },
    {
     "name": "stderr",
     "output_type": "stream",
     "text": [
      "\r",
      " 57%|█████▋    | 283/500 [38:19<27:12,  7.52s/it]"
     ]
    },
    {
     "name": "stdout",
     "output_type": "stream",
     "text": [
      "Test on 1143 samples\n",
      "R^2: -0.97\n",
      "Test Loss: 1.78%\n",
      "Train Epoch: 284 [0/19577 (0%)]\tLoss: 0.005805\n",
      "Train Epoch: 284 [3200/19577 (16%)]\tLoss: 0.005561\n",
      "Train Epoch: 284 [6400/19577 (33%)]\tLoss: 0.009433\n",
      "Train Epoch: 284 [9600/19577 (49%)]\tLoss: 0.004754\n",
      "Train Epoch: 284 [12800/19577 (65%)]\tLoss: 0.005730\n",
      "Train Epoch: 284 [16000/19577 (82%)]\tLoss: 0.007563\n",
      "Train Epoch: 284 [19200/19577 (98%)]\tLoss: 0.004365\n",
      "\n",
      "Train loss: 0.007645670410543924\n"
     ]
    },
    {
     "name": "stderr",
     "output_type": "stream",
     "text": [
      "\r",
      " 57%|█████▋    | 284/500 [38:27<27:23,  7.61s/it]"
     ]
    },
    {
     "name": "stdout",
     "output_type": "stream",
     "text": [
      "Test on 1143 samples\n",
      "R^2: -0.03\n",
      "Test Loss: 1.76%\n",
      "Train Epoch: 285 [0/19577 (0%)]\tLoss: 0.007093\n",
      "Train Epoch: 285 [3200/19577 (16%)]\tLoss: 0.003839\n",
      "Train Epoch: 285 [6400/19577 (33%)]\tLoss: 0.006424\n",
      "Train Epoch: 285 [9600/19577 (49%)]\tLoss: 0.004345\n",
      "Train Epoch: 285 [12800/19577 (65%)]\tLoss: 0.004419\n",
      "Train Epoch: 285 [16000/19577 (82%)]\tLoss: 0.009123\n",
      "Train Epoch: 285 [19200/19577 (98%)]\tLoss: 0.006697\n",
      "\n",
      "Train loss: 0.007648229630195286\n"
     ]
    },
    {
     "name": "stderr",
     "output_type": "stream",
     "text": [
      "\r",
      " 57%|█████▋    | 285/500 [38:36<28:39,  8.00s/it]"
     ]
    },
    {
     "name": "stdout",
     "output_type": "stream",
     "text": [
      "Test on 1143 samples\n",
      "R^2: -1.99\n",
      "Test Loss: 1.76%\n",
      "Train Epoch: 286 [0/19577 (0%)]\tLoss: 0.003641\n",
      "Train Epoch: 286 [3200/19577 (16%)]\tLoss: 0.006081\n",
      "Train Epoch: 286 [6400/19577 (33%)]\tLoss: 0.005792\n",
      "Train Epoch: 286 [9600/19577 (49%)]\tLoss: 0.005346\n",
      "Train Epoch: 286 [12800/19577 (65%)]\tLoss: 0.003588\n",
      "Train Epoch: 286 [16000/19577 (82%)]\tLoss: 0.005173\n",
      "Train Epoch: 286 [19200/19577 (98%)]\tLoss: 0.009121\n",
      "\n",
      "Train loss: 0.007627408074601584\n"
     ]
    },
    {
     "name": "stderr",
     "output_type": "stream",
     "text": [
      "\r",
      " 57%|█████▋    | 286/500 [38:43<27:38,  7.75s/it]"
     ]
    },
    {
     "name": "stdout",
     "output_type": "stream",
     "text": [
      "Test on 1143 samples\n",
      "R^2: -0.05\n",
      "Test Loss: 1.75%\n",
      "Train Epoch: 287 [0/19577 (0%)]\tLoss: 0.006158\n",
      "Train Epoch: 287 [3200/19577 (16%)]\tLoss: 0.005766\n",
      "Train Epoch: 287 [6400/19577 (33%)]\tLoss: 0.005323\n",
      "Train Epoch: 287 [9600/19577 (49%)]\tLoss: 0.005044\n",
      "Train Epoch: 287 [12800/19577 (65%)]\tLoss: 0.004215\n",
      "Train Epoch: 287 [16000/19577 (82%)]\tLoss: 0.004284\n",
      "Train Epoch: 287 [19200/19577 (98%)]\tLoss: 0.021639\n",
      "\n",
      "Train loss: 0.007622779555484847\n"
     ]
    },
    {
     "name": "stderr",
     "output_type": "stream",
     "text": [
      "\r",
      " 57%|█████▋    | 287/500 [38:51<27:02,  7.62s/it]"
     ]
    },
    {
     "name": "stdout",
     "output_type": "stream",
     "text": [
      "Test on 1143 samples\n",
      "R^2: -2.74\n",
      "Test Loss: 1.81%\n",
      "Train Epoch: 288 [0/19577 (0%)]\tLoss: 0.003737\n",
      "Train Epoch: 288 [3200/19577 (16%)]\tLoss: 0.004391\n",
      "Train Epoch: 288 [6400/19577 (33%)]\tLoss: 0.017624\n",
      "Train Epoch: 288 [9600/19577 (49%)]\tLoss: 0.006906\n",
      "Train Epoch: 288 [12800/19577 (65%)]\tLoss: 0.003583\n",
      "Train Epoch: 288 [16000/19577 (82%)]\tLoss: 0.008978\n",
      "Train Epoch: 288 [19200/19577 (98%)]\tLoss: 0.003253\n",
      "\n",
      "Train loss: 0.007615875658956569\n"
     ]
    },
    {
     "name": "stderr",
     "output_type": "stream",
     "text": [
      "\r",
      " 58%|█████▊    | 288/500 [38:59<27:09,  7.69s/it]"
     ]
    },
    {
     "name": "stdout",
     "output_type": "stream",
     "text": [
      "Test on 1143 samples\n",
      "R^2: -0.96\n",
      "Test Loss: 1.78%\n",
      "Train Epoch: 289 [0/19577 (0%)]\tLoss: 0.004790\n",
      "Train Epoch: 289 [3200/19577 (16%)]\tLoss: 0.007563\n",
      "Train Epoch: 289 [6400/19577 (33%)]\tLoss: 0.004183\n",
      "Train Epoch: 289 [9600/19577 (49%)]\tLoss: 0.003768\n",
      "Train Epoch: 289 [12800/19577 (65%)]\tLoss: 0.007608\n",
      "Train Epoch: 289 [16000/19577 (82%)]\tLoss: 0.007234\n",
      "Train Epoch: 289 [19200/19577 (98%)]\tLoss: 0.005210\n",
      "\n",
      "Train loss: 0.007621617423936578\n"
     ]
    },
    {
     "name": "stderr",
     "output_type": "stream",
     "text": [
      "\r",
      " 58%|█████▊    | 289/500 [39:06<26:55,  7.66s/it]"
     ]
    },
    {
     "name": "stdout",
     "output_type": "stream",
     "text": [
      "Test on 1143 samples\n",
      "R^2: -0.06\n",
      "Test Loss: 1.75%\n",
      "Train Epoch: 290 [0/19577 (0%)]\tLoss: 0.006396\n",
      "Train Epoch: 290 [3200/19577 (16%)]\tLoss: 0.004155\n",
      "Train Epoch: 290 [6400/19577 (33%)]\tLoss: 0.002710\n",
      "Train Epoch: 290 [9600/19577 (49%)]\tLoss: 0.011053\n",
      "Train Epoch: 290 [12800/19577 (65%)]\tLoss: 0.003775\n",
      "Train Epoch: 290 [16000/19577 (82%)]\tLoss: 0.008456\n",
      "Train Epoch: 290 [19200/19577 (98%)]\tLoss: 0.003056\n",
      "\n",
      "Train loss: 0.007611145158115702\n"
     ]
    },
    {
     "name": "stderr",
     "output_type": "stream",
     "text": [
      "\r",
      " 58%|█████▊    | 290/500 [39:14<27:32,  7.87s/it]"
     ]
    },
    {
     "name": "stdout",
     "output_type": "stream",
     "text": [
      "Test on 1143 samples\n",
      "R^2: -0.36\n",
      "Test Loss: 1.76%\n",
      "Train Epoch: 291 [0/19577 (0%)]\tLoss: 0.004671\n",
      "Train Epoch: 291 [3200/19577 (16%)]\tLoss: 0.003954\n",
      "Train Epoch: 291 [6400/19577 (33%)]\tLoss: 0.003538\n",
      "Train Epoch: 291 [9600/19577 (49%)]\tLoss: 0.006553\n",
      "Train Epoch: 291 [12800/19577 (65%)]\tLoss: 0.003711\n",
      "Train Epoch: 291 [16000/19577 (82%)]\tLoss: 0.005679\n",
      "Train Epoch: 291 [19200/19577 (98%)]\tLoss: 0.006418\n",
      "\n",
      "Train loss: 0.0076081274374802076\n"
     ]
    },
    {
     "name": "stderr",
     "output_type": "stream",
     "text": [
      "\r",
      " 58%|█████▊    | 291/500 [39:22<27:20,  7.85s/it]"
     ]
    },
    {
     "name": "stdout",
     "output_type": "stream",
     "text": [
      "Test on 1143 samples\n",
      "R^2: -0.27\n",
      "Test Loss: 1.75%\n",
      "Train Epoch: 292 [0/19577 (0%)]\tLoss: 0.010411\n",
      "Train Epoch: 292 [3200/19577 (16%)]\tLoss: 0.005072\n",
      "Train Epoch: 292 [6400/19577 (33%)]\tLoss: 0.005521\n",
      "Train Epoch: 292 [9600/19577 (49%)]\tLoss: 0.006832\n",
      "Train Epoch: 292 [12800/19577 (65%)]\tLoss: 0.005986\n",
      "Train Epoch: 292 [16000/19577 (82%)]\tLoss: 0.010611\n",
      "Train Epoch: 292 [19200/19577 (98%)]\tLoss: 0.005047\n",
      "\n",
      "Train loss: 0.00761664261070561\n"
     ]
    },
    {
     "name": "stderr",
     "output_type": "stream",
     "text": [
      "\r",
      " 58%|█████▊    | 292/500 [39:30<27:08,  7.83s/it]"
     ]
    },
    {
     "name": "stdout",
     "output_type": "stream",
     "text": [
      "Test on 1143 samples\n",
      "R^2: -0.47\n",
      "Test Loss: 1.77%\n",
      "Train Epoch: 293 [0/19577 (0%)]\tLoss: 0.003249\n",
      "Train Epoch: 293 [3200/19577 (16%)]\tLoss: 0.007292\n",
      "Train Epoch: 293 [6400/19577 (33%)]\tLoss: 0.005167\n",
      "Train Epoch: 293 [9600/19577 (49%)]\tLoss: 0.007987\n",
      "Train Epoch: 293 [12800/19577 (65%)]\tLoss: 0.008525\n",
      "Train Epoch: 293 [16000/19577 (82%)]\tLoss: 0.003779\n",
      "Train Epoch: 293 [19200/19577 (98%)]\tLoss: 0.003574\n",
      "\n",
      "Train loss: 0.007614110296689509\n"
     ]
    },
    {
     "name": "stderr",
     "output_type": "stream",
     "text": [
      "\r",
      " 59%|█████▊    | 293/500 [39:47<36:16, 10.51s/it]"
     ]
    },
    {
     "name": "stdout",
     "output_type": "stream",
     "text": [
      "Test on 1143 samples\n",
      "R^2: -0.06\n",
      "Test Loss: 1.75%\n",
      "Train Epoch: 294 [0/19577 (0%)]\tLoss: 0.004532\n",
      "Train Epoch: 294 [3200/19577 (16%)]\tLoss: 0.006918\n",
      "Train Epoch: 294 [6400/19577 (33%)]\tLoss: 0.003189\n",
      "Train Epoch: 294 [9600/19577 (49%)]\tLoss: 0.006640\n",
      "Train Epoch: 294 [12800/19577 (65%)]\tLoss: 0.005024\n",
      "Train Epoch: 294 [16000/19577 (82%)]\tLoss: 0.006582\n",
      "Train Epoch: 294 [19200/19577 (98%)]\tLoss: 0.004080\n",
      "\n",
      "Train loss: 0.007615309310590033\n"
     ]
    },
    {
     "name": "stderr",
     "output_type": "stream",
     "text": [
      "\r",
      " 59%|█████▉    | 294/500 [39:58<37:14, 10.85s/it]"
     ]
    },
    {
     "name": "stdout",
     "output_type": "stream",
     "text": [
      "Test on 1143 samples\n",
      "R^2: -3.66\n",
      "Test Loss: 1.77%\n",
      "Train Epoch: 295 [0/19577 (0%)]\tLoss: 0.006325\n",
      "Train Epoch: 295 [3200/19577 (16%)]\tLoss: 0.003290\n",
      "Train Epoch: 295 [6400/19577 (33%)]\tLoss: 0.008332\n",
      "Train Epoch: 295 [9600/19577 (49%)]\tLoss: 0.003230\n",
      "Train Epoch: 295 [12800/19577 (65%)]\tLoss: 0.005735\n",
      "Train Epoch: 295 [16000/19577 (82%)]\tLoss: 0.003543\n",
      "Train Epoch: 295 [19200/19577 (98%)]\tLoss: 0.010222\n",
      "\n",
      "Train loss: 0.007606236130954832\n"
     ]
    },
    {
     "name": "stderr",
     "output_type": "stream",
     "text": [
      "\r",
      " 59%|█████▉    | 295/500 [40:08<35:41, 10.45s/it]"
     ]
    },
    {
     "name": "stdout",
     "output_type": "stream",
     "text": [
      "Test on 1143 samples\n",
      "R^2: -0.70\n",
      "Test Loss: 1.75%\n",
      "Train Epoch: 296 [0/19577 (0%)]\tLoss: 0.004298\n",
      "Train Epoch: 296 [3200/19577 (16%)]\tLoss: 0.003941\n",
      "Train Epoch: 296 [6400/19577 (33%)]\tLoss: 0.004014\n",
      "Train Epoch: 296 [9600/19577 (49%)]\tLoss: 0.006806\n",
      "Train Epoch: 296 [12800/19577 (65%)]\tLoss: 0.004239\n",
      "Train Epoch: 296 [16000/19577 (82%)]\tLoss: 0.006139\n",
      "Train Epoch: 296 [19200/19577 (98%)]\tLoss: 0.002509\n",
      "\n",
      "Train loss: 0.007564887203568337\n"
     ]
    },
    {
     "name": "stderr",
     "output_type": "stream",
     "text": [
      "\r",
      " 59%|█████▉    | 296/500 [40:16<32:52,  9.67s/it]"
     ]
    },
    {
     "name": "stdout",
     "output_type": "stream",
     "text": [
      "Test on 1143 samples\n",
      "R^2: -0.73\n",
      "Test Loss: 1.77%\n",
      "Train Epoch: 297 [0/19577 (0%)]\tLoss: 0.005926\n",
      "Train Epoch: 297 [3200/19577 (16%)]\tLoss: 0.004674\n",
      "Train Epoch: 297 [6400/19577 (33%)]\tLoss: 0.005288\n",
      "Train Epoch: 297 [9600/19577 (49%)]\tLoss: 0.016863\n",
      "Train Epoch: 297 [12800/19577 (65%)]\tLoss: 0.004591\n",
      "Train Epoch: 297 [16000/19577 (82%)]\tLoss: 0.004717\n",
      "Train Epoch: 297 [19200/19577 (98%)]\tLoss: 0.004944\n",
      "\n",
      "Train loss: 0.007579829519480661\n"
     ]
    },
    {
     "name": "stderr",
     "output_type": "stream",
     "text": [
      "\r",
      " 59%|█████▉    | 297/500 [40:24<30:49,  9.11s/it]"
     ]
    },
    {
     "name": "stdout",
     "output_type": "stream",
     "text": [
      "Test on 1143 samples\n",
      "R^2: -0.03\n",
      "Test Loss: 1.75%\n",
      "Train Epoch: 298 [0/19577 (0%)]\tLoss: 0.005131\n",
      "Train Epoch: 298 [3200/19577 (16%)]\tLoss: 0.005360\n",
      "Train Epoch: 298 [6400/19577 (33%)]\tLoss: 0.006303\n",
      "Train Epoch: 298 [9600/19577 (49%)]\tLoss: 0.003157\n",
      "Train Epoch: 298 [12800/19577 (65%)]\tLoss: 0.003862\n",
      "Train Epoch: 298 [16000/19577 (82%)]\tLoss: 0.002459\n",
      "Train Epoch: 298 [19200/19577 (98%)]\tLoss: 0.005771\n",
      "\n",
      "Train loss: 0.007575036309586436\n"
     ]
    },
    {
     "name": "stderr",
     "output_type": "stream",
     "text": [
      "\r",
      " 60%|█████▉    | 298/500 [40:31<28:46,  8.55s/it]"
     ]
    },
    {
     "name": "stdout",
     "output_type": "stream",
     "text": [
      "Test on 1143 samples\n",
      "R^2: -0.86\n",
      "Test Loss: 1.77%\n",
      "Train Epoch: 299 [0/19577 (0%)]\tLoss: 0.004535\n",
      "Train Epoch: 299 [3200/19577 (16%)]\tLoss: 0.005732\n",
      "Train Epoch: 299 [6400/19577 (33%)]\tLoss: 0.010041\n",
      "Train Epoch: 299 [9600/19577 (49%)]\tLoss: 0.009826\n",
      "Train Epoch: 299 [12800/19577 (65%)]\tLoss: 0.006888\n",
      "Train Epoch: 299 [16000/19577 (82%)]\tLoss: 0.003083\n",
      "Train Epoch: 299 [19200/19577 (98%)]\tLoss: 0.008056\n",
      "\n",
      "Train loss: 0.007593671199667809\n"
     ]
    },
    {
     "name": "stderr",
     "output_type": "stream",
     "text": [
      "\r",
      " 60%|█████▉    | 299/500 [40:41<29:57,  8.94s/it]"
     ]
    },
    {
     "name": "stdout",
     "output_type": "stream",
     "text": [
      "Test on 1143 samples\n",
      "R^2: -0.06\n",
      "Test Loss: 1.75%\n",
      "Train Epoch: 300 [0/19577 (0%)]\tLoss: 0.012918\n",
      "Train Epoch: 300 [3200/19577 (16%)]\tLoss: 0.003547\n",
      "Train Epoch: 300 [6400/19577 (33%)]\tLoss: 0.006359\n",
      "Train Epoch: 300 [9600/19577 (49%)]\tLoss: 0.007326\n",
      "Train Epoch: 300 [12800/19577 (65%)]\tLoss: 0.008580\n",
      "Train Epoch: 300 [16000/19577 (82%)]\tLoss: 0.007410\n",
      "Train Epoch: 300 [19200/19577 (98%)]\tLoss: 0.011002\n",
      "\n",
      "Train loss: 0.007561580285207776\n"
     ]
    },
    {
     "name": "stderr",
     "output_type": "stream",
     "text": [
      "\r",
      " 60%|██████    | 300/500 [40:50<29:54,  8.97s/it]"
     ]
    },
    {
     "name": "stdout",
     "output_type": "stream",
     "text": [
      "Test on 1143 samples\n",
      "R^2: -1.04\n",
      "Test Loss: 1.74%\n",
      "Train Epoch: 301 [0/19577 (0%)]\tLoss: 0.007278\n",
      "Train Epoch: 301 [3200/19577 (16%)]\tLoss: 0.004298\n",
      "Train Epoch: 301 [6400/19577 (33%)]\tLoss: 0.022529\n",
      "Train Epoch: 301 [9600/19577 (49%)]\tLoss: 0.006496\n",
      "Train Epoch: 301 [12800/19577 (65%)]\tLoss: 0.014441\n",
      "Train Epoch: 301 [16000/19577 (82%)]\tLoss: 0.003273\n",
      "Train Epoch: 301 [19200/19577 (98%)]\tLoss: 0.004779\n",
      "\n",
      "Train loss: 0.007563777459675775\n"
     ]
    },
    {
     "name": "stderr",
     "output_type": "stream",
     "text": [
      "\r",
      " 60%|██████    | 301/500 [41:05<36:18, 10.95s/it]"
     ]
    },
    {
     "name": "stdout",
     "output_type": "stream",
     "text": [
      "Test on 1143 samples\n",
      "R^2: -0.64\n",
      "Test Loss: 1.76%\n",
      "Train Epoch: 302 [0/19577 (0%)]\tLoss: 0.006680\n",
      "Train Epoch: 302 [3200/19577 (16%)]\tLoss: 0.005963\n",
      "Train Epoch: 302 [6400/19577 (33%)]\tLoss: 0.003992\n",
      "Train Epoch: 302 [9600/19577 (49%)]\tLoss: 0.007551\n",
      "Train Epoch: 302 [12800/19577 (65%)]\tLoss: 0.006379\n",
      "Train Epoch: 302 [16000/19577 (82%)]\tLoss: 0.004575\n",
      "Train Epoch: 302 [19200/19577 (98%)]\tLoss: 0.008395\n",
      "\n",
      "Train loss: 0.007589078912727559\n"
     ]
    },
    {
     "name": "stderr",
     "output_type": "stream",
     "text": [
      "\r",
      " 60%|██████    | 302/500 [41:13<33:15, 10.08s/it]"
     ]
    },
    {
     "name": "stdout",
     "output_type": "stream",
     "text": [
      "Test on 1143 samples\n",
      "R^2: -0.06\n",
      "Test Loss: 1.74%\n",
      "Train Epoch: 303 [0/19577 (0%)]\tLoss: 0.005094\n",
      "Train Epoch: 303 [3200/19577 (16%)]\tLoss: 0.004833\n",
      "Train Epoch: 303 [6400/19577 (33%)]\tLoss: 0.004445\n",
      "Train Epoch: 303 [9600/19577 (49%)]\tLoss: 0.007300\n",
      "Train Epoch: 303 [12800/19577 (65%)]\tLoss: 0.005540\n",
      "Train Epoch: 303 [16000/19577 (82%)]\tLoss: 0.006585\n",
      "Train Epoch: 303 [19200/19577 (98%)]\tLoss: 0.010326\n",
      "\n",
      "Train loss: 0.007551272268851403\n"
     ]
    },
    {
     "name": "stderr",
     "output_type": "stream",
     "text": [
      "\r",
      " 61%|██████    | 303/500 [41:22<31:29,  9.59s/it]"
     ]
    },
    {
     "name": "stdout",
     "output_type": "stream",
     "text": [
      "Test on 1143 samples\n",
      "R^2: -2.49\n",
      "Test Loss: 1.75%\n",
      "Train Epoch: 304 [0/19577 (0%)]\tLoss: 0.004220\n",
      "Train Epoch: 304 [3200/19577 (16%)]\tLoss: 0.002604\n",
      "Train Epoch: 304 [6400/19577 (33%)]\tLoss: 0.007755\n",
      "Train Epoch: 304 [9600/19577 (49%)]\tLoss: 0.008918\n",
      "Train Epoch: 304 [12800/19577 (65%)]\tLoss: 0.004358\n",
      "Train Epoch: 304 [16000/19577 (82%)]\tLoss: 0.002817\n",
      "Train Epoch: 304 [19200/19577 (98%)]\tLoss: 0.003156\n",
      "\n",
      "Train loss: 0.007572165926997519\n"
     ]
    },
    {
     "name": "stderr",
     "output_type": "stream",
     "text": [
      "\r",
      " 61%|██████    | 304/500 [41:29<29:00,  8.88s/it]"
     ]
    },
    {
     "name": "stdout",
     "output_type": "stream",
     "text": [
      "Test on 1143 samples\n",
      "R^2: -0.61\n",
      "Test Loss: 1.76%\n",
      "Train Epoch: 305 [0/19577 (0%)]\tLoss: 0.008047\n",
      "Train Epoch: 305 [3200/19577 (16%)]\tLoss: 0.003150\n",
      "Train Epoch: 305 [6400/19577 (33%)]\tLoss: 0.043874\n",
      "Train Epoch: 305 [9600/19577 (49%)]\tLoss: 0.008831\n",
      "Train Epoch: 305 [12800/19577 (65%)]\tLoss: 0.003928\n",
      "Train Epoch: 305 [16000/19577 (82%)]\tLoss: 0.005908\n",
      "Train Epoch: 305 [19200/19577 (98%)]\tLoss: 0.003810\n",
      "\n",
      "Train loss: 0.007554624612394452\n"
     ]
    },
    {
     "name": "stderr",
     "output_type": "stream",
     "text": [
      "\r",
      " 61%|██████    | 305/500 [41:36<27:15,  8.39s/it]"
     ]
    },
    {
     "name": "stdout",
     "output_type": "stream",
     "text": [
      "Test on 1143 samples\n",
      "R^2: -0.05\n",
      "Test Loss: 1.74%\n",
      "Train Epoch: 306 [0/19577 (0%)]\tLoss: 0.011196\n",
      "Train Epoch: 306 [3200/19577 (16%)]\tLoss: 0.004312\n",
      "Train Epoch: 306 [6400/19577 (33%)]\tLoss: 0.003568\n",
      "Train Epoch: 306 [9600/19577 (49%)]\tLoss: 0.005977\n",
      "Train Epoch: 306 [12800/19577 (65%)]\tLoss: 0.003969\n",
      "Train Epoch: 306 [16000/19577 (82%)]\tLoss: 0.005092\n",
      "Train Epoch: 306 [19200/19577 (98%)]\tLoss: 0.007943\n",
      "\n",
      "Train loss: 0.0075661396665583835\n"
     ]
    },
    {
     "name": "stderr",
     "output_type": "stream",
     "text": [
      "\r",
      " 61%|██████    | 306/500 [41:44<26:27,  8.18s/it]"
     ]
    },
    {
     "name": "stdout",
     "output_type": "stream",
     "text": [
      "Test on 1143 samples\n",
      "R^2: -0.24\n",
      "Test Loss: 1.75%\n",
      "Train Epoch: 307 [0/19577 (0%)]\tLoss: 0.006333\n",
      "Train Epoch: 307 [3200/19577 (16%)]\tLoss: 0.003460\n",
      "Train Epoch: 307 [6400/19577 (33%)]\tLoss: 0.008797\n",
      "Train Epoch: 307 [9600/19577 (49%)]\tLoss: 0.005502\n",
      "Train Epoch: 307 [12800/19577 (65%)]\tLoss: 0.002214\n",
      "Train Epoch: 307 [16000/19577 (82%)]\tLoss: 0.007802\n",
      "Train Epoch: 307 [19200/19577 (98%)]\tLoss: 0.004484\n",
      "\n",
      "Train loss: 0.0075616017067683195\n"
     ]
    },
    {
     "name": "stderr",
     "output_type": "stream",
     "text": [
      "\r",
      " 61%|██████▏   | 307/500 [41:52<25:50,  8.03s/it]"
     ]
    },
    {
     "name": "stdout",
     "output_type": "stream",
     "text": [
      "Test on 1143 samples\n",
      "R^2: -0.15\n",
      "Test Loss: 1.73%\n",
      "Train Epoch: 308 [0/19577 (0%)]\tLoss: 0.004690\n",
      "Train Epoch: 308 [3200/19577 (16%)]\tLoss: 0.004733\n",
      "Train Epoch: 308 [6400/19577 (33%)]\tLoss: 0.006121\n",
      "Train Epoch: 308 [9600/19577 (49%)]\tLoss: 0.006367\n",
      "Train Epoch: 308 [12800/19577 (65%)]\tLoss: 0.003844\n",
      "Train Epoch: 308 [16000/19577 (82%)]\tLoss: 0.005999\n",
      "Train Epoch: 308 [19200/19577 (98%)]\tLoss: 0.004517\n",
      "\n",
      "Train loss: 0.007557796110061235\n"
     ]
    },
    {
     "name": "stderr",
     "output_type": "stream",
     "text": [
      "\r",
      " 62%|██████▏   | 308/500 [42:00<26:06,  8.16s/it]"
     ]
    },
    {
     "name": "stdout",
     "output_type": "stream",
     "text": [
      "Test on 1143 samples\n",
      "R^2: -0.91\n",
      "Test Loss: 1.76%\n",
      "Train Epoch: 309 [0/19577 (0%)]\tLoss: 0.004714\n",
      "Train Epoch: 309 [3200/19577 (16%)]\tLoss: 0.009463\n",
      "Train Epoch: 309 [6400/19577 (33%)]\tLoss: 0.005426\n",
      "Train Epoch: 309 [9600/19577 (49%)]\tLoss: 0.007339\n",
      "Train Epoch: 309 [12800/19577 (65%)]\tLoss: 0.006305\n",
      "Train Epoch: 309 [16000/19577 (82%)]\tLoss: 0.004737\n",
      "Train Epoch: 309 [19200/19577 (98%)]\tLoss: 0.005976\n",
      "\n",
      "Train loss: 0.007549397840265038\n"
     ]
    },
    {
     "name": "stderr",
     "output_type": "stream",
     "text": [
      "\r",
      " 62%|██████▏   | 309/500 [42:09<26:34,  8.35s/it]"
     ]
    },
    {
     "name": "stdout",
     "output_type": "stream",
     "text": [
      "Test on 1143 samples\n",
      "R^2: -0.88\n",
      "Test Loss: 1.74%\n",
      "Train Epoch: 310 [0/19577 (0%)]\tLoss: 0.004191\n",
      "Train Epoch: 310 [3200/19577 (16%)]\tLoss: 0.007341\n",
      "Train Epoch: 310 [6400/19577 (33%)]\tLoss: 0.005098\n",
      "Train Epoch: 310 [9600/19577 (49%)]\tLoss: 0.005172\n",
      "Train Epoch: 310 [12800/19577 (65%)]\tLoss: 0.004542\n",
      "Train Epoch: 310 [16000/19577 (82%)]\tLoss: 0.003185\n",
      "Train Epoch: 310 [19200/19577 (98%)]\tLoss: 0.005893\n",
      "\n",
      "Train loss: 0.007541019512870002\n"
     ]
    },
    {
     "name": "stderr",
     "output_type": "stream",
     "text": [
      "\r",
      " 62%|██████▏   | 310/500 [42:17<26:00,  8.21s/it]"
     ]
    },
    {
     "name": "stdout",
     "output_type": "stream",
     "text": [
      "Test on 1143 samples\n",
      "R^2: -0.06\n",
      "Test Loss: 1.73%\n",
      "Train Epoch: 311 [0/19577 (0%)]\tLoss: 0.006637\n",
      "Train Epoch: 311 [3200/19577 (16%)]\tLoss: 0.004717\n",
      "Train Epoch: 311 [6400/19577 (33%)]\tLoss: 0.003989\n",
      "Train Epoch: 311 [9600/19577 (49%)]\tLoss: 0.009177\n",
      "Train Epoch: 311 [12800/19577 (65%)]\tLoss: 0.005573\n",
      "Train Epoch: 311 [16000/19577 (82%)]\tLoss: 0.005258\n",
      "Train Epoch: 311 [19200/19577 (98%)]\tLoss: 0.005495\n",
      "\n",
      "Train loss: 0.007545023398729516\n"
     ]
    },
    {
     "name": "stderr",
     "output_type": "stream",
     "text": [
      "\r",
      " 62%|██████▏   | 311/500 [42:25<25:24,  8.07s/it]"
     ]
    },
    {
     "name": "stdout",
     "output_type": "stream",
     "text": [
      "Test on 1143 samples\n",
      "R^2: -1.19\n",
      "Test Loss: 1.73%\n",
      "Train Epoch: 312 [0/19577 (0%)]\tLoss: 0.004995\n",
      "Train Epoch: 312 [3200/19577 (16%)]\tLoss: 0.007366\n",
      "Train Epoch: 312 [6400/19577 (33%)]\tLoss: 0.005792\n",
      "Train Epoch: 312 [9600/19577 (49%)]\tLoss: 0.005040\n",
      "Train Epoch: 312 [12800/19577 (65%)]\tLoss: 0.010033\n",
      "Train Epoch: 312 [16000/19577 (82%)]\tLoss: 0.004015\n",
      "Train Epoch: 312 [19200/19577 (98%)]\tLoss: 0.004379\n",
      "\n",
      "Train loss: 0.007537733477363789\n"
     ]
    },
    {
     "name": "stderr",
     "output_type": "stream",
     "text": [
      "\r",
      " 62%|██████▏   | 312/500 [42:33<25:12,  8.05s/it]"
     ]
    },
    {
     "name": "stdout",
     "output_type": "stream",
     "text": [
      "Test on 1143 samples\n",
      "R^2: -2.49\n",
      "Test Loss: 1.74%\n",
      "Train Epoch: 313 [0/19577 (0%)]\tLoss: 0.005471\n",
      "Train Epoch: 313 [3200/19577 (16%)]\tLoss: 0.004331\n",
      "Train Epoch: 313 [6400/19577 (33%)]\tLoss: 0.002824\n",
      "Train Epoch: 313 [9600/19577 (49%)]\tLoss: 0.006883\n",
      "Train Epoch: 313 [12800/19577 (65%)]\tLoss: 0.002396\n",
      "Train Epoch: 313 [16000/19577 (82%)]\tLoss: 0.005858\n",
      "Train Epoch: 313 [19200/19577 (98%)]\tLoss: 0.003254\n",
      "\n",
      "Train loss: 0.0075451544040107945\n"
     ]
    },
    {
     "name": "stderr",
     "output_type": "stream",
     "text": [
      "\r",
      " 63%|██████▎   | 313/500 [42:40<24:26,  7.84s/it]"
     ]
    },
    {
     "name": "stdout",
     "output_type": "stream",
     "text": [
      "Test on 1143 samples\n",
      "R^2: -0.04\n",
      "Test Loss: 1.73%\n",
      "Train Epoch: 314 [0/19577 (0%)]\tLoss: 0.002927\n",
      "Train Epoch: 314 [3200/19577 (16%)]\tLoss: 0.005089\n",
      "Train Epoch: 314 [6400/19577 (33%)]\tLoss: 0.004611\n",
      "Train Epoch: 314 [9600/19577 (49%)]\tLoss: 0.006950\n",
      "Train Epoch: 314 [12800/19577 (65%)]\tLoss: 0.004828\n",
      "Train Epoch: 314 [16000/19577 (82%)]\tLoss: 0.003938\n",
      "Train Epoch: 314 [19200/19577 (98%)]\tLoss: 0.004029\n",
      "\n",
      "Train loss: 0.00752113810801282\n"
     ]
    },
    {
     "name": "stderr",
     "output_type": "stream",
     "text": [
      "\r",
      " 63%|██████▎   | 314/500 [42:47<23:57,  7.73s/it]"
     ]
    },
    {
     "name": "stdout",
     "output_type": "stream",
     "text": [
      "Test on 1143 samples\n",
      "R^2: -0.27\n",
      "Test Loss: 1.73%\n",
      "Train Epoch: 315 [0/19577 (0%)]\tLoss: 0.003921\n",
      "Train Epoch: 315 [3200/19577 (16%)]\tLoss: 0.007094\n",
      "Train Epoch: 315 [6400/19577 (33%)]\tLoss: 0.003014\n",
      "Train Epoch: 315 [9600/19577 (49%)]\tLoss: 0.006296\n",
      "Train Epoch: 315 [12800/19577 (65%)]\tLoss: 0.076288\n",
      "Train Epoch: 315 [16000/19577 (82%)]\tLoss: 0.002936\n",
      "Train Epoch: 315 [19200/19577 (98%)]\tLoss: 0.006800\n",
      "\n",
      "Train loss: 0.007523798149800403\n"
     ]
    },
    {
     "name": "stderr",
     "output_type": "stream",
     "text": [
      "\r",
      " 63%|██████▎   | 315/500 [42:55<23:34,  7.65s/it]"
     ]
    },
    {
     "name": "stdout",
     "output_type": "stream",
     "text": [
      "Test on 1143 samples\n",
      "R^2: -3.95\n",
      "Test Loss: 1.76%\n",
      "Train Epoch: 316 [0/19577 (0%)]\tLoss: 0.005862\n",
      "Train Epoch: 316 [3200/19577 (16%)]\tLoss: 0.008737\n",
      "Train Epoch: 316 [6400/19577 (33%)]\tLoss: 0.003138\n",
      "Train Epoch: 316 [9600/19577 (49%)]\tLoss: 0.003308\n",
      "Train Epoch: 316 [12800/19577 (65%)]\tLoss: 0.007472\n",
      "Train Epoch: 316 [16000/19577 (82%)]\tLoss: 0.012943\n",
      "Train Epoch: 316 [19200/19577 (98%)]\tLoss: 0.009656\n",
      "\n",
      "Train loss: 0.007535224422063751\n"
     ]
    },
    {
     "name": "stderr",
     "output_type": "stream",
     "text": [
      "\r",
      " 63%|██████▎   | 316/500 [43:07<27:50,  9.08s/it]"
     ]
    },
    {
     "name": "stdout",
     "output_type": "stream",
     "text": [
      "Test on 1143 samples\n",
      "R^2: -1.50\n",
      "Test Loss: 1.73%\n",
      "Train Epoch: 317 [0/19577 (0%)]\tLoss: 0.007336\n",
      "Train Epoch: 317 [3200/19577 (16%)]\tLoss: 0.005550\n",
      "Train Epoch: 317 [6400/19577 (33%)]\tLoss: 0.005460\n",
      "Train Epoch: 317 [9600/19577 (49%)]\tLoss: 0.004894\n",
      "Train Epoch: 317 [12800/19577 (65%)]\tLoss: 0.004877\n",
      "Train Epoch: 317 [16000/19577 (82%)]\tLoss: 0.004443\n",
      "Train Epoch: 317 [19200/19577 (98%)]\tLoss: 0.004477\n",
      "\n",
      "Train loss: 0.007500865827299338\n"
     ]
    },
    {
     "name": "stderr",
     "output_type": "stream",
     "text": [
      "\r",
      " 63%|██████▎   | 317/500 [43:22<32:57, 10.81s/it]"
     ]
    },
    {
     "name": "stdout",
     "output_type": "stream",
     "text": [
      "Test on 1143 samples\n",
      "R^2: -0.89\n",
      "Test Loss: 1.73%\n",
      "Train Epoch: 318 [0/19577 (0%)]\tLoss: 0.003851\n",
      "Train Epoch: 318 [3200/19577 (16%)]\tLoss: 0.003352\n",
      "Train Epoch: 318 [6400/19577 (33%)]\tLoss: 0.004531\n",
      "Train Epoch: 318 [9600/19577 (49%)]\tLoss: 0.014530\n",
      "Train Epoch: 318 [12800/19577 (65%)]\tLoss: 0.004762\n",
      "Train Epoch: 318 [16000/19577 (82%)]\tLoss: 0.005523\n",
      "Train Epoch: 318 [19200/19577 (98%)]\tLoss: 0.002737\n",
      "\n",
      "Train loss: 0.007516191188425581\n"
     ]
    },
    {
     "name": "stderr",
     "output_type": "stream",
     "text": [
      "\r",
      " 64%|██████▎   | 318/500 [43:37<36:10, 11.92s/it]"
     ]
    },
    {
     "name": "stdout",
     "output_type": "stream",
     "text": [
      "Test on 1143 samples\n",
      "R^2: -0.05\n",
      "Test Loss: 1.73%\n",
      "Train Epoch: 319 [0/19577 (0%)]\tLoss: 0.004370\n",
      "Train Epoch: 319 [3200/19577 (16%)]\tLoss: 0.022626\n",
      "Train Epoch: 319 [6400/19577 (33%)]\tLoss: 0.005418\n",
      "Train Epoch: 319 [9600/19577 (49%)]\tLoss: 0.002514\n",
      "Train Epoch: 319 [12800/19577 (65%)]\tLoss: 0.005265\n",
      "Train Epoch: 319 [16000/19577 (82%)]\tLoss: 0.005895\n",
      "Train Epoch: 319 [19200/19577 (98%)]\tLoss: 0.005045\n",
      "\n",
      "Train loss: 0.00748493669180236\n"
     ]
    },
    {
     "name": "stderr",
     "output_type": "stream",
     "text": [
      "\r",
      " 64%|██████▍   | 319/500 [43:47<34:31, 11.45s/it]"
     ]
    },
    {
     "name": "stdout",
     "output_type": "stream",
     "text": [
      "Test on 1143 samples\n",
      "R^2: -0.90\n",
      "Test Loss: 1.73%\n",
      "Train Epoch: 320 [0/19577 (0%)]\tLoss: 0.002934\n",
      "Train Epoch: 320 [3200/19577 (16%)]\tLoss: 0.006895\n",
      "Train Epoch: 320 [6400/19577 (33%)]\tLoss: 0.008024\n",
      "Train Epoch: 320 [9600/19577 (49%)]\tLoss: 0.006676\n",
      "Train Epoch: 320 [12800/19577 (65%)]\tLoss: 0.005645\n",
      "Train Epoch: 320 [16000/19577 (82%)]\tLoss: 0.006690\n",
      "Train Epoch: 320 [19200/19577 (98%)]\tLoss: 0.004142\n",
      "\n",
      "Train loss: 0.0075306962103449\n"
     ]
    },
    {
     "name": "stderr",
     "output_type": "stream",
     "text": [
      "\r",
      " 64%|██████▍   | 320/500 [43:55<31:14, 10.42s/it]"
     ]
    },
    {
     "name": "stdout",
     "output_type": "stream",
     "text": [
      "Test on 1143 samples\n",
      "R^2: -0.90\n",
      "Test Loss: 1.72%\n",
      "Train Epoch: 321 [0/19577 (0%)]\tLoss: 0.005039\n",
      "Train Epoch: 321 [3200/19577 (16%)]\tLoss: 0.005940\n",
      "Train Epoch: 321 [6400/19577 (33%)]\tLoss: 0.005460\n",
      "Train Epoch: 321 [9600/19577 (49%)]\tLoss: 0.011540\n",
      "Train Epoch: 321 [12800/19577 (65%)]\tLoss: 0.005530\n",
      "Train Epoch: 321 [16000/19577 (82%)]\tLoss: 0.010693\n",
      "Train Epoch: 321 [19200/19577 (98%)]\tLoss: 0.014968\n",
      "\n",
      "Train loss: 0.007480494065128048\n"
     ]
    },
    {
     "name": "stderr",
     "output_type": "stream",
     "text": [
      "\r",
      " 64%|██████▍   | 321/500 [44:05<30:29, 10.22s/it]"
     ]
    },
    {
     "name": "stdout",
     "output_type": "stream",
     "text": [
      "Test on 1143 samples\n",
      "R^2: -2.70\n",
      "Test Loss: 1.74%\n",
      "Train Epoch: 322 [0/19577 (0%)]\tLoss: 0.007484\n",
      "Train Epoch: 322 [3200/19577 (16%)]\tLoss: 0.004835\n",
      "Train Epoch: 322 [6400/19577 (33%)]\tLoss: 0.006532\n",
      "Train Epoch: 322 [9600/19577 (49%)]\tLoss: 0.004599\n",
      "Train Epoch: 322 [12800/19577 (65%)]\tLoss: 0.006924\n",
      "Train Epoch: 322 [16000/19577 (82%)]\tLoss: 0.010085\n",
      "Train Epoch: 322 [19200/19577 (98%)]\tLoss: 0.004591\n",
      "\n",
      "Train loss: 0.007490499508932379\n"
     ]
    },
    {
     "name": "stderr",
     "output_type": "stream",
     "text": [
      "\r",
      " 64%|██████▍   | 322/500 [44:13<28:13,  9.51s/it]"
     ]
    },
    {
     "name": "stdout",
     "output_type": "stream",
     "text": [
      "Test on 1143 samples\n",
      "R^2: -0.19\n",
      "Test Loss: 1.72%\n",
      "Train Epoch: 323 [0/19577 (0%)]\tLoss: 0.003291\n",
      "Train Epoch: 323 [3200/19577 (16%)]\tLoss: 0.008252\n",
      "Train Epoch: 323 [6400/19577 (33%)]\tLoss: 0.003636\n",
      "Train Epoch: 323 [9600/19577 (49%)]\tLoss: 0.015140\n",
      "Train Epoch: 323 [12800/19577 (65%)]\tLoss: 0.002410\n",
      "Train Epoch: 323 [16000/19577 (82%)]\tLoss: 0.005826\n",
      "Train Epoch: 323 [19200/19577 (98%)]\tLoss: 0.005376\n",
      "\n",
      "Train loss: 0.00749378040314232\n"
     ]
    },
    {
     "name": "stderr",
     "output_type": "stream",
     "text": [
      "\r",
      " 65%|██████▍   | 323/500 [44:25<30:15, 10.26s/it]"
     ]
    },
    {
     "name": "stdout",
     "output_type": "stream",
     "text": [
      "Test on 1143 samples\n",
      "R^2: -0.22\n",
      "Test Loss: 1.74%\n",
      "Train Epoch: 324 [0/19577 (0%)]\tLoss: 0.004327\n",
      "Train Epoch: 324 [3200/19577 (16%)]\tLoss: 0.005619\n",
      "Train Epoch: 324 [6400/19577 (33%)]\tLoss: 0.006767\n",
      "Train Epoch: 324 [9600/19577 (49%)]\tLoss: 0.007393\n",
      "Train Epoch: 324 [12800/19577 (65%)]\tLoss: 0.008195\n",
      "Train Epoch: 324 [16000/19577 (82%)]\tLoss: 0.002400\n",
      "Train Epoch: 324 [19200/19577 (98%)]\tLoss: 0.004267\n",
      "\n",
      "Train loss: 0.007508099743003769\n"
     ]
    },
    {
     "name": "stderr",
     "output_type": "stream",
     "text": [
      "\r",
      " 65%|██████▍   | 324/500 [44:34<29:27, 10.04s/it]"
     ]
    },
    {
     "name": "stdout",
     "output_type": "stream",
     "text": [
      "Test on 1143 samples\n",
      "R^2: -0.20\n",
      "Test Loss: 1.72%\n",
      "Train Epoch: 325 [0/19577 (0%)]\tLoss: 0.005863\n",
      "Train Epoch: 325 [3200/19577 (16%)]\tLoss: 0.006929\n",
      "Train Epoch: 325 [6400/19577 (33%)]\tLoss: 0.004478\n",
      "Train Epoch: 325 [9600/19577 (49%)]\tLoss: 0.003752\n",
      "Train Epoch: 325 [12800/19577 (65%)]\tLoss: 0.007922\n",
      "Train Epoch: 325 [16000/19577 (82%)]\tLoss: 0.006220\n",
      "Train Epoch: 325 [19200/19577 (98%)]\tLoss: 0.005653\n",
      "\n",
      "Train loss: 0.007479537710976586\n"
     ]
    },
    {
     "name": "stderr",
     "output_type": "stream",
     "text": [
      "\r",
      " 65%|██████▌   | 325/500 [44:43<27:58,  9.59s/it]"
     ]
    },
    {
     "name": "stdout",
     "output_type": "stream",
     "text": [
      "Test on 1143 samples\n",
      "R^2: -0.31\n",
      "Test Loss: 1.72%\n",
      "Train Epoch: 326 [0/19577 (0%)]\tLoss: 0.004772\n",
      "Train Epoch: 326 [3200/19577 (16%)]\tLoss: 0.006994\n",
      "Train Epoch: 326 [6400/19577 (33%)]\tLoss: 0.006751\n",
      "Train Epoch: 326 [9600/19577 (49%)]\tLoss: 0.003574\n",
      "Train Epoch: 326 [12800/19577 (65%)]\tLoss: 0.004586\n",
      "Train Epoch: 326 [16000/19577 (82%)]\tLoss: 0.007374\n",
      "Train Epoch: 326 [19200/19577 (98%)]\tLoss: 0.003505\n",
      "\n",
      "Train loss: 0.007484448590510665\n"
     ]
    },
    {
     "name": "stderr",
     "output_type": "stream",
     "text": [
      "\r",
      " 65%|██████▌   | 326/500 [44:51<26:48,  9.24s/it]"
     ]
    },
    {
     "name": "stdout",
     "output_type": "stream",
     "text": [
      "Test on 1143 samples\n",
      "R^2: -0.13\n",
      "Test Loss: 1.72%\n",
      "Train Epoch: 327 [0/19577 (0%)]\tLoss: 0.008200\n",
      "Train Epoch: 327 [3200/19577 (16%)]\tLoss: 0.003906\n",
      "Train Epoch: 327 [6400/19577 (33%)]\tLoss: 0.008887\n",
      "Train Epoch: 327 [9600/19577 (49%)]\tLoss: 0.008084\n",
      "Train Epoch: 327 [12800/19577 (65%)]\tLoss: 0.010557\n",
      "Train Epoch: 327 [16000/19577 (82%)]\tLoss: 0.008337\n",
      "Train Epoch: 327 [19200/19577 (98%)]\tLoss: 0.007860\n",
      "\n",
      "Train loss: 0.0074686365924148635\n"
     ]
    },
    {
     "name": "stderr",
     "output_type": "stream",
     "text": [
      "\r",
      " 65%|██████▌   | 327/500 [45:00<26:14,  9.10s/it]"
     ]
    },
    {
     "name": "stdout",
     "output_type": "stream",
     "text": [
      "Test on 1143 samples\n",
      "R^2: -0.07\n",
      "Test Loss: 1.72%\n",
      "Train Epoch: 328 [0/19577 (0%)]\tLoss: 0.006047\n",
      "Train Epoch: 328 [3200/19577 (16%)]\tLoss: 0.005728\n",
      "Train Epoch: 328 [6400/19577 (33%)]\tLoss: 0.002486\n",
      "Train Epoch: 328 [9600/19577 (49%)]\tLoss: 0.003228\n",
      "Train Epoch: 328 [12800/19577 (65%)]\tLoss: 0.005858\n",
      "Train Epoch: 328 [16000/19577 (82%)]\tLoss: 0.007907\n",
      "Train Epoch: 328 [19200/19577 (98%)]\tLoss: 0.004587\n",
      "\n",
      "Train loss: 0.007484422327061884\n"
     ]
    },
    {
     "name": "stderr",
     "output_type": "stream",
     "text": [
      "\r",
      " 66%|██████▌   | 328/500 [45:08<25:25,  8.87s/it]"
     ]
    },
    {
     "name": "stdout",
     "output_type": "stream",
     "text": [
      "Test on 1143 samples\n",
      "R^2: -0.11\n",
      "Test Loss: 1.72%\n",
      "Train Epoch: 329 [0/19577 (0%)]\tLoss: 0.009017\n",
      "Train Epoch: 329 [3200/19577 (16%)]\tLoss: 0.006187\n",
      "Train Epoch: 329 [6400/19577 (33%)]\tLoss: 0.003681\n",
      "Train Epoch: 329 [9600/19577 (49%)]\tLoss: 0.004095\n",
      "Train Epoch: 329 [12800/19577 (65%)]\tLoss: 0.011381\n",
      "Train Epoch: 329 [16000/19577 (82%)]\tLoss: 0.002565\n",
      "Train Epoch: 329 [19200/19577 (98%)]\tLoss: 0.007832\n",
      "\n",
      "Train loss: 0.007464452922873783\n"
     ]
    },
    {
     "name": "stderr",
     "output_type": "stream",
     "text": [
      "\r",
      " 66%|██████▌   | 329/500 [45:16<24:33,  8.61s/it]"
     ]
    },
    {
     "name": "stdout",
     "output_type": "stream",
     "text": [
      "Test on 1143 samples\n",
      "R^2: -0.10\n",
      "Test Loss: 1.73%\n",
      "Train Epoch: 330 [0/19577 (0%)]\tLoss: 0.007641\n",
      "Train Epoch: 330 [3200/19577 (16%)]\tLoss: 0.002277\n",
      "Train Epoch: 330 [6400/19577 (33%)]\tLoss: 0.007811\n",
      "Train Epoch: 330 [9600/19577 (49%)]\tLoss: 0.008568\n",
      "Train Epoch: 330 [12800/19577 (65%)]\tLoss: 0.005678\n",
      "Train Epoch: 330 [16000/19577 (82%)]\tLoss: 0.006194\n",
      "Train Epoch: 330 [19200/19577 (98%)]\tLoss: 0.010603\n",
      "\n",
      "Train loss: 0.007469798391456625\n"
     ]
    },
    {
     "name": "stderr",
     "output_type": "stream",
     "text": [
      "\r",
      " 66%|██████▌   | 330/500 [45:24<23:25,  8.27s/it]"
     ]
    },
    {
     "name": "stdout",
     "output_type": "stream",
     "text": [
      "Test on 1143 samples\n",
      "R^2: -0.18\n",
      "Test Loss: 1.73%\n",
      "Train Epoch: 331 [0/19577 (0%)]\tLoss: 0.007513\n",
      "Train Epoch: 331 [3200/19577 (16%)]\tLoss: 0.008389\n",
      "Train Epoch: 331 [6400/19577 (33%)]\tLoss: 0.008055\n",
      "Train Epoch: 331 [9600/19577 (49%)]\tLoss: 0.004297\n",
      "Train Epoch: 331 [12800/19577 (65%)]\tLoss: 0.003337\n",
      "Train Epoch: 331 [16000/19577 (82%)]\tLoss: 0.003904\n",
      "Train Epoch: 331 [19200/19577 (98%)]\tLoss: 0.002023\n",
      "\n",
      "Train loss: 0.007472169704984849\n"
     ]
    },
    {
     "name": "stderr",
     "output_type": "stream",
     "text": [
      "\r",
      " 66%|██████▌   | 331/500 [45:31<22:50,  8.11s/it]"
     ]
    },
    {
     "name": "stdout",
     "output_type": "stream",
     "text": [
      "Test on 1143 samples\n",
      "R^2: -0.41\n",
      "Test Loss: 1.73%\n",
      "Train Epoch: 332 [0/19577 (0%)]\tLoss: 0.005889\n",
      "Train Epoch: 332 [3200/19577 (16%)]\tLoss: 0.003632\n",
      "Train Epoch: 332 [6400/19577 (33%)]\tLoss: 0.002985\n",
      "Train Epoch: 332 [9600/19577 (49%)]\tLoss: 0.007639\n",
      "Train Epoch: 332 [12800/19577 (65%)]\tLoss: 0.007183\n",
      "Train Epoch: 332 [16000/19577 (82%)]\tLoss: 0.008772\n",
      "Train Epoch: 332 [19200/19577 (98%)]\tLoss: 0.009897\n",
      "\n",
      "Train loss: 0.007458343054167926\n"
     ]
    },
    {
     "name": "stderr",
     "output_type": "stream",
     "text": [
      "\r",
      " 66%|██████▋   | 332/500 [45:40<23:06,  8.25s/it]"
     ]
    },
    {
     "name": "stdout",
     "output_type": "stream",
     "text": [
      "Test on 1143 samples\n",
      "R^2: -0.36\n",
      "Test Loss: 1.73%\n",
      "Train Epoch: 333 [0/19577 (0%)]\tLoss: 0.005026\n",
      "Train Epoch: 333 [3200/19577 (16%)]\tLoss: 0.011391\n",
      "Train Epoch: 333 [6400/19577 (33%)]\tLoss: 0.006186\n",
      "Train Epoch: 333 [9600/19577 (49%)]\tLoss: 0.011194\n",
      "Train Epoch: 333 [12800/19577 (65%)]\tLoss: 0.006354\n",
      "Train Epoch: 333 [16000/19577 (82%)]\tLoss: 0.003259\n",
      "Train Epoch: 333 [19200/19577 (98%)]\tLoss: 0.006000\n",
      "\n",
      "Train loss: 0.007484226661819502\n"
     ]
    },
    {
     "name": "stderr",
     "output_type": "stream",
     "text": [
      "\r",
      " 67%|██████▋   | 333/500 [45:48<22:57,  8.25s/it]"
     ]
    },
    {
     "name": "stdout",
     "output_type": "stream",
     "text": [
      "Test on 1143 samples\n",
      "R^2: -0.25\n",
      "Test Loss: 1.72%\n",
      "Train Epoch: 334 [0/19577 (0%)]\tLoss: 0.003242\n",
      "Train Epoch: 334 [3200/19577 (16%)]\tLoss: 0.003686\n",
      "Train Epoch: 334 [6400/19577 (33%)]\tLoss: 0.004361\n",
      "Train Epoch: 334 [9600/19577 (49%)]\tLoss: 0.006888\n",
      "Train Epoch: 334 [12800/19577 (65%)]\tLoss: 0.004360\n",
      "Train Epoch: 334 [16000/19577 (82%)]\tLoss: 0.002868\n",
      "Train Epoch: 334 [19200/19577 (98%)]\tLoss: 0.005852\n",
      "\n",
      "Train loss: 0.007473770872951528\n"
     ]
    },
    {
     "name": "stderr",
     "output_type": "stream",
     "text": [
      "\r",
      " 67%|██████▋   | 334/500 [45:57<22:56,  8.29s/it]"
     ]
    },
    {
     "name": "stdout",
     "output_type": "stream",
     "text": [
      "Test on 1143 samples\n",
      "R^2: -0.31\n",
      "Test Loss: 1.73%\n",
      "Train Epoch: 335 [0/19577 (0%)]\tLoss: 0.008865\n",
      "Train Epoch: 335 [3200/19577 (16%)]\tLoss: 0.003154\n",
      "Train Epoch: 335 [6400/19577 (33%)]\tLoss: 0.011789\n",
      "Train Epoch: 335 [9600/19577 (49%)]\tLoss: 0.006015\n",
      "Train Epoch: 335 [12800/19577 (65%)]\tLoss: 0.004054\n",
      "Train Epoch: 335 [16000/19577 (82%)]\tLoss: 0.006834\n",
      "Train Epoch: 335 [19200/19577 (98%)]\tLoss: 0.009293\n",
      "\n",
      "Train loss: 0.007461580492364352\n"
     ]
    },
    {
     "name": "stderr",
     "output_type": "stream",
     "text": [
      "\r",
      " 67%|██████▋   | 335/500 [46:05<23:08,  8.42s/it]"
     ]
    },
    {
     "name": "stdout",
     "output_type": "stream",
     "text": [
      "Test on 1143 samples\n",
      "R^2: -0.39\n",
      "Test Loss: 1.73%\n",
      "Train Epoch: 336 [0/19577 (0%)]\tLoss: 0.006711\n",
      "Train Epoch: 336 [3200/19577 (16%)]\tLoss: 0.002463\n",
      "Train Epoch: 336 [6400/19577 (33%)]\tLoss: 0.006104\n",
      "Train Epoch: 336 [9600/19577 (49%)]\tLoss: 0.005589\n",
      "Train Epoch: 336 [12800/19577 (65%)]\tLoss: 0.009419\n",
      "Train Epoch: 336 [16000/19577 (82%)]\tLoss: 0.008083\n",
      "Train Epoch: 336 [19200/19577 (98%)]\tLoss: 0.006046\n",
      "\n",
      "Train loss: 0.007467149157271861\n"
     ]
    },
    {
     "name": "stderr",
     "output_type": "stream",
     "text": [
      "\r",
      " 67%|██████▋   | 336/500 [46:13<22:30,  8.24s/it]"
     ]
    },
    {
     "name": "stdout",
     "output_type": "stream",
     "text": [
      "Test on 1143 samples\n",
      "R^2: -0.37\n",
      "Test Loss: 1.73%\n",
      "Train Epoch: 337 [0/19577 (0%)]\tLoss: 0.003547\n",
      "Train Epoch: 337 [3200/19577 (16%)]\tLoss: 0.003190\n",
      "Train Epoch: 337 [6400/19577 (33%)]\tLoss: 0.007745\n",
      "Train Epoch: 337 [9600/19577 (49%)]\tLoss: 0.006160\n",
      "Train Epoch: 337 [12800/19577 (65%)]\tLoss: 0.007361\n",
      "Train Epoch: 337 [16000/19577 (82%)]\tLoss: 0.004376\n",
      "Train Epoch: 337 [19200/19577 (98%)]\tLoss: 0.004768\n",
      "\n",
      "Train loss: 0.007442645585541826\n"
     ]
    },
    {
     "name": "stderr",
     "output_type": "stream",
     "text": [
      "\r",
      " 67%|██████▋   | 337/500 [46:20<21:38,  7.97s/it]"
     ]
    },
    {
     "name": "stdout",
     "output_type": "stream",
     "text": [
      "Test on 1143 samples\n",
      "R^2: -3.34\n",
      "Test Loss: 1.74%\n",
      "Train Epoch: 338 [0/19577 (0%)]\tLoss: 0.009708\n",
      "Train Epoch: 338 [3200/19577 (16%)]\tLoss: 0.004915\n",
      "Train Epoch: 338 [6400/19577 (33%)]\tLoss: 0.009047\n",
      "Train Epoch: 338 [9600/19577 (49%)]\tLoss: 0.007178\n",
      "Train Epoch: 338 [12800/19577 (65%)]\tLoss: 0.003989\n",
      "Train Epoch: 338 [16000/19577 (82%)]\tLoss: 0.010319\n",
      "Train Epoch: 338 [19200/19577 (98%)]\tLoss: 0.004469\n",
      "\n",
      "Train loss: 0.007462404138755565\n"
     ]
    },
    {
     "name": "stderr",
     "output_type": "stream",
     "text": [
      "\r",
      " 68%|██████▊   | 338/500 [46:29<21:40,  8.03s/it]"
     ]
    },
    {
     "name": "stdout",
     "output_type": "stream",
     "text": [
      "Test on 1143 samples\n",
      "R^2: -0.18\n",
      "Test Loss: 1.71%\n",
      "Train Epoch: 339 [0/19577 (0%)]\tLoss: 0.004714\n",
      "Train Epoch: 339 [3200/19577 (16%)]\tLoss: 0.004471\n",
      "Train Epoch: 339 [6400/19577 (33%)]\tLoss: 0.007307\n",
      "Train Epoch: 339 [9600/19577 (49%)]\tLoss: 0.007704\n",
      "Train Epoch: 339 [12800/19577 (65%)]\tLoss: 0.006676\n",
      "Train Epoch: 339 [16000/19577 (82%)]\tLoss: 0.009815\n",
      "Train Epoch: 339 [19200/19577 (98%)]\tLoss: 0.007147\n",
      "\n",
      "Train loss: 0.007430000519045184\n"
     ]
    },
    {
     "name": "stderr",
     "output_type": "stream",
     "text": [
      "\r",
      " 68%|██████▊   | 339/500 [46:37<21:57,  8.18s/it]"
     ]
    },
    {
     "name": "stdout",
     "output_type": "stream",
     "text": [
      "Test on 1143 samples\n",
      "R^2: -0.72\n",
      "Test Loss: 1.73%\n",
      "Train Epoch: 340 [0/19577 (0%)]\tLoss: 0.004522\n",
      "Train Epoch: 340 [3200/19577 (16%)]\tLoss: 0.003466\n",
      "Train Epoch: 340 [6400/19577 (33%)]\tLoss: 0.003100\n",
      "Train Epoch: 340 [9600/19577 (49%)]\tLoss: 0.008845\n",
      "Train Epoch: 340 [12800/19577 (65%)]\tLoss: 0.010381\n",
      "Train Epoch: 340 [16000/19577 (82%)]\tLoss: 0.010971\n",
      "Train Epoch: 340 [19200/19577 (98%)]\tLoss: 0.006567\n",
      "\n",
      "Train loss: 0.007430524701477801\n"
     ]
    },
    {
     "name": "stderr",
     "output_type": "stream",
     "text": [
      "\r",
      " 68%|██████▊   | 340/500 [46:45<21:23,  8.02s/it]"
     ]
    },
    {
     "name": "stdout",
     "output_type": "stream",
     "text": [
      "Test on 1143 samples\n",
      "R^2: -2.34\n",
      "Test Loss: 1.72%\n",
      "Train Epoch: 341 [0/19577 (0%)]\tLoss: 0.006722\n",
      "Train Epoch: 341 [3200/19577 (16%)]\tLoss: 0.004987\n",
      "Train Epoch: 341 [6400/19577 (33%)]\tLoss: 0.005600\n",
      "Train Epoch: 341 [9600/19577 (49%)]\tLoss: 0.004821\n",
      "Train Epoch: 341 [12800/19577 (65%)]\tLoss: 0.003735\n",
      "Train Epoch: 341 [16000/19577 (82%)]\tLoss: 0.004486\n",
      "Train Epoch: 341 [19200/19577 (98%)]\tLoss: 0.004621\n",
      "\n",
      "Train loss: 0.00743707849680647\n"
     ]
    },
    {
     "name": "stderr",
     "output_type": "stream",
     "text": [
      "\r",
      " 68%|██████▊   | 341/500 [46:54<21:47,  8.22s/it]"
     ]
    },
    {
     "name": "stdout",
     "output_type": "stream",
     "text": [
      "Test on 1143 samples\n",
      "R^2: -0.06\n",
      "Test Loss: 1.71%\n",
      "Train Epoch: 342 [0/19577 (0%)]\tLoss: 0.016296\n",
      "Train Epoch: 342 [3200/19577 (16%)]\tLoss: 0.004323\n",
      "Train Epoch: 342 [6400/19577 (33%)]\tLoss: 0.003319\n",
      "Train Epoch: 342 [9600/19577 (49%)]\tLoss: 0.006055\n",
      "Train Epoch: 342 [12800/19577 (65%)]\tLoss: 0.005821\n",
      "Train Epoch: 342 [16000/19577 (82%)]\tLoss: 0.078592\n",
      "Train Epoch: 342 [19200/19577 (98%)]\tLoss: 0.002886\n",
      "\n",
      "Train loss: 0.007427272396740425\n"
     ]
    },
    {
     "name": "stderr",
     "output_type": "stream",
     "text": [
      "\r",
      " 68%|██████▊   | 342/500 [47:03<22:26,  8.53s/it]"
     ]
    },
    {
     "name": "stdout",
     "output_type": "stream",
     "text": [
      "Test on 1143 samples\n",
      "R^2: -0.51\n",
      "Test Loss: 1.71%\n",
      "Train Epoch: 343 [0/19577 (0%)]\tLoss: 0.010750\n",
      "Train Epoch: 343 [3200/19577 (16%)]\tLoss: 0.004578\n",
      "Train Epoch: 343 [6400/19577 (33%)]\tLoss: 0.003027\n",
      "Train Epoch: 343 [9600/19577 (49%)]\tLoss: 0.008171\n",
      "Train Epoch: 343 [12800/19577 (65%)]\tLoss: 0.013975\n",
      "Train Epoch: 343 [16000/19577 (82%)]\tLoss: 0.008079\n",
      "Train Epoch: 343 [19200/19577 (98%)]\tLoss: 0.002881\n",
      "\n",
      "Train loss: 0.007433887412071569\n"
     ]
    },
    {
     "name": "stderr",
     "output_type": "stream",
     "text": [
      "\r",
      " 69%|██████▊   | 343/500 [47:11<22:12,  8.49s/it]"
     ]
    },
    {
     "name": "stdout",
     "output_type": "stream",
     "text": [
      "Test on 1143 samples\n",
      "R^2: -0.33\n",
      "Test Loss: 1.71%\n",
      "Train Epoch: 344 [0/19577 (0%)]\tLoss: 0.332981\n",
      "Train Epoch: 344 [3200/19577 (16%)]\tLoss: 0.006480\n",
      "Train Epoch: 344 [6400/19577 (33%)]\tLoss: 0.004841\n",
      "Train Epoch: 344 [9600/19577 (49%)]\tLoss: 0.003642\n",
      "Train Epoch: 344 [12800/19577 (65%)]\tLoss: 0.003996\n",
      "Train Epoch: 344 [16000/19577 (82%)]\tLoss: 0.006254\n",
      "Train Epoch: 344 [19200/19577 (98%)]\tLoss: 0.008679\n",
      "\n",
      "Train loss: 0.007435495766591938\n"
     ]
    },
    {
     "name": "stderr",
     "output_type": "stream",
     "text": [
      "\r",
      " 69%|██████▉   | 344/500 [47:20<22:07,  8.51s/it]"
     ]
    },
    {
     "name": "stdout",
     "output_type": "stream",
     "text": [
      "Test on 1143 samples\n",
      "R^2: -0.05\n",
      "Test Loss: 1.71%\n",
      "Train Epoch: 345 [0/19577 (0%)]\tLoss: 0.008627\n",
      "Train Epoch: 345 [3200/19577 (16%)]\tLoss: 0.003869\n",
      "Train Epoch: 345 [6400/19577 (33%)]\tLoss: 0.005939\n",
      "Train Epoch: 345 [9600/19577 (49%)]\tLoss: 0.006188\n",
      "Train Epoch: 345 [12800/19577 (65%)]\tLoss: 0.003596\n",
      "Train Epoch: 345 [16000/19577 (82%)]\tLoss: 0.005113\n",
      "Train Epoch: 345 [19200/19577 (98%)]\tLoss: 0.007991\n",
      "\n",
      "Train loss: 0.0074229792652201225\n"
     ]
    },
    {
     "name": "stderr",
     "output_type": "stream",
     "text": [
      "\r",
      " 69%|██████▉   | 345/500 [47:27<21:12,  8.21s/it]"
     ]
    },
    {
     "name": "stdout",
     "output_type": "stream",
     "text": [
      "Test on 1143 samples\n",
      "R^2: -0.04\n",
      "Test Loss: 1.71%\n",
      "Train Epoch: 346 [0/19577 (0%)]\tLoss: 0.004683\n",
      "Train Epoch: 346 [3200/19577 (16%)]\tLoss: 0.003135\n",
      "Train Epoch: 346 [6400/19577 (33%)]\tLoss: 0.005042\n",
      "Train Epoch: 346 [9600/19577 (49%)]\tLoss: 0.005071\n",
      "Train Epoch: 346 [12800/19577 (65%)]\tLoss: 0.009216\n",
      "Train Epoch: 346 [16000/19577 (82%)]\tLoss: 0.007107\n",
      "Train Epoch: 346 [19200/19577 (98%)]\tLoss: 0.004636\n",
      "\n",
      "Train loss: 0.007433439226017571\n"
     ]
    },
    {
     "name": "stderr",
     "output_type": "stream",
     "text": [
      "\r",
      " 69%|██████▉   | 346/500 [47:36<21:52,  8.52s/it]"
     ]
    },
    {
     "name": "stdout",
     "output_type": "stream",
     "text": [
      "Test on 1143 samples\n",
      "R^2: -0.65\n",
      "Test Loss: 1.71%\n",
      "Train Epoch: 347 [0/19577 (0%)]\tLoss: 0.003071\n",
      "Train Epoch: 347 [3200/19577 (16%)]\tLoss: 0.004492\n",
      "Train Epoch: 347 [6400/19577 (33%)]\tLoss: 0.003015\n",
      "Train Epoch: 347 [9600/19577 (49%)]\tLoss: 0.006630\n",
      "Train Epoch: 347 [12800/19577 (65%)]\tLoss: 0.006062\n",
      "Train Epoch: 347 [16000/19577 (82%)]\tLoss: 0.005330\n",
      "Train Epoch: 347 [19200/19577 (98%)]\tLoss: 0.042223\n",
      "\n",
      "Train loss: 0.007428847136146395\n"
     ]
    },
    {
     "name": "stderr",
     "output_type": "stream",
     "text": [
      "\r",
      " 69%|██████▉   | 347/500 [47:45<22:01,  8.64s/it]"
     ]
    },
    {
     "name": "stdout",
     "output_type": "stream",
     "text": [
      "Test on 1143 samples\n",
      "R^2: -0.26\n",
      "Test Loss: 1.70%\n",
      "Train Epoch: 348 [0/19577 (0%)]\tLoss: 0.005828\n",
      "Train Epoch: 348 [3200/19577 (16%)]\tLoss: 0.009105\n",
      "Train Epoch: 348 [6400/19577 (33%)]\tLoss: 0.005322\n",
      "Train Epoch: 348 [9600/19577 (49%)]\tLoss: 0.007999\n",
      "Train Epoch: 348 [12800/19577 (65%)]\tLoss: 0.004618\n",
      "Train Epoch: 348 [16000/19577 (82%)]\tLoss: 0.003959\n",
      "Train Epoch: 348 [19200/19577 (98%)]\tLoss: 0.005903\n",
      "\n",
      "Train loss: 0.007389457430690527\n"
     ]
    },
    {
     "name": "stderr",
     "output_type": "stream",
     "text": [
      "\r",
      " 70%|██████▉   | 348/500 [47:55<22:33,  8.91s/it]"
     ]
    },
    {
     "name": "stdout",
     "output_type": "stream",
     "text": [
      "Test on 1143 samples\n",
      "R^2: -0.58\n",
      "Test Loss: 1.71%\n",
      "Train Epoch: 349 [0/19577 (0%)]\tLoss: 0.003765\n",
      "Train Epoch: 349 [3200/19577 (16%)]\tLoss: 0.005707\n",
      "Train Epoch: 349 [6400/19577 (33%)]\tLoss: 0.005748\n",
      "Train Epoch: 349 [9600/19577 (49%)]\tLoss: 0.005706\n",
      "Train Epoch: 349 [12800/19577 (65%)]\tLoss: 0.004693\n",
      "Train Epoch: 349 [16000/19577 (82%)]\tLoss: 0.005524\n",
      "Train Epoch: 349 [19200/19577 (98%)]\tLoss: 0.004914\n",
      "\n",
      "Train loss: 0.007430117742045861\n"
     ]
    },
    {
     "name": "stderr",
     "output_type": "stream",
     "text": [
      "\r",
      " 70%|██████▉   | 349/500 [48:19<34:06, 13.55s/it]"
     ]
    },
    {
     "name": "stdout",
     "output_type": "stream",
     "text": [
      "Test on 1143 samples\n",
      "R^2: -0.04\n",
      "Test Loss: 1.71%\n",
      "Train Epoch: 350 [0/19577 (0%)]\tLoss: 0.003706\n",
      "Train Epoch: 350 [3200/19577 (16%)]\tLoss: 0.001993\n",
      "Train Epoch: 350 [6400/19577 (33%)]\tLoss: 0.006629\n",
      "Train Epoch: 350 [9600/19577 (49%)]\tLoss: 0.009378\n",
      "Train Epoch: 350 [12800/19577 (65%)]\tLoss: 0.003762\n",
      "Train Epoch: 350 [16000/19577 (82%)]\tLoss: 0.009975\n",
      "Train Epoch: 350 [19200/19577 (98%)]\tLoss: 0.005267\n",
      "\n",
      "Train loss: 0.0073970027292281195\n"
     ]
    },
    {
     "name": "stderr",
     "output_type": "stream",
     "text": [
      "\r",
      " 70%|███████   | 350/500 [48:31<32:14, 12.90s/it]"
     ]
    },
    {
     "name": "stdout",
     "output_type": "stream",
     "text": [
      "Test on 1143 samples\n",
      "R^2: -0.04\n",
      "Test Loss: 1.71%\n",
      "Train Epoch: 351 [0/19577 (0%)]\tLoss: 0.004290\n",
      "Train Epoch: 351 [3200/19577 (16%)]\tLoss: 0.004928\n",
      "Train Epoch: 351 [6400/19577 (33%)]\tLoss: 0.008636\n",
      "Train Epoch: 351 [9600/19577 (49%)]\tLoss: 0.004435\n",
      "Train Epoch: 351 [12800/19577 (65%)]\tLoss: 0.010719\n",
      "Train Epoch: 351 [16000/19577 (82%)]\tLoss: 0.008738\n",
      "Train Epoch: 351 [19200/19577 (98%)]\tLoss: 0.004545\n",
      "\n",
      "Train loss: 0.0074191969466316544\n"
     ]
    },
    {
     "name": "stderr",
     "output_type": "stream",
     "text": [
      "\r",
      " 70%|███████   | 351/500 [48:41<29:53, 12.04s/it]"
     ]
    },
    {
     "name": "stdout",
     "output_type": "stream",
     "text": [
      "Test on 1143 samples\n",
      "R^2: -0.09\n",
      "Test Loss: 1.70%\n",
      "Train Epoch: 352 [0/19577 (0%)]\tLoss: 0.005812\n",
      "Train Epoch: 352 [3200/19577 (16%)]\tLoss: 0.003966\n",
      "Train Epoch: 352 [6400/19577 (33%)]\tLoss: 0.006200\n",
      "Train Epoch: 352 [9600/19577 (49%)]\tLoss: 0.003753\n",
      "Train Epoch: 352 [12800/19577 (65%)]\tLoss: 0.004928\n",
      "Train Epoch: 352 [16000/19577 (82%)]\tLoss: 0.013192\n",
      "Train Epoch: 352 [19200/19577 (98%)]\tLoss: 0.006076\n",
      "\n",
      "Train loss: 0.007427118666503529\n"
     ]
    },
    {
     "name": "stderr",
     "output_type": "stream",
     "text": [
      "\r",
      " 70%|███████   | 352/500 [48:50<27:35, 11.19s/it]"
     ]
    },
    {
     "name": "stdout",
     "output_type": "stream",
     "text": [
      "Test on 1143 samples\n",
      "R^2: -0.27\n",
      "Test Loss: 1.71%\n",
      "Train Epoch: 353 [0/19577 (0%)]\tLoss: 0.008286\n",
      "Train Epoch: 353 [3200/19577 (16%)]\tLoss: 0.005316\n",
      "Train Epoch: 353 [6400/19577 (33%)]\tLoss: 0.005376\n",
      "Train Epoch: 353 [9600/19577 (49%)]\tLoss: 0.005894\n",
      "Train Epoch: 353 [12800/19577 (65%)]\tLoss: 0.002688\n",
      "Train Epoch: 353 [16000/19577 (82%)]\tLoss: 0.007321\n",
      "Train Epoch: 353 [19200/19577 (98%)]\tLoss: 0.005677\n",
      "\n",
      "Train loss: 0.00740065463678607\n"
     ]
    },
    {
     "name": "stderr",
     "output_type": "stream",
     "text": [
      "\r",
      " 71%|███████   | 353/500 [48:58<24:50, 10.14s/it]"
     ]
    },
    {
     "name": "stdout",
     "output_type": "stream",
     "text": [
      "Test on 1143 samples\n",
      "R^2: -0.32\n",
      "Test Loss: 1.71%\n",
      "Train Epoch: 354 [0/19577 (0%)]\tLoss: 0.004021\n",
      "Train Epoch: 354 [3200/19577 (16%)]\tLoss: 0.004600\n",
      "Train Epoch: 354 [6400/19577 (33%)]\tLoss: 0.004739\n",
      "Train Epoch: 354 [9600/19577 (49%)]\tLoss: 0.004143\n",
      "Train Epoch: 354 [12800/19577 (65%)]\tLoss: 0.006639\n",
      "Train Epoch: 354 [16000/19577 (82%)]\tLoss: 0.008946\n",
      "Train Epoch: 354 [19200/19577 (98%)]\tLoss: 0.006755\n",
      "\n",
      "Train loss: 0.007396291404980801\n"
     ]
    },
    {
     "name": "stderr",
     "output_type": "stream",
     "text": [
      "\r",
      " 71%|███████   | 354/500 [49:07<24:14,  9.96s/it]"
     ]
    },
    {
     "name": "stdout",
     "output_type": "stream",
     "text": [
      "Test on 1143 samples\n",
      "R^2: -0.84\n",
      "Test Loss: 1.70%\n",
      "Train Epoch: 355 [0/19577 (0%)]\tLoss: 0.006707\n",
      "Train Epoch: 355 [3200/19577 (16%)]\tLoss: 0.008532\n",
      "Train Epoch: 355 [6400/19577 (33%)]\tLoss: 0.004825\n",
      "Train Epoch: 355 [9600/19577 (49%)]\tLoss: 0.004519\n",
      "Train Epoch: 355 [12800/19577 (65%)]\tLoss: 0.005387\n",
      "Train Epoch: 355 [16000/19577 (82%)]\tLoss: 0.003254\n",
      "Train Epoch: 355 [19200/19577 (98%)]\tLoss: 0.004633\n",
      "\n",
      "Train loss: 0.007394707103920309\n"
     ]
    },
    {
     "name": "stderr",
     "output_type": "stream",
     "text": [
      "\r",
      " 71%|███████   | 355/500 [49:18<24:54, 10.31s/it]"
     ]
    },
    {
     "name": "stdout",
     "output_type": "stream",
     "text": [
      "Test on 1143 samples\n",
      "R^2: -0.09\n",
      "Test Loss: 1.70%\n",
      "Train Epoch: 356 [0/19577 (0%)]\tLoss: 0.004753\n",
      "Train Epoch: 356 [3200/19577 (16%)]\tLoss: 0.006488\n",
      "Train Epoch: 356 [6400/19577 (33%)]\tLoss: 0.004421\n",
      "Train Epoch: 356 [9600/19577 (49%)]\tLoss: 0.007220\n",
      "Train Epoch: 356 [12800/19577 (65%)]\tLoss: 0.006878\n",
      "Train Epoch: 356 [16000/19577 (82%)]\tLoss: 0.004874\n",
      "Train Epoch: 356 [19200/19577 (98%)]\tLoss: 0.004045\n",
      "\n",
      "Train loss: 0.0074036580467067075\n"
     ]
    },
    {
     "name": "stderr",
     "output_type": "stream",
     "text": [
      "\r",
      " 71%|███████   | 356/500 [49:27<23:49,  9.92s/it]"
     ]
    },
    {
     "name": "stdout",
     "output_type": "stream",
     "text": [
      "Test on 1143 samples\n",
      "R^2: -3.03\n",
      "Test Loss: 1.77%\n",
      "Train Epoch: 357 [0/19577 (0%)]\tLoss: 0.003593\n",
      "Train Epoch: 357 [3200/19577 (16%)]\tLoss: 0.071993\n",
      "Train Epoch: 357 [6400/19577 (33%)]\tLoss: 0.004310\n",
      "Train Epoch: 357 [9600/19577 (49%)]\tLoss: 0.003516\n",
      "Train Epoch: 357 [12800/19577 (65%)]\tLoss: 0.003413\n",
      "Train Epoch: 357 [16000/19577 (82%)]\tLoss: 0.007636\n",
      "Train Epoch: 357 [19200/19577 (98%)]\tLoss: 0.004619\n",
      "\n",
      "Train loss: 0.00739015717960261\n"
     ]
    },
    {
     "name": "stderr",
     "output_type": "stream",
     "text": [
      "\r",
      " 71%|███████▏  | 357/500 [49:36<22:34,  9.47s/it]"
     ]
    },
    {
     "name": "stdout",
     "output_type": "stream",
     "text": [
      "Test on 1143 samples\n",
      "R^2: -0.16\n",
      "Test Loss: 1.70%\n",
      "Train Epoch: 358 [0/19577 (0%)]\tLoss: 0.002817\n",
      "Train Epoch: 358 [3200/19577 (16%)]\tLoss: 0.005064\n",
      "Train Epoch: 358 [6400/19577 (33%)]\tLoss: 0.003131\n",
      "Train Epoch: 358 [9600/19577 (49%)]\tLoss: 0.009257\n",
      "Train Epoch: 358 [12800/19577 (65%)]\tLoss: 0.007463\n",
      "Train Epoch: 358 [16000/19577 (82%)]\tLoss: 0.005911\n",
      "Train Epoch: 358 [19200/19577 (98%)]\tLoss: 0.005381\n",
      "\n",
      "Train loss: 0.007364329530437495\n"
     ]
    },
    {
     "name": "stderr",
     "output_type": "stream",
     "text": [
      "\r",
      " 72%|███████▏  | 358/500 [49:45<22:19,  9.43s/it]"
     ]
    },
    {
     "name": "stdout",
     "output_type": "stream",
     "text": [
      "Test on 1143 samples\n",
      "R^2: -0.13\n",
      "Test Loss: 1.71%\n",
      "Train Epoch: 359 [0/19577 (0%)]\tLoss: 0.004652\n",
      "Train Epoch: 359 [3200/19577 (16%)]\tLoss: 0.004795\n",
      "Train Epoch: 359 [6400/19577 (33%)]\tLoss: 0.008800\n",
      "Train Epoch: 359 [9600/19577 (49%)]\tLoss: 0.003738\n",
      "Train Epoch: 359 [12800/19577 (65%)]\tLoss: 0.004863\n",
      "Train Epoch: 359 [16000/19577 (82%)]\tLoss: 0.019685\n",
      "Train Epoch: 359 [19200/19577 (98%)]\tLoss: 0.005470\n",
      "\n",
      "Train loss: 0.007370743992224068\n"
     ]
    },
    {
     "name": "stderr",
     "output_type": "stream",
     "text": [
      "\r",
      " 72%|███████▏  | 359/500 [49:53<21:07,  8.99s/it]"
     ]
    },
    {
     "name": "stdout",
     "output_type": "stream",
     "text": [
      "Test on 1143 samples\n",
      "R^2: -0.53\n",
      "Test Loss: 1.69%\n",
      "Train Epoch: 360 [0/19577 (0%)]\tLoss: 0.002902\n",
      "Train Epoch: 360 [3200/19577 (16%)]\tLoss: 0.006268\n",
      "Train Epoch: 360 [6400/19577 (33%)]\tLoss: 0.005849\n",
      "Train Epoch: 360 [9600/19577 (49%)]\tLoss: 0.005677\n",
      "Train Epoch: 360 [12800/19577 (65%)]\tLoss: 0.004993\n",
      "Train Epoch: 360 [16000/19577 (82%)]\tLoss: 0.005158\n",
      "Train Epoch: 360 [19200/19577 (98%)]\tLoss: 0.004787\n",
      "\n",
      "Train loss: 0.00739084912336194\n"
     ]
    },
    {
     "name": "stderr",
     "output_type": "stream",
     "text": [
      "\r",
      " 72%|███████▏  | 360/500 [50:03<21:46,  9.33s/it]"
     ]
    },
    {
     "name": "stdout",
     "output_type": "stream",
     "text": [
      "Test on 1143 samples\n",
      "R^2: -0.22\n",
      "Test Loss: 1.71%\n",
      "Train Epoch: 361 [0/19577 (0%)]\tLoss: 0.005115\n",
      "Train Epoch: 361 [3200/19577 (16%)]\tLoss: 0.007724\n",
      "Train Epoch: 361 [6400/19577 (33%)]\tLoss: 0.002698\n",
      "Train Epoch: 361 [9600/19577 (49%)]\tLoss: 0.015017\n",
      "Train Epoch: 361 [12800/19577 (65%)]\tLoss: 0.006617\n",
      "Train Epoch: 361 [16000/19577 (82%)]\tLoss: 0.002298\n",
      "Train Epoch: 361 [19200/19577 (98%)]\tLoss: 0.006767\n",
      "\n",
      "Train loss: 0.007383307063148594\n"
     ]
    },
    {
     "name": "stderr",
     "output_type": "stream",
     "text": [
      "\r",
      " 72%|███████▏  | 361/500 [50:12<21:02,  9.09s/it]"
     ]
    },
    {
     "name": "stdout",
     "output_type": "stream",
     "text": [
      "Test on 1143 samples\n",
      "R^2: -0.81\n",
      "Test Loss: 1.70%\n",
      "Train Epoch: 362 [0/19577 (0%)]\tLoss: 0.006662\n",
      "Train Epoch: 362 [3200/19577 (16%)]\tLoss: 0.016413\n",
      "Train Epoch: 362 [6400/19577 (33%)]\tLoss: 0.009621\n",
      "Train Epoch: 362 [9600/19577 (49%)]\tLoss: 0.006766\n",
      "Train Epoch: 362 [12800/19577 (65%)]\tLoss: 0.003413\n",
      "Train Epoch: 362 [16000/19577 (82%)]\tLoss: 0.005063\n",
      "Train Epoch: 362 [19200/19577 (98%)]\tLoss: 0.003918\n",
      "\n",
      "Train loss: 0.007375427216270123\n"
     ]
    },
    {
     "name": "stderr",
     "output_type": "stream",
     "text": [
      "\r",
      " 72%|███████▏  | 362/500 [50:21<20:45,  9.02s/it]"
     ]
    },
    {
     "name": "stdout",
     "output_type": "stream",
     "text": [
      "Test on 1143 samples\n",
      "R^2: -0.17\n",
      "Test Loss: 1.71%\n",
      "Train Epoch: 363 [0/19577 (0%)]\tLoss: 0.004346\n",
      "Train Epoch: 363 [3200/19577 (16%)]\tLoss: 0.006190\n",
      "Train Epoch: 363 [6400/19577 (33%)]\tLoss: 0.003520\n",
      "Train Epoch: 363 [9600/19577 (49%)]\tLoss: 0.004746\n",
      "Train Epoch: 363 [12800/19577 (65%)]\tLoss: 0.005771\n",
      "Train Epoch: 363 [16000/19577 (82%)]\tLoss: 0.010160\n",
      "Train Epoch: 363 [19200/19577 (98%)]\tLoss: 0.003173\n",
      "\n",
      "Train loss: 0.007359080460208644\n"
     ]
    },
    {
     "name": "stderr",
     "output_type": "stream",
     "text": [
      "\r",
      " 73%|███████▎  | 363/500 [50:31<21:42,  9.51s/it]"
     ]
    },
    {
     "name": "stdout",
     "output_type": "stream",
     "text": [
      "Test on 1143 samples\n",
      "R^2: -2.15\n",
      "Test Loss: 1.71%\n",
      "Train Epoch: 364 [0/19577 (0%)]\tLoss: 0.007908\n",
      "Train Epoch: 364 [3200/19577 (16%)]\tLoss: 0.004820\n",
      "Train Epoch: 364 [6400/19577 (33%)]\tLoss: 0.005155\n",
      "Train Epoch: 364 [9600/19577 (49%)]\tLoss: 0.004622\n",
      "Train Epoch: 364 [12800/19577 (65%)]\tLoss: 0.006594\n",
      "Train Epoch: 364 [16000/19577 (82%)]\tLoss: 0.004461\n",
      "Train Epoch: 364 [19200/19577 (98%)]\tLoss: 0.002677\n",
      "\n",
      "Train loss: 0.007370841414348094\n"
     ]
    },
    {
     "name": "stderr",
     "output_type": "stream",
     "text": [
      "\r",
      " 73%|███████▎  | 364/500 [50:39<20:38,  9.11s/it]"
     ]
    },
    {
     "name": "stdout",
     "output_type": "stream",
     "text": [
      "Test on 1143 samples\n",
      "R^2: -2.34\n",
      "Test Loss: 1.71%\n",
      "Train Epoch: 365 [0/19577 (0%)]\tLoss: 0.004066\n",
      "Train Epoch: 365 [3200/19577 (16%)]\tLoss: 0.004743\n",
      "Train Epoch: 365 [6400/19577 (33%)]\tLoss: 0.005766\n",
      "Train Epoch: 365 [9600/19577 (49%)]\tLoss: 0.005939\n",
      "Train Epoch: 365 [12800/19577 (65%)]\tLoss: 0.004292\n",
      "Train Epoch: 365 [16000/19577 (82%)]\tLoss: 0.013007\n",
      "Train Epoch: 365 [19200/19577 (98%)]\tLoss: 0.005755\n",
      "\n",
      "Train loss: 0.007360436751208956\n"
     ]
    },
    {
     "name": "stderr",
     "output_type": "stream",
     "text": [
      "\r",
      " 73%|███████▎  | 365/500 [50:49<21:09,  9.40s/it]"
     ]
    },
    {
     "name": "stdout",
     "output_type": "stream",
     "text": [
      "Test on 1143 samples\n",
      "R^2: -0.57\n",
      "Test Loss: 1.69%\n",
      "Train Epoch: 366 [0/19577 (0%)]\tLoss: 0.002135\n",
      "Train Epoch: 366 [3200/19577 (16%)]\tLoss: 0.007718\n",
      "Train Epoch: 366 [6400/19577 (33%)]\tLoss: 0.004064\n",
      "Train Epoch: 366 [9600/19577 (49%)]\tLoss: 0.005539\n",
      "Train Epoch: 366 [12800/19577 (65%)]\tLoss: 0.003260\n",
      "Train Epoch: 366 [16000/19577 (82%)]\tLoss: 0.005535\n",
      "Train Epoch: 366 [19200/19577 (98%)]\tLoss: 0.003162\n",
      "\n",
      "Train loss: 0.007355678211395428\n"
     ]
    },
    {
     "name": "stderr",
     "output_type": "stream",
     "text": [
      "\r",
      " 73%|███████▎  | 366/500 [51:01<22:13,  9.95s/it]"
     ]
    },
    {
     "name": "stdout",
     "output_type": "stream",
     "text": [
      "Test on 1143 samples\n",
      "R^2: -0.37\n",
      "Test Loss: 1.69%\n",
      "Train Epoch: 367 [0/19577 (0%)]\tLoss: 0.005113\n",
      "Train Epoch: 367 [3200/19577 (16%)]\tLoss: 0.006967\n",
      "Train Epoch: 367 [6400/19577 (33%)]\tLoss: 0.004751\n",
      "Train Epoch: 367 [9600/19577 (49%)]\tLoss: 0.003939\n",
      "Train Epoch: 367 [12800/19577 (65%)]\tLoss: 0.003333\n",
      "Train Epoch: 367 [16000/19577 (82%)]\tLoss: 0.005855\n",
      "Train Epoch: 367 [19200/19577 (98%)]\tLoss: 0.003872\n",
      "\n",
      "Train loss: 0.007359111017328413\n"
     ]
    },
    {
     "name": "stderr",
     "output_type": "stream",
     "text": [
      "\r",
      " 73%|███████▎  | 367/500 [51:09<21:02,  9.49s/it]"
     ]
    },
    {
     "name": "stdout",
     "output_type": "stream",
     "text": [
      "Test on 1143 samples\n",
      "R^2: -1.59\n",
      "Test Loss: 1.70%\n",
      "Train Epoch: 368 [0/19577 (0%)]\tLoss: 0.007374\n",
      "Train Epoch: 368 [3200/19577 (16%)]\tLoss: 0.007087\n",
      "Train Epoch: 368 [6400/19577 (33%)]\tLoss: 0.002161\n",
      "Train Epoch: 368 [9600/19577 (49%)]\tLoss: 0.009666\n",
      "Train Epoch: 368 [12800/19577 (65%)]\tLoss: 0.004762\n",
      "Train Epoch: 368 [16000/19577 (82%)]\tLoss: 0.006429\n",
      "Train Epoch: 368 [19200/19577 (98%)]\tLoss: 0.001977\n",
      "\n",
      "Train loss: 0.007356145366679365\n"
     ]
    },
    {
     "name": "stderr",
     "output_type": "stream",
     "text": [
      "\r",
      " 74%|███████▎  | 368/500 [51:19<21:06,  9.60s/it]"
     ]
    },
    {
     "name": "stdout",
     "output_type": "stream",
     "text": [
      "Test on 1143 samples\n",
      "R^2: -3.52\n",
      "Test Loss: 1.72%\n",
      "Train Epoch: 369 [0/19577 (0%)]\tLoss: 0.005012\n",
      "Train Epoch: 369 [3200/19577 (16%)]\tLoss: 0.005148\n",
      "Train Epoch: 369 [6400/19577 (33%)]\tLoss: 0.004738\n",
      "Train Epoch: 369 [9600/19577 (49%)]\tLoss: 0.004708\n",
      "Train Epoch: 369 [12800/19577 (65%)]\tLoss: 0.007782\n",
      "Train Epoch: 369 [16000/19577 (82%)]\tLoss: 0.008778\n",
      "Train Epoch: 369 [19200/19577 (98%)]\tLoss: 0.003937\n",
      "\n",
      "Train loss: 0.007347366892811812\n"
     ]
    },
    {
     "name": "stderr",
     "output_type": "stream",
     "text": [
      "\r",
      " 74%|███████▍  | 369/500 [51:27<20:01,  9.17s/it]"
     ]
    },
    {
     "name": "stdout",
     "output_type": "stream",
     "text": [
      "Test on 1143 samples\n",
      "R^2: -0.33\n",
      "Test Loss: 1.71%\n",
      "Train Epoch: 370 [0/19577 (0%)]\tLoss: 0.003784\n",
      "Train Epoch: 370 [3200/19577 (16%)]\tLoss: 0.008103\n",
      "Train Epoch: 370 [6400/19577 (33%)]\tLoss: 0.002083\n",
      "Train Epoch: 370 [9600/19577 (49%)]\tLoss: 0.005698\n",
      "Train Epoch: 370 [12800/19577 (65%)]\tLoss: 0.009758\n",
      "Train Epoch: 370 [16000/19577 (82%)]\tLoss: 0.005594\n",
      "Train Epoch: 370 [19200/19577 (98%)]\tLoss: 0.005876\n",
      "\n",
      "Train loss: 0.007325622512201103\n"
     ]
    },
    {
     "name": "stderr",
     "output_type": "stream",
     "text": [
      "\r",
      " 74%|███████▍  | 370/500 [51:35<18:48,  8.68s/it]"
     ]
    },
    {
     "name": "stdout",
     "output_type": "stream",
     "text": [
      "Test on 1143 samples\n",
      "R^2: -0.04\n",
      "Test Loss: 1.70%\n",
      "Train Epoch: 371 [0/19577 (0%)]\tLoss: 0.005240\n",
      "Train Epoch: 371 [3200/19577 (16%)]\tLoss: 0.003223\n",
      "Train Epoch: 371 [6400/19577 (33%)]\tLoss: 0.003925\n",
      "Train Epoch: 371 [9600/19577 (49%)]\tLoss: 0.005153\n",
      "Train Epoch: 371 [12800/19577 (65%)]\tLoss: 0.004070\n",
      "Train Epoch: 371 [16000/19577 (82%)]\tLoss: 0.004010\n",
      "Train Epoch: 371 [19200/19577 (98%)]\tLoss: 0.003048\n",
      "\n",
      "Train loss: 0.007357834226579643\n"
     ]
    },
    {
     "name": "stderr",
     "output_type": "stream",
     "text": [
      "\r",
      " 74%|███████▍  | 371/500 [51:41<17:29,  8.14s/it]"
     ]
    },
    {
     "name": "stdout",
     "output_type": "stream",
     "text": [
      "Test on 1143 samples\n",
      "R^2: -0.18\n",
      "Test Loss: 1.71%\n",
      "Train Epoch: 372 [0/19577 (0%)]\tLoss: 0.005841\n",
      "Train Epoch: 372 [3200/19577 (16%)]\tLoss: 0.003396\n",
      "Train Epoch: 372 [6400/19577 (33%)]\tLoss: 0.007291\n",
      "Train Epoch: 372 [9600/19577 (49%)]\tLoss: 0.006017\n",
      "Train Epoch: 372 [12800/19577 (65%)]\tLoss: 0.003936\n",
      "Train Epoch: 372 [16000/19577 (82%)]\tLoss: 0.007060\n",
      "Train Epoch: 372 [19200/19577 (98%)]\tLoss: 0.006841\n",
      "\n",
      "Train loss: 0.007330598847581427\n"
     ]
    },
    {
     "name": "stderr",
     "output_type": "stream",
     "text": [
      "\r",
      " 74%|███████▍  | 372/500 [51:49<16:49,  7.89s/it]"
     ]
    },
    {
     "name": "stdout",
     "output_type": "stream",
     "text": [
      "Test on 1143 samples\n",
      "R^2: -2.55\n",
      "Test Loss: 1.71%\n",
      "Train Epoch: 373 [0/19577 (0%)]\tLoss: 0.005957\n",
      "Train Epoch: 373 [3200/19577 (16%)]\tLoss: 0.006182\n",
      "Train Epoch: 373 [6400/19577 (33%)]\tLoss: 0.007227\n",
      "Train Epoch: 373 [9600/19577 (49%)]\tLoss: 0.008202\n",
      "Train Epoch: 373 [12800/19577 (65%)]\tLoss: 0.005354\n",
      "Train Epoch: 373 [16000/19577 (82%)]\tLoss: 0.015323\n",
      "Train Epoch: 373 [19200/19577 (98%)]\tLoss: 0.006917\n",
      "\n",
      "Train loss: 0.0073235495376638045\n"
     ]
    },
    {
     "name": "stderr",
     "output_type": "stream",
     "text": [
      "\r",
      " 75%|███████▍  | 373/500 [51:56<16:04,  7.59s/it]"
     ]
    },
    {
     "name": "stdout",
     "output_type": "stream",
     "text": [
      "Test on 1143 samples\n",
      "R^2: -0.11\n",
      "Test Loss: 1.69%\n",
      "Train Epoch: 374 [0/19577 (0%)]\tLoss: 0.006076\n",
      "Train Epoch: 374 [3200/19577 (16%)]\tLoss: 0.002958\n",
      "Train Epoch: 374 [6400/19577 (33%)]\tLoss: 0.005624\n",
      "Train Epoch: 374 [9600/19577 (49%)]\tLoss: 0.006639\n",
      "Train Epoch: 374 [12800/19577 (65%)]\tLoss: 0.005045\n",
      "Train Epoch: 374 [16000/19577 (82%)]\tLoss: 0.079998\n",
      "Train Epoch: 374 [19200/19577 (98%)]\tLoss: 0.006520\n",
      "\n",
      "Train loss: 0.007338555608084729\n"
     ]
    },
    {
     "name": "stderr",
     "output_type": "stream",
     "text": [
      "\r",
      " 75%|███████▍  | 374/500 [52:04<16:14,  7.74s/it]"
     ]
    },
    {
     "name": "stdout",
     "output_type": "stream",
     "text": [
      "Test on 1143 samples\n",
      "R^2: -2.69\n",
      "Test Loss: 1.70%\n",
      "Train Epoch: 375 [0/19577 (0%)]\tLoss: 0.005056\n",
      "Train Epoch: 375 [3200/19577 (16%)]\tLoss: 0.005261\n",
      "Train Epoch: 375 [6400/19577 (33%)]\tLoss: 0.010045\n",
      "Train Epoch: 375 [9600/19577 (49%)]\tLoss: 0.009237\n",
      "Train Epoch: 375 [12800/19577 (65%)]\tLoss: 0.006957\n",
      "Train Epoch: 375 [16000/19577 (82%)]\tLoss: 0.008742\n",
      "Train Epoch: 375 [19200/19577 (98%)]\tLoss: 0.008837\n",
      "\n",
      "Train loss: 0.007325540249558543\n"
     ]
    },
    {
     "name": "stderr",
     "output_type": "stream",
     "text": [
      "\r",
      " 75%|███████▌  | 375/500 [52:11<15:36,  7.49s/it]"
     ]
    },
    {
     "name": "stdout",
     "output_type": "stream",
     "text": [
      "Test on 1143 samples\n",
      "R^2: -1.65\n",
      "Test Loss: 1.73%\n",
      "Train Epoch: 376 [0/19577 (0%)]\tLoss: 0.004364\n",
      "Train Epoch: 376 [3200/19577 (16%)]\tLoss: 0.007935\n",
      "Train Epoch: 376 [6400/19577 (33%)]\tLoss: 0.005542\n",
      "Train Epoch: 376 [9600/19577 (49%)]\tLoss: 0.006591\n",
      "Train Epoch: 376 [12800/19577 (65%)]\tLoss: 0.004801\n",
      "Train Epoch: 376 [16000/19577 (82%)]\tLoss: 0.004642\n",
      "Train Epoch: 376 [19200/19577 (98%)]\tLoss: 0.006560\n",
      "\n",
      "Train loss: 0.007328658788906276\n"
     ]
    },
    {
     "name": "stderr",
     "output_type": "stream",
     "text": [
      "\r",
      " 75%|███████▌  | 376/500 [52:18<15:09,  7.33s/it]"
     ]
    },
    {
     "name": "stdout",
     "output_type": "stream",
     "text": [
      "Test on 1143 samples\n",
      "R^2: -0.04\n",
      "Test Loss: 1.69%\n",
      "Train Epoch: 377 [0/19577 (0%)]\tLoss: 0.006514\n",
      "Train Epoch: 377 [3200/19577 (16%)]\tLoss: 0.005623\n",
      "Train Epoch: 377 [6400/19577 (33%)]\tLoss: 0.003905\n",
      "Train Epoch: 377 [9600/19577 (49%)]\tLoss: 0.004734\n",
      "Train Epoch: 377 [12800/19577 (65%)]\tLoss: 0.005206\n",
      "Train Epoch: 377 [16000/19577 (82%)]\tLoss: 0.002442\n",
      "Train Epoch: 377 [19200/19577 (98%)]\tLoss: 0.015922\n",
      "\n",
      "Train loss: 0.007326880625899565\n"
     ]
    },
    {
     "name": "stderr",
     "output_type": "stream",
     "text": [
      "\r",
      " 75%|███████▌  | 377/500 [52:24<14:42,  7.17s/it]"
     ]
    },
    {
     "name": "stdout",
     "output_type": "stream",
     "text": [
      "Test on 1143 samples\n",
      "R^2: -0.13\n",
      "Test Loss: 1.69%\n",
      "Train Epoch: 378 [0/19577 (0%)]\tLoss: 0.005552\n",
      "Train Epoch: 378 [3200/19577 (16%)]\tLoss: 0.004081\n",
      "Train Epoch: 378 [6400/19577 (33%)]\tLoss: 0.332325\n",
      "Train Epoch: 378 [9600/19577 (49%)]\tLoss: 0.005204\n",
      "Train Epoch: 378 [12800/19577 (65%)]\tLoss: 0.008049\n",
      "Train Epoch: 378 [16000/19577 (82%)]\tLoss: 0.006660\n",
      "Train Epoch: 378 [19200/19577 (98%)]\tLoss: 0.003380\n",
      "\n",
      "Train loss: 0.0073137309598535595\n"
     ]
    },
    {
     "name": "stderr",
     "output_type": "stream",
     "text": [
      "\r",
      " 76%|███████▌  | 378/500 [52:35<16:47,  8.26s/it]"
     ]
    },
    {
     "name": "stdout",
     "output_type": "stream",
     "text": [
      "Test on 1143 samples\n",
      "R^2: -0.02\n",
      "Test Loss: 1.69%\n",
      "Train Epoch: 379 [0/19577 (0%)]\tLoss: 0.006682\n",
      "Train Epoch: 379 [3200/19577 (16%)]\tLoss: 0.002593\n",
      "Train Epoch: 379 [6400/19577 (33%)]\tLoss: 0.075306\n",
      "Train Epoch: 379 [9600/19577 (49%)]\tLoss: 0.004434\n",
      "Train Epoch: 379 [12800/19577 (65%)]\tLoss: 0.005427\n",
      "Train Epoch: 379 [16000/19577 (82%)]\tLoss: 0.002628\n",
      "Train Epoch: 379 [19200/19577 (98%)]\tLoss: 0.004360\n",
      "\n",
      "Train loss: 0.007342417727854541\n"
     ]
    },
    {
     "name": "stderr",
     "output_type": "stream",
     "text": [
      "\r",
      " 76%|███████▌  | 379/500 [52:42<15:49,  7.85s/it]"
     ]
    },
    {
     "name": "stdout",
     "output_type": "stream",
     "text": [
      "Test on 1143 samples\n",
      "R^2: -0.10\n",
      "Test Loss: 1.69%\n",
      "Train Epoch: 380 [0/19577 (0%)]\tLoss: 0.006981\n",
      "Train Epoch: 380 [3200/19577 (16%)]\tLoss: 0.003493\n",
      "Train Epoch: 380 [6400/19577 (33%)]\tLoss: 0.005732\n",
      "Train Epoch: 380 [9600/19577 (49%)]\tLoss: 0.003426\n",
      "Train Epoch: 380 [12800/19577 (65%)]\tLoss: 0.010054\n",
      "Train Epoch: 380 [16000/19577 (82%)]\tLoss: 0.003445\n",
      "Train Epoch: 380 [19200/19577 (98%)]\tLoss: 0.002168\n",
      "\n",
      "Train loss: 0.007346110313817299\n"
     ]
    },
    {
     "name": "stderr",
     "output_type": "stream",
     "text": [
      "\r",
      " 76%|███████▌  | 380/500 [52:49<15:12,  7.60s/it]"
     ]
    },
    {
     "name": "stdout",
     "output_type": "stream",
     "text": [
      "Test on 1143 samples\n",
      "R^2: -0.93\n",
      "Test Loss: 1.69%\n",
      "Train Epoch: 381 [0/19577 (0%)]\tLoss: 0.004915\n",
      "Train Epoch: 381 [3200/19577 (16%)]\tLoss: 0.004034\n",
      "Train Epoch: 381 [6400/19577 (33%)]\tLoss: 0.009190\n",
      "Train Epoch: 381 [9600/19577 (49%)]\tLoss: 0.006866\n",
      "Train Epoch: 381 [12800/19577 (65%)]\tLoss: 0.007261\n",
      "Train Epoch: 381 [16000/19577 (82%)]\tLoss: 0.003657\n",
      "Train Epoch: 381 [19200/19577 (98%)]\tLoss: 0.005577\n",
      "\n",
      "Train loss: 0.007333642165511359\n"
     ]
    },
    {
     "name": "stderr",
     "output_type": "stream",
     "text": [
      "\r",
      " 76%|███████▌  | 381/500 [52:56<14:39,  7.39s/it]"
     ]
    },
    {
     "name": "stdout",
     "output_type": "stream",
     "text": [
      "Test on 1143 samples\n",
      "R^2: -0.97\n",
      "Test Loss: 1.69%\n",
      "Train Epoch: 382 [0/19577 (0%)]\tLoss: 0.003746\n",
      "Train Epoch: 382 [3200/19577 (16%)]\tLoss: 0.006109\n",
      "Train Epoch: 382 [6400/19577 (33%)]\tLoss: 0.006347\n",
      "Train Epoch: 382 [9600/19577 (49%)]\tLoss: 0.007230\n",
      "Train Epoch: 382 [12800/19577 (65%)]\tLoss: 0.005309\n",
      "Train Epoch: 382 [16000/19577 (82%)]\tLoss: 0.010752\n",
      "Train Epoch: 382 [19200/19577 (98%)]\tLoss: 0.008349\n",
      "\n",
      "Train loss: 0.007306938344198797\n"
     ]
    },
    {
     "name": "stderr",
     "output_type": "stream",
     "text": [
      "\r",
      " 76%|███████▋  | 382/500 [53:05<15:42,  7.99s/it]"
     ]
    },
    {
     "name": "stdout",
     "output_type": "stream",
     "text": [
      "Test on 1143 samples\n",
      "R^2: -1.30\n",
      "Test Loss: 1.72%\n",
      "Train Epoch: 383 [0/19577 (0%)]\tLoss: 0.006386\n",
      "Train Epoch: 383 [3200/19577 (16%)]\tLoss: 0.005770\n",
      "Train Epoch: 383 [6400/19577 (33%)]\tLoss: 0.009923\n",
      "Train Epoch: 383 [9600/19577 (49%)]\tLoss: 0.003470\n",
      "Train Epoch: 383 [12800/19577 (65%)]\tLoss: 0.003731\n",
      "Train Epoch: 383 [16000/19577 (82%)]\tLoss: 0.008814\n",
      "Train Epoch: 383 [19200/19577 (98%)]\tLoss: 0.003081\n",
      "\n",
      "Train loss: 0.007306187914294842\n"
     ]
    },
    {
     "name": "stderr",
     "output_type": "stream",
     "text": [
      "\r",
      " 77%|███████▋  | 383/500 [53:12<14:57,  7.67s/it]"
     ]
    },
    {
     "name": "stdout",
     "output_type": "stream",
     "text": [
      "Test on 1143 samples\n",
      "R^2: -1.37\n",
      "Test Loss: 1.69%\n",
      "Train Epoch: 384 [0/19577 (0%)]\tLoss: 0.006531\n",
      "Train Epoch: 384 [3200/19577 (16%)]\tLoss: 0.005798\n",
      "Train Epoch: 384 [6400/19577 (33%)]\tLoss: 0.017260\n",
      "Train Epoch: 384 [9600/19577 (49%)]\tLoss: 0.007585\n",
      "Train Epoch: 384 [12800/19577 (65%)]\tLoss: 0.002181\n",
      "Train Epoch: 384 [16000/19577 (82%)]\tLoss: 0.005183\n",
      "Train Epoch: 384 [19200/19577 (98%)]\tLoss: 0.004461\n",
      "\n",
      "Train loss: 0.007298917600541114\n"
     ]
    },
    {
     "name": "stderr",
     "output_type": "stream",
     "text": [
      "\r",
      " 77%|███████▋  | 384/500 [53:19<14:28,  7.48s/it]"
     ]
    },
    {
     "name": "stdout",
     "output_type": "stream",
     "text": [
      "Test on 1143 samples\n",
      "R^2: -2.08\n",
      "Test Loss: 1.69%\n",
      "Train Epoch: 385 [0/19577 (0%)]\tLoss: 0.009561\n",
      "Train Epoch: 385 [3200/19577 (16%)]\tLoss: 0.004855\n",
      "Train Epoch: 385 [6400/19577 (33%)]\tLoss: 0.005561\n",
      "Train Epoch: 385 [9600/19577 (49%)]\tLoss: 0.004347\n",
      "Train Epoch: 385 [12800/19577 (65%)]\tLoss: 0.007315\n",
      "Train Epoch: 385 [16000/19577 (82%)]\tLoss: 0.006418\n",
      "Train Epoch: 385 [19200/19577 (98%)]\tLoss: 0.002693\n",
      "\n",
      "Train loss: 0.007303813120861556\n"
     ]
    },
    {
     "name": "stderr",
     "output_type": "stream",
     "text": [
      "\r",
      " 77%|███████▋  | 385/500 [53:27<14:11,  7.40s/it]"
     ]
    },
    {
     "name": "stdout",
     "output_type": "stream",
     "text": [
      "Test on 1143 samples\n",
      "R^2: -0.79\n",
      "Test Loss: 1.69%\n",
      "Train Epoch: 386 [0/19577 (0%)]\tLoss: 0.003386\n",
      "Train Epoch: 386 [3200/19577 (16%)]\tLoss: 0.002626\n",
      "Train Epoch: 386 [6400/19577 (33%)]\tLoss: 0.007065\n",
      "Train Epoch: 386 [9600/19577 (49%)]\tLoss: 0.004927\n",
      "Train Epoch: 386 [12800/19577 (65%)]\tLoss: 0.005543\n",
      "Train Epoch: 386 [16000/19577 (82%)]\tLoss: 0.010188\n",
      "Train Epoch: 386 [19200/19577 (98%)]\tLoss: 0.008636\n",
      "\n",
      "Train loss: 0.007302972084456093\n"
     ]
    },
    {
     "name": "stderr",
     "output_type": "stream",
     "text": [
      "\r",
      " 77%|███████▋  | 386/500 [53:34<14:07,  7.43s/it]"
     ]
    },
    {
     "name": "stdout",
     "output_type": "stream",
     "text": [
      "Test on 1143 samples\n",
      "R^2: -0.07\n",
      "Test Loss: 1.68%\n",
      "Train Epoch: 387 [0/19577 (0%)]\tLoss: 0.004260\n",
      "Train Epoch: 387 [3200/19577 (16%)]\tLoss: 0.003554\n",
      "Train Epoch: 387 [6400/19577 (33%)]\tLoss: 0.005134\n",
      "Train Epoch: 387 [9600/19577 (49%)]\tLoss: 0.006093\n",
      "Train Epoch: 387 [12800/19577 (65%)]\tLoss: 0.006099\n",
      "Train Epoch: 387 [16000/19577 (82%)]\tLoss: 0.007450\n",
      "Train Epoch: 387 [19200/19577 (98%)]\tLoss: 0.005574\n",
      "\n",
      "Train loss: 0.007306638962796165\n"
     ]
    },
    {
     "name": "stderr",
     "output_type": "stream",
     "text": [
      "\r",
      " 77%|███████▋  | 387/500 [53:42<14:12,  7.54s/it]"
     ]
    },
    {
     "name": "stdout",
     "output_type": "stream",
     "text": [
      "Test on 1143 samples\n",
      "R^2: -1.03\n",
      "Test Loss: 1.68%\n",
      "Train Epoch: 388 [0/19577 (0%)]\tLoss: 0.002986\n",
      "Train Epoch: 388 [3200/19577 (16%)]\tLoss: 0.004442\n",
      "Train Epoch: 388 [6400/19577 (33%)]\tLoss: 0.008025\n",
      "Train Epoch: 388 [9600/19577 (49%)]\tLoss: 0.002051\n",
      "Train Epoch: 388 [12800/19577 (65%)]\tLoss: 0.003183\n",
      "Train Epoch: 388 [16000/19577 (82%)]\tLoss: 0.007986\n",
      "Train Epoch: 388 [19200/19577 (98%)]\tLoss: 0.003928\n",
      "\n",
      "Train loss: 0.007272282580303309\n"
     ]
    },
    {
     "name": "stderr",
     "output_type": "stream",
     "text": [
      "\r",
      " 78%|███████▊  | 388/500 [53:49<13:41,  7.33s/it]"
     ]
    },
    {
     "name": "stdout",
     "output_type": "stream",
     "text": [
      "Test on 1143 samples\n",
      "R^2: -0.04\n",
      "Test Loss: 1.68%\n",
      "Train Epoch: 389 [0/19577 (0%)]\tLoss: 0.005320\n",
      "Train Epoch: 389 [3200/19577 (16%)]\tLoss: 0.003352\n",
      "Train Epoch: 389 [6400/19577 (33%)]\tLoss: 0.005266\n",
      "Train Epoch: 389 [9600/19577 (49%)]\tLoss: 0.011521\n",
      "Train Epoch: 389 [12800/19577 (65%)]\tLoss: 0.005742\n",
      "Train Epoch: 389 [16000/19577 (82%)]\tLoss: 0.006805\n",
      "Train Epoch: 389 [19200/19577 (98%)]\tLoss: 0.004683\n",
      "\n",
      "Train loss: 0.007281629746822409\n"
     ]
    },
    {
     "name": "stderr",
     "output_type": "stream",
     "text": [
      "\r",
      " 78%|███████▊  | 389/500 [53:56<13:19,  7.21s/it]"
     ]
    },
    {
     "name": "stdout",
     "output_type": "stream",
     "text": [
      "Test on 1143 samples\n",
      "R^2: -0.64\n",
      "Test Loss: 1.68%\n",
      "Train Epoch: 390 [0/19577 (0%)]\tLoss: 0.006979\n",
      "Train Epoch: 390 [3200/19577 (16%)]\tLoss: 0.005191\n",
      "Train Epoch: 390 [6400/19577 (33%)]\tLoss: 0.004635\n",
      "Train Epoch: 390 [9600/19577 (49%)]\tLoss: 0.002286\n",
      "Train Epoch: 390 [12800/19577 (65%)]\tLoss: 0.005748\n",
      "Train Epoch: 390 [16000/19577 (82%)]\tLoss: 0.005480\n",
      "Train Epoch: 390 [19200/19577 (98%)]\tLoss: 0.002465\n",
      "\n",
      "Train loss: 0.007279096699694135\n"
     ]
    },
    {
     "name": "stderr",
     "output_type": "stream",
     "text": [
      "\r",
      " 78%|███████▊  | 390/500 [54:03<13:18,  7.25s/it]"
     ]
    },
    {
     "name": "stdout",
     "output_type": "stream",
     "text": [
      "Test on 1143 samples\n",
      "R^2: -0.05\n",
      "Test Loss: 1.69%\n",
      "Train Epoch: 391 [0/19577 (0%)]\tLoss: 0.005164\n",
      "Train Epoch: 391 [3200/19577 (16%)]\tLoss: 0.007291\n",
      "Train Epoch: 391 [6400/19577 (33%)]\tLoss: 0.004712\n",
      "Train Epoch: 391 [9600/19577 (49%)]\tLoss: 0.004150\n",
      "Train Epoch: 391 [12800/19577 (65%)]\tLoss: 0.003070\n",
      "Train Epoch: 391 [16000/19577 (82%)]\tLoss: 0.004141\n",
      "Train Epoch: 391 [19200/19577 (98%)]\tLoss: 0.005112\n",
      "\n",
      "Train loss: 0.007288675815372247\n"
     ]
    },
    {
     "name": "stderr",
     "output_type": "stream",
     "text": [
      "\r",
      " 78%|███████▊  | 391/500 [54:10<12:57,  7.13s/it]"
     ]
    },
    {
     "name": "stdout",
     "output_type": "stream",
     "text": [
      "Test on 1143 samples\n",
      "R^2: -0.10\n",
      "Test Loss: 1.68%\n",
      "Train Epoch: 392 [0/19577 (0%)]\tLoss: 0.005328\n",
      "Train Epoch: 392 [3200/19577 (16%)]\tLoss: 0.005624\n",
      "Train Epoch: 392 [6400/19577 (33%)]\tLoss: 0.004597\n",
      "Train Epoch: 392 [9600/19577 (49%)]\tLoss: 0.005986\n",
      "Train Epoch: 392 [12800/19577 (65%)]\tLoss: 0.004762\n",
      "Train Epoch: 392 [16000/19577 (82%)]\tLoss: 0.002868\n",
      "Train Epoch: 392 [19200/19577 (98%)]\tLoss: 0.006033\n",
      "\n",
      "Train loss: 0.007290916180305086\n"
     ]
    },
    {
     "name": "stderr",
     "output_type": "stream",
     "text": [
      "\r",
      " 78%|███████▊  | 392/500 [54:17<12:39,  7.03s/it]"
     ]
    },
    {
     "name": "stdout",
     "output_type": "stream",
     "text": [
      "Test on 1143 samples\n",
      "R^2: -0.51\n",
      "Test Loss: 1.70%\n",
      "Train Epoch: 393 [0/19577 (0%)]\tLoss: 0.005757\n",
      "Train Epoch: 393 [3200/19577 (16%)]\tLoss: 0.006080\n",
      "Train Epoch: 393 [6400/19577 (33%)]\tLoss: 0.003507\n",
      "Train Epoch: 393 [9600/19577 (49%)]\tLoss: 0.005936\n",
      "Train Epoch: 393 [12800/19577 (65%)]\tLoss: 0.010922\n",
      "Train Epoch: 393 [16000/19577 (82%)]\tLoss: 0.004350\n",
      "Train Epoch: 393 [19200/19577 (98%)]\tLoss: 0.006345\n",
      "\n",
      "Train loss: 0.007281447670215534\n"
     ]
    },
    {
     "name": "stderr",
     "output_type": "stream",
     "text": [
      "\r",
      " 79%|███████▊  | 393/500 [54:24<12:33,  7.04s/it]"
     ]
    },
    {
     "name": "stdout",
     "output_type": "stream",
     "text": [
      "Test on 1143 samples\n",
      "R^2: -2.38\n",
      "Test Loss: 1.70%\n",
      "Train Epoch: 394 [0/19577 (0%)]\tLoss: 0.008162\n",
      "Train Epoch: 394 [3200/19577 (16%)]\tLoss: 0.007900\n",
      "Train Epoch: 394 [6400/19577 (33%)]\tLoss: 0.004739\n",
      "Train Epoch: 394 [9600/19577 (49%)]\tLoss: 0.008733\n",
      "Train Epoch: 394 [12800/19577 (65%)]\tLoss: 0.004201\n",
      "Train Epoch: 394 [16000/19577 (82%)]\tLoss: 0.003197\n",
      "Train Epoch: 394 [19200/19577 (98%)]\tLoss: 0.005426\n",
      "\n",
      "Train loss: 0.0072588097240191465\n"
     ]
    },
    {
     "name": "stderr",
     "output_type": "stream",
     "text": [
      "\r",
      " 79%|███████▉  | 394/500 [54:31<12:20,  6.98s/it]"
     ]
    },
    {
     "name": "stdout",
     "output_type": "stream",
     "text": [
      "Test on 1143 samples\n",
      "R^2: -0.07\n",
      "Test Loss: 1.69%\n",
      "Train Epoch: 395 [0/19577 (0%)]\tLoss: 0.005719\n",
      "Train Epoch: 395 [3200/19577 (16%)]\tLoss: 0.004838\n",
      "Train Epoch: 395 [6400/19577 (33%)]\tLoss: 0.010660\n",
      "Train Epoch: 395 [9600/19577 (49%)]\tLoss: 0.008830\n",
      "Train Epoch: 395 [12800/19577 (65%)]\tLoss: 0.008880\n",
      "Train Epoch: 395 [16000/19577 (82%)]\tLoss: 0.005951\n",
      "Train Epoch: 395 [19200/19577 (98%)]\tLoss: 0.002722\n",
      "\n",
      "Train loss: 0.007281433475155115\n"
     ]
    },
    {
     "name": "stderr",
     "output_type": "stream",
     "text": [
      "\r",
      " 79%|███████▉  | 395/500 [54:38<12:11,  6.97s/it]"
     ]
    },
    {
     "name": "stdout",
     "output_type": "stream",
     "text": [
      "Test on 1143 samples\n",
      "R^2: -0.68\n",
      "Test Loss: 1.68%\n",
      "Train Epoch: 396 [0/19577 (0%)]\tLoss: 0.003344\n",
      "Train Epoch: 396 [3200/19577 (16%)]\tLoss: 0.003271\n",
      "Train Epoch: 396 [6400/19577 (33%)]\tLoss: 0.004630\n",
      "Train Epoch: 396 [9600/19577 (49%)]\tLoss: 0.006094\n",
      "Train Epoch: 396 [12800/19577 (65%)]\tLoss: 0.006803\n",
      "Train Epoch: 396 [16000/19577 (82%)]\tLoss: 0.004028\n",
      "Train Epoch: 396 [19200/19577 (98%)]\tLoss: 0.007196\n",
      "\n",
      "Train loss: 0.007265846159771766\n"
     ]
    },
    {
     "name": "stderr",
     "output_type": "stream",
     "text": [
      "\r",
      " 79%|███████▉  | 396/500 [54:44<11:59,  6.92s/it]"
     ]
    },
    {
     "name": "stdout",
     "output_type": "stream",
     "text": [
      "Test on 1143 samples\n",
      "R^2: -0.71\n",
      "Test Loss: 1.70%\n",
      "Train Epoch: 397 [0/19577 (0%)]\tLoss: 0.002703\n",
      "Train Epoch: 397 [3200/19577 (16%)]\tLoss: 0.012102\n",
      "Train Epoch: 397 [6400/19577 (33%)]\tLoss: 0.004727\n",
      "Train Epoch: 397 [9600/19577 (49%)]\tLoss: 0.006927\n",
      "Train Epoch: 397 [12800/19577 (65%)]\tLoss: 0.010781\n",
      "Train Epoch: 397 [16000/19577 (82%)]\tLoss: 0.007276\n",
      "Train Epoch: 397 [19200/19577 (98%)]\tLoss: 0.006863\n",
      "\n",
      "Train loss: 0.00728296737408789\n"
     ]
    },
    {
     "name": "stderr",
     "output_type": "stream",
     "text": [
      "\r",
      " 79%|███████▉  | 397/500 [54:51<11:51,  6.90s/it]"
     ]
    },
    {
     "name": "stdout",
     "output_type": "stream",
     "text": [
      "Test on 1143 samples\n",
      "R^2: -1.03\n",
      "Test Loss: 1.68%\n",
      "Train Epoch: 398 [0/19577 (0%)]\tLoss: 0.004344\n",
      "Train Epoch: 398 [3200/19577 (16%)]\tLoss: 0.006412\n",
      "Train Epoch: 398 [6400/19577 (33%)]\tLoss: 0.005123\n",
      "Train Epoch: 398 [9600/19577 (49%)]\tLoss: 0.005246\n",
      "Train Epoch: 398 [12800/19577 (65%)]\tLoss: 0.004065\n",
      "Train Epoch: 398 [16000/19577 (82%)]\tLoss: 0.003089\n",
      "Train Epoch: 398 [19200/19577 (98%)]\tLoss: 0.004656\n",
      "\n",
      "Train loss: 0.007288231564612657\n"
     ]
    },
    {
     "name": "stderr",
     "output_type": "stream",
     "text": [
      "\r",
      " 80%|███████▉  | 398/500 [54:58<11:45,  6.92s/it]"
     ]
    },
    {
     "name": "stdout",
     "output_type": "stream",
     "text": [
      "Test on 1143 samples\n",
      "R^2: -0.11\n",
      "Test Loss: 1.69%\n",
      "Train Epoch: 399 [0/19577 (0%)]\tLoss: 0.008466\n",
      "Train Epoch: 399 [3200/19577 (16%)]\tLoss: 0.004537\n",
      "Train Epoch: 399 [6400/19577 (33%)]\tLoss: 0.006602\n",
      "Train Epoch: 399 [9600/19577 (49%)]\tLoss: 0.004671\n",
      "Train Epoch: 399 [12800/19577 (65%)]\tLoss: 0.011664\n",
      "Train Epoch: 399 [16000/19577 (82%)]\tLoss: 0.007755\n",
      "Train Epoch: 399 [19200/19577 (98%)]\tLoss: 0.006452\n",
      "\n",
      "Train loss: 0.007247504922013511\n"
     ]
    },
    {
     "name": "stderr",
     "output_type": "stream",
     "text": [
      "\r",
      " 80%|███████▉  | 399/500 [55:05<11:42,  6.95s/it]"
     ]
    },
    {
     "name": "stdout",
     "output_type": "stream",
     "text": [
      "Test on 1143 samples\n",
      "R^2: -0.39\n",
      "Test Loss: 1.68%\n",
      "Train Epoch: 400 [0/19577 (0%)]\tLoss: 0.004082\n",
      "Train Epoch: 400 [3200/19577 (16%)]\tLoss: 0.003566\n",
      "Train Epoch: 400 [6400/19577 (33%)]\tLoss: 0.003411\n",
      "Train Epoch: 400 [9600/19577 (49%)]\tLoss: 0.004698\n",
      "Train Epoch: 400 [12800/19577 (65%)]\tLoss: 0.004576\n",
      "Train Epoch: 400 [16000/19577 (82%)]\tLoss: 0.008016\n",
      "Train Epoch: 400 [19200/19577 (98%)]\tLoss: 0.003531\n",
      "\n",
      "Train loss: 0.00725966210445097\n"
     ]
    },
    {
     "name": "stderr",
     "output_type": "stream",
     "text": [
      "\r",
      " 80%|████████  | 400/500 [55:13<12:04,  7.24s/it]"
     ]
    },
    {
     "name": "stdout",
     "output_type": "stream",
     "text": [
      "Test on 1143 samples\n",
      "R^2: -1.09\n",
      "Test Loss: 1.71%\n",
      "Train Epoch: 401 [0/19577 (0%)]\tLoss: 0.004341\n",
      "Train Epoch: 401 [3200/19577 (16%)]\tLoss: 0.006851\n",
      "Train Epoch: 401 [6400/19577 (33%)]\tLoss: 0.004218\n",
      "Train Epoch: 401 [9600/19577 (49%)]\tLoss: 0.004861\n",
      "Train Epoch: 401 [12800/19577 (65%)]\tLoss: 0.005916\n",
      "Train Epoch: 401 [16000/19577 (82%)]\tLoss: 0.007517\n",
      "Train Epoch: 401 [19200/19577 (98%)]\tLoss: 0.005382\n",
      "\n",
      "Train loss: 0.007277849817411134\n"
     ]
    },
    {
     "name": "stderr",
     "output_type": "stream",
     "text": [
      "\r",
      " 80%|████████  | 401/500 [55:20<11:52,  7.20s/it]"
     ]
    },
    {
     "name": "stdout",
     "output_type": "stream",
     "text": [
      "Test on 1143 samples\n",
      "R^2: -1.89\n",
      "Test Loss: 1.72%\n",
      "Train Epoch: 402 [0/19577 (0%)]\tLoss: 0.004871\n",
      "Train Epoch: 402 [3200/19577 (16%)]\tLoss: 0.008794\n",
      "Train Epoch: 402 [6400/19577 (33%)]\tLoss: 0.003861\n",
      "Train Epoch: 402 [9600/19577 (49%)]\tLoss: 0.004033\n",
      "Train Epoch: 402 [12800/19577 (65%)]\tLoss: 0.003225\n",
      "Train Epoch: 402 [16000/19577 (82%)]\tLoss: 0.003312\n",
      "Train Epoch: 402 [19200/19577 (98%)]\tLoss: 0.015338\n",
      "\n",
      "Train loss: 0.007264977981095975\n"
     ]
    },
    {
     "name": "stderr",
     "output_type": "stream",
     "text": [
      "\r",
      " 80%|████████  | 402/500 [55:28<11:55,  7.30s/it]"
     ]
    },
    {
     "name": "stdout",
     "output_type": "stream",
     "text": [
      "Test on 1143 samples\n",
      "R^2: -0.76\n",
      "Test Loss: 1.67%\n",
      "Train Epoch: 403 [0/19577 (0%)]\tLoss: 0.003380\n",
      "Train Epoch: 403 [3200/19577 (16%)]\tLoss: 0.008438\n",
      "Train Epoch: 403 [6400/19577 (33%)]\tLoss: 0.006430\n",
      "Train Epoch: 403 [9600/19577 (49%)]\tLoss: 0.003405\n",
      "Train Epoch: 403 [12800/19577 (65%)]\tLoss: 0.003665\n",
      "Train Epoch: 403 [16000/19577 (82%)]\tLoss: 0.007711\n",
      "Train Epoch: 403 [19200/19577 (98%)]\tLoss: 0.003677\n",
      "\n",
      "Train loss: 0.00729180729850591\n"
     ]
    },
    {
     "name": "stderr",
     "output_type": "stream",
     "text": [
      "\r",
      " 81%|████████  | 403/500 [55:36<12:06,  7.49s/it]"
     ]
    },
    {
     "name": "stdout",
     "output_type": "stream",
     "text": [
      "Test on 1143 samples\n",
      "R^2: -0.02\n",
      "Test Loss: 1.68%\n",
      "Train Epoch: 404 [0/19577 (0%)]\tLoss: 0.004942\n",
      "Train Epoch: 404 [3200/19577 (16%)]\tLoss: 0.350148\n",
      "Train Epoch: 404 [6400/19577 (33%)]\tLoss: 0.005423\n",
      "Train Epoch: 404 [9600/19577 (49%)]\tLoss: 0.003978\n",
      "Train Epoch: 404 [12800/19577 (65%)]\tLoss: 0.005613\n",
      "Train Epoch: 404 [16000/19577 (82%)]\tLoss: 0.007719\n",
      "Train Epoch: 404 [19200/19577 (98%)]\tLoss: 0.003026\n",
      "\n",
      "Train loss: 0.007264845462415514\n"
     ]
    },
    {
     "name": "stderr",
     "output_type": "stream",
     "text": [
      "\r",
      " 81%|████████  | 404/500 [55:44<12:08,  7.59s/it]"
     ]
    },
    {
     "name": "stdout",
     "output_type": "stream",
     "text": [
      "Test on 1143 samples\n",
      "R^2: -0.32\n",
      "Test Loss: 1.68%\n",
      "Train Epoch: 405 [0/19577 (0%)]\tLoss: 0.006305\n",
      "Train Epoch: 405 [3200/19577 (16%)]\tLoss: 0.011286\n",
      "Train Epoch: 405 [6400/19577 (33%)]\tLoss: 0.004240\n",
      "Train Epoch: 405 [9600/19577 (49%)]\tLoss: 0.003311\n",
      "Train Epoch: 405 [12800/19577 (65%)]\tLoss: 0.007614\n",
      "Train Epoch: 405 [16000/19577 (82%)]\tLoss: 0.007186\n",
      "Train Epoch: 405 [19200/19577 (98%)]\tLoss: 0.007700\n",
      "\n",
      "Train loss: 0.007271746094369032\n"
     ]
    },
    {
     "name": "stderr",
     "output_type": "stream",
     "text": [
      "\r",
      " 81%|████████  | 405/500 [55:51<11:52,  7.50s/it]"
     ]
    },
    {
     "name": "stdout",
     "output_type": "stream",
     "text": [
      "Test on 1143 samples\n",
      "R^2: -0.03\n",
      "Test Loss: 1.68%\n",
      "Train Epoch: 406 [0/19577 (0%)]\tLoss: 0.005598\n",
      "Train Epoch: 406 [3200/19577 (16%)]\tLoss: 0.026788\n",
      "Train Epoch: 406 [6400/19577 (33%)]\tLoss: 0.004025\n",
      "Train Epoch: 406 [9600/19577 (49%)]\tLoss: 0.006869\n",
      "Train Epoch: 406 [12800/19577 (65%)]\tLoss: 0.004940\n",
      "Train Epoch: 406 [16000/19577 (82%)]\tLoss: 0.005738\n",
      "Train Epoch: 406 [19200/19577 (98%)]\tLoss: 0.006280\n",
      "\n",
      "Train loss: 0.007274834209751776\n"
     ]
    },
    {
     "name": "stderr",
     "output_type": "stream",
     "text": [
      "\r",
      " 81%|████████  | 406/500 [55:58<11:39,  7.45s/it]"
     ]
    },
    {
     "name": "stdout",
     "output_type": "stream",
     "text": [
      "Test on 1143 samples\n",
      "R^2: -0.44\n",
      "Test Loss: 1.67%\n",
      "Train Epoch: 407 [0/19577 (0%)]\tLoss: 0.005642\n",
      "Train Epoch: 407 [3200/19577 (16%)]\tLoss: 0.010388\n",
      "Train Epoch: 407 [6400/19577 (33%)]\tLoss: 0.013335\n",
      "Train Epoch: 407 [9600/19577 (49%)]\tLoss: 0.008437\n",
      "Train Epoch: 407 [12800/19577 (65%)]\tLoss: 0.004891\n",
      "Train Epoch: 407 [16000/19577 (82%)]\tLoss: 0.006304\n",
      "Train Epoch: 407 [19200/19577 (98%)]\tLoss: 0.003418\n",
      "\n",
      "Train loss: 0.007221678577765238\n"
     ]
    },
    {
     "name": "stderr",
     "output_type": "stream",
     "text": [
      "\r",
      " 81%|████████▏ | 407/500 [56:05<11:15,  7.27s/it]"
     ]
    },
    {
     "name": "stdout",
     "output_type": "stream",
     "text": [
      "Test on 1143 samples\n",
      "R^2: -0.02\n",
      "Test Loss: 1.68%\n",
      "Train Epoch: 408 [0/19577 (0%)]\tLoss: 0.006587\n",
      "Train Epoch: 408 [3200/19577 (16%)]\tLoss: 0.008705\n",
      "Train Epoch: 408 [6400/19577 (33%)]\tLoss: 0.009143\n",
      "Train Epoch: 408 [9600/19577 (49%)]\tLoss: 0.003184\n",
      "Train Epoch: 408 [12800/19577 (65%)]\tLoss: 0.005617\n",
      "Train Epoch: 408 [16000/19577 (82%)]\tLoss: 0.004086\n",
      "Train Epoch: 408 [19200/19577 (98%)]\tLoss: 0.007052\n",
      "\n",
      "Train loss: 0.007243905333251224\n"
     ]
    },
    {
     "name": "stderr",
     "output_type": "stream",
     "text": [
      "\r",
      " 82%|████████▏ | 408/500 [56:12<11:00,  7.18s/it]"
     ]
    },
    {
     "name": "stdout",
     "output_type": "stream",
     "text": [
      "Test on 1143 samples\n",
      "R^2: -0.21\n",
      "Test Loss: 1.67%\n",
      "Train Epoch: 409 [0/19577 (0%)]\tLoss: 0.008140\n",
      "Train Epoch: 409 [3200/19577 (16%)]\tLoss: 0.333160\n",
      "Train Epoch: 409 [6400/19577 (33%)]\tLoss: 0.005704\n",
      "Train Epoch: 409 [9600/19577 (49%)]\tLoss: 0.008419\n",
      "Train Epoch: 409 [12800/19577 (65%)]\tLoss: 0.010019\n",
      "Train Epoch: 409 [16000/19577 (82%)]\tLoss: 0.006586\n",
      "Train Epoch: 409 [19200/19577 (98%)]\tLoss: 0.004892\n",
      "\n",
      "Train loss: 0.007250614823800895\n"
     ]
    },
    {
     "name": "stderr",
     "output_type": "stream",
     "text": [
      "\r",
      " 82%|████████▏ | 409/500 [56:19<10:58,  7.23s/it]"
     ]
    },
    {
     "name": "stdout",
     "output_type": "stream",
     "text": [
      "Test on 1143 samples\n",
      "R^2: -1.26\n",
      "Test Loss: 1.71%\n",
      "Train Epoch: 410 [0/19577 (0%)]\tLoss: 0.003723\n",
      "Train Epoch: 410 [3200/19577 (16%)]\tLoss: 0.008277\n",
      "Train Epoch: 410 [6400/19577 (33%)]\tLoss: 0.007716\n",
      "Train Epoch: 410 [9600/19577 (49%)]\tLoss: 0.003474\n",
      "Train Epoch: 410 [12800/19577 (65%)]\tLoss: 0.009237\n",
      "Train Epoch: 410 [16000/19577 (82%)]\tLoss: 0.004678\n",
      "Train Epoch: 410 [19200/19577 (98%)]\tLoss: 0.005136\n",
      "\n",
      "Train loss: 0.007240220704998553\n"
     ]
    },
    {
     "name": "stderr",
     "output_type": "stream",
     "text": [
      "\r",
      " 82%|████████▏ | 410/500 [56:26<10:39,  7.10s/it]"
     ]
    },
    {
     "name": "stdout",
     "output_type": "stream",
     "text": [
      "Test on 1143 samples\n",
      "R^2: -3.66\n",
      "Test Loss: 1.70%\n",
      "Train Epoch: 411 [0/19577 (0%)]\tLoss: 0.007008\n",
      "Train Epoch: 411 [3200/19577 (16%)]\tLoss: 0.005586\n",
      "Train Epoch: 411 [6400/19577 (33%)]\tLoss: 0.004192\n",
      "Train Epoch: 411 [9600/19577 (49%)]\tLoss: 0.003966\n",
      "Train Epoch: 411 [12800/19577 (65%)]\tLoss: 0.007816\n",
      "Train Epoch: 411 [16000/19577 (82%)]\tLoss: 0.004344\n",
      "Train Epoch: 411 [19200/19577 (98%)]\tLoss: 0.006494\n",
      "\n",
      "Train loss: 0.007229977635837166\n"
     ]
    },
    {
     "name": "stderr",
     "output_type": "stream",
     "text": [
      "\r",
      " 82%|████████▏ | 411/500 [56:33<10:25,  7.02s/it]"
     ]
    },
    {
     "name": "stdout",
     "output_type": "stream",
     "text": [
      "Test on 1143 samples\n",
      "R^2: -2.03\n",
      "Test Loss: 1.72%\n",
      "Train Epoch: 412 [0/19577 (0%)]\tLoss: 0.002351\n",
      "Train Epoch: 412 [3200/19577 (16%)]\tLoss: 0.004979\n",
      "Train Epoch: 412 [6400/19577 (33%)]\tLoss: 0.002527\n",
      "Train Epoch: 412 [9600/19577 (49%)]\tLoss: 0.004571\n",
      "Train Epoch: 412 [12800/19577 (65%)]\tLoss: 0.005857\n",
      "Train Epoch: 412 [16000/19577 (82%)]\tLoss: 0.003992\n",
      "Train Epoch: 412 [19200/19577 (98%)]\tLoss: 0.004017\n",
      "\n",
      "Train loss: 0.007231396652630293\n"
     ]
    },
    {
     "name": "stderr",
     "output_type": "stream",
     "text": [
      "\r",
      " 82%|████████▏ | 412/500 [56:40<10:29,  7.15s/it]"
     ]
    },
    {
     "name": "stdout",
     "output_type": "stream",
     "text": [
      "Test on 1143 samples\n",
      "R^2: -0.61\n",
      "Test Loss: 1.68%\n",
      "Train Epoch: 413 [0/19577 (0%)]\tLoss: 0.006289\n",
      "Train Epoch: 413 [3200/19577 (16%)]\tLoss: 0.002894\n",
      "Train Epoch: 413 [6400/19577 (33%)]\tLoss: 0.006263\n",
      "Train Epoch: 413 [9600/19577 (49%)]\tLoss: 0.007534\n",
      "Train Epoch: 413 [12800/19577 (65%)]\tLoss: 0.004740\n",
      "Train Epoch: 413 [16000/19577 (82%)]\tLoss: 0.008484\n",
      "Train Epoch: 413 [19200/19577 (98%)]\tLoss: 0.003771\n",
      "\n",
      "Train loss: 0.007239288054300119\n"
     ]
    },
    {
     "name": "stderr",
     "output_type": "stream",
     "text": [
      "\r",
      " 83%|████████▎ | 413/500 [56:47<10:13,  7.05s/it]"
     ]
    },
    {
     "name": "stdout",
     "output_type": "stream",
     "text": [
      "Test on 1143 samples\n",
      "R^2: -0.85\n",
      "Test Loss: 1.70%\n",
      "Train Epoch: 414 [0/19577 (0%)]\tLoss: 0.005074\n",
      "Train Epoch: 414 [3200/19577 (16%)]\tLoss: 0.002646\n",
      "Train Epoch: 414 [6400/19577 (33%)]\tLoss: 0.007465\n",
      "Train Epoch: 414 [9600/19577 (49%)]\tLoss: 0.005423\n",
      "Train Epoch: 414 [12800/19577 (65%)]\tLoss: 0.015894\n",
      "Train Epoch: 414 [16000/19577 (82%)]\tLoss: 0.005376\n",
      "Train Epoch: 414 [19200/19577 (98%)]\tLoss: 0.003389\n",
      "\n",
      "Train loss: 0.007217957575811573\n"
     ]
    },
    {
     "name": "stderr",
     "output_type": "stream",
     "text": [
      "\r",
      " 83%|████████▎ | 414/500 [56:54<10:00,  6.98s/it]"
     ]
    },
    {
     "name": "stdout",
     "output_type": "stream",
     "text": [
      "Test on 1143 samples\n",
      "R^2: -0.48\n",
      "Test Loss: 1.67%\n",
      "Train Epoch: 415 [0/19577 (0%)]\tLoss: 0.004742\n",
      "Train Epoch: 415 [3200/19577 (16%)]\tLoss: 0.007362\n",
      "Train Epoch: 415 [6400/19577 (33%)]\tLoss: 0.004360\n",
      "Train Epoch: 415 [9600/19577 (49%)]\tLoss: 0.007229\n",
      "Train Epoch: 415 [12800/19577 (65%)]\tLoss: 0.003797\n",
      "Train Epoch: 415 [16000/19577 (82%)]\tLoss: 0.004815\n",
      "Train Epoch: 415 [19200/19577 (98%)]\tLoss: 0.005971\n",
      "\n",
      "Train loss: 0.007222115514903433\n"
     ]
    },
    {
     "name": "stderr",
     "output_type": "stream",
     "text": [
      "\r",
      " 83%|████████▎ | 415/500 [57:01<09:55,  7.00s/it]"
     ]
    },
    {
     "name": "stdout",
     "output_type": "stream",
     "text": [
      "Test on 1143 samples\n",
      "R^2: -6.25\n",
      "Test Loss: 1.72%\n",
      "Train Epoch: 416 [0/19577 (0%)]\tLoss: 0.007145\n",
      "Train Epoch: 416 [3200/19577 (16%)]\tLoss: 0.005339\n",
      "Train Epoch: 416 [6400/19577 (33%)]\tLoss: 0.002909\n",
      "Train Epoch: 416 [9600/19577 (49%)]\tLoss: 0.004165\n",
      "Train Epoch: 416 [12800/19577 (65%)]\tLoss: 0.011543\n",
      "Train Epoch: 416 [16000/19577 (82%)]\tLoss: 0.004774\n",
      "Train Epoch: 416 [19200/19577 (98%)]\tLoss: 0.006127\n",
      "\n",
      "Train loss: 0.007211741165781479\n"
     ]
    },
    {
     "name": "stderr",
     "output_type": "stream",
     "text": [
      "\r",
      " 83%|████████▎ | 416/500 [57:08<09:57,  7.11s/it]"
     ]
    },
    {
     "name": "stdout",
     "output_type": "stream",
     "text": [
      "Test on 1143 samples\n",
      "R^2: -1.43\n",
      "Test Loss: 1.70%\n",
      "Train Epoch: 417 [0/19577 (0%)]\tLoss: 0.005517\n",
      "Train Epoch: 417 [3200/19577 (16%)]\tLoss: 0.004306\n",
      "Train Epoch: 417 [6400/19577 (33%)]\tLoss: 0.004445\n",
      "Train Epoch: 417 [9600/19577 (49%)]\tLoss: 0.003262\n",
      "Train Epoch: 417 [12800/19577 (65%)]\tLoss: 0.004328\n",
      "Train Epoch: 417 [16000/19577 (82%)]\tLoss: 0.003544\n",
      "Train Epoch: 417 [19200/19577 (98%)]\tLoss: 0.004287\n",
      "\n",
      "Train loss: 0.007242632477796862\n"
     ]
    },
    {
     "name": "stderr",
     "output_type": "stream",
     "text": [
      "\r",
      " 83%|████████▎ | 417/500 [57:16<09:59,  7.22s/it]"
     ]
    },
    {
     "name": "stdout",
     "output_type": "stream",
     "text": [
      "Test on 1143 samples\n",
      "R^2: 0.01\n",
      "Test Loss: 1.67%\n",
      "Train Epoch: 418 [0/19577 (0%)]\tLoss: 0.004511\n",
      "Train Epoch: 418 [3200/19577 (16%)]\tLoss: 0.004326\n",
      "Train Epoch: 418 [6400/19577 (33%)]\tLoss: 0.013476\n",
      "Train Epoch: 418 [9600/19577 (49%)]\tLoss: 0.005044\n",
      "Train Epoch: 418 [12800/19577 (65%)]\tLoss: 0.005673\n",
      "Train Epoch: 418 [16000/19577 (82%)]\tLoss: 0.003687\n",
      "Train Epoch: 418 [19200/19577 (98%)]\tLoss: 0.007232\n",
      "\n",
      "Train loss: 0.007224273340612212\n"
     ]
    },
    {
     "name": "stderr",
     "output_type": "stream",
     "text": [
      "\r",
      " 84%|████████▎ | 418/500 [57:23<09:46,  7.15s/it]"
     ]
    },
    {
     "name": "stdout",
     "output_type": "stream",
     "text": [
      "Test on 1143 samples\n",
      "R^2: -2.68\n",
      "Test Loss: 1.69%\n",
      "Train Epoch: 419 [0/19577 (0%)]\tLoss: 0.002869\n",
      "Train Epoch: 419 [3200/19577 (16%)]\tLoss: 0.003868\n",
      "Train Epoch: 419 [6400/19577 (33%)]\tLoss: 0.004512\n",
      "Train Epoch: 419 [9600/19577 (49%)]\tLoss: 0.003418\n",
      "Train Epoch: 419 [12800/19577 (65%)]\tLoss: 0.008794\n",
      "Train Epoch: 419 [16000/19577 (82%)]\tLoss: 0.004977\n",
      "Train Epoch: 419 [19200/19577 (98%)]\tLoss: 0.006744\n",
      "\n",
      "Train loss: 0.007235115371169705\n"
     ]
    },
    {
     "name": "stderr",
     "output_type": "stream",
     "text": [
      "\r",
      " 84%|████████▍ | 419/500 [57:33<10:43,  7.95s/it]"
     ]
    },
    {
     "name": "stdout",
     "output_type": "stream",
     "text": [
      "Test on 1143 samples\n",
      "R^2: -1.51\n",
      "Test Loss: 1.71%\n",
      "Train Epoch: 420 [0/19577 (0%)]\tLoss: 0.004965\n",
      "Train Epoch: 420 [3200/19577 (16%)]\tLoss: 0.003216\n",
      "Train Epoch: 420 [6400/19577 (33%)]\tLoss: 0.011545\n",
      "Train Epoch: 420 [9600/19577 (49%)]\tLoss: 0.006219\n",
      "Train Epoch: 420 [12800/19577 (65%)]\tLoss: 0.003630\n",
      "Train Epoch: 420 [16000/19577 (82%)]\tLoss: 0.005150\n",
      "Train Epoch: 420 [19200/19577 (98%)]\tLoss: 0.004709\n",
      "\n",
      "Train loss: 0.007211981678314604\n"
     ]
    },
    {
     "name": "stderr",
     "output_type": "stream",
     "text": [
      "\r",
      " 84%|████████▍ | 420/500 [57:40<10:26,  7.83s/it]"
     ]
    },
    {
     "name": "stdout",
     "output_type": "stream",
     "text": [
      "Test on 1143 samples\n",
      "R^2: -1.20\n",
      "Test Loss: 1.70%\n",
      "Train Epoch: 421 [0/19577 (0%)]\tLoss: 0.005850\n",
      "Train Epoch: 421 [3200/19577 (16%)]\tLoss: 0.006570\n",
      "Train Epoch: 421 [6400/19577 (33%)]\tLoss: 0.004131\n",
      "Train Epoch: 421 [9600/19577 (49%)]\tLoss: 0.004009\n",
      "Train Epoch: 421 [12800/19577 (65%)]\tLoss: 0.003575\n",
      "Train Epoch: 421 [16000/19577 (82%)]\tLoss: 0.006128\n",
      "Train Epoch: 421 [19200/19577 (98%)]\tLoss: 0.004571\n",
      "\n",
      "Train loss: 0.007216703351754452\n"
     ]
    },
    {
     "name": "stderr",
     "output_type": "stream",
     "text": [
      "\r",
      " 84%|████████▍ | 421/500 [57:48<10:16,  7.80s/it]"
     ]
    },
    {
     "name": "stdout",
     "output_type": "stream",
     "text": [
      "Test on 1143 samples\n",
      "R^2: -0.21\n",
      "Test Loss: 1.67%\n",
      "Train Epoch: 422 [0/19577 (0%)]\tLoss: 0.005059\n",
      "Train Epoch: 422 [3200/19577 (16%)]\tLoss: 0.006867\n",
      "Train Epoch: 422 [6400/19577 (33%)]\tLoss: 0.005368\n",
      "Train Epoch: 422 [9600/19577 (49%)]\tLoss: 0.015425\n",
      "Train Epoch: 422 [12800/19577 (65%)]\tLoss: 0.004277\n",
      "Train Epoch: 422 [16000/19577 (82%)]\tLoss: 0.008790\n",
      "Train Epoch: 422 [19200/19577 (98%)]\tLoss: 0.007836\n",
      "\n",
      "Train loss: 0.007217275894100906\n"
     ]
    },
    {
     "name": "stderr",
     "output_type": "stream",
     "text": [
      "\r",
      " 84%|████████▍ | 422/500 [57:55<09:48,  7.55s/it]"
     ]
    },
    {
     "name": "stdout",
     "output_type": "stream",
     "text": [
      "Test on 1143 samples\n",
      "R^2: -0.39\n",
      "Test Loss: 1.67%\n",
      "Train Epoch: 423 [0/19577 (0%)]\tLoss: 0.005116\n",
      "Train Epoch: 423 [3200/19577 (16%)]\tLoss: 0.006338\n",
      "Train Epoch: 423 [6400/19577 (33%)]\tLoss: 0.006377\n",
      "Train Epoch: 423 [9600/19577 (49%)]\tLoss: 0.010719\n",
      "Train Epoch: 423 [12800/19577 (65%)]\tLoss: 0.005887\n",
      "Train Epoch: 423 [16000/19577 (82%)]\tLoss: 0.005075\n",
      "Train Epoch: 423 [19200/19577 (98%)]\tLoss: 0.003158\n",
      "\n",
      "Train loss: 0.00721495045315523\n"
     ]
    },
    {
     "name": "stderr",
     "output_type": "stream",
     "text": [
      "\r",
      " 85%|████████▍ | 423/500 [58:03<09:54,  7.72s/it]"
     ]
    },
    {
     "name": "stdout",
     "output_type": "stream",
     "text": [
      "Test on 1143 samples\n",
      "R^2: -0.04\n",
      "Test Loss: 1.67%\n",
      "Train Epoch: 424 [0/19577 (0%)]\tLoss: 0.002521\n",
      "Train Epoch: 424 [3200/19577 (16%)]\tLoss: 0.005762\n",
      "Train Epoch: 424 [6400/19577 (33%)]\tLoss: 0.008769\n",
      "Train Epoch: 424 [9600/19577 (49%)]\tLoss: 0.010001\n",
      "Train Epoch: 424 [12800/19577 (65%)]\tLoss: 0.003678\n",
      "Train Epoch: 424 [16000/19577 (82%)]\tLoss: 0.004590\n",
      "Train Epoch: 424 [19200/19577 (98%)]\tLoss: 0.004298\n",
      "\n",
      "Train loss: 0.007202991425193652\n"
     ]
    },
    {
     "name": "stderr",
     "output_type": "stream",
     "text": [
      "\r",
      " 85%|████████▍ | 424/500 [58:10<09:25,  7.44s/it]"
     ]
    },
    {
     "name": "stdout",
     "output_type": "stream",
     "text": [
      "Test on 1143 samples\n",
      "R^2: -0.01\n",
      "Test Loss: 1.67%\n",
      "Train Epoch: 425 [0/19577 (0%)]\tLoss: 0.004995\n",
      "Train Epoch: 425 [3200/19577 (16%)]\tLoss: 0.003153\n",
      "Train Epoch: 425 [6400/19577 (33%)]\tLoss: 0.006129\n",
      "Train Epoch: 425 [9600/19577 (49%)]\tLoss: 0.005800\n",
      "Train Epoch: 425 [12800/19577 (65%)]\tLoss: 0.006265\n",
      "Train Epoch: 425 [16000/19577 (82%)]\tLoss: 0.010829\n",
      "Train Epoch: 425 [19200/19577 (98%)]\tLoss: 0.006163\n",
      "\n",
      "Train loss: 0.0072054378098649965\n"
     ]
    },
    {
     "name": "stderr",
     "output_type": "stream",
     "text": [
      "\r",
      " 85%|████████▌ | 425/500 [58:17<09:02,  7.24s/it]"
     ]
    },
    {
     "name": "stdout",
     "output_type": "stream",
     "text": [
      "Test on 1143 samples\n",
      "R^2: -0.01\n",
      "Test Loss: 1.67%\n",
      "Train Epoch: 426 [0/19577 (0%)]\tLoss: 0.006726\n",
      "Train Epoch: 426 [3200/19577 (16%)]\tLoss: 0.002554\n",
      "Train Epoch: 426 [6400/19577 (33%)]\tLoss: 0.003485\n",
      "Train Epoch: 426 [9600/19577 (49%)]\tLoss: 0.003783\n",
      "Train Epoch: 426 [12800/19577 (65%)]\tLoss: 0.006362\n",
      "Train Epoch: 426 [16000/19577 (82%)]\tLoss: 0.007357\n",
      "Train Epoch: 426 [19200/19577 (98%)]\tLoss: 0.003824\n",
      "\n",
      "Train loss: 0.007233199262854588\n"
     ]
    },
    {
     "name": "stderr",
     "output_type": "stream",
     "text": [
      "\r",
      " 85%|████████▌ | 426/500 [58:24<08:47,  7.13s/it]"
     ]
    },
    {
     "name": "stdout",
     "output_type": "stream",
     "text": [
      "Test on 1143 samples\n",
      "R^2: -4.30\n",
      "Test Loss: 1.69%\n",
      "Train Epoch: 427 [0/19577 (0%)]\tLoss: 0.008838\n",
      "Train Epoch: 427 [3200/19577 (16%)]\tLoss: 0.010017\n",
      "Train Epoch: 427 [6400/19577 (33%)]\tLoss: 0.007125\n",
      "Train Epoch: 427 [9600/19577 (49%)]\tLoss: 0.003793\n",
      "Train Epoch: 427 [12800/19577 (65%)]\tLoss: 0.005682\n",
      "Train Epoch: 427 [16000/19577 (82%)]\tLoss: 0.005912\n",
      "Train Epoch: 427 [19200/19577 (98%)]\tLoss: 0.012361\n",
      "\n",
      "Train loss: 0.007226067646163108\n"
     ]
    },
    {
     "name": "stderr",
     "output_type": "stream",
     "text": [
      "\r",
      " 85%|████████▌ | 427/500 [58:30<08:33,  7.03s/it]"
     ]
    },
    {
     "name": "stdout",
     "output_type": "stream",
     "text": [
      "Test on 1143 samples\n",
      "R^2: -0.57\n",
      "Test Loss: 1.68%\n",
      "Train Epoch: 428 [0/19577 (0%)]\tLoss: 0.006859\n",
      "Train Epoch: 428 [3200/19577 (16%)]\tLoss: 0.004445\n",
      "Train Epoch: 428 [6400/19577 (33%)]\tLoss: 0.004290\n",
      "Train Epoch: 428 [9600/19577 (49%)]\tLoss: 0.005637\n",
      "Train Epoch: 428 [12800/19577 (65%)]\tLoss: 0.007187\n",
      "Train Epoch: 428 [16000/19577 (82%)]\tLoss: 0.004189\n",
      "Train Epoch: 428 [19200/19577 (98%)]\tLoss: 0.330520\n",
      "\n",
      "Train loss: 0.007203404905405383\n"
     ]
    },
    {
     "name": "stderr",
     "output_type": "stream",
     "text": [
      "\r",
      " 86%|████████▌ | 428/500 [58:37<08:24,  7.00s/it]"
     ]
    },
    {
     "name": "stdout",
     "output_type": "stream",
     "text": [
      "Test on 1143 samples\n",
      "R^2: -0.38\n",
      "Test Loss: 1.68%\n",
      "Train Epoch: 429 [0/19577 (0%)]\tLoss: 0.011039\n",
      "Train Epoch: 429 [3200/19577 (16%)]\tLoss: 0.006620\n",
      "Train Epoch: 429 [6400/19577 (33%)]\tLoss: 0.004318\n",
      "Train Epoch: 429 [9600/19577 (49%)]\tLoss: 0.005325\n",
      "Train Epoch: 429 [12800/19577 (65%)]\tLoss: 0.006077\n",
      "Train Epoch: 429 [16000/19577 (82%)]\tLoss: 0.004339\n",
      "Train Epoch: 429 [19200/19577 (98%)]\tLoss: 0.007125\n",
      "\n",
      "Train loss: 0.007218088726421781\n"
     ]
    },
    {
     "name": "stderr",
     "output_type": "stream",
     "text": [
      "\r",
      " 86%|████████▌ | 429/500 [58:44<08:13,  6.95s/it]"
     ]
    },
    {
     "name": "stdout",
     "output_type": "stream",
     "text": [
      "Test on 1143 samples\n",
      "R^2: -2.93\n",
      "Test Loss: 1.73%\n",
      "Train Epoch: 430 [0/19577 (0%)]\tLoss: 0.007131\n",
      "Train Epoch: 430 [3200/19577 (16%)]\tLoss: 0.008211\n",
      "Train Epoch: 430 [6400/19577 (33%)]\tLoss: 0.003798\n",
      "Train Epoch: 430 [9600/19577 (49%)]\tLoss: 0.003909\n",
      "Train Epoch: 430 [12800/19577 (65%)]\tLoss: 0.333162\n",
      "Train Epoch: 430 [16000/19577 (82%)]\tLoss: 0.003986\n",
      "Train Epoch: 430 [19200/19577 (98%)]\tLoss: 0.003964\n",
      "\n",
      "Train loss: 0.007213756976591338\n"
     ]
    },
    {
     "name": "stderr",
     "output_type": "stream",
     "text": [
      "\r",
      " 86%|████████▌ | 430/500 [58:51<08:05,  6.94s/it]"
     ]
    },
    {
     "name": "stdout",
     "output_type": "stream",
     "text": [
      "Test on 1143 samples\n",
      "R^2: -0.69\n",
      "Test Loss: 1.69%\n",
      "Train Epoch: 431 [0/19577 (0%)]\tLoss: 0.003393\n",
      "Train Epoch: 431 [3200/19577 (16%)]\tLoss: 0.002622\n",
      "Train Epoch: 431 [6400/19577 (33%)]\tLoss: 0.004520\n",
      "Train Epoch: 431 [9600/19577 (49%)]\tLoss: 0.008809\n",
      "Train Epoch: 431 [12800/19577 (65%)]\tLoss: 0.004286\n",
      "Train Epoch: 431 [16000/19577 (82%)]\tLoss: 0.011318\n",
      "Train Epoch: 431 [19200/19577 (98%)]\tLoss: 0.008133\n",
      "\n",
      "Train loss: 0.007186851564268247\n"
     ]
    },
    {
     "name": "stderr",
     "output_type": "stream",
     "text": [
      "\r",
      " 86%|████████▌ | 431/500 [58:58<07:59,  6.95s/it]"
     ]
    },
    {
     "name": "stdout",
     "output_type": "stream",
     "text": [
      "Test on 1143 samples\n",
      "R^2: -0.03\n",
      "Test Loss: 1.66%\n",
      "Train Epoch: 432 [0/19577 (0%)]\tLoss: 0.003157\n",
      "Train Epoch: 432 [3200/19577 (16%)]\tLoss: 0.009272\n",
      "Train Epoch: 432 [6400/19577 (33%)]\tLoss: 0.008098\n",
      "Train Epoch: 432 [9600/19577 (49%)]\tLoss: 0.006697\n",
      "Train Epoch: 432 [12800/19577 (65%)]\tLoss: 0.005107\n",
      "Train Epoch: 432 [16000/19577 (82%)]\tLoss: 0.003382\n",
      "Train Epoch: 432 [19200/19577 (98%)]\tLoss: 0.005002\n",
      "\n",
      "Train loss: 0.00720915806881499\n"
     ]
    },
    {
     "name": "stderr",
     "output_type": "stream",
     "text": [
      "\r",
      " 86%|████████▋ | 432/500 [59:05<07:55,  6.99s/it]"
     ]
    },
    {
     "name": "stdout",
     "output_type": "stream",
     "text": [
      "Test on 1143 samples\n",
      "R^2: -0.55\n",
      "Test Loss: 1.68%\n",
      "Train Epoch: 433 [0/19577 (0%)]\tLoss: 0.081769\n",
      "Train Epoch: 433 [3200/19577 (16%)]\tLoss: 0.007484\n",
      "Train Epoch: 433 [6400/19577 (33%)]\tLoss: 0.012028\n",
      "Train Epoch: 433 [9600/19577 (49%)]\tLoss: 0.011880\n",
      "Train Epoch: 433 [12800/19577 (65%)]\tLoss: 0.005139\n",
      "Train Epoch: 433 [16000/19577 (82%)]\tLoss: 0.003520\n",
      "Train Epoch: 433 [19200/19577 (98%)]\tLoss: 0.007390\n",
      "\n",
      "Train loss: 0.007188603263713566\n"
     ]
    },
    {
     "name": "stderr",
     "output_type": "stream",
     "text": [
      "\r",
      " 87%|████████▋ | 433/500 [59:12<07:44,  6.94s/it]"
     ]
    },
    {
     "name": "stdout",
     "output_type": "stream",
     "text": [
      "Test on 1143 samples\n",
      "R^2: -1.40\n",
      "Test Loss: 1.67%\n",
      "Train Epoch: 434 [0/19577 (0%)]\tLoss: 0.006527\n",
      "Train Epoch: 434 [3200/19577 (16%)]\tLoss: 0.005296\n",
      "Train Epoch: 434 [6400/19577 (33%)]\tLoss: 0.008384\n",
      "Train Epoch: 434 [9600/19577 (49%)]\tLoss: 0.014187\n",
      "Train Epoch: 434 [12800/19577 (65%)]\tLoss: 0.007601\n",
      "Train Epoch: 434 [16000/19577 (82%)]\tLoss: 0.004457\n",
      "Train Epoch: 434 [19200/19577 (98%)]\tLoss: 0.004729\n",
      "\n",
      "Train loss: 0.007188649396899041\n"
     ]
    },
    {
     "name": "stderr",
     "output_type": "stream",
     "text": [
      "\r",
      " 87%|████████▋ | 434/500 [59:20<07:51,  7.15s/it]"
     ]
    },
    {
     "name": "stdout",
     "output_type": "stream",
     "text": [
      "Test on 1143 samples\n",
      "R^2: -1.79\n",
      "Test Loss: 1.66%\n",
      "Train Epoch: 435 [0/19577 (0%)]\tLoss: 0.005501\n",
      "Train Epoch: 435 [3200/19577 (16%)]\tLoss: 0.004666\n",
      "Train Epoch: 435 [6400/19577 (33%)]\tLoss: 0.005535\n",
      "Train Epoch: 435 [9600/19577 (49%)]\tLoss: 0.004492\n",
      "Train Epoch: 435 [12800/19577 (65%)]\tLoss: 0.003442\n",
      "Train Epoch: 435 [16000/19577 (82%)]\tLoss: 0.007633\n",
      "Train Epoch: 435 [19200/19577 (98%)]\tLoss: 0.006267\n",
      "\n",
      "Train loss: 0.007175323677787959\n"
     ]
    },
    {
     "name": "stderr",
     "output_type": "stream",
     "text": [
      "\r",
      " 87%|████████▋ | 435/500 [59:27<07:53,  7.28s/it]"
     ]
    },
    {
     "name": "stdout",
     "output_type": "stream",
     "text": [
      "Test on 1143 samples\n",
      "R^2: -1.78\n",
      "Test Loss: 1.67%\n",
      "Train Epoch: 436 [0/19577 (0%)]\tLoss: 0.040000\n",
      "Train Epoch: 436 [3200/19577 (16%)]\tLoss: 0.005836\n",
      "Train Epoch: 436 [6400/19577 (33%)]\tLoss: 0.008148\n",
      "Train Epoch: 436 [9600/19577 (49%)]\tLoss: 0.330618\n",
      "Train Epoch: 436 [12800/19577 (65%)]\tLoss: 0.005813\n",
      "Train Epoch: 436 [16000/19577 (82%)]\tLoss: 0.003519\n",
      "Train Epoch: 436 [19200/19577 (98%)]\tLoss: 0.004470\n",
      "\n",
      "Train loss: 0.007186445380938452\n"
     ]
    },
    {
     "name": "stderr",
     "output_type": "stream",
     "text": [
      "\r",
      " 87%|████████▋ | 436/500 [59:35<07:59,  7.49s/it]"
     ]
    },
    {
     "name": "stdout",
     "output_type": "stream",
     "text": [
      "Test on 1143 samples\n",
      "R^2: -0.18\n",
      "Test Loss: 1.68%\n",
      "Train Epoch: 437 [0/19577 (0%)]\tLoss: 0.004224\n",
      "Train Epoch: 437 [3200/19577 (16%)]\tLoss: 0.005640\n",
      "Train Epoch: 437 [6400/19577 (33%)]\tLoss: 0.007248\n",
      "Train Epoch: 437 [9600/19577 (49%)]\tLoss: 0.002895\n",
      "Train Epoch: 437 [12800/19577 (65%)]\tLoss: 0.005755\n",
      "Train Epoch: 437 [16000/19577 (82%)]\tLoss: 0.003861\n",
      "Train Epoch: 437 [19200/19577 (98%)]\tLoss: 0.004706\n",
      "\n",
      "Train loss: 0.007174128763532887\n"
     ]
    },
    {
     "name": "stderr",
     "output_type": "stream",
     "text": [
      "\r",
      " 87%|████████▋ | 437/500 [59:43<08:04,  7.69s/it]"
     ]
    },
    {
     "name": "stdout",
     "output_type": "stream",
     "text": [
      "Test on 1143 samples\n",
      "R^2: -0.93\n",
      "Test Loss: 1.66%\n",
      "Train Epoch: 438 [0/19577 (0%)]\tLoss: 0.007964\n",
      "Train Epoch: 438 [3200/19577 (16%)]\tLoss: 0.003098\n",
      "Train Epoch: 438 [6400/19577 (33%)]\tLoss: 0.006636\n",
      "Train Epoch: 438 [9600/19577 (49%)]\tLoss: 0.009241\n",
      "Train Epoch: 438 [12800/19577 (65%)]\tLoss: 0.007143\n",
      "Train Epoch: 438 [16000/19577 (82%)]\tLoss: 0.005552\n",
      "Train Epoch: 438 [19200/19577 (98%)]\tLoss: 0.001961\n",
      "\n",
      "Train loss: 0.007199311961444229\n"
     ]
    },
    {
     "name": "stderr",
     "output_type": "stream",
     "text": [
      "\r",
      " 88%|████████▊ | 438/500 [59:50<07:41,  7.44s/it]"
     ]
    },
    {
     "name": "stdout",
     "output_type": "stream",
     "text": [
      "Test on 1143 samples\n",
      "R^2: -4.95\n",
      "Test Loss: 1.70%\n",
      "Train Epoch: 439 [0/19577 (0%)]\tLoss: 0.005273\n",
      "Train Epoch: 439 [3200/19577 (16%)]\tLoss: 0.002919\n",
      "Train Epoch: 439 [6400/19577 (33%)]\tLoss: 0.003792\n",
      "Train Epoch: 439 [9600/19577 (49%)]\tLoss: 0.005026\n",
      "Train Epoch: 439 [12800/19577 (65%)]\tLoss: 0.004713\n",
      "Train Epoch: 439 [16000/19577 (82%)]\tLoss: 0.004068\n",
      "Train Epoch: 439 [19200/19577 (98%)]\tLoss: 0.005800\n",
      "\n",
      "Train loss: 0.007194566557920398\n"
     ]
    },
    {
     "name": "stderr",
     "output_type": "stream",
     "text": [
      "\r",
      " 88%|████████▊ | 439/500 [59:58<07:40,  7.55s/it]"
     ]
    },
    {
     "name": "stdout",
     "output_type": "stream",
     "text": [
      "Test on 1143 samples\n",
      "R^2: -1.18\n",
      "Test Loss: 1.66%\n",
      "Train Epoch: 440 [0/19577 (0%)]\tLoss: 0.005080\n",
      "Train Epoch: 440 [3200/19577 (16%)]\tLoss: 0.008571\n",
      "Train Epoch: 440 [6400/19577 (33%)]\tLoss: 0.004138\n",
      "Train Epoch: 440 [9600/19577 (49%)]\tLoss: 0.004266\n",
      "Train Epoch: 440 [12800/19577 (65%)]\tLoss: 0.006449\n",
      "Train Epoch: 440 [16000/19577 (82%)]\tLoss: 0.041076\n",
      "Train Epoch: 440 [19200/19577 (98%)]\tLoss: 0.003338\n",
      "\n",
      "Train loss: 0.007193233026495946\n"
     ]
    },
    {
     "name": "stderr",
     "output_type": "stream",
     "text": [
      "\r",
      " 88%|████████▊ | 440/500 [1:00:05<07:19,  7.33s/it]"
     ]
    },
    {
     "name": "stdout",
     "output_type": "stream",
     "text": [
      "Test on 1143 samples\n",
      "R^2: -0.07\n",
      "Test Loss: 1.66%\n",
      "Train Epoch: 441 [0/19577 (0%)]\tLoss: 0.008440\n",
      "Train Epoch: 441 [3200/19577 (16%)]\tLoss: 0.004595\n",
      "Train Epoch: 441 [6400/19577 (33%)]\tLoss: 0.007069\n",
      "Train Epoch: 441 [9600/19577 (49%)]\tLoss: 0.003285\n",
      "Train Epoch: 441 [12800/19577 (65%)]\tLoss: 0.009541\n",
      "Train Epoch: 441 [16000/19577 (82%)]\tLoss: 0.006087\n",
      "Train Epoch: 441 [19200/19577 (98%)]\tLoss: 0.003601\n",
      "\n",
      "Train loss: 0.007161496504623856\n"
     ]
    },
    {
     "name": "stderr",
     "output_type": "stream",
     "text": [
      "\r",
      " 88%|████████▊ | 441/500 [1:00:11<07:02,  7.16s/it]"
     ]
    },
    {
     "name": "stdout",
     "output_type": "stream",
     "text": [
      "Test on 1143 samples\n",
      "R^2: -1.07\n",
      "Test Loss: 1.69%\n",
      "Train Epoch: 442 [0/19577 (0%)]\tLoss: 0.003493\n",
      "Train Epoch: 442 [3200/19577 (16%)]\tLoss: 0.004409\n",
      "Train Epoch: 442 [6400/19577 (33%)]\tLoss: 0.004854\n",
      "Train Epoch: 442 [9600/19577 (49%)]\tLoss: 0.003498\n",
      "Train Epoch: 442 [12800/19577 (65%)]\tLoss: 0.006867\n",
      "Train Epoch: 442 [16000/19577 (82%)]\tLoss: 0.004543\n",
      "Train Epoch: 442 [19200/19577 (98%)]\tLoss: 0.003848\n",
      "\n",
      "Train loss: 0.0071572958844793\n"
     ]
    },
    {
     "name": "stderr",
     "output_type": "stream",
     "text": [
      "\r",
      " 88%|████████▊ | 442/500 [1:00:18<06:49,  7.07s/it]"
     ]
    },
    {
     "name": "stdout",
     "output_type": "stream",
     "text": [
      "Test on 1143 samples\n",
      "R^2: -1.60\n",
      "Test Loss: 1.67%\n",
      "Train Epoch: 443 [0/19577 (0%)]\tLoss: 0.004492\n",
      "Train Epoch: 443 [3200/19577 (16%)]\tLoss: 0.005105\n",
      "Train Epoch: 443 [6400/19577 (33%)]\tLoss: 0.005708\n",
      "Train Epoch: 443 [9600/19577 (49%)]\tLoss: 0.006553\n",
      "Train Epoch: 443 [12800/19577 (65%)]\tLoss: 0.003554\n",
      "Train Epoch: 443 [16000/19577 (82%)]\tLoss: 0.005081\n",
      "Train Epoch: 443 [19200/19577 (98%)]\tLoss: 0.004348\n",
      "\n",
      "Train loss: 0.00716538158065816\n"
     ]
    },
    {
     "name": "stderr",
     "output_type": "stream",
     "text": [
      "\r",
      " 89%|████████▊ | 443/500 [1:00:25<06:44,  7.10s/it]"
     ]
    },
    {
     "name": "stdout",
     "output_type": "stream",
     "text": [
      "Test on 1143 samples\n",
      "R^2: -0.05\n",
      "Test Loss: 1.66%\n",
      "Train Epoch: 444 [0/19577 (0%)]\tLoss: 0.005360\n",
      "Train Epoch: 444 [3200/19577 (16%)]\tLoss: 0.005734\n",
      "Train Epoch: 444 [6400/19577 (33%)]\tLoss: 0.003885\n",
      "Train Epoch: 444 [9600/19577 (49%)]\tLoss: 0.005831\n",
      "Train Epoch: 444 [12800/19577 (65%)]\tLoss: 0.004867\n",
      "Train Epoch: 444 [16000/19577 (82%)]\tLoss: 0.009136\n",
      "Train Epoch: 444 [19200/19577 (98%)]\tLoss: 0.002037\n",
      "\n",
      "Train loss: 0.00719150832323114\n"
     ]
    },
    {
     "name": "stderr",
     "output_type": "stream",
     "text": [
      "\r",
      " 89%|████████▉ | 444/500 [1:00:32<06:32,  7.00s/it]"
     ]
    },
    {
     "name": "stdout",
     "output_type": "stream",
     "text": [
      "Test on 1143 samples\n",
      "R^2: -0.13\n",
      "Test Loss: 1.67%\n",
      "Train Epoch: 445 [0/19577 (0%)]\tLoss: 0.003110\n",
      "Train Epoch: 445 [3200/19577 (16%)]\tLoss: 0.012323\n",
      "Train Epoch: 445 [6400/19577 (33%)]\tLoss: 0.005730\n",
      "Train Epoch: 445 [9600/19577 (49%)]\tLoss: 0.003103\n",
      "Train Epoch: 445 [12800/19577 (65%)]\tLoss: 0.007807\n",
      "Train Epoch: 445 [16000/19577 (82%)]\tLoss: 0.005905\n",
      "Train Epoch: 445 [19200/19577 (98%)]\tLoss: 0.004962\n",
      "\n",
      "Train loss: 0.007155688917431737\n"
     ]
    },
    {
     "name": "stderr",
     "output_type": "stream",
     "text": [
      "\r",
      " 89%|████████▉ | 445/500 [1:00:39<06:22,  6.96s/it]"
     ]
    },
    {
     "name": "stdout",
     "output_type": "stream",
     "text": [
      "Test on 1143 samples\n",
      "R^2: -0.09\n",
      "Test Loss: 1.67%\n",
      "Train Epoch: 446 [0/19577 (0%)]\tLoss: 0.006031\n",
      "Train Epoch: 446 [3200/19577 (16%)]\tLoss: 0.015763\n",
      "Train Epoch: 446 [6400/19577 (33%)]\tLoss: 0.004977\n",
      "Train Epoch: 446 [9600/19577 (49%)]\tLoss: 0.011893\n",
      "Train Epoch: 446 [12800/19577 (65%)]\tLoss: 0.003971\n",
      "Train Epoch: 446 [16000/19577 (82%)]\tLoss: 0.004500\n",
      "Train Epoch: 446 [19200/19577 (98%)]\tLoss: 0.004511\n",
      "\n",
      "Train loss: 0.007126850031127581\n"
     ]
    },
    {
     "name": "stderr",
     "output_type": "stream",
     "text": [
      "\r",
      " 89%|████████▉ | 446/500 [1:00:46<06:13,  6.91s/it]"
     ]
    },
    {
     "name": "stdout",
     "output_type": "stream",
     "text": [
      "Test on 1143 samples\n",
      "R^2: -0.43\n",
      "Test Loss: 1.66%\n",
      "Train Epoch: 447 [0/19577 (0%)]\tLoss: 0.004523\n",
      "Train Epoch: 447 [3200/19577 (16%)]\tLoss: 0.003172\n",
      "Train Epoch: 447 [6400/19577 (33%)]\tLoss: 0.004205\n",
      "Train Epoch: 447 [9600/19577 (49%)]\tLoss: 0.007319\n",
      "Train Epoch: 447 [12800/19577 (65%)]\tLoss: 0.007237\n",
      "Train Epoch: 447 [16000/19577 (82%)]\tLoss: 0.003531\n",
      "Train Epoch: 447 [19200/19577 (98%)]\tLoss: 0.009740\n",
      "\n",
      "Train loss: 0.0071574455930614005\n"
     ]
    },
    {
     "name": "stderr",
     "output_type": "stream",
     "text": [
      "\r",
      " 89%|████████▉ | 447/500 [1:00:53<06:04,  6.88s/it]"
     ]
    },
    {
     "name": "stdout",
     "output_type": "stream",
     "text": [
      "Test on 1143 samples\n",
      "R^2: -1.07\n",
      "Test Loss: 1.69%\n",
      "Train Epoch: 448 [0/19577 (0%)]\tLoss: 0.007090\n",
      "Train Epoch: 448 [3200/19577 (16%)]\tLoss: 0.009715\n",
      "Train Epoch: 448 [6400/19577 (33%)]\tLoss: 0.003599\n",
      "Train Epoch: 448 [9600/19577 (49%)]\tLoss: 0.006573\n",
      "Train Epoch: 448 [12800/19577 (65%)]\tLoss: 0.008168\n",
      "Train Epoch: 448 [16000/19577 (82%)]\tLoss: 0.009634\n",
      "Train Epoch: 448 [19200/19577 (98%)]\tLoss: 0.004638\n",
      "\n",
      "Train loss: 0.007164596352084034\n"
     ]
    },
    {
     "name": "stderr",
     "output_type": "stream",
     "text": [
      "\r",
      " 90%|████████▉ | 448/500 [1:01:00<06:01,  6.95s/it]"
     ]
    },
    {
     "name": "stdout",
     "output_type": "stream",
     "text": [
      "Test on 1143 samples\n",
      "R^2: -0.03\n",
      "Test Loss: 1.66%\n",
      "Train Epoch: 449 [0/19577 (0%)]\tLoss: 0.005842\n",
      "Train Epoch: 449 [3200/19577 (16%)]\tLoss: 0.004757\n",
      "Train Epoch: 449 [6400/19577 (33%)]\tLoss: 0.007798\n",
      "Train Epoch: 449 [9600/19577 (49%)]\tLoss: 0.020112\n",
      "Train Epoch: 449 [12800/19577 (65%)]\tLoss: 0.010565\n",
      "Train Epoch: 449 [16000/19577 (82%)]\tLoss: 0.005549\n",
      "Train Epoch: 449 [19200/19577 (98%)]\tLoss: 0.009563\n",
      "\n",
      "Train loss: 0.0071666922543526575\n"
     ]
    },
    {
     "name": "stderr",
     "output_type": "stream",
     "text": [
      "\r",
      " 90%|████████▉ | 449/500 [1:01:08<06:10,  7.27s/it]"
     ]
    },
    {
     "name": "stdout",
     "output_type": "stream",
     "text": [
      "Test on 1143 samples\n",
      "R^2: -0.66\n",
      "Test Loss: 1.68%\n",
      "Train Epoch: 450 [0/19577 (0%)]\tLoss: 0.006285\n",
      "Train Epoch: 450 [3200/19577 (16%)]\tLoss: 0.005215\n",
      "Train Epoch: 450 [6400/19577 (33%)]\tLoss: 0.007946\n",
      "Train Epoch: 450 [9600/19577 (49%)]\tLoss: 0.003584\n",
      "Train Epoch: 450 [12800/19577 (65%)]\tLoss: 0.005530\n",
      "Train Epoch: 450 [16000/19577 (82%)]\tLoss: 0.008883\n",
      "Train Epoch: 450 [19200/19577 (98%)]\tLoss: 0.009518\n",
      "\n",
      "Train loss: 0.007168854385526132\n"
     ]
    },
    {
     "name": "stderr",
     "output_type": "stream",
     "text": [
      "\r",
      " 90%|█████████ | 450/500 [1:01:15<06:08,  7.36s/it]"
     ]
    },
    {
     "name": "stdout",
     "output_type": "stream",
     "text": [
      "Test on 1143 samples\n",
      "R^2: -7.04\n",
      "Test Loss: 1.71%\n",
      "Train Epoch: 451 [0/19577 (0%)]\tLoss: 0.005799\n",
      "Train Epoch: 451 [3200/19577 (16%)]\tLoss: 0.008010\n",
      "Train Epoch: 451 [6400/19577 (33%)]\tLoss: 0.007761\n",
      "Train Epoch: 451 [9600/19577 (49%)]\tLoss: 0.009539\n",
      "Train Epoch: 451 [12800/19577 (65%)]\tLoss: 0.003123\n",
      "Train Epoch: 451 [16000/19577 (82%)]\tLoss: 0.008445\n",
      "Train Epoch: 451 [19200/19577 (98%)]\tLoss: 0.021269\n",
      "\n",
      "Train loss: 0.007146395417234672\n"
     ]
    },
    {
     "name": "stderr",
     "output_type": "stream",
     "text": [
      "\r",
      " 90%|█████████ | 451/500 [1:01:22<05:53,  7.21s/it]"
     ]
    },
    {
     "name": "stdout",
     "output_type": "stream",
     "text": [
      "Test on 1143 samples\n",
      "R^2: -0.96\n",
      "Test Loss: 1.66%\n",
      "Train Epoch: 452 [0/19577 (0%)]\tLoss: 0.003942\n",
      "Train Epoch: 452 [3200/19577 (16%)]\tLoss: 0.005332\n",
      "Train Epoch: 452 [6400/19577 (33%)]\tLoss: 0.005839\n",
      "Train Epoch: 452 [9600/19577 (49%)]\tLoss: 0.003780\n",
      "Train Epoch: 452 [12800/19577 (65%)]\tLoss: 0.006683\n",
      "Train Epoch: 452 [16000/19577 (82%)]\tLoss: 0.005066\n",
      "Train Epoch: 452 [19200/19577 (98%)]\tLoss: 0.010347\n",
      "\n",
      "Train loss: 0.007157514745664777\n"
     ]
    },
    {
     "name": "stderr",
     "output_type": "stream",
     "text": [
      "\r",
      " 90%|█████████ | 452/500 [1:01:29<05:40,  7.10s/it]"
     ]
    },
    {
     "name": "stdout",
     "output_type": "stream",
     "text": [
      "Test on 1143 samples\n",
      "R^2: -0.34\n",
      "Test Loss: 1.66%\n",
      "Train Epoch: 453 [0/19577 (0%)]\tLoss: 0.011224\n",
      "Train Epoch: 453 [3200/19577 (16%)]\tLoss: 0.007141\n",
      "Train Epoch: 453 [6400/19577 (33%)]\tLoss: 0.011956\n",
      "Train Epoch: 453 [9600/19577 (49%)]\tLoss: 0.005613\n",
      "Train Epoch: 453 [12800/19577 (65%)]\tLoss: 0.332202\n",
      "Train Epoch: 453 [16000/19577 (82%)]\tLoss: 0.003630\n",
      "Train Epoch: 453 [19200/19577 (98%)]\tLoss: 0.004305\n",
      "\n",
      "Train loss: 0.007138191090799333\n"
     ]
    },
    {
     "name": "stderr",
     "output_type": "stream",
     "text": [
      "\r",
      " 91%|█████████ | 453/500 [1:01:36<05:30,  7.03s/it]"
     ]
    },
    {
     "name": "stdout",
     "output_type": "stream",
     "text": [
      "Test on 1143 samples\n",
      "R^2: -0.15\n",
      "Test Loss: 1.67%\n",
      "Train Epoch: 454 [0/19577 (0%)]\tLoss: 0.003936\n",
      "Train Epoch: 454 [3200/19577 (16%)]\tLoss: 0.011562\n",
      "Train Epoch: 454 [6400/19577 (33%)]\tLoss: 0.004535\n",
      "Train Epoch: 454 [9600/19577 (49%)]\tLoss: 0.004009\n",
      "Train Epoch: 454 [12800/19577 (65%)]\tLoss: 0.006075\n",
      "Train Epoch: 454 [16000/19577 (82%)]\tLoss: 0.004656\n",
      "Train Epoch: 454 [19200/19577 (98%)]\tLoss: 0.006170\n",
      "\n",
      "Train loss: 0.007157901466331061\n"
     ]
    },
    {
     "name": "stderr",
     "output_type": "stream",
     "text": [
      "\r",
      " 91%|█████████ | 454/500 [1:01:43<05:20,  6.97s/it]"
     ]
    },
    {
     "name": "stdout",
     "output_type": "stream",
     "text": [
      "Test on 1143 samples\n",
      "R^2: -0.04\n",
      "Test Loss: 1.65%\n",
      "Train Epoch: 455 [0/19577 (0%)]\tLoss: 0.003534\n",
      "Train Epoch: 455 [3200/19577 (16%)]\tLoss: 0.008214\n",
      "Train Epoch: 455 [6400/19577 (33%)]\tLoss: 0.006070\n",
      "Train Epoch: 455 [9600/19577 (49%)]\tLoss: 0.004646\n",
      "Train Epoch: 455 [12800/19577 (65%)]\tLoss: 0.003142\n",
      "Train Epoch: 455 [16000/19577 (82%)]\tLoss: 0.003566\n",
      "Train Epoch: 455 [19200/19577 (98%)]\tLoss: 0.004178\n",
      "\n",
      "Train loss: 0.007155935079912393\n"
     ]
    },
    {
     "name": "stderr",
     "output_type": "stream",
     "text": [
      "\r",
      " 91%|█████████ | 455/500 [1:01:50<05:11,  6.92s/it]"
     ]
    },
    {
     "name": "stdout",
     "output_type": "stream",
     "text": [
      "Test on 1143 samples\n",
      "R^2: -0.01\n",
      "Test Loss: 1.66%\n",
      "Train Epoch: 456 [0/19577 (0%)]\tLoss: 0.003392\n",
      "Train Epoch: 456 [3200/19577 (16%)]\tLoss: 0.001739\n",
      "Train Epoch: 456 [6400/19577 (33%)]\tLoss: 0.012176\n",
      "Train Epoch: 456 [9600/19577 (49%)]\tLoss: 0.007315\n",
      "Train Epoch: 456 [12800/19577 (65%)]\tLoss: 0.003270\n",
      "Train Epoch: 456 [16000/19577 (82%)]\tLoss: 0.004919\n",
      "Train Epoch: 456 [19200/19577 (98%)]\tLoss: 0.005417\n",
      "\n",
      "Train loss: 0.007150130769469185\n"
     ]
    },
    {
     "name": "stderr",
     "output_type": "stream",
     "text": [
      "\r",
      " 91%|█████████ | 456/500 [1:01:57<05:08,  7.01s/it]"
     ]
    },
    {
     "name": "stdout",
     "output_type": "stream",
     "text": [
      "Test on 1143 samples\n",
      "R^2: -0.52\n",
      "Test Loss: 1.67%\n",
      "Train Epoch: 457 [0/19577 (0%)]\tLoss: 0.008800\n",
      "Train Epoch: 457 [3200/19577 (16%)]\tLoss: 0.005283\n",
      "Train Epoch: 457 [6400/19577 (33%)]\tLoss: 0.005469\n",
      "Train Epoch: 457 [9600/19577 (49%)]\tLoss: 0.003171\n",
      "Train Epoch: 457 [12800/19577 (65%)]\tLoss: 0.004423\n",
      "Train Epoch: 457 [16000/19577 (82%)]\tLoss: 0.004706\n",
      "Train Epoch: 457 [19200/19577 (98%)]\tLoss: 0.007252\n",
      "\n",
      "Train loss: 0.0071556771073636475\n"
     ]
    },
    {
     "name": "stderr",
     "output_type": "stream",
     "text": [
      "\r",
      " 91%|█████████▏| 457/500 [1:02:04<05:00,  6.99s/it]"
     ]
    },
    {
     "name": "stdout",
     "output_type": "stream",
     "text": [
      "Test on 1143 samples\n",
      "R^2: -2.28\n",
      "Test Loss: 1.71%\n",
      "Train Epoch: 458 [0/19577 (0%)]\tLoss: 0.006078\n",
      "Train Epoch: 458 [3200/19577 (16%)]\tLoss: 0.004044\n",
      "Train Epoch: 458 [6400/19577 (33%)]\tLoss: 0.008193\n",
      "Train Epoch: 458 [9600/19577 (49%)]\tLoss: 0.004908\n",
      "Train Epoch: 458 [12800/19577 (65%)]\tLoss: 0.003353\n",
      "Train Epoch: 458 [16000/19577 (82%)]\tLoss: 0.006061\n",
      "Train Epoch: 458 [19200/19577 (98%)]\tLoss: 0.003696\n",
      "\n",
      "Train loss: 0.007184457840410128\n"
     ]
    },
    {
     "name": "stderr",
     "output_type": "stream",
     "text": [
      "\r",
      " 92%|█████████▏| 458/500 [1:02:11<04:57,  7.09s/it]"
     ]
    },
    {
     "name": "stdout",
     "output_type": "stream",
     "text": [
      "Test on 1143 samples\n",
      "R^2: -0.41\n",
      "Test Loss: 1.65%\n",
      "Train Epoch: 459 [0/19577 (0%)]\tLoss: 0.011849\n",
      "Train Epoch: 459 [3200/19577 (16%)]\tLoss: 0.002745\n",
      "Train Epoch: 459 [6400/19577 (33%)]\tLoss: 0.004798\n",
      "Train Epoch: 459 [9600/19577 (49%)]\tLoss: 0.003805\n",
      "Train Epoch: 459 [12800/19577 (65%)]\tLoss: 0.004138\n",
      "Train Epoch: 459 [16000/19577 (82%)]\tLoss: 0.004861\n",
      "Train Epoch: 459 [19200/19577 (98%)]\tLoss: 0.004998\n",
      "\n",
      "Train loss: 0.007132397994271242\n"
     ]
    },
    {
     "name": "stderr",
     "output_type": "stream",
     "text": [
      "\r",
      " 92%|█████████▏| 459/500 [1:02:18<04:47,  7.01s/it]"
     ]
    },
    {
     "name": "stdout",
     "output_type": "stream",
     "text": [
      "Test on 1143 samples\n",
      "R^2: 0.03\n",
      "Test Loss: 1.66%\n",
      "Train Epoch: 460 [0/19577 (0%)]\tLoss: 0.003539\n",
      "Train Epoch: 460 [3200/19577 (16%)]\tLoss: 0.009031\n",
      "Train Epoch: 460 [6400/19577 (33%)]\tLoss: 0.003694\n",
      "Train Epoch: 460 [9600/19577 (49%)]\tLoss: 0.002540\n",
      "Train Epoch: 460 [12800/19577 (65%)]\tLoss: 0.004273\n",
      "Train Epoch: 460 [16000/19577 (82%)]\tLoss: 0.005234\n",
      "Train Epoch: 460 [19200/19577 (98%)]\tLoss: 0.005844\n",
      "\n",
      "Train loss: 0.007133440911584211\n"
     ]
    },
    {
     "name": "stderr",
     "output_type": "stream",
     "text": [
      "\r",
      " 92%|█████████▏| 460/500 [1:02:25<04:38,  6.95s/it]"
     ]
    },
    {
     "name": "stdout",
     "output_type": "stream",
     "text": [
      "Test on 1143 samples\n",
      "R^2: 0.02\n",
      "Test Loss: 1.66%\n",
      "Train Epoch: 461 [0/19577 (0%)]\tLoss: 0.003064\n",
      "Train Epoch: 461 [3200/19577 (16%)]\tLoss: 0.008742\n",
      "Train Epoch: 461 [6400/19577 (33%)]\tLoss: 0.002957\n",
      "Train Epoch: 461 [9600/19577 (49%)]\tLoss: 0.006643\n",
      "Train Epoch: 461 [12800/19577 (65%)]\tLoss: 0.004956\n",
      "Train Epoch: 461 [16000/19577 (82%)]\tLoss: 0.003351\n",
      "Train Epoch: 461 [19200/19577 (98%)]\tLoss: 0.002950\n",
      "\n",
      "Train loss: 0.0071556009542428295\n"
     ]
    },
    {
     "name": "stderr",
     "output_type": "stream",
     "text": [
      "\r",
      " 92%|█████████▏| 461/500 [1:02:32<04:29,  6.91s/it]"
     ]
    },
    {
     "name": "stdout",
     "output_type": "stream",
     "text": [
      "Test on 1143 samples\n",
      "R^2: -2.98\n",
      "Test Loss: 1.67%\n",
      "Train Epoch: 462 [0/19577 (0%)]\tLoss: 0.003598\n",
      "Train Epoch: 462 [3200/19577 (16%)]\tLoss: 0.008298\n",
      "Train Epoch: 462 [6400/19577 (33%)]\tLoss: 0.008275\n",
      "Train Epoch: 462 [9600/19577 (49%)]\tLoss: 0.004135\n",
      "Train Epoch: 462 [12800/19577 (65%)]\tLoss: 0.001831\n",
      "Train Epoch: 462 [16000/19577 (82%)]\tLoss: 0.003778\n",
      "Train Epoch: 462 [19200/19577 (98%)]\tLoss: 0.005814\n",
      "\n",
      "Train loss: 0.007137662235775269\n"
     ]
    },
    {
     "name": "stderr",
     "output_type": "stream",
     "text": [
      "\r",
      " 92%|█████████▏| 462/500 [1:02:38<04:21,  6.89s/it]"
     ]
    },
    {
     "name": "stdout",
     "output_type": "stream",
     "text": [
      "Test on 1143 samples\n",
      "R^2: -0.01\n",
      "Test Loss: 1.65%\n",
      "Train Epoch: 463 [0/19577 (0%)]\tLoss: 0.006397\n",
      "Train Epoch: 463 [3200/19577 (16%)]\tLoss: 0.008348\n",
      "Train Epoch: 463 [6400/19577 (33%)]\tLoss: 0.004398\n",
      "Train Epoch: 463 [9600/19577 (49%)]\tLoss: 0.008921\n",
      "Train Epoch: 463 [12800/19577 (65%)]\tLoss: 0.004654\n",
      "Train Epoch: 463 [16000/19577 (82%)]\tLoss: 0.004449\n",
      "Train Epoch: 463 [19200/19577 (98%)]\tLoss: 0.004605\n",
      "\n",
      "Train loss: 0.00712142434021385\n"
     ]
    },
    {
     "name": "stderr",
     "output_type": "stream",
     "text": [
      "\r",
      " 93%|█████████▎| 463/500 [1:02:45<04:14,  6.87s/it]"
     ]
    },
    {
     "name": "stdout",
     "output_type": "stream",
     "text": [
      "Test on 1143 samples\n",
      "R^2: -0.52\n",
      "Test Loss: 1.67%\n",
      "Train Epoch: 464 [0/19577 (0%)]\tLoss: 0.003023\n",
      "Train Epoch: 464 [3200/19577 (16%)]\tLoss: 0.003601\n",
      "Train Epoch: 464 [6400/19577 (33%)]\tLoss: 0.008479\n",
      "Train Epoch: 464 [9600/19577 (49%)]\tLoss: 0.003065\n",
      "Train Epoch: 464 [12800/19577 (65%)]\tLoss: 0.013756\n",
      "Train Epoch: 464 [16000/19577 (82%)]\tLoss: 0.004513\n",
      "Train Epoch: 464 [19200/19577 (98%)]\tLoss: 0.003987\n",
      "\n",
      "Train loss: 0.007131993243686879\n"
     ]
    },
    {
     "name": "stderr",
     "output_type": "stream",
     "text": [
      "\r",
      " 93%|█████████▎| 464/500 [1:02:52<04:07,  6.87s/it]"
     ]
    },
    {
     "name": "stdout",
     "output_type": "stream",
     "text": [
      "Test on 1143 samples\n",
      "R^2: -4.36\n",
      "Test Loss: 1.74%\n",
      "Train Epoch: 465 [0/19577 (0%)]\tLoss: 0.005992\n",
      "Train Epoch: 465 [3200/19577 (16%)]\tLoss: 0.003078\n",
      "Train Epoch: 465 [6400/19577 (33%)]\tLoss: 0.002386\n",
      "Train Epoch: 465 [9600/19577 (49%)]\tLoss: 0.004101\n",
      "Train Epoch: 465 [12800/19577 (65%)]\tLoss: 0.005129\n",
      "Train Epoch: 465 [16000/19577 (82%)]\tLoss: 0.012631\n",
      "Train Epoch: 465 [19200/19577 (98%)]\tLoss: 0.002612\n",
      "\n",
      "Train loss: 0.007135804893610256\n"
     ]
    },
    {
     "name": "stderr",
     "output_type": "stream",
     "text": [
      "\r",
      " 93%|█████████▎| 465/500 [1:02:59<04:02,  6.92s/it]"
     ]
    },
    {
     "name": "stdout",
     "output_type": "stream",
     "text": [
      "Test on 1143 samples\n",
      "R^2: -0.00\n",
      "Test Loss: 1.65%\n",
      "Train Epoch: 466 [0/19577 (0%)]\tLoss: 0.002844\n",
      "Train Epoch: 466 [3200/19577 (16%)]\tLoss: 0.003582\n",
      "Train Epoch: 466 [6400/19577 (33%)]\tLoss: 0.004680\n",
      "Train Epoch: 466 [9600/19577 (49%)]\tLoss: 0.006103\n",
      "Train Epoch: 466 [12800/19577 (65%)]\tLoss: 0.003681\n",
      "Train Epoch: 466 [16000/19577 (82%)]\tLoss: 0.004931\n",
      "Train Epoch: 466 [19200/19577 (98%)]\tLoss: 0.006385\n",
      "\n",
      "Train loss: 0.007110897771210647\n"
     ]
    },
    {
     "name": "stderr",
     "output_type": "stream",
     "text": [
      "\r",
      " 93%|█████████▎| 466/500 [1:03:09<04:21,  7.68s/it]"
     ]
    },
    {
     "name": "stdout",
     "output_type": "stream",
     "text": [
      "Test on 1143 samples\n",
      "R^2: -1.74\n",
      "Test Loss: 1.66%\n",
      "Train Epoch: 467 [0/19577 (0%)]\tLoss: 0.005070\n",
      "Train Epoch: 467 [3200/19577 (16%)]\tLoss: 0.004664\n",
      "Train Epoch: 467 [6400/19577 (33%)]\tLoss: 0.004474\n",
      "Train Epoch: 467 [9600/19577 (49%)]\tLoss: 0.009741\n",
      "Train Epoch: 467 [12800/19577 (65%)]\tLoss: 0.004454\n",
      "Train Epoch: 467 [16000/19577 (82%)]\tLoss: 0.006414\n",
      "Train Epoch: 467 [19200/19577 (98%)]\tLoss: 0.005075\n",
      "\n",
      "Train loss: 0.007124713201644934\n"
     ]
    },
    {
     "name": "stderr",
     "output_type": "stream",
     "text": [
      "\r",
      " 93%|█████████▎| 467/500 [1:03:16<04:06,  7.46s/it]"
     ]
    },
    {
     "name": "stdout",
     "output_type": "stream",
     "text": [
      "Test on 1143 samples\n",
      "R^2: -0.42\n",
      "Test Loss: 1.65%\n",
      "Train Epoch: 468 [0/19577 (0%)]\tLoss: 0.007576\n",
      "Train Epoch: 468 [3200/19577 (16%)]\tLoss: 0.003571\n",
      "Train Epoch: 468 [6400/19577 (33%)]\tLoss: 0.004580\n",
      "Train Epoch: 468 [9600/19577 (49%)]\tLoss: 0.004000\n",
      "Train Epoch: 468 [12800/19577 (65%)]\tLoss: 0.007610\n",
      "Train Epoch: 468 [16000/19577 (82%)]\tLoss: 0.004588\n",
      "Train Epoch: 468 [19200/19577 (98%)]\tLoss: 0.004849\n",
      "\n",
      "Train loss: 0.007117422959566408\n"
     ]
    },
    {
     "name": "stderr",
     "output_type": "stream",
     "text": [
      "\r",
      " 94%|█████████▎| 468/500 [1:03:23<04:01,  7.56s/it]"
     ]
    },
    {
     "name": "stdout",
     "output_type": "stream",
     "text": [
      "Test on 1143 samples\n",
      "R^2: -0.60\n",
      "Test Loss: 1.67%\n",
      "Train Epoch: 469 [0/19577 (0%)]\tLoss: 0.003354\n",
      "Train Epoch: 469 [3200/19577 (16%)]\tLoss: 0.003723\n",
      "Train Epoch: 469 [6400/19577 (33%)]\tLoss: 0.005595\n",
      "Train Epoch: 469 [9600/19577 (49%)]\tLoss: 0.012593\n",
      "Train Epoch: 469 [12800/19577 (65%)]\tLoss: 0.004461\n",
      "Train Epoch: 469 [16000/19577 (82%)]\tLoss: 0.006358\n",
      "Train Epoch: 469 [19200/19577 (98%)]\tLoss: 0.005478\n",
      "\n",
      "Train loss: 0.007118504680084442\n"
     ]
    },
    {
     "name": "stderr",
     "output_type": "stream",
     "text": [
      "\r",
      " 94%|█████████▍| 469/500 [1:03:31<03:50,  7.44s/it]"
     ]
    },
    {
     "name": "stdout",
     "output_type": "stream",
     "text": [
      "Test on 1143 samples\n",
      "R^2: -0.17\n",
      "Test Loss: 1.65%\n",
      "Train Epoch: 470 [0/19577 (0%)]\tLoss: 0.004103\n",
      "Train Epoch: 470 [3200/19577 (16%)]\tLoss: 0.005600\n",
      "Train Epoch: 470 [6400/19577 (33%)]\tLoss: 0.004533\n",
      "Train Epoch: 470 [9600/19577 (49%)]\tLoss: 0.007097\n",
      "Train Epoch: 470 [12800/19577 (65%)]\tLoss: 0.002621\n",
      "Train Epoch: 470 [16000/19577 (82%)]\tLoss: 0.008216\n",
      "Train Epoch: 470 [19200/19577 (98%)]\tLoss: 0.009686\n",
      "\n",
      "Train loss: 0.007114198567875314\n"
     ]
    },
    {
     "name": "stderr",
     "output_type": "stream",
     "text": [
      "\r",
      " 94%|█████████▍| 470/500 [1:03:37<03:38,  7.28s/it]"
     ]
    },
    {
     "name": "stdout",
     "output_type": "stream",
     "text": [
      "Test on 1143 samples\n",
      "R^2: -1.02\n",
      "Test Loss: 1.65%\n",
      "Train Epoch: 471 [0/19577 (0%)]\tLoss: 0.002347\n",
      "Train Epoch: 471 [3200/19577 (16%)]\tLoss: 0.004418\n",
      "Train Epoch: 471 [6400/19577 (33%)]\tLoss: 0.333042\n",
      "Train Epoch: 471 [9600/19577 (49%)]\tLoss: 0.004016\n",
      "Train Epoch: 471 [12800/19577 (65%)]\tLoss: 0.004662\n",
      "Train Epoch: 471 [16000/19577 (82%)]\tLoss: 0.003574\n",
      "Train Epoch: 471 [19200/19577 (98%)]\tLoss: 0.008085\n",
      "\n",
      "Train loss: 0.0071265126412637\n"
     ]
    },
    {
     "name": "stderr",
     "output_type": "stream",
     "text": [
      "\r",
      " 94%|█████████▍| 471/500 [1:03:44<03:27,  7.15s/it]"
     ]
    },
    {
     "name": "stdout",
     "output_type": "stream",
     "text": [
      "Test on 1143 samples\n",
      "R^2: -0.63\n",
      "Test Loss: 1.65%\n",
      "Train Epoch: 472 [0/19577 (0%)]\tLoss: 0.004781\n",
      "Train Epoch: 472 [3200/19577 (16%)]\tLoss: 0.009877\n",
      "Train Epoch: 472 [6400/19577 (33%)]\tLoss: 0.010917\n",
      "Train Epoch: 472 [9600/19577 (49%)]\tLoss: 0.042543\n",
      "Train Epoch: 472 [12800/19577 (65%)]\tLoss: 0.003551\n",
      "Train Epoch: 472 [16000/19577 (82%)]\tLoss: 0.006200\n",
      "Train Epoch: 472 [19200/19577 (98%)]\tLoss: 0.006595\n",
      "\n",
      "Train loss: 0.007097134174508183\n"
     ]
    },
    {
     "name": "stderr",
     "output_type": "stream",
     "text": [
      "\r",
      " 94%|█████████▍| 472/500 [1:03:51<03:18,  7.08s/it]"
     ]
    },
    {
     "name": "stdout",
     "output_type": "stream",
     "text": [
      "Test on 1143 samples\n",
      "R^2: -0.01\n",
      "Test Loss: 1.65%\n",
      "Train Epoch: 473 [0/19577 (0%)]\tLoss: 0.003843\n",
      "Train Epoch: 473 [3200/19577 (16%)]\tLoss: 0.003478\n",
      "Train Epoch: 473 [6400/19577 (33%)]\tLoss: 0.009920\n",
      "Train Epoch: 473 [9600/19577 (49%)]\tLoss: 0.006305\n",
      "Train Epoch: 473 [12800/19577 (65%)]\tLoss: 0.004408\n",
      "Train Epoch: 473 [16000/19577 (82%)]\tLoss: 0.009390\n",
      "Train Epoch: 473 [19200/19577 (98%)]\tLoss: 0.004353\n",
      "\n",
      "Train loss: 0.0071087771512300165\n"
     ]
    },
    {
     "name": "stderr",
     "output_type": "stream",
     "text": [
      "\r",
      " 95%|█████████▍| 473/500 [1:03:59<03:16,  7.27s/it]"
     ]
    },
    {
     "name": "stdout",
     "output_type": "stream",
     "text": [
      "Test on 1143 samples\n",
      "R^2: -0.08\n",
      "Test Loss: 1.65%\n",
      "Train Epoch: 474 [0/19577 (0%)]\tLoss: 0.004370\n",
      "Train Epoch: 474 [3200/19577 (16%)]\tLoss: 0.003611\n",
      "Train Epoch: 474 [6400/19577 (33%)]\tLoss: 0.007475\n",
      "Train Epoch: 474 [9600/19577 (49%)]\tLoss: 0.002208\n",
      "Train Epoch: 474 [12800/19577 (65%)]\tLoss: 0.005700\n",
      "Train Epoch: 474 [16000/19577 (82%)]\tLoss: 0.009875\n",
      "Train Epoch: 474 [19200/19577 (98%)]\tLoss: 0.009256\n",
      "\n",
      "Train loss: 0.007124956810977797\n"
     ]
    },
    {
     "name": "stderr",
     "output_type": "stream",
     "text": [
      "\r",
      " 95%|█████████▍| 474/500 [1:04:06<03:05,  7.15s/it]"
     ]
    },
    {
     "name": "stdout",
     "output_type": "stream",
     "text": [
      "Test on 1143 samples\n",
      "R^2: -0.37\n",
      "Test Loss: 1.64%\n",
      "Train Epoch: 475 [0/19577 (0%)]\tLoss: 0.005431\n",
      "Train Epoch: 475 [3200/19577 (16%)]\tLoss: 0.008052\n",
      "Train Epoch: 475 [6400/19577 (33%)]\tLoss: 0.007307\n",
      "Train Epoch: 475 [9600/19577 (49%)]\tLoss: 0.002411\n",
      "Train Epoch: 475 [12800/19577 (65%)]\tLoss: 0.003815\n",
      "Train Epoch: 475 [16000/19577 (82%)]\tLoss: 0.003791\n",
      "Train Epoch: 475 [19200/19577 (98%)]\tLoss: 0.003027\n",
      "\n",
      "Train loss: 0.007109837024853096\n"
     ]
    },
    {
     "name": "stderr",
     "output_type": "stream",
     "text": [
      "\r",
      " 95%|█████████▌| 475/500 [1:04:13<02:56,  7.05s/it]"
     ]
    },
    {
     "name": "stdout",
     "output_type": "stream",
     "text": [
      "Test on 1143 samples\n",
      "R^2: -0.99\n",
      "Test Loss: 1.65%\n",
      "Train Epoch: 476 [0/19577 (0%)]\tLoss: 0.015134\n",
      "Train Epoch: 476 [3200/19577 (16%)]\tLoss: 0.001908\n",
      "Train Epoch: 476 [6400/19577 (33%)]\tLoss: 0.007316\n",
      "Train Epoch: 476 [9600/19577 (49%)]\tLoss: 0.007967\n",
      "Train Epoch: 476 [12800/19577 (65%)]\tLoss: 0.003657\n",
      "Train Epoch: 476 [16000/19577 (82%)]\tLoss: 0.009166\n",
      "Train Epoch: 476 [19200/19577 (98%)]\tLoss: 0.007203\n",
      "\n",
      "Train loss: 0.007091964624313869\n"
     ]
    },
    {
     "name": "stderr",
     "output_type": "stream",
     "text": [
      "\r",
      " 95%|█████████▌| 476/500 [1:04:21<02:56,  7.34s/it]"
     ]
    },
    {
     "name": "stdout",
     "output_type": "stream",
     "text": [
      "Test on 1143 samples\n",
      "R^2: -0.24\n",
      "Test Loss: 1.66%\n",
      "Train Epoch: 477 [0/19577 (0%)]\tLoss: 0.003463\n",
      "Train Epoch: 477 [3200/19577 (16%)]\tLoss: 0.007740\n",
      "Train Epoch: 477 [6400/19577 (33%)]\tLoss: 0.003635\n",
      "Train Epoch: 477 [9600/19577 (49%)]\tLoss: 0.004784\n",
      "Train Epoch: 477 [12800/19577 (65%)]\tLoss: 0.009988\n",
      "Train Epoch: 477 [16000/19577 (82%)]\tLoss: 0.004973\n",
      "Train Epoch: 477 [19200/19577 (98%)]\tLoss: 0.022347\n",
      "\n",
      "Train loss: 0.007098917702130754\n"
     ]
    },
    {
     "name": "stderr",
     "output_type": "stream",
     "text": [
      "\r",
      " 95%|█████████▌| 477/500 [1:04:29<02:53,  7.54s/it]"
     ]
    },
    {
     "name": "stdout",
     "output_type": "stream",
     "text": [
      "Test on 1143 samples\n",
      "R^2: -0.30\n",
      "Test Loss: 1.65%\n",
      "Train Epoch: 478 [0/19577 (0%)]\tLoss: 0.005398\n",
      "Train Epoch: 478 [3200/19577 (16%)]\tLoss: 0.003836\n",
      "Train Epoch: 478 [6400/19577 (33%)]\tLoss: 0.005391\n",
      "Train Epoch: 478 [9600/19577 (49%)]\tLoss: 0.003272\n",
      "Train Epoch: 478 [12800/19577 (65%)]\tLoss: 0.011888\n",
      "Train Epoch: 478 [16000/19577 (82%)]\tLoss: 0.006120\n",
      "Train Epoch: 478 [19200/19577 (98%)]\tLoss: 0.005724\n",
      "\n",
      "Train loss: 0.00710681395101501\n"
     ]
    },
    {
     "name": "stderr",
     "output_type": "stream",
     "text": [
      "\r",
      " 96%|█████████▌| 478/500 [1:04:36<02:41,  7.34s/it]"
     ]
    },
    {
     "name": "stdout",
     "output_type": "stream",
     "text": [
      "Test on 1143 samples\n",
      "R^2: -0.02\n",
      "Test Loss: 1.64%\n",
      "Train Epoch: 479 [0/19577 (0%)]\tLoss: 0.009739\n",
      "Train Epoch: 479 [3200/19577 (16%)]\tLoss: 0.003534\n",
      "Train Epoch: 479 [6400/19577 (33%)]\tLoss: 0.006647\n",
      "Train Epoch: 479 [9600/19577 (49%)]\tLoss: 0.006666\n",
      "Train Epoch: 479 [12800/19577 (65%)]\tLoss: 0.003715\n",
      "Train Epoch: 479 [16000/19577 (82%)]\tLoss: 0.003446\n",
      "Train Epoch: 479 [19200/19577 (98%)]\tLoss: 0.005507\n",
      "\n",
      "Train loss: 0.0071211164277746935\n"
     ]
    },
    {
     "name": "stderr",
     "output_type": "stream",
     "text": [
      "\r",
      " 96%|█████████▌| 479/500 [1:04:42<02:30,  7.18s/it]"
     ]
    },
    {
     "name": "stdout",
     "output_type": "stream",
     "text": [
      "Test on 1143 samples\n",
      "R^2: -0.51\n",
      "Test Loss: 1.64%\n",
      "Train Epoch: 480 [0/19577 (0%)]\tLoss: 0.009775\n",
      "Train Epoch: 480 [3200/19577 (16%)]\tLoss: 0.004246\n",
      "Train Epoch: 480 [6400/19577 (33%)]\tLoss: 0.006873\n",
      "Train Epoch: 480 [9600/19577 (49%)]\tLoss: 0.004878\n",
      "Train Epoch: 480 [12800/19577 (65%)]\tLoss: 0.005601\n",
      "Train Epoch: 480 [16000/19577 (82%)]\tLoss: 0.007233\n",
      "Train Epoch: 480 [19200/19577 (98%)]\tLoss: 0.005620\n",
      "\n",
      "Train loss: 0.007105548356681015\n"
     ]
    },
    {
     "name": "stderr",
     "output_type": "stream",
     "text": [
      "\r",
      " 96%|█████████▌| 480/500 [1:04:49<02:22,  7.10s/it]"
     ]
    },
    {
     "name": "stdout",
     "output_type": "stream",
     "text": [
      "Test on 1143 samples\n",
      "R^2: -0.11\n",
      "Test Loss: 1.64%\n",
      "Train Epoch: 481 [0/19577 (0%)]\tLoss: 0.004305\n",
      "Train Epoch: 481 [3200/19577 (16%)]\tLoss: 0.005659\n",
      "Train Epoch: 481 [6400/19577 (33%)]\tLoss: 0.003171\n",
      "Train Epoch: 481 [9600/19577 (49%)]\tLoss: 0.005620\n",
      "Train Epoch: 481 [12800/19577 (65%)]\tLoss: 0.003446\n",
      "Train Epoch: 481 [16000/19577 (82%)]\tLoss: 0.009360\n",
      "Train Epoch: 481 [19200/19577 (98%)]\tLoss: 0.005823\n",
      "\n",
      "Train loss: 0.007090252708473237\n"
     ]
    },
    {
     "name": "stderr",
     "output_type": "stream",
     "text": [
      "\r",
      " 96%|█████████▌| 481/500 [1:04:56<02:13,  7.01s/it]"
     ]
    },
    {
     "name": "stdout",
     "output_type": "stream",
     "text": [
      "Test on 1143 samples\n",
      "R^2: -1.62\n",
      "Test Loss: 1.65%\n",
      "Train Epoch: 482 [0/19577 (0%)]\tLoss: 0.004828\n",
      "Train Epoch: 482 [3200/19577 (16%)]\tLoss: 0.008874\n",
      "Train Epoch: 482 [6400/19577 (33%)]\tLoss: 0.009150\n",
      "Train Epoch: 482 [9600/19577 (49%)]\tLoss: 0.003578\n",
      "Train Epoch: 482 [12800/19577 (65%)]\tLoss: 0.006403\n",
      "Train Epoch: 482 [16000/19577 (82%)]\tLoss: 0.005254\n",
      "Train Epoch: 482 [19200/19577 (98%)]\tLoss: 0.004302\n",
      "\n",
      "Train loss: 0.007090772510113597\n"
     ]
    },
    {
     "name": "stderr",
     "output_type": "stream",
     "text": [
      "\r",
      " 96%|█████████▋| 482/500 [1:05:03<02:06,  7.01s/it]"
     ]
    },
    {
     "name": "stdout",
     "output_type": "stream",
     "text": [
      "Test on 1143 samples\n",
      "R^2: -1.55\n",
      "Test Loss: 1.68%\n",
      "Train Epoch: 483 [0/19577 (0%)]\tLoss: 0.003824\n",
      "Train Epoch: 483 [3200/19577 (16%)]\tLoss: 0.010074\n",
      "Train Epoch: 483 [6400/19577 (33%)]\tLoss: 0.004798\n",
      "Train Epoch: 483 [9600/19577 (49%)]\tLoss: 0.005397\n",
      "Train Epoch: 483 [12800/19577 (65%)]\tLoss: 0.004794\n",
      "Train Epoch: 483 [16000/19577 (82%)]\tLoss: 0.005598\n",
      "Train Epoch: 483 [19200/19577 (98%)]\tLoss: 0.004903\n",
      "\n",
      "Train loss: 0.007075497212141046\n"
     ]
    },
    {
     "name": "stderr",
     "output_type": "stream",
     "text": [
      "\r",
      " 97%|█████████▋| 483/500 [1:05:10<02:00,  7.06s/it]"
     ]
    },
    {
     "name": "stdout",
     "output_type": "stream",
     "text": [
      "Test on 1143 samples\n",
      "R^2: -1.36\n",
      "Test Loss: 1.69%\n",
      "Train Epoch: 484 [0/19577 (0%)]\tLoss: 0.007186\n",
      "Train Epoch: 484 [3200/19577 (16%)]\tLoss: 0.004338\n",
      "Train Epoch: 484 [6400/19577 (33%)]\tLoss: 0.331455\n",
      "Train Epoch: 484 [9600/19577 (49%)]\tLoss: 0.002636\n",
      "Train Epoch: 484 [12800/19577 (65%)]\tLoss: 0.006253\n",
      "Train Epoch: 484 [16000/19577 (82%)]\tLoss: 0.006281\n",
      "Train Epoch: 484 [19200/19577 (98%)]\tLoss: 0.004588\n",
      "\n",
      "Train loss: 0.007084892417480743\n"
     ]
    },
    {
     "name": "stderr",
     "output_type": "stream",
     "text": [
      "\r",
      " 97%|█████████▋| 484/500 [1:05:17<01:53,  7.11s/it]"
     ]
    },
    {
     "name": "stdout",
     "output_type": "stream",
     "text": [
      "Test on 1143 samples\n",
      "R^2: -1.05\n",
      "Test Loss: 1.65%\n",
      "Train Epoch: 485 [0/19577 (0%)]\tLoss: 0.006983\n",
      "Train Epoch: 485 [3200/19577 (16%)]\tLoss: 0.007218\n",
      "Train Epoch: 485 [6400/19577 (33%)]\tLoss: 0.005081\n",
      "Train Epoch: 485 [9600/19577 (49%)]\tLoss: 0.003584\n",
      "Train Epoch: 485 [12800/19577 (65%)]\tLoss: 0.006031\n",
      "Train Epoch: 485 [16000/19577 (82%)]\tLoss: 0.004642\n",
      "Train Epoch: 485 [19200/19577 (98%)]\tLoss: 0.004958\n",
      "\n",
      "Train loss: 0.007107798674362986\n"
     ]
    },
    {
     "name": "stderr",
     "output_type": "stream",
     "text": [
      "\r",
      " 97%|█████████▋| 485/500 [1:05:24<01:45,  7.03s/it]"
     ]
    },
    {
     "name": "stdout",
     "output_type": "stream",
     "text": [
      "Test on 1143 samples\n",
      "R^2: -2.86\n",
      "Test Loss: 1.71%\n",
      "Train Epoch: 486 [0/19577 (0%)]\tLoss: 0.005582\n",
      "Train Epoch: 486 [3200/19577 (16%)]\tLoss: 0.007149\n",
      "Train Epoch: 486 [6400/19577 (33%)]\tLoss: 0.001710\n",
      "Train Epoch: 486 [9600/19577 (49%)]\tLoss: 0.004533\n",
      "Train Epoch: 486 [12800/19577 (65%)]\tLoss: 0.003558\n",
      "Train Epoch: 486 [16000/19577 (82%)]\tLoss: 0.008227\n",
      "Train Epoch: 486 [19200/19577 (98%)]\tLoss: 0.003654\n",
      "\n",
      "Train loss: 0.007092942852752125\n"
     ]
    },
    {
     "name": "stderr",
     "output_type": "stream",
     "text": [
      "\r",
      " 97%|█████████▋| 486/500 [1:05:31<01:37,  6.96s/it]"
     ]
    },
    {
     "name": "stdout",
     "output_type": "stream",
     "text": [
      "Test on 1143 samples\n",
      "R^2: -0.79\n",
      "Test Loss: 1.65%\n",
      "Train Epoch: 487 [0/19577 (0%)]\tLoss: 0.003785\n",
      "Train Epoch: 487 [3200/19577 (16%)]\tLoss: 0.011354\n",
      "Train Epoch: 487 [6400/19577 (33%)]\tLoss: 0.004904\n",
      "Train Epoch: 487 [9600/19577 (49%)]\tLoss: 0.007933\n",
      "Train Epoch: 487 [12800/19577 (65%)]\tLoss: 0.004179\n",
      "Train Epoch: 487 [16000/19577 (82%)]\tLoss: 0.008358\n",
      "Train Epoch: 487 [19200/19577 (98%)]\tLoss: 0.003413\n",
      "\n",
      "Train loss: 0.007082602323802931\n"
     ]
    },
    {
     "name": "stderr",
     "output_type": "stream",
     "text": [
      "\r",
      " 97%|█████████▋| 487/500 [1:05:38<01:30,  6.92s/it]"
     ]
    },
    {
     "name": "stdout",
     "output_type": "stream",
     "text": [
      "Test on 1143 samples\n",
      "R^2: -1.06\n",
      "Test Loss: 1.64%\n",
      "Train Epoch: 488 [0/19577 (0%)]\tLoss: 0.003769\n",
      "Train Epoch: 488 [3200/19577 (16%)]\tLoss: 0.007006\n",
      "Train Epoch: 488 [6400/19577 (33%)]\tLoss: 0.004546\n",
      "Train Epoch: 488 [9600/19577 (49%)]\tLoss: 0.003696\n",
      "Train Epoch: 488 [12800/19577 (65%)]\tLoss: 0.005878\n",
      "Train Epoch: 488 [16000/19577 (82%)]\tLoss: 0.002525\n",
      "Train Epoch: 488 [19200/19577 (98%)]\tLoss: 0.003528\n",
      "\n",
      "Train loss: 0.007060506522618965\n"
     ]
    },
    {
     "name": "stderr",
     "output_type": "stream",
     "text": [
      "\r",
      " 98%|█████████▊| 488/500 [1:05:45<01:22,  6.89s/it]"
     ]
    },
    {
     "name": "stdout",
     "output_type": "stream",
     "text": [
      "Test on 1143 samples\n",
      "R^2: -0.01\n",
      "Test Loss: 1.65%\n",
      "Train Epoch: 489 [0/19577 (0%)]\tLoss: 0.011601\n",
      "Train Epoch: 489 [3200/19577 (16%)]\tLoss: 0.006409\n",
      "Train Epoch: 489 [6400/19577 (33%)]\tLoss: 0.007866\n",
      "Train Epoch: 489 [9600/19577 (49%)]\tLoss: 0.003779\n",
      "Train Epoch: 489 [12800/19577 (65%)]\tLoss: 0.006251\n",
      "Train Epoch: 489 [16000/19577 (82%)]\tLoss: 0.003985\n",
      "Train Epoch: 489 [19200/19577 (98%)]\tLoss: 0.007955\n",
      "\n",
      "Train loss: 0.007087559062223638\n"
     ]
    },
    {
     "name": "stderr",
     "output_type": "stream",
     "text": [
      "\r",
      " 98%|█████████▊| 489/500 [1:05:52<01:15,  6.87s/it]"
     ]
    },
    {
     "name": "stdout",
     "output_type": "stream",
     "text": [
      "Test on 1143 samples\n",
      "R^2: -0.14\n",
      "Test Loss: 1.66%\n",
      "Train Epoch: 490 [0/19577 (0%)]\tLoss: 0.009870\n",
      "Train Epoch: 490 [3200/19577 (16%)]\tLoss: 0.010819\n",
      "Train Epoch: 490 [6400/19577 (33%)]\tLoss: 0.007610\n",
      "Train Epoch: 490 [9600/19577 (49%)]\tLoss: 0.007927\n",
      "Train Epoch: 490 [12800/19577 (65%)]\tLoss: 0.004176\n",
      "Train Epoch: 490 [16000/19577 (82%)]\tLoss: 0.005824\n",
      "Train Epoch: 490 [19200/19577 (98%)]\tLoss: 0.006530\n",
      "\n",
      "Train loss: 0.007068772424770263\n"
     ]
    },
    {
     "name": "stderr",
     "output_type": "stream",
     "text": [
      "\r",
      " 98%|█████████▊| 490/500 [1:05:59<01:10,  7.01s/it]"
     ]
    },
    {
     "name": "stdout",
     "output_type": "stream",
     "text": [
      "Test on 1143 samples\n",
      "R^2: -2.61\n",
      "Test Loss: 1.66%\n",
      "Train Epoch: 491 [0/19577 (0%)]\tLoss: 0.005097\n",
      "Train Epoch: 491 [3200/19577 (16%)]\tLoss: 0.003930\n",
      "Train Epoch: 491 [6400/19577 (33%)]\tLoss: 0.003052\n",
      "Train Epoch: 491 [9600/19577 (49%)]\tLoss: 0.005997\n",
      "Train Epoch: 491 [12800/19577 (65%)]\tLoss: 0.007892\n",
      "Train Epoch: 491 [16000/19577 (82%)]\tLoss: 0.004464\n",
      "Train Epoch: 491 [19200/19577 (98%)]\tLoss: 0.008180\n",
      "\n",
      "Train loss: 0.0070738178438939205\n"
     ]
    },
    {
     "name": "stderr",
     "output_type": "stream",
     "text": [
      "\r",
      " 98%|█████████▊| 491/500 [1:06:06<01:02,  6.97s/it]"
     ]
    },
    {
     "name": "stdout",
     "output_type": "stream",
     "text": [
      "Test on 1143 samples\n",
      "R^2: -4.10\n",
      "Test Loss: 1.67%\n",
      "Train Epoch: 492 [0/19577 (0%)]\tLoss: 0.006472\n",
      "Train Epoch: 492 [3200/19577 (16%)]\tLoss: 0.005966\n",
      "Train Epoch: 492 [6400/19577 (33%)]\tLoss: 0.004478\n",
      "Train Epoch: 492 [9600/19577 (49%)]\tLoss: 0.002713\n",
      "Train Epoch: 492 [12800/19577 (65%)]\tLoss: 0.005540\n",
      "Train Epoch: 492 [16000/19577 (82%)]\tLoss: 0.010634\n",
      "Train Epoch: 492 [19200/19577 (98%)]\tLoss: 0.007521\n",
      "\n",
      "Train loss: 0.007092396791086964\n"
     ]
    },
    {
     "name": "stderr",
     "output_type": "stream",
     "text": [
      "\r",
      " 98%|█████████▊| 492/500 [1:06:13<00:55,  6.94s/it]"
     ]
    },
    {
     "name": "stdout",
     "output_type": "stream",
     "text": [
      "Test on 1143 samples\n",
      "R^2: -0.42\n",
      "Test Loss: 1.64%\n",
      "Train Epoch: 493 [0/19577 (0%)]\tLoss: 0.015300\n",
      "Train Epoch: 493 [3200/19577 (16%)]\tLoss: 0.004167\n",
      "Train Epoch: 493 [6400/19577 (33%)]\tLoss: 0.006029\n",
      "Train Epoch: 493 [9600/19577 (49%)]\tLoss: 0.004294\n",
      "Train Epoch: 493 [12800/19577 (65%)]\tLoss: 0.005671\n",
      "Train Epoch: 493 [16000/19577 (82%)]\tLoss: 0.005892\n",
      "Train Epoch: 493 [19200/19577 (98%)]\tLoss: 0.004903\n",
      "\n",
      "Train loss: 0.007066178521722726\n"
     ]
    },
    {
     "name": "stderr",
     "output_type": "stream",
     "text": [
      "\r",
      " 99%|█████████▊| 493/500 [1:06:20<00:48,  6.91s/it]"
     ]
    },
    {
     "name": "stdout",
     "output_type": "stream",
     "text": [
      "Test on 1143 samples\n",
      "R^2: -0.63\n",
      "Test Loss: 1.64%\n",
      "Train Epoch: 494 [0/19577 (0%)]\tLoss: 0.004603\n",
      "Train Epoch: 494 [3200/19577 (16%)]\tLoss: 0.005011\n",
      "Train Epoch: 494 [6400/19577 (33%)]\tLoss: 0.002906\n",
      "Train Epoch: 494 [9600/19577 (49%)]\tLoss: 0.006467\n",
      "Train Epoch: 494 [12800/19577 (65%)]\tLoss: 0.005763\n",
      "Train Epoch: 494 [16000/19577 (82%)]\tLoss: 0.003439\n",
      "Train Epoch: 494 [19200/19577 (98%)]\tLoss: 0.006212\n",
      "\n",
      "Train loss: 0.007100874429121248\n"
     ]
    },
    {
     "name": "stderr",
     "output_type": "stream",
     "text": [
      "\r",
      " 99%|█████████▉| 494/500 [1:06:26<00:41,  6.88s/it]"
     ]
    },
    {
     "name": "stdout",
     "output_type": "stream",
     "text": [
      "Test on 1143 samples\n",
      "R^2: 0.03\n",
      "Test Loss: 1.64%\n",
      "Train Epoch: 495 [0/19577 (0%)]\tLoss: 0.009688\n",
      "Train Epoch: 495 [3200/19577 (16%)]\tLoss: 0.002692\n",
      "Train Epoch: 495 [6400/19577 (33%)]\tLoss: 0.004941\n",
      "Train Epoch: 495 [9600/19577 (49%)]\tLoss: 0.003960\n",
      "Train Epoch: 495 [12800/19577 (65%)]\tLoss: 0.005051\n",
      "Train Epoch: 495 [16000/19577 (82%)]\tLoss: 0.005814\n",
      "Train Epoch: 495 [19200/19577 (98%)]\tLoss: 0.003168\n",
      "\n",
      "Train loss: 0.0070602650426212525\n"
     ]
    },
    {
     "name": "stderr",
     "output_type": "stream",
     "text": [
      "\r",
      " 99%|█████████▉| 495/500 [1:06:48<00:56, 11.39s/it]"
     ]
    },
    {
     "name": "stdout",
     "output_type": "stream",
     "text": [
      "Test on 1143 samples\n",
      "R^2: -0.28\n",
      "Test Loss: 1.66%\n",
      "Train Epoch: 496 [0/19577 (0%)]\tLoss: 0.005374\n",
      "Train Epoch: 496 [3200/19577 (16%)]\tLoss: 0.005343\n",
      "Train Epoch: 496 [6400/19577 (33%)]\tLoss: 0.003113\n",
      "Train Epoch: 496 [9600/19577 (49%)]\tLoss: 0.001891\n",
      "Train Epoch: 496 [12800/19577 (65%)]\tLoss: 0.005521\n",
      "Train Epoch: 496 [16000/19577 (82%)]\tLoss: 0.005915\n",
      "Train Epoch: 496 [19200/19577 (98%)]\tLoss: 0.008540\n",
      "\n",
      "Train loss: 0.007093594929589921\n"
     ]
    },
    {
     "name": "stderr",
     "output_type": "stream",
     "text": [
      "\r",
      " 99%|█████████▉| 496/500 [1:06:57<00:42, 10.64s/it]"
     ]
    },
    {
     "name": "stdout",
     "output_type": "stream",
     "text": [
      "Test on 1143 samples\n",
      "R^2: 0.02\n",
      "Test Loss: 1.64%\n",
      "Train Epoch: 497 [0/19577 (0%)]\tLoss: 0.002397\n",
      "Train Epoch: 497 [3200/19577 (16%)]\tLoss: 0.004368\n",
      "Train Epoch: 497 [6400/19577 (33%)]\tLoss: 0.003785\n",
      "Train Epoch: 497 [9600/19577 (49%)]\tLoss: 0.003605\n",
      "Train Epoch: 497 [12800/19577 (65%)]\tLoss: 0.004835\n",
      "Train Epoch: 497 [16000/19577 (82%)]\tLoss: 0.009697\n",
      "Train Epoch: 497 [19200/19577 (98%)]\tLoss: 0.006218\n",
      "\n",
      "Train loss: 0.007030131842399296\n"
     ]
    },
    {
     "name": "stderr",
     "output_type": "stream",
     "text": [
      "\r",
      " 99%|█████████▉| 497/500 [1:07:05<00:29,  9.81s/it]"
     ]
    },
    {
     "name": "stdout",
     "output_type": "stream",
     "text": [
      "Test on 1143 samples\n",
      "R^2: -0.28\n",
      "Test Loss: 1.66%\n",
      "Train Epoch: 498 [0/19577 (0%)]\tLoss: 0.004418\n",
      "Train Epoch: 498 [3200/19577 (16%)]\tLoss: 0.007200\n",
      "Train Epoch: 498 [6400/19577 (33%)]\tLoss: 0.004968\n",
      "Train Epoch: 498 [9600/19577 (49%)]\tLoss: 0.004121\n",
      "Train Epoch: 498 [12800/19577 (65%)]\tLoss: 0.006399\n",
      "Train Epoch: 498 [16000/19577 (82%)]\tLoss: 0.005082\n",
      "Train Epoch: 498 [19200/19577 (98%)]\tLoss: 0.004561\n",
      "\n",
      "Train loss: 0.00703541032842123\n"
     ]
    },
    {
     "name": "stderr",
     "output_type": "stream",
     "text": [
      "\r",
      "100%|█████████▉| 498/500 [1:07:13<00:18,  9.13s/it]"
     ]
    },
    {
     "name": "stdout",
     "output_type": "stream",
     "text": [
      "Test on 1143 samples\n",
      "R^2: -7.62\n",
      "Test Loss: 1.71%\n",
      "Train Epoch: 499 [0/19577 (0%)]\tLoss: 0.004760\n",
      "Train Epoch: 499 [3200/19577 (16%)]\tLoss: 0.002011\n",
      "Train Epoch: 499 [6400/19577 (33%)]\tLoss: 0.006197\n",
      "Train Epoch: 499 [9600/19577 (49%)]\tLoss: 0.004462\n",
      "Train Epoch: 499 [12800/19577 (65%)]\tLoss: 0.008419\n",
      "Train Epoch: 499 [16000/19577 (82%)]\tLoss: 0.004428\n",
      "Train Epoch: 499 [19200/19577 (98%)]\tLoss: 0.004413\n",
      "\n",
      "Train loss: 0.007036262632764608\n"
     ]
    },
    {
     "name": "stderr",
     "output_type": "stream",
     "text": [
      "\r",
      "100%|█████████▉| 499/500 [1:07:25<00:10, 10.08s/it]"
     ]
    },
    {
     "name": "stdout",
     "output_type": "stream",
     "text": [
      "Test on 1143 samples\n",
      "R^2: -0.01\n",
      "Test Loss: 1.64%\n",
      "Train Epoch: 500 [0/19577 (0%)]\tLoss: 0.005246\n",
      "Train Epoch: 500 [3200/19577 (16%)]\tLoss: 0.004978\n",
      "Train Epoch: 500 [6400/19577 (33%)]\tLoss: 0.006333\n",
      "Train Epoch: 500 [9600/19577 (49%)]\tLoss: 0.004098\n",
      "Train Epoch: 500 [12800/19577 (65%)]\tLoss: 0.003207\n",
      "Train Epoch: 500 [16000/19577 (82%)]\tLoss: 0.004880\n",
      "Train Epoch: 500 [19200/19577 (98%)]\tLoss: 0.002372\n",
      "\n",
      "Train loss: 0.00703787163479765\n"
     ]
    },
    {
     "name": "stderr",
     "output_type": "stream",
     "text": [
      "100%|██████████| 500/500 [1:07:34<00:00,  8.11s/it]"
     ]
    },
    {
     "name": "stdout",
     "output_type": "stream",
     "text": [
      "Test on 1143 samples\n",
      "R^2: 0.02\n",
      "Test Loss: 1.64%\n"
     ]
    },
    {
     "name": "stderr",
     "output_type": "stream",
     "text": [
      "\n",
      "  0%|          | 0/500 [00:00<?, ?it/s]"
     ]
    },
    {
     "name": "stdout",
     "output_type": "stream",
     "text": [
      "Train Epoch: 1 [0/19577 (0%)]\tLoss: 8.899017\n",
      "Train Epoch: 1 [3200/19577 (16%)]\tLoss: 0.239950\n",
      "Train Epoch: 1 [6400/19577 (33%)]\tLoss: 0.111637\n",
      "Train Epoch: 1 [9600/19577 (49%)]\tLoss: 0.161850\n",
      "Train Epoch: 1 [12800/19577 (65%)]\tLoss: 0.094973\n",
      "Train Epoch: 1 [16000/19577 (82%)]\tLoss: 0.114616\n",
      "Train Epoch: 1 [19200/19577 (98%)]\tLoss: 0.058810\n",
      "\n",
      "Train loss: 0.2657709657001534\n"
     ]
    },
    {
     "name": "stderr",
     "output_type": "stream",
     "text": [
      "\r",
      "  0%|          | 1/500 [00:07<1:02:56,  7.57s/it]"
     ]
    },
    {
     "name": "stdout",
     "output_type": "stream",
     "text": [
      "Test on 1143 samples\n",
      "R^2: -46.59\n",
      "Test Loss: 12.93%\n",
      "Train Epoch: 2 [0/19577 (0%)]\tLoss: 0.028598\n",
      "Train Epoch: 2 [3200/19577 (16%)]\tLoss: 0.042482\n",
      "Train Epoch: 2 [6400/19577 (33%)]\tLoss: 0.033076\n",
      "Train Epoch: 2 [9600/19577 (49%)]\tLoss: 0.071617\n",
      "Train Epoch: 2 [12800/19577 (65%)]\tLoss: 0.024819\n",
      "Train Epoch: 2 [16000/19577 (82%)]\tLoss: 0.051245\n",
      "Train Epoch: 2 [19200/19577 (98%)]\tLoss: 0.038544\n",
      "\n",
      "Train loss: 0.05430743051997197\n"
     ]
    },
    {
     "name": "stderr",
     "output_type": "stream",
     "text": [
      "\r",
      "  0%|          | 2/500 [00:14<1:01:45,  7.44s/it]"
     ]
    },
    {
     "name": "stdout",
     "output_type": "stream",
     "text": [
      "Test on 1143 samples\n",
      "R^2: -129.19\n",
      "Test Loss: 10.62%\n",
      "Train Epoch: 3 [0/19577 (0%)]\tLoss: 0.032543\n",
      "Train Epoch: 3 [3200/19577 (16%)]\tLoss: 0.054247\n",
      "Train Epoch: 3 [6400/19577 (33%)]\tLoss: 0.084723\n",
      "Train Epoch: 3 [9600/19577 (49%)]\tLoss: 0.025539\n",
      "Train Epoch: 3 [12800/19577 (65%)]\tLoss: 0.032026\n",
      "Train Epoch: 3 [16000/19577 (82%)]\tLoss: 0.044528\n",
      "Train Epoch: 3 [19200/19577 (98%)]\tLoss: 0.043384\n",
      "\n",
      "Train loss: 0.04956043217623351\n"
     ]
    },
    {
     "name": "stderr",
     "output_type": "stream",
     "text": [
      "\r",
      "  1%|          | 3/500 [00:24<1:07:34,  8.16s/it]"
     ]
    },
    {
     "name": "stdout",
     "output_type": "stream",
     "text": [
      "Test on 1143 samples\n",
      "R^2: -125.66\n",
      "Test Loss: 9.83%\n",
      "Train Epoch: 4 [0/19577 (0%)]\tLoss: 0.033070\n",
      "Train Epoch: 4 [3200/19577 (16%)]\tLoss: 0.045800\n",
      "Train Epoch: 4 [6400/19577 (33%)]\tLoss: 0.060916\n",
      "Train Epoch: 4 [9600/19577 (49%)]\tLoss: 0.039882\n",
      "Train Epoch: 4 [12800/19577 (65%)]\tLoss: 0.058568\n",
      "Train Epoch: 4 [16000/19577 (82%)]\tLoss: 0.051116\n",
      "Train Epoch: 4 [19200/19577 (98%)]\tLoss: 0.033530\n",
      "\n",
      "Train loss: 0.04620940468328841\n"
     ]
    },
    {
     "name": "stderr",
     "output_type": "stream",
     "text": [
      "\r",
      "  1%|          | 4/500 [00:37<1:18:12,  9.46s/it]"
     ]
    },
    {
     "name": "stdout",
     "output_type": "stream",
     "text": [
      "Test on 1143 samples\n",
      "R^2: -115.79\n",
      "Test Loss: 9.28%\n",
      "Train Epoch: 5 [0/19577 (0%)]\tLoss: 0.072855\n",
      "Train Epoch: 5 [3200/19577 (16%)]\tLoss: 0.052438\n",
      "Train Epoch: 5 [6400/19577 (33%)]\tLoss: 0.024911\n",
      "Train Epoch: 5 [9600/19577 (49%)]\tLoss: 0.028044\n",
      "Train Epoch: 5 [12800/19577 (65%)]\tLoss: 0.065064\n",
      "Train Epoch: 5 [16000/19577 (82%)]\tLoss: 0.049382\n",
      "Train Epoch: 5 [19200/19577 (98%)]\tLoss: 0.032968\n",
      "\n",
      "Train loss: 0.04377904990261871\n"
     ]
    },
    {
     "name": "stderr",
     "output_type": "stream",
     "text": [
      "\r",
      "  1%|          | 5/500 [00:53<1:36:04, 11.65s/it]"
     ]
    },
    {
     "name": "stdout",
     "output_type": "stream",
     "text": [
      "Test on 1143 samples\n",
      "R^2: -103.28\n",
      "Test Loss: 8.91%\n",
      "Train Epoch: 6 [0/19577 (0%)]\tLoss: 0.059351\n",
      "Train Epoch: 6 [3200/19577 (16%)]\tLoss: 0.031274\n",
      "Train Epoch: 6 [6400/19577 (33%)]\tLoss: 0.059367\n",
      "Train Epoch: 6 [9600/19577 (49%)]\tLoss: 0.052157\n",
      "Train Epoch: 6 [12800/19577 (65%)]\tLoss: 0.028773\n",
      "Train Epoch: 6 [16000/19577 (82%)]\tLoss: 0.026495\n",
      "Train Epoch: 6 [19200/19577 (98%)]\tLoss: 0.043382\n",
      "\n",
      "Train loss: 0.04197065909301825\n"
     ]
    },
    {
     "name": "stderr",
     "output_type": "stream",
     "text": [
      "\r",
      "  1%|          | 6/500 [01:04<1:33:21, 11.34s/it]"
     ]
    },
    {
     "name": "stdout",
     "output_type": "stream",
     "text": [
      "Test on 1143 samples\n",
      "R^2: -99.51\n",
      "Test Loss: 8.55%\n",
      "Train Epoch: 7 [0/19577 (0%)]\tLoss: 0.048979\n",
      "Train Epoch: 7 [3200/19577 (16%)]\tLoss: 0.065122\n",
      "Train Epoch: 7 [6400/19577 (33%)]\tLoss: 0.112396\n",
      "Train Epoch: 7 [9600/19577 (49%)]\tLoss: 0.019667\n",
      "Train Epoch: 7 [12800/19577 (65%)]\tLoss: 0.038728\n",
      "Train Epoch: 7 [16000/19577 (82%)]\tLoss: 0.021254\n",
      "Train Epoch: 7 [19200/19577 (98%)]\tLoss: 0.047875\n",
      "\n",
      "Train loss: 0.040618627444761836\n"
     ]
    },
    {
     "name": "stderr",
     "output_type": "stream",
     "text": [
      "\r",
      "  1%|▏         | 7/500 [01:14<1:31:15, 11.11s/it]"
     ]
    },
    {
     "name": "stdout",
     "output_type": "stream",
     "text": [
      "Test on 1143 samples\n",
      "R^2: -112.98\n",
      "Test Loss: 8.08%\n",
      "Train Epoch: 8 [0/19577 (0%)]\tLoss: 0.058208\n",
      "Train Epoch: 8 [3200/19577 (16%)]\tLoss: 0.045770\n",
      "Train Epoch: 8 [6400/19577 (33%)]\tLoss: 0.037273\n",
      "Train Epoch: 8 [9600/19577 (49%)]\tLoss: 0.030149\n",
      "Train Epoch: 8 [12800/19577 (65%)]\tLoss: 0.048826\n",
      "Train Epoch: 8 [16000/19577 (82%)]\tLoss: 0.034190\n",
      "Train Epoch: 8 [19200/19577 (98%)]\tLoss: 0.030608\n",
      "\n",
      "Train loss: 0.039512956654957306\n"
     ]
    },
    {
     "name": "stderr",
     "output_type": "stream",
     "text": [
      "\r",
      "  2%|▏         | 8/500 [01:22<1:22:28, 10.06s/it]"
     ]
    },
    {
     "name": "stdout",
     "output_type": "stream",
     "text": [
      "Test on 1143 samples\n",
      "R^2: -107.05\n",
      "Test Loss: 7.85%\n",
      "Train Epoch: 9 [0/19577 (0%)]\tLoss: 0.039027\n",
      "Train Epoch: 9 [3200/19577 (16%)]\tLoss: 0.016813\n",
      "Train Epoch: 9 [6400/19577 (33%)]\tLoss: 0.023649\n",
      "Train Epoch: 9 [9600/19577 (49%)]\tLoss: 0.034850\n",
      "Train Epoch: 9 [12800/19577 (65%)]\tLoss: 0.049969\n",
      "Train Epoch: 9 [16000/19577 (82%)]\tLoss: 0.033929\n",
      "Train Epoch: 9 [19200/19577 (98%)]\tLoss: 0.031724\n",
      "\n",
      "Train loss: 0.038614742701349694\n"
     ]
    },
    {
     "name": "stderr",
     "output_type": "stream",
     "text": [
      "\r",
      "  2%|▏         | 9/500 [01:29<1:15:19,  9.20s/it]"
     ]
    },
    {
     "name": "stdout",
     "output_type": "stream",
     "text": [
      "Test on 1143 samples\n",
      "R^2: -107.82\n",
      "Test Loss: 7.60%\n",
      "Train Epoch: 10 [0/19577 (0%)]\tLoss: 0.039156\n",
      "Train Epoch: 10 [3200/19577 (16%)]\tLoss: 0.049001\n",
      "Train Epoch: 10 [6400/19577 (33%)]\tLoss: 0.034129\n",
      "Train Epoch: 10 [9600/19577 (49%)]\tLoss: 0.047227\n",
      "Train Epoch: 10 [12800/19577 (65%)]\tLoss: 0.046542\n",
      "Train Epoch: 10 [16000/19577 (82%)]\tLoss: 0.037726\n",
      "Train Epoch: 10 [19200/19577 (98%)]\tLoss: 0.048371\n",
      "\n",
      "Train loss: 0.037816448864569654\n"
     ]
    },
    {
     "name": "stderr",
     "output_type": "stream",
     "text": [
      "\r",
      "  2%|▏         | 10/500 [01:36<1:10:03,  8.58s/it]"
     ]
    },
    {
     "name": "stdout",
     "output_type": "stream",
     "text": [
      "Test on 1143 samples\n",
      "R^2: -104.11\n",
      "Test Loss: 7.42%\n",
      "Train Epoch: 11 [0/19577 (0%)]\tLoss: 0.047040\n",
      "Train Epoch: 11 [3200/19577 (16%)]\tLoss: 0.036563\n",
      "Train Epoch: 11 [6400/19577 (33%)]\tLoss: 0.028459\n",
      "Train Epoch: 11 [9600/19577 (49%)]\tLoss: 0.034899\n",
      "Train Epoch: 11 [12800/19577 (65%)]\tLoss: 0.030730\n",
      "Train Epoch: 11 [16000/19577 (82%)]\tLoss: 0.065392\n",
      "Train Epoch: 11 [19200/19577 (98%)]\tLoss: 0.026243\n",
      "\n",
      "Train loss: 0.037111324051188097\n"
     ]
    },
    {
     "name": "stderr",
     "output_type": "stream",
     "text": [
      "\r",
      "  2%|▏         | 11/500 [01:45<1:10:59,  8.71s/it]"
     ]
    },
    {
     "name": "stdout",
     "output_type": "stream",
     "text": [
      "Test on 1143 samples\n",
      "R^2: -104.62\n",
      "Test Loss: 7.21%\n",
      "Train Epoch: 12 [0/19577 (0%)]\tLoss: 0.030639\n",
      "Train Epoch: 12 [3200/19577 (16%)]\tLoss: 0.052521\n",
      "Train Epoch: 12 [6400/19577 (33%)]\tLoss: 0.018163\n",
      "Train Epoch: 12 [9600/19577 (49%)]\tLoss: 0.057489\n",
      "Train Epoch: 12 [12800/19577 (65%)]\tLoss: 0.043849\n",
      "Train Epoch: 12 [16000/19577 (82%)]\tLoss: 0.021635\n",
      "Train Epoch: 12 [19200/19577 (98%)]\tLoss: 0.031493\n",
      "\n",
      "Train loss: 0.03644194983225924\n"
     ]
    },
    {
     "name": "stderr",
     "output_type": "stream",
     "text": [
      "\r",
      "  2%|▏         | 12/500 [01:53<1:08:08,  8.38s/it]"
     ]
    },
    {
     "name": "stdout",
     "output_type": "stream",
     "text": [
      "Test on 1143 samples\n",
      "R^2: -111.96\n",
      "Test Loss: 6.95%\n",
      "Train Epoch: 13 [0/19577 (0%)]\tLoss: 0.028458\n",
      "Train Epoch: 13 [3200/19577 (16%)]\tLoss: 0.036738\n",
      "Train Epoch: 13 [6400/19577 (33%)]\tLoss: 0.043181\n",
      "Train Epoch: 13 [9600/19577 (49%)]\tLoss: 0.027214\n",
      "Train Epoch: 13 [12800/19577 (65%)]\tLoss: 0.062385\n",
      "Train Epoch: 13 [16000/19577 (82%)]\tLoss: 0.024711\n",
      "Train Epoch: 13 [19200/19577 (98%)]\tLoss: 0.037758\n",
      "\n",
      "Train loss: 0.0357740225629528\n"
     ]
    },
    {
     "name": "stderr",
     "output_type": "stream",
     "text": [
      "\r",
      "  3%|▎         | 13/500 [02:01<1:05:56,  8.12s/it]"
     ]
    },
    {
     "name": "stdout",
     "output_type": "stream",
     "text": [
      "Test on 1143 samples\n",
      "R^2: -91.68\n",
      "Test Loss: 6.98%\n",
      "Train Epoch: 14 [0/19577 (0%)]\tLoss: 0.043068\n",
      "Train Epoch: 14 [3200/19577 (16%)]\tLoss: 0.023642\n",
      "Train Epoch: 14 [6400/19577 (33%)]\tLoss: 0.039738\n",
      "Train Epoch: 14 [9600/19577 (49%)]\tLoss: 0.047773\n",
      "Train Epoch: 14 [12800/19577 (65%)]\tLoss: 0.018026\n",
      "Train Epoch: 14 [16000/19577 (82%)]\tLoss: 0.022873\n",
      "Train Epoch: 14 [19200/19577 (98%)]\tLoss: 0.031474\n",
      "\n",
      "Train loss: 0.03512013426014021\n"
     ]
    },
    {
     "name": "stderr",
     "output_type": "stream",
     "text": [
      "\r",
      "  3%|▎         | 14/500 [02:09<1:06:24,  8.20s/it]"
     ]
    },
    {
     "name": "stdout",
     "output_type": "stream",
     "text": [
      "Test on 1143 samples\n",
      "R^2: -96.33\n",
      "Test Loss: 6.75%\n",
      "Train Epoch: 15 [0/19577 (0%)]\tLoss: 0.029105\n",
      "Train Epoch: 15 [3200/19577 (16%)]\tLoss: 0.022211\n",
      "Train Epoch: 15 [6400/19577 (33%)]\tLoss: 0.033849\n",
      "Train Epoch: 15 [9600/19577 (49%)]\tLoss: 0.037378\n",
      "Train Epoch: 15 [12800/19577 (65%)]\tLoss: 0.020522\n",
      "Train Epoch: 15 [16000/19577 (82%)]\tLoss: 0.068527\n",
      "Train Epoch: 15 [19200/19577 (98%)]\tLoss: 0.021355\n",
      "\n",
      "Train loss: 0.034496381005357485\n"
     ]
    },
    {
     "name": "stderr",
     "output_type": "stream",
     "text": [
      "\r",
      "  3%|▎         | 15/500 [02:16<1:04:41,  8.00s/it]"
     ]
    },
    {
     "name": "stdout",
     "output_type": "stream",
     "text": [
      "Test on 1143 samples\n",
      "R^2: -98.11\n",
      "Test Loss: 6.55%\n",
      "Train Epoch: 16 [0/19577 (0%)]\tLoss: 0.053330\n",
      "Train Epoch: 16 [3200/19577 (16%)]\tLoss: 0.027218\n",
      "Train Epoch: 16 [6400/19577 (33%)]\tLoss: 0.031638\n",
      "Train Epoch: 16 [9600/19577 (49%)]\tLoss: 0.026603\n",
      "Train Epoch: 16 [12800/19577 (65%)]\tLoss: 0.044225\n",
      "Train Epoch: 16 [16000/19577 (82%)]\tLoss: 0.032048\n",
      "Train Epoch: 16 [19200/19577 (98%)]\tLoss: 0.029363\n",
      "\n",
      "Train loss: 0.03383583946190044\n"
     ]
    },
    {
     "name": "stderr",
     "output_type": "stream",
     "text": [
      "\r",
      "  3%|▎         | 16/500 [02:25<1:05:41,  8.14s/it]"
     ]
    },
    {
     "name": "stdout",
     "output_type": "stream",
     "text": [
      "Test on 1143 samples\n",
      "R^2: -105.40\n",
      "Test Loss: 6.31%\n",
      "Train Epoch: 17 [0/19577 (0%)]\tLoss: 0.036276\n",
      "Train Epoch: 17 [3200/19577 (16%)]\tLoss: 0.043928\n",
      "Train Epoch: 17 [6400/19577 (33%)]\tLoss: 0.015049\n",
      "Train Epoch: 17 [9600/19577 (49%)]\tLoss: 0.028866\n",
      "Train Epoch: 17 [12800/19577 (65%)]\tLoss: 0.017238\n",
      "Train Epoch: 17 [16000/19577 (82%)]\tLoss: 0.044516\n",
      "Train Epoch: 17 [19200/19577 (98%)]\tLoss: 0.056028\n",
      "\n",
      "Train loss: 0.03315408169017995\n"
     ]
    },
    {
     "name": "stderr",
     "output_type": "stream",
     "text": [
      "\r",
      "  3%|▎         | 17/500 [02:32<1:03:14,  7.86s/it]"
     ]
    },
    {
     "name": "stdout",
     "output_type": "stream",
     "text": [
      "Test on 1143 samples\n",
      "R^2: -109.16\n",
      "Test Loss: 6.12%\n",
      "Train Epoch: 18 [0/19577 (0%)]\tLoss: 0.025097\n",
      "Train Epoch: 18 [3200/19577 (16%)]\tLoss: 0.023803\n",
      "Train Epoch: 18 [6400/19577 (33%)]\tLoss: 0.019436\n",
      "Train Epoch: 18 [9600/19577 (49%)]\tLoss: 0.021226\n",
      "Train Epoch: 18 [12800/19577 (65%)]\tLoss: 0.020658\n",
      "Train Epoch: 18 [16000/19577 (82%)]\tLoss: 0.043766\n",
      "Train Epoch: 18 [19200/19577 (98%)]\tLoss: 0.045368\n",
      "\n",
      "Train loss: 0.032495199459197086\n"
     ]
    },
    {
     "name": "stderr",
     "output_type": "stream",
     "text": [
      "\r",
      "  4%|▎         | 18/500 [02:39<1:01:03,  7.60s/it]"
     ]
    },
    {
     "name": "stdout",
     "output_type": "stream",
     "text": [
      "Test on 1143 samples\n",
      "R^2: -94.43\n",
      "Test Loss: 6.08%\n",
      "Train Epoch: 19 [0/19577 (0%)]\tLoss: 0.018715\n",
      "Train Epoch: 19 [3200/19577 (16%)]\tLoss: 0.031125\n",
      "Train Epoch: 19 [6400/19577 (33%)]\tLoss: 0.029258\n",
      "Train Epoch: 19 [9600/19577 (49%)]\tLoss: 0.032276\n",
      "Train Epoch: 19 [12800/19577 (65%)]\tLoss: 0.017326\n",
      "Train Epoch: 19 [16000/19577 (82%)]\tLoss: 0.035040\n",
      "Train Epoch: 19 [19200/19577 (98%)]\tLoss: 0.023979\n",
      "\n",
      "Train loss: 0.03179817078209001\n"
     ]
    },
    {
     "name": "stderr",
     "output_type": "stream",
     "text": [
      "\r",
      "  4%|▍         | 19/500 [02:54<1:18:42,  9.82s/it]"
     ]
    },
    {
     "name": "stdout",
     "output_type": "stream",
     "text": [
      "Test on 1143 samples\n",
      "R^2: -96.00\n",
      "Test Loss: 5.89%\n",
      "Train Epoch: 20 [0/19577 (0%)]\tLoss: 0.025867\n",
      "Train Epoch: 20 [3200/19577 (16%)]\tLoss: 0.017663\n",
      "Train Epoch: 20 [6400/19577 (33%)]\tLoss: 0.035164\n",
      "Train Epoch: 20 [9600/19577 (49%)]\tLoss: 0.026839\n",
      "Train Epoch: 20 [12800/19577 (65%)]\tLoss: 0.018204\n",
      "Train Epoch: 20 [16000/19577 (82%)]\tLoss: 0.036563\n",
      "Train Epoch: 20 [19200/19577 (98%)]\tLoss: 0.021918\n",
      "\n",
      "Train loss: 0.03109227156181351\n"
     ]
    },
    {
     "name": "stderr",
     "output_type": "stream",
     "text": [
      "\r",
      "  4%|▍         | 20/500 [03:10<1:33:47, 11.72s/it]"
     ]
    },
    {
     "name": "stdout",
     "output_type": "stream",
     "text": [
      "Test on 1143 samples\n",
      "R^2: -82.58\n",
      "Test Loss: 5.86%\n",
      "Train Epoch: 21 [0/19577 (0%)]\tLoss: 0.031206\n",
      "Train Epoch: 21 [3200/19577 (16%)]\tLoss: 0.027375\n",
      "Train Epoch: 21 [6400/19577 (33%)]\tLoss: 0.023406\n",
      "Train Epoch: 21 [9600/19577 (49%)]\tLoss: 0.024867\n",
      "Train Epoch: 21 [12800/19577 (65%)]\tLoss: 0.022337\n",
      "Train Epoch: 21 [16000/19577 (82%)]\tLoss: 0.017554\n",
      "Train Epoch: 21 [19200/19577 (98%)]\tLoss: 0.018672\n",
      "\n",
      "Train loss: 0.03036909996611036\n"
     ]
    },
    {
     "name": "stderr",
     "output_type": "stream",
     "text": [
      "\r",
      "  4%|▍         | 21/500 [03:23<1:35:05, 11.91s/it]"
     ]
    },
    {
     "name": "stdout",
     "output_type": "stream",
     "text": [
      "Test on 1143 samples\n",
      "R^2: -80.89\n",
      "Test Loss: 5.70%\n",
      "Train Epoch: 22 [0/19577 (0%)]\tLoss: 0.028308\n",
      "Train Epoch: 22 [3200/19577 (16%)]\tLoss: 0.026814\n",
      "Train Epoch: 22 [6400/19577 (33%)]\tLoss: 0.025877\n",
      "Train Epoch: 22 [9600/19577 (49%)]\tLoss: 0.017439\n",
      "Train Epoch: 22 [12800/19577 (65%)]\tLoss: 0.017309\n",
      "Train Epoch: 22 [16000/19577 (82%)]\tLoss: 0.020278\n",
      "Train Epoch: 22 [19200/19577 (98%)]\tLoss: 0.019810\n",
      "\n",
      "Train loss: 0.029622772471139244\n"
     ]
    },
    {
     "name": "stderr",
     "output_type": "stream",
     "text": [
      "\r",
      "  4%|▍         | 22/500 [03:33<1:32:04, 11.56s/it]"
     ]
    },
    {
     "name": "stdout",
     "output_type": "stream",
     "text": [
      "Test on 1143 samples\n",
      "R^2: -78.04\n",
      "Test Loss: 5.55%\n",
      "Train Epoch: 23 [0/19577 (0%)]\tLoss: 0.014947\n",
      "Train Epoch: 23 [3200/19577 (16%)]\tLoss: 0.027341\n",
      "Train Epoch: 23 [6400/19577 (33%)]\tLoss: 0.021450\n",
      "Train Epoch: 23 [9600/19577 (49%)]\tLoss: 0.041528\n",
      "Train Epoch: 23 [12800/19577 (65%)]\tLoss: 0.032803\n",
      "Train Epoch: 23 [16000/19577 (82%)]\tLoss: 0.033004\n",
      "Train Epoch: 23 [19200/19577 (98%)]\tLoss: 0.034810\n",
      "\n",
      "Train loss: 0.02887030637950874\n"
     ]
    },
    {
     "name": "stderr",
     "output_type": "stream",
     "text": [
      "\r",
      "  5%|▍         | 23/500 [03:42<1:23:39, 10.52s/it]"
     ]
    },
    {
     "name": "stdout",
     "output_type": "stream",
     "text": [
      "Test on 1143 samples\n",
      "R^2: -69.64\n",
      "Test Loss: 5.47%\n",
      "Train Epoch: 24 [0/19577 (0%)]\tLoss: 0.038439\n",
      "Train Epoch: 24 [3200/19577 (16%)]\tLoss: 0.025998\n",
      "Train Epoch: 24 [6400/19577 (33%)]\tLoss: 0.030573\n",
      "Train Epoch: 24 [9600/19577 (49%)]\tLoss: 0.018302\n",
      "Train Epoch: 24 [12800/19577 (65%)]\tLoss: 0.036714\n",
      "Train Epoch: 24 [16000/19577 (82%)]\tLoss: 0.016951\n",
      "Train Epoch: 24 [19200/19577 (98%)]\tLoss: 0.030949\n",
      "\n",
      "Train loss: 0.028104376060023806\n"
     ]
    },
    {
     "name": "stderr",
     "output_type": "stream",
     "text": [
      "\r",
      "  5%|▍         | 24/500 [03:49<1:16:07,  9.60s/it]"
     ]
    },
    {
     "name": "stdout",
     "output_type": "stream",
     "text": [
      "Test on 1143 samples\n",
      "R^2: -73.08\n",
      "Test Loss: 5.24%\n",
      "Train Epoch: 25 [0/19577 (0%)]\tLoss: 0.033186\n",
      "Train Epoch: 25 [3200/19577 (16%)]\tLoss: 0.026957\n",
      "Train Epoch: 25 [6400/19577 (33%)]\tLoss: 0.022401\n",
      "Train Epoch: 25 [9600/19577 (49%)]\tLoss: 0.039562\n",
      "Train Epoch: 25 [12800/19577 (65%)]\tLoss: 0.018878\n",
      "Train Epoch: 25 [16000/19577 (82%)]\tLoss: 0.024008\n",
      "Train Epoch: 25 [19200/19577 (98%)]\tLoss: 0.021631\n",
      "\n",
      "Train loss: 0.027332053839356874\n"
     ]
    },
    {
     "name": "stderr",
     "output_type": "stream",
     "text": [
      "\r",
      "  5%|▌         | 25/500 [03:56<1:09:54,  8.83s/it]"
     ]
    },
    {
     "name": "stdout",
     "output_type": "stream",
     "text": [
      "Test on 1143 samples\n",
      "R^2: -82.05\n",
      "Test Loss: 4.97%\n",
      "Train Epoch: 26 [0/19577 (0%)]\tLoss: 0.019632\n",
      "Train Epoch: 26 [3200/19577 (16%)]\tLoss: 0.012914\n",
      "Train Epoch: 26 [6400/19577 (33%)]\tLoss: 0.017213\n",
      "Train Epoch: 26 [9600/19577 (49%)]\tLoss: 0.021357\n",
      "Train Epoch: 26 [12800/19577 (65%)]\tLoss: 0.026029\n",
      "Train Epoch: 26 [16000/19577 (82%)]\tLoss: 0.031496\n",
      "Train Epoch: 26 [19200/19577 (98%)]\tLoss: 0.016819\n",
      "\n",
      "Train loss: 0.026547013708919872\n"
     ]
    },
    {
     "name": "stderr",
     "output_type": "stream",
     "text": [
      "\r",
      "  5%|▌         | 26/500 [04:03<1:06:23,  8.40s/it]"
     ]
    },
    {
     "name": "stdout",
     "output_type": "stream",
     "text": [
      "Test on 1143 samples\n",
      "R^2: -84.35\n",
      "Test Loss: 4.78%\n",
      "Train Epoch: 27 [0/19577 (0%)]\tLoss: 0.014807\n",
      "Train Epoch: 27 [3200/19577 (16%)]\tLoss: 0.023196\n",
      "Train Epoch: 27 [6400/19577 (33%)]\tLoss: 0.032908\n",
      "Train Epoch: 27 [9600/19577 (49%)]\tLoss: 0.018211\n",
      "Train Epoch: 27 [12800/19577 (65%)]\tLoss: 0.014916\n",
      "Train Epoch: 27 [16000/19577 (82%)]\tLoss: 0.022962\n",
      "Train Epoch: 27 [19200/19577 (98%)]\tLoss: 0.056216\n",
      "\n",
      "Train loss: 0.025768002842132952\n"
     ]
    },
    {
     "name": "stderr",
     "output_type": "stream",
     "text": [
      "\r",
      "  5%|▌         | 27/500 [04:11<1:03:17,  8.03s/it]"
     ]
    },
    {
     "name": "stdout",
     "output_type": "stream",
     "text": [
      "Test on 1143 samples\n",
      "R^2: -62.35\n",
      "Test Loss: 4.81%\n",
      "Train Epoch: 28 [0/19577 (0%)]\tLoss: 0.038867\n",
      "Train Epoch: 28 [3200/19577 (16%)]\tLoss: 0.016386\n",
      "Train Epoch: 28 [6400/19577 (33%)]\tLoss: 0.019025\n",
      "Train Epoch: 28 [9600/19577 (49%)]\tLoss: 0.018126\n",
      "Train Epoch: 28 [12800/19577 (65%)]\tLoss: 0.052049\n",
      "Train Epoch: 28 [16000/19577 (82%)]\tLoss: 0.021321\n",
      "Train Epoch: 28 [19200/19577 (98%)]\tLoss: 0.031183\n",
      "\n",
      "Train loss: 0.02497345063640596\n"
     ]
    },
    {
     "name": "stderr",
     "output_type": "stream",
     "text": [
      "\r",
      "  6%|▌         | 28/500 [04:18<1:01:32,  7.82s/it]"
     ]
    },
    {
     "name": "stdout",
     "output_type": "stream",
     "text": [
      "Test on 1143 samples\n",
      "R^2: -63.31\n",
      "Test Loss: 4.61%\n",
      "Train Epoch: 29 [0/19577 (0%)]\tLoss: 0.029247\n",
      "Train Epoch: 29 [3200/19577 (16%)]\tLoss: 0.033452\n",
      "Train Epoch: 29 [6400/19577 (33%)]\tLoss: 0.029471\n",
      "Train Epoch: 29 [9600/19577 (49%)]\tLoss: 0.023215\n",
      "Train Epoch: 29 [12800/19577 (65%)]\tLoss: 0.028440\n",
      "Train Epoch: 29 [16000/19577 (82%)]\tLoss: 0.024684\n",
      "Train Epoch: 29 [19200/19577 (98%)]\tLoss: 0.027228\n",
      "\n",
      "Train loss: 0.024164150739879976\n"
     ]
    },
    {
     "name": "stderr",
     "output_type": "stream",
     "text": [
      "\r",
      "  6%|▌         | 29/500 [04:31<1:13:41,  9.39s/it]"
     ]
    },
    {
     "name": "stdout",
     "output_type": "stream",
     "text": [
      "Test on 1143 samples\n",
      "R^2: -74.83\n",
      "Test Loss: 4.33%\n",
      "Train Epoch: 30 [0/19577 (0%)]\tLoss: 0.019436\n",
      "Train Epoch: 30 [3200/19577 (16%)]\tLoss: 0.020870\n",
      "Train Epoch: 30 [6400/19577 (33%)]\tLoss: 0.018076\n",
      "Train Epoch: 30 [9600/19577 (49%)]\tLoss: 0.025776\n",
      "Train Epoch: 30 [12800/19577 (65%)]\tLoss: 0.028148\n",
      "Train Epoch: 30 [16000/19577 (82%)]\tLoss: 0.016059\n",
      "Train Epoch: 30 [19200/19577 (98%)]\tLoss: 0.016566\n",
      "\n",
      "Train loss: 0.02337469929050094\n"
     ]
    },
    {
     "name": "stderr",
     "output_type": "stream",
     "text": [
      "\r",
      "  6%|▌         | 30/500 [04:55<1:47:28, 13.72s/it]"
     ]
    },
    {
     "name": "stdout",
     "output_type": "stream",
     "text": [
      "Test on 1143 samples\n",
      "R^2: -55.95\n",
      "Test Loss: 4.33%\n",
      "Train Epoch: 31 [0/19577 (0%)]\tLoss: 0.014507\n",
      "Train Epoch: 31 [3200/19577 (16%)]\tLoss: 0.016501\n",
      "Train Epoch: 31 [6400/19577 (33%)]\tLoss: 0.014032\n",
      "Train Epoch: 31 [9600/19577 (49%)]\tLoss: 0.027887\n",
      "Train Epoch: 31 [12800/19577 (65%)]\tLoss: 0.022524\n",
      "Train Epoch: 31 [16000/19577 (82%)]\tLoss: 0.019966\n",
      "Train Epoch: 31 [19200/19577 (98%)]\tLoss: 0.021207\n",
      "\n",
      "Train loss: 0.022576593261309504\n"
     ]
    },
    {
     "name": "stderr",
     "output_type": "stream",
     "text": [
      "\r",
      "  6%|▌         | 31/500 [05:08<1:45:00, 13.43s/it]"
     ]
    },
    {
     "name": "stdout",
     "output_type": "stream",
     "text": [
      "Test on 1143 samples\n",
      "R^2: -56.69\n",
      "Test Loss: 4.14%\n",
      "Train Epoch: 32 [0/19577 (0%)]\tLoss: 0.014622\n",
      "Train Epoch: 32 [3200/19577 (16%)]\tLoss: 0.020267\n",
      "Train Epoch: 32 [6400/19577 (33%)]\tLoss: 0.028495\n",
      "Train Epoch: 32 [9600/19577 (49%)]\tLoss: 0.024977\n",
      "Train Epoch: 32 [12800/19577 (65%)]\tLoss: 0.014825\n",
      "Train Epoch: 32 [16000/19577 (82%)]\tLoss: 0.023427\n",
      "Train Epoch: 32 [19200/19577 (98%)]\tLoss: 0.012142\n",
      "\n",
      "Train loss: 0.0217676954587398\n"
     ]
    },
    {
     "name": "stderr",
     "output_type": "stream",
     "text": [
      "\r",
      "  6%|▋         | 32/500 [05:20<1:43:08, 13.22s/it]"
     ]
    },
    {
     "name": "stdout",
     "output_type": "stream",
     "text": [
      "Test on 1143 samples\n",
      "R^2: -44.75\n",
      "Test Loss: 4.10%\n",
      "Train Epoch: 33 [0/19577 (0%)]\tLoss: 0.015624\n",
      "Train Epoch: 33 [3200/19577 (16%)]\tLoss: 0.021237\n",
      "Train Epoch: 33 [6400/19577 (33%)]\tLoss: 0.019717\n",
      "Train Epoch: 33 [9600/19577 (49%)]\tLoss: 0.015914\n",
      "Train Epoch: 33 [12800/19577 (65%)]\tLoss: 0.015371\n",
      "Train Epoch: 33 [16000/19577 (82%)]\tLoss: 0.014537\n",
      "Train Epoch: 33 [19200/19577 (98%)]\tLoss: 0.007405\n",
      "\n",
      "Train loss: 0.020994519368970607\n"
     ]
    },
    {
     "name": "stderr",
     "output_type": "stream",
     "text": [
      "\r",
      "  7%|▋         | 33/500 [05:36<1:48:32, 13.94s/it]"
     ]
    },
    {
     "name": "stdout",
     "output_type": "stream",
     "text": [
      "Test on 1143 samples\n",
      "R^2: -46.52\n",
      "Test Loss: 3.90%\n",
      "Train Epoch: 34 [0/19577 (0%)]\tLoss: 0.011581\n",
      "Train Epoch: 34 [3200/19577 (16%)]\tLoss: 0.017249\n",
      "Train Epoch: 34 [6400/19577 (33%)]\tLoss: 0.013952\n",
      "Train Epoch: 34 [9600/19577 (49%)]\tLoss: 0.025366\n",
      "Train Epoch: 34 [12800/19577 (65%)]\tLoss: 0.020621\n",
      "Train Epoch: 34 [16000/19577 (82%)]\tLoss: 0.013791\n",
      "Train Epoch: 34 [19200/19577 (98%)]\tLoss: 0.025855\n",
      "\n",
      "Train loss: 0.020214366623096995\n"
     ]
    },
    {
     "name": "stderr",
     "output_type": "stream",
     "text": [
      "\r",
      "  7%|▋         | 34/500 [05:47<1:42:21, 13.18s/it]"
     ]
    },
    {
     "name": "stdout",
     "output_type": "stream",
     "text": [
      "Test on 1143 samples\n",
      "R^2: -49.27\n",
      "Test Loss: 3.70%\n",
      "Train Epoch: 35 [0/19577 (0%)]\tLoss: 0.022505\n",
      "Train Epoch: 35 [3200/19577 (16%)]\tLoss: 0.015091\n",
      "Train Epoch: 35 [6400/19577 (33%)]\tLoss: 0.014614\n",
      "Train Epoch: 35 [9600/19577 (49%)]\tLoss: 0.017044\n",
      "Train Epoch: 35 [12800/19577 (65%)]\tLoss: 0.011985\n",
      "Train Epoch: 35 [16000/19577 (82%)]\tLoss: 0.015126\n",
      "Train Epoch: 35 [19200/19577 (98%)]\tLoss: 0.019004\n",
      "\n",
      "Train loss: 0.019465670021543025\n"
     ]
    },
    {
     "name": "stderr",
     "output_type": "stream",
     "text": [
      "\r",
      "  7%|▋         | 35/500 [05:56<1:32:15, 11.90s/it]"
     ]
    },
    {
     "name": "stdout",
     "output_type": "stream",
     "text": [
      "Test on 1143 samples\n",
      "R^2: -44.44\n",
      "Test Loss: 3.59%\n",
      "Train Epoch: 36 [0/19577 (0%)]\tLoss: 0.009585\n",
      "Train Epoch: 36 [3200/19577 (16%)]\tLoss: 0.021518\n",
      "Train Epoch: 36 [6400/19577 (33%)]\tLoss: 0.019909\n",
      "Train Epoch: 36 [9600/19577 (49%)]\tLoss: 0.015515\n",
      "Train Epoch: 36 [12800/19577 (65%)]\tLoss: 0.029085\n",
      "Train Epoch: 36 [16000/19577 (82%)]\tLoss: 0.029139\n",
      "Train Epoch: 36 [19200/19577 (98%)]\tLoss: 0.012067\n",
      "\n",
      "Train loss: 0.018735893840712853\n"
     ]
    },
    {
     "name": "stderr",
     "output_type": "stream",
     "text": [
      "\r",
      "  7%|▋         | 36/500 [06:03<1:21:03, 10.48s/it]"
     ]
    },
    {
     "name": "stdout",
     "output_type": "stream",
     "text": [
      "Test on 1143 samples\n",
      "R^2: -47.51\n",
      "Test Loss: 3.41%\n",
      "Train Epoch: 37 [0/19577 (0%)]\tLoss: 0.010126\n",
      "Train Epoch: 37 [3200/19577 (16%)]\tLoss: 0.017888\n",
      "Train Epoch: 37 [6400/19577 (33%)]\tLoss: 0.020560\n",
      "Train Epoch: 37 [9600/19577 (49%)]\tLoss: 0.012588\n",
      "Train Epoch: 37 [12800/19577 (65%)]\tLoss: 0.013260\n",
      "Train Epoch: 37 [16000/19577 (82%)]\tLoss: 0.022983\n",
      "Train Epoch: 37 [19200/19577 (98%)]\tLoss: 0.020273\n",
      "\n",
      "Train loss: 0.01800856509799856\n"
     ]
    },
    {
     "name": "stderr",
     "output_type": "stream",
     "text": [
      "\r",
      "  7%|▋         | 37/500 [06:12<1:15:28,  9.78s/it]"
     ]
    },
    {
     "name": "stdout",
     "output_type": "stream",
     "text": [
      "Test on 1143 samples\n",
      "R^2: -37.65\n",
      "Test Loss: 3.35%\n",
      "Train Epoch: 38 [0/19577 (0%)]\tLoss: 0.020209\n",
      "Train Epoch: 38 [3200/19577 (16%)]\tLoss: 0.018126\n",
      "Train Epoch: 38 [6400/19577 (33%)]\tLoss: 0.011919\n",
      "Train Epoch: 38 [9600/19577 (49%)]\tLoss: 0.015469\n",
      "Train Epoch: 38 [12800/19577 (65%)]\tLoss: 0.020268\n",
      "Train Epoch: 38 [16000/19577 (82%)]\tLoss: 0.009101\n",
      "Train Epoch: 38 [19200/19577 (98%)]\tLoss: 0.010923\n",
      "\n",
      "Train loss: 0.01731078248331019\n"
     ]
    },
    {
     "name": "stderr",
     "output_type": "stream",
     "text": [
      "\r",
      "  8%|▊         | 38/500 [06:18<1:08:49,  8.94s/it]"
     ]
    },
    {
     "name": "stdout",
     "output_type": "stream",
     "text": [
      "Test on 1143 samples\n",
      "R^2: -25.33\n",
      "Test Loss: 3.38%\n",
      "Train Epoch: 39 [0/19577 (0%)]\tLoss: 0.012685\n",
      "Train Epoch: 39 [3200/19577 (16%)]\tLoss: 0.026490\n",
      "Train Epoch: 39 [6400/19577 (33%)]\tLoss: 0.013687\n",
      "Train Epoch: 39 [9600/19577 (49%)]\tLoss: 0.014640\n",
      "Train Epoch: 39 [12800/19577 (65%)]\tLoss: 0.015314\n",
      "Train Epoch: 39 [16000/19577 (82%)]\tLoss: 0.009603\n",
      "Train Epoch: 39 [19200/19577 (98%)]\tLoss: 0.027484\n",
      "\n",
      "Train loss: 0.016654255346462032\n"
     ]
    },
    {
     "name": "stderr",
     "output_type": "stream",
     "text": [
      "\r",
      "  8%|▊         | 39/500 [06:27<1:06:46,  8.69s/it]"
     ]
    },
    {
     "name": "stdout",
     "output_type": "stream",
     "text": [
      "Test on 1143 samples\n",
      "R^2: -33.88\n",
      "Test Loss: 3.11%\n",
      "Train Epoch: 40 [0/19577 (0%)]\tLoss: 0.020152\n",
      "Train Epoch: 40 [3200/19577 (16%)]\tLoss: 0.015348\n",
      "Train Epoch: 40 [6400/19577 (33%)]\tLoss: 0.015428\n",
      "Train Epoch: 40 [9600/19577 (49%)]\tLoss: 0.013963\n",
      "Train Epoch: 40 [12800/19577 (65%)]\tLoss: 0.044576\n",
      "Train Epoch: 40 [16000/19577 (82%)]\tLoss: 0.012615\n",
      "Train Epoch: 40 [19200/19577 (98%)]\tLoss: 0.010494\n",
      "\n",
      "Train loss: 0.016041401665645584\n"
     ]
    },
    {
     "name": "stderr",
     "output_type": "stream",
     "text": [
      "\r",
      "  8%|▊         | 40/500 [06:34<1:03:28,  8.28s/it]"
     ]
    },
    {
     "name": "stdout",
     "output_type": "stream",
     "text": [
      "Test on 1143 samples\n",
      "R^2: -37.44\n",
      "Test Loss: 2.95%\n",
      "Train Epoch: 41 [0/19577 (0%)]\tLoss: 0.013581\n",
      "Train Epoch: 41 [3200/19577 (16%)]\tLoss: 0.011571\n",
      "Train Epoch: 41 [6400/19577 (33%)]\tLoss: 0.007735\n",
      "Train Epoch: 41 [9600/19577 (49%)]\tLoss: 0.017994\n",
      "Train Epoch: 41 [12800/19577 (65%)]\tLoss: 0.051870\n",
      "Train Epoch: 41 [16000/19577 (82%)]\tLoss: 0.006834\n",
      "Train Epoch: 41 [19200/19577 (98%)]\tLoss: 0.022909\n",
      "\n",
      "Train loss: 0.015416385870719073\n"
     ]
    },
    {
     "name": "stderr",
     "output_type": "stream",
     "text": [
      "\r",
      "  8%|▊         | 41/500 [06:41<1:00:21,  7.89s/it]"
     ]
    },
    {
     "name": "stdout",
     "output_type": "stream",
     "text": [
      "Test on 1143 samples\n",
      "R^2: -33.32\n",
      "Test Loss: 2.87%\n",
      "Train Epoch: 42 [0/19577 (0%)]\tLoss: 0.010455\n",
      "Train Epoch: 42 [3200/19577 (16%)]\tLoss: 0.009561\n",
      "Train Epoch: 42 [6400/19577 (33%)]\tLoss: 0.014196\n",
      "Train Epoch: 42 [9600/19577 (49%)]\tLoss: 0.012515\n",
      "Train Epoch: 42 [12800/19577 (65%)]\tLoss: 0.011827\n",
      "Train Epoch: 42 [16000/19577 (82%)]\tLoss: 0.012215\n",
      "Train Epoch: 42 [19200/19577 (98%)]\tLoss: 0.009900\n",
      "\n",
      "Train loss: 0.014850971988992753\n"
     ]
    },
    {
     "name": "stderr",
     "output_type": "stream",
     "text": [
      "\r",
      "  8%|▊         | 42/500 [06:49<1:01:00,  7.99s/it]"
     ]
    },
    {
     "name": "stdout",
     "output_type": "stream",
     "text": [
      "Test on 1143 samples\n",
      "R^2: -39.34\n",
      "Test Loss: 2.73%\n",
      "Train Epoch: 43 [0/19577 (0%)]\tLoss: 0.010333\n",
      "Train Epoch: 43 [3200/19577 (16%)]\tLoss: 0.012389\n",
      "Train Epoch: 43 [6400/19577 (33%)]\tLoss: 0.015490\n",
      "Train Epoch: 43 [9600/19577 (49%)]\tLoss: 0.011498\n",
      "Train Epoch: 43 [12800/19577 (65%)]\tLoss: 0.008006\n",
      "Train Epoch: 43 [16000/19577 (82%)]\tLoss: 0.008374\n",
      "Train Epoch: 43 [19200/19577 (98%)]\tLoss: 0.012142\n",
      "\n",
      "Train loss: 0.01432635325761938\n"
     ]
    },
    {
     "name": "stderr",
     "output_type": "stream",
     "text": [
      "\r",
      "  9%|▊         | 43/500 [06:56<58:42,  7.71s/it]  "
     ]
    },
    {
     "name": "stdout",
     "output_type": "stream",
     "text": [
      "Test on 1143 samples\n",
      "R^2: -27.71\n",
      "Test Loss: 2.71%\n",
      "Train Epoch: 44 [0/19577 (0%)]\tLoss: 0.009913\n",
      "Train Epoch: 44 [3200/19577 (16%)]\tLoss: 0.024050\n",
      "Train Epoch: 44 [6400/19577 (33%)]\tLoss: 0.010308\n",
      "Train Epoch: 44 [9600/19577 (49%)]\tLoss: 0.009085\n",
      "Train Epoch: 44 [12800/19577 (65%)]\tLoss: 0.008690\n",
      "Train Epoch: 44 [16000/19577 (82%)]\tLoss: 0.014383\n",
      "Train Epoch: 44 [19200/19577 (98%)]\tLoss: 0.081849\n",
      "\n",
      "Train loss: 0.01382628374191281\n"
     ]
    },
    {
     "name": "stderr",
     "output_type": "stream",
     "text": [
      "\r",
      "  9%|▉         | 44/500 [07:03<56:49,  7.48s/it]"
     ]
    },
    {
     "name": "stdout",
     "output_type": "stream",
     "text": [
      "Test on 1143 samples\n",
      "R^2: -18.93\n",
      "Test Loss: 2.71%\n",
      "Train Epoch: 45 [0/19577 (0%)]\tLoss: 0.006304\n",
      "Train Epoch: 45 [3200/19577 (16%)]\tLoss: 0.010789\n",
      "Train Epoch: 45 [6400/19577 (33%)]\tLoss: 0.011738\n",
      "Train Epoch: 45 [9600/19577 (49%)]\tLoss: 0.007998\n",
      "Train Epoch: 45 [12800/19577 (65%)]\tLoss: 0.019954\n",
      "Train Epoch: 45 [16000/19577 (82%)]\tLoss: 0.012200\n",
      "Train Epoch: 45 [19200/19577 (98%)]\tLoss: 0.015108\n",
      "\n",
      "Train loss: 0.013360105266222378\n"
     ]
    },
    {
     "name": "stderr",
     "output_type": "stream",
     "text": [
      "\r",
      "  9%|▉         | 45/500 [07:10<55:28,  7.32s/it]"
     ]
    },
    {
     "name": "stdout",
     "output_type": "stream",
     "text": [
      "Test on 1143 samples\n",
      "R^2: -17.65\n",
      "Test Loss: 2.63%\n",
      "Train Epoch: 46 [0/19577 (0%)]\tLoss: 0.010639\n",
      "Train Epoch: 46 [3200/19577 (16%)]\tLoss: 0.086121\n",
      "Train Epoch: 46 [6400/19577 (33%)]\tLoss: 0.012078\n",
      "Train Epoch: 46 [9600/19577 (49%)]\tLoss: 0.020565\n",
      "Train Epoch: 46 [12800/19577 (65%)]\tLoss: 0.022735\n",
      "Train Epoch: 46 [16000/19577 (82%)]\tLoss: 0.006817\n",
      "Train Epoch: 46 [19200/19577 (98%)]\tLoss: 0.009400\n",
      "\n",
      "Train loss: 0.012950855705984473\n"
     ]
    },
    {
     "name": "stderr",
     "output_type": "stream",
     "text": [
      "\r",
      "  9%|▉         | 46/500 [07:17<54:55,  7.26s/it]"
     ]
    },
    {
     "name": "stdout",
     "output_type": "stream",
     "text": [
      "Test on 1143 samples\n",
      "R^2: -20.72\n",
      "Test Loss: 2.51%\n",
      "Train Epoch: 47 [0/19577 (0%)]\tLoss: 0.007980\n",
      "Train Epoch: 47 [3200/19577 (16%)]\tLoss: 0.008821\n",
      "Train Epoch: 47 [6400/19577 (33%)]\tLoss: 0.007980\n",
      "Train Epoch: 47 [9600/19577 (49%)]\tLoss: 0.020862\n",
      "Train Epoch: 47 [12800/19577 (65%)]\tLoss: 0.012417\n",
      "Train Epoch: 47 [16000/19577 (82%)]\tLoss: 0.007327\n",
      "Train Epoch: 47 [19200/19577 (98%)]\tLoss: 0.008290\n",
      "\n",
      "Train loss: 0.012564744844460508\n"
     ]
    },
    {
     "name": "stderr",
     "output_type": "stream",
     "text": [
      "\r",
      "  9%|▉         | 47/500 [07:24<54:08,  7.17s/it]"
     ]
    },
    {
     "name": "stdout",
     "output_type": "stream",
     "text": [
      "Test on 1143 samples\n",
      "R^2: -15.87\n",
      "Test Loss: 2.49%\n",
      "Train Epoch: 48 [0/19577 (0%)]\tLoss: 0.010190\n",
      "Train Epoch: 48 [3200/19577 (16%)]\tLoss: 0.007773\n",
      "Train Epoch: 48 [6400/19577 (33%)]\tLoss: 0.009714\n",
      "Train Epoch: 48 [9600/19577 (49%)]\tLoss: 0.010773\n",
      "Train Epoch: 48 [12800/19577 (65%)]\tLoss: 0.013185\n",
      "Train Epoch: 48 [16000/19577 (82%)]\tLoss: 0.011676\n",
      "Train Epoch: 48 [19200/19577 (98%)]\tLoss: 0.010234\n",
      "\n",
      "Train loss: 0.012199106785998332\n"
     ]
    },
    {
     "name": "stderr",
     "output_type": "stream",
     "text": [
      "\r",
      " 10%|▉         | 48/500 [07:31<54:03,  7.18s/it]"
     ]
    },
    {
     "name": "stdout",
     "output_type": "stream",
     "text": [
      "Test on 1143 samples\n",
      "R^2: -19.07\n",
      "Test Loss: 2.40%\n",
      "Train Epoch: 49 [0/19577 (0%)]\tLoss: 0.017231\n",
      "Train Epoch: 49 [3200/19577 (16%)]\tLoss: 0.004310\n",
      "Train Epoch: 49 [6400/19577 (33%)]\tLoss: 0.008305\n",
      "Train Epoch: 49 [9600/19577 (49%)]\tLoss: 0.010002\n",
      "Train Epoch: 49 [12800/19577 (65%)]\tLoss: 0.020296\n",
      "Train Epoch: 49 [16000/19577 (82%)]\tLoss: 0.011803\n",
      "Train Epoch: 49 [19200/19577 (98%)]\tLoss: 0.023017\n",
      "\n",
      "Train loss: 0.011872131447459942\n"
     ]
    },
    {
     "name": "stderr",
     "output_type": "stream",
     "text": [
      "\r",
      " 10%|▉         | 49/500 [07:39<54:03,  7.19s/it]"
     ]
    },
    {
     "name": "stdout",
     "output_type": "stream",
     "text": [
      "Test on 1143 samples\n",
      "R^2: -11.74\n",
      "Test Loss: 2.42%\n",
      "Train Epoch: 50 [0/19577 (0%)]\tLoss: 0.005272\n",
      "Train Epoch: 50 [3200/19577 (16%)]\tLoss: 0.009652\n",
      "Train Epoch: 50 [6400/19577 (33%)]\tLoss: 0.008457\n",
      "Train Epoch: 50 [9600/19577 (49%)]\tLoss: 0.007892\n",
      "Train Epoch: 50 [12800/19577 (65%)]\tLoss: 0.007919\n",
      "Train Epoch: 50 [16000/19577 (82%)]\tLoss: 0.009269\n",
      "Train Epoch: 50 [19200/19577 (98%)]\tLoss: 0.004443\n",
      "\n",
      "Train loss: 0.011557518911633178\n"
     ]
    },
    {
     "name": "stderr",
     "output_type": "stream",
     "text": [
      "\r",
      " 10%|█         | 50/500 [07:51<1:04:41,  8.63s/it]"
     ]
    },
    {
     "name": "stdout",
     "output_type": "stream",
     "text": [
      "Test on 1143 samples\n",
      "R^2: -10.64\n",
      "Test Loss: 2.38%\n",
      "Train Epoch: 51 [0/19577 (0%)]\tLoss: 0.007490\n",
      "Train Epoch: 51 [3200/19577 (16%)]\tLoss: 0.007581\n",
      "Train Epoch: 51 [6400/19577 (33%)]\tLoss: 0.010818\n",
      "Train Epoch: 51 [9600/19577 (49%)]\tLoss: 0.012120\n",
      "Train Epoch: 51 [12800/19577 (65%)]\tLoss: 0.011036\n",
      "Train Epoch: 51 [16000/19577 (82%)]\tLoss: 0.012501\n",
      "Train Epoch: 51 [19200/19577 (98%)]\tLoss: 0.015557\n",
      "\n",
      "Train loss: 0.01128732975042772\n"
     ]
    },
    {
     "name": "stderr",
     "output_type": "stream",
     "text": [
      "\r",
      " 10%|█         | 51/500 [07:59<1:03:50,  8.53s/it]"
     ]
    },
    {
     "name": "stdout",
     "output_type": "stream",
     "text": [
      "Test on 1143 samples\n",
      "R^2: -10.17\n",
      "Test Loss: 2.32%\n",
      "Train Epoch: 52 [0/19577 (0%)]\tLoss: 0.009389\n",
      "Train Epoch: 52 [3200/19577 (16%)]\tLoss: 0.009380\n",
      "Train Epoch: 52 [6400/19577 (33%)]\tLoss: 0.004106\n",
      "Train Epoch: 52 [9600/19577 (49%)]\tLoss: 0.008869\n",
      "Train Epoch: 52 [12800/19577 (65%)]\tLoss: 0.016365\n",
      "Train Epoch: 52 [16000/19577 (82%)]\tLoss: 0.011004\n",
      "Train Epoch: 52 [19200/19577 (98%)]\tLoss: 0.005551\n",
      "\n",
      "Train loss: 0.011043722519127566\n"
     ]
    },
    {
     "name": "stderr",
     "output_type": "stream",
     "text": [
      "\r",
      " 10%|█         | 52/500 [08:06<1:00:37,  8.12s/it]"
     ]
    },
    {
     "name": "stdout",
     "output_type": "stream",
     "text": [
      "Test on 1143 samples\n",
      "R^2: -11.40\n",
      "Test Loss: 2.25%\n",
      "Train Epoch: 53 [0/19577 (0%)]\tLoss: 0.005986\n",
      "Train Epoch: 53 [3200/19577 (16%)]\tLoss: 0.010868\n",
      "Train Epoch: 53 [6400/19577 (33%)]\tLoss: 0.006202\n",
      "Train Epoch: 53 [9600/19577 (49%)]\tLoss: 0.006209\n",
      "Train Epoch: 53 [12800/19577 (65%)]\tLoss: 0.006334\n",
      "Train Epoch: 53 [16000/19577 (82%)]\tLoss: 0.017992\n",
      "Train Epoch: 53 [19200/19577 (98%)]\tLoss: 0.010479\n",
      "\n",
      "Train loss: 0.010807240250964766\n"
     ]
    },
    {
     "name": "stderr",
     "output_type": "stream",
     "text": [
      "\r",
      " 11%|█         | 53/500 [08:15<1:02:18,  8.36s/it]"
     ]
    },
    {
     "name": "stdout",
     "output_type": "stream",
     "text": [
      "Test on 1143 samples\n",
      "R^2: -10.87\n",
      "Test Loss: 2.22%\n",
      "Train Epoch: 54 [0/19577 (0%)]\tLoss: 0.020704\n",
      "Train Epoch: 54 [3200/19577 (16%)]\tLoss: 0.009416\n",
      "Train Epoch: 54 [6400/19577 (33%)]\tLoss: 0.005590\n",
      "Train Epoch: 54 [9600/19577 (49%)]\tLoss: 0.008175\n",
      "Train Epoch: 54 [12800/19577 (65%)]\tLoss: 0.012597\n",
      "Train Epoch: 54 [16000/19577 (82%)]\tLoss: 0.007349\n",
      "Train Epoch: 54 [19200/19577 (98%)]\tLoss: 0.005155\n",
      "\n",
      "Train loss: 0.010586537212267324\n"
     ]
    },
    {
     "name": "stderr",
     "output_type": "stream",
     "text": [
      "\r",
      " 11%|█         | 54/500 [08:23<1:01:45,  8.31s/it]"
     ]
    },
    {
     "name": "stdout",
     "output_type": "stream",
     "text": [
      "Test on 1143 samples\n",
      "R^2: -10.19\n",
      "Test Loss: 2.19%\n",
      "Train Epoch: 55 [0/19577 (0%)]\tLoss: 0.005325\n",
      "Train Epoch: 55 [3200/19577 (16%)]\tLoss: 0.011505\n",
      "Train Epoch: 55 [6400/19577 (33%)]\tLoss: 0.004926\n",
      "Train Epoch: 55 [9600/19577 (49%)]\tLoss: 0.004115\n",
      "Train Epoch: 55 [12800/19577 (65%)]\tLoss: 0.004957\n",
      "Train Epoch: 55 [16000/19577 (82%)]\tLoss: 0.006116\n",
      "Train Epoch: 55 [19200/19577 (98%)]\tLoss: 0.005173\n",
      "\n",
      "Train loss: 0.010391641523098585\n"
     ]
    },
    {
     "name": "stderr",
     "output_type": "stream",
     "text": [
      "\r",
      " 11%|█         | 55/500 [08:32<1:02:19,  8.40s/it]"
     ]
    },
    {
     "name": "stdout",
     "output_type": "stream",
     "text": [
      "Test on 1143 samples\n",
      "R^2: -10.02\n",
      "Test Loss: 2.16%\n",
      "Train Epoch: 56 [0/19577 (0%)]\tLoss: 0.006843\n",
      "Train Epoch: 56 [3200/19577 (16%)]\tLoss: 0.006130\n",
      "Train Epoch: 56 [6400/19577 (33%)]\tLoss: 0.006724\n",
      "Train Epoch: 56 [9600/19577 (49%)]\tLoss: 0.009444\n",
      "Train Epoch: 56 [12800/19577 (65%)]\tLoss: 0.010371\n",
      "Train Epoch: 56 [16000/19577 (82%)]\tLoss: 0.007842\n",
      "Train Epoch: 56 [19200/19577 (98%)]\tLoss: 0.008575\n",
      "\n",
      "Train loss: 0.010224505565037914\n"
     ]
    },
    {
     "name": "stderr",
     "output_type": "stream",
     "text": [
      "\r",
      " 11%|█         | 56/500 [08:40<1:00:58,  8.24s/it]"
     ]
    },
    {
     "name": "stdout",
     "output_type": "stream",
     "text": [
      "Test on 1143 samples\n",
      "R^2: -7.53\n",
      "Test Loss: 2.15%\n",
      "Train Epoch: 57 [0/19577 (0%)]\tLoss: 0.019319\n",
      "Train Epoch: 57 [3200/19577 (16%)]\tLoss: 0.009409\n",
      "Train Epoch: 57 [6400/19577 (33%)]\tLoss: 0.009575\n",
      "Train Epoch: 57 [9600/19577 (49%)]\tLoss: 0.007007\n",
      "Train Epoch: 57 [12800/19577 (65%)]\tLoss: 0.007435\n",
      "Train Epoch: 57 [16000/19577 (82%)]\tLoss: 0.006030\n",
      "Train Epoch: 57 [19200/19577 (98%)]\tLoss: 0.009618\n",
      "\n",
      "Train loss: 0.010063235729391036\n"
     ]
    },
    {
     "name": "stderr",
     "output_type": "stream",
     "text": [
      "\r",
      " 11%|█▏        | 57/500 [08:47<59:10,  8.01s/it]  "
     ]
    },
    {
     "name": "stdout",
     "output_type": "stream",
     "text": [
      "Test on 1143 samples\n",
      "R^2: -9.31\n",
      "Test Loss: 2.11%\n",
      "Train Epoch: 58 [0/19577 (0%)]\tLoss: 0.007612\n",
      "Train Epoch: 58 [3200/19577 (16%)]\tLoss: 0.008148\n",
      "Train Epoch: 58 [6400/19577 (33%)]\tLoss: 0.005869\n",
      "Train Epoch: 58 [9600/19577 (49%)]\tLoss: 0.011832\n",
      "Train Epoch: 58 [12800/19577 (65%)]\tLoss: 0.005498\n",
      "Train Epoch: 58 [16000/19577 (82%)]\tLoss: 0.007969\n",
      "Train Epoch: 58 [19200/19577 (98%)]\tLoss: 0.003385\n",
      "\n",
      "Train loss: 0.009921943322219734\n"
     ]
    },
    {
     "name": "stderr",
     "output_type": "stream",
     "text": [
      "\r",
      " 12%|█▏        | 58/500 [08:57<1:02:31,  8.49s/it]"
     ]
    },
    {
     "name": "stdout",
     "output_type": "stream",
     "text": [
      "Test on 1143 samples\n",
      "R^2: -6.29\n",
      "Test Loss: 2.12%\n",
      "Train Epoch: 59 [0/19577 (0%)]\tLoss: 0.004576\n",
      "Train Epoch: 59 [3200/19577 (16%)]\tLoss: 0.009851\n",
      "Train Epoch: 59 [6400/19577 (33%)]\tLoss: 0.007402\n",
      "Train Epoch: 59 [9600/19577 (49%)]\tLoss: 0.005355\n",
      "Train Epoch: 59 [12800/19577 (65%)]\tLoss: 0.004519\n",
      "Train Epoch: 59 [16000/19577 (82%)]\tLoss: 0.007200\n",
      "Train Epoch: 59 [19200/19577 (98%)]\tLoss: 0.016532\n",
      "\n",
      "Train loss: 0.009792393407467874\n"
     ]
    },
    {
     "name": "stderr",
     "output_type": "stream",
     "text": [
      "\r",
      " 12%|█▏        | 59/500 [09:04<1:00:41,  8.26s/it]"
     ]
    },
    {
     "name": "stdout",
     "output_type": "stream",
     "text": [
      "Test on 1143 samples\n",
      "R^2: -11.58\n",
      "Test Loss: 2.08%\n",
      "Train Epoch: 60 [0/19577 (0%)]\tLoss: 0.008888\n",
      "Train Epoch: 60 [3200/19577 (16%)]\tLoss: 0.009216\n",
      "Train Epoch: 60 [6400/19577 (33%)]\tLoss: 0.005481\n",
      "Train Epoch: 60 [9600/19577 (49%)]\tLoss: 0.003998\n",
      "Train Epoch: 60 [12800/19577 (65%)]\tLoss: 0.005673\n",
      "Train Epoch: 60 [16000/19577 (82%)]\tLoss: 0.007378\n",
      "Train Epoch: 60 [19200/19577 (98%)]\tLoss: 0.004304\n",
      "\n",
      "Train loss: 0.009688739027231445\n"
     ]
    },
    {
     "name": "stderr",
     "output_type": "stream",
     "text": [
      "\r",
      " 12%|█▏        | 60/500 [09:12<58:17,  7.95s/it]  "
     ]
    },
    {
     "name": "stdout",
     "output_type": "stream",
     "text": [
      "Test on 1143 samples\n",
      "R^2: -4.53\n",
      "Test Loss: 2.10%\n",
      "Train Epoch: 61 [0/19577 (0%)]\tLoss: 0.007920\n",
      "Train Epoch: 61 [3200/19577 (16%)]\tLoss: 0.007304\n",
      "Train Epoch: 61 [6400/19577 (33%)]\tLoss: 0.003540\n",
      "Train Epoch: 61 [9600/19577 (49%)]\tLoss: 0.004898\n",
      "Train Epoch: 61 [12800/19577 (65%)]\tLoss: 0.004973\n",
      "Train Epoch: 61 [16000/19577 (82%)]\tLoss: 0.007073\n",
      "Train Epoch: 61 [19200/19577 (98%)]\tLoss: 0.009174\n",
      "\n",
      "Train loss: 0.00957342349160219\n"
     ]
    },
    {
     "name": "stderr",
     "output_type": "stream",
     "text": [
      "\r",
      " 12%|█▏        | 61/500 [09:19<56:16,  7.69s/it]"
     ]
    },
    {
     "name": "stdout",
     "output_type": "stream",
     "text": [
      "Test on 1143 samples\n",
      "R^2: -5.14\n",
      "Test Loss: 2.07%\n",
      "Train Epoch: 62 [0/19577 (0%)]\tLoss: 0.008787\n",
      "Train Epoch: 62 [3200/19577 (16%)]\tLoss: 0.006296\n",
      "Train Epoch: 62 [6400/19577 (33%)]\tLoss: 0.010300\n",
      "Train Epoch: 62 [9600/19577 (49%)]\tLoss: 0.025363\n",
      "Train Epoch: 62 [12800/19577 (65%)]\tLoss: 0.020924\n",
      "Train Epoch: 62 [16000/19577 (82%)]\tLoss: 0.005623\n",
      "Train Epoch: 62 [19200/19577 (98%)]\tLoss: 0.009142\n",
      "\n",
      "Train loss: 0.009481355273986565\n"
     ]
    },
    {
     "name": "stderr",
     "output_type": "stream",
     "text": [
      "\r",
      " 12%|█▏        | 62/500 [09:30<1:03:17,  8.67s/it]"
     ]
    },
    {
     "name": "stdout",
     "output_type": "stream",
     "text": [
      "Test on 1143 samples\n",
      "R^2: -4.71\n",
      "Test Loss: 2.06%\n",
      "Train Epoch: 63 [0/19577 (0%)]\tLoss: 0.006451\n",
      "Train Epoch: 63 [3200/19577 (16%)]\tLoss: 0.005852\n",
      "Train Epoch: 63 [6400/19577 (33%)]\tLoss: 0.003301\n",
      "Train Epoch: 63 [9600/19577 (49%)]\tLoss: 0.004791\n",
      "Train Epoch: 63 [12800/19577 (65%)]\tLoss: 0.006773\n",
      "Train Epoch: 63 [16000/19577 (82%)]\tLoss: 0.005477\n",
      "Train Epoch: 63 [19200/19577 (98%)]\tLoss: 0.008474\n",
      "\n",
      "Train loss: 0.009388579118820333\n"
     ]
    },
    {
     "name": "stderr",
     "output_type": "stream",
     "text": [
      "\r",
      " 13%|█▎        | 63/500 [09:39<1:05:29,  8.99s/it]"
     ]
    },
    {
     "name": "stdout",
     "output_type": "stream",
     "text": [
      "Test on 1143 samples\n",
      "R^2: -4.21\n",
      "Test Loss: 2.05%\n",
      "Train Epoch: 64 [0/19577 (0%)]\tLoss: 0.041560\n",
      "Train Epoch: 64 [3200/19577 (16%)]\tLoss: 0.006909\n",
      "Train Epoch: 64 [6400/19577 (33%)]\tLoss: 0.007464\n",
      "Train Epoch: 64 [9600/19577 (49%)]\tLoss: 0.010399\n",
      "Train Epoch: 64 [12800/19577 (65%)]\tLoss: 0.002992\n",
      "Train Epoch: 64 [16000/19577 (82%)]\tLoss: 0.010402\n",
      "Train Epoch: 64 [19200/19577 (98%)]\tLoss: 0.010854\n",
      "\n",
      "Train loss: 0.009294391466682058\n"
     ]
    },
    {
     "name": "stderr",
     "output_type": "stream",
     "text": [
      "\r",
      " 13%|█▎        | 64/500 [09:47<1:02:53,  8.65s/it]"
     ]
    },
    {
     "name": "stdout",
     "output_type": "stream",
     "text": [
      "Test on 1143 samples\n",
      "R^2: -9.07\n",
      "Test Loss: 2.04%\n",
      "Train Epoch: 65 [0/19577 (0%)]\tLoss: 0.012260\n",
      "Train Epoch: 65 [3200/19577 (16%)]\tLoss: 0.004472\n",
      "Train Epoch: 65 [6400/19577 (33%)]\tLoss: 0.006354\n",
      "Train Epoch: 65 [9600/19577 (49%)]\tLoss: 0.008908\n",
      "Train Epoch: 65 [12800/19577 (65%)]\tLoss: 0.005325\n",
      "Train Epoch: 65 [16000/19577 (82%)]\tLoss: 0.005378\n",
      "Train Epoch: 65 [19200/19577 (98%)]\tLoss: 0.006155\n",
      "\n",
      "Train loss: 0.00922840105040985\n"
     ]
    },
    {
     "name": "stderr",
     "output_type": "stream",
     "text": [
      "\r",
      " 13%|█▎        | 65/500 [09:54<59:20,  8.18s/it]  "
     ]
    },
    {
     "name": "stdout",
     "output_type": "stream",
     "text": [
      "Test on 1143 samples\n",
      "R^2: -3.11\n",
      "Test Loss: 2.05%\n",
      "Train Epoch: 66 [0/19577 (0%)]\tLoss: 0.010234\n",
      "Train Epoch: 66 [3200/19577 (16%)]\tLoss: 0.011623\n",
      "Train Epoch: 66 [6400/19577 (33%)]\tLoss: 0.008508\n",
      "Train Epoch: 66 [9600/19577 (49%)]\tLoss: 0.006158\n",
      "Train Epoch: 66 [12800/19577 (65%)]\tLoss: 0.004937\n",
      "Train Epoch: 66 [16000/19577 (82%)]\tLoss: 0.007250\n",
      "Train Epoch: 66 [19200/19577 (98%)]\tLoss: 0.005403\n",
      "\n",
      "Train loss: 0.009165610004904273\n"
     ]
    },
    {
     "name": "stderr",
     "output_type": "stream",
     "text": [
      "\r",
      " 13%|█▎        | 66/500 [10:02<57:11,  7.91s/it]"
     ]
    },
    {
     "name": "stdout",
     "output_type": "stream",
     "text": [
      "Test on 1143 samples\n",
      "R^2: -5.29\n",
      "Test Loss: 2.01%\n",
      "Train Epoch: 67 [0/19577 (0%)]\tLoss: 0.004728\n",
      "Train Epoch: 67 [3200/19577 (16%)]\tLoss: 0.005179\n",
      "Train Epoch: 67 [6400/19577 (33%)]\tLoss: 0.005546\n",
      "Train Epoch: 67 [9600/19577 (49%)]\tLoss: 0.005627\n",
      "Train Epoch: 67 [12800/19577 (65%)]\tLoss: 0.008415\n",
      "Train Epoch: 67 [16000/19577 (82%)]\tLoss: 0.008862\n",
      "Train Epoch: 67 [19200/19577 (98%)]\tLoss: 0.013669\n",
      "\n",
      "Train loss: 0.00910310385584393\n"
     ]
    },
    {
     "name": "stderr",
     "output_type": "stream",
     "text": [
      "\r",
      " 13%|█▎        | 67/500 [10:09<55:00,  7.62s/it]"
     ]
    },
    {
     "name": "stdout",
     "output_type": "stream",
     "text": [
      "Test on 1143 samples\n",
      "R^2: -2.78\n",
      "Test Loss: 2.03%\n",
      "Train Epoch: 68 [0/19577 (0%)]\tLoss: 0.010262\n",
      "Train Epoch: 68 [3200/19577 (16%)]\tLoss: 0.008227\n",
      "Train Epoch: 68 [6400/19577 (33%)]\tLoss: 0.007714\n",
      "Train Epoch: 68 [9600/19577 (49%)]\tLoss: 0.010565\n",
      "Train Epoch: 68 [12800/19577 (65%)]\tLoss: 0.008611\n",
      "Train Epoch: 68 [16000/19577 (82%)]\tLoss: 0.007221\n",
      "Train Epoch: 68 [19200/19577 (98%)]\tLoss: 0.008124\n",
      "\n",
      "Train loss: 0.00904131024083719\n"
     ]
    },
    {
     "name": "stderr",
     "output_type": "stream",
     "text": [
      "\r",
      " 14%|█▎        | 68/500 [10:16<54:21,  7.55s/it]"
     ]
    },
    {
     "name": "stdout",
     "output_type": "stream",
     "text": [
      "Test on 1143 samples\n",
      "R^2: -2.60\n",
      "Test Loss: 2.02%\n",
      "Train Epoch: 69 [0/19577 (0%)]\tLoss: 0.012595\n",
      "Train Epoch: 69 [3200/19577 (16%)]\tLoss: 0.005962\n",
      "Train Epoch: 69 [6400/19577 (33%)]\tLoss: 0.006782\n",
      "Train Epoch: 69 [9600/19577 (49%)]\tLoss: 0.010361\n",
      "Train Epoch: 69 [12800/19577 (65%)]\tLoss: 0.007443\n",
      "Train Epoch: 69 [16000/19577 (82%)]\tLoss: 0.003628\n",
      "Train Epoch: 69 [19200/19577 (98%)]\tLoss: 0.009326\n",
      "\n",
      "Train loss: 0.00899617453379666\n"
     ]
    },
    {
     "name": "stderr",
     "output_type": "stream",
     "text": [
      "\r",
      " 14%|█▍        | 69/500 [10:23<54:04,  7.53s/it]"
     ]
    },
    {
     "name": "stdout",
     "output_type": "stream",
     "text": [
      "Test on 1143 samples\n",
      "R^2: -2.43\n",
      "Test Loss: 2.01%\n",
      "Train Epoch: 70 [0/19577 (0%)]\tLoss: 0.007575\n",
      "Train Epoch: 70 [3200/19577 (16%)]\tLoss: 0.004658\n",
      "Train Epoch: 70 [6400/19577 (33%)]\tLoss: 0.009677\n",
      "Train Epoch: 70 [9600/19577 (49%)]\tLoss: 0.006903\n",
      "Train Epoch: 70 [12800/19577 (65%)]\tLoss: 0.009397\n",
      "Train Epoch: 70 [16000/19577 (82%)]\tLoss: 0.004543\n",
      "Train Epoch: 70 [19200/19577 (98%)]\tLoss: 0.013179\n",
      "\n",
      "Train loss: 0.008945689671307657\n"
     ]
    },
    {
     "name": "stderr",
     "output_type": "stream",
     "text": [
      "\r",
      " 14%|█▍        | 70/500 [10:32<55:27,  7.74s/it]"
     ]
    },
    {
     "name": "stdout",
     "output_type": "stream",
     "text": [
      "Test on 1143 samples\n",
      "R^2: -3.18\n",
      "Test Loss: 2.00%\n",
      "Train Epoch: 71 [0/19577 (0%)]\tLoss: 0.002548\n",
      "Train Epoch: 71 [3200/19577 (16%)]\tLoss: 0.015877\n",
      "Train Epoch: 71 [6400/19577 (33%)]\tLoss: 0.009113\n",
      "Train Epoch: 71 [9600/19577 (49%)]\tLoss: 0.004910\n",
      "Train Epoch: 71 [12800/19577 (65%)]\tLoss: 0.008218\n",
      "Train Epoch: 71 [16000/19577 (82%)]\tLoss: 0.005752\n",
      "Train Epoch: 71 [19200/19577 (98%)]\tLoss: 0.004793\n",
      "\n",
      "Train loss: 0.008897337965131586\n"
     ]
    },
    {
     "name": "stderr",
     "output_type": "stream",
     "text": [
      "\r",
      " 14%|█▍        | 71/500 [10:39<53:46,  7.52s/it]"
     ]
    },
    {
     "name": "stdout",
     "output_type": "stream",
     "text": [
      "Test on 1143 samples\n",
      "R^2: -2.10\n",
      "Test Loss: 2.00%\n",
      "Train Epoch: 72 [0/19577 (0%)]\tLoss: 0.007354\n",
      "Train Epoch: 72 [3200/19577 (16%)]\tLoss: 0.004803\n",
      "Train Epoch: 72 [6400/19577 (33%)]\tLoss: 0.006161\n",
      "Train Epoch: 72 [9600/19577 (49%)]\tLoss: 0.013669\n",
      "Train Epoch: 72 [12800/19577 (65%)]\tLoss: 0.007835\n",
      "Train Epoch: 72 [16000/19577 (82%)]\tLoss: 0.003387\n",
      "Train Epoch: 72 [19200/19577 (98%)]\tLoss: 0.005615\n",
      "\n",
      "Train loss: 0.008850574501777932\n"
     ]
    },
    {
     "name": "stderr",
     "output_type": "stream",
     "text": [
      "\r",
      " 14%|█▍        | 72/500 [10:46<52:21,  7.34s/it]"
     ]
    },
    {
     "name": "stdout",
     "output_type": "stream",
     "text": [
      "Test on 1143 samples\n",
      "R^2: -2.09\n",
      "Test Loss: 1.99%\n",
      "Train Epoch: 73 [0/19577 (0%)]\tLoss: 0.006550\n",
      "Train Epoch: 73 [3200/19577 (16%)]\tLoss: 0.009104\n",
      "Train Epoch: 73 [6400/19577 (33%)]\tLoss: 0.002720\n",
      "Train Epoch: 73 [9600/19577 (49%)]\tLoss: 0.004964\n",
      "Train Epoch: 73 [12800/19577 (65%)]\tLoss: 0.008475\n",
      "Train Epoch: 73 [16000/19577 (82%)]\tLoss: 0.009309\n",
      "Train Epoch: 73 [19200/19577 (98%)]\tLoss: 0.005924\n",
      "\n",
      "Train loss: 0.008831968283725088\n"
     ]
    },
    {
     "name": "stderr",
     "output_type": "stream",
     "text": [
      "\r",
      " 15%|█▍        | 73/500 [10:53<51:26,  7.23s/it]"
     ]
    },
    {
     "name": "stdout",
     "output_type": "stream",
     "text": [
      "Test on 1143 samples\n",
      "R^2: -2.89\n",
      "Test Loss: 1.98%\n",
      "Train Epoch: 74 [0/19577 (0%)]\tLoss: 0.017417\n",
      "Train Epoch: 74 [3200/19577 (16%)]\tLoss: 0.005980\n",
      "Train Epoch: 74 [6400/19577 (33%)]\tLoss: 0.007474\n",
      "Train Epoch: 74 [9600/19577 (49%)]\tLoss: 0.015928\n",
      "Train Epoch: 74 [12800/19577 (65%)]\tLoss: 0.010124\n",
      "Train Epoch: 74 [16000/19577 (82%)]\tLoss: 0.006273\n",
      "Train Epoch: 74 [19200/19577 (98%)]\tLoss: 0.005048\n",
      "\n",
      "Train loss: 0.00880101443423579\n"
     ]
    },
    {
     "name": "stderr",
     "output_type": "stream",
     "text": [
      "\r",
      " 15%|█▍        | 74/500 [11:00<50:53,  7.17s/it]"
     ]
    },
    {
     "name": "stdout",
     "output_type": "stream",
     "text": [
      "Test on 1143 samples\n",
      "R^2: -3.37\n",
      "Test Loss: 1.98%\n",
      "Train Epoch: 75 [0/19577 (0%)]\tLoss: 0.009490\n",
      "Train Epoch: 75 [3200/19577 (16%)]\tLoss: 0.005887\n",
      "Train Epoch: 75 [6400/19577 (33%)]\tLoss: 0.013848\n",
      "Train Epoch: 75 [9600/19577 (49%)]\tLoss: 0.011556\n",
      "Train Epoch: 75 [12800/19577 (65%)]\tLoss: 0.008537\n",
      "Train Epoch: 75 [16000/19577 (82%)]\tLoss: 0.004711\n",
      "Train Epoch: 75 [19200/19577 (98%)]\tLoss: 0.007193\n",
      "\n",
      "Train loss: 0.008752912308813797\n"
     ]
    },
    {
     "name": "stderr",
     "output_type": "stream",
     "text": [
      "\r",
      " 15%|█▌        | 75/500 [11:07<50:21,  7.11s/it]"
     ]
    },
    {
     "name": "stdout",
     "output_type": "stream",
     "text": [
      "Test on 1143 samples\n",
      "R^2: -6.56\n",
      "Test Loss: 2.00%\n",
      "Train Epoch: 76 [0/19577 (0%)]\tLoss: 0.006692\n",
      "Train Epoch: 76 [3200/19577 (16%)]\tLoss: 0.003130\n",
      "Train Epoch: 76 [6400/19577 (33%)]\tLoss: 0.006227\n",
      "Train Epoch: 76 [9600/19577 (49%)]\tLoss: 0.003819\n",
      "Train Epoch: 76 [12800/19577 (65%)]\tLoss: 0.004160\n",
      "Train Epoch: 76 [16000/19577 (82%)]\tLoss: 0.007566\n",
      "Train Epoch: 76 [19200/19577 (98%)]\tLoss: 0.012946\n",
      "\n",
      "Train loss: 0.008724536492985374\n"
     ]
    },
    {
     "name": "stderr",
     "output_type": "stream",
     "text": [
      "\r",
      " 15%|█▌        | 76/500 [11:13<49:50,  7.05s/it]"
     ]
    },
    {
     "name": "stdout",
     "output_type": "stream",
     "text": [
      "Test on 1143 samples\n",
      "R^2: -1.61\n",
      "Test Loss: 1.98%\n",
      "Train Epoch: 77 [0/19577 (0%)]\tLoss: 0.003169\n",
      "Train Epoch: 77 [3200/19577 (16%)]\tLoss: 0.003455\n",
      "Train Epoch: 77 [6400/19577 (33%)]\tLoss: 0.007212\n",
      "Train Epoch: 77 [9600/19577 (49%)]\tLoss: 0.003725\n",
      "Train Epoch: 77 [12800/19577 (65%)]\tLoss: 0.005259\n",
      "Train Epoch: 77 [16000/19577 (82%)]\tLoss: 0.010380\n",
      "Train Epoch: 77 [19200/19577 (98%)]\tLoss: 0.003789\n",
      "\n",
      "Train loss: 0.008684790907792892\n"
     ]
    },
    {
     "name": "stderr",
     "output_type": "stream",
     "text": [
      "\r",
      " 15%|█▌        | 77/500 [11:20<49:37,  7.04s/it]"
     ]
    },
    {
     "name": "stdout",
     "output_type": "stream",
     "text": [
      "Test on 1143 samples\n",
      "R^2: -3.81\n",
      "Test Loss: 1.97%\n",
      "Train Epoch: 78 [0/19577 (0%)]\tLoss: 0.005015\n",
      "Train Epoch: 78 [3200/19577 (16%)]\tLoss: 0.007648\n",
      "Train Epoch: 78 [6400/19577 (33%)]\tLoss: 0.009754\n",
      "Train Epoch: 78 [9600/19577 (49%)]\tLoss: 0.008664\n",
      "Train Epoch: 78 [12800/19577 (65%)]\tLoss: 0.002565\n",
      "Train Epoch: 78 [16000/19577 (82%)]\tLoss: 0.004734\n",
      "Train Epoch: 78 [19200/19577 (98%)]\tLoss: 0.008785\n",
      "\n",
      "Train loss: 0.008665391382475207\n"
     ]
    },
    {
     "name": "stderr",
     "output_type": "stream",
     "text": [
      "\r",
      " 16%|█▌        | 78/500 [11:27<49:24,  7.03s/it]"
     ]
    },
    {
     "name": "stdout",
     "output_type": "stream",
     "text": [
      "Test on 1143 samples\n",
      "R^2: -1.72\n",
      "Test Loss: 1.99%\n",
      "Train Epoch: 79 [0/19577 (0%)]\tLoss: 0.009335\n",
      "Train Epoch: 79 [3200/19577 (16%)]\tLoss: 0.004640\n",
      "Train Epoch: 79 [6400/19577 (33%)]\tLoss: 0.006347\n",
      "Train Epoch: 79 [9600/19577 (49%)]\tLoss: 0.006644\n",
      "Train Epoch: 79 [12800/19577 (65%)]\tLoss: 0.004790\n",
      "Train Epoch: 79 [16000/19577 (82%)]\tLoss: 0.011923\n",
      "Train Epoch: 79 [19200/19577 (98%)]\tLoss: 0.013778\n",
      "\n",
      "Train loss: 0.008634037058572193\n"
     ]
    },
    {
     "name": "stderr",
     "output_type": "stream",
     "text": [
      "\r",
      " 16%|█▌        | 79/500 [11:36<51:43,  7.37s/it]"
     ]
    },
    {
     "name": "stdout",
     "output_type": "stream",
     "text": [
      "Test on 1143 samples\n",
      "R^2: -2.17\n",
      "Test Loss: 1.96%\n",
      "Train Epoch: 80 [0/19577 (0%)]\tLoss: 0.010091\n",
      "Train Epoch: 80 [3200/19577 (16%)]\tLoss: 0.004351\n",
      "Train Epoch: 80 [6400/19577 (33%)]\tLoss: 0.019271\n",
      "Train Epoch: 80 [9600/19577 (49%)]\tLoss: 0.008350\n",
      "Train Epoch: 80 [12800/19577 (65%)]\tLoss: 0.005284\n",
      "Train Epoch: 80 [16000/19577 (82%)]\tLoss: 0.009122\n",
      "Train Epoch: 80 [19200/19577 (98%)]\tLoss: 0.008984\n",
      "\n",
      "Train loss: 0.008603129201124306\n"
     ]
    },
    {
     "name": "stderr",
     "output_type": "stream",
     "text": [
      "\r",
      " 16%|█▌        | 80/500 [11:43<51:50,  7.41s/it]"
     ]
    },
    {
     "name": "stdout",
     "output_type": "stream",
     "text": [
      "Test on 1143 samples\n",
      "R^2: -1.69\n",
      "Test Loss: 1.96%\n",
      "Train Epoch: 81 [0/19577 (0%)]\tLoss: 0.007671\n",
      "Train Epoch: 81 [3200/19577 (16%)]\tLoss: 0.016272\n",
      "Train Epoch: 81 [6400/19577 (33%)]\tLoss: 0.004541\n",
      "Train Epoch: 81 [9600/19577 (49%)]\tLoss: 0.007469\n",
      "Train Epoch: 81 [12800/19577 (65%)]\tLoss: 0.006087\n",
      "Train Epoch: 81 [16000/19577 (82%)]\tLoss: 0.004498\n",
      "Train Epoch: 81 [19200/19577 (98%)]\tLoss: 0.006445\n",
      "\n",
      "Train loss: 0.008582379244377507\n"
     ]
    },
    {
     "name": "stderr",
     "output_type": "stream",
     "text": [
      "\r",
      " 16%|█▌        | 81/500 [11:51<53:23,  7.64s/it]"
     ]
    },
    {
     "name": "stdout",
     "output_type": "stream",
     "text": [
      "Test on 1143 samples\n",
      "R^2: -1.34\n",
      "Test Loss: 1.97%\n",
      "Train Epoch: 82 [0/19577 (0%)]\tLoss: 0.009087\n",
      "Train Epoch: 82 [3200/19577 (16%)]\tLoss: 0.012620\n",
      "Train Epoch: 82 [6400/19577 (33%)]\tLoss: 0.008700\n",
      "Train Epoch: 82 [9600/19577 (49%)]\tLoss: 0.005547\n",
      "Train Epoch: 82 [12800/19577 (65%)]\tLoss: 0.008422\n",
      "Train Epoch: 82 [16000/19577 (82%)]\tLoss: 0.004680\n",
      "Train Epoch: 82 [19200/19577 (98%)]\tLoss: 0.006683\n",
      "\n",
      "Train loss: 0.008561615660570537\n"
     ]
    },
    {
     "name": "stderr",
     "output_type": "stream",
     "text": [
      "\r",
      " 16%|█▋        | 82/500 [12:00<55:46,  8.01s/it]"
     ]
    },
    {
     "name": "stdout",
     "output_type": "stream",
     "text": [
      "Test on 1143 samples\n",
      "R^2: -2.62\n",
      "Test Loss: 1.95%\n",
      "Train Epoch: 83 [0/19577 (0%)]\tLoss: 0.005238\n",
      "Train Epoch: 83 [3200/19577 (16%)]\tLoss: 0.004422\n",
      "Train Epoch: 83 [6400/19577 (33%)]\tLoss: 0.007135\n",
      "Train Epoch: 83 [9600/19577 (49%)]\tLoss: 0.015091\n",
      "Train Epoch: 83 [12800/19577 (65%)]\tLoss: 0.004224\n",
      "Train Epoch: 83 [16000/19577 (82%)]\tLoss: 0.006205\n",
      "Train Epoch: 83 [19200/19577 (98%)]\tLoss: 0.004623\n",
      "\n",
      "Train loss: 0.008525462236005837\n"
     ]
    },
    {
     "name": "stderr",
     "output_type": "stream",
     "text": [
      "\r",
      " 17%|█▋        | 83/500 [12:08<54:57,  7.91s/it]"
     ]
    },
    {
     "name": "stdout",
     "output_type": "stream",
     "text": [
      "Test on 1143 samples\n",
      "R^2: -1.15\n",
      "Test Loss: 1.95%\n",
      "Train Epoch: 84 [0/19577 (0%)]\tLoss: 0.003866\n",
      "Train Epoch: 84 [3200/19577 (16%)]\tLoss: 0.011489\n",
      "Train Epoch: 84 [6400/19577 (33%)]\tLoss: 0.003610\n",
      "Train Epoch: 84 [9600/19577 (49%)]\tLoss: 0.008154\n",
      "Train Epoch: 84 [12800/19577 (65%)]\tLoss: 0.005678\n",
      "Train Epoch: 84 [16000/19577 (82%)]\tLoss: 0.007587\n",
      "Train Epoch: 84 [19200/19577 (98%)]\tLoss: 0.005974\n",
      "\n",
      "Train loss: 0.008532280139655507\n"
     ]
    },
    {
     "name": "stderr",
     "output_type": "stream",
     "text": [
      "\r",
      " 17%|█▋        | 84/500 [12:15<53:54,  7.78s/it]"
     ]
    },
    {
     "name": "stdout",
     "output_type": "stream",
     "text": [
      "Test on 1143 samples\n",
      "R^2: -1.32\n",
      "Test Loss: 1.95%\n",
      "Train Epoch: 85 [0/19577 (0%)]\tLoss: 0.010255\n",
      "Train Epoch: 85 [3200/19577 (16%)]\tLoss: 0.011720\n",
      "Train Epoch: 85 [6400/19577 (33%)]\tLoss: 0.005873\n",
      "Train Epoch: 85 [9600/19577 (49%)]\tLoss: 0.005332\n",
      "Train Epoch: 85 [12800/19577 (65%)]\tLoss: 0.002684\n",
      "Train Epoch: 85 [16000/19577 (82%)]\tLoss: 0.006273\n",
      "Train Epoch: 85 [19200/19577 (98%)]\tLoss: 0.004044\n",
      "\n",
      "Train loss: 0.008488812257864457\n"
     ]
    },
    {
     "name": "stderr",
     "output_type": "stream",
     "text": [
      "\r",
      " 17%|█▋        | 85/500 [12:28<1:03:21,  9.16s/it]"
     ]
    },
    {
     "name": "stdout",
     "output_type": "stream",
     "text": [
      "Test on 1143 samples\n",
      "R^2: -1.23\n",
      "Test Loss: 1.94%\n",
      "Train Epoch: 86 [0/19577 (0%)]\tLoss: 0.006674\n",
      "Train Epoch: 86 [3200/19577 (16%)]\tLoss: 0.008237\n",
      "Train Epoch: 86 [6400/19577 (33%)]\tLoss: 0.007228\n",
      "Train Epoch: 86 [9600/19577 (49%)]\tLoss: 0.002153\n",
      "Train Epoch: 86 [12800/19577 (65%)]\tLoss: 0.005257\n",
      "Train Epoch: 86 [16000/19577 (82%)]\tLoss: 0.007505\n",
      "Train Epoch: 86 [19200/19577 (98%)]\tLoss: 0.010800\n",
      "\n",
      "Train loss: 0.008467427144447962\n"
     ]
    },
    {
     "name": "stderr",
     "output_type": "stream",
     "text": [
      "\r",
      " 17%|█▋        | 86/500 [12:38<1:05:02,  9.43s/it]"
     ]
    },
    {
     "name": "stdout",
     "output_type": "stream",
     "text": [
      "Test on 1143 samples\n",
      "R^2: -1.08\n",
      "Test Loss: 1.94%\n",
      "Train Epoch: 87 [0/19577 (0%)]\tLoss: 0.008123\n",
      "Train Epoch: 87 [3200/19577 (16%)]\tLoss: 0.005050\n",
      "Train Epoch: 87 [6400/19577 (33%)]\tLoss: 0.007433\n",
      "Train Epoch: 87 [9600/19577 (49%)]\tLoss: 0.016163\n",
      "Train Epoch: 87 [12800/19577 (65%)]\tLoss: 0.003600\n",
      "Train Epoch: 87 [16000/19577 (82%)]\tLoss: 0.009053\n",
      "Train Epoch: 87 [19200/19577 (98%)]\tLoss: 0.016062\n",
      "\n",
      "Train loss: 0.008444835523179933\n"
     ]
    },
    {
     "name": "stderr",
     "output_type": "stream",
     "text": [
      "\r",
      " 17%|█▋        | 87/500 [12:46<1:01:33,  8.94s/it]"
     ]
    },
    {
     "name": "stdout",
     "output_type": "stream",
     "text": [
      "Test on 1143 samples\n",
      "R^2: -1.69\n",
      "Test Loss: 1.96%\n",
      "Train Epoch: 88 [0/19577 (0%)]\tLoss: 0.007883\n",
      "Train Epoch: 88 [3200/19577 (16%)]\tLoss: 0.003364\n",
      "Train Epoch: 88 [6400/19577 (33%)]\tLoss: 0.010221\n",
      "Train Epoch: 88 [9600/19577 (49%)]\tLoss: 0.006377\n",
      "Train Epoch: 88 [12800/19577 (65%)]\tLoss: 0.002944\n",
      "Train Epoch: 88 [16000/19577 (82%)]\tLoss: 0.004898\n",
      "Train Epoch: 88 [19200/19577 (98%)]\tLoss: 0.006881\n",
      "\n",
      "Train loss: 0.008419936140116572\n"
     ]
    },
    {
     "name": "stderr",
     "output_type": "stream",
     "text": [
      "\r",
      " 18%|█▊        | 88/500 [12:53<58:20,  8.50s/it]  "
     ]
    },
    {
     "name": "stdout",
     "output_type": "stream",
     "text": [
      "Test on 1143 samples\n",
      "R^2: -1.01\n",
      "Test Loss: 1.94%\n",
      "Train Epoch: 89 [0/19577 (0%)]\tLoss: 0.003985\n",
      "Train Epoch: 89 [3200/19577 (16%)]\tLoss: 0.004219\n",
      "Train Epoch: 89 [6400/19577 (33%)]\tLoss: 0.006506\n",
      "Train Epoch: 89 [9600/19577 (49%)]\tLoss: 0.005869\n",
      "Train Epoch: 89 [12800/19577 (65%)]\tLoss: 0.005476\n",
      "Train Epoch: 89 [16000/19577 (82%)]\tLoss: 0.005075\n",
      "Train Epoch: 89 [19200/19577 (98%)]\tLoss: 0.004928\n",
      "\n",
      "Train loss: 0.008420041156247915\n"
     ]
    },
    {
     "name": "stderr",
     "output_type": "stream",
     "text": [
      "\r",
      " 18%|█▊        | 89/500 [13:03<1:02:06,  9.07s/it]"
     ]
    },
    {
     "name": "stdout",
     "output_type": "stream",
     "text": [
      "Test on 1143 samples\n",
      "R^2: -1.85\n",
      "Test Loss: 1.93%\n",
      "Train Epoch: 90 [0/19577 (0%)]\tLoss: 0.005877\n",
      "Train Epoch: 90 [3200/19577 (16%)]\tLoss: 0.003032\n",
      "Train Epoch: 90 [6400/19577 (33%)]\tLoss: 0.002401\n",
      "Train Epoch: 90 [9600/19577 (49%)]\tLoss: 0.005333\n",
      "Train Epoch: 90 [12800/19577 (65%)]\tLoss: 0.009348\n",
      "Train Epoch: 90 [16000/19577 (82%)]\tLoss: 0.005151\n",
      "Train Epoch: 90 [19200/19577 (98%)]\tLoss: 0.006637\n",
      "\n",
      "Train loss: 0.008392771737942216\n"
     ]
    },
    {
     "name": "stderr",
     "output_type": "stream",
     "text": [
      "\r",
      " 18%|█▊        | 90/500 [13:11<58:44,  8.60s/it]  "
     ]
    },
    {
     "name": "stdout",
     "output_type": "stream",
     "text": [
      "Test on 1143 samples\n",
      "R^2: -0.99\n",
      "Test Loss: 1.93%\n",
      "Train Epoch: 91 [0/19577 (0%)]\tLoss: 0.005162\n",
      "Train Epoch: 91 [3200/19577 (16%)]\tLoss: 0.007081\n",
      "Train Epoch: 91 [6400/19577 (33%)]\tLoss: 0.004746\n",
      "Train Epoch: 91 [9600/19577 (49%)]\tLoss: 0.008630\n",
      "Train Epoch: 91 [12800/19577 (65%)]\tLoss: 0.010674\n",
      "Train Epoch: 91 [16000/19577 (82%)]\tLoss: 0.008372\n",
      "Train Epoch: 91 [19200/19577 (98%)]\tLoss: 0.008624\n",
      "\n",
      "Train loss: 0.008385273136785923\n"
     ]
    },
    {
     "name": "stderr",
     "output_type": "stream",
     "text": [
      "\r",
      " 18%|█▊        | 91/500 [13:19<57:55,  8.50s/it]"
     ]
    },
    {
     "name": "stdout",
     "output_type": "stream",
     "text": [
      "Test on 1143 samples\n",
      "R^2: -1.02\n",
      "Test Loss: 1.92%\n",
      "Train Epoch: 92 [0/19577 (0%)]\tLoss: 0.008597\n",
      "Train Epoch: 92 [3200/19577 (16%)]\tLoss: 0.006340\n",
      "Train Epoch: 92 [6400/19577 (33%)]\tLoss: 0.005659\n",
      "Train Epoch: 92 [9600/19577 (49%)]\tLoss: 0.003823\n",
      "Train Epoch: 92 [12800/19577 (65%)]\tLoss: 0.010028\n",
      "Train Epoch: 92 [16000/19577 (82%)]\tLoss: 0.003245\n",
      "Train Epoch: 92 [19200/19577 (98%)]\tLoss: 0.010186\n",
      "\n",
      "Train loss: 0.008364222456816754\n"
     ]
    },
    {
     "name": "stderr",
     "output_type": "stream",
     "text": [
      "\r",
      " 18%|█▊        | 92/500 [13:27<55:38,  8.18s/it]"
     ]
    },
    {
     "name": "stdout",
     "output_type": "stream",
     "text": [
      "Test on 1143 samples\n",
      "R^2: -1.57\n",
      "Test Loss: 1.92%\n",
      "Train Epoch: 93 [0/19577 (0%)]\tLoss: 0.003906\n",
      "Train Epoch: 93 [3200/19577 (16%)]\tLoss: 0.007844\n",
      "Train Epoch: 93 [6400/19577 (33%)]\tLoss: 0.005650\n",
      "Train Epoch: 93 [9600/19577 (49%)]\tLoss: 0.008140\n",
      "Train Epoch: 93 [12800/19577 (65%)]\tLoss: 0.006188\n",
      "Train Epoch: 93 [16000/19577 (82%)]\tLoss: 0.003757\n",
      "Train Epoch: 93 [19200/19577 (98%)]\tLoss: 0.005571\n",
      "\n",
      "Train loss: 0.008336382732784461\n"
     ]
    },
    {
     "name": "stderr",
     "output_type": "stream",
     "text": [
      "\r",
      " 19%|█▊        | 93/500 [13:35<55:57,  8.25s/it]"
     ]
    },
    {
     "name": "stdout",
     "output_type": "stream",
     "text": [
      "Test on 1143 samples\n",
      "R^2: -1.10\n",
      "Test Loss: 1.93%\n",
      "Train Epoch: 94 [0/19577 (0%)]\tLoss: 0.012584\n",
      "Train Epoch: 94 [3200/19577 (16%)]\tLoss: 0.009289\n",
      "Train Epoch: 94 [6400/19577 (33%)]\tLoss: 0.003679\n",
      "Train Epoch: 94 [9600/19577 (49%)]\tLoss: 0.013967\n",
      "Train Epoch: 94 [12800/19577 (65%)]\tLoss: 0.009094\n",
      "Train Epoch: 94 [16000/19577 (82%)]\tLoss: 0.007535\n",
      "Train Epoch: 94 [19200/19577 (98%)]\tLoss: 0.009827\n",
      "\n",
      "Train loss: 0.008336402006368183\n"
     ]
    },
    {
     "name": "stderr",
     "output_type": "stream",
     "text": [
      "\r",
      " 19%|█▉        | 94/500 [13:42<54:07,  8.00s/it]"
     ]
    },
    {
     "name": "stdout",
     "output_type": "stream",
     "text": [
      "Test on 1143 samples\n",
      "R^2: -7.20\n",
      "Test Loss: 1.98%\n",
      "Train Epoch: 95 [0/19577 (0%)]\tLoss: 0.010279\n",
      "Train Epoch: 95 [3200/19577 (16%)]\tLoss: 0.005145\n",
      "Train Epoch: 95 [6400/19577 (33%)]\tLoss: 0.005931\n",
      "Train Epoch: 95 [9600/19577 (49%)]\tLoss: 0.011102\n",
      "Train Epoch: 95 [12800/19577 (65%)]\tLoss: 0.005515\n",
      "Train Epoch: 95 [16000/19577 (82%)]\tLoss: 0.003947\n",
      "Train Epoch: 95 [19200/19577 (98%)]\tLoss: 0.013209\n",
      "\n",
      "Train loss: 0.008331251215780142\n"
     ]
    },
    {
     "name": "stderr",
     "output_type": "stream",
     "text": [
      "\r",
      " 19%|█▉        | 95/500 [13:50<52:46,  7.82s/it]"
     ]
    },
    {
     "name": "stdout",
     "output_type": "stream",
     "text": [
      "Test on 1143 samples\n",
      "R^2: -0.97\n",
      "Test Loss: 1.92%\n",
      "Train Epoch: 96 [0/19577 (0%)]\tLoss: 0.004393\n",
      "Train Epoch: 96 [3200/19577 (16%)]\tLoss: 0.006929\n",
      "Train Epoch: 96 [6400/19577 (33%)]\tLoss: 0.012226\n",
      "Train Epoch: 96 [9600/19577 (49%)]\tLoss: 0.006056\n",
      "Train Epoch: 96 [12800/19577 (65%)]\tLoss: 0.006493\n",
      "Train Epoch: 96 [16000/19577 (82%)]\tLoss: 0.003060\n",
      "Train Epoch: 96 [19200/19577 (98%)]\tLoss: 0.015792\n",
      "\n",
      "Train loss: 0.008298952297575383\n"
     ]
    },
    {
     "name": "stderr",
     "output_type": "stream",
     "text": [
      "\r",
      " 19%|█▉        | 96/500 [13:58<52:53,  7.86s/it]"
     ]
    },
    {
     "name": "stdout",
     "output_type": "stream",
     "text": [
      "Test on 1143 samples\n",
      "R^2: -0.78\n",
      "Test Loss: 1.91%\n",
      "Train Epoch: 97 [0/19577 (0%)]\tLoss: 0.005766\n",
      "Train Epoch: 97 [3200/19577 (16%)]\tLoss: 0.011870\n",
      "Train Epoch: 97 [6400/19577 (33%)]\tLoss: 0.008792\n",
      "Train Epoch: 97 [9600/19577 (49%)]\tLoss: 0.013936\n",
      "Train Epoch: 97 [12800/19577 (65%)]\tLoss: 0.004070\n",
      "Train Epoch: 97 [16000/19577 (82%)]\tLoss: 0.004573\n",
      "Train Epoch: 97 [19200/19577 (98%)]\tLoss: 0.004907\n",
      "\n",
      "Train loss: 0.00828286809648929\n"
     ]
    },
    {
     "name": "stderr",
     "output_type": "stream",
     "text": [
      "\r",
      " 19%|█▉        | 97/500 [14:06<53:34,  7.98s/it]"
     ]
    },
    {
     "name": "stdout",
     "output_type": "stream",
     "text": [
      "Test on 1143 samples\n",
      "R^2: -1.38\n",
      "Test Loss: 1.92%\n",
      "Train Epoch: 98 [0/19577 (0%)]\tLoss: 0.004537\n",
      "Train Epoch: 98 [3200/19577 (16%)]\tLoss: 0.005476\n",
      "Train Epoch: 98 [6400/19577 (33%)]\tLoss: 0.009284\n",
      "Train Epoch: 98 [9600/19577 (49%)]\tLoss: 0.005771\n",
      "Train Epoch: 98 [12800/19577 (65%)]\tLoss: 0.008297\n",
      "Train Epoch: 98 [16000/19577 (82%)]\tLoss: 0.006262\n",
      "Train Epoch: 98 [19200/19577 (98%)]\tLoss: 0.006178\n",
      "\n",
      "Train loss: 0.008272373336641228\n"
     ]
    },
    {
     "name": "stderr",
     "output_type": "stream",
     "text": [
      "\r",
      " 20%|█▉        | 98/500 [14:14<52:30,  7.84s/it]"
     ]
    },
    {
     "name": "stdout",
     "output_type": "stream",
     "text": [
      "Test on 1143 samples\n",
      "R^2: -1.35\n",
      "Test Loss: 1.92%\n",
      "Train Epoch: 99 [0/19577 (0%)]\tLoss: 0.002774\n",
      "Train Epoch: 99 [3200/19577 (16%)]\tLoss: 0.003391\n",
      "Train Epoch: 99 [6400/19577 (33%)]\tLoss: 0.005796\n",
      "Train Epoch: 99 [9600/19577 (49%)]\tLoss: 0.003194\n",
      "Train Epoch: 99 [12800/19577 (65%)]\tLoss: 0.005881\n",
      "Train Epoch: 99 [16000/19577 (82%)]\tLoss: 0.005062\n",
      "Train Epoch: 99 [19200/19577 (98%)]\tLoss: 0.011474\n",
      "\n",
      "Train loss: 0.008261037225001096\n"
     ]
    },
    {
     "name": "stderr",
     "output_type": "stream",
     "text": [
      "\r",
      " 20%|█▉        | 99/500 [14:21<51:11,  7.66s/it]"
     ]
    },
    {
     "name": "stdout",
     "output_type": "stream",
     "text": [
      "Test on 1143 samples\n",
      "R^2: -1.32\n",
      "Test Loss: 1.92%\n",
      "Train Epoch: 100 [0/19577 (0%)]\tLoss: 0.008839\n",
      "Train Epoch: 100 [3200/19577 (16%)]\tLoss: 0.007665\n",
      "Train Epoch: 100 [6400/19577 (33%)]\tLoss: 0.003659\n",
      "Train Epoch: 100 [9600/19577 (49%)]\tLoss: 0.006444\n",
      "Train Epoch: 100 [12800/19577 (65%)]\tLoss: 0.004399\n",
      "Train Epoch: 100 [16000/19577 (82%)]\tLoss: 0.007575\n",
      "Train Epoch: 100 [19200/19577 (98%)]\tLoss: 0.005116\n",
      "\n",
      "Train loss: 0.008244916578310425\n"
     ]
    },
    {
     "name": "stderr",
     "output_type": "stream",
     "text": [
      "\r",
      " 20%|██        | 100/500 [14:29<51:17,  7.69s/it]"
     ]
    },
    {
     "name": "stdout",
     "output_type": "stream",
     "text": [
      "Test on 1143 samples\n",
      "R^2: -0.66\n",
      "Test Loss: 1.90%\n",
      "Train Epoch: 101 [0/19577 (0%)]\tLoss: 0.007798\n",
      "Train Epoch: 101 [3200/19577 (16%)]\tLoss: 0.003601\n",
      "Train Epoch: 101 [6400/19577 (33%)]\tLoss: 0.003839\n",
      "Train Epoch: 101 [9600/19577 (49%)]\tLoss: 0.012400\n",
      "Train Epoch: 101 [12800/19577 (65%)]\tLoss: 0.009805\n",
      "Train Epoch: 101 [16000/19577 (82%)]\tLoss: 0.006316\n",
      "Train Epoch: 101 [19200/19577 (98%)]\tLoss: 0.007966\n",
      "\n",
      "Train loss: 0.008223355876348815\n"
     ]
    },
    {
     "name": "stderr",
     "output_type": "stream",
     "text": [
      "\r",
      " 20%|██        | 101/500 [14:37<51:39,  7.77s/it]"
     ]
    },
    {
     "name": "stdout",
     "output_type": "stream",
     "text": [
      "Test on 1143 samples\n",
      "R^2: -0.96\n",
      "Test Loss: 1.90%\n",
      "Train Epoch: 102 [0/19577 (0%)]\tLoss: 0.009423\n",
      "Train Epoch: 102 [3200/19577 (16%)]\tLoss: 0.004449\n",
      "Train Epoch: 102 [6400/19577 (33%)]\tLoss: 0.003899\n",
      "Train Epoch: 102 [9600/19577 (49%)]\tLoss: 0.004224\n",
      "Train Epoch: 102 [12800/19577 (65%)]\tLoss: 0.007849\n",
      "Train Epoch: 102 [16000/19577 (82%)]\tLoss: 0.015560\n",
      "Train Epoch: 102 [19200/19577 (98%)]\tLoss: 0.008414\n",
      "\n",
      "Train loss: 0.00821766981077411\n"
     ]
    },
    {
     "name": "stderr",
     "output_type": "stream",
     "text": [
      "\r",
      " 20%|██        | 102/500 [14:45<52:52,  7.97s/it]"
     ]
    },
    {
     "name": "stdout",
     "output_type": "stream",
     "text": [
      "Test on 1143 samples\n",
      "R^2: -0.93\n",
      "Test Loss: 1.89%\n",
      "Train Epoch: 103 [0/19577 (0%)]\tLoss: 0.008951\n",
      "Train Epoch: 103 [3200/19577 (16%)]\tLoss: 0.003770\n",
      "Train Epoch: 103 [6400/19577 (33%)]\tLoss: 0.008177\n",
      "Train Epoch: 103 [9600/19577 (49%)]\tLoss: 0.005542\n",
      "Train Epoch: 103 [12800/19577 (65%)]\tLoss: 0.009146\n",
      "Train Epoch: 103 [16000/19577 (82%)]\tLoss: 0.006799\n",
      "Train Epoch: 103 [19200/19577 (98%)]\tLoss: 0.004372\n",
      "\n",
      "Train loss: 0.008209370637047743\n"
     ]
    },
    {
     "name": "stderr",
     "output_type": "stream",
     "text": [
      "\r",
      " 21%|██        | 103/500 [14:52<51:02,  7.71s/it]"
     ]
    },
    {
     "name": "stdout",
     "output_type": "stream",
     "text": [
      "Test on 1143 samples\n",
      "R^2: -0.91\n",
      "Test Loss: 1.90%\n",
      "Train Epoch: 104 [0/19577 (0%)]\tLoss: 0.007761\n",
      "Train Epoch: 104 [3200/19577 (16%)]\tLoss: 0.004380\n",
      "Train Epoch: 104 [6400/19577 (33%)]\tLoss: 0.006623\n",
      "Train Epoch: 104 [9600/19577 (49%)]\tLoss: 0.004344\n",
      "Train Epoch: 104 [12800/19577 (65%)]\tLoss: 0.004730\n",
      "Train Epoch: 104 [16000/19577 (82%)]\tLoss: 0.003597\n",
      "Train Epoch: 104 [19200/19577 (98%)]\tLoss: 0.009543\n",
      "\n",
      "Train loss: 0.008190833404203695\n"
     ]
    },
    {
     "name": "stderr",
     "output_type": "stream",
     "text": [
      "\r",
      " 21%|██        | 104/500 [15:00<50:54,  7.71s/it]"
     ]
    },
    {
     "name": "stdout",
     "output_type": "stream",
     "text": [
      "Test on 1143 samples\n",
      "R^2: -3.36\n",
      "Test Loss: 1.91%\n",
      "Train Epoch: 105 [0/19577 (0%)]\tLoss: 0.008845\n",
      "Train Epoch: 105 [3200/19577 (16%)]\tLoss: 0.005481\n",
      "Train Epoch: 105 [6400/19577 (33%)]\tLoss: 0.006786\n",
      "Train Epoch: 105 [9600/19577 (49%)]\tLoss: 0.006088\n",
      "Train Epoch: 105 [12800/19577 (65%)]\tLoss: 0.005740\n",
      "Train Epoch: 105 [16000/19577 (82%)]\tLoss: 0.005916\n",
      "Train Epoch: 105 [19200/19577 (98%)]\tLoss: 0.008983\n",
      "\n",
      "Train loss: 0.008189466384732547\n"
     ]
    },
    {
     "name": "stderr",
     "output_type": "stream",
     "text": [
      "\r",
      " 21%|██        | 105/500 [15:09<54:32,  8.28s/it]"
     ]
    },
    {
     "name": "stdout",
     "output_type": "stream",
     "text": [
      "Test on 1143 samples\n",
      "R^2: -0.56\n",
      "Test Loss: 1.89%\n",
      "Train Epoch: 106 [0/19577 (0%)]\tLoss: 0.006574\n",
      "Train Epoch: 106 [3200/19577 (16%)]\tLoss: 0.005475\n",
      "Train Epoch: 106 [6400/19577 (33%)]\tLoss: 0.005641\n",
      "Train Epoch: 106 [9600/19577 (49%)]\tLoss: 0.010610\n",
      "Train Epoch: 106 [12800/19577 (65%)]\tLoss: 0.007369\n",
      "Train Epoch: 106 [16000/19577 (82%)]\tLoss: 0.004851\n",
      "Train Epoch: 106 [19200/19577 (98%)]\tLoss: 0.006801\n",
      "\n",
      "Train loss: 0.008163889394494785\n"
     ]
    },
    {
     "name": "stderr",
     "output_type": "stream",
     "text": [
      "\r",
      " 21%|██        | 106/500 [15:17<53:53,  8.21s/it]"
     ]
    },
    {
     "name": "stdout",
     "output_type": "stream",
     "text": [
      "Test on 1143 samples\n",
      "R^2: -0.71\n",
      "Test Loss: 1.89%\n",
      "Train Epoch: 107 [0/19577 (0%)]\tLoss: 0.003828\n",
      "Train Epoch: 107 [3200/19577 (16%)]\tLoss: 0.003735\n",
      "Train Epoch: 107 [6400/19577 (33%)]\tLoss: 0.004641\n",
      "Train Epoch: 107 [9600/19577 (49%)]\tLoss: 0.002365\n",
      "Train Epoch: 107 [12800/19577 (65%)]\tLoss: 0.008037\n",
      "Train Epoch: 107 [16000/19577 (82%)]\tLoss: 0.009491\n",
      "Train Epoch: 107 [19200/19577 (98%)]\tLoss: 0.007601\n",
      "\n",
      "Train loss: 0.008165236306833286\n"
     ]
    },
    {
     "name": "stderr",
     "output_type": "stream",
     "text": [
      "\r",
      " 21%|██▏       | 107/500 [15:31<1:05:06,  9.94s/it]"
     ]
    },
    {
     "name": "stdout",
     "output_type": "stream",
     "text": [
      "Test on 1143 samples\n",
      "R^2: -0.65\n",
      "Test Loss: 1.89%\n",
      "Train Epoch: 108 [0/19577 (0%)]\tLoss: 0.009309\n",
      "Train Epoch: 108 [3200/19577 (16%)]\tLoss: 0.007210\n",
      "Train Epoch: 108 [6400/19577 (33%)]\tLoss: 0.004061\n",
      "Train Epoch: 108 [9600/19577 (49%)]\tLoss: 0.009024\n",
      "Train Epoch: 108 [12800/19577 (65%)]\tLoss: 0.012072\n",
      "Train Epoch: 108 [16000/19577 (82%)]\tLoss: 0.007955\n",
      "Train Epoch: 108 [19200/19577 (98%)]\tLoss: 0.006933\n",
      "\n",
      "Train loss: 0.008134060856594029\n"
     ]
    },
    {
     "name": "stderr",
     "output_type": "stream",
     "text": [
      "\r",
      " 22%|██▏       | 108/500 [15:41<1:03:21,  9.70s/it]"
     ]
    },
    {
     "name": "stdout",
     "output_type": "stream",
     "text": [
      "Test on 1143 samples\n",
      "R^2: -0.70\n",
      "Test Loss: 1.88%\n",
      "Train Epoch: 109 [0/19577 (0%)]\tLoss: 0.008753\n",
      "Train Epoch: 109 [3200/19577 (16%)]\tLoss: 0.005989\n",
      "Train Epoch: 109 [6400/19577 (33%)]\tLoss: 0.007789\n",
      "Train Epoch: 109 [9600/19577 (49%)]\tLoss: 0.008836\n",
      "Train Epoch: 109 [12800/19577 (65%)]\tLoss: 0.005162\n",
      "Train Epoch: 109 [16000/19577 (82%)]\tLoss: 0.005233\n",
      "Train Epoch: 109 [19200/19577 (98%)]\tLoss: 0.003471\n",
      "\n",
      "Train loss: 0.008132329990545568\n"
     ]
    },
    {
     "name": "stderr",
     "output_type": "stream",
     "text": [
      "\r",
      " 22%|██▏       | 109/500 [15:48<59:14,  9.09s/it]  "
     ]
    },
    {
     "name": "stdout",
     "output_type": "stream",
     "text": [
      "Test on 1143 samples\n",
      "R^2: -0.57\n",
      "Test Loss: 1.88%\n",
      "Train Epoch: 110 [0/19577 (0%)]\tLoss: 0.010456\n",
      "Train Epoch: 110 [3200/19577 (16%)]\tLoss: 0.005292\n",
      "Train Epoch: 110 [6400/19577 (33%)]\tLoss: 0.332601\n",
      "Train Epoch: 110 [9600/19577 (49%)]\tLoss: 0.006440\n",
      "Train Epoch: 110 [12800/19577 (65%)]\tLoss: 0.004661\n",
      "Train Epoch: 110 [16000/19577 (82%)]\tLoss: 0.018119\n",
      "Train Epoch: 110 [19200/19577 (98%)]\tLoss: 0.011623\n",
      "\n",
      "Train loss: 0.008126136906950254\n"
     ]
    },
    {
     "name": "stderr",
     "output_type": "stream",
     "text": [
      "\r",
      " 22%|██▏       | 110/500 [15:56<56:50,  8.75s/it]"
     ]
    },
    {
     "name": "stdout",
     "output_type": "stream",
     "text": [
      "Test on 1143 samples\n",
      "R^2: -0.50\n",
      "Test Loss: 1.88%\n",
      "Train Epoch: 111 [0/19577 (0%)]\tLoss: 0.004575\n",
      "Train Epoch: 111 [3200/19577 (16%)]\tLoss: 0.007466\n",
      "Train Epoch: 111 [6400/19577 (33%)]\tLoss: 0.004966\n",
      "Train Epoch: 111 [9600/19577 (49%)]\tLoss: 0.003012\n",
      "Train Epoch: 111 [12800/19577 (65%)]\tLoss: 0.004872\n",
      "Train Epoch: 111 [16000/19577 (82%)]\tLoss: 0.007832\n",
      "Train Epoch: 111 [19200/19577 (98%)]\tLoss: 0.014267\n",
      "\n",
      "Train loss: 0.008114295723251511\n"
     ]
    },
    {
     "name": "stderr",
     "output_type": "stream",
     "text": [
      "\r",
      " 22%|██▏       | 111/500 [16:04<54:37,  8.42s/it]"
     ]
    },
    {
     "name": "stdout",
     "output_type": "stream",
     "text": [
      "Test on 1143 samples\n",
      "R^2: -2.19\n",
      "Test Loss: 1.91%\n",
      "Train Epoch: 112 [0/19577 (0%)]\tLoss: 0.005820\n",
      "Train Epoch: 112 [3200/19577 (16%)]\tLoss: 0.015164\n",
      "Train Epoch: 112 [6400/19577 (33%)]\tLoss: 0.004081\n",
      "Train Epoch: 112 [9600/19577 (49%)]\tLoss: 0.009259\n",
      "Train Epoch: 112 [12800/19577 (65%)]\tLoss: 0.003982\n",
      "Train Epoch: 112 [16000/19577 (82%)]\tLoss: 0.004407\n",
      "Train Epoch: 112 [19200/19577 (98%)]\tLoss: 0.007096\n",
      "\n",
      "Train loss: 0.008094063718054517\n"
     ]
    },
    {
     "name": "stderr",
     "output_type": "stream",
     "text": [
      "\r",
      " 22%|██▏       | 112/500 [16:12<54:03,  8.36s/it]"
     ]
    },
    {
     "name": "stdout",
     "output_type": "stream",
     "text": [
      "Test on 1143 samples\n",
      "R^2: -1.03\n",
      "Test Loss: 1.87%\n",
      "Train Epoch: 113 [0/19577 (0%)]\tLoss: 0.008388\n",
      "Train Epoch: 113 [3200/19577 (16%)]\tLoss: 0.008488\n",
      "Train Epoch: 113 [6400/19577 (33%)]\tLoss: 0.005733\n",
      "Train Epoch: 113 [9600/19577 (49%)]\tLoss: 0.006751\n",
      "Train Epoch: 113 [12800/19577 (65%)]\tLoss: 0.006735\n",
      "Train Epoch: 113 [16000/19577 (82%)]\tLoss: 0.006091\n",
      "Train Epoch: 113 [19200/19577 (98%)]\tLoss: 0.006772\n",
      "\n",
      "Train loss: 0.008093621203633257\n"
     ]
    },
    {
     "name": "stderr",
     "output_type": "stream",
     "text": [
      "\r",
      " 23%|██▎       | 113/500 [16:20<52:11,  8.09s/it]"
     ]
    },
    {
     "name": "stdout",
     "output_type": "stream",
     "text": [
      "Test on 1143 samples\n",
      "R^2: -1.11\n",
      "Test Loss: 1.88%\n",
      "Train Epoch: 114 [0/19577 (0%)]\tLoss: 0.012074\n",
      "Train Epoch: 114 [3200/19577 (16%)]\tLoss: 0.007173\n",
      "Train Epoch: 114 [6400/19577 (33%)]\tLoss: 0.004666\n",
      "Train Epoch: 114 [9600/19577 (49%)]\tLoss: 0.005862\n",
      "Train Epoch: 114 [12800/19577 (65%)]\tLoss: 0.014992\n",
      "Train Epoch: 114 [16000/19577 (82%)]\tLoss: 0.006357\n",
      "Train Epoch: 114 [19200/19577 (98%)]\tLoss: 0.005097\n",
      "\n",
      "Train loss: 0.008077062018523054\n"
     ]
    },
    {
     "name": "stderr",
     "output_type": "stream",
     "text": [
      "\r",
      " 23%|██▎       | 114/500 [16:28<52:37,  8.18s/it]"
     ]
    },
    {
     "name": "stdout",
     "output_type": "stream",
     "text": [
      "Test on 1143 samples\n",
      "R^2: -0.61\n",
      "Test Loss: 1.86%\n",
      "Train Epoch: 115 [0/19577 (0%)]\tLoss: 0.012815\n",
      "Train Epoch: 115 [3200/19577 (16%)]\tLoss: 0.005566\n",
      "Train Epoch: 115 [6400/19577 (33%)]\tLoss: 0.006047\n",
      "Train Epoch: 115 [9600/19577 (49%)]\tLoss: 0.003876\n",
      "Train Epoch: 115 [12800/19577 (65%)]\tLoss: 0.002609\n",
      "Train Epoch: 115 [16000/19577 (82%)]\tLoss: 0.005238\n",
      "Train Epoch: 115 [19200/19577 (98%)]\tLoss: 0.003002\n",
      "\n",
      "Train loss: 0.008071768329649238\n"
     ]
    },
    {
     "name": "stderr",
     "output_type": "stream",
     "text": [
      "\r",
      " 23%|██▎       | 115/500 [16:35<51:01,  7.95s/it]"
     ]
    },
    {
     "name": "stdout",
     "output_type": "stream",
     "text": [
      "Test on 1143 samples\n",
      "R^2: -0.46\n",
      "Test Loss: 1.87%\n",
      "Train Epoch: 116 [0/19577 (0%)]\tLoss: 0.005909\n",
      "Train Epoch: 116 [3200/19577 (16%)]\tLoss: 0.006352\n",
      "Train Epoch: 116 [6400/19577 (33%)]\tLoss: 0.004280\n",
      "Train Epoch: 116 [9600/19577 (49%)]\tLoss: 0.006420\n",
      "Train Epoch: 116 [12800/19577 (65%)]\tLoss: 0.006094\n",
      "Train Epoch: 116 [16000/19577 (82%)]\tLoss: 0.006807\n",
      "Train Epoch: 116 [19200/19577 (98%)]\tLoss: 0.004394\n",
      "\n",
      "Train loss: 0.008056883623342644\n"
     ]
    },
    {
     "name": "stderr",
     "output_type": "stream",
     "text": [
      "\r",
      " 23%|██▎       | 116/500 [16:42<48:55,  7.64s/it]"
     ]
    },
    {
     "name": "stdout",
     "output_type": "stream",
     "text": [
      "Test on 1143 samples\n",
      "R^2: -1.12\n",
      "Test Loss: 1.87%\n",
      "Train Epoch: 117 [0/19577 (0%)]\tLoss: 0.005684\n",
      "Train Epoch: 117 [3200/19577 (16%)]\tLoss: 0.005940\n",
      "Train Epoch: 117 [6400/19577 (33%)]\tLoss: 0.008383\n",
      "Train Epoch: 117 [9600/19577 (49%)]\tLoss: 0.017476\n",
      "Train Epoch: 117 [12800/19577 (65%)]\tLoss: 0.006701\n",
      "Train Epoch: 117 [16000/19577 (82%)]\tLoss: 0.009898\n",
      "Train Epoch: 117 [19200/19577 (98%)]\tLoss: 0.003922\n",
      "\n",
      "Train loss: 0.008049298432393888\n"
     ]
    },
    {
     "name": "stderr",
     "output_type": "stream",
     "text": [
      "\r",
      " 23%|██▎       | 117/500 [16:49<47:42,  7.47s/it]"
     ]
    },
    {
     "name": "stdout",
     "output_type": "stream",
     "text": [
      "Test on 1143 samples\n",
      "R^2: -1.00\n",
      "Test Loss: 1.86%\n",
      "Train Epoch: 118 [0/19577 (0%)]\tLoss: 0.004379\n",
      "Train Epoch: 118 [3200/19577 (16%)]\tLoss: 0.008045\n",
      "Train Epoch: 118 [6400/19577 (33%)]\tLoss: 0.018329\n",
      "Train Epoch: 118 [9600/19577 (49%)]\tLoss: 0.004458\n",
      "Train Epoch: 118 [12800/19577 (65%)]\tLoss: 0.003152\n",
      "Train Epoch: 118 [16000/19577 (82%)]\tLoss: 0.334073\n",
      "Train Epoch: 118 [19200/19577 (98%)]\tLoss: 0.004533\n",
      "\n",
      "Train loss: 0.00803050035998846\n"
     ]
    },
    {
     "name": "stderr",
     "output_type": "stream",
     "text": [
      "\r",
      " 24%|██▎       | 118/500 [16:56<46:30,  7.30s/it]"
     ]
    },
    {
     "name": "stdout",
     "output_type": "stream",
     "text": [
      "Test on 1143 samples\n",
      "R^2: -0.53\n",
      "Test Loss: 1.86%\n",
      "Train Epoch: 119 [0/19577 (0%)]\tLoss: 0.006642\n",
      "Train Epoch: 119 [3200/19577 (16%)]\tLoss: 0.009244\n",
      "Train Epoch: 119 [6400/19577 (33%)]\tLoss: 0.005674\n",
      "Train Epoch: 119 [9600/19577 (49%)]\tLoss: 0.004124\n",
      "Train Epoch: 119 [12800/19577 (65%)]\tLoss: 0.006590\n",
      "Train Epoch: 119 [16000/19577 (82%)]\tLoss: 0.003978\n",
      "Train Epoch: 119 [19200/19577 (98%)]\tLoss: 0.004448\n",
      "\n",
      "Train loss: 0.008017585302392641\n"
     ]
    },
    {
     "name": "stderr",
     "output_type": "stream",
     "text": [
      "\r",
      " 24%|██▍       | 119/500 [17:03<45:37,  7.19s/it]"
     ]
    },
    {
     "name": "stdout",
     "output_type": "stream",
     "text": [
      "Test on 1143 samples\n",
      "R^2: -1.49\n",
      "Test Loss: 1.87%\n",
      "Train Epoch: 120 [0/19577 (0%)]\tLoss: 0.006815\n",
      "Train Epoch: 120 [3200/19577 (16%)]\tLoss: 0.004523\n",
      "Train Epoch: 120 [6400/19577 (33%)]\tLoss: 0.003088\n",
      "Train Epoch: 120 [9600/19577 (49%)]\tLoss: 0.003736\n",
      "Train Epoch: 120 [12800/19577 (65%)]\tLoss: 0.003292\n",
      "Train Epoch: 120 [16000/19577 (82%)]\tLoss: 0.020482\n",
      "Train Epoch: 120 [19200/19577 (98%)]\tLoss: 0.007670\n",
      "\n",
      "Train loss: 0.008011324827261026\n"
     ]
    },
    {
     "name": "stderr",
     "output_type": "stream",
     "text": [
      "\r",
      " 24%|██▍       | 120/500 [17:10<45:10,  7.13s/it]"
     ]
    },
    {
     "name": "stdout",
     "output_type": "stream",
     "text": [
      "Test on 1143 samples\n",
      "R^2: -1.92\n",
      "Test Loss: 1.88%\n",
      "Train Epoch: 121 [0/19577 (0%)]\tLoss: 0.008605\n",
      "Train Epoch: 121 [3200/19577 (16%)]\tLoss: 0.011628\n",
      "Train Epoch: 121 [6400/19577 (33%)]\tLoss: 0.003760\n",
      "Train Epoch: 121 [9600/19577 (49%)]\tLoss: 0.006123\n",
      "Train Epoch: 121 [12800/19577 (65%)]\tLoss: 0.005770\n",
      "Train Epoch: 121 [16000/19577 (82%)]\tLoss: 0.006554\n",
      "Train Epoch: 121 [19200/19577 (98%)]\tLoss: 0.006698\n",
      "\n",
      "Train loss: 0.0079999849876675\n"
     ]
    },
    {
     "name": "stderr",
     "output_type": "stream",
     "text": [
      "\r",
      " 24%|██▍       | 121/500 [17:17<44:36,  7.06s/it]"
     ]
    },
    {
     "name": "stdout",
     "output_type": "stream",
     "text": [
      "Test on 1143 samples\n",
      "R^2: -0.38\n",
      "Test Loss: 1.86%\n",
      "Train Epoch: 122 [0/19577 (0%)]\tLoss: 0.005084\n",
      "Train Epoch: 122 [3200/19577 (16%)]\tLoss: 0.004962\n",
      "Train Epoch: 122 [6400/19577 (33%)]\tLoss: 0.004942\n",
      "Train Epoch: 122 [9600/19577 (49%)]\tLoss: 0.006049\n",
      "Train Epoch: 122 [12800/19577 (65%)]\tLoss: 0.002475\n",
      "Train Epoch: 122 [16000/19577 (82%)]\tLoss: 0.003495\n",
      "Train Epoch: 122 [19200/19577 (98%)]\tLoss: 0.006534\n",
      "\n",
      "Train loss: 0.008135354315658143\n"
     ]
    },
    {
     "name": "stderr",
     "output_type": "stream",
     "text": [
      "\r",
      " 24%|██▍       | 122/500 [17:24<44:57,  7.14s/it]"
     ]
    },
    {
     "name": "stdout",
     "output_type": "stream",
     "text": [
      "Test on 1143 samples\n",
      "R^2: -39.34\n",
      "Test Loss: 2.33%\n",
      "Train Epoch: 123 [0/19577 (0%)]\tLoss: 0.007407\n",
      "Train Epoch: 123 [3200/19577 (16%)]\tLoss: 0.009424\n",
      "Train Epoch: 123 [6400/19577 (33%)]\tLoss: 0.007479\n",
      "Train Epoch: 123 [9600/19577 (49%)]\tLoss: 0.011324\n",
      "Train Epoch: 123 [12800/19577 (65%)]\tLoss: 0.004648\n",
      "Train Epoch: 123 [16000/19577 (82%)]\tLoss: 0.004678\n",
      "Train Epoch: 123 [19200/19577 (98%)]\tLoss: 0.005370\n",
      "\n",
      "Train loss: 0.007994438426073008\n"
     ]
    },
    {
     "name": "stderr",
     "output_type": "stream",
     "text": [
      "\r",
      " 25%|██▍       | 123/500 [17:34<50:15,  8.00s/it]"
     ]
    },
    {
     "name": "stdout",
     "output_type": "stream",
     "text": [
      "Test on 1143 samples\n",
      "R^2: -2.89\n",
      "Test Loss: 1.87%\n",
      "Train Epoch: 124 [0/19577 (0%)]\tLoss: 0.018764\n",
      "Train Epoch: 124 [3200/19577 (16%)]\tLoss: 0.005798\n",
      "Train Epoch: 124 [6400/19577 (33%)]\tLoss: 0.006734\n",
      "Train Epoch: 124 [9600/19577 (49%)]\tLoss: 0.002427\n",
      "Train Epoch: 124 [12800/19577 (65%)]\tLoss: 0.004605\n",
      "Train Epoch: 124 [16000/19577 (82%)]\tLoss: 0.005150\n",
      "Train Epoch: 124 [19200/19577 (98%)]\tLoss: 0.004745\n",
      "\n",
      "Train loss: 0.007974219397379974\n"
     ]
    },
    {
     "name": "stderr",
     "output_type": "stream",
     "text": [
      "\r",
      " 25%|██▍       | 124/500 [17:42<50:04,  7.99s/it]"
     ]
    },
    {
     "name": "stdout",
     "output_type": "stream",
     "text": [
      "Test on 1143 samples\n",
      "R^2: -4.50\n",
      "Test Loss: 1.88%\n",
      "Train Epoch: 125 [0/19577 (0%)]\tLoss: 0.010064\n",
      "Train Epoch: 125 [3200/19577 (16%)]\tLoss: 0.006654\n",
      "Train Epoch: 125 [6400/19577 (33%)]\tLoss: 0.008702\n",
      "Train Epoch: 125 [9600/19577 (49%)]\tLoss: 0.006560\n",
      "Train Epoch: 125 [12800/19577 (65%)]\tLoss: 0.005263\n",
      "Train Epoch: 125 [16000/19577 (82%)]\tLoss: 0.005790\n",
      "Train Epoch: 125 [19200/19577 (98%)]\tLoss: 0.017493\n",
      "\n",
      "Train loss: 0.00797490376805631\n"
     ]
    },
    {
     "name": "stderr",
     "output_type": "stream",
     "text": [
      "\r",
      " 25%|██▌       | 125/500 [17:50<49:03,  7.85s/it]"
     ]
    },
    {
     "name": "stdout",
     "output_type": "stream",
     "text": [
      "Test on 1143 samples\n",
      "R^2: -0.54\n",
      "Test Loss: 1.84%\n",
      "Train Epoch: 126 [0/19577 (0%)]\tLoss: 0.007942\n",
      "Train Epoch: 126 [3200/19577 (16%)]\tLoss: 0.003293\n",
      "Train Epoch: 126 [6400/19577 (33%)]\tLoss: 0.003375\n",
      "Train Epoch: 126 [9600/19577 (49%)]\tLoss: 0.005152\n",
      "Train Epoch: 126 [12800/19577 (65%)]\tLoss: 0.005139\n",
      "Train Epoch: 126 [16000/19577 (82%)]\tLoss: 0.004886\n",
      "Train Epoch: 126 [19200/19577 (98%)]\tLoss: 0.004419\n",
      "\n",
      "Train loss: 0.00797222580934199\n"
     ]
    },
    {
     "name": "stderr",
     "output_type": "stream",
     "text": [
      "\r",
      " 25%|██▌       | 126/500 [17:59<51:10,  8.21s/it]"
     ]
    },
    {
     "name": "stdout",
     "output_type": "stream",
     "text": [
      "Test on 1143 samples\n",
      "R^2: -0.43\n",
      "Test Loss: 1.84%\n",
      "Train Epoch: 127 [0/19577 (0%)]\tLoss: 0.003107\n",
      "Train Epoch: 127 [3200/19577 (16%)]\tLoss: 0.006927\n",
      "Train Epoch: 127 [6400/19577 (33%)]\tLoss: 0.004290\n",
      "Train Epoch: 127 [9600/19577 (49%)]\tLoss: 0.009170\n",
      "Train Epoch: 127 [12800/19577 (65%)]\tLoss: 0.006183\n",
      "Train Epoch: 127 [16000/19577 (82%)]\tLoss: 0.019469\n",
      "Train Epoch: 127 [19200/19577 (98%)]\tLoss: 0.002964\n",
      "\n",
      "Train loss: 0.007956389282233526\n"
     ]
    },
    {
     "name": "stderr",
     "output_type": "stream",
     "text": [
      "\r",
      " 25%|██▌       | 127/500 [18:07<51:01,  8.21s/it]"
     ]
    },
    {
     "name": "stdout",
     "output_type": "stream",
     "text": [
      "Test on 1143 samples\n",
      "R^2: -0.39\n",
      "Test Loss: 1.84%\n",
      "Train Epoch: 128 [0/19577 (0%)]\tLoss: 0.012836\n",
      "Train Epoch: 128 [3200/19577 (16%)]\tLoss: 0.007107\n",
      "Train Epoch: 128 [6400/19577 (33%)]\tLoss: 0.009847\n",
      "Train Epoch: 128 [9600/19577 (49%)]\tLoss: 0.005952\n",
      "Train Epoch: 128 [12800/19577 (65%)]\tLoss: 0.006487\n",
      "Train Epoch: 128 [16000/19577 (82%)]\tLoss: 0.005340\n",
      "Train Epoch: 128 [19200/19577 (98%)]\tLoss: 0.005550\n",
      "\n",
      "Train loss: 0.007948931158988986\n"
     ]
    },
    {
     "name": "stderr",
     "output_type": "stream",
     "text": [
      "\r",
      " 26%|██▌       | 128/500 [18:14<48:42,  7.86s/it]"
     ]
    },
    {
     "name": "stdout",
     "output_type": "stream",
     "text": [
      "Test on 1143 samples\n",
      "R^2: -2.11\n",
      "Test Loss: 1.85%\n",
      "Train Epoch: 129 [0/19577 (0%)]\tLoss: 0.006172\n",
      "Train Epoch: 129 [3200/19577 (16%)]\tLoss: 0.006288\n",
      "Train Epoch: 129 [6400/19577 (33%)]\tLoss: 0.003500\n",
      "Train Epoch: 129 [9600/19577 (49%)]\tLoss: 0.008959\n",
      "Train Epoch: 129 [12800/19577 (65%)]\tLoss: 0.002285\n",
      "Train Epoch: 129 [16000/19577 (82%)]\tLoss: 0.002677\n",
      "Train Epoch: 129 [19200/19577 (98%)]\tLoss: 0.007368\n",
      "\n",
      "Train loss: 0.007940434442918285\n"
     ]
    },
    {
     "name": "stderr",
     "output_type": "stream",
     "text": [
      "\r",
      " 26%|██▌       | 129/500 [18:23<50:11,  8.12s/it]"
     ]
    },
    {
     "name": "stdout",
     "output_type": "stream",
     "text": [
      "Test on 1143 samples\n",
      "R^2: -0.42\n",
      "Test Loss: 1.83%\n",
      "Train Epoch: 130 [0/19577 (0%)]\tLoss: 0.002219\n",
      "Train Epoch: 130 [3200/19577 (16%)]\tLoss: 0.004221\n",
      "Train Epoch: 130 [6400/19577 (33%)]\tLoss: 0.006189\n",
      "Train Epoch: 130 [9600/19577 (49%)]\tLoss: 0.005677\n",
      "Train Epoch: 130 [12800/19577 (65%)]\tLoss: 0.003880\n",
      "Train Epoch: 130 [16000/19577 (82%)]\tLoss: 0.006293\n",
      "Train Epoch: 130 [19200/19577 (98%)]\tLoss: 0.007413\n",
      "\n",
      "Train loss: 0.007916904668615875\n"
     ]
    },
    {
     "name": "stderr",
     "output_type": "stream",
     "text": [
      "\r",
      " 26%|██▌       | 130/500 [18:32<51:00,  8.27s/it]"
     ]
    },
    {
     "name": "stdout",
     "output_type": "stream",
     "text": [
      "Test on 1143 samples\n",
      "R^2: -1.54\n",
      "Test Loss: 1.85%\n",
      "Train Epoch: 131 [0/19577 (0%)]\tLoss: 0.003389\n",
      "Train Epoch: 131 [3200/19577 (16%)]\tLoss: 0.010995\n",
      "Train Epoch: 131 [6400/19577 (33%)]\tLoss: 0.006128\n",
      "Train Epoch: 131 [9600/19577 (49%)]\tLoss: 0.010167\n",
      "Train Epoch: 131 [12800/19577 (65%)]\tLoss: 0.006278\n",
      "Train Epoch: 131 [16000/19577 (82%)]\tLoss: 0.008390\n",
      "Train Epoch: 131 [19200/19577 (98%)]\tLoss: 0.006442\n",
      "\n",
      "Train loss: 0.007931229452986051\n"
     ]
    },
    {
     "name": "stderr",
     "output_type": "stream",
     "text": [
      "\r",
      " 26%|██▌       | 131/500 [18:39<48:32,  7.89s/it]"
     ]
    },
    {
     "name": "stdout",
     "output_type": "stream",
     "text": [
      "Test on 1143 samples\n",
      "R^2: -0.29\n",
      "Test Loss: 1.84%\n",
      "Train Epoch: 132 [0/19577 (0%)]\tLoss: 0.003992\n",
      "Train Epoch: 132 [3200/19577 (16%)]\tLoss: 0.002912\n",
      "Train Epoch: 132 [6400/19577 (33%)]\tLoss: 0.005705\n",
      "Train Epoch: 132 [9600/19577 (49%)]\tLoss: 0.006838\n",
      "Train Epoch: 132 [12800/19577 (65%)]\tLoss: 0.002082\n",
      "Train Epoch: 132 [16000/19577 (82%)]\tLoss: 0.005887\n",
      "Train Epoch: 132 [19200/19577 (98%)]\tLoss: 0.004288\n",
      "\n",
      "Train loss: 0.007900451878359652\n"
     ]
    },
    {
     "name": "stderr",
     "output_type": "stream",
     "text": [
      "\r",
      " 26%|██▋       | 132/500 [18:46<46:50,  7.64s/it]"
     ]
    },
    {
     "name": "stdout",
     "output_type": "stream",
     "text": [
      "Test on 1143 samples\n",
      "R^2: -1.04\n",
      "Test Loss: 1.84%\n",
      "Train Epoch: 133 [0/19577 (0%)]\tLoss: 0.006446\n",
      "Train Epoch: 133 [3200/19577 (16%)]\tLoss: 0.006401\n",
      "Train Epoch: 133 [6400/19577 (33%)]\tLoss: 0.012833\n",
      "Train Epoch: 133 [9600/19577 (49%)]\tLoss: 0.006360\n",
      "Train Epoch: 133 [12800/19577 (65%)]\tLoss: 0.005989\n",
      "Train Epoch: 133 [16000/19577 (82%)]\tLoss: 0.005322\n",
      "Train Epoch: 133 [19200/19577 (98%)]\tLoss: 0.004979\n",
      "\n",
      "Train loss: 0.00790866241779702\n"
     ]
    },
    {
     "name": "stderr",
     "output_type": "stream",
     "text": [
      "\r",
      " 27%|██▋       | 133/500 [18:53<45:31,  7.44s/it]"
     ]
    },
    {
     "name": "stdout",
     "output_type": "stream",
     "text": [
      "Test on 1143 samples\n",
      "R^2: -1.53\n",
      "Test Loss: 1.85%\n",
      "Train Epoch: 134 [0/19577 (0%)]\tLoss: 0.006971\n",
      "Train Epoch: 134 [3200/19577 (16%)]\tLoss: 0.001758\n",
      "Train Epoch: 134 [6400/19577 (33%)]\tLoss: 0.003122\n",
      "Train Epoch: 134 [9600/19577 (49%)]\tLoss: 0.004753\n",
      "Train Epoch: 134 [12800/19577 (65%)]\tLoss: 0.009751\n",
      "Train Epoch: 134 [16000/19577 (82%)]\tLoss: 0.009721\n",
      "Train Epoch: 134 [19200/19577 (98%)]\tLoss: 0.007772\n",
      "\n",
      "Train loss: 0.007888077343951035\n"
     ]
    },
    {
     "name": "stderr",
     "output_type": "stream",
     "text": [
      "\r",
      " 27%|██▋       | 134/500 [19:00<44:50,  7.35s/it]"
     ]
    },
    {
     "name": "stdout",
     "output_type": "stream",
     "text": [
      "Test on 1143 samples\n",
      "R^2: -1.02\n",
      "Test Loss: 1.83%\n",
      "Train Epoch: 135 [0/19577 (0%)]\tLoss: 0.004096\n",
      "Train Epoch: 135 [3200/19577 (16%)]\tLoss: 0.004845\n",
      "Train Epoch: 135 [6400/19577 (33%)]\tLoss: 0.005213\n",
      "Train Epoch: 135 [9600/19577 (49%)]\tLoss: 0.006180\n",
      "Train Epoch: 135 [12800/19577 (65%)]\tLoss: 0.003969\n",
      "Train Epoch: 135 [16000/19577 (82%)]\tLoss: 0.014294\n",
      "Train Epoch: 135 [19200/19577 (98%)]\tLoss: 0.007271\n",
      "\n",
      "Train loss: 0.007903338769858617\n"
     ]
    },
    {
     "name": "stderr",
     "output_type": "stream",
     "text": [
      "\r",
      " 27%|██▋       | 135/500 [19:07<44:21,  7.29s/it]"
     ]
    },
    {
     "name": "stdout",
     "output_type": "stream",
     "text": [
      "Test on 1143 samples\n",
      "R^2: -1.42\n",
      "Test Loss: 1.84%\n",
      "Train Epoch: 136 [0/19577 (0%)]\tLoss: 0.005096\n",
      "Train Epoch: 136 [3200/19577 (16%)]\tLoss: 0.043203\n",
      "Train Epoch: 136 [6400/19577 (33%)]\tLoss: 0.007542\n",
      "Train Epoch: 136 [9600/19577 (49%)]\tLoss: 0.018616\n",
      "Train Epoch: 136 [12800/19577 (65%)]\tLoss: 0.007351\n",
      "Train Epoch: 136 [16000/19577 (82%)]\tLoss: 0.006819\n",
      "Train Epoch: 136 [19200/19577 (98%)]\tLoss: 0.010938\n",
      "\n",
      "Train loss: 0.007877463930639518\n"
     ]
    },
    {
     "name": "stderr",
     "output_type": "stream",
     "text": [
      "\r",
      " 27%|██▋       | 136/500 [19:14<44:22,  7.31s/it]"
     ]
    },
    {
     "name": "stdout",
     "output_type": "stream",
     "text": [
      "Test on 1143 samples\n",
      "R^2: -0.76\n",
      "Test Loss: 1.82%\n",
      "Train Epoch: 137 [0/19577 (0%)]\tLoss: 0.011422\n",
      "Train Epoch: 137 [3200/19577 (16%)]\tLoss: 0.004247\n",
      "Train Epoch: 137 [6400/19577 (33%)]\tLoss: 0.006041\n",
      "Train Epoch: 137 [9600/19577 (49%)]\tLoss: 0.003352\n",
      "Train Epoch: 137 [12800/19577 (65%)]\tLoss: 0.006104\n",
      "Train Epoch: 137 [16000/19577 (82%)]\tLoss: 0.004837\n",
      "Train Epoch: 137 [19200/19577 (98%)]\tLoss: 0.005009\n",
      "\n",
      "Train loss: 0.00788752427948578\n"
     ]
    },
    {
     "name": "stderr",
     "output_type": "stream",
     "text": [
      "\r",
      " 27%|██▋       | 137/500 [19:21<43:59,  7.27s/it]"
     ]
    },
    {
     "name": "stdout",
     "output_type": "stream",
     "text": [
      "Test on 1143 samples\n",
      "R^2: -0.56\n",
      "Test Loss: 1.82%\n",
      "Train Epoch: 138 [0/19577 (0%)]\tLoss: 0.005423\n",
      "Train Epoch: 138 [3200/19577 (16%)]\tLoss: 0.003494\n",
      "Train Epoch: 138 [6400/19577 (33%)]\tLoss: 0.007448\n",
      "Train Epoch: 138 [9600/19577 (49%)]\tLoss: 0.006337\n",
      "Train Epoch: 138 [12800/19577 (65%)]\tLoss: 0.003506\n",
      "Train Epoch: 138 [16000/19577 (82%)]\tLoss: 0.002954\n",
      "Train Epoch: 138 [19200/19577 (98%)]\tLoss: 0.007630\n",
      "\n",
      "Train loss: 0.00786721319176281\n"
     ]
    },
    {
     "name": "stderr",
     "output_type": "stream",
     "text": [
      "\r",
      " 28%|██▊       | 138/500 [19:31<48:01,  7.96s/it]"
     ]
    },
    {
     "name": "stdout",
     "output_type": "stream",
     "text": [
      "Test on 1143 samples\n",
      "R^2: -0.42\n",
      "Test Loss: 1.82%\n",
      "Train Epoch: 139 [0/19577 (0%)]\tLoss: 0.005164\n",
      "Train Epoch: 139 [3200/19577 (16%)]\tLoss: 0.002383\n",
      "Train Epoch: 139 [6400/19577 (33%)]\tLoss: 0.006647\n",
      "Train Epoch: 139 [9600/19577 (49%)]\tLoss: 0.004225\n",
      "Train Epoch: 139 [12800/19577 (65%)]\tLoss: 0.007538\n",
      "Train Epoch: 139 [16000/19577 (82%)]\tLoss: 0.006784\n",
      "Train Epoch: 139 [19200/19577 (98%)]\tLoss: 0.002571\n",
      "\n",
      "Train loss: 0.007849129767528449\n"
     ]
    },
    {
     "name": "stderr",
     "output_type": "stream",
     "text": [
      "\r",
      " 28%|██▊       | 139/500 [19:38<46:15,  7.69s/it]"
     ]
    },
    {
     "name": "stdout",
     "output_type": "stream",
     "text": [
      "Test on 1143 samples\n",
      "R^2: -1.00\n",
      "Test Loss: 1.82%\n",
      "Train Epoch: 140 [0/19577 (0%)]\tLoss: 0.005798\n",
      "Train Epoch: 140 [3200/19577 (16%)]\tLoss: 0.006201\n",
      "Train Epoch: 140 [6400/19577 (33%)]\tLoss: 0.016991\n",
      "Train Epoch: 140 [9600/19577 (49%)]\tLoss: 0.013559\n",
      "Train Epoch: 140 [12800/19577 (65%)]\tLoss: 0.010177\n",
      "Train Epoch: 140 [16000/19577 (82%)]\tLoss: 0.009231\n",
      "Train Epoch: 140 [19200/19577 (98%)]\tLoss: 0.004002\n",
      "\n",
      "Train loss: 0.007852086300118613\n"
     ]
    },
    {
     "name": "stderr",
     "output_type": "stream",
     "text": [
      "\r",
      " 28%|██▊       | 140/500 [19:47<47:56,  7.99s/it]"
     ]
    },
    {
     "name": "stdout",
     "output_type": "stream",
     "text": [
      "Test on 1143 samples\n",
      "R^2: -0.54\n",
      "Test Loss: 1.82%\n",
      "Train Epoch: 141 [0/19577 (0%)]\tLoss: 0.004133\n",
      "Train Epoch: 141 [3200/19577 (16%)]\tLoss: 0.002401\n",
      "Train Epoch: 141 [6400/19577 (33%)]\tLoss: 0.008461\n",
      "Train Epoch: 141 [9600/19577 (49%)]\tLoss: 0.005539\n",
      "Train Epoch: 141 [12800/19577 (65%)]\tLoss: 0.006120\n",
      "Train Epoch: 141 [16000/19577 (82%)]\tLoss: 0.010494\n",
      "Train Epoch: 141 [19200/19577 (98%)]\tLoss: 0.003373\n",
      "\n",
      "Train loss: 0.007849169570155247\n"
     ]
    },
    {
     "name": "stderr",
     "output_type": "stream",
     "text": [
      "\r",
      " 28%|██▊       | 141/500 [19:55<47:48,  7.99s/it]"
     ]
    },
    {
     "name": "stdout",
     "output_type": "stream",
     "text": [
      "Test on 1143 samples\n",
      "R^2: -0.29\n",
      "Test Loss: 1.82%\n",
      "Train Epoch: 142 [0/19577 (0%)]\tLoss: 0.003332\n",
      "Train Epoch: 142 [3200/19577 (16%)]\tLoss: 0.004835\n",
      "Train Epoch: 142 [6400/19577 (33%)]\tLoss: 0.005108\n",
      "Train Epoch: 142 [9600/19577 (49%)]\tLoss: 0.006972\n",
      "Train Epoch: 142 [12800/19577 (65%)]\tLoss: 0.008461\n",
      "Train Epoch: 142 [16000/19577 (82%)]\tLoss: 0.005228\n",
      "Train Epoch: 142 [19200/19577 (98%)]\tLoss: 0.005247\n",
      "\n",
      "Train loss: 0.007836291511707446\n"
     ]
    },
    {
     "name": "stderr",
     "output_type": "stream",
     "text": [
      "\r",
      " 28%|██▊       | 142/500 [20:02<46:10,  7.74s/it]"
     ]
    },
    {
     "name": "stdout",
     "output_type": "stream",
     "text": [
      "Test on 1143 samples\n",
      "R^2: -0.34\n",
      "Test Loss: 1.81%\n",
      "Train Epoch: 143 [0/19577 (0%)]\tLoss: 0.006146\n",
      "Train Epoch: 143 [3200/19577 (16%)]\tLoss: 0.003124\n",
      "Train Epoch: 143 [6400/19577 (33%)]\tLoss: 0.010289\n",
      "Train Epoch: 143 [9600/19577 (49%)]\tLoss: 0.006133\n",
      "Train Epoch: 143 [12800/19577 (65%)]\tLoss: 0.005691\n",
      "Train Epoch: 143 [16000/19577 (82%)]\tLoss: 0.005215\n",
      "Train Epoch: 143 [19200/19577 (98%)]\tLoss: 0.009943\n",
      "\n",
      "Train loss: 0.007833262233997945\n"
     ]
    },
    {
     "name": "stderr",
     "output_type": "stream",
     "text": [
      "\r",
      " 29%|██▊       | 143/500 [20:10<47:15,  7.94s/it]"
     ]
    },
    {
     "name": "stdout",
     "output_type": "stream",
     "text": [
      "Test on 1143 samples\n",
      "R^2: -0.67\n",
      "Test Loss: 1.81%\n",
      "Train Epoch: 144 [0/19577 (0%)]\tLoss: 0.006193\n",
      "Train Epoch: 144 [3200/19577 (16%)]\tLoss: 0.005879\n",
      "Train Epoch: 144 [6400/19577 (33%)]\tLoss: 0.009438\n",
      "Train Epoch: 144 [9600/19577 (49%)]\tLoss: 0.007967\n",
      "Train Epoch: 144 [12800/19577 (65%)]\tLoss: 0.009763\n",
      "Train Epoch: 144 [16000/19577 (82%)]\tLoss: 0.005871\n",
      "Train Epoch: 144 [19200/19577 (98%)]\tLoss: 0.002695\n",
      "\n",
      "Train loss: 0.007830194393142425\n"
     ]
    },
    {
     "name": "stderr",
     "output_type": "stream",
     "text": [
      "\r",
      " 29%|██▉       | 144/500 [20:17<45:20,  7.64s/it]"
     ]
    },
    {
     "name": "stdout",
     "output_type": "stream",
     "text": [
      "Test on 1143 samples\n",
      "R^2: -0.29\n",
      "Test Loss: 1.81%\n",
      "Train Epoch: 145 [0/19577 (0%)]\tLoss: 0.006881\n",
      "Train Epoch: 145 [3200/19577 (16%)]\tLoss: 0.007312\n",
      "Train Epoch: 145 [6400/19577 (33%)]\tLoss: 0.006162\n",
      "Train Epoch: 145 [9600/19577 (49%)]\tLoss: 0.004460\n",
      "Train Epoch: 145 [12800/19577 (65%)]\tLoss: 0.003485\n",
      "Train Epoch: 145 [16000/19577 (82%)]\tLoss: 0.005402\n",
      "Train Epoch: 145 [19200/19577 (98%)]\tLoss: 0.006247\n",
      "\n",
      "Train loss: 0.007826531655535564\n"
     ]
    },
    {
     "name": "stderr",
     "output_type": "stream",
     "text": [
      "\r",
      " 29%|██▉       | 145/500 [20:25<46:00,  7.78s/it]"
     ]
    },
    {
     "name": "stdout",
     "output_type": "stream",
     "text": [
      "Test on 1143 samples\n",
      "R^2: -1.65\n",
      "Test Loss: 1.83%\n",
      "Train Epoch: 146 [0/19577 (0%)]\tLoss: 0.004230\n",
      "Train Epoch: 146 [3200/19577 (16%)]\tLoss: 0.004848\n",
      "Train Epoch: 146 [6400/19577 (33%)]\tLoss: 0.004710\n",
      "Train Epoch: 146 [9600/19577 (49%)]\tLoss: 0.005449\n",
      "Train Epoch: 146 [12800/19577 (65%)]\tLoss: 0.004720\n",
      "Train Epoch: 146 [16000/19577 (82%)]\tLoss: 0.005975\n",
      "Train Epoch: 146 [19200/19577 (98%)]\tLoss: 0.009619\n",
      "\n",
      "Train loss: 0.007804478441435065\n"
     ]
    },
    {
     "name": "stderr",
     "output_type": "stream",
     "text": [
      "\r",
      " 29%|██▉       | 146/500 [20:32<44:34,  7.56s/it]"
     ]
    },
    {
     "name": "stdout",
     "output_type": "stream",
     "text": [
      "Test on 1143 samples\n",
      "R^2: -0.88\n",
      "Test Loss: 1.81%\n",
      "Train Epoch: 147 [0/19577 (0%)]\tLoss: 0.008606\n",
      "Train Epoch: 147 [3200/19577 (16%)]\tLoss: 0.003741\n",
      "Train Epoch: 147 [6400/19577 (33%)]\tLoss: 0.004379\n",
      "Train Epoch: 147 [9600/19577 (49%)]\tLoss: 0.005490\n",
      "Train Epoch: 147 [12800/19577 (65%)]\tLoss: 0.004780\n",
      "Train Epoch: 147 [16000/19577 (82%)]\tLoss: 0.007841\n",
      "Train Epoch: 147 [19200/19577 (98%)]\tLoss: 0.007326\n",
      "\n",
      "Train loss: 0.00781482506430787\n"
     ]
    },
    {
     "name": "stderr",
     "output_type": "stream",
     "text": [
      "\r",
      " 29%|██▉       | 147/500 [20:40<44:19,  7.53s/it]"
     ]
    },
    {
     "name": "stdout",
     "output_type": "stream",
     "text": [
      "Test on 1143 samples\n",
      "R^2: -1.19\n",
      "Test Loss: 1.82%\n",
      "Train Epoch: 148 [0/19577 (0%)]\tLoss: 0.003061\n",
      "Train Epoch: 148 [3200/19577 (16%)]\tLoss: 0.016932\n",
      "Train Epoch: 148 [6400/19577 (33%)]\tLoss: 0.006177\n",
      "Train Epoch: 148 [9600/19577 (49%)]\tLoss: 0.003627\n",
      "Train Epoch: 148 [12800/19577 (65%)]\tLoss: 0.005427\n",
      "Train Epoch: 148 [16000/19577 (82%)]\tLoss: 0.004910\n",
      "Train Epoch: 148 [19200/19577 (98%)]\tLoss: 0.005486\n",
      "\n",
      "Train loss: 0.007793189619905224\n"
     ]
    },
    {
     "name": "stderr",
     "output_type": "stream",
     "text": [
      "\r",
      " 30%|██▉       | 148/500 [20:47<44:20,  7.56s/it]"
     ]
    },
    {
     "name": "stdout",
     "output_type": "stream",
     "text": [
      "Test on 1143 samples\n",
      "R^2: -0.34\n",
      "Test Loss: 1.80%\n",
      "Train Epoch: 149 [0/19577 (0%)]\tLoss: 0.004968\n",
      "Train Epoch: 149 [3200/19577 (16%)]\tLoss: 0.002065\n",
      "Train Epoch: 149 [6400/19577 (33%)]\tLoss: 0.005441\n",
      "Train Epoch: 149 [9600/19577 (49%)]\tLoss: 0.008158\n",
      "Train Epoch: 149 [12800/19577 (65%)]\tLoss: 0.006529\n",
      "Train Epoch: 149 [16000/19577 (82%)]\tLoss: 0.003829\n",
      "Train Epoch: 149 [19200/19577 (98%)]\tLoss: 0.004646\n",
      "\n",
      "Train loss: 0.007797620890759467\n"
     ]
    },
    {
     "name": "stderr",
     "output_type": "stream",
     "text": [
      "\r",
      " 30%|██▉       | 149/500 [20:55<43:51,  7.50s/it]"
     ]
    },
    {
     "name": "stdout",
     "output_type": "stream",
     "text": [
      "Test on 1143 samples\n",
      "R^2: -0.75\n",
      "Test Loss: 1.81%\n",
      "Train Epoch: 150 [0/19577 (0%)]\tLoss: 0.015287\n",
      "Train Epoch: 150 [3200/19577 (16%)]\tLoss: 0.003292\n",
      "Train Epoch: 150 [6400/19577 (33%)]\tLoss: 0.008204\n",
      "Train Epoch: 150 [9600/19577 (49%)]\tLoss: 0.004013\n",
      "Train Epoch: 150 [12800/19577 (65%)]\tLoss: 0.005892\n",
      "Train Epoch: 150 [16000/19577 (82%)]\tLoss: 0.005568\n",
      "Train Epoch: 150 [19200/19577 (98%)]\tLoss: 0.005159\n",
      "\n",
      "Train loss: 0.007801732811559405\n"
     ]
    },
    {
     "name": "stderr",
     "output_type": "stream",
     "text": [
      "\r",
      " 30%|███       | 150/500 [21:02<42:51,  7.35s/it]"
     ]
    },
    {
     "name": "stdout",
     "output_type": "stream",
     "text": [
      "Test on 1143 samples\n",
      "R^2: -1.12\n",
      "Test Loss: 1.81%\n",
      "Train Epoch: 151 [0/19577 (0%)]\tLoss: 0.002333\n",
      "Train Epoch: 151 [3200/19577 (16%)]\tLoss: 0.003187\n",
      "Train Epoch: 151 [6400/19577 (33%)]\tLoss: 0.020694\n",
      "Train Epoch: 151 [9600/19577 (49%)]\tLoss: 0.009386\n",
      "Train Epoch: 151 [12800/19577 (65%)]\tLoss: 0.009554\n",
      "Train Epoch: 151 [16000/19577 (82%)]\tLoss: 0.006027\n",
      "Train Epoch: 151 [19200/19577 (98%)]\tLoss: 0.006659\n",
      "\n",
      "Train loss: 0.0077601198070481716\n"
     ]
    },
    {
     "name": "stderr",
     "output_type": "stream",
     "text": [
      "\r",
      " 30%|███       | 151/500 [21:09<42:06,  7.24s/it]"
     ]
    },
    {
     "name": "stdout",
     "output_type": "stream",
     "text": [
      "Test on 1143 samples\n",
      "R^2: -0.23\n",
      "Test Loss: 1.80%\n",
      "Train Epoch: 152 [0/19577 (0%)]\tLoss: 0.005242\n",
      "Train Epoch: 152 [3200/19577 (16%)]\tLoss: 0.007819\n",
      "Train Epoch: 152 [6400/19577 (33%)]\tLoss: 0.003883\n",
      "Train Epoch: 152 [9600/19577 (49%)]\tLoss: 0.005494\n",
      "Train Epoch: 152 [12800/19577 (65%)]\tLoss: 0.003954\n",
      "Train Epoch: 152 [16000/19577 (82%)]\tLoss: 0.003391\n",
      "Train Epoch: 152 [19200/19577 (98%)]\tLoss: 0.013729\n",
      "\n",
      "Train loss: 0.007776737945105612\n"
     ]
    },
    {
     "name": "stderr",
     "output_type": "stream",
     "text": [
      "\r",
      " 30%|███       | 152/500 [21:24<56:14,  9.70s/it]"
     ]
    },
    {
     "name": "stdout",
     "output_type": "stream",
     "text": [
      "Test on 1143 samples\n",
      "R^2: -2.52\n",
      "Test Loss: 1.83%\n",
      "Train Epoch: 153 [0/19577 (0%)]\tLoss: 0.002796\n",
      "Train Epoch: 153 [3200/19577 (16%)]\tLoss: 0.008307\n",
      "Train Epoch: 153 [6400/19577 (33%)]\tLoss: 0.010889\n",
      "Train Epoch: 153 [9600/19577 (49%)]\tLoss: 0.005217\n",
      "Train Epoch: 153 [12800/19577 (65%)]\tLoss: 0.011119\n",
      "Train Epoch: 153 [16000/19577 (82%)]\tLoss: 0.016223\n",
      "Train Epoch: 153 [19200/19577 (98%)]\tLoss: 0.006579\n",
      "\n",
      "Train loss: 0.007784811678659049\n"
     ]
    },
    {
     "name": "stderr",
     "output_type": "stream",
     "text": [
      "\r",
      " 31%|███       | 153/500 [21:39<1:05:05, 11.25s/it]"
     ]
    },
    {
     "name": "stdout",
     "output_type": "stream",
     "text": [
      "Test on 1143 samples\n",
      "R^2: -0.29\n",
      "Test Loss: 1.79%\n",
      "Train Epoch: 154 [0/19577 (0%)]\tLoss: 0.008197\n",
      "Train Epoch: 154 [3200/19577 (16%)]\tLoss: 0.007170\n",
      "Train Epoch: 154 [6400/19577 (33%)]\tLoss: 0.004773\n",
      "Train Epoch: 154 [9600/19577 (49%)]\tLoss: 0.009827\n",
      "Train Epoch: 154 [12800/19577 (65%)]\tLoss: 0.005620\n",
      "Train Epoch: 154 [16000/19577 (82%)]\tLoss: 0.005084\n",
      "Train Epoch: 154 [19200/19577 (98%)]\tLoss: 0.005038\n",
      "\n",
      "Train loss: 0.007760534401575188\n"
     ]
    },
    {
     "name": "stderr",
     "output_type": "stream",
     "text": [
      "\r",
      " 31%|███       | 154/500 [21:48<59:56, 10.39s/it]  "
     ]
    },
    {
     "name": "stdout",
     "output_type": "stream",
     "text": [
      "Test on 1143 samples\n",
      "R^2: -0.68\n",
      "Test Loss: 1.80%\n",
      "Train Epoch: 155 [0/19577 (0%)]\tLoss: 0.002693\n",
      "Train Epoch: 155 [3200/19577 (16%)]\tLoss: 0.017898\n",
      "Train Epoch: 155 [6400/19577 (33%)]\tLoss: 0.002069\n",
      "Train Epoch: 155 [9600/19577 (49%)]\tLoss: 0.012648\n",
      "Train Epoch: 155 [12800/19577 (65%)]\tLoss: 0.005698\n",
      "Train Epoch: 155 [16000/19577 (82%)]\tLoss: 0.003708\n",
      "Train Epoch: 155 [19200/19577 (98%)]\tLoss: 0.006961\n",
      "\n",
      "Train loss: 0.007748435005649096\n"
     ]
    },
    {
     "name": "stderr",
     "output_type": "stream",
     "text": [
      "\r",
      " 31%|███       | 155/500 [21:56<56:01,  9.74s/it]"
     ]
    },
    {
     "name": "stdout",
     "output_type": "stream",
     "text": [
      "Test on 1143 samples\n",
      "R^2: -0.74\n",
      "Test Loss: 1.79%\n",
      "Train Epoch: 156 [0/19577 (0%)]\tLoss: 0.006400\n",
      "Train Epoch: 156 [3200/19577 (16%)]\tLoss: 0.005073\n",
      "Train Epoch: 156 [6400/19577 (33%)]\tLoss: 0.008773\n",
      "Train Epoch: 156 [9600/19577 (49%)]\tLoss: 0.006984\n",
      "Train Epoch: 156 [12800/19577 (65%)]\tLoss: 0.006280\n",
      "Train Epoch: 156 [16000/19577 (82%)]\tLoss: 0.005641\n",
      "Train Epoch: 156 [19200/19577 (98%)]\tLoss: 0.002934\n",
      "\n",
      "Train loss: 0.0077537658306301325\n"
     ]
    },
    {
     "name": "stderr",
     "output_type": "stream",
     "text": [
      "\r",
      " 31%|███       | 156/500 [22:03<51:49,  9.04s/it]"
     ]
    },
    {
     "name": "stdout",
     "output_type": "stream",
     "text": [
      "Test on 1143 samples\n",
      "R^2: -0.20\n",
      "Test Loss: 1.79%\n",
      "Train Epoch: 157 [0/19577 (0%)]\tLoss: 0.007948\n",
      "Train Epoch: 157 [3200/19577 (16%)]\tLoss: 0.006971\n",
      "Train Epoch: 157 [6400/19577 (33%)]\tLoss: 0.006325\n",
      "Train Epoch: 157 [9600/19577 (49%)]\tLoss: 0.006067\n",
      "Train Epoch: 157 [12800/19577 (65%)]\tLoss: 0.004504\n",
      "Train Epoch: 157 [16000/19577 (82%)]\tLoss: 0.006302\n",
      "Train Epoch: 157 [19200/19577 (98%)]\tLoss: 0.008105\n",
      "\n",
      "Train loss: 0.007741956385704719\n"
     ]
    },
    {
     "name": "stderr",
     "output_type": "stream",
     "text": [
      "\r",
      " 31%|███▏      | 157/500 [22:12<51:43,  9.05s/it]"
     ]
    },
    {
     "name": "stdout",
     "output_type": "stream",
     "text": [
      "Test on 1143 samples\n",
      "R^2: -0.30\n",
      "Test Loss: 1.79%\n",
      "Train Epoch: 158 [0/19577 (0%)]\tLoss: 0.003666\n",
      "Train Epoch: 158 [3200/19577 (16%)]\tLoss: 0.019395\n",
      "Train Epoch: 158 [6400/19577 (33%)]\tLoss: 0.002957\n",
      "Train Epoch: 158 [9600/19577 (49%)]\tLoss: 0.005417\n",
      "Train Epoch: 158 [12800/19577 (65%)]\tLoss: 0.006249\n",
      "Train Epoch: 158 [16000/19577 (82%)]\tLoss: 0.004373\n",
      "Train Epoch: 158 [19200/19577 (98%)]\tLoss: 0.004575\n",
      "\n",
      "Train loss: 0.007739914781292231\n"
     ]
    },
    {
     "name": "stderr",
     "output_type": "stream",
     "text": [
      "\r",
      " 32%|███▏      | 158/500 [22:21<50:22,  8.84s/it]"
     ]
    },
    {
     "name": "stdout",
     "output_type": "stream",
     "text": [
      "Test on 1143 samples\n",
      "R^2: -7.73\n",
      "Test Loss: 1.87%\n",
      "Train Epoch: 159 [0/19577 (0%)]\tLoss: 0.007602\n",
      "Train Epoch: 159 [3200/19577 (16%)]\tLoss: 0.007436\n",
      "Train Epoch: 159 [6400/19577 (33%)]\tLoss: 0.005392\n",
      "Train Epoch: 159 [9600/19577 (49%)]\tLoss: 0.006528\n",
      "Train Epoch: 159 [12800/19577 (65%)]\tLoss: 0.004457\n",
      "Train Epoch: 159 [16000/19577 (82%)]\tLoss: 0.007471\n",
      "Train Epoch: 159 [19200/19577 (98%)]\tLoss: 0.005164\n",
      "\n",
      "Train loss: 0.007734778356202726\n"
     ]
    },
    {
     "name": "stderr",
     "output_type": "stream",
     "text": [
      "\r",
      " 32%|███▏      | 159/500 [22:30<52:00,  9.15s/it]"
     ]
    },
    {
     "name": "stdout",
     "output_type": "stream",
     "text": [
      "Test on 1143 samples\n",
      "R^2: -0.69\n",
      "Test Loss: 1.80%\n",
      "Train Epoch: 160 [0/19577 (0%)]\tLoss: 0.005069\n",
      "Train Epoch: 160 [3200/19577 (16%)]\tLoss: 0.003504\n",
      "Train Epoch: 160 [6400/19577 (33%)]\tLoss: 0.005761\n",
      "Train Epoch: 160 [9600/19577 (49%)]\tLoss: 0.006390\n",
      "Train Epoch: 160 [12800/19577 (65%)]\tLoss: 0.003122\n",
      "Train Epoch: 160 [16000/19577 (82%)]\tLoss: 0.010069\n",
      "Train Epoch: 160 [19200/19577 (98%)]\tLoss: 0.005971\n",
      "\n",
      "Train loss: 0.00771400201198298\n"
     ]
    },
    {
     "name": "stderr",
     "output_type": "stream",
     "text": [
      "\r",
      " 32%|███▏      | 160/500 [22:37<48:14,  8.51s/it]"
     ]
    },
    {
     "name": "stdout",
     "output_type": "stream",
     "text": [
      "Test on 1143 samples\n",
      "R^2: -0.14\n",
      "Test Loss: 1.79%\n",
      "Train Epoch: 161 [0/19577 (0%)]\tLoss: 0.008223\n",
      "Train Epoch: 161 [3200/19577 (16%)]\tLoss: 0.005437\n",
      "Train Epoch: 161 [6400/19577 (33%)]\tLoss: 0.006212\n",
      "Train Epoch: 161 [9600/19577 (49%)]\tLoss: 0.012302\n",
      "Train Epoch: 161 [12800/19577 (65%)]\tLoss: 0.006056\n",
      "Train Epoch: 161 [16000/19577 (82%)]\tLoss: 0.004535\n",
      "Train Epoch: 161 [19200/19577 (98%)]\tLoss: 0.006512\n",
      "\n",
      "Train loss: 0.007721122079970181\n"
     ]
    },
    {
     "name": "stderr",
     "output_type": "stream",
     "text": [
      "\r",
      " 32%|███▏      | 161/500 [22:46<48:48,  8.64s/it]"
     ]
    },
    {
     "name": "stdout",
     "output_type": "stream",
     "text": [
      "Test on 1143 samples\n",
      "R^2: -0.81\n",
      "Test Loss: 1.80%\n",
      "Train Epoch: 162 [0/19577 (0%)]\tLoss: 0.005542\n",
      "Train Epoch: 162 [3200/19577 (16%)]\tLoss: 0.009663\n",
      "Train Epoch: 162 [6400/19577 (33%)]\tLoss: 0.013854\n",
      "Train Epoch: 162 [9600/19577 (49%)]\tLoss: 0.004496\n",
      "Train Epoch: 162 [12800/19577 (65%)]\tLoss: 0.007452\n",
      "Train Epoch: 162 [16000/19577 (82%)]\tLoss: 0.003455\n",
      "Train Epoch: 162 [19200/19577 (98%)]\tLoss: 0.008528\n",
      "\n",
      "Train loss: 0.0076989798149964435\n"
     ]
    },
    {
     "name": "stderr",
     "output_type": "stream",
     "text": [
      "\r",
      " 32%|███▏      | 162/500 [22:54<46:05,  8.18s/it]"
     ]
    },
    {
     "name": "stdout",
     "output_type": "stream",
     "text": [
      "Test on 1143 samples\n",
      "R^2: -0.21\n",
      "Test Loss: 1.78%\n",
      "Train Epoch: 163 [0/19577 (0%)]\tLoss: 0.006066\n",
      "Train Epoch: 163 [3200/19577 (16%)]\tLoss: 0.006763\n",
      "Train Epoch: 163 [6400/19577 (33%)]\tLoss: 0.007573\n",
      "Train Epoch: 163 [9600/19577 (49%)]\tLoss: 0.006431\n",
      "Train Epoch: 163 [12800/19577 (65%)]\tLoss: 0.003753\n",
      "Train Epoch: 163 [16000/19577 (82%)]\tLoss: 0.005419\n",
      "Train Epoch: 163 [19200/19577 (98%)]\tLoss: 0.008815\n",
      "\n",
      "Train loss: 0.0077147851694296145\n"
     ]
    },
    {
     "name": "stderr",
     "output_type": "stream",
     "text": [
      "\r",
      " 33%|███▎      | 163/500 [23:02<45:38,  8.12s/it]"
     ]
    },
    {
     "name": "stdout",
     "output_type": "stream",
     "text": [
      "Test on 1143 samples\n",
      "R^2: -0.79\n",
      "Test Loss: 1.78%\n",
      "Train Epoch: 164 [0/19577 (0%)]\tLoss: 0.005239\n",
      "Train Epoch: 164 [3200/19577 (16%)]\tLoss: 0.004410\n",
      "Train Epoch: 164 [6400/19577 (33%)]\tLoss: 0.006599\n",
      "Train Epoch: 164 [9600/19577 (49%)]\tLoss: 0.009142\n",
      "Train Epoch: 164 [12800/19577 (65%)]\tLoss: 0.003483\n",
      "Train Epoch: 164 [16000/19577 (82%)]\tLoss: 0.003302\n",
      "Train Epoch: 164 [19200/19577 (98%)]\tLoss: 0.006515\n",
      "\n",
      "Train loss: 0.00770209058267034\n"
     ]
    },
    {
     "name": "stderr",
     "output_type": "stream",
     "text": [
      "\r",
      " 33%|███▎      | 164/500 [23:10<45:45,  8.17s/it]"
     ]
    },
    {
     "name": "stdout",
     "output_type": "stream",
     "text": [
      "Test on 1143 samples\n",
      "R^2: -0.34\n",
      "Test Loss: 1.79%\n",
      "Train Epoch: 165 [0/19577 (0%)]\tLoss: 0.006044\n",
      "Train Epoch: 165 [3200/19577 (16%)]\tLoss: 0.012957\n",
      "Train Epoch: 165 [6400/19577 (33%)]\tLoss: 0.008860\n",
      "Train Epoch: 165 [9600/19577 (49%)]\tLoss: 0.005034\n",
      "Train Epoch: 165 [12800/19577 (65%)]\tLoss: 0.002994\n",
      "Train Epoch: 165 [16000/19577 (82%)]\tLoss: 0.003534\n",
      "Train Epoch: 165 [19200/19577 (98%)]\tLoss: 0.012246\n",
      "\n",
      "Train loss: 0.0076977250149497896\n"
     ]
    },
    {
     "name": "stderr",
     "output_type": "stream",
     "text": [
      "\r",
      " 33%|███▎      | 165/500 [23:18<44:56,  8.05s/it]"
     ]
    },
    {
     "name": "stdout",
     "output_type": "stream",
     "text": [
      "Test on 1143 samples\n",
      "R^2: -0.19\n",
      "Test Loss: 1.78%\n",
      "Train Epoch: 166 [0/19577 (0%)]\tLoss: 0.004592\n",
      "Train Epoch: 166 [3200/19577 (16%)]\tLoss: 0.010389\n",
      "Train Epoch: 166 [6400/19577 (33%)]\tLoss: 0.003455\n",
      "Train Epoch: 166 [9600/19577 (49%)]\tLoss: 0.002518\n",
      "Train Epoch: 166 [12800/19577 (65%)]\tLoss: 0.005571\n",
      "Train Epoch: 166 [16000/19577 (82%)]\tLoss: 0.002716\n",
      "Train Epoch: 166 [19200/19577 (98%)]\tLoss: 0.003593\n",
      "\n",
      "Train loss: 0.007684013856501848\n"
     ]
    },
    {
     "name": "stderr",
     "output_type": "stream",
     "text": [
      "\r",
      " 33%|███▎      | 166/500 [23:27<46:59,  8.44s/it]"
     ]
    },
    {
     "name": "stdout",
     "output_type": "stream",
     "text": [
      "Test on 1143 samples\n",
      "R^2: -0.88\n",
      "Test Loss: 1.78%\n",
      "Train Epoch: 167 [0/19577 (0%)]\tLoss: 0.006959\n",
      "Train Epoch: 167 [3200/19577 (16%)]\tLoss: 0.004027\n",
      "Train Epoch: 167 [6400/19577 (33%)]\tLoss: 0.005237\n",
      "Train Epoch: 167 [9600/19577 (49%)]\tLoss: 0.003773\n",
      "Train Epoch: 167 [12800/19577 (65%)]\tLoss: 0.009175\n",
      "Train Epoch: 167 [16000/19577 (82%)]\tLoss: 0.005037\n",
      "Train Epoch: 167 [19200/19577 (98%)]\tLoss: 0.003809\n",
      "\n",
      "Train loss: 0.007687178651157011\n"
     ]
    },
    {
     "name": "stderr",
     "output_type": "stream",
     "text": [
      "\r",
      " 33%|███▎      | 167/500 [23:36<48:41,  8.77s/it]"
     ]
    },
    {
     "name": "stdout",
     "output_type": "stream",
     "text": [
      "Test on 1143 samples\n",
      "R^2: -0.39\n",
      "Test Loss: 1.77%\n",
      "Train Epoch: 168 [0/19577 (0%)]\tLoss: 0.009113\n",
      "Train Epoch: 168 [3200/19577 (16%)]\tLoss: 0.003145\n",
      "Train Epoch: 168 [6400/19577 (33%)]\tLoss: 0.004888\n",
      "Train Epoch: 168 [9600/19577 (49%)]\tLoss: 0.004086\n",
      "Train Epoch: 168 [12800/19577 (65%)]\tLoss: 0.006298\n",
      "Train Epoch: 168 [16000/19577 (82%)]\tLoss: 0.011479\n",
      "Train Epoch: 168 [19200/19577 (98%)]\tLoss: 0.003566\n",
      "\n",
      "Train loss: 0.007667333730329072\n"
     ]
    },
    {
     "name": "stderr",
     "output_type": "stream",
     "text": [
      "\r",
      " 34%|███▎      | 168/500 [23:50<56:20, 10.18s/it]"
     ]
    },
    {
     "name": "stdout",
     "output_type": "stream",
     "text": [
      "Test on 1143 samples\n",
      "R^2: -0.26\n",
      "Test Loss: 1.77%\n",
      "Train Epoch: 169 [0/19577 (0%)]\tLoss: 0.007881\n",
      "Train Epoch: 169 [3200/19577 (16%)]\tLoss: 0.076656\n",
      "Train Epoch: 169 [6400/19577 (33%)]\tLoss: 0.006741\n",
      "Train Epoch: 169 [9600/19577 (49%)]\tLoss: 0.005418\n",
      "Train Epoch: 169 [12800/19577 (65%)]\tLoss: 0.006089\n",
      "Train Epoch: 169 [16000/19577 (82%)]\tLoss: 0.012349\n",
      "Train Epoch: 169 [19200/19577 (98%)]\tLoss: 0.002879\n",
      "\n",
      "Train loss: 0.007669862819336404\n"
     ]
    },
    {
     "name": "stderr",
     "output_type": "stream",
     "text": [
      "\r",
      " 34%|███▍      | 169/500 [24:10<1:12:44, 13.19s/it]"
     ]
    },
    {
     "name": "stdout",
     "output_type": "stream",
     "text": [
      "Test on 1143 samples\n",
      "R^2: -0.28\n",
      "Test Loss: 1.77%\n",
      "Train Epoch: 170 [0/19577 (0%)]\tLoss: 0.004863\n",
      "Train Epoch: 170 [3200/19577 (16%)]\tLoss: 0.006122\n",
      "Train Epoch: 170 [6400/19577 (33%)]\tLoss: 0.010313\n",
      "Train Epoch: 170 [9600/19577 (49%)]\tLoss: 0.005501\n",
      "Train Epoch: 170 [12800/19577 (65%)]\tLoss: 0.007967\n",
      "Train Epoch: 170 [16000/19577 (82%)]\tLoss: 0.004934\n",
      "Train Epoch: 170 [19200/19577 (98%)]\tLoss: 0.005083\n",
      "\n",
      "Train loss: 0.007660060195751439\n"
     ]
    },
    {
     "name": "stderr",
     "output_type": "stream",
     "text": [
      "\r",
      " 34%|███▍      | 170/500 [24:25<1:15:39, 13.76s/it]"
     ]
    },
    {
     "name": "stdout",
     "output_type": "stream",
     "text": [
      "Test on 1143 samples\n",
      "R^2: -0.20\n",
      "Test Loss: 1.77%\n",
      "Train Epoch: 171 [0/19577 (0%)]\tLoss: 0.008011\n",
      "Train Epoch: 171 [3200/19577 (16%)]\tLoss: 0.005940\n",
      "Train Epoch: 171 [6400/19577 (33%)]\tLoss: 0.003186\n",
      "Train Epoch: 171 [9600/19577 (49%)]\tLoss: 0.012009\n",
      "Train Epoch: 171 [12800/19577 (65%)]\tLoss: 0.004590\n",
      "Train Epoch: 171 [16000/19577 (82%)]\tLoss: 0.007299\n",
      "Train Epoch: 171 [19200/19577 (98%)]\tLoss: 0.004066\n",
      "\n",
      "Train loss: 0.007655384024723853\n"
     ]
    },
    {
     "name": "stderr",
     "output_type": "stream",
     "text": [
      "\r",
      " 34%|███▍      | 171/500 [24:35<1:09:43, 12.72s/it]"
     ]
    },
    {
     "name": "stdout",
     "output_type": "stream",
     "text": [
      "Test on 1143 samples\n",
      "R^2: -0.90\n",
      "Test Loss: 1.77%\n",
      "Train Epoch: 172 [0/19577 (0%)]\tLoss: 0.005355\n",
      "Train Epoch: 172 [3200/19577 (16%)]\tLoss: 0.006034\n",
      "Train Epoch: 172 [6400/19577 (33%)]\tLoss: 0.003502\n",
      "Train Epoch: 172 [9600/19577 (49%)]\tLoss: 0.003152\n",
      "Train Epoch: 172 [12800/19577 (65%)]\tLoss: 0.004298\n",
      "Train Epoch: 172 [16000/19577 (82%)]\tLoss: 0.012269\n",
      "Train Epoch: 172 [19200/19577 (98%)]\tLoss: 0.015232\n",
      "\n",
      "Train loss: 0.007650569232342022\n"
     ]
    },
    {
     "name": "stderr",
     "output_type": "stream",
     "text": [
      "\r",
      " 34%|███▍      | 172/500 [24:52<1:16:00, 13.90s/it]"
     ]
    },
    {
     "name": "stdout",
     "output_type": "stream",
     "text": [
      "Test on 1143 samples\n",
      "R^2: -0.75\n",
      "Test Loss: 1.76%\n",
      "Train Epoch: 173 [0/19577 (0%)]\tLoss: 0.013946\n",
      "Train Epoch: 173 [3200/19577 (16%)]\tLoss: 0.004952\n",
      "Train Epoch: 173 [6400/19577 (33%)]\tLoss: 0.001741\n",
      "Train Epoch: 173 [9600/19577 (49%)]\tLoss: 0.003371\n",
      "Train Epoch: 173 [12800/19577 (65%)]\tLoss: 0.008558\n",
      "Train Epoch: 173 [16000/19577 (82%)]\tLoss: 0.002706\n",
      "Train Epoch: 173 [19200/19577 (98%)]\tLoss: 0.004882\n",
      "\n",
      "Train loss: 0.007638084178324789\n"
     ]
    },
    {
     "name": "stderr",
     "output_type": "stream",
     "text": [
      "\r",
      " 35%|███▍      | 173/500 [25:01<1:08:02, 12.48s/it]"
     ]
    },
    {
     "name": "stdout",
     "output_type": "stream",
     "text": [
      "Test on 1143 samples\n",
      "R^2: -1.24\n",
      "Test Loss: 1.79%\n",
      "Train Epoch: 174 [0/19577 (0%)]\tLoss: 0.003239\n",
      "Train Epoch: 174 [3200/19577 (16%)]\tLoss: 0.005915\n",
      "Train Epoch: 174 [6400/19577 (33%)]\tLoss: 0.006572\n",
      "Train Epoch: 174 [9600/19577 (49%)]\tLoss: 0.003543\n",
      "Train Epoch: 174 [12800/19577 (65%)]\tLoss: 0.007262\n",
      "Train Epoch: 174 [16000/19577 (82%)]\tLoss: 0.005631\n",
      "Train Epoch: 174 [19200/19577 (98%)]\tLoss: 0.008690\n",
      "\n",
      "Train loss: 0.007640370875414388\n"
     ]
    },
    {
     "name": "stderr",
     "output_type": "stream",
     "text": [
      "\r",
      " 35%|███▍      | 174/500 [25:09<59:57, 11.04s/it]  "
     ]
    },
    {
     "name": "stdout",
     "output_type": "stream",
     "text": [
      "Test on 1143 samples\n",
      "R^2: -0.41\n",
      "Test Loss: 1.76%\n",
      "Train Epoch: 175 [0/19577 (0%)]\tLoss: 0.004536\n",
      "Train Epoch: 175 [3200/19577 (16%)]\tLoss: 0.009399\n",
      "Train Epoch: 175 [6400/19577 (33%)]\tLoss: 0.004318\n",
      "Train Epoch: 175 [9600/19577 (49%)]\tLoss: 0.006290\n",
      "Train Epoch: 175 [12800/19577 (65%)]\tLoss: 0.004949\n",
      "Train Epoch: 175 [16000/19577 (82%)]\tLoss: 0.002729\n",
      "Train Epoch: 175 [19200/19577 (98%)]\tLoss: 0.073994\n",
      "\n",
      "Train loss: 0.007646235847370881\n"
     ]
    },
    {
     "name": "stderr",
     "output_type": "stream",
     "text": [
      "\r",
      " 35%|███▌      | 175/500 [25:17<54:40, 10.10s/it]"
     ]
    },
    {
     "name": "stdout",
     "output_type": "stream",
     "text": [
      "Test on 1143 samples\n",
      "R^2: -0.99\n",
      "Test Loss: 1.77%\n",
      "Train Epoch: 176 [0/19577 (0%)]\tLoss: 0.331604\n",
      "Train Epoch: 176 [3200/19577 (16%)]\tLoss: 0.003016\n",
      "Train Epoch: 176 [6400/19577 (33%)]\tLoss: 0.006278\n",
      "Train Epoch: 176 [9600/19577 (49%)]\tLoss: 0.004982\n",
      "Train Epoch: 176 [12800/19577 (65%)]\tLoss: 0.026133\n",
      "Train Epoch: 176 [16000/19577 (82%)]\tLoss: 0.009494\n",
      "Train Epoch: 176 [19200/19577 (98%)]\tLoss: 0.008192\n",
      "\n",
      "Train loss: 0.007618731065817615\n"
     ]
    },
    {
     "name": "stderr",
     "output_type": "stream",
     "text": [
      "\r",
      " 35%|███▌      | 176/500 [25:26<52:38,  9.75s/it]"
     ]
    },
    {
     "name": "stdout",
     "output_type": "stream",
     "text": [
      "Test on 1143 samples\n",
      "R^2: -0.54\n",
      "Test Loss: 1.76%\n",
      "Train Epoch: 177 [0/19577 (0%)]\tLoss: 0.007674\n",
      "Train Epoch: 177 [3200/19577 (16%)]\tLoss: 0.006103\n",
      "Train Epoch: 177 [6400/19577 (33%)]\tLoss: 0.006160\n",
      "Train Epoch: 177 [9600/19577 (49%)]\tLoss: 0.004879\n",
      "Train Epoch: 177 [12800/19577 (65%)]\tLoss: 0.005041\n",
      "Train Epoch: 177 [16000/19577 (82%)]\tLoss: 0.328951\n",
      "Train Epoch: 177 [19200/19577 (98%)]\tLoss: 0.007458\n",
      "\n",
      "Train loss: 0.007643231824557815\n"
     ]
    },
    {
     "name": "stderr",
     "output_type": "stream",
     "text": [
      "\r",
      " 35%|███▌      | 177/500 [25:34<50:20,  9.35s/it]"
     ]
    },
    {
     "name": "stdout",
     "output_type": "stream",
     "text": [
      "Test on 1143 samples\n",
      "R^2: -1.12\n",
      "Test Loss: 1.77%\n",
      "Train Epoch: 178 [0/19577 (0%)]\tLoss: 0.006783\n",
      "Train Epoch: 178 [3200/19577 (16%)]\tLoss: 0.005274\n",
      "Train Epoch: 178 [6400/19577 (33%)]\tLoss: 0.003925\n",
      "Train Epoch: 178 [9600/19577 (49%)]\tLoss: 0.009370\n",
      "Train Epoch: 178 [12800/19577 (65%)]\tLoss: 0.005265\n",
      "Train Epoch: 178 [16000/19577 (82%)]\tLoss: 0.008916\n",
      "Train Epoch: 178 [19200/19577 (98%)]\tLoss: 0.005142\n",
      "\n",
      "Train loss: 0.007615648044936749\n"
     ]
    },
    {
     "name": "stderr",
     "output_type": "stream",
     "text": [
      "\r",
      " 36%|███▌      | 178/500 [25:42<47:30,  8.85s/it]"
     ]
    },
    {
     "name": "stdout",
     "output_type": "stream",
     "text": [
      "Test on 1143 samples\n",
      "R^2: -0.20\n",
      "Test Loss: 1.76%\n",
      "Train Epoch: 179 [0/19577 (0%)]\tLoss: 0.005975\n",
      "Train Epoch: 179 [3200/19577 (16%)]\tLoss: 0.005293\n",
      "Train Epoch: 179 [6400/19577 (33%)]\tLoss: 0.005025\n",
      "Train Epoch: 179 [9600/19577 (49%)]\tLoss: 0.004548\n",
      "Train Epoch: 179 [12800/19577 (65%)]\tLoss: 0.002762\n",
      "Train Epoch: 179 [16000/19577 (82%)]\tLoss: 0.007305\n",
      "Train Epoch: 179 [19200/19577 (98%)]\tLoss: 0.008869\n",
      "\n",
      "Train loss: 0.00761279747653996\n"
     ]
    },
    {
     "name": "stderr",
     "output_type": "stream",
     "text": [
      "\r",
      " 36%|███▌      | 179/500 [25:49<44:57,  8.40s/it]"
     ]
    },
    {
     "name": "stdout",
     "output_type": "stream",
     "text": [
      "Test on 1143 samples\n",
      "R^2: -2.23\n",
      "Test Loss: 1.80%\n",
      "Train Epoch: 180 [0/19577 (0%)]\tLoss: 0.006388\n",
      "Train Epoch: 180 [3200/19577 (16%)]\tLoss: 0.006776\n",
      "Train Epoch: 180 [6400/19577 (33%)]\tLoss: 0.003663\n",
      "Train Epoch: 180 [9600/19577 (49%)]\tLoss: 0.004611\n",
      "Train Epoch: 180 [12800/19577 (65%)]\tLoss: 0.004713\n",
      "Train Epoch: 180 [16000/19577 (82%)]\tLoss: 0.006965\n",
      "Train Epoch: 180 [19200/19577 (98%)]\tLoss: 0.004772\n",
      "\n",
      "Train loss: 0.007601310532491386\n"
     ]
    },
    {
     "name": "stderr",
     "output_type": "stream",
     "text": [
      "\r",
      " 36%|███▌      | 180/500 [25:57<43:30,  8.16s/it]"
     ]
    },
    {
     "name": "stdout",
     "output_type": "stream",
     "text": [
      "Test on 1143 samples\n",
      "R^2: -0.13\n",
      "Test Loss: 1.76%\n",
      "Train Epoch: 181 [0/19577 (0%)]\tLoss: 0.006298\n",
      "Train Epoch: 181 [3200/19577 (16%)]\tLoss: 0.003633\n",
      "Train Epoch: 181 [6400/19577 (33%)]\tLoss: 0.005417\n",
      "Train Epoch: 181 [9600/19577 (49%)]\tLoss: 0.003494\n",
      "Train Epoch: 181 [12800/19577 (65%)]\tLoss: 0.009252\n",
      "Train Epoch: 181 [16000/19577 (82%)]\tLoss: 0.006858\n",
      "Train Epoch: 181 [19200/19577 (98%)]\tLoss: 0.005763\n",
      "\n",
      "Train loss: 0.007600653835182729\n"
     ]
    },
    {
     "name": "stderr",
     "output_type": "stream",
     "text": [
      "\r",
      " 36%|███▌      | 181/500 [26:04<42:17,  7.96s/it]"
     ]
    },
    {
     "name": "stdout",
     "output_type": "stream",
     "text": [
      "Test on 1143 samples\n",
      "R^2: -2.52\n",
      "Test Loss: 1.79%\n",
      "Train Epoch: 182 [0/19577 (0%)]\tLoss: 0.006296\n",
      "Train Epoch: 182 [3200/19577 (16%)]\tLoss: 0.007815\n",
      "Train Epoch: 182 [6400/19577 (33%)]\tLoss: 0.005919\n",
      "Train Epoch: 182 [9600/19577 (49%)]\tLoss: 0.009635\n",
      "Train Epoch: 182 [12800/19577 (65%)]\tLoss: 0.006118\n",
      "Train Epoch: 182 [16000/19577 (82%)]\tLoss: 0.003980\n",
      "Train Epoch: 182 [19200/19577 (98%)]\tLoss: 0.007455\n",
      "\n",
      "Train loss: 0.007613896641475483\n"
     ]
    },
    {
     "name": "stderr",
     "output_type": "stream",
     "text": [
      "\r",
      " 36%|███▋      | 182/500 [26:16<48:18,  9.11s/it]"
     ]
    },
    {
     "name": "stdout",
     "output_type": "stream",
     "text": [
      "Test on 1143 samples\n",
      "R^2: -0.91\n",
      "Test Loss: 1.76%\n",
      "Train Epoch: 183 [0/19577 (0%)]\tLoss: 0.040316\n",
      "Train Epoch: 183 [3200/19577 (16%)]\tLoss: 0.006461\n",
      "Train Epoch: 183 [6400/19577 (33%)]\tLoss: 0.007621\n",
      "Train Epoch: 183 [9600/19577 (49%)]\tLoss: 0.005272\n",
      "Train Epoch: 183 [12800/19577 (65%)]\tLoss: 0.006142\n",
      "Train Epoch: 183 [16000/19577 (82%)]\tLoss: 0.005420\n",
      "Train Epoch: 183 [19200/19577 (98%)]\tLoss: 0.003382\n",
      "\n",
      "Train loss: 0.007606661038509771\n"
     ]
    },
    {
     "name": "stderr",
     "output_type": "stream",
     "text": [
      "\r",
      " 37%|███▋      | 183/500 [26:26<49:10,  9.31s/it]"
     ]
    },
    {
     "name": "stdout",
     "output_type": "stream",
     "text": [
      "Test on 1143 samples\n",
      "R^2: -1.61\n",
      "Test Loss: 1.76%\n",
      "Train Epoch: 184 [0/19577 (0%)]\tLoss: 0.006156\n",
      "Train Epoch: 184 [3200/19577 (16%)]\tLoss: 0.006144\n",
      "Train Epoch: 184 [6400/19577 (33%)]\tLoss: 0.005582\n",
      "Train Epoch: 184 [9600/19577 (49%)]\tLoss: 0.003489\n",
      "Train Epoch: 184 [12800/19577 (65%)]\tLoss: 0.006244\n",
      "Train Epoch: 184 [16000/19577 (82%)]\tLoss: 0.005955\n",
      "Train Epoch: 184 [19200/19577 (98%)]\tLoss: 0.008612\n",
      "\n",
      "Train loss: 0.007593151443680517\n"
     ]
    },
    {
     "name": "stderr",
     "output_type": "stream",
     "text": [
      "\r",
      " 37%|███▋      | 184/500 [26:34<47:29,  9.02s/it]"
     ]
    },
    {
     "name": "stdout",
     "output_type": "stream",
     "text": [
      "Test on 1143 samples\n",
      "R^2: -0.74\n",
      "Test Loss: 1.75%\n",
      "Train Epoch: 185 [0/19577 (0%)]\tLoss: 0.003227\n",
      "Train Epoch: 185 [3200/19577 (16%)]\tLoss: 0.005028\n",
      "Train Epoch: 185 [6400/19577 (33%)]\tLoss: 0.007874\n",
      "Train Epoch: 185 [9600/19577 (49%)]\tLoss: 0.008980\n",
      "Train Epoch: 185 [12800/19577 (65%)]\tLoss: 0.013345\n",
      "Train Epoch: 185 [16000/19577 (82%)]\tLoss: 0.005154\n",
      "Train Epoch: 185 [19200/19577 (98%)]\tLoss: 0.007396\n",
      "\n",
      "Train loss: 0.007575056051874984\n"
     ]
    },
    {
     "name": "stderr",
     "output_type": "stream",
     "text": [
      "\r",
      " 37%|███▋      | 185/500 [26:42<45:32,  8.67s/it]"
     ]
    },
    {
     "name": "stdout",
     "output_type": "stream",
     "text": [
      "Test on 1143 samples\n",
      "R^2: -0.24\n",
      "Test Loss: 1.75%\n",
      "Train Epoch: 186 [0/19577 (0%)]\tLoss: 0.008637\n",
      "Train Epoch: 186 [3200/19577 (16%)]\tLoss: 0.005579\n",
      "Train Epoch: 186 [6400/19577 (33%)]\tLoss: 0.012220\n",
      "Train Epoch: 186 [9600/19577 (49%)]\tLoss: 0.004883\n",
      "Train Epoch: 186 [12800/19577 (65%)]\tLoss: 0.008415\n",
      "Train Epoch: 186 [16000/19577 (82%)]\tLoss: 0.012101\n",
      "Train Epoch: 186 [19200/19577 (98%)]\tLoss: 0.006742\n",
      "\n",
      "Train loss: 0.0076061897991785135\n"
     ]
    },
    {
     "name": "stderr",
     "output_type": "stream",
     "text": [
      "\r",
      " 37%|███▋      | 186/500 [26:51<44:54,  8.58s/it]"
     ]
    },
    {
     "name": "stdout",
     "output_type": "stream",
     "text": [
      "Test on 1143 samples\n",
      "R^2: -0.66\n",
      "Test Loss: 1.75%\n",
      "Train Epoch: 187 [0/19577 (0%)]\tLoss: 0.004310\n",
      "Train Epoch: 187 [3200/19577 (16%)]\tLoss: 0.005248\n",
      "Train Epoch: 187 [6400/19577 (33%)]\tLoss: 0.004134\n",
      "Train Epoch: 187 [9600/19577 (49%)]\tLoss: 0.003519\n",
      "Train Epoch: 187 [12800/19577 (65%)]\tLoss: 0.004698\n",
      "Train Epoch: 187 [16000/19577 (82%)]\tLoss: 0.003434\n",
      "Train Epoch: 187 [19200/19577 (98%)]\tLoss: 0.005069\n",
      "\n",
      "Train loss: 0.007586203170088089\n"
     ]
    },
    {
     "name": "stderr",
     "output_type": "stream",
     "text": [
      "\r",
      " 37%|███▋      | 187/500 [26:58<43:22,  8.32s/it]"
     ]
    },
    {
     "name": "stdout",
     "output_type": "stream",
     "text": [
      "Test on 1143 samples\n",
      "R^2: -0.37\n",
      "Test Loss: 1.75%\n",
      "Train Epoch: 188 [0/19577 (0%)]\tLoss: 0.003053\n",
      "Train Epoch: 188 [3200/19577 (16%)]\tLoss: 0.008284\n",
      "Train Epoch: 188 [6400/19577 (33%)]\tLoss: 0.004143\n",
      "Train Epoch: 188 [9600/19577 (49%)]\tLoss: 0.003401\n",
      "Train Epoch: 188 [12800/19577 (65%)]\tLoss: 0.003818\n",
      "Train Epoch: 188 [16000/19577 (82%)]\tLoss: 0.002968\n",
      "Train Epoch: 188 [19200/19577 (98%)]\tLoss: 0.004160\n",
      "\n",
      "Train loss: 0.007573821512659634\n"
     ]
    },
    {
     "name": "stderr",
     "output_type": "stream",
     "text": [
      "\r",
      " 38%|███▊      | 188/500 [27:06<42:15,  8.13s/it]"
     ]
    },
    {
     "name": "stdout",
     "output_type": "stream",
     "text": [
      "Test on 1143 samples\n",
      "R^2: -0.38\n",
      "Test Loss: 1.75%\n",
      "Train Epoch: 189 [0/19577 (0%)]\tLoss: 0.003819\n",
      "Train Epoch: 189 [3200/19577 (16%)]\tLoss: 0.007076\n",
      "Train Epoch: 189 [6400/19577 (33%)]\tLoss: 0.003344\n",
      "Train Epoch: 189 [9600/19577 (49%)]\tLoss: 0.004209\n",
      "Train Epoch: 189 [12800/19577 (65%)]\tLoss: 0.005663\n",
      "Train Epoch: 189 [16000/19577 (82%)]\tLoss: 0.003633\n",
      "Train Epoch: 189 [19200/19577 (98%)]\tLoss: 0.004593\n",
      "\n",
      "Train loss: 0.007573611972308748\n"
     ]
    },
    {
     "name": "stderr",
     "output_type": "stream",
     "text": [
      "\r",
      " 38%|███▊      | 189/500 [27:13<40:56,  7.90s/it]"
     ]
    },
    {
     "name": "stdout",
     "output_type": "stream",
     "text": [
      "Test on 1143 samples\n",
      "R^2: -1.25\n",
      "Test Loss: 1.77%\n",
      "Train Epoch: 190 [0/19577 (0%)]\tLoss: 0.002944\n",
      "Train Epoch: 190 [3200/19577 (16%)]\tLoss: 0.004895\n",
      "Train Epoch: 190 [6400/19577 (33%)]\tLoss: 0.007717\n",
      "Train Epoch: 190 [9600/19577 (49%)]\tLoss: 0.003808\n",
      "Train Epoch: 190 [12800/19577 (65%)]\tLoss: 0.008139\n",
      "Train Epoch: 190 [16000/19577 (82%)]\tLoss: 0.012867\n",
      "Train Epoch: 190 [19200/19577 (98%)]\tLoss: 0.003182\n",
      "\n",
      "Train loss: 0.007564709277586171\n"
     ]
    },
    {
     "name": "stderr",
     "output_type": "stream",
     "text": [
      "\r",
      " 38%|███▊      | 190/500 [27:21<39:54,  7.72s/it]"
     ]
    },
    {
     "name": "stdout",
     "output_type": "stream",
     "text": [
      "Test on 1143 samples\n",
      "R^2: -0.26\n",
      "Test Loss: 1.74%\n",
      "Train Epoch: 191 [0/19577 (0%)]\tLoss: 0.007125\n",
      "Train Epoch: 191 [3200/19577 (16%)]\tLoss: 0.010472\n",
      "Train Epoch: 191 [6400/19577 (33%)]\tLoss: 0.012796\n",
      "Train Epoch: 191 [9600/19577 (49%)]\tLoss: 0.005829\n",
      "Train Epoch: 191 [12800/19577 (65%)]\tLoss: 0.002199\n",
      "Train Epoch: 191 [16000/19577 (82%)]\tLoss: 0.007141\n",
      "Train Epoch: 191 [19200/19577 (98%)]\tLoss: 0.010529\n",
      "\n",
      "Train loss: 0.007577187126408045\n"
     ]
    },
    {
     "name": "stderr",
     "output_type": "stream",
     "text": [
      "\r",
      " 38%|███▊      | 191/500 [27:28<40:01,  7.77s/it]"
     ]
    },
    {
     "name": "stdout",
     "output_type": "stream",
     "text": [
      "Test on 1143 samples\n",
      "R^2: -1.57\n",
      "Test Loss: 1.75%\n",
      "Train Epoch: 192 [0/19577 (0%)]\tLoss: 0.005637\n",
      "Train Epoch: 192 [3200/19577 (16%)]\tLoss: 0.003264\n",
      "Train Epoch: 192 [6400/19577 (33%)]\tLoss: 0.007883\n",
      "Train Epoch: 192 [9600/19577 (49%)]\tLoss: 0.008877\n",
      "Train Epoch: 192 [12800/19577 (65%)]\tLoss: 0.001762\n",
      "Train Epoch: 192 [16000/19577 (82%)]\tLoss: 0.006406\n",
      "Train Epoch: 192 [19200/19577 (98%)]\tLoss: 0.004320\n",
      "\n",
      "Train loss: 0.00754845457903286\n"
     ]
    },
    {
     "name": "stderr",
     "output_type": "stream",
     "text": [
      "\r",
      " 38%|███▊      | 192/500 [27:39<44:37,  8.69s/it]"
     ]
    },
    {
     "name": "stdout",
     "output_type": "stream",
     "text": [
      "Test on 1143 samples\n",
      "R^2: -1.51\n",
      "Test Loss: 1.75%\n",
      "Train Epoch: 193 [0/19577 (0%)]\tLoss: 0.004724\n",
      "Train Epoch: 193 [3200/19577 (16%)]\tLoss: 0.003054\n",
      "Train Epoch: 193 [6400/19577 (33%)]\tLoss: 0.006752\n",
      "Train Epoch: 193 [9600/19577 (49%)]\tLoss: 0.006296\n",
      "Train Epoch: 193 [12800/19577 (65%)]\tLoss: 0.076445\n",
      "Train Epoch: 193 [16000/19577 (82%)]\tLoss: 0.004240\n",
      "Train Epoch: 193 [19200/19577 (98%)]\tLoss: 0.005718\n",
      "\n",
      "Train loss: 0.007546593571687421\n"
     ]
    },
    {
     "name": "stderr",
     "output_type": "stream",
     "text": [
      "\r",
      " 39%|███▊      | 193/500 [27:49<45:29,  8.89s/it]"
     ]
    },
    {
     "name": "stdout",
     "output_type": "stream",
     "text": [
      "Test on 1143 samples\n",
      "R^2: -0.37\n",
      "Test Loss: 1.74%\n",
      "Train Epoch: 194 [0/19577 (0%)]\tLoss: 0.003636\n",
      "Train Epoch: 194 [3200/19577 (16%)]\tLoss: 0.005390\n",
      "Train Epoch: 194 [6400/19577 (33%)]\tLoss: 0.003973\n",
      "Train Epoch: 194 [9600/19577 (49%)]\tLoss: 0.004754\n",
      "Train Epoch: 194 [12800/19577 (65%)]\tLoss: 0.007203\n",
      "Train Epoch: 194 [16000/19577 (82%)]\tLoss: 0.004908\n",
      "Train Epoch: 194 [19200/19577 (98%)]\tLoss: 0.007456\n",
      "\n",
      "Train loss: 0.007544696652878295\n"
     ]
    },
    {
     "name": "stderr",
     "output_type": "stream",
     "text": [
      "\r",
      " 39%|███▉      | 194/500 [27:57<45:10,  8.86s/it]"
     ]
    },
    {
     "name": "stdout",
     "output_type": "stream",
     "text": [
      "Test on 1143 samples\n",
      "R^2: -0.15\n",
      "Test Loss: 1.74%\n",
      "Train Epoch: 195 [0/19577 (0%)]\tLoss: 0.006747\n",
      "Train Epoch: 195 [3200/19577 (16%)]\tLoss: 0.007117\n",
      "Train Epoch: 195 [6400/19577 (33%)]\tLoss: 0.003012\n",
      "Train Epoch: 195 [9600/19577 (49%)]\tLoss: 0.002518\n",
      "Train Epoch: 195 [12800/19577 (65%)]\tLoss: 0.012192\n",
      "Train Epoch: 195 [16000/19577 (82%)]\tLoss: 0.003884\n",
      "Train Epoch: 195 [19200/19577 (98%)]\tLoss: 0.005551\n",
      "\n",
      "Train loss: 0.007534326308671677\n"
     ]
    },
    {
     "name": "stderr",
     "output_type": "stream",
     "text": [
      "\r",
      " 39%|███▉      | 195/500 [28:05<43:03,  8.47s/it]"
     ]
    },
    {
     "name": "stdout",
     "output_type": "stream",
     "text": [
      "Test on 1143 samples\n",
      "R^2: -1.96\n",
      "Test Loss: 1.75%\n",
      "Train Epoch: 196 [0/19577 (0%)]\tLoss: 0.005805\n",
      "Train Epoch: 196 [3200/19577 (16%)]\tLoss: 0.004492\n",
      "Train Epoch: 196 [6400/19577 (33%)]\tLoss: 0.007743\n",
      "Train Epoch: 196 [9600/19577 (49%)]\tLoss: 0.005873\n",
      "Train Epoch: 196 [12800/19577 (65%)]\tLoss: 0.009315\n",
      "Train Epoch: 196 [16000/19577 (82%)]\tLoss: 0.006172\n",
      "Train Epoch: 196 [19200/19577 (98%)]\tLoss: 0.003129\n",
      "\n",
      "Train loss: 0.0075527973460897905\n"
     ]
    },
    {
     "name": "stderr",
     "output_type": "stream",
     "text": [
      "\r",
      " 39%|███▉      | 196/500 [28:12<41:22,  8.17s/it]"
     ]
    },
    {
     "name": "stdout",
     "output_type": "stream",
     "text": [
      "Test on 1143 samples\n",
      "R^2: -0.68\n",
      "Test Loss: 1.74%\n",
      "Train Epoch: 197 [0/19577 (0%)]\tLoss: 0.002633\n",
      "Train Epoch: 197 [3200/19577 (16%)]\tLoss: 0.009177\n",
      "Train Epoch: 197 [6400/19577 (33%)]\tLoss: 0.004536\n",
      "Train Epoch: 197 [9600/19577 (49%)]\tLoss: 0.004620\n",
      "Train Epoch: 197 [12800/19577 (65%)]\tLoss: 0.005532\n",
      "Train Epoch: 197 [16000/19577 (82%)]\tLoss: 0.005133\n",
      "Train Epoch: 197 [19200/19577 (98%)]\tLoss: 0.006174\n",
      "\n",
      "Train loss: 0.0075240913444515195\n"
     ]
    },
    {
     "name": "stderr",
     "output_type": "stream",
     "text": [
      "\r",
      " 39%|███▉      | 197/500 [28:20<40:34,  8.03s/it]"
     ]
    },
    {
     "name": "stdout",
     "output_type": "stream",
     "text": [
      "Test on 1143 samples\n",
      "R^2: -1.41\n",
      "Test Loss: 1.76%\n",
      "Train Epoch: 198 [0/19577 (0%)]\tLoss: 0.005094\n",
      "Train Epoch: 198 [3200/19577 (16%)]\tLoss: 0.003997\n",
      "Train Epoch: 198 [6400/19577 (33%)]\tLoss: 0.005129\n",
      "Train Epoch: 198 [9600/19577 (49%)]\tLoss: 0.005252\n",
      "Train Epoch: 198 [12800/19577 (65%)]\tLoss: 0.003857\n",
      "Train Epoch: 198 [16000/19577 (82%)]\tLoss: 0.004850\n",
      "Train Epoch: 198 [19200/19577 (98%)]\tLoss: 0.005075\n",
      "\n",
      "Train loss: 0.007512005411995441\n"
     ]
    },
    {
     "name": "stderr",
     "output_type": "stream",
     "text": [
      "\r",
      " 40%|███▉      | 198/500 [28:30<43:20,  8.61s/it]"
     ]
    },
    {
     "name": "stdout",
     "output_type": "stream",
     "text": [
      "Test on 1143 samples\n",
      "R^2: -0.12\n",
      "Test Loss: 1.74%\n",
      "Train Epoch: 199 [0/19577 (0%)]\tLoss: 0.007327\n",
      "Train Epoch: 199 [3200/19577 (16%)]\tLoss: 0.001899\n",
      "Train Epoch: 199 [6400/19577 (33%)]\tLoss: 0.005175\n",
      "Train Epoch: 199 [9600/19577 (49%)]\tLoss: 0.007949\n",
      "Train Epoch: 199 [12800/19577 (65%)]\tLoss: 0.003808\n",
      "Train Epoch: 199 [16000/19577 (82%)]\tLoss: 0.012631\n",
      "Train Epoch: 199 [19200/19577 (98%)]\tLoss: 0.004595\n",
      "\n",
      "Train loss: 0.0075380341176497535\n"
     ]
    },
    {
     "name": "stderr",
     "output_type": "stream",
     "text": [
      "\r",
      " 40%|███▉      | 199/500 [28:38<41:53,  8.35s/it]"
     ]
    },
    {
     "name": "stdout",
     "output_type": "stream",
     "text": [
      "Test on 1143 samples\n",
      "R^2: -1.74\n",
      "Test Loss: 1.77%\n",
      "Train Epoch: 200 [0/19577 (0%)]\tLoss: 0.003163\n",
      "Train Epoch: 200 [3200/19577 (16%)]\tLoss: 0.003943\n",
      "Train Epoch: 200 [6400/19577 (33%)]\tLoss: 0.004907\n",
      "Train Epoch: 200 [9600/19577 (49%)]\tLoss: 0.007382\n",
      "Train Epoch: 200 [12800/19577 (65%)]\tLoss: 0.006707\n",
      "Train Epoch: 200 [16000/19577 (82%)]\tLoss: 0.007566\n",
      "Train Epoch: 200 [19200/19577 (98%)]\tLoss: 0.010021\n",
      "\n",
      "Train loss: 0.007528805156433164\n"
     ]
    },
    {
     "name": "stderr",
     "output_type": "stream",
     "text": [
      "\r",
      " 40%|████      | 200/500 [28:46<40:49,  8.17s/it]"
     ]
    },
    {
     "name": "stdout",
     "output_type": "stream",
     "text": [
      "Test on 1143 samples\n",
      "R^2: -0.35\n",
      "Test Loss: 1.74%\n",
      "Train Epoch: 201 [0/19577 (0%)]\tLoss: 0.007215\n",
      "Train Epoch: 201 [3200/19577 (16%)]\tLoss: 0.005019\n",
      "Train Epoch: 201 [6400/19577 (33%)]\tLoss: 0.004616\n",
      "Train Epoch: 201 [9600/19577 (49%)]\tLoss: 0.004011\n",
      "Train Epoch: 201 [12800/19577 (65%)]\tLoss: 0.006774\n",
      "Train Epoch: 201 [16000/19577 (82%)]\tLoss: 0.005680\n",
      "Train Epoch: 201 [19200/19577 (98%)]\tLoss: 0.006351\n",
      "\n",
      "Train loss: 0.007507556908630029\n"
     ]
    },
    {
     "name": "stderr",
     "output_type": "stream",
     "text": [
      "\r",
      " 40%|████      | 201/500 [28:54<40:31,  8.13s/it]"
     ]
    },
    {
     "name": "stdout",
     "output_type": "stream",
     "text": [
      "Test on 1143 samples\n",
      "R^2: -0.14\n",
      "Test Loss: 1.74%\n",
      "Train Epoch: 202 [0/19577 (0%)]\tLoss: 0.006895\n",
      "Train Epoch: 202 [3200/19577 (16%)]\tLoss: 0.007416\n",
      "Train Epoch: 202 [6400/19577 (33%)]\tLoss: 0.006104\n",
      "Train Epoch: 202 [9600/19577 (49%)]\tLoss: 0.006534\n",
      "Train Epoch: 202 [12800/19577 (65%)]\tLoss: 0.004298\n",
      "Train Epoch: 202 [16000/19577 (82%)]\tLoss: 0.010852\n",
      "Train Epoch: 202 [19200/19577 (98%)]\tLoss: 0.005033\n",
      "\n",
      "Train loss: 0.007514058771311896\n"
     ]
    },
    {
     "name": "stderr",
     "output_type": "stream",
     "text": [
      "\r",
      " 40%|████      | 202/500 [29:02<39:55,  8.04s/it]"
     ]
    },
    {
     "name": "stdout",
     "output_type": "stream",
     "text": [
      "Test on 1143 samples\n",
      "R^2: -0.18\n",
      "Test Loss: 1.73%\n",
      "Train Epoch: 203 [0/19577 (0%)]\tLoss: 0.003342\n",
      "Train Epoch: 203 [3200/19577 (16%)]\tLoss: 0.003370\n",
      "Train Epoch: 203 [6400/19577 (33%)]\tLoss: 0.005435\n",
      "Train Epoch: 203 [9600/19577 (49%)]\tLoss: 0.005429\n",
      "Train Epoch: 203 [12800/19577 (65%)]\tLoss: 0.008976\n",
      "Train Epoch: 203 [16000/19577 (82%)]\tLoss: 0.004661\n",
      "Train Epoch: 203 [19200/19577 (98%)]\tLoss: 0.009444\n",
      "\n",
      "Train loss: 0.007500699480456829\n"
     ]
    },
    {
     "name": "stderr",
     "output_type": "stream",
     "text": [
      "\r",
      " 41%|████      | 203/500 [29:09<39:20,  7.95s/it]"
     ]
    },
    {
     "name": "stdout",
     "output_type": "stream",
     "text": [
      "Test on 1143 samples\n",
      "R^2: -0.10\n",
      "Test Loss: 1.73%\n",
      "Train Epoch: 204 [0/19577 (0%)]\tLoss: 0.002907\n",
      "Train Epoch: 204 [3200/19577 (16%)]\tLoss: 0.002512\n",
      "Train Epoch: 204 [6400/19577 (33%)]\tLoss: 0.011666\n",
      "Train Epoch: 204 [9600/19577 (49%)]\tLoss: 0.005631\n",
      "Train Epoch: 204 [12800/19577 (65%)]\tLoss: 0.004636\n",
      "Train Epoch: 204 [16000/19577 (82%)]\tLoss: 0.003404\n",
      "Train Epoch: 204 [19200/19577 (98%)]\tLoss: 0.003012\n",
      "\n",
      "Train loss: 0.007506233391205908\n"
     ]
    },
    {
     "name": "stderr",
     "output_type": "stream",
     "text": [
      "\r",
      " 41%|████      | 204/500 [29:18<40:51,  8.28s/it]"
     ]
    },
    {
     "name": "stdout",
     "output_type": "stream",
     "text": [
      "Test on 1143 samples\n",
      "R^2: -0.96\n",
      "Test Loss: 1.74%\n",
      "Train Epoch: 205 [0/19577 (0%)]\tLoss: 0.003619\n",
      "Train Epoch: 205 [3200/19577 (16%)]\tLoss: 0.002670\n",
      "Train Epoch: 205 [6400/19577 (33%)]\tLoss: 0.005268\n",
      "Train Epoch: 205 [9600/19577 (49%)]\tLoss: 0.006370\n",
      "Train Epoch: 205 [12800/19577 (65%)]\tLoss: 0.012573\n",
      "Train Epoch: 205 [16000/19577 (82%)]\tLoss: 0.006060\n",
      "Train Epoch: 205 [19200/19577 (98%)]\tLoss: 0.010532\n",
      "\n",
      "Train loss: 0.007489721934475443\n"
     ]
    },
    {
     "name": "stderr",
     "output_type": "stream",
     "text": [
      "\r",
      " 41%|████      | 205/500 [29:25<39:02,  7.94s/it]"
     ]
    },
    {
     "name": "stdout",
     "output_type": "stream",
     "text": [
      "Test on 1143 samples\n",
      "R^2: -0.64\n",
      "Test Loss: 1.73%\n",
      "Train Epoch: 206 [0/19577 (0%)]\tLoss: 0.005577\n",
      "Train Epoch: 206 [3200/19577 (16%)]\tLoss: 0.004896\n",
      "Train Epoch: 206 [6400/19577 (33%)]\tLoss: 0.004613\n",
      "Train Epoch: 206 [9600/19577 (49%)]\tLoss: 0.004105\n",
      "Train Epoch: 206 [12800/19577 (65%)]\tLoss: 0.006944\n",
      "Train Epoch: 206 [16000/19577 (82%)]\tLoss: 0.004138\n",
      "Train Epoch: 206 [19200/19577 (98%)]\tLoss: 0.005351\n",
      "\n",
      "Train loss: 0.007498006425414453\n"
     ]
    },
    {
     "name": "stderr",
     "output_type": "stream",
     "text": [
      "\r",
      " 41%|████      | 206/500 [29:33<38:28,  7.85s/it]"
     ]
    },
    {
     "name": "stdout",
     "output_type": "stream",
     "text": [
      "Test on 1143 samples\n",
      "R^2: -0.19\n",
      "Test Loss: 1.73%\n",
      "Train Epoch: 207 [0/19577 (0%)]\tLoss: 0.006446\n",
      "Train Epoch: 207 [3200/19577 (16%)]\tLoss: 0.004508\n",
      "Train Epoch: 207 [6400/19577 (33%)]\tLoss: 0.010989\n",
      "Train Epoch: 207 [9600/19577 (49%)]\tLoss: 0.004323\n",
      "Train Epoch: 207 [12800/19577 (65%)]\tLoss: 0.007786\n",
      "Train Epoch: 207 [16000/19577 (82%)]\tLoss: 0.004507\n",
      "Train Epoch: 207 [19200/19577 (98%)]\tLoss: 0.006744\n",
      "\n",
      "Train loss: 0.007498263513815461\n"
     ]
    },
    {
     "name": "stderr",
     "output_type": "stream",
     "text": [
      "\r",
      " 41%|████▏     | 207/500 [29:41<37:48,  7.74s/it]"
     ]
    },
    {
     "name": "stdout",
     "output_type": "stream",
     "text": [
      "Test on 1143 samples\n",
      "R^2: -0.22\n",
      "Test Loss: 1.73%\n",
      "Train Epoch: 208 [0/19577 (0%)]\tLoss: 0.021365\n",
      "Train Epoch: 208 [3200/19577 (16%)]\tLoss: 0.004630\n",
      "Train Epoch: 208 [6400/19577 (33%)]\tLoss: 0.013693\n",
      "Train Epoch: 208 [9600/19577 (49%)]\tLoss: 0.004066\n",
      "Train Epoch: 208 [12800/19577 (65%)]\tLoss: 0.005030\n",
      "Train Epoch: 208 [16000/19577 (82%)]\tLoss: 0.004346\n",
      "Train Epoch: 208 [19200/19577 (98%)]\tLoss: 0.007348\n",
      "\n",
      "Train loss: 0.007486552455054681\n"
     ]
    },
    {
     "name": "stderr",
     "output_type": "stream",
     "text": [
      "\r",
      " 42%|████▏     | 208/500 [29:49<38:28,  7.91s/it]"
     ]
    },
    {
     "name": "stdout",
     "output_type": "stream",
     "text": [
      "Test on 1143 samples\n",
      "R^2: -1.70\n",
      "Test Loss: 1.76%\n",
      "Train Epoch: 209 [0/19577 (0%)]\tLoss: 0.002995\n",
      "Train Epoch: 209 [3200/19577 (16%)]\tLoss: 0.005386\n",
      "Train Epoch: 209 [6400/19577 (33%)]\tLoss: 0.004572\n",
      "Train Epoch: 209 [9600/19577 (49%)]\tLoss: 0.004566\n",
      "Train Epoch: 209 [12800/19577 (65%)]\tLoss: 0.004185\n",
      "Train Epoch: 209 [16000/19577 (82%)]\tLoss: 0.007926\n",
      "Train Epoch: 209 [19200/19577 (98%)]\tLoss: 0.007735\n",
      "\n",
      "Train loss: 0.007477208593817659\n"
     ]
    },
    {
     "name": "stderr",
     "output_type": "stream",
     "text": [
      "\r",
      " 42%|████▏     | 209/500 [29:56<37:29,  7.73s/it]"
     ]
    },
    {
     "name": "stdout",
     "output_type": "stream",
     "text": [
      "Test on 1143 samples\n",
      "R^2: -2.12\n",
      "Test Loss: 1.74%\n",
      "Train Epoch: 210 [0/19577 (0%)]\tLoss: 0.003717\n",
      "Train Epoch: 210 [3200/19577 (16%)]\tLoss: 0.005827\n",
      "Train Epoch: 210 [6400/19577 (33%)]\tLoss: 0.011357\n",
      "Train Epoch: 210 [9600/19577 (49%)]\tLoss: 0.005012\n",
      "Train Epoch: 210 [12800/19577 (65%)]\tLoss: 0.003547\n",
      "Train Epoch: 210 [16000/19577 (82%)]\tLoss: 0.004302\n",
      "Train Epoch: 210 [19200/19577 (98%)]\tLoss: 0.004177\n",
      "\n",
      "Train loss: 0.007486977259509777\n"
     ]
    },
    {
     "name": "stderr",
     "output_type": "stream",
     "text": [
      "\r",
      " 42%|████▏     | 210/500 [30:05<38:39,  8.00s/it]"
     ]
    },
    {
     "name": "stdout",
     "output_type": "stream",
     "text": [
      "Test on 1143 samples\n",
      "R^2: -0.16\n",
      "Test Loss: 1.72%\n",
      "Train Epoch: 211 [0/19577 (0%)]\tLoss: 0.006937\n",
      "Train Epoch: 211 [3200/19577 (16%)]\tLoss: 0.004711\n",
      "Train Epoch: 211 [6400/19577 (33%)]\tLoss: 0.006305\n",
      "Train Epoch: 211 [9600/19577 (49%)]\tLoss: 0.004328\n",
      "Train Epoch: 211 [12800/19577 (65%)]\tLoss: 0.003290\n",
      "Train Epoch: 211 [16000/19577 (82%)]\tLoss: 0.001858\n",
      "Train Epoch: 211 [19200/19577 (98%)]\tLoss: 0.005137\n",
      "\n",
      "Train loss: 0.0074802171016641545\n"
     ]
    },
    {
     "name": "stderr",
     "output_type": "stream",
     "text": [
      "\r",
      " 42%|████▏     | 211/500 [30:13<38:27,  7.99s/it]"
     ]
    },
    {
     "name": "stdout",
     "output_type": "stream",
     "text": [
      "Test on 1143 samples\n",
      "R^2: -0.22\n",
      "Test Loss: 1.73%\n",
      "Train Epoch: 212 [0/19577 (0%)]\tLoss: 0.006448\n",
      "Train Epoch: 212 [3200/19577 (16%)]\tLoss: 0.008148\n",
      "Train Epoch: 212 [6400/19577 (33%)]\tLoss: 0.008032\n",
      "Train Epoch: 212 [9600/19577 (49%)]\tLoss: 0.002839\n",
      "Train Epoch: 212 [12800/19577 (65%)]\tLoss: 0.006330\n",
      "Train Epoch: 212 [16000/19577 (82%)]\tLoss: 0.002502\n",
      "Train Epoch: 212 [19200/19577 (98%)]\tLoss: 0.006410\n",
      "\n",
      "Train loss: 0.007481426260437135\n"
     ]
    },
    {
     "name": "stderr",
     "output_type": "stream",
     "text": [
      "\r",
      " 42%|████▏     | 212/500 [30:20<37:31,  7.82s/it]"
     ]
    },
    {
     "name": "stdout",
     "output_type": "stream",
     "text": [
      "Test on 1143 samples\n",
      "R^2: -2.90\n",
      "Test Loss: 1.77%\n",
      "Train Epoch: 213 [0/19577 (0%)]\tLoss: 0.002771\n",
      "Train Epoch: 213 [3200/19577 (16%)]\tLoss: 0.002405\n",
      "Train Epoch: 213 [6400/19577 (33%)]\tLoss: 0.005297\n",
      "Train Epoch: 213 [9600/19577 (49%)]\tLoss: 0.007625\n",
      "Train Epoch: 213 [12800/19577 (65%)]\tLoss: 0.009199\n",
      "Train Epoch: 213 [16000/19577 (82%)]\tLoss: 0.007241\n",
      "Train Epoch: 213 [19200/19577 (98%)]\tLoss: 0.006074\n",
      "\n",
      "Train loss: 0.00745692288159131\n"
     ]
    },
    {
     "name": "stderr",
     "output_type": "stream",
     "text": [
      "\r",
      " 43%|████▎     | 213/500 [30:29<39:29,  8.26s/it]"
     ]
    },
    {
     "name": "stdout",
     "output_type": "stream",
     "text": [
      "Test on 1143 samples\n",
      "R^2: -0.06\n",
      "Test Loss: 1.72%\n",
      "Train Epoch: 214 [0/19577 (0%)]\tLoss: 0.009960\n",
      "Train Epoch: 214 [3200/19577 (16%)]\tLoss: 0.020555\n",
      "Train Epoch: 214 [6400/19577 (33%)]\tLoss: 0.008604\n",
      "Train Epoch: 214 [9600/19577 (49%)]\tLoss: 0.004321\n",
      "Train Epoch: 214 [12800/19577 (65%)]\tLoss: 0.006667\n",
      "Train Epoch: 214 [16000/19577 (82%)]\tLoss: 0.007199\n",
      "Train Epoch: 214 [19200/19577 (98%)]\tLoss: 0.010609\n",
      "\n",
      "Train loss: 0.007475761894145798\n"
     ]
    },
    {
     "name": "stderr",
     "output_type": "stream",
     "text": [
      "\r",
      " 43%|████▎     | 214/500 [30:37<39:00,  8.18s/it]"
     ]
    },
    {
     "name": "stdout",
     "output_type": "stream",
     "text": [
      "Test on 1143 samples\n",
      "R^2: -0.19\n",
      "Test Loss: 1.72%\n",
      "Train Epoch: 215 [0/19577 (0%)]\tLoss: 0.008404\n",
      "Train Epoch: 215 [3200/19577 (16%)]\tLoss: 0.007696\n",
      "Train Epoch: 215 [6400/19577 (33%)]\tLoss: 0.015271\n",
      "Train Epoch: 215 [9600/19577 (49%)]\tLoss: 0.003299\n",
      "Train Epoch: 215 [12800/19577 (65%)]\tLoss: 0.006659\n",
      "Train Epoch: 215 [16000/19577 (82%)]\tLoss: 0.003999\n",
      "Train Epoch: 215 [19200/19577 (98%)]\tLoss: 0.004964\n",
      "\n",
      "Train loss: 0.007453349400676933\n"
     ]
    },
    {
     "name": "stderr",
     "output_type": "stream",
     "text": [
      "\r",
      " 43%|████▎     | 215/500 [30:45<38:25,  8.09s/it]"
     ]
    },
    {
     "name": "stdout",
     "output_type": "stream",
     "text": [
      "Test on 1143 samples\n",
      "R^2: -0.41\n",
      "Test Loss: 1.72%\n",
      "Train Epoch: 216 [0/19577 (0%)]\tLoss: 0.003855\n",
      "Train Epoch: 216 [3200/19577 (16%)]\tLoss: 0.005540\n",
      "Train Epoch: 216 [6400/19577 (33%)]\tLoss: 0.007075\n",
      "Train Epoch: 216 [9600/19577 (49%)]\tLoss: 0.005485\n",
      "Train Epoch: 216 [12800/19577 (65%)]\tLoss: 0.005478\n",
      "Train Epoch: 216 [16000/19577 (82%)]\tLoss: 0.005210\n",
      "Train Epoch: 216 [19200/19577 (98%)]\tLoss: 0.002691\n",
      "\n",
      "Train loss: 0.0074766988198735505\n"
     ]
    },
    {
     "name": "stderr",
     "output_type": "stream",
     "text": [
      "\r",
      " 43%|████▎     | 216/500 [30:53<37:27,  7.91s/it]"
     ]
    },
    {
     "name": "stdout",
     "output_type": "stream",
     "text": [
      "Test on 1143 samples\n",
      "R^2: -0.56\n",
      "Test Loss: 1.73%\n",
      "Train Epoch: 217 [0/19577 (0%)]\tLoss: 0.005275\n",
      "Train Epoch: 217 [3200/19577 (16%)]\tLoss: 0.009282\n",
      "Train Epoch: 217 [6400/19577 (33%)]\tLoss: 0.009782\n",
      "Train Epoch: 217 [9600/19577 (49%)]\tLoss: 0.005061\n",
      "Train Epoch: 217 [12800/19577 (65%)]\tLoss: 0.006039\n",
      "Train Epoch: 217 [16000/19577 (82%)]\tLoss: 0.004259\n",
      "Train Epoch: 217 [19200/19577 (98%)]\tLoss: 0.006271\n",
      "\n",
      "Train loss: 0.007459686075723761\n"
     ]
    },
    {
     "name": "stderr",
     "output_type": "stream",
     "text": [
      "\r",
      " 43%|████▎     | 217/500 [31:00<35:56,  7.62s/it]"
     ]
    },
    {
     "name": "stdout",
     "output_type": "stream",
     "text": [
      "Test on 1143 samples\n",
      "R^2: -0.15\n",
      "Test Loss: 1.72%\n",
      "Train Epoch: 218 [0/19577 (0%)]\tLoss: 0.003027\n",
      "Train Epoch: 218 [3200/19577 (16%)]\tLoss: 0.015841\n",
      "Train Epoch: 218 [6400/19577 (33%)]\tLoss: 0.007466\n",
      "Train Epoch: 218 [9600/19577 (49%)]\tLoss: 0.003548\n",
      "Train Epoch: 218 [12800/19577 (65%)]\tLoss: 0.007806\n",
      "Train Epoch: 218 [16000/19577 (82%)]\tLoss: 0.005126\n",
      "Train Epoch: 218 [19200/19577 (98%)]\tLoss: 0.005497\n",
      "\n",
      "Train loss: 0.007445465573992312\n"
     ]
    },
    {
     "name": "stderr",
     "output_type": "stream",
     "text": [
      "\r",
      " 44%|████▎     | 218/500 [31:07<34:57,  7.44s/it]"
     ]
    },
    {
     "name": "stdout",
     "output_type": "stream",
     "text": [
      "Test on 1143 samples\n",
      "R^2: -0.52\n",
      "Test Loss: 1.72%\n",
      "Train Epoch: 219 [0/19577 (0%)]\tLoss: 0.004545\n",
      "Train Epoch: 219 [3200/19577 (16%)]\tLoss: 0.005206\n",
      "Train Epoch: 219 [6400/19577 (33%)]\tLoss: 0.006872\n",
      "Train Epoch: 219 [9600/19577 (49%)]\tLoss: 0.008101\n",
      "Train Epoch: 219 [12800/19577 (65%)]\tLoss: 0.007385\n",
      "Train Epoch: 219 [16000/19577 (82%)]\tLoss: 0.004368\n",
      "Train Epoch: 219 [19200/19577 (98%)]\tLoss: 0.005430\n",
      "\n",
      "Train loss: 0.007447714204793443\n"
     ]
    },
    {
     "name": "stderr",
     "output_type": "stream",
     "text": [
      "\r",
      " 44%|████▍     | 219/500 [31:14<34:38,  7.40s/it]"
     ]
    },
    {
     "name": "stdout",
     "output_type": "stream",
     "text": [
      "Test on 1143 samples\n",
      "R^2: -1.44\n",
      "Test Loss: 1.74%\n",
      "Train Epoch: 220 [0/19577 (0%)]\tLoss: 0.008042\n",
      "Train Epoch: 220 [3200/19577 (16%)]\tLoss: 0.005931\n",
      "Train Epoch: 220 [6400/19577 (33%)]\tLoss: 0.009897\n",
      "Train Epoch: 220 [9600/19577 (49%)]\tLoss: 0.004371\n",
      "Train Epoch: 220 [12800/19577 (65%)]\tLoss: 0.008545\n",
      "Train Epoch: 220 [16000/19577 (82%)]\tLoss: 0.009314\n",
      "Train Epoch: 220 [19200/19577 (98%)]\tLoss: 0.003398\n",
      "\n",
      "Train loss: 0.007443326204296908\n"
     ]
    },
    {
     "name": "stderr",
     "output_type": "stream",
     "text": [
      "\r",
      " 44%|████▍     | 220/500 [31:21<34:01,  7.29s/it]"
     ]
    },
    {
     "name": "stdout",
     "output_type": "stream",
     "text": [
      "Test on 1143 samples\n",
      "R^2: -0.34\n",
      "Test Loss: 1.71%\n",
      "Train Epoch: 221 [0/19577 (0%)]\tLoss: 0.005747\n",
      "Train Epoch: 221 [3200/19577 (16%)]\tLoss: 0.003049\n",
      "Train Epoch: 221 [6400/19577 (33%)]\tLoss: 0.019644\n",
      "Train Epoch: 221 [9600/19577 (49%)]\tLoss: 0.006208\n",
      "Train Epoch: 221 [12800/19577 (65%)]\tLoss: 0.003237\n",
      "Train Epoch: 221 [16000/19577 (82%)]\tLoss: 0.005990\n",
      "Train Epoch: 221 [19200/19577 (98%)]\tLoss: 0.004514\n",
      "\n",
      "Train loss: 0.007438160870163367\n"
     ]
    },
    {
     "name": "stderr",
     "output_type": "stream",
     "text": [
      "\r",
      " 44%|████▍     | 221/500 [31:29<34:05,  7.33s/it]"
     ]
    },
    {
     "name": "stdout",
     "output_type": "stream",
     "text": [
      "Test on 1143 samples\n",
      "R^2: -0.35\n",
      "Test Loss: 1.72%\n",
      "Train Epoch: 222 [0/19577 (0%)]\tLoss: 0.003102\n",
      "Train Epoch: 222 [3200/19577 (16%)]\tLoss: 0.003988\n",
      "Train Epoch: 222 [6400/19577 (33%)]\tLoss: 0.011206\n",
      "Train Epoch: 222 [9600/19577 (49%)]\tLoss: 0.004218\n",
      "Train Epoch: 222 [12800/19577 (65%)]\tLoss: 0.005695\n",
      "Train Epoch: 222 [16000/19577 (82%)]\tLoss: 0.020318\n",
      "Train Epoch: 222 [19200/19577 (98%)]\tLoss: 0.005523\n",
      "\n",
      "Train loss: 0.007419405127662459\n"
     ]
    },
    {
     "name": "stderr",
     "output_type": "stream",
     "text": [
      "\r",
      " 44%|████▍     | 222/500 [31:36<33:25,  7.21s/it]"
     ]
    },
    {
     "name": "stdout",
     "output_type": "stream",
     "text": [
      "Test on 1143 samples\n",
      "R^2: -0.05\n",
      "Test Loss: 1.72%\n",
      "Train Epoch: 223 [0/19577 (0%)]\tLoss: 0.006429\n",
      "Train Epoch: 223 [3200/19577 (16%)]\tLoss: 0.007812\n",
      "Train Epoch: 223 [6400/19577 (33%)]\tLoss: 0.008450\n",
      "Train Epoch: 223 [9600/19577 (49%)]\tLoss: 0.004564\n",
      "Train Epoch: 223 [12800/19577 (65%)]\tLoss: 0.003861\n",
      "Train Epoch: 223 [16000/19577 (82%)]\tLoss: 0.008653\n",
      "Train Epoch: 223 [19200/19577 (98%)]\tLoss: 0.008988\n",
      "\n",
      "Train loss: 0.00742292974153351\n"
     ]
    },
    {
     "name": "stderr",
     "output_type": "stream",
     "text": [
      "\r",
      " 45%|████▍     | 223/500 [31:42<32:49,  7.11s/it]"
     ]
    },
    {
     "name": "stdout",
     "output_type": "stream",
     "text": [
      "Test on 1143 samples\n",
      "R^2: -0.23\n",
      "Test Loss: 1.71%\n",
      "Train Epoch: 224 [0/19577 (0%)]\tLoss: 0.013155\n",
      "Train Epoch: 224 [3200/19577 (16%)]\tLoss: 0.005387\n",
      "Train Epoch: 224 [6400/19577 (33%)]\tLoss: 0.004769\n",
      "Train Epoch: 224 [9600/19577 (49%)]\tLoss: 0.003212\n",
      "Train Epoch: 224 [12800/19577 (65%)]\tLoss: 0.005536\n",
      "Train Epoch: 224 [16000/19577 (82%)]\tLoss: 0.006311\n",
      "Train Epoch: 224 [19200/19577 (98%)]\tLoss: 0.011275\n",
      "\n",
      "Train loss: 0.007426661190430762\n"
     ]
    },
    {
     "name": "stderr",
     "output_type": "stream",
     "text": [
      "\r",
      " 45%|████▍     | 224/500 [31:49<32:28,  7.06s/it]"
     ]
    },
    {
     "name": "stdout",
     "output_type": "stream",
     "text": [
      "Test on 1143 samples\n",
      "R^2: -0.09\n",
      "Test Loss: 1.71%\n",
      "Train Epoch: 225 [0/19577 (0%)]\tLoss: 0.002863\n",
      "Train Epoch: 225 [3200/19577 (16%)]\tLoss: 0.004717\n",
      "Train Epoch: 225 [6400/19577 (33%)]\tLoss: 0.003266\n",
      "Train Epoch: 225 [9600/19577 (49%)]\tLoss: 0.008655\n",
      "Train Epoch: 225 [12800/19577 (65%)]\tLoss: 0.003049\n",
      "Train Epoch: 225 [16000/19577 (82%)]\tLoss: 0.002903\n",
      "Train Epoch: 225 [19200/19577 (98%)]\tLoss: 0.005271\n",
      "\n",
      "Train loss: 0.007419541455330509\n"
     ]
    },
    {
     "name": "stderr",
     "output_type": "stream",
     "text": [
      "\r",
      " 45%|████▌     | 225/500 [31:56<32:22,  7.06s/it]"
     ]
    },
    {
     "name": "stdout",
     "output_type": "stream",
     "text": [
      "Test on 1143 samples\n",
      "R^2: -0.34\n",
      "Test Loss: 1.72%\n",
      "Train Epoch: 226 [0/19577 (0%)]\tLoss: 0.005555\n",
      "Train Epoch: 226 [3200/19577 (16%)]\tLoss: 0.007329\n",
      "Train Epoch: 226 [6400/19577 (33%)]\tLoss: 0.013412\n",
      "Train Epoch: 226 [9600/19577 (49%)]\tLoss: 0.005491\n",
      "Train Epoch: 226 [12800/19577 (65%)]\tLoss: 0.004051\n",
      "Train Epoch: 226 [16000/19577 (82%)]\tLoss: 0.007921\n",
      "Train Epoch: 226 [19200/19577 (98%)]\tLoss: 0.005883\n",
      "\n",
      "Train loss: 0.007413288992312219\n"
     ]
    },
    {
     "name": "stderr",
     "output_type": "stream",
     "text": [
      "\r",
      " 45%|████▌     | 226/500 [32:03<32:02,  7.02s/it]"
     ]
    },
    {
     "name": "stdout",
     "output_type": "stream",
     "text": [
      "Test on 1143 samples\n",
      "R^2: -0.13\n",
      "Test Loss: 1.71%\n",
      "Train Epoch: 227 [0/19577 (0%)]\tLoss: 0.011952\n",
      "Train Epoch: 227 [3200/19577 (16%)]\tLoss: 0.006643\n",
      "Train Epoch: 227 [6400/19577 (33%)]\tLoss: 0.003450\n",
      "Train Epoch: 227 [9600/19577 (49%)]\tLoss: 0.003168\n",
      "Train Epoch: 227 [12800/19577 (65%)]\tLoss: 0.003803\n",
      "Train Epoch: 227 [16000/19577 (82%)]\tLoss: 0.003616\n",
      "Train Epoch: 227 [19200/19577 (98%)]\tLoss: 0.023357\n",
      "\n",
      "Train loss: 0.007435485134753429\n"
     ]
    },
    {
     "name": "stderr",
     "output_type": "stream",
     "text": [
      "\r",
      " 45%|████▌     | 227/500 [32:10<31:46,  6.99s/it]"
     ]
    },
    {
     "name": "stdout",
     "output_type": "stream",
     "text": [
      "Test on 1143 samples\n",
      "R^2: -0.45\n",
      "Test Loss: 1.71%\n",
      "Train Epoch: 228 [0/19577 (0%)]\tLoss: 0.008386\n",
      "Train Epoch: 228 [3200/19577 (16%)]\tLoss: 0.005554\n",
      "Train Epoch: 228 [6400/19577 (33%)]\tLoss: 0.004191\n",
      "Train Epoch: 228 [9600/19577 (49%)]\tLoss: 0.005219\n",
      "Train Epoch: 228 [12800/19577 (65%)]\tLoss: 0.015942\n",
      "Train Epoch: 228 [16000/19577 (82%)]\tLoss: 0.002217\n",
      "Train Epoch: 228 [19200/19577 (98%)]\tLoss: 0.006685\n",
      "\n",
      "Train loss: 0.007408935973098124\n"
     ]
    },
    {
     "name": "stderr",
     "output_type": "stream",
     "text": [
      "\r",
      " 46%|████▌     | 228/500 [32:17<31:35,  6.97s/it]"
     ]
    },
    {
     "name": "stdout",
     "output_type": "stream",
     "text": [
      "Test on 1143 samples\n",
      "R^2: -0.90\n",
      "Test Loss: 1.72%\n",
      "Train Epoch: 229 [0/19577 (0%)]\tLoss: 0.004544\n",
      "Train Epoch: 229 [3200/19577 (16%)]\tLoss: 0.005469\n",
      "Train Epoch: 229 [6400/19577 (33%)]\tLoss: 0.003083\n",
      "Train Epoch: 229 [9600/19577 (49%)]\tLoss: 0.004586\n",
      "Train Epoch: 229 [12800/19577 (65%)]\tLoss: 0.008176\n",
      "Train Epoch: 229 [16000/19577 (82%)]\tLoss: 0.005104\n",
      "Train Epoch: 229 [19200/19577 (98%)]\tLoss: 0.003252\n",
      "\n",
      "Train loss: 0.007407384913938205\n"
     ]
    },
    {
     "name": "stderr",
     "output_type": "stream",
     "text": [
      "\r",
      " 46%|████▌     | 229/500 [32:25<32:33,  7.21s/it]"
     ]
    },
    {
     "name": "stdout",
     "output_type": "stream",
     "text": [
      "Test on 1143 samples\n",
      "R^2: -0.16\n",
      "Test Loss: 1.71%\n",
      "Train Epoch: 230 [0/19577 (0%)]\tLoss: 0.005580\n",
      "Train Epoch: 230 [3200/19577 (16%)]\tLoss: 0.007578\n",
      "Train Epoch: 230 [6400/19577 (33%)]\tLoss: 0.027536\n",
      "Train Epoch: 230 [9600/19577 (49%)]\tLoss: 0.004044\n",
      "Train Epoch: 230 [12800/19577 (65%)]\tLoss: 0.007173\n",
      "Train Epoch: 230 [16000/19577 (82%)]\tLoss: 0.006561\n",
      "Train Epoch: 230 [19200/19577 (98%)]\tLoss: 0.004583\n",
      "\n",
      "Train loss: 0.007401781128506401\n"
     ]
    },
    {
     "name": "stderr",
     "output_type": "stream",
     "text": [
      "\r",
      " 46%|████▌     | 230/500 [32:32<32:41,  7.27s/it]"
     ]
    },
    {
     "name": "stdout",
     "output_type": "stream",
     "text": [
      "Test on 1143 samples\n",
      "R^2: -0.06\n",
      "Test Loss: 1.71%\n",
      "Train Epoch: 231 [0/19577 (0%)]\tLoss: 0.004250\n",
      "Train Epoch: 231 [3200/19577 (16%)]\tLoss: 0.008984\n",
      "Train Epoch: 231 [6400/19577 (33%)]\tLoss: 0.005329\n",
      "Train Epoch: 231 [9600/19577 (49%)]\tLoss: 0.002407\n",
      "Train Epoch: 231 [12800/19577 (65%)]\tLoss: 0.005347\n",
      "Train Epoch: 231 [16000/19577 (82%)]\tLoss: 0.007018\n",
      "Train Epoch: 231 [19200/19577 (98%)]\tLoss: 0.005833\n",
      "\n",
      "Train loss: 0.0074026804501829925\n"
     ]
    },
    {
     "name": "stderr",
     "output_type": "stream",
     "text": [
      "\r",
      " 46%|████▌     | 231/500 [32:40<33:26,  7.46s/it]"
     ]
    },
    {
     "name": "stdout",
     "output_type": "stream",
     "text": [
      "Test on 1143 samples\n",
      "R^2: -0.17\n",
      "Test Loss: 1.70%\n",
      "Train Epoch: 232 [0/19577 (0%)]\tLoss: 0.006534\n",
      "Train Epoch: 232 [3200/19577 (16%)]\tLoss: 0.004688\n",
      "Train Epoch: 232 [6400/19577 (33%)]\tLoss: 0.042919\n",
      "Train Epoch: 232 [9600/19577 (49%)]\tLoss: 0.004779\n",
      "Train Epoch: 232 [12800/19577 (65%)]\tLoss: 0.006405\n",
      "Train Epoch: 232 [16000/19577 (82%)]\tLoss: 0.003641\n",
      "Train Epoch: 232 [19200/19577 (98%)]\tLoss: 0.007000\n",
      "\n",
      "Train loss: 0.007394885622251024\n"
     ]
    },
    {
     "name": "stderr",
     "output_type": "stream",
     "text": [
      "\r",
      " 46%|████▋     | 232/500 [32:47<33:03,  7.40s/it]"
     ]
    },
    {
     "name": "stdout",
     "output_type": "stream",
     "text": [
      "Test on 1143 samples\n",
      "R^2: -0.10\n",
      "Test Loss: 1.71%\n",
      "Train Epoch: 233 [0/19577 (0%)]\tLoss: 0.006876\n",
      "Train Epoch: 233 [3200/19577 (16%)]\tLoss: 0.004869\n",
      "Train Epoch: 233 [6400/19577 (33%)]\tLoss: 0.005574\n",
      "Train Epoch: 233 [9600/19577 (49%)]\tLoss: 0.005939\n",
      "Train Epoch: 233 [12800/19577 (65%)]\tLoss: 0.008583\n",
      "Train Epoch: 233 [16000/19577 (82%)]\tLoss: 0.011903\n",
      "Train Epoch: 233 [19200/19577 (98%)]\tLoss: 0.008370\n",
      "\n",
      "Train loss: 0.007392782609517157\n"
     ]
    },
    {
     "name": "stderr",
     "output_type": "stream",
     "text": [
      "\r",
      " 47%|████▋     | 233/500 [32:56<34:10,  7.68s/it]"
     ]
    },
    {
     "name": "stdout",
     "output_type": "stream",
     "text": [
      "Test on 1143 samples\n",
      "R^2: -0.11\n",
      "Test Loss: 1.70%\n",
      "Train Epoch: 234 [0/19577 (0%)]\tLoss: 0.005983\n",
      "Train Epoch: 234 [3200/19577 (16%)]\tLoss: 0.038554\n",
      "Train Epoch: 234 [6400/19577 (33%)]\tLoss: 0.004715\n",
      "Train Epoch: 234 [9600/19577 (49%)]\tLoss: 0.005861\n",
      "Train Epoch: 234 [12800/19577 (65%)]\tLoss: 0.007257\n",
      "Train Epoch: 234 [16000/19577 (82%)]\tLoss: 0.007957\n",
      "Train Epoch: 234 [19200/19577 (98%)]\tLoss: 0.005561\n",
      "\n",
      "Train loss: 0.007389371227046925\n"
     ]
    },
    {
     "name": "stderr",
     "output_type": "stream",
     "text": [
      "\r",
      " 47%|████▋     | 234/500 [33:03<33:23,  7.53s/it]"
     ]
    },
    {
     "name": "stdout",
     "output_type": "stream",
     "text": [
      "Test on 1143 samples\n",
      "R^2: -0.27\n",
      "Test Loss: 1.70%\n",
      "Train Epoch: 235 [0/19577 (0%)]\tLoss: 0.011538\n",
      "Train Epoch: 235 [3200/19577 (16%)]\tLoss: 0.004382\n",
      "Train Epoch: 235 [6400/19577 (33%)]\tLoss: 0.004321\n",
      "Train Epoch: 235 [9600/19577 (49%)]\tLoss: 0.003379\n",
      "Train Epoch: 235 [12800/19577 (65%)]\tLoss: 0.005054\n",
      "Train Epoch: 235 [16000/19577 (82%)]\tLoss: 0.004792\n",
      "Train Epoch: 235 [19200/19577 (98%)]\tLoss: 0.008030\n",
      "\n",
      "Train loss: 0.007394421502515625\n"
     ]
    },
    {
     "name": "stderr",
     "output_type": "stream",
     "text": [
      "\r",
      " 47%|████▋     | 235/500 [33:10<32:54,  7.45s/it]"
     ]
    },
    {
     "name": "stdout",
     "output_type": "stream",
     "text": [
      "Test on 1143 samples\n",
      "R^2: -0.23\n",
      "Test Loss: 1.70%\n",
      "Train Epoch: 236 [0/19577 (0%)]\tLoss: 0.008901\n",
      "Train Epoch: 236 [3200/19577 (16%)]\tLoss: 0.006709\n",
      "Train Epoch: 236 [6400/19577 (33%)]\tLoss: 0.004536\n",
      "Train Epoch: 236 [9600/19577 (49%)]\tLoss: 0.005944\n",
      "Train Epoch: 236 [12800/19577 (65%)]\tLoss: 0.002635\n",
      "Train Epoch: 236 [16000/19577 (82%)]\tLoss: 0.004601\n",
      "Train Epoch: 236 [19200/19577 (98%)]\tLoss: 0.007182\n",
      "\n",
      "Train loss: 0.007384670293034705\n"
     ]
    },
    {
     "name": "stderr",
     "output_type": "stream",
     "text": [
      "\r",
      " 47%|████▋     | 236/500 [33:18<33:38,  7.65s/it]"
     ]
    },
    {
     "name": "stdout",
     "output_type": "stream",
     "text": [
      "Test on 1143 samples\n",
      "R^2: -1.01\n",
      "Test Loss: 1.72%\n",
      "Train Epoch: 237 [0/19577 (0%)]\tLoss: 0.004032\n",
      "Train Epoch: 237 [3200/19577 (16%)]\tLoss: 0.003421\n",
      "Train Epoch: 237 [6400/19577 (33%)]\tLoss: 0.003111\n",
      "Train Epoch: 237 [9600/19577 (49%)]\tLoss: 0.010185\n",
      "Train Epoch: 237 [12800/19577 (65%)]\tLoss: 0.014242\n",
      "Train Epoch: 237 [16000/19577 (82%)]\tLoss: 0.009027\n",
      "Train Epoch: 237 [19200/19577 (98%)]\tLoss: 0.003426\n",
      "\n",
      "Train loss: 0.007377796802590632\n"
     ]
    },
    {
     "name": "stderr",
     "output_type": "stream",
     "text": [
      "\r",
      " 47%|████▋     | 237/500 [33:27<35:01,  7.99s/it]"
     ]
    },
    {
     "name": "stdout",
     "output_type": "stream",
     "text": [
      "Test on 1143 samples\n",
      "R^2: -0.03\n",
      "Test Loss: 1.70%\n",
      "Train Epoch: 238 [0/19577 (0%)]\tLoss: 0.012569\n",
      "Train Epoch: 238 [3200/19577 (16%)]\tLoss: 0.004979\n",
      "Train Epoch: 238 [6400/19577 (33%)]\tLoss: 0.008141\n",
      "Train Epoch: 238 [9600/19577 (49%)]\tLoss: 0.003810\n",
      "Train Epoch: 238 [12800/19577 (65%)]\tLoss: 0.004189\n",
      "Train Epoch: 238 [16000/19577 (82%)]\tLoss: 0.006334\n",
      "Train Epoch: 238 [19200/19577 (98%)]\tLoss: 0.005234\n",
      "\n",
      "Train loss: 0.007386516167910076\n"
     ]
    },
    {
     "name": "stderr",
     "output_type": "stream",
     "text": [
      "\r",
      " 48%|████▊     | 238/500 [33:37<37:30,  8.59s/it]"
     ]
    },
    {
     "name": "stdout",
     "output_type": "stream",
     "text": [
      "Test on 1143 samples\n",
      "R^2: -1.52\n",
      "Test Loss: 1.71%\n",
      "Train Epoch: 239 [0/19577 (0%)]\tLoss: 0.007243\n",
      "Train Epoch: 239 [3200/19577 (16%)]\tLoss: 0.003701\n",
      "Train Epoch: 239 [6400/19577 (33%)]\tLoss: 0.005450\n",
      "Train Epoch: 239 [9600/19577 (49%)]\tLoss: 0.006425\n",
      "Train Epoch: 239 [12800/19577 (65%)]\tLoss: 0.010074\n",
      "Train Epoch: 239 [16000/19577 (82%)]\tLoss: 0.002925\n",
      "Train Epoch: 239 [19200/19577 (98%)]\tLoss: 0.004767\n",
      "\n",
      "Train loss: 0.007385816052632126\n"
     ]
    },
    {
     "name": "stderr",
     "output_type": "stream",
     "text": [
      "\r",
      " 48%|████▊     | 239/500 [33:50<42:22,  9.74s/it]"
     ]
    },
    {
     "name": "stdout",
     "output_type": "stream",
     "text": [
      "Test on 1143 samples\n",
      "R^2: -1.06\n",
      "Test Loss: 1.71%\n",
      "Train Epoch: 240 [0/19577 (0%)]\tLoss: 0.005639\n",
      "Train Epoch: 240 [3200/19577 (16%)]\tLoss: 0.004226\n",
      "Train Epoch: 240 [6400/19577 (33%)]\tLoss: 0.006137\n",
      "Train Epoch: 240 [9600/19577 (49%)]\tLoss: 0.002731\n",
      "Train Epoch: 240 [12800/19577 (65%)]\tLoss: 0.006736\n",
      "Train Epoch: 240 [16000/19577 (82%)]\tLoss: 0.006002\n",
      "Train Epoch: 240 [19200/19577 (98%)]\tLoss: 0.008823\n",
      "\n",
      "Train loss: 0.007374278902764025\n"
     ]
    },
    {
     "name": "stderr",
     "output_type": "stream",
     "text": [
      "\r",
      " 48%|████▊     | 240/500 [34:05<49:30, 11.42s/it]"
     ]
    },
    {
     "name": "stdout",
     "output_type": "stream",
     "text": [
      "Test on 1143 samples\n",
      "R^2: -1.42\n",
      "Test Loss: 1.71%\n",
      "Train Epoch: 241 [0/19577 (0%)]\tLoss: 0.006296\n",
      "Train Epoch: 241 [3200/19577 (16%)]\tLoss: 0.006753\n",
      "Train Epoch: 241 [6400/19577 (33%)]\tLoss: 0.003465\n",
      "Train Epoch: 241 [9600/19577 (49%)]\tLoss: 0.001826\n",
      "Train Epoch: 241 [12800/19577 (65%)]\tLoss: 0.013651\n",
      "Train Epoch: 241 [16000/19577 (82%)]\tLoss: 0.003413\n",
      "Train Epoch: 241 [19200/19577 (98%)]\tLoss: 0.005302\n",
      "\n",
      "Train loss: 0.0073535469059339345\n"
     ]
    },
    {
     "name": "stderr",
     "output_type": "stream",
     "text": [
      "\r",
      " 48%|████▊     | 241/500 [34:16<48:16, 11.19s/it]"
     ]
    },
    {
     "name": "stdout",
     "output_type": "stream",
     "text": [
      "Test on 1143 samples\n",
      "R^2: -0.12\n",
      "Test Loss: 1.70%\n",
      "Train Epoch: 242 [0/19577 (0%)]\tLoss: 0.003221\n",
      "Train Epoch: 242 [3200/19577 (16%)]\tLoss: 0.005204\n",
      "Train Epoch: 242 [6400/19577 (33%)]\tLoss: 0.002756\n",
      "Train Epoch: 242 [9600/19577 (49%)]\tLoss: 0.005638\n",
      "Train Epoch: 242 [12800/19577 (65%)]\tLoss: 0.004291\n",
      "Train Epoch: 242 [16000/19577 (82%)]\tLoss: 0.002253\n",
      "Train Epoch: 242 [19200/19577 (98%)]\tLoss: 0.006907\n",
      "\n",
      "Train loss: 0.007366123371848873\n"
     ]
    },
    {
     "name": "stderr",
     "output_type": "stream",
     "text": [
      "\r",
      " 48%|████▊     | 242/500 [34:32<54:43, 12.73s/it]"
     ]
    },
    {
     "name": "stdout",
     "output_type": "stream",
     "text": [
      "Test on 1143 samples\n",
      "R^2: -4.00\n",
      "Test Loss: 1.73%\n",
      "Train Epoch: 243 [0/19577 (0%)]\tLoss: 0.002880\n",
      "Train Epoch: 243 [3200/19577 (16%)]\tLoss: 0.006493\n",
      "Train Epoch: 243 [6400/19577 (33%)]\tLoss: 0.003409\n",
      "Train Epoch: 243 [9600/19577 (49%)]\tLoss: 0.072962\n",
      "Train Epoch: 243 [12800/19577 (65%)]\tLoss: 0.002959\n",
      "Train Epoch: 243 [16000/19577 (82%)]\tLoss: 0.005931\n",
      "Train Epoch: 243 [19200/19577 (98%)]\tLoss: 0.014185\n",
      "\n",
      "Train loss: 0.007343628580356321\n"
     ]
    },
    {
     "name": "stderr",
     "output_type": "stream",
     "text": [
      "\r",
      " 49%|████▊     | 243/500 [34:43<52:00, 12.14s/it]"
     ]
    },
    {
     "name": "stdout",
     "output_type": "stream",
     "text": [
      "Test on 1143 samples\n",
      "R^2: -0.09\n",
      "Test Loss: 1.70%\n",
      "Train Epoch: 244 [0/19577 (0%)]\tLoss: 0.005453\n",
      "Train Epoch: 244 [3200/19577 (16%)]\tLoss: 0.005720\n",
      "Train Epoch: 244 [6400/19577 (33%)]\tLoss: 0.004673\n",
      "Train Epoch: 244 [9600/19577 (49%)]\tLoss: 0.005002\n",
      "Train Epoch: 244 [12800/19577 (65%)]\tLoss: 0.007223\n",
      "Train Epoch: 244 [16000/19577 (82%)]\tLoss: 0.003008\n",
      "Train Epoch: 244 [19200/19577 (98%)]\tLoss: 0.013092\n",
      "\n",
      "Train loss: 0.007362178189366496\n"
     ]
    },
    {
     "name": "stderr",
     "output_type": "stream",
     "text": [
      "\r",
      " 49%|████▉     | 244/500 [34:51<46:43, 10.95s/it]"
     ]
    },
    {
     "name": "stdout",
     "output_type": "stream",
     "text": [
      "Test on 1143 samples\n",
      "R^2: -2.43\n",
      "Test Loss: 1.72%\n",
      "Train Epoch: 245 [0/19577 (0%)]\tLoss: 0.004842\n",
      "Train Epoch: 245 [3200/19577 (16%)]\tLoss: 0.009270\n",
      "Train Epoch: 245 [6400/19577 (33%)]\tLoss: 0.006276\n",
      "Train Epoch: 245 [9600/19577 (49%)]\tLoss: 0.005258\n",
      "Train Epoch: 245 [12800/19577 (65%)]\tLoss: 0.003607\n",
      "Train Epoch: 245 [16000/19577 (82%)]\tLoss: 0.003683\n",
      "Train Epoch: 245 [19200/19577 (98%)]\tLoss: 0.004022\n",
      "\n",
      "Train loss: 0.007347423482451929\n"
     ]
    },
    {
     "name": "stderr",
     "output_type": "stream",
     "text": [
      "\r",
      " 49%|████▉     | 245/500 [34:58<41:48,  9.84s/it]"
     ]
    },
    {
     "name": "stdout",
     "output_type": "stream",
     "text": [
      "Test on 1143 samples\n",
      "R^2: -1.77\n",
      "Test Loss: 1.73%\n",
      "Train Epoch: 246 [0/19577 (0%)]\tLoss: 0.005731\n",
      "Train Epoch: 246 [3200/19577 (16%)]\tLoss: 0.010999\n",
      "Train Epoch: 246 [6400/19577 (33%)]\tLoss: 0.041358\n",
      "Train Epoch: 246 [9600/19577 (49%)]\tLoss: 0.008966\n",
      "Train Epoch: 246 [12800/19577 (65%)]\tLoss: 0.004529\n",
      "Train Epoch: 246 [16000/19577 (82%)]\tLoss: 0.004272\n",
      "Train Epoch: 246 [19200/19577 (98%)]\tLoss: 0.007375\n",
      "\n",
      "Train loss: 0.007347779026638497\n"
     ]
    },
    {
     "name": "stderr",
     "output_type": "stream",
     "text": [
      "\r",
      " 49%|████▉     | 246/500 [35:05<38:17,  9.05s/it]"
     ]
    },
    {
     "name": "stdout",
     "output_type": "stream",
     "text": [
      "Test on 1143 samples\n",
      "R^2: -0.16\n",
      "Test Loss: 1.69%\n",
      "Train Epoch: 247 [0/19577 (0%)]\tLoss: 0.006166\n",
      "Train Epoch: 247 [3200/19577 (16%)]\tLoss: 0.011570\n",
      "Train Epoch: 247 [6400/19577 (33%)]\tLoss: 0.006235\n",
      "Train Epoch: 247 [9600/19577 (49%)]\tLoss: 0.006612\n",
      "Train Epoch: 247 [12800/19577 (65%)]\tLoss: 0.010124\n",
      "Train Epoch: 247 [16000/19577 (82%)]\tLoss: 0.007522\n",
      "Train Epoch: 247 [19200/19577 (98%)]\tLoss: 0.002217\n",
      "\n",
      "Train loss: 0.007377992828111804\n"
     ]
    },
    {
     "name": "stderr",
     "output_type": "stream",
     "text": [
      "\r",
      " 49%|████▉     | 247/500 [35:12<35:41,  8.46s/it]"
     ]
    },
    {
     "name": "stdout",
     "output_type": "stream",
     "text": [
      "Test on 1143 samples\n",
      "R^2: -0.08\n",
      "Test Loss: 1.69%\n",
      "Train Epoch: 248 [0/19577 (0%)]\tLoss: 0.003929\n",
      "Train Epoch: 248 [3200/19577 (16%)]\tLoss: 0.003723\n",
      "Train Epoch: 248 [6400/19577 (33%)]\tLoss: 0.009229\n",
      "Train Epoch: 248 [9600/19577 (49%)]\tLoss: 0.007766\n",
      "Train Epoch: 248 [12800/19577 (65%)]\tLoss: 0.004207\n",
      "Train Epoch: 248 [16000/19577 (82%)]\tLoss: 0.009930\n",
      "Train Epoch: 248 [19200/19577 (98%)]\tLoss: 0.008628\n",
      "\n",
      "Train loss: 0.007329236227924649\n"
     ]
    },
    {
     "name": "stderr",
     "output_type": "stream",
     "text": [
      "\r",
      " 50%|████▉     | 248/500 [35:19<33:45,  8.04s/it]"
     ]
    },
    {
     "name": "stdout",
     "output_type": "stream",
     "text": [
      "Test on 1143 samples\n",
      "R^2: -2.99\n",
      "Test Loss: 1.72%\n",
      "Train Epoch: 249 [0/19577 (0%)]\tLoss: 0.005097\n",
      "Train Epoch: 249 [3200/19577 (16%)]\tLoss: 0.008904\n",
      "Train Epoch: 249 [6400/19577 (33%)]\tLoss: 0.004247\n",
      "Train Epoch: 249 [9600/19577 (49%)]\tLoss: 0.009908\n",
      "Train Epoch: 249 [12800/19577 (65%)]\tLoss: 0.005861\n",
      "Train Epoch: 249 [16000/19577 (82%)]\tLoss: 0.005205\n",
      "Train Epoch: 249 [19200/19577 (98%)]\tLoss: 0.003684\n",
      "\n",
      "Train loss: 0.007348052335574347\n"
     ]
    },
    {
     "name": "stderr",
     "output_type": "stream",
     "text": [
      "\r",
      " 50%|████▉     | 249/500 [35:29<35:03,  8.38s/it]"
     ]
    },
    {
     "name": "stdout",
     "output_type": "stream",
     "text": [
      "Test on 1143 samples\n",
      "R^2: -0.48\n",
      "Test Loss: 1.70%\n",
      "Train Epoch: 250 [0/19577 (0%)]\tLoss: 0.007802\n",
      "Train Epoch: 250 [3200/19577 (16%)]\tLoss: 0.005998\n",
      "Train Epoch: 250 [6400/19577 (33%)]\tLoss: 0.002353\n",
      "Train Epoch: 250 [9600/19577 (49%)]\tLoss: 0.004378\n",
      "Train Epoch: 250 [12800/19577 (65%)]\tLoss: 0.005878\n",
      "Train Epoch: 250 [16000/19577 (82%)]\tLoss: 0.004073\n",
      "Train Epoch: 250 [19200/19577 (98%)]\tLoss: 0.002716\n",
      "\n",
      "Train loss: 0.007334193677011439\n"
     ]
    },
    {
     "name": "stderr",
     "output_type": "stream",
     "text": [
      "\r",
      " 50%|█████     | 250/500 [35:45<44:49, 10.76s/it]"
     ]
    },
    {
     "name": "stdout",
     "output_type": "stream",
     "text": [
      "Test on 1143 samples\n",
      "R^2: -0.25\n",
      "Test Loss: 1.69%\n",
      "Train Epoch: 251 [0/19577 (0%)]\tLoss: 0.005009\n",
      "Train Epoch: 251 [3200/19577 (16%)]\tLoss: 0.013336\n",
      "Train Epoch: 251 [6400/19577 (33%)]\tLoss: 0.007082\n",
      "Train Epoch: 251 [9600/19577 (49%)]\tLoss: 0.009482\n",
      "Train Epoch: 251 [12800/19577 (65%)]\tLoss: 0.005450\n",
      "Train Epoch: 251 [16000/19577 (82%)]\tLoss: 0.013181\n",
      "Train Epoch: 251 [19200/19577 (98%)]\tLoss: 0.020795\n",
      "\n",
      "Train loss: 0.007329598709094807\n"
     ]
    },
    {
     "name": "stderr",
     "output_type": "stream",
     "text": [
      "\r",
      " 50%|█████     | 251/500 [35:56<44:49, 10.80s/it]"
     ]
    },
    {
     "name": "stdout",
     "output_type": "stream",
     "text": [
      "Test on 1143 samples\n",
      "R^2: -0.19\n",
      "Test Loss: 1.69%\n",
      "Train Epoch: 252 [0/19577 (0%)]\tLoss: 0.005488\n",
      "Train Epoch: 252 [3200/19577 (16%)]\tLoss: 0.005213\n",
      "Train Epoch: 252 [6400/19577 (33%)]\tLoss: 0.006956\n",
      "Train Epoch: 252 [9600/19577 (49%)]\tLoss: 0.006663\n",
      "Train Epoch: 252 [12800/19577 (65%)]\tLoss: 0.005513\n",
      "Train Epoch: 252 [16000/19577 (82%)]\tLoss: 0.013367\n",
      "Train Epoch: 252 [19200/19577 (98%)]\tLoss: 0.002996\n",
      "\n",
      "Train loss: 0.007349518970799407\n"
     ]
    },
    {
     "name": "stderr",
     "output_type": "stream",
     "text": [
      "\r",
      " 50%|█████     | 252/500 [36:03<40:13,  9.73s/it]"
     ]
    },
    {
     "name": "stdout",
     "output_type": "stream",
     "text": [
      "Test on 1143 samples\n",
      "R^2: -1.01\n",
      "Test Loss: 1.69%\n",
      "Train Epoch: 253 [0/19577 (0%)]\tLoss: 0.006618\n",
      "Train Epoch: 253 [3200/19577 (16%)]\tLoss: 0.003842\n",
      "Train Epoch: 253 [6400/19577 (33%)]\tLoss: 0.005698\n",
      "Train Epoch: 253 [9600/19577 (49%)]\tLoss: 0.007204\n",
      "Train Epoch: 253 [12800/19577 (65%)]\tLoss: 0.014276\n",
      "Train Epoch: 253 [16000/19577 (82%)]\tLoss: 0.004092\n",
      "Train Epoch: 253 [19200/19577 (98%)]\tLoss: 0.003933\n",
      "\n",
      "Train loss: 0.0073380019596406545\n"
     ]
    },
    {
     "name": "stderr",
     "output_type": "stream",
     "text": [
      "\r",
      " 51%|█████     | 253/500 [36:11<37:16,  9.05s/it]"
     ]
    },
    {
     "name": "stdout",
     "output_type": "stream",
     "text": [
      "Test on 1143 samples\n",
      "R^2: -1.71\n",
      "Test Loss: 1.70%\n",
      "Train Epoch: 254 [0/19577 (0%)]\tLoss: 0.005379\n",
      "Train Epoch: 254 [3200/19577 (16%)]\tLoss: 0.004122\n",
      "Train Epoch: 254 [6400/19577 (33%)]\tLoss: 0.003880\n",
      "Train Epoch: 254 [9600/19577 (49%)]\tLoss: 0.005102\n",
      "Train Epoch: 254 [12800/19577 (65%)]\tLoss: 0.005825\n",
      "Train Epoch: 254 [16000/19577 (82%)]\tLoss: 0.007292\n",
      "Train Epoch: 254 [19200/19577 (98%)]\tLoss: 0.004088\n",
      "\n",
      "Train loss: 0.007352306035018581\n"
     ]
    },
    {
     "name": "stderr",
     "output_type": "stream",
     "text": [
      "\r",
      " 51%|█████     | 254/500 [36:18<35:23,  8.63s/it]"
     ]
    },
    {
     "name": "stdout",
     "output_type": "stream",
     "text": [
      "Test on 1143 samples\n",
      "R^2: -0.10\n",
      "Test Loss: 1.69%\n",
      "Train Epoch: 255 [0/19577 (0%)]\tLoss: 0.008199\n",
      "Train Epoch: 255 [3200/19577 (16%)]\tLoss: 0.006975\n",
      "Train Epoch: 255 [6400/19577 (33%)]\tLoss: 0.004788\n",
      "Train Epoch: 255 [9600/19577 (49%)]\tLoss: 0.004668\n",
      "Train Epoch: 255 [12800/19577 (65%)]\tLoss: 0.004306\n",
      "Train Epoch: 255 [16000/19577 (82%)]\tLoss: 0.004495\n",
      "Train Epoch: 255 [19200/19577 (98%)]\tLoss: 0.003284\n",
      "\n",
      "Train loss: 0.007328687237995658\n"
     ]
    },
    {
     "name": "stderr",
     "output_type": "stream",
     "text": [
      "\r",
      " 51%|█████     | 255/500 [36:27<35:16,  8.64s/it]"
     ]
    },
    {
     "name": "stdout",
     "output_type": "stream",
     "text": [
      "Test on 1143 samples\n",
      "R^2: -0.08\n",
      "Test Loss: 1.69%\n",
      "Train Epoch: 256 [0/19577 (0%)]\tLoss: 0.004378\n",
      "Train Epoch: 256 [3200/19577 (16%)]\tLoss: 0.004351\n",
      "Train Epoch: 256 [6400/19577 (33%)]\tLoss: 0.003704\n",
      "Train Epoch: 256 [9600/19577 (49%)]\tLoss: 0.002430\n",
      "Train Epoch: 256 [12800/19577 (65%)]\tLoss: 0.005885\n",
      "Train Epoch: 256 [16000/19577 (82%)]\tLoss: 0.002767\n",
      "Train Epoch: 256 [19200/19577 (98%)]\tLoss: 0.003403\n",
      "\n",
      "Train loss: 0.007316569632582756\n"
     ]
    },
    {
     "name": "stderr",
     "output_type": "stream",
     "text": [
      "\r",
      " 51%|█████     | 256/500 [36:34<33:40,  8.28s/it]"
     ]
    },
    {
     "name": "stdout",
     "output_type": "stream",
     "text": [
      "Test on 1143 samples\n",
      "R^2: -0.20\n",
      "Test Loss: 1.68%\n",
      "Train Epoch: 257 [0/19577 (0%)]\tLoss: 0.006357\n",
      "Train Epoch: 257 [3200/19577 (16%)]\tLoss: 0.004518\n",
      "Train Epoch: 257 [6400/19577 (33%)]\tLoss: 0.006921\n",
      "Train Epoch: 257 [9600/19577 (49%)]\tLoss: 0.010146\n",
      "Train Epoch: 257 [12800/19577 (65%)]\tLoss: 0.001853\n",
      "Train Epoch: 257 [16000/19577 (82%)]\tLoss: 0.006061\n",
      "Train Epoch: 257 [19200/19577 (98%)]\tLoss: 0.005183\n",
      "\n",
      "Train loss: 0.007313291375978783\n"
     ]
    },
    {
     "name": "stderr",
     "output_type": "stream",
     "text": [
      "\r",
      " 51%|█████▏    | 257/500 [36:41<32:05,  7.92s/it]"
     ]
    },
    {
     "name": "stdout",
     "output_type": "stream",
     "text": [
      "Test on 1143 samples\n",
      "R^2: -0.52\n",
      "Test Loss: 1.69%\n",
      "Train Epoch: 258 [0/19577 (0%)]\tLoss: 0.005441\n",
      "Train Epoch: 258 [3200/19577 (16%)]\tLoss: 0.004717\n",
      "Train Epoch: 258 [6400/19577 (33%)]\tLoss: 0.006347\n",
      "Train Epoch: 258 [9600/19577 (49%)]\tLoss: 0.005901\n",
      "Train Epoch: 258 [12800/19577 (65%)]\tLoss: 0.004148\n",
      "Train Epoch: 258 [16000/19577 (82%)]\tLoss: 0.004533\n",
      "Train Epoch: 258 [19200/19577 (98%)]\tLoss: 0.005988\n",
      "\n",
      "Train loss: 0.007322189637027632\n"
     ]
    },
    {
     "name": "stderr",
     "output_type": "stream",
     "text": [
      "\r",
      " 52%|█████▏    | 258/500 [36:49<31:01,  7.69s/it]"
     ]
    },
    {
     "name": "stdout",
     "output_type": "stream",
     "text": [
      "Test on 1143 samples\n",
      "R^2: -0.74\n",
      "Test Loss: 1.69%\n",
      "Train Epoch: 259 [0/19577 (0%)]\tLoss: 0.002342\n",
      "Train Epoch: 259 [3200/19577 (16%)]\tLoss: 0.003830\n",
      "Train Epoch: 259 [6400/19577 (33%)]\tLoss: 0.002666\n",
      "Train Epoch: 259 [9600/19577 (49%)]\tLoss: 0.002911\n",
      "Train Epoch: 259 [12800/19577 (65%)]\tLoss: 0.005829\n",
      "Train Epoch: 259 [16000/19577 (82%)]\tLoss: 0.008930\n",
      "Train Epoch: 259 [19200/19577 (98%)]\tLoss: 0.005372\n",
      "\n",
      "Train loss: 0.007319254158110376\n"
     ]
    },
    {
     "name": "stderr",
     "output_type": "stream",
     "text": [
      "\r",
      " 52%|█████▏    | 259/500 [36:56<30:48,  7.67s/it]"
     ]
    },
    {
     "name": "stdout",
     "output_type": "stream",
     "text": [
      "Test on 1143 samples\n",
      "R^2: -0.61\n",
      "Test Loss: 1.69%\n",
      "Train Epoch: 260 [0/19577 (0%)]\tLoss: 0.005229\n",
      "Train Epoch: 260 [3200/19577 (16%)]\tLoss: 0.005340\n",
      "Train Epoch: 260 [6400/19577 (33%)]\tLoss: 0.005442\n",
      "Train Epoch: 260 [9600/19577 (49%)]\tLoss: 0.004458\n",
      "Train Epoch: 260 [12800/19577 (65%)]\tLoss: 0.004521\n",
      "Train Epoch: 260 [16000/19577 (82%)]\tLoss: 0.006275\n",
      "Train Epoch: 260 [19200/19577 (98%)]\tLoss: 0.007179\n",
      "\n",
      "Train loss: 0.007312689508764938\n"
     ]
    },
    {
     "name": "stderr",
     "output_type": "stream",
     "text": [
      "\r",
      " 52%|█████▏    | 260/500 [37:03<30:17,  7.57s/it]"
     ]
    },
    {
     "name": "stdout",
     "output_type": "stream",
     "text": [
      "Test on 1143 samples\n",
      "R^2: -0.62\n",
      "Test Loss: 1.70%\n",
      "Train Epoch: 261 [0/19577 (0%)]\tLoss: 0.004546\n",
      "Train Epoch: 261 [3200/19577 (16%)]\tLoss: 0.004903\n",
      "Train Epoch: 261 [6400/19577 (33%)]\tLoss: 0.003402\n",
      "Train Epoch: 261 [9600/19577 (49%)]\tLoss: 0.021908\n",
      "Train Epoch: 261 [12800/19577 (65%)]\tLoss: 0.008659\n",
      "Train Epoch: 261 [16000/19577 (82%)]\tLoss: 0.009138\n",
      "Train Epoch: 261 [19200/19577 (98%)]\tLoss: 0.005715\n",
      "\n",
      "Train loss: 0.007310072966361284\n"
     ]
    },
    {
     "name": "stderr",
     "output_type": "stream",
     "text": [
      "\r",
      " 52%|█████▏    | 261/500 [37:12<31:01,  7.79s/it]"
     ]
    },
    {
     "name": "stdout",
     "output_type": "stream",
     "text": [
      "Test on 1143 samples\n",
      "R^2: -0.11\n",
      "Test Loss: 1.68%\n",
      "Train Epoch: 262 [0/19577 (0%)]\tLoss: 0.006355\n",
      "Train Epoch: 262 [3200/19577 (16%)]\tLoss: 0.004330\n",
      "Train Epoch: 262 [6400/19577 (33%)]\tLoss: 0.003001\n",
      "Train Epoch: 262 [9600/19577 (49%)]\tLoss: 0.007617\n",
      "Train Epoch: 262 [12800/19577 (65%)]\tLoss: 0.003287\n",
      "Train Epoch: 262 [16000/19577 (82%)]\tLoss: 0.005104\n",
      "Train Epoch: 262 [19200/19577 (98%)]\tLoss: 0.010612\n",
      "\n",
      "Train loss: 0.0073139542197120785\n"
     ]
    },
    {
     "name": "stderr",
     "output_type": "stream",
     "text": [
      "\r",
      " 52%|█████▏    | 262/500 [37:19<30:28,  7.68s/it]"
     ]
    },
    {
     "name": "stdout",
     "output_type": "stream",
     "text": [
      "Test on 1143 samples\n",
      "R^2: -2.54\n",
      "Test Loss: 1.70%\n",
      "Train Epoch: 263 [0/19577 (0%)]\tLoss: 0.010255\n",
      "Train Epoch: 263 [3200/19577 (16%)]\tLoss: 0.003849\n",
      "Train Epoch: 263 [6400/19577 (33%)]\tLoss: 0.004855\n",
      "Train Epoch: 263 [9600/19577 (49%)]\tLoss: 0.004834\n",
      "Train Epoch: 263 [12800/19577 (65%)]\tLoss: 0.004659\n",
      "Train Epoch: 263 [16000/19577 (82%)]\tLoss: 0.002288\n",
      "Train Epoch: 263 [19200/19577 (98%)]\tLoss: 0.003183\n",
      "\n",
      "Train loss: 0.007302676519269452\n"
     ]
    },
    {
     "name": "stderr",
     "output_type": "stream",
     "text": [
      "\r",
      " 53%|█████▎    | 263/500 [37:27<30:46,  7.79s/it]"
     ]
    },
    {
     "name": "stdout",
     "output_type": "stream",
     "text": [
      "Test on 1143 samples\n",
      "R^2: -0.06\n",
      "Test Loss: 1.68%\n",
      "Train Epoch: 264 [0/19577 (0%)]\tLoss: 0.004731\n",
      "Train Epoch: 264 [3200/19577 (16%)]\tLoss: 0.007612\n",
      "Train Epoch: 264 [6400/19577 (33%)]\tLoss: 0.003750\n",
      "Train Epoch: 264 [9600/19577 (49%)]\tLoss: 0.006084\n",
      "Train Epoch: 264 [12800/19577 (65%)]\tLoss: 0.001957\n",
      "Train Epoch: 264 [16000/19577 (82%)]\tLoss: 0.004008\n",
      "Train Epoch: 264 [19200/19577 (98%)]\tLoss: 0.005546\n",
      "\n",
      "Train loss: 0.007304416281578977\n"
     ]
    },
    {
     "name": "stderr",
     "output_type": "stream",
     "text": [
      "\r",
      " 53%|█████▎    | 264/500 [37:35<30:17,  7.70s/it]"
     ]
    },
    {
     "name": "stdout",
     "output_type": "stream",
     "text": [
      "Test on 1143 samples\n",
      "R^2: -0.32\n",
      "Test Loss: 1.68%\n",
      "Train Epoch: 265 [0/19577 (0%)]\tLoss: 0.008144\n",
      "Train Epoch: 265 [3200/19577 (16%)]\tLoss: 0.003922\n",
      "Train Epoch: 265 [6400/19577 (33%)]\tLoss: 0.006387\n",
      "Train Epoch: 265 [9600/19577 (49%)]\tLoss: 0.005697\n",
      "Train Epoch: 265 [12800/19577 (65%)]\tLoss: 0.008684\n",
      "Train Epoch: 265 [16000/19577 (82%)]\tLoss: 0.005435\n",
      "Train Epoch: 265 [19200/19577 (98%)]\tLoss: 0.006641\n",
      "\n",
      "Train loss: 0.007306028084808145\n"
     ]
    },
    {
     "name": "stderr",
     "output_type": "stream",
     "text": [
      "\r",
      " 53%|█████▎    | 265/500 [37:42<29:24,  7.51s/it]"
     ]
    },
    {
     "name": "stdout",
     "output_type": "stream",
     "text": [
      "Test on 1143 samples\n",
      "R^2: -1.62\n",
      "Test Loss: 1.69%\n",
      "Train Epoch: 266 [0/19577 (0%)]\tLoss: 0.008024\n",
      "Train Epoch: 266 [3200/19577 (16%)]\tLoss: 0.003787\n",
      "Train Epoch: 266 [6400/19577 (33%)]\tLoss: 0.005759\n",
      "Train Epoch: 266 [9600/19577 (49%)]\tLoss: 0.004393\n",
      "Train Epoch: 266 [12800/19577 (65%)]\tLoss: 0.006046\n",
      "Train Epoch: 266 [16000/19577 (82%)]\tLoss: 0.006431\n",
      "Train Epoch: 266 [19200/19577 (98%)]\tLoss: 0.004895\n",
      "\n",
      "Train loss: 0.007297833970203095\n"
     ]
    },
    {
     "name": "stderr",
     "output_type": "stream",
     "text": [
      "\r",
      " 53%|█████▎    | 266/500 [37:49<28:45,  7.37s/it]"
     ]
    },
    {
     "name": "stdout",
     "output_type": "stream",
     "text": [
      "Test on 1143 samples\n",
      "R^2: -0.65\n",
      "Test Loss: 1.69%\n",
      "Train Epoch: 267 [0/19577 (0%)]\tLoss: 0.003182\n",
      "Train Epoch: 267 [3200/19577 (16%)]\tLoss: 0.003042\n",
      "Train Epoch: 267 [6400/19577 (33%)]\tLoss: 0.008656\n",
      "Train Epoch: 267 [9600/19577 (49%)]\tLoss: 0.006489\n",
      "Train Epoch: 267 [12800/19577 (65%)]\tLoss: 0.076564\n",
      "Train Epoch: 267 [16000/19577 (82%)]\tLoss: 0.007807\n",
      "Train Epoch: 267 [19200/19577 (98%)]\tLoss: 0.006528\n",
      "\n",
      "Train loss: 0.00729103809986507\n"
     ]
    },
    {
     "name": "stderr",
     "output_type": "stream",
     "text": [
      "\r",
      " 53%|█████▎    | 267/500 [37:58<30:17,  7.80s/it]"
     ]
    },
    {
     "name": "stdout",
     "output_type": "stream",
     "text": [
      "Test on 1143 samples\n",
      "R^2: -0.83\n",
      "Test Loss: 1.68%\n",
      "Train Epoch: 268 [0/19577 (0%)]\tLoss: 0.006907\n",
      "Train Epoch: 268 [3200/19577 (16%)]\tLoss: 0.006096\n",
      "Train Epoch: 268 [6400/19577 (33%)]\tLoss: 0.005255\n",
      "Train Epoch: 268 [9600/19577 (49%)]\tLoss: 0.005136\n",
      "Train Epoch: 268 [12800/19577 (65%)]\tLoss: 0.006545\n",
      "Train Epoch: 268 [16000/19577 (82%)]\tLoss: 0.005560\n",
      "Train Epoch: 268 [19200/19577 (98%)]\tLoss: 0.005083\n",
      "\n",
      "Train loss: 0.00729231282291033\n"
     ]
    },
    {
     "name": "stderr",
     "output_type": "stream",
     "text": [
      "\r",
      " 54%|█████▎    | 268/500 [38:06<30:20,  7.85s/it]"
     ]
    },
    {
     "name": "stdout",
     "output_type": "stream",
     "text": [
      "Test on 1143 samples\n",
      "R^2: -4.71\n",
      "Test Loss: 1.76%\n",
      "Train Epoch: 269 [0/19577 (0%)]\tLoss: 0.006973\n",
      "Train Epoch: 269 [3200/19577 (16%)]\tLoss: 0.003293\n",
      "Train Epoch: 269 [6400/19577 (33%)]\tLoss: 0.003367\n",
      "Train Epoch: 269 [9600/19577 (49%)]\tLoss: 0.005851\n",
      "Train Epoch: 269 [12800/19577 (65%)]\tLoss: 0.003794\n",
      "Train Epoch: 269 [16000/19577 (82%)]\tLoss: 0.004266\n",
      "Train Epoch: 269 [19200/19577 (98%)]\tLoss: 0.002845\n",
      "\n",
      "Train loss: 0.007294598797159695\n"
     ]
    },
    {
     "name": "stderr",
     "output_type": "stream",
     "text": [
      "\r",
      " 54%|█████▍    | 269/500 [38:13<29:17,  7.61s/it]"
     ]
    },
    {
     "name": "stdout",
     "output_type": "stream",
     "text": [
      "Test on 1143 samples\n",
      "R^2: -0.08\n",
      "Test Loss: 1.68%\n",
      "Train Epoch: 270 [0/19577 (0%)]\tLoss: 0.011303\n",
      "Train Epoch: 270 [3200/19577 (16%)]\tLoss: 0.005852\n",
      "Train Epoch: 270 [6400/19577 (33%)]\tLoss: 0.005281\n",
      "Train Epoch: 270 [9600/19577 (49%)]\tLoss: 0.004192\n",
      "Train Epoch: 270 [12800/19577 (65%)]\tLoss: 0.003466\n",
      "Train Epoch: 270 [16000/19577 (82%)]\tLoss: 0.014467\n",
      "Train Epoch: 270 [19200/19577 (98%)]\tLoss: 0.003322\n",
      "\n",
      "Train loss: 0.007296293746798719\n"
     ]
    },
    {
     "name": "stderr",
     "output_type": "stream",
     "text": [
      "\r",
      " 54%|█████▍    | 270/500 [38:21<29:32,  7.71s/it]"
     ]
    },
    {
     "name": "stdout",
     "output_type": "stream",
     "text": [
      "Test on 1143 samples\n",
      "R^2: -1.38\n",
      "Test Loss: 1.69%\n",
      "Train Epoch: 271 [0/19577 (0%)]\tLoss: 0.003058\n",
      "Train Epoch: 271 [3200/19577 (16%)]\tLoss: 0.007969\n",
      "Train Epoch: 271 [6400/19577 (33%)]\tLoss: 0.090931\n",
      "Train Epoch: 271 [9600/19577 (49%)]\tLoss: 0.005097\n",
      "Train Epoch: 271 [12800/19577 (65%)]\tLoss: 0.006402\n",
      "Train Epoch: 271 [16000/19577 (82%)]\tLoss: 0.007212\n",
      "Train Epoch: 271 [19200/19577 (98%)]\tLoss: 0.005043\n",
      "\n",
      "Train loss: 0.007287628670585238\n"
     ]
    },
    {
     "name": "stderr",
     "output_type": "stream",
     "text": [
      "\r",
      " 54%|█████▍    | 271/500 [38:29<30:24,  7.97s/it]"
     ]
    },
    {
     "name": "stdout",
     "output_type": "stream",
     "text": [
      "Test on 1143 samples\n",
      "R^2: -1.90\n",
      "Test Loss: 1.69%\n",
      "Train Epoch: 272 [0/19577 (0%)]\tLoss: 0.006689\n",
      "Train Epoch: 272 [3200/19577 (16%)]\tLoss: 0.004429\n",
      "Train Epoch: 272 [6400/19577 (33%)]\tLoss: 0.002910\n",
      "Train Epoch: 272 [9600/19577 (49%)]\tLoss: 0.006386\n",
      "Train Epoch: 272 [12800/19577 (65%)]\tLoss: 0.005109\n",
      "Train Epoch: 272 [16000/19577 (82%)]\tLoss: 0.008314\n",
      "Train Epoch: 272 [19200/19577 (98%)]\tLoss: 0.002297\n",
      "\n",
      "Train loss: 0.007280900729728826\n"
     ]
    },
    {
     "name": "stderr",
     "output_type": "stream",
     "text": [
      "\r",
      " 54%|█████▍    | 272/500 [38:36<29:19,  7.72s/it]"
     ]
    },
    {
     "name": "stdout",
     "output_type": "stream",
     "text": [
      "Test on 1143 samples\n",
      "R^2: -0.05\n",
      "Test Loss: 1.68%\n",
      "Train Epoch: 273 [0/19577 (0%)]\tLoss: 0.005044\n",
      "Train Epoch: 273 [3200/19577 (16%)]\tLoss: 0.012802\n",
      "Train Epoch: 273 [6400/19577 (33%)]\tLoss: 0.005921\n",
      "Train Epoch: 273 [9600/19577 (49%)]\tLoss: 0.004310\n",
      "Train Epoch: 273 [12800/19577 (65%)]\tLoss: 0.002779\n",
      "Train Epoch: 273 [16000/19577 (82%)]\tLoss: 0.005647\n",
      "Train Epoch: 273 [19200/19577 (98%)]\tLoss: 0.006199\n",
      "\n",
      "Train loss: 0.007275767708075495\n"
     ]
    },
    {
     "name": "stderr",
     "output_type": "stream",
     "text": [
      "\r",
      " 55%|█████▍    | 273/500 [38:44<28:53,  7.64s/it]"
     ]
    },
    {
     "name": "stdout",
     "output_type": "stream",
     "text": [
      "Test on 1143 samples\n",
      "R^2: -0.06\n",
      "Test Loss: 1.68%\n",
      "Train Epoch: 274 [0/19577 (0%)]\tLoss: 0.004048\n",
      "Train Epoch: 274 [3200/19577 (16%)]\tLoss: 0.015486\n",
      "Train Epoch: 274 [6400/19577 (33%)]\tLoss: 0.004677\n",
      "Train Epoch: 274 [9600/19577 (49%)]\tLoss: 0.008884\n",
      "Train Epoch: 274 [12800/19577 (65%)]\tLoss: 0.003529\n",
      "Train Epoch: 274 [16000/19577 (82%)]\tLoss: 0.005880\n",
      "Train Epoch: 274 [19200/19577 (98%)]\tLoss: 0.008370\n",
      "\n",
      "Train loss: 0.007289126546584751\n"
     ]
    },
    {
     "name": "stderr",
     "output_type": "stream",
     "text": [
      "\r",
      " 55%|█████▍    | 274/500 [38:51<28:05,  7.46s/it]"
     ]
    },
    {
     "name": "stdout",
     "output_type": "stream",
     "text": [
      "Test on 1143 samples\n",
      "R^2: -0.04\n",
      "Test Loss: 1.68%\n",
      "Train Epoch: 275 [0/19577 (0%)]\tLoss: 0.004897\n",
      "Train Epoch: 275 [3200/19577 (16%)]\tLoss: 0.003538\n",
      "Train Epoch: 275 [6400/19577 (33%)]\tLoss: 0.005562\n",
      "Train Epoch: 275 [9600/19577 (49%)]\tLoss: 0.004468\n",
      "Train Epoch: 275 [12800/19577 (65%)]\tLoss: 0.006560\n",
      "Train Epoch: 275 [16000/19577 (82%)]\tLoss: 0.004972\n",
      "Train Epoch: 275 [19200/19577 (98%)]\tLoss: 0.004096\n",
      "\n",
      "Train loss: 0.0072796375123978735\n"
     ]
    },
    {
     "name": "stderr",
     "output_type": "stream",
     "text": [
      "\r",
      " 55%|█████▌    | 275/500 [38:58<27:35,  7.36s/it]"
     ]
    },
    {
     "name": "stdout",
     "output_type": "stream",
     "text": [
      "Test on 1143 samples\n",
      "R^2: -0.63\n",
      "Test Loss: 1.68%\n",
      "Train Epoch: 276 [0/19577 (0%)]\tLoss: 0.007901\n",
      "Train Epoch: 276 [3200/19577 (16%)]\tLoss: 0.002934\n",
      "Train Epoch: 276 [6400/19577 (33%)]\tLoss: 0.002666\n",
      "Train Epoch: 276 [9600/19577 (49%)]\tLoss: 0.003242\n",
      "Train Epoch: 276 [12800/19577 (65%)]\tLoss: 0.004767\n",
      "Train Epoch: 276 [16000/19577 (82%)]\tLoss: 0.004759\n",
      "Train Epoch: 276 [19200/19577 (98%)]\tLoss: 0.002666\n",
      "\n",
      "Train loss: 0.0072839675007808\n"
     ]
    },
    {
     "name": "stderr",
     "output_type": "stream",
     "text": [
      "\r",
      " 55%|█████▌    | 276/500 [39:05<27:14,  7.30s/it]"
     ]
    },
    {
     "name": "stdout",
     "output_type": "stream",
     "text": [
      "Test on 1143 samples\n",
      "R^2: -0.03\n",
      "Test Loss: 1.68%\n",
      "Train Epoch: 277 [0/19577 (0%)]\tLoss: 0.005595\n",
      "Train Epoch: 277 [3200/19577 (16%)]\tLoss: 0.004359\n",
      "Train Epoch: 277 [6400/19577 (33%)]\tLoss: 0.011383\n",
      "Train Epoch: 277 [9600/19577 (49%)]\tLoss: 0.003491\n",
      "Train Epoch: 277 [12800/19577 (65%)]\tLoss: 0.010092\n",
      "Train Epoch: 277 [16000/19577 (82%)]\tLoss: 0.004550\n",
      "Train Epoch: 277 [19200/19577 (98%)]\tLoss: 0.005915\n",
      "\n",
      "Train loss: 0.0072585644582408215\n"
     ]
    },
    {
     "name": "stderr",
     "output_type": "stream",
     "text": [
      "\r",
      " 55%|█████▌    | 277/500 [39:13<27:54,  7.51s/it]"
     ]
    },
    {
     "name": "stdout",
     "output_type": "stream",
     "text": [
      "Test on 1143 samples\n",
      "R^2: -0.28\n",
      "Test Loss: 1.67%\n",
      "Train Epoch: 278 [0/19577 (0%)]\tLoss: 0.005096\n",
      "Train Epoch: 278 [3200/19577 (16%)]\tLoss: 0.003991\n",
      "Train Epoch: 278 [6400/19577 (33%)]\tLoss: 0.016141\n",
      "Train Epoch: 278 [9600/19577 (49%)]\tLoss: 0.010348\n",
      "Train Epoch: 278 [12800/19577 (65%)]\tLoss: 0.007415\n",
      "Train Epoch: 278 [16000/19577 (82%)]\tLoss: 0.004543\n",
      "Train Epoch: 278 [19200/19577 (98%)]\tLoss: 0.005628\n",
      "\n",
      "Train loss: 0.007251624273230608\n"
     ]
    },
    {
     "name": "stderr",
     "output_type": "stream",
     "text": [
      "\r",
      " 56%|█████▌    | 278/500 [39:21<28:06,  7.60s/it]"
     ]
    },
    {
     "name": "stdout",
     "output_type": "stream",
     "text": [
      "Test on 1143 samples\n",
      "R^2: -0.62\n",
      "Test Loss: 1.69%\n",
      "Train Epoch: 279 [0/19577 (0%)]\tLoss: 0.003466\n",
      "Train Epoch: 279 [3200/19577 (16%)]\tLoss: 0.006009\n",
      "Train Epoch: 279 [6400/19577 (33%)]\tLoss: 0.006805\n",
      "Train Epoch: 279 [9600/19577 (49%)]\tLoss: 0.006466\n",
      "Train Epoch: 279 [12800/19577 (65%)]\tLoss: 0.008283\n",
      "Train Epoch: 279 [16000/19577 (82%)]\tLoss: 0.004420\n",
      "Train Epoch: 279 [19200/19577 (98%)]\tLoss: 0.004932\n",
      "\n",
      "Train loss: 0.007257730773881419\n"
     ]
    },
    {
     "name": "stderr",
     "output_type": "stream",
     "text": [
      "\r",
      " 56%|█████▌    | 279/500 [39:33<33:06,  8.99s/it]"
     ]
    },
    {
     "name": "stdout",
     "output_type": "stream",
     "text": [
      "Test on 1143 samples\n",
      "R^2: -2.67\n",
      "Test Loss: 1.69%\n",
      "Train Epoch: 280 [0/19577 (0%)]\tLoss: 0.005694\n",
      "Train Epoch: 280 [3200/19577 (16%)]\tLoss: 0.012929\n",
      "Train Epoch: 280 [6400/19577 (33%)]\tLoss: 0.008447\n",
      "Train Epoch: 280 [9600/19577 (49%)]\tLoss: 0.004928\n",
      "Train Epoch: 280 [12800/19577 (65%)]\tLoss: 0.007044\n",
      "Train Epoch: 280 [16000/19577 (82%)]\tLoss: 0.012845\n",
      "Train Epoch: 280 [19200/19577 (98%)]\tLoss: 0.007241\n",
      "\n",
      "Train loss: 0.007254068985097476\n"
     ]
    },
    {
     "name": "stderr",
     "output_type": "stream",
     "text": [
      "\r",
      " 56%|█████▌    | 280/500 [39:42<32:26,  8.85s/it]"
     ]
    },
    {
     "name": "stdout",
     "output_type": "stream",
     "text": [
      "Test on 1143 samples\n",
      "R^2: -0.24\n",
      "Test Loss: 1.67%\n",
      "Train Epoch: 281 [0/19577 (0%)]\tLoss: 0.002521\n",
      "Train Epoch: 281 [3200/19577 (16%)]\tLoss: 0.005215\n",
      "Train Epoch: 281 [6400/19577 (33%)]\tLoss: 0.004795\n",
      "Train Epoch: 281 [9600/19577 (49%)]\tLoss: 0.007405\n",
      "Train Epoch: 281 [12800/19577 (65%)]\tLoss: 0.006661\n",
      "Train Epoch: 281 [16000/19577 (82%)]\tLoss: 0.004445\n",
      "Train Epoch: 281 [19200/19577 (98%)]\tLoss: 0.008161\n",
      "\n",
      "Train loss: 0.007258858018116478\n"
     ]
    },
    {
     "name": "stderr",
     "output_type": "stream",
     "text": [
      "\r",
      " 56%|█████▌    | 281/500 [39:52<33:53,  9.29s/it]"
     ]
    },
    {
     "name": "stdout",
     "output_type": "stream",
     "text": [
      "Test on 1143 samples\n",
      "R^2: -0.05\n",
      "Test Loss: 1.67%\n",
      "Train Epoch: 282 [0/19577 (0%)]\tLoss: 0.010508\n",
      "Train Epoch: 282 [3200/19577 (16%)]\tLoss: 0.003782\n",
      "Train Epoch: 282 [6400/19577 (33%)]\tLoss: 0.003955\n",
      "Train Epoch: 282 [9600/19577 (49%)]\tLoss: 0.002570\n",
      "Train Epoch: 282 [12800/19577 (65%)]\tLoss: 0.004121\n",
      "Train Epoch: 282 [16000/19577 (82%)]\tLoss: 0.003117\n",
      "Train Epoch: 282 [19200/19577 (98%)]\tLoss: 0.006352\n",
      "\n",
      "Train loss: 0.0072576471382228575\n"
     ]
    },
    {
     "name": "stderr",
     "output_type": "stream",
     "text": [
      "\r",
      " 56%|█████▋    | 282/500 [39:59<31:31,  8.68s/it]"
     ]
    },
    {
     "name": "stdout",
     "output_type": "stream",
     "text": [
      "Test on 1143 samples\n",
      "R^2: -0.05\n",
      "Test Loss: 1.67%\n",
      "Train Epoch: 283 [0/19577 (0%)]\tLoss: 0.003310\n",
      "Train Epoch: 283 [3200/19577 (16%)]\tLoss: 0.003900\n",
      "Train Epoch: 283 [6400/19577 (33%)]\tLoss: 0.005022\n",
      "Train Epoch: 283 [9600/19577 (49%)]\tLoss: 0.004640\n",
      "Train Epoch: 283 [12800/19577 (65%)]\tLoss: 0.010025\n",
      "Train Epoch: 283 [16000/19577 (82%)]\tLoss: 0.007172\n",
      "Train Epoch: 283 [19200/19577 (98%)]\tLoss: 0.003416\n",
      "\n",
      "Train loss: 0.007247630863608732\n"
     ]
    },
    {
     "name": "stderr",
     "output_type": "stream",
     "text": [
      "\r",
      " 57%|█████▋    | 283/500 [40:06<29:40,  8.20s/it]"
     ]
    },
    {
     "name": "stdout",
     "output_type": "stream",
     "text": [
      "Test on 1143 samples\n",
      "R^2: -0.70\n",
      "Test Loss: 1.67%\n",
      "Train Epoch: 284 [0/19577 (0%)]\tLoss: 0.008124\n",
      "Train Epoch: 284 [3200/19577 (16%)]\tLoss: 0.005257\n",
      "Train Epoch: 284 [6400/19577 (33%)]\tLoss: 0.008345\n",
      "Train Epoch: 284 [9600/19577 (49%)]\tLoss: 0.004108\n",
      "Train Epoch: 284 [12800/19577 (65%)]\tLoss: 0.004074\n",
      "Train Epoch: 284 [16000/19577 (82%)]\tLoss: 0.010624\n",
      "Train Epoch: 284 [19200/19577 (98%)]\tLoss: 0.002511\n",
      "\n",
      "Train loss: 0.007241086269655794\n"
     ]
    },
    {
     "name": "stderr",
     "output_type": "stream",
     "text": [
      "\r",
      " 57%|█████▋    | 284/500 [40:14<28:49,  8.00s/it]"
     ]
    },
    {
     "name": "stdout",
     "output_type": "stream",
     "text": [
      "Test on 1143 samples\n",
      "R^2: -0.46\n",
      "Test Loss: 1.67%\n",
      "Train Epoch: 285 [0/19577 (0%)]\tLoss: 0.007217\n",
      "Train Epoch: 285 [3200/19577 (16%)]\tLoss: 0.005555\n",
      "Train Epoch: 285 [6400/19577 (33%)]\tLoss: 0.015902\n",
      "Train Epoch: 285 [9600/19577 (49%)]\tLoss: 0.006485\n",
      "Train Epoch: 285 [12800/19577 (65%)]\tLoss: 0.006747\n",
      "Train Epoch: 285 [16000/19577 (82%)]\tLoss: 0.006862\n",
      "Train Epoch: 285 [19200/19577 (98%)]\tLoss: 0.005615\n",
      "\n",
      "Train loss: 0.00724542938595869\n"
     ]
    },
    {
     "name": "stderr",
     "output_type": "stream",
     "text": [
      "\r",
      " 57%|█████▋    | 285/500 [40:24<31:02,  8.66s/it]"
     ]
    },
    {
     "name": "stdout",
     "output_type": "stream",
     "text": [
      "Test on 1143 samples\n",
      "R^2: -0.12\n",
      "Test Loss: 1.67%\n",
      "Train Epoch: 286 [0/19577 (0%)]\tLoss: 0.005702\n",
      "Train Epoch: 286 [3200/19577 (16%)]\tLoss: 0.005074\n",
      "Train Epoch: 286 [6400/19577 (33%)]\tLoss: 0.003995\n",
      "Train Epoch: 286 [9600/19577 (49%)]\tLoss: 0.004579\n",
      "Train Epoch: 286 [12800/19577 (65%)]\tLoss: 0.006767\n",
      "Train Epoch: 286 [16000/19577 (82%)]\tLoss: 0.005944\n",
      "Train Epoch: 286 [19200/19577 (98%)]\tLoss: 0.007846\n",
      "\n",
      "Train loss: 0.007236992066811308\n"
     ]
    },
    {
     "name": "stderr",
     "output_type": "stream",
     "text": [
      "\r",
      " 57%|█████▋    | 286/500 [40:36<34:51,  9.77s/it]"
     ]
    },
    {
     "name": "stdout",
     "output_type": "stream",
     "text": [
      "Test on 1143 samples\n",
      "R^2: -0.22\n",
      "Test Loss: 1.66%\n",
      "Train Epoch: 287 [0/19577 (0%)]\tLoss: 0.004475\n",
      "Train Epoch: 287 [3200/19577 (16%)]\tLoss: 0.004830\n",
      "Train Epoch: 287 [6400/19577 (33%)]\tLoss: 0.006608\n",
      "Train Epoch: 287 [9600/19577 (49%)]\tLoss: 0.004049\n",
      "Train Epoch: 287 [12800/19577 (65%)]\tLoss: 0.004516\n",
      "Train Epoch: 287 [16000/19577 (82%)]\tLoss: 0.029047\n",
      "Train Epoch: 287 [19200/19577 (98%)]\tLoss: 0.003109\n",
      "\n",
      "Train loss: 0.007243600478426255\n"
     ]
    },
    {
     "name": "stderr",
     "output_type": "stream",
     "text": [
      "\r",
      " 57%|█████▋    | 287/500 [40:46<34:31,  9.72s/it]"
     ]
    },
    {
     "name": "stdout",
     "output_type": "stream",
     "text": [
      "Test on 1143 samples\n",
      "R^2: -0.37\n",
      "Test Loss: 1.66%\n",
      "Train Epoch: 288 [0/19577 (0%)]\tLoss: 0.010350\n",
      "Train Epoch: 288 [3200/19577 (16%)]\tLoss: 0.003070\n",
      "Train Epoch: 288 [6400/19577 (33%)]\tLoss: 0.006495\n",
      "Train Epoch: 288 [9600/19577 (49%)]\tLoss: 0.003494\n",
      "Train Epoch: 288 [12800/19577 (65%)]\tLoss: 0.003006\n",
      "Train Epoch: 288 [16000/19577 (82%)]\tLoss: 0.007603\n",
      "Train Epoch: 288 [19200/19577 (98%)]\tLoss: 0.002111\n",
      "\n",
      "Train loss: 0.007231862518215077\n"
     ]
    },
    {
     "name": "stderr",
     "output_type": "stream",
     "text": [
      "\r",
      " 58%|█████▊    | 288/500 [40:55<33:47,  9.56s/it]"
     ]
    },
    {
     "name": "stdout",
     "output_type": "stream",
     "text": [
      "Test on 1143 samples\n",
      "R^2: -0.41\n",
      "Test Loss: 1.66%\n",
      "Train Epoch: 289 [0/19577 (0%)]\tLoss: 0.003597\n",
      "Train Epoch: 289 [3200/19577 (16%)]\tLoss: 0.003530\n",
      "Train Epoch: 289 [6400/19577 (33%)]\tLoss: 0.004989\n",
      "Train Epoch: 289 [9600/19577 (49%)]\tLoss: 0.006719\n",
      "Train Epoch: 289 [12800/19577 (65%)]\tLoss: 0.005206\n",
      "Train Epoch: 289 [16000/19577 (82%)]\tLoss: 0.005828\n",
      "Train Epoch: 289 [19200/19577 (98%)]\tLoss: 0.005494\n",
      "\n",
      "Train loss: 0.007238809997444132\n"
     ]
    },
    {
     "name": "stderr",
     "output_type": "stream",
     "text": [
      "\r",
      " 58%|█████▊    | 289/500 [41:04<32:52,  9.35s/it]"
     ]
    },
    {
     "name": "stdout",
     "output_type": "stream",
     "text": [
      "Test on 1143 samples\n",
      "R^2: -0.72\n",
      "Test Loss: 1.67%\n",
      "Train Epoch: 290 [0/19577 (0%)]\tLoss: 0.005341\n",
      "Train Epoch: 290 [3200/19577 (16%)]\tLoss: 0.006344\n",
      "Train Epoch: 290 [6400/19577 (33%)]\tLoss: 0.004926\n",
      "Train Epoch: 290 [9600/19577 (49%)]\tLoss: 0.002564\n",
      "Train Epoch: 290 [12800/19577 (65%)]\tLoss: 0.005818\n",
      "Train Epoch: 290 [16000/19577 (82%)]\tLoss: 0.005713\n",
      "Train Epoch: 290 [19200/19577 (98%)]\tLoss: 0.003545\n",
      "\n",
      "Train loss: 0.00722654283029983\n"
     ]
    },
    {
     "name": "stderr",
     "output_type": "stream",
     "text": [
      "\r",
      " 58%|█████▊    | 290/500 [41:13<31:48,  9.09s/it]"
     ]
    },
    {
     "name": "stdout",
     "output_type": "stream",
     "text": [
      "Test on 1143 samples\n",
      "R^2: -2.15\n",
      "Test Loss: 1.70%\n",
      "Train Epoch: 291 [0/19577 (0%)]\tLoss: 0.007272\n",
      "Train Epoch: 291 [3200/19577 (16%)]\tLoss: 0.005415\n",
      "Train Epoch: 291 [6400/19577 (33%)]\tLoss: 0.004261\n",
      "Train Epoch: 291 [9600/19577 (49%)]\tLoss: 0.005940\n",
      "Train Epoch: 291 [12800/19577 (65%)]\tLoss: 0.330628\n",
      "Train Epoch: 291 [16000/19577 (82%)]\tLoss: 0.002074\n",
      "Train Epoch: 291 [19200/19577 (98%)]\tLoss: 0.004084\n",
      "\n",
      "Train loss: 0.007224331332942824\n"
     ]
    },
    {
     "name": "stderr",
     "output_type": "stream",
     "text": [
      "\r",
      " 58%|█████▊    | 291/500 [41:20<29:47,  8.55s/it]"
     ]
    },
    {
     "name": "stdout",
     "output_type": "stream",
     "text": [
      "Test on 1143 samples\n",
      "R^2: -0.74\n",
      "Test Loss: 1.67%\n",
      "Train Epoch: 292 [0/19577 (0%)]\tLoss: 0.004664\n",
      "Train Epoch: 292 [3200/19577 (16%)]\tLoss: 0.006284\n",
      "Train Epoch: 292 [6400/19577 (33%)]\tLoss: 0.007782\n",
      "Train Epoch: 292 [9600/19577 (49%)]\tLoss: 0.006300\n",
      "Train Epoch: 292 [12800/19577 (65%)]\tLoss: 0.002899\n",
      "Train Epoch: 292 [16000/19577 (82%)]\tLoss: 0.005319\n",
      "Train Epoch: 292 [19200/19577 (98%)]\tLoss: 0.003334\n",
      "\n",
      "Train loss: 0.00724029878391793\n"
     ]
    },
    {
     "name": "stderr",
     "output_type": "stream",
     "text": [
      "\r",
      " 58%|█████▊    | 292/500 [41:27<28:43,  8.28s/it]"
     ]
    },
    {
     "name": "stdout",
     "output_type": "stream",
     "text": [
      "Test on 1143 samples\n",
      "R^2: -0.25\n",
      "Test Loss: 1.67%\n",
      "Train Epoch: 293 [0/19577 (0%)]\tLoss: 0.007231\n",
      "Train Epoch: 293 [3200/19577 (16%)]\tLoss: 0.006385\n",
      "Train Epoch: 293 [6400/19577 (33%)]\tLoss: 0.005223\n",
      "Train Epoch: 293 [9600/19577 (49%)]\tLoss: 0.004425\n",
      "Train Epoch: 293 [12800/19577 (65%)]\tLoss: 0.003633\n",
      "Train Epoch: 293 [16000/19577 (82%)]\tLoss: 0.003318\n",
      "Train Epoch: 293 [19200/19577 (98%)]\tLoss: 0.004496\n",
      "\n",
      "Train loss: 0.007211857419415359\n"
     ]
    },
    {
     "name": "stderr",
     "output_type": "stream",
     "text": [
      "\r",
      " 59%|█████▊    | 293/500 [41:35<27:43,  8.04s/it]"
     ]
    },
    {
     "name": "stdout",
     "output_type": "stream",
     "text": [
      "Test on 1143 samples\n",
      "R^2: -0.12\n",
      "Test Loss: 1.66%\n",
      "Train Epoch: 294 [0/19577 (0%)]\tLoss: 0.002809\n",
      "Train Epoch: 294 [3200/19577 (16%)]\tLoss: 0.002913\n",
      "Train Epoch: 294 [6400/19577 (33%)]\tLoss: 0.010753\n",
      "Train Epoch: 294 [9600/19577 (49%)]\tLoss: 0.015498\n",
      "Train Epoch: 294 [12800/19577 (65%)]\tLoss: 0.002722\n",
      "Train Epoch: 294 [16000/19577 (82%)]\tLoss: 0.006506\n",
      "Train Epoch: 294 [19200/19577 (98%)]\tLoss: 0.075801\n",
      "\n",
      "Train loss: 0.0072184593292726265\n"
     ]
    },
    {
     "name": "stderr",
     "output_type": "stream",
     "text": [
      "\r",
      " 59%|█████▉    | 294/500 [41:42<26:42,  7.78s/it]"
     ]
    },
    {
     "name": "stdout",
     "output_type": "stream",
     "text": [
      "Test on 1143 samples\n",
      "R^2: -0.06\n",
      "Test Loss: 1.66%\n",
      "Train Epoch: 295 [0/19577 (0%)]\tLoss: 0.006330\n",
      "Train Epoch: 295 [3200/19577 (16%)]\tLoss: 0.003364\n",
      "Train Epoch: 295 [6400/19577 (33%)]\tLoss: 0.006031\n",
      "Train Epoch: 295 [9600/19577 (49%)]\tLoss: 0.004807\n",
      "Train Epoch: 295 [12800/19577 (65%)]\tLoss: 0.007113\n",
      "Train Epoch: 295 [16000/19577 (82%)]\tLoss: 0.005557\n",
      "Train Epoch: 295 [19200/19577 (98%)]\tLoss: 0.003491\n",
      "\n",
      "Train loss: 0.007209820911026517\n"
     ]
    },
    {
     "name": "stderr",
     "output_type": "stream",
     "text": [
      "\r",
      " 59%|█████▉    | 295/500 [41:49<26:06,  7.64s/it]"
     ]
    },
    {
     "name": "stdout",
     "output_type": "stream",
     "text": [
      "Test on 1143 samples\n",
      "R^2: -2.32\n",
      "Test Loss: 1.70%\n",
      "Train Epoch: 296 [0/19577 (0%)]\tLoss: 0.004085\n",
      "Train Epoch: 296 [3200/19577 (16%)]\tLoss: 0.010089\n",
      "Train Epoch: 296 [6400/19577 (33%)]\tLoss: 0.005040\n",
      "Train Epoch: 296 [9600/19577 (49%)]\tLoss: 0.002814\n",
      "Train Epoch: 296 [12800/19577 (65%)]\tLoss: 0.005040\n",
      "Train Epoch: 296 [16000/19577 (82%)]\tLoss: 0.006288\n",
      "Train Epoch: 296 [19200/19577 (98%)]\tLoss: 0.007701\n",
      "\n",
      "Train loss: 0.007211593519576697\n"
     ]
    },
    {
     "name": "stderr",
     "output_type": "stream",
     "text": [
      "\r",
      " 59%|█████▉    | 296/500 [41:57<25:39,  7.55s/it]"
     ]
    },
    {
     "name": "stdout",
     "output_type": "stream",
     "text": [
      "Test on 1143 samples\n",
      "R^2: -0.19\n",
      "Test Loss: 1.66%\n",
      "Train Epoch: 297 [0/19577 (0%)]\tLoss: 0.009381\n",
      "Train Epoch: 297 [3200/19577 (16%)]\tLoss: 0.006537\n",
      "Train Epoch: 297 [6400/19577 (33%)]\tLoss: 0.004551\n",
      "Train Epoch: 297 [9600/19577 (49%)]\tLoss: 0.009127\n",
      "Train Epoch: 297 [12800/19577 (65%)]\tLoss: 0.004960\n",
      "Train Epoch: 297 [16000/19577 (82%)]\tLoss: 0.005020\n",
      "Train Epoch: 297 [19200/19577 (98%)]\tLoss: 0.006125\n",
      "\n",
      "Train loss: 0.007214465261485696\n"
     ]
    },
    {
     "name": "stderr",
     "output_type": "stream",
     "text": [
      "\r",
      " 59%|█████▉    | 297/500 [42:06<27:04,  8.00s/it]"
     ]
    },
    {
     "name": "stdout",
     "output_type": "stream",
     "text": [
      "Test on 1143 samples\n",
      "R^2: -0.04\n",
      "Test Loss: 1.66%\n",
      "Train Epoch: 298 [0/19577 (0%)]\tLoss: 0.004222\n",
      "Train Epoch: 298 [3200/19577 (16%)]\tLoss: 0.006333\n",
      "Train Epoch: 298 [6400/19577 (33%)]\tLoss: 0.006598\n",
      "Train Epoch: 298 [9600/19577 (49%)]\tLoss: 0.007509\n",
      "Train Epoch: 298 [12800/19577 (65%)]\tLoss: 0.010006\n",
      "Train Epoch: 298 [16000/19577 (82%)]\tLoss: 0.005826\n",
      "Train Epoch: 298 [19200/19577 (98%)]\tLoss: 0.005756\n",
      "\n",
      "Train loss: 0.007209818482283332\n"
     ]
    },
    {
     "name": "stderr",
     "output_type": "stream",
     "text": [
      "\r",
      " 60%|█████▉    | 298/500 [42:14<26:43,  7.94s/it]"
     ]
    },
    {
     "name": "stdout",
     "output_type": "stream",
     "text": [
      "Test on 1143 samples\n",
      "R^2: -0.52\n",
      "Test Loss: 1.66%\n",
      "Train Epoch: 299 [0/19577 (0%)]\tLoss: 0.002040\n",
      "Train Epoch: 299 [3200/19577 (16%)]\tLoss: 0.004109\n",
      "Train Epoch: 299 [6400/19577 (33%)]\tLoss: 0.008823\n",
      "Train Epoch: 299 [9600/19577 (49%)]\tLoss: 0.004145\n",
      "Train Epoch: 299 [12800/19577 (65%)]\tLoss: 0.004899\n",
      "Train Epoch: 299 [16000/19577 (82%)]\tLoss: 0.004682\n",
      "Train Epoch: 299 [19200/19577 (98%)]\tLoss: 0.011513\n",
      "\n",
      "Train loss: 0.0072091553425659835\n"
     ]
    },
    {
     "name": "stderr",
     "output_type": "stream",
     "text": [
      "\r",
      " 60%|█████▉    | 299/500 [42:21<26:23,  7.88s/it]"
     ]
    },
    {
     "name": "stdout",
     "output_type": "stream",
     "text": [
      "Test on 1143 samples\n",
      "R^2: -0.20\n",
      "Test Loss: 1.67%\n",
      "Train Epoch: 300 [0/19577 (0%)]\tLoss: 0.004987\n",
      "Train Epoch: 300 [3200/19577 (16%)]\tLoss: 0.004324\n",
      "Train Epoch: 300 [6400/19577 (33%)]\tLoss: 0.004956\n",
      "Train Epoch: 300 [9600/19577 (49%)]\tLoss: 0.326384\n",
      "Train Epoch: 300 [12800/19577 (65%)]\tLoss: 0.006894\n",
      "Train Epoch: 300 [16000/19577 (82%)]\tLoss: 0.006549\n",
      "Train Epoch: 300 [19200/19577 (98%)]\tLoss: 0.003254\n",
      "\n",
      "Train loss: 0.007194366957003166\n"
     ]
    },
    {
     "name": "stderr",
     "output_type": "stream",
     "text": [
      "\r",
      " 60%|██████    | 300/500 [42:30<26:31,  7.96s/it]"
     ]
    },
    {
     "name": "stdout",
     "output_type": "stream",
     "text": [
      "Test on 1143 samples\n",
      "R^2: 0.01\n",
      "Test Loss: 1.66%\n",
      "Train Epoch: 301 [0/19577 (0%)]\tLoss: 0.005012\n",
      "Train Epoch: 301 [3200/19577 (16%)]\tLoss: 0.006710\n",
      "Train Epoch: 301 [6400/19577 (33%)]\tLoss: 0.003444\n",
      "Train Epoch: 301 [9600/19577 (49%)]\tLoss: 0.005139\n",
      "Train Epoch: 301 [12800/19577 (65%)]\tLoss: 0.006008\n",
      "Train Epoch: 301 [16000/19577 (82%)]\tLoss: 0.006231\n",
      "Train Epoch: 301 [19200/19577 (98%)]\tLoss: 0.007012\n",
      "\n",
      "Train loss: 0.007209459128728733\n"
     ]
    },
    {
     "name": "stderr",
     "output_type": "stream",
     "text": [
      "\r",
      " 60%|██████    | 301/500 [42:37<25:38,  7.73s/it]"
     ]
    },
    {
     "name": "stdout",
     "output_type": "stream",
     "text": [
      "Test on 1143 samples\n",
      "R^2: -1.11\n",
      "Test Loss: 1.69%\n",
      "Train Epoch: 302 [0/19577 (0%)]\tLoss: 0.011595\n",
      "Train Epoch: 302 [3200/19577 (16%)]\tLoss: 0.008331\n",
      "Train Epoch: 302 [6400/19577 (33%)]\tLoss: 0.008363\n",
      "Train Epoch: 302 [9600/19577 (49%)]\tLoss: 0.004409\n",
      "Train Epoch: 302 [12800/19577 (65%)]\tLoss: 0.003593\n",
      "Train Epoch: 302 [16000/19577 (82%)]\tLoss: 0.005924\n",
      "Train Epoch: 302 [19200/19577 (98%)]\tLoss: 0.005647\n",
      "\n",
      "Train loss: 0.00721066257402033\n"
     ]
    },
    {
     "name": "stderr",
     "output_type": "stream",
     "text": [
      "\r",
      " 60%|██████    | 302/500 [42:44<24:51,  7.53s/it]"
     ]
    },
    {
     "name": "stdout",
     "output_type": "stream",
     "text": [
      "Test on 1143 samples\n",
      "R^2: -0.66\n",
      "Test Loss: 1.66%\n",
      "Train Epoch: 303 [0/19577 (0%)]\tLoss: 0.004827\n",
      "Train Epoch: 303 [3200/19577 (16%)]\tLoss: 0.002439\n",
      "Train Epoch: 303 [6400/19577 (33%)]\tLoss: 0.009959\n",
      "Train Epoch: 303 [9600/19577 (49%)]\tLoss: 0.006197\n",
      "Train Epoch: 303 [12800/19577 (65%)]\tLoss: 0.005739\n",
      "Train Epoch: 303 [16000/19577 (82%)]\tLoss: 0.013847\n",
      "Train Epoch: 303 [19200/19577 (98%)]\tLoss: 0.007961\n",
      "\n",
      "Train loss: 0.0072177275296245865\n"
     ]
    },
    {
     "name": "stderr",
     "output_type": "stream",
     "text": [
      "\r",
      " 61%|██████    | 303/500 [42:51<24:14,  7.38s/it]"
     ]
    },
    {
     "name": "stdout",
     "output_type": "stream",
     "text": [
      "Test on 1143 samples\n",
      "R^2: -0.10\n",
      "Test Loss: 1.66%\n",
      "Train Epoch: 304 [0/19577 (0%)]\tLoss: 0.002590\n",
      "Train Epoch: 304 [3200/19577 (16%)]\tLoss: 0.005336\n",
      "Train Epoch: 304 [6400/19577 (33%)]\tLoss: 0.003387\n",
      "Train Epoch: 304 [9600/19577 (49%)]\tLoss: 0.009424\n",
      "Train Epoch: 304 [12800/19577 (65%)]\tLoss: 0.006869\n",
      "Train Epoch: 304 [16000/19577 (82%)]\tLoss: 0.004774\n",
      "Train Epoch: 304 [19200/19577 (98%)]\tLoss: 0.003373\n",
      "\n",
      "Train loss: 0.007217129155250838\n"
     ]
    },
    {
     "name": "stderr",
     "output_type": "stream",
     "text": [
      "\r",
      " 61%|██████    | 304/500 [42:59<24:58,  7.65s/it]"
     ]
    },
    {
     "name": "stdout",
     "output_type": "stream",
     "text": [
      "Test on 1143 samples\n",
      "R^2: -0.11\n",
      "Test Loss: 1.66%\n",
      "Train Epoch: 305 [0/19577 (0%)]\tLoss: 0.004043\n",
      "Train Epoch: 305 [3200/19577 (16%)]\tLoss: 0.002415\n",
      "Train Epoch: 305 [6400/19577 (33%)]\tLoss: 0.331143\n",
      "Train Epoch: 305 [9600/19577 (49%)]\tLoss: 0.004078\n",
      "Train Epoch: 305 [12800/19577 (65%)]\tLoss: 0.009488\n",
      "Train Epoch: 305 [16000/19577 (82%)]\tLoss: 0.010310\n",
      "Train Epoch: 305 [19200/19577 (98%)]\tLoss: 0.004747\n",
      "\n",
      "Train loss: 0.007199323050193854\n"
     ]
    },
    {
     "name": "stderr",
     "output_type": "stream",
     "text": [
      "\r",
      " 61%|██████    | 305/500 [43:07<25:21,  7.80s/it]"
     ]
    },
    {
     "name": "stdout",
     "output_type": "stream",
     "text": [
      "Test on 1143 samples\n",
      "R^2: -0.91\n",
      "Test Loss: 1.66%\n",
      "Train Epoch: 306 [0/19577 (0%)]\tLoss: 0.006536\n",
      "Train Epoch: 306 [3200/19577 (16%)]\tLoss: 0.004939\n",
      "Train Epoch: 306 [6400/19577 (33%)]\tLoss: 0.012775\n",
      "Train Epoch: 306 [9600/19577 (49%)]\tLoss: 0.005311\n",
      "Train Epoch: 306 [12800/19577 (65%)]\tLoss: 0.006798\n",
      "Train Epoch: 306 [16000/19577 (82%)]\tLoss: 0.004239\n",
      "Train Epoch: 306 [19200/19577 (98%)]\tLoss: 0.004896\n",
      "\n",
      "Train loss: 0.007205046815691163\n"
     ]
    },
    {
     "name": "stderr",
     "output_type": "stream",
     "text": [
      "\r",
      " 61%|██████    | 306/500 [43:14<24:29,  7.57s/it]"
     ]
    },
    {
     "name": "stdout",
     "output_type": "stream",
     "text": [
      "Test on 1143 samples\n",
      "R^2: -1.72\n",
      "Test Loss: 1.67%\n",
      "Train Epoch: 307 [0/19577 (0%)]\tLoss: 0.003616\n",
      "Train Epoch: 307 [3200/19577 (16%)]\tLoss: 0.005216\n",
      "Train Epoch: 307 [6400/19577 (33%)]\tLoss: 0.005337\n",
      "Train Epoch: 307 [9600/19577 (49%)]\tLoss: 0.002958\n",
      "Train Epoch: 307 [12800/19577 (65%)]\tLoss: 0.003839\n",
      "Train Epoch: 307 [16000/19577 (82%)]\tLoss: 0.004330\n",
      "Train Epoch: 307 [19200/19577 (98%)]\tLoss: 0.004132\n",
      "\n",
      "Train loss: 0.0071753517768704915\n"
     ]
    },
    {
     "name": "stderr",
     "output_type": "stream",
     "text": [
      "\r",
      " 61%|██████▏   | 307/500 [43:21<23:54,  7.43s/it]"
     ]
    },
    {
     "name": "stdout",
     "output_type": "stream",
     "text": [
      "Test on 1143 samples\n",
      "R^2: -0.77\n",
      "Test Loss: 1.66%\n",
      "Train Epoch: 308 [0/19577 (0%)]\tLoss: 0.002737\n",
      "Train Epoch: 308 [3200/19577 (16%)]\tLoss: 0.005582\n",
      "Train Epoch: 308 [6400/19577 (33%)]\tLoss: 0.004098\n",
      "Train Epoch: 308 [9600/19577 (49%)]\tLoss: 0.003154\n",
      "Train Epoch: 308 [12800/19577 (65%)]\tLoss: 0.004343\n",
      "Train Epoch: 308 [16000/19577 (82%)]\tLoss: 0.003752\n",
      "Train Epoch: 308 [19200/19577 (98%)]\tLoss: 0.004722\n",
      "\n",
      "Train loss: 0.007207024759564281\n"
     ]
    },
    {
     "name": "stderr",
     "output_type": "stream",
     "text": [
      "\r",
      " 62%|██████▏   | 308/500 [43:29<23:37,  7.38s/it]"
     ]
    },
    {
     "name": "stdout",
     "output_type": "stream",
     "text": [
      "Test on 1143 samples\n",
      "R^2: -0.10\n",
      "Test Loss: 1.65%\n",
      "Train Epoch: 309 [0/19577 (0%)]\tLoss: 0.007293\n",
      "Train Epoch: 309 [3200/19577 (16%)]\tLoss: 0.004158\n",
      "Train Epoch: 309 [6400/19577 (33%)]\tLoss: 0.004353\n",
      "Train Epoch: 309 [9600/19577 (49%)]\tLoss: 0.006603\n",
      "Train Epoch: 309 [12800/19577 (65%)]\tLoss: 0.003764\n",
      "Train Epoch: 309 [16000/19577 (82%)]\tLoss: 0.002720\n",
      "Train Epoch: 309 [19200/19577 (98%)]\tLoss: 0.004542\n",
      "\n",
      "Train loss: 0.007193882534968259\n"
     ]
    },
    {
     "name": "stderr",
     "output_type": "stream",
     "text": [
      "\r",
      " 62%|██████▏   | 309/500 [43:37<24:00,  7.54s/it]"
     ]
    },
    {
     "name": "stdout",
     "output_type": "stream",
     "text": [
      "Test on 1143 samples\n",
      "R^2: -0.10\n",
      "Test Loss: 1.66%\n",
      "Train Epoch: 310 [0/19577 (0%)]\tLoss: 0.002380\n",
      "Train Epoch: 310 [3200/19577 (16%)]\tLoss: 0.006729\n",
      "Train Epoch: 310 [6400/19577 (33%)]\tLoss: 0.004957\n",
      "Train Epoch: 310 [9600/19577 (49%)]\tLoss: 0.008592\n",
      "Train Epoch: 310 [12800/19577 (65%)]\tLoss: 0.006536\n",
      "Train Epoch: 310 [16000/19577 (82%)]\tLoss: 0.003642\n",
      "Train Epoch: 310 [19200/19577 (98%)]\tLoss: 0.007799\n",
      "\n",
      "Train loss: 0.00718256317686253\n"
     ]
    },
    {
     "name": "stderr",
     "output_type": "stream",
     "text": [
      "\r",
      " 62%|██████▏   | 310/500 [43:45<24:23,  7.70s/it]"
     ]
    },
    {
     "name": "stdout",
     "output_type": "stream",
     "text": [
      "Test on 1143 samples\n",
      "R^2: -0.78\n",
      "Test Loss: 1.66%\n",
      "Train Epoch: 311 [0/19577 (0%)]\tLoss: 0.007324\n",
      "Train Epoch: 311 [3200/19577 (16%)]\tLoss: 0.002573\n",
      "Train Epoch: 311 [6400/19577 (33%)]\tLoss: 0.003869\n",
      "Train Epoch: 311 [9600/19577 (49%)]\tLoss: 0.008582\n",
      "Train Epoch: 311 [12800/19577 (65%)]\tLoss: 0.004705\n",
      "Train Epoch: 311 [16000/19577 (82%)]\tLoss: 0.002918\n",
      "Train Epoch: 311 [19200/19577 (98%)]\tLoss: 0.005946\n",
      "\n",
      "Train loss: 0.00719123170178481\n"
     ]
    },
    {
     "name": "stderr",
     "output_type": "stream",
     "text": [
      "\r",
      " 62%|██████▏   | 311/500 [43:52<24:11,  7.68s/it]"
     ]
    },
    {
     "name": "stdout",
     "output_type": "stream",
     "text": [
      "Test on 1143 samples\n",
      "R^2: -0.40\n",
      "Test Loss: 1.65%\n",
      "Train Epoch: 312 [0/19577 (0%)]\tLoss: 0.005042\n",
      "Train Epoch: 312 [3200/19577 (16%)]\tLoss: 0.003994\n",
      "Train Epoch: 312 [6400/19577 (33%)]\tLoss: 0.004683\n",
      "Train Epoch: 312 [9600/19577 (49%)]\tLoss: 0.006231\n",
      "Train Epoch: 312 [12800/19577 (65%)]\tLoss: 0.002209\n",
      "Train Epoch: 312 [16000/19577 (82%)]\tLoss: 0.008038\n",
      "Train Epoch: 312 [19200/19577 (98%)]\tLoss: 0.005077\n",
      "\n",
      "Train loss: 0.007172378216447077\n"
     ]
    },
    {
     "name": "stderr",
     "output_type": "stream",
     "text": [
      "\r",
      " 62%|██████▏   | 312/500 [44:00<23:58,  7.65s/it]"
     ]
    },
    {
     "name": "stdout",
     "output_type": "stream",
     "text": [
      "Test on 1143 samples\n",
      "R^2: -0.65\n",
      "Test Loss: 1.65%\n",
      "Train Epoch: 313 [0/19577 (0%)]\tLoss: 0.002948\n",
      "Train Epoch: 313 [3200/19577 (16%)]\tLoss: 0.007252\n",
      "Train Epoch: 313 [6400/19577 (33%)]\tLoss: 0.002024\n",
      "Train Epoch: 313 [9600/19577 (49%)]\tLoss: 0.005103\n",
      "Train Epoch: 313 [12800/19577 (65%)]\tLoss: 0.005022\n",
      "Train Epoch: 313 [16000/19577 (82%)]\tLoss: 0.006048\n",
      "Train Epoch: 313 [19200/19577 (98%)]\tLoss: 0.007117\n",
      "\n",
      "Train loss: 0.007194578990772416\n"
     ]
    },
    {
     "name": "stderr",
     "output_type": "stream",
     "text": [
      "\r",
      " 63%|██████▎   | 313/500 [44:08<24:12,  7.77s/it]"
     ]
    },
    {
     "name": "stdout",
     "output_type": "stream",
     "text": [
      "Test on 1143 samples\n",
      "R^2: -0.16\n",
      "Test Loss: 1.65%\n",
      "Train Epoch: 314 [0/19577 (0%)]\tLoss: 0.004434\n",
      "Train Epoch: 314 [3200/19577 (16%)]\tLoss: 0.005581\n",
      "Train Epoch: 314 [6400/19577 (33%)]\tLoss: 0.074346\n",
      "Train Epoch: 314 [9600/19577 (49%)]\tLoss: 0.005221\n",
      "Train Epoch: 314 [12800/19577 (65%)]\tLoss: 0.004017\n",
      "Train Epoch: 314 [16000/19577 (82%)]\tLoss: 0.006597\n",
      "Train Epoch: 314 [19200/19577 (98%)]\tLoss: 0.003080\n",
      "\n",
      "Train loss: 0.007154963073606779\n"
     ]
    },
    {
     "name": "stderr",
     "output_type": "stream",
     "text": [
      "\r",
      " 63%|██████▎   | 314/500 [44:15<23:22,  7.54s/it]"
     ]
    },
    {
     "name": "stdout",
     "output_type": "stream",
     "text": [
      "Test on 1143 samples\n",
      "R^2: -0.05\n",
      "Test Loss: 1.65%\n",
      "Train Epoch: 315 [0/19577 (0%)]\tLoss: 0.006860\n",
      "Train Epoch: 315 [3200/19577 (16%)]\tLoss: 0.003681\n",
      "Train Epoch: 315 [6400/19577 (33%)]\tLoss: 0.006524\n",
      "Train Epoch: 315 [9600/19577 (49%)]\tLoss: 0.004180\n",
      "Train Epoch: 315 [12800/19577 (65%)]\tLoss: 0.004211\n",
      "Train Epoch: 315 [16000/19577 (82%)]\tLoss: 0.006839\n",
      "Train Epoch: 315 [19200/19577 (98%)]\tLoss: 0.007651\n",
      "\n",
      "Train loss: 0.007166351937366272\n"
     ]
    },
    {
     "name": "stderr",
     "output_type": "stream",
     "text": [
      "\r",
      " 63%|██████▎   | 315/500 [44:23<23:30,  7.63s/it]"
     ]
    },
    {
     "name": "stdout",
     "output_type": "stream",
     "text": [
      "Test on 1143 samples\n",
      "R^2: -0.00\n",
      "Test Loss: 1.65%\n",
      "Train Epoch: 316 [0/19577 (0%)]\tLoss: 0.013878\n",
      "Train Epoch: 316 [3200/19577 (16%)]\tLoss: 0.007829\n",
      "Train Epoch: 316 [6400/19577 (33%)]\tLoss: 0.008923\n",
      "Train Epoch: 316 [9600/19577 (49%)]\tLoss: 0.004149\n",
      "Train Epoch: 316 [12800/19577 (65%)]\tLoss: 0.004036\n",
      "Train Epoch: 316 [16000/19577 (82%)]\tLoss: 0.006455\n",
      "Train Epoch: 316 [19200/19577 (98%)]\tLoss: 0.006874\n",
      "\n",
      "Train loss: 0.007187032249217451\n"
     ]
    },
    {
     "name": "stderr",
     "output_type": "stream",
     "text": [
      "\r",
      " 63%|██████▎   | 316/500 [44:30<23:25,  7.64s/it]"
     ]
    },
    {
     "name": "stdout",
     "output_type": "stream",
     "text": [
      "Test on 1143 samples\n",
      "R^2: -2.12\n",
      "Test Loss: 1.69%\n",
      "Train Epoch: 317 [0/19577 (0%)]\tLoss: 0.004321\n",
      "Train Epoch: 317 [3200/19577 (16%)]\tLoss: 0.005685\n",
      "Train Epoch: 317 [6400/19577 (33%)]\tLoss: 0.015132\n",
      "Train Epoch: 317 [9600/19577 (49%)]\tLoss: 0.006082\n",
      "Train Epoch: 317 [12800/19577 (65%)]\tLoss: 0.006810\n",
      "Train Epoch: 317 [16000/19577 (82%)]\tLoss: 0.002985\n",
      "Train Epoch: 317 [19200/19577 (98%)]\tLoss: 0.009813\n",
      "\n",
      "Train loss: 0.0071701356559821395\n"
     ]
    },
    {
     "name": "stderr",
     "output_type": "stream",
     "text": [
      "\r",
      " 63%|██████▎   | 317/500 [44:39<24:00,  7.87s/it]"
     ]
    },
    {
     "name": "stdout",
     "output_type": "stream",
     "text": [
      "Test on 1143 samples\n",
      "R^2: -0.68\n",
      "Test Loss: 1.65%\n",
      "Train Epoch: 318 [0/19577 (0%)]\tLoss: 0.005751\n",
      "Train Epoch: 318 [3200/19577 (16%)]\tLoss: 0.003461\n",
      "Train Epoch: 318 [6400/19577 (33%)]\tLoss: 0.005419\n",
      "Train Epoch: 318 [9600/19577 (49%)]\tLoss: 0.011394\n",
      "Train Epoch: 318 [12800/19577 (65%)]\tLoss: 0.005394\n",
      "Train Epoch: 318 [16000/19577 (82%)]\tLoss: 0.006812\n",
      "Train Epoch: 318 [19200/19577 (98%)]\tLoss: 0.007758\n",
      "\n",
      "Train loss: 0.007167406098268853\n"
     ]
    },
    {
     "name": "stderr",
     "output_type": "stream",
     "text": [
      "\r",
      " 64%|██████▎   | 318/500 [44:46<23:27,  7.74s/it]"
     ]
    },
    {
     "name": "stdout",
     "output_type": "stream",
     "text": [
      "Test on 1143 samples\n",
      "R^2: -0.01\n",
      "Test Loss: 1.65%\n",
      "Train Epoch: 319 [0/19577 (0%)]\tLoss: 0.008604\n",
      "Train Epoch: 319 [3200/19577 (16%)]\tLoss: 0.007089\n",
      "Train Epoch: 319 [6400/19577 (33%)]\tLoss: 0.003304\n",
      "Train Epoch: 319 [9600/19577 (49%)]\tLoss: 0.007465\n",
      "Train Epoch: 319 [12800/19577 (65%)]\tLoss: 0.006053\n",
      "Train Epoch: 319 [16000/19577 (82%)]\tLoss: 0.002679\n",
      "Train Epoch: 319 [19200/19577 (98%)]\tLoss: 0.007870\n",
      "\n",
      "Train loss: 0.007173718348544188\n"
     ]
    },
    {
     "name": "stderr",
     "output_type": "stream",
     "text": [
      "\r",
      " 64%|██████▍   | 319/500 [44:56<24:47,  8.22s/it]"
     ]
    },
    {
     "name": "stdout",
     "output_type": "stream",
     "text": [
      "Test on 1143 samples\n",
      "R^2: -0.62\n",
      "Test Loss: 1.65%\n",
      "Train Epoch: 320 [0/19577 (0%)]\tLoss: 0.003010\n",
      "Train Epoch: 320 [3200/19577 (16%)]\tLoss: 0.004587\n",
      "Train Epoch: 320 [6400/19577 (33%)]\tLoss: 0.003363\n",
      "Train Epoch: 320 [9600/19577 (49%)]\tLoss: 0.006482\n",
      "Train Epoch: 320 [12800/19577 (65%)]\tLoss: 0.004920\n",
      "Train Epoch: 320 [16000/19577 (82%)]\tLoss: 0.005430\n",
      "Train Epoch: 320 [19200/19577 (98%)]\tLoss: 0.004100\n",
      "\n",
      "Train loss: 0.007159053931603196\n"
     ]
    },
    {
     "name": "stderr",
     "output_type": "stream",
     "text": [
      "\r",
      " 64%|██████▍   | 320/500 [45:09<29:15,  9.75s/it]"
     ]
    },
    {
     "name": "stdout",
     "output_type": "stream",
     "text": [
      "Test on 1143 samples\n",
      "R^2: 0.00\n",
      "Test Loss: 1.65%\n",
      "Train Epoch: 321 [0/19577 (0%)]\tLoss: 0.004659\n",
      "Train Epoch: 321 [3200/19577 (16%)]\tLoss: 0.005098\n",
      "Train Epoch: 321 [6400/19577 (33%)]\tLoss: 0.004500\n",
      "Train Epoch: 321 [9600/19577 (49%)]\tLoss: 0.009880\n",
      "Train Epoch: 321 [12800/19577 (65%)]\tLoss: 0.007116\n",
      "Train Epoch: 321 [16000/19577 (82%)]\tLoss: 0.005017\n",
      "Train Epoch: 321 [19200/19577 (98%)]\tLoss: 0.005223\n",
      "\n",
      "Train loss: 0.007169978773781385\n"
     ]
    },
    {
     "name": "stderr",
     "output_type": "stream",
     "text": [
      "\r",
      " 64%|██████▍   | 321/500 [45:17<27:16,  9.14s/it]"
     ]
    },
    {
     "name": "stdout",
     "output_type": "stream",
     "text": [
      "Test on 1143 samples\n",
      "R^2: -0.14\n",
      "Test Loss: 1.66%\n",
      "Train Epoch: 322 [0/19577 (0%)]\tLoss: 0.007896\n",
      "Train Epoch: 322 [3200/19577 (16%)]\tLoss: 0.006436\n",
      "Train Epoch: 322 [6400/19577 (33%)]\tLoss: 0.007656\n",
      "Train Epoch: 322 [9600/19577 (49%)]\tLoss: 0.003031\n",
      "Train Epoch: 322 [12800/19577 (65%)]\tLoss: 0.002652\n",
      "Train Epoch: 322 [16000/19577 (82%)]\tLoss: 0.002852\n",
      "Train Epoch: 322 [19200/19577 (98%)]\tLoss: 0.006873\n",
      "\n",
      "Train loss: 0.007161128946832606\n"
     ]
    },
    {
     "name": "stderr",
     "output_type": "stream",
     "text": [
      "\r",
      " 64%|██████▍   | 322/500 [45:24<25:46,  8.69s/it]"
     ]
    },
    {
     "name": "stdout",
     "output_type": "stream",
     "text": [
      "Test on 1143 samples\n",
      "R^2: -0.45\n",
      "Test Loss: 1.65%\n",
      "Train Epoch: 323 [0/19577 (0%)]\tLoss: 0.006443\n",
      "Train Epoch: 323 [3200/19577 (16%)]\tLoss: 0.004998\n",
      "Train Epoch: 323 [6400/19577 (33%)]\tLoss: 0.005429\n",
      "Train Epoch: 323 [9600/19577 (49%)]\tLoss: 0.005792\n",
      "Train Epoch: 323 [12800/19577 (65%)]\tLoss: 0.003864\n",
      "Train Epoch: 323 [16000/19577 (82%)]\tLoss: 0.038426\n",
      "Train Epoch: 323 [19200/19577 (98%)]\tLoss: 0.004259\n",
      "\n",
      "Train loss: 0.007158586147448255\n"
     ]
    },
    {
     "name": "stderr",
     "output_type": "stream",
     "text": [
      "\r",
      " 65%|██████▍   | 323/500 [45:33<25:19,  8.58s/it]"
     ]
    },
    {
     "name": "stdout",
     "output_type": "stream",
     "text": [
      "Test on 1143 samples\n",
      "R^2: -2.11\n",
      "Test Loss: 1.66%\n",
      "Train Epoch: 324 [0/19577 (0%)]\tLoss: 0.006938\n",
      "Train Epoch: 324 [3200/19577 (16%)]\tLoss: 0.003498\n",
      "Train Epoch: 324 [6400/19577 (33%)]\tLoss: 0.003415\n",
      "Train Epoch: 324 [9600/19577 (49%)]\tLoss: 0.003046\n",
      "Train Epoch: 324 [12800/19577 (65%)]\tLoss: 0.006448\n",
      "Train Epoch: 324 [16000/19577 (82%)]\tLoss: 0.002544\n",
      "Train Epoch: 324 [19200/19577 (98%)]\tLoss: 0.003673\n",
      "\n",
      "Train loss: 0.007142273353084046\n"
     ]
    },
    {
     "name": "stderr",
     "output_type": "stream",
     "text": [
      "\r",
      " 65%|██████▍   | 324/500 [45:40<24:28,  8.35s/it]"
     ]
    },
    {
     "name": "stdout",
     "output_type": "stream",
     "text": [
      "Test on 1143 samples\n",
      "R^2: -0.13\n",
      "Test Loss: 1.65%\n",
      "Train Epoch: 325 [0/19577 (0%)]\tLoss: 0.010146\n",
      "Train Epoch: 325 [3200/19577 (16%)]\tLoss: 0.008518\n",
      "Train Epoch: 325 [6400/19577 (33%)]\tLoss: 0.005584\n",
      "Train Epoch: 325 [9600/19577 (49%)]\tLoss: 0.008730\n",
      "Train Epoch: 325 [12800/19577 (65%)]\tLoss: 0.004345\n",
      "Train Epoch: 325 [16000/19577 (82%)]\tLoss: 0.011652\n",
      "Train Epoch: 325 [19200/19577 (98%)]\tLoss: 0.009627\n",
      "\n",
      "Train loss: 0.007171181480634617\n"
     ]
    },
    {
     "name": "stderr",
     "output_type": "stream",
     "text": [
      "\r",
      " 65%|██████▌   | 325/500 [45:49<24:19,  8.34s/it]"
     ]
    },
    {
     "name": "stdout",
     "output_type": "stream",
     "text": [
      "Test on 1143 samples\n",
      "R^2: -0.07\n",
      "Test Loss: 1.65%\n",
      "Train Epoch: 326 [0/19577 (0%)]\tLoss: 0.007602\n",
      "Train Epoch: 326 [3200/19577 (16%)]\tLoss: 0.011157\n",
      "Train Epoch: 326 [6400/19577 (33%)]\tLoss: 0.003500\n",
      "Train Epoch: 326 [9600/19577 (49%)]\tLoss: 0.008902\n",
      "Train Epoch: 326 [12800/19577 (65%)]\tLoss: 0.006457\n",
      "Train Epoch: 326 [16000/19577 (82%)]\tLoss: 0.005297\n",
      "Train Epoch: 326 [19200/19577 (98%)]\tLoss: 0.006654\n",
      "\n",
      "Train loss: 0.007155819672001586\n"
     ]
    },
    {
     "name": "stderr",
     "output_type": "stream",
     "text": [
      "\r",
      " 65%|██████▌   | 326/500 [45:57<24:21,  8.40s/it]"
     ]
    },
    {
     "name": "stdout",
     "output_type": "stream",
     "text": [
      "Test on 1143 samples\n",
      "R^2: -0.92\n",
      "Test Loss: 1.65%\n",
      "Train Epoch: 327 [0/19577 (0%)]\tLoss: 0.074626\n",
      "Train Epoch: 327 [3200/19577 (16%)]\tLoss: 0.004940\n",
      "Train Epoch: 327 [6400/19577 (33%)]\tLoss: 0.009695\n",
      "Train Epoch: 327 [9600/19577 (49%)]\tLoss: 0.007098\n",
      "Train Epoch: 327 [12800/19577 (65%)]\tLoss: 0.005780\n",
      "Train Epoch: 327 [16000/19577 (82%)]\tLoss: 0.006788\n",
      "Train Epoch: 327 [19200/19577 (98%)]\tLoss: 0.009533\n",
      "\n",
      "Train loss: 0.007134651980177177\n"
     ]
    },
    {
     "name": "stderr",
     "output_type": "stream",
     "text": [
      "\r",
      " 65%|██████▌   | 327/500 [46:05<23:33,  8.17s/it]"
     ]
    },
    {
     "name": "stdout",
     "output_type": "stream",
     "text": [
      "Test on 1143 samples\n",
      "R^2: -0.13\n",
      "Test Loss: 1.65%\n",
      "Train Epoch: 328 [0/19577 (0%)]\tLoss: 0.002684\n",
      "Train Epoch: 328 [3200/19577 (16%)]\tLoss: 0.007091\n",
      "Train Epoch: 328 [6400/19577 (33%)]\tLoss: 0.003151\n",
      "Train Epoch: 328 [9600/19577 (49%)]\tLoss: 0.006672\n",
      "Train Epoch: 328 [12800/19577 (65%)]\tLoss: 0.004978\n",
      "Train Epoch: 328 [16000/19577 (82%)]\tLoss: 0.006055\n",
      "Train Epoch: 328 [19200/19577 (98%)]\tLoss: 0.010770\n",
      "\n",
      "Train loss: 0.007154511731784499\n"
     ]
    },
    {
     "name": "stderr",
     "output_type": "stream",
     "text": [
      "\r",
      " 66%|██████▌   | 328/500 [46:12<22:48,  7.95s/it]"
     ]
    },
    {
     "name": "stdout",
     "output_type": "stream",
     "text": [
      "Test on 1143 samples\n",
      "R^2: -0.54\n",
      "Test Loss: 1.65%\n",
      "Train Epoch: 329 [0/19577 (0%)]\tLoss: 0.002092\n",
      "Train Epoch: 329 [3200/19577 (16%)]\tLoss: 0.006012\n",
      "Train Epoch: 329 [6400/19577 (33%)]\tLoss: 0.004417\n",
      "Train Epoch: 329 [9600/19577 (49%)]\tLoss: 0.005232\n",
      "Train Epoch: 329 [12800/19577 (65%)]\tLoss: 0.006999\n",
      "Train Epoch: 329 [16000/19577 (82%)]\tLoss: 0.006500\n",
      "Train Epoch: 329 [19200/19577 (98%)]\tLoss: 0.005811\n",
      "\n",
      "Train loss: 0.007145253745488993\n"
     ]
    },
    {
     "name": "stderr",
     "output_type": "stream",
     "text": [
      "\r",
      " 66%|██████▌   | 329/500 [46:20<22:08,  7.77s/it]"
     ]
    },
    {
     "name": "stdout",
     "output_type": "stream",
     "text": [
      "Test on 1143 samples\n",
      "R^2: -1.73\n",
      "Test Loss: 1.68%\n",
      "Train Epoch: 330 [0/19577 (0%)]\tLoss: 0.004716\n",
      "Train Epoch: 330 [3200/19577 (16%)]\tLoss: 0.007674\n",
      "Train Epoch: 330 [6400/19577 (33%)]\tLoss: 0.005858\n",
      "Train Epoch: 330 [9600/19577 (49%)]\tLoss: 0.004171\n",
      "Train Epoch: 330 [12800/19577 (65%)]\tLoss: 0.002260\n",
      "Train Epoch: 330 [16000/19577 (82%)]\tLoss: 0.004024\n",
      "Train Epoch: 330 [19200/19577 (98%)]\tLoss: 0.078079\n",
      "\n",
      "Train loss: 0.007129884158334166\n"
     ]
    },
    {
     "name": "stderr",
     "output_type": "stream",
     "text": [
      "\r",
      " 66%|██████▌   | 330/500 [46:27<22:00,  7.77s/it]"
     ]
    },
    {
     "name": "stdout",
     "output_type": "stream",
     "text": [
      "Test on 1143 samples\n",
      "R^2: -0.89\n",
      "Test Loss: 1.64%\n",
      "Train Epoch: 331 [0/19577 (0%)]\tLoss: 0.011262\n",
      "Train Epoch: 331 [3200/19577 (16%)]\tLoss: 0.003183\n",
      "Train Epoch: 331 [6400/19577 (33%)]\tLoss: 0.007735\n",
      "Train Epoch: 331 [9600/19577 (49%)]\tLoss: 0.007903\n",
      "Train Epoch: 331 [12800/19577 (65%)]\tLoss: 0.006510\n",
      "Train Epoch: 331 [16000/19577 (82%)]\tLoss: 0.003013\n",
      "Train Epoch: 331 [19200/19577 (98%)]\tLoss: 0.008893\n",
      "\n",
      "Train loss: 0.007139978224253342\n"
     ]
    },
    {
     "name": "stderr",
     "output_type": "stream",
     "text": [
      "\r",
      " 66%|██████▌   | 331/500 [46:35<21:27,  7.62s/it]"
     ]
    },
    {
     "name": "stdout",
     "output_type": "stream",
     "text": [
      "Test on 1143 samples\n",
      "R^2: -0.21\n",
      "Test Loss: 1.64%\n",
      "Train Epoch: 332 [0/19577 (0%)]\tLoss: 0.006635\n",
      "Train Epoch: 332 [3200/19577 (16%)]\tLoss: 0.005828\n",
      "Train Epoch: 332 [6400/19577 (33%)]\tLoss: 0.005735\n",
      "Train Epoch: 332 [9600/19577 (49%)]\tLoss: 0.004926\n",
      "Train Epoch: 332 [12800/19577 (65%)]\tLoss: 0.008958\n",
      "Train Epoch: 332 [16000/19577 (82%)]\tLoss: 0.003324\n",
      "Train Epoch: 332 [19200/19577 (98%)]\tLoss: 0.002802\n",
      "\n",
      "Train loss: 0.00712951283150176\n"
     ]
    },
    {
     "name": "stderr",
     "output_type": "stream",
     "text": [
      "\r",
      " 66%|██████▋   | 332/500 [46:42<21:10,  7.56s/it]"
     ]
    },
    {
     "name": "stdout",
     "output_type": "stream",
     "text": [
      "Test on 1143 samples\n",
      "R^2: -0.94\n",
      "Test Loss: 1.65%\n",
      "Train Epoch: 333 [0/19577 (0%)]\tLoss: 0.002499\n",
      "Train Epoch: 333 [3200/19577 (16%)]\tLoss: 0.004008\n",
      "Train Epoch: 333 [6400/19577 (33%)]\tLoss: 0.006063\n",
      "Train Epoch: 333 [9600/19577 (49%)]\tLoss: 0.006629\n",
      "Train Epoch: 333 [12800/19577 (65%)]\tLoss: 0.012268\n",
      "Train Epoch: 333 [16000/19577 (82%)]\tLoss: 0.007083\n",
      "Train Epoch: 333 [19200/19577 (98%)]\tLoss: 0.005908\n",
      "\n",
      "Train loss: 0.007126595687236808\n"
     ]
    },
    {
     "name": "stderr",
     "output_type": "stream",
     "text": [
      "\r",
      " 67%|██████▋   | 333/500 [47:01<30:04, 10.80s/it]"
     ]
    },
    {
     "name": "stdout",
     "output_type": "stream",
     "text": [
      "Test on 1143 samples\n",
      "R^2: -0.04\n",
      "Test Loss: 1.65%\n",
      "Train Epoch: 334 [0/19577 (0%)]\tLoss: 0.004325\n",
      "Train Epoch: 334 [3200/19577 (16%)]\tLoss: 0.004572\n",
      "Train Epoch: 334 [6400/19577 (33%)]\tLoss: 0.012740\n",
      "Train Epoch: 334 [9600/19577 (49%)]\tLoss: 0.004897\n",
      "Train Epoch: 334 [12800/19577 (65%)]\tLoss: 0.005730\n",
      "Train Epoch: 334 [16000/19577 (82%)]\tLoss: 0.003243\n",
      "Train Epoch: 334 [19200/19577 (98%)]\tLoss: 0.004646\n",
      "\n",
      "Train loss: 0.0071291001992957554\n"
     ]
    },
    {
     "name": "stderr",
     "output_type": "stream",
     "text": [
      "\r",
      " 67%|██████▋   | 334/500 [47:11<29:25, 10.63s/it]"
     ]
    },
    {
     "name": "stdout",
     "output_type": "stream",
     "text": [
      "Test on 1143 samples\n",
      "R^2: -0.02\n",
      "Test Loss: 1.65%\n",
      "Train Epoch: 335 [0/19577 (0%)]\tLoss: 0.007587\n",
      "Train Epoch: 335 [3200/19577 (16%)]\tLoss: 0.006149\n",
      "Train Epoch: 335 [6400/19577 (33%)]\tLoss: 0.005852\n",
      "Train Epoch: 335 [9600/19577 (49%)]\tLoss: 0.006495\n",
      "Train Epoch: 335 [12800/19577 (65%)]\tLoss: 0.327748\n",
      "Train Epoch: 335 [16000/19577 (82%)]\tLoss: 0.003460\n",
      "Train Epoch: 335 [19200/19577 (98%)]\tLoss: 0.003586\n",
      "\n",
      "Train loss: 0.007133228681506771\n"
     ]
    },
    {
     "name": "stderr",
     "output_type": "stream",
     "text": [
      "\r",
      " 67%|██████▋   | 335/500 [47:19<27:08,  9.87s/it]"
     ]
    },
    {
     "name": "stdout",
     "output_type": "stream",
     "text": [
      "Test on 1143 samples\n",
      "R^2: -0.99\n",
      "Test Loss: 1.65%\n",
      "Train Epoch: 336 [0/19577 (0%)]\tLoss: 0.006696\n",
      "Train Epoch: 336 [3200/19577 (16%)]\tLoss: 0.004585\n",
      "Train Epoch: 336 [6400/19577 (33%)]\tLoss: 0.004300\n",
      "Train Epoch: 336 [9600/19577 (49%)]\tLoss: 0.006130\n",
      "Train Epoch: 336 [12800/19577 (65%)]\tLoss: 0.002269\n",
      "Train Epoch: 336 [16000/19577 (82%)]\tLoss: 0.004644\n",
      "Train Epoch: 336 [19200/19577 (98%)]\tLoss: 0.003395\n",
      "\n",
      "Train loss: 0.007120207730860273\n"
     ]
    },
    {
     "name": "stderr",
     "output_type": "stream",
     "text": [
      "\r",
      " 67%|██████▋   | 336/500 [47:26<25:00,  9.15s/it]"
     ]
    },
    {
     "name": "stdout",
     "output_type": "stream",
     "text": [
      "Test on 1143 samples\n",
      "R^2: -0.06\n",
      "Test Loss: 1.64%\n",
      "Train Epoch: 337 [0/19577 (0%)]\tLoss: 0.006453\n",
      "Train Epoch: 337 [3200/19577 (16%)]\tLoss: 0.004542\n",
      "Train Epoch: 337 [6400/19577 (33%)]\tLoss: 0.010568\n",
      "Train Epoch: 337 [9600/19577 (49%)]\tLoss: 0.008747\n",
      "Train Epoch: 337 [12800/19577 (65%)]\tLoss: 0.005511\n",
      "Train Epoch: 337 [16000/19577 (82%)]\tLoss: 0.005660\n",
      "Train Epoch: 337 [19200/19577 (98%)]\tLoss: 0.007345\n",
      "\n",
      "Train loss: 0.007134960945299979\n"
     ]
    },
    {
     "name": "stderr",
     "output_type": "stream",
     "text": [
      "\r",
      " 67%|██████▋   | 337/500 [47:34<23:35,  8.68s/it]"
     ]
    },
    {
     "name": "stdout",
     "output_type": "stream",
     "text": [
      "Test on 1143 samples\n",
      "R^2: -0.31\n",
      "Test Loss: 1.64%\n",
      "Train Epoch: 338 [0/19577 (0%)]\tLoss: 0.004063\n",
      "Train Epoch: 338 [3200/19577 (16%)]\tLoss: 0.005209\n",
      "Train Epoch: 338 [6400/19577 (33%)]\tLoss: 0.004166\n",
      "Train Epoch: 338 [9600/19577 (49%)]\tLoss: 0.003074\n",
      "Train Epoch: 338 [12800/19577 (65%)]\tLoss: 0.005290\n",
      "Train Epoch: 338 [16000/19577 (82%)]\tLoss: 0.002741\n",
      "Train Epoch: 338 [19200/19577 (98%)]\tLoss: 0.007578\n",
      "\n",
      "Train loss: 0.007110387805904097\n"
     ]
    },
    {
     "name": "stderr",
     "output_type": "stream",
     "text": [
      "\r",
      " 68%|██████▊   | 338/500 [47:42<23:10,  8.58s/it]"
     ]
    },
    {
     "name": "stdout",
     "output_type": "stream",
     "text": [
      "Test on 1143 samples\n",
      "R^2: -0.09\n",
      "Test Loss: 1.64%\n",
      "Train Epoch: 339 [0/19577 (0%)]\tLoss: 0.003566\n",
      "Train Epoch: 339 [3200/19577 (16%)]\tLoss: 0.008586\n",
      "Train Epoch: 339 [6400/19577 (33%)]\tLoss: 0.006188\n",
      "Train Epoch: 339 [9600/19577 (49%)]\tLoss: 0.003707\n",
      "Train Epoch: 339 [12800/19577 (65%)]\tLoss: 0.003689\n",
      "Train Epoch: 339 [16000/19577 (82%)]\tLoss: 0.007329\n",
      "Train Epoch: 339 [19200/19577 (98%)]\tLoss: 0.005272\n",
      "\n",
      "Train loss: 0.007116443983559174\n"
     ]
    },
    {
     "name": "stderr",
     "output_type": "stream",
     "text": [
      "\r",
      " 68%|██████▊   | 339/500 [47:50<22:18,  8.31s/it]"
     ]
    },
    {
     "name": "stdout",
     "output_type": "stream",
     "text": [
      "Test on 1143 samples\n",
      "R^2: -0.03\n",
      "Test Loss: 1.64%\n",
      "Train Epoch: 340 [0/19577 (0%)]\tLoss: 0.005891\n",
      "Train Epoch: 340 [3200/19577 (16%)]\tLoss: 0.004297\n",
      "Train Epoch: 340 [6400/19577 (33%)]\tLoss: 0.004948\n",
      "Train Epoch: 340 [9600/19577 (49%)]\tLoss: 0.004791\n",
      "Train Epoch: 340 [12800/19577 (65%)]\tLoss: 0.005096\n",
      "Train Epoch: 340 [16000/19577 (82%)]\tLoss: 0.002214\n",
      "Train Epoch: 340 [19200/19577 (98%)]\tLoss: 0.003295\n",
      "\n",
      "Train loss: 0.007116707059740411\n"
     ]
    },
    {
     "name": "stderr",
     "output_type": "stream",
     "text": [
      "\r",
      " 68%|██████▊   | 340/500 [47:58<22:09,  8.31s/it]"
     ]
    },
    {
     "name": "stdout",
     "output_type": "stream",
     "text": [
      "Test on 1143 samples\n",
      "R^2: -0.04\n",
      "Test Loss: 1.64%\n",
      "Train Epoch: 341 [0/19577 (0%)]\tLoss: 0.004658\n",
      "Train Epoch: 341 [3200/19577 (16%)]\tLoss: 0.004274\n",
      "Train Epoch: 341 [6400/19577 (33%)]\tLoss: 0.003594\n",
      "Train Epoch: 341 [9600/19577 (49%)]\tLoss: 0.002359\n",
      "Train Epoch: 341 [12800/19577 (65%)]\tLoss: 0.003809\n",
      "Train Epoch: 341 [16000/19577 (82%)]\tLoss: 0.004163\n",
      "Train Epoch: 341 [19200/19577 (98%)]\tLoss: 0.004987\n",
      "\n",
      "Train loss: 0.007130302739515292\n"
     ]
    },
    {
     "name": "stderr",
     "output_type": "stream",
     "text": [
      "\r",
      " 68%|██████▊   | 341/500 [48:09<23:51,  9.00s/it]"
     ]
    },
    {
     "name": "stdout",
     "output_type": "stream",
     "text": [
      "Test on 1143 samples\n",
      "R^2: -0.03\n",
      "Test Loss: 1.64%\n",
      "Train Epoch: 342 [0/19577 (0%)]\tLoss: 0.003119\n",
      "Train Epoch: 342 [3200/19577 (16%)]\tLoss: 0.006012\n",
      "Train Epoch: 342 [6400/19577 (33%)]\tLoss: 0.008320\n",
      "Train Epoch: 342 [9600/19577 (49%)]\tLoss: 0.002231\n",
      "Train Epoch: 342 [12800/19577 (65%)]\tLoss: 0.008434\n",
      "Train Epoch: 342 [16000/19577 (82%)]\tLoss: 0.007054\n",
      "Train Epoch: 342 [19200/19577 (98%)]\tLoss: 0.042358\n",
      "\n",
      "Train loss: 0.007122855503005554\n"
     ]
    },
    {
     "name": "stderr",
     "output_type": "stream",
     "text": [
      "\r",
      " 68%|██████▊   | 342/500 [48:22<26:38, 10.12s/it]"
     ]
    },
    {
     "name": "stdout",
     "output_type": "stream",
     "text": [
      "Test on 1143 samples\n",
      "R^2: -0.11\n",
      "Test Loss: 1.64%\n",
      "Train Epoch: 343 [0/19577 (0%)]\tLoss: 0.003860\n",
      "Train Epoch: 343 [3200/19577 (16%)]\tLoss: 0.328241\n",
      "Train Epoch: 343 [6400/19577 (33%)]\tLoss: 0.012084\n",
      "Train Epoch: 343 [9600/19577 (49%)]\tLoss: 0.005317\n",
      "Train Epoch: 343 [12800/19577 (65%)]\tLoss: 0.007907\n",
      "Train Epoch: 343 [16000/19577 (82%)]\tLoss: 0.003112\n",
      "Train Epoch: 343 [19200/19577 (98%)]\tLoss: 0.002553\n",
      "\n",
      "Train loss: 0.007104530389910698\n"
     ]
    },
    {
     "name": "stderr",
     "output_type": "stream",
     "text": [
      "\r",
      " 69%|██████▊   | 343/500 [48:29<24:45,  9.46s/it]"
     ]
    },
    {
     "name": "stdout",
     "output_type": "stream",
     "text": [
      "Test on 1143 samples\n",
      "R^2: -0.34\n",
      "Test Loss: 1.64%\n",
      "Train Epoch: 344 [0/19577 (0%)]\tLoss: 0.009109\n",
      "Train Epoch: 344 [3200/19577 (16%)]\tLoss: 0.005519\n",
      "Train Epoch: 344 [6400/19577 (33%)]\tLoss: 0.004950\n",
      "Train Epoch: 344 [9600/19577 (49%)]\tLoss: 0.004489\n",
      "Train Epoch: 344 [12800/19577 (65%)]\tLoss: 0.005591\n",
      "Train Epoch: 344 [16000/19577 (82%)]\tLoss: 0.004939\n",
      "Train Epoch: 344 [19200/19577 (98%)]\tLoss: 0.006371\n",
      "\n",
      "Train loss: 0.007094100088389359\n"
     ]
    },
    {
     "name": "stderr",
     "output_type": "stream",
     "text": [
      "\r",
      " 69%|██████▉   | 344/500 [48:38<24:05,  9.27s/it]"
     ]
    },
    {
     "name": "stdout",
     "output_type": "stream",
     "text": [
      "Test on 1143 samples\n",
      "R^2: -0.01\n",
      "Test Loss: 1.64%\n",
      "Train Epoch: 345 [0/19577 (0%)]\tLoss: 0.004434\n",
      "Train Epoch: 345 [3200/19577 (16%)]\tLoss: 0.003966\n",
      "Train Epoch: 345 [6400/19577 (33%)]\tLoss: 0.006901\n",
      "Train Epoch: 345 [9600/19577 (49%)]\tLoss: 0.003569\n",
      "Train Epoch: 345 [12800/19577 (65%)]\tLoss: 0.003778\n",
      "Train Epoch: 345 [16000/19577 (82%)]\tLoss: 0.006231\n",
      "Train Epoch: 345 [19200/19577 (98%)]\tLoss: 0.005202\n",
      "\n",
      "Train loss: 0.0071106309750653025\n"
     ]
    },
    {
     "name": "stderr",
     "output_type": "stream",
     "text": [
      "\r",
      " 69%|██████▉   | 345/500 [48:48<24:03,  9.32s/it]"
     ]
    },
    {
     "name": "stdout",
     "output_type": "stream",
     "text": [
      "Test on 1143 samples\n",
      "R^2: -3.33\n",
      "Test Loss: 1.67%\n",
      "Train Epoch: 346 [0/19577 (0%)]\tLoss: 0.003131\n",
      "Train Epoch: 346 [3200/19577 (16%)]\tLoss: 0.004838\n",
      "Train Epoch: 346 [6400/19577 (33%)]\tLoss: 0.007683\n",
      "Train Epoch: 346 [9600/19577 (49%)]\tLoss: 0.006528\n",
      "Train Epoch: 346 [12800/19577 (65%)]\tLoss: 0.003702\n",
      "Train Epoch: 346 [16000/19577 (82%)]\tLoss: 0.007080\n",
      "Train Epoch: 346 [19200/19577 (98%)]\tLoss: 0.005793\n",
      "\n",
      "Train loss: 0.007116749797859442\n"
     ]
    },
    {
     "name": "stderr",
     "output_type": "stream",
     "text": [
      "\r",
      " 69%|██████▉   | 346/500 [48:55<22:35,  8.80s/it]"
     ]
    },
    {
     "name": "stdout",
     "output_type": "stream",
     "text": [
      "Test on 1143 samples\n",
      "R^2: -0.00\n",
      "Test Loss: 1.64%\n",
      "Train Epoch: 347 [0/19577 (0%)]\tLoss: 0.006136\n",
      "Train Epoch: 347 [3200/19577 (16%)]\tLoss: 0.008208\n",
      "Train Epoch: 347 [6400/19577 (33%)]\tLoss: 0.004936\n",
      "Train Epoch: 347 [9600/19577 (49%)]\tLoss: 0.002330\n",
      "Train Epoch: 347 [12800/19577 (65%)]\tLoss: 0.006305\n",
      "Train Epoch: 347 [16000/19577 (82%)]\tLoss: 0.004664\n",
      "Train Epoch: 347 [19200/19577 (98%)]\tLoss: 0.002703\n",
      "\n",
      "Train loss: 0.0070975089903762625\n"
     ]
    },
    {
     "name": "stderr",
     "output_type": "stream",
     "text": [
      "\r",
      " 69%|██████▉   | 347/500 [49:03<21:12,  8.32s/it]"
     ]
    },
    {
     "name": "stdout",
     "output_type": "stream",
     "text": [
      "Test on 1143 samples\n",
      "R^2: -0.87\n",
      "Test Loss: 1.64%\n",
      "Train Epoch: 348 [0/19577 (0%)]\tLoss: 0.004159\n",
      "Train Epoch: 348 [3200/19577 (16%)]\tLoss: 0.005045\n",
      "Train Epoch: 348 [6400/19577 (33%)]\tLoss: 0.009223\n",
      "Train Epoch: 348 [9600/19577 (49%)]\tLoss: 0.004302\n",
      "Train Epoch: 348 [12800/19577 (65%)]\tLoss: 0.002708\n",
      "Train Epoch: 348 [16000/19577 (82%)]\tLoss: 0.007200\n",
      "Train Epoch: 348 [19200/19577 (98%)]\tLoss: 0.005469\n",
      "\n",
      "Train loss: 0.007114811755908544\n"
     ]
    },
    {
     "name": "stderr",
     "output_type": "stream",
     "text": [
      "\r",
      " 70%|██████▉   | 348/500 [49:10<20:24,  8.06s/it]"
     ]
    },
    {
     "name": "stdout",
     "output_type": "stream",
     "text": [
      "Test on 1143 samples\n",
      "R^2: -0.17\n",
      "Test Loss: 1.65%\n",
      "Train Epoch: 349 [0/19577 (0%)]\tLoss: 0.006558\n",
      "Train Epoch: 349 [3200/19577 (16%)]\tLoss: 0.002809\n",
      "Train Epoch: 349 [6400/19577 (33%)]\tLoss: 0.007699\n",
      "Train Epoch: 349 [9600/19577 (49%)]\tLoss: 0.003480\n",
      "Train Epoch: 349 [12800/19577 (65%)]\tLoss: 0.008847\n",
      "Train Epoch: 349 [16000/19577 (82%)]\tLoss: 0.004893\n",
      "Train Epoch: 349 [19200/19577 (98%)]\tLoss: 0.005304\n",
      "\n",
      "Train loss: 0.007098173838659658\n"
     ]
    },
    {
     "name": "stderr",
     "output_type": "stream",
     "text": [
      "\r",
      " 70%|██████▉   | 349/500 [49:17<19:33,  7.77s/it]"
     ]
    },
    {
     "name": "stdout",
     "output_type": "stream",
     "text": [
      "Test on 1143 samples\n",
      "R^2: -0.20\n",
      "Test Loss: 1.64%\n",
      "Train Epoch: 350 [0/19577 (0%)]\tLoss: 0.007716\n",
      "Train Epoch: 350 [3200/19577 (16%)]\tLoss: 0.004617\n",
      "Train Epoch: 350 [6400/19577 (33%)]\tLoss: 0.019816\n",
      "Train Epoch: 350 [9600/19577 (49%)]\tLoss: 0.003774\n",
      "Train Epoch: 350 [12800/19577 (65%)]\tLoss: 0.007191\n",
      "Train Epoch: 350 [16000/19577 (82%)]\tLoss: 0.010489\n",
      "Train Epoch: 350 [19200/19577 (98%)]\tLoss: 0.003388\n",
      "\n",
      "Train loss: 0.0070876932213709875\n"
     ]
    },
    {
     "name": "stderr",
     "output_type": "stream",
     "text": [
      "\r",
      " 70%|███████   | 350/500 [49:27<20:46,  8.31s/it]"
     ]
    },
    {
     "name": "stdout",
     "output_type": "stream",
     "text": [
      "Test on 1143 samples\n",
      "R^2: -0.83\n",
      "Test Loss: 1.66%\n",
      "Train Epoch: 351 [0/19577 (0%)]\tLoss: 0.005614\n",
      "Train Epoch: 351 [3200/19577 (16%)]\tLoss: 0.005013\n",
      "Train Epoch: 351 [6400/19577 (33%)]\tLoss: 0.005288\n",
      "Train Epoch: 351 [9600/19577 (49%)]\tLoss: 0.005163\n",
      "Train Epoch: 351 [12800/19577 (65%)]\tLoss: 0.004760\n",
      "Train Epoch: 351 [16000/19577 (82%)]\tLoss: 0.006116\n",
      "Train Epoch: 351 [19200/19577 (98%)]\tLoss: 0.006496\n",
      "\n",
      "Train loss: 0.007117747039278494\n"
     ]
    },
    {
     "name": "stderr",
     "output_type": "stream",
     "text": [
      "\r",
      " 70%|███████   | 351/500 [49:35<20:43,  8.35s/it]"
     ]
    },
    {
     "name": "stdout",
     "output_type": "stream",
     "text": [
      "Test on 1143 samples\n",
      "R^2: -0.14\n",
      "Test Loss: 1.64%\n",
      "Train Epoch: 352 [0/19577 (0%)]\tLoss: 0.005080\n",
      "Train Epoch: 352 [3200/19577 (16%)]\tLoss: 0.004276\n",
      "Train Epoch: 352 [6400/19577 (33%)]\tLoss: 0.005466\n",
      "Train Epoch: 352 [9600/19577 (49%)]\tLoss: 0.004225\n",
      "Train Epoch: 352 [12800/19577 (65%)]\tLoss: 0.005435\n",
      "Train Epoch: 352 [16000/19577 (82%)]\tLoss: 0.007271\n",
      "Train Epoch: 352 [19200/19577 (98%)]\tLoss: 0.006697\n",
      "\n",
      "Train loss: 0.007102320620141851\n"
     ]
    },
    {
     "name": "stderr",
     "output_type": "stream",
     "text": [
      "\r",
      " 70%|███████   | 352/500 [49:43<19:58,  8.10s/it]"
     ]
    },
    {
     "name": "stdout",
     "output_type": "stream",
     "text": [
      "Test on 1143 samples\n",
      "R^2: -0.45\n",
      "Test Loss: 1.65%\n",
      "Train Epoch: 353 [0/19577 (0%)]\tLoss: 0.005915\n",
      "Train Epoch: 353 [3200/19577 (16%)]\tLoss: 0.005764\n",
      "Train Epoch: 353 [6400/19577 (33%)]\tLoss: 0.005465\n",
      "Train Epoch: 353 [9600/19577 (49%)]\tLoss: 0.006130\n",
      "Train Epoch: 353 [12800/19577 (65%)]\tLoss: 0.010686\n",
      "Train Epoch: 353 [16000/19577 (82%)]\tLoss: 0.005924\n",
      "Train Epoch: 353 [19200/19577 (98%)]\tLoss: 0.040806\n",
      "\n",
      "Train loss: 0.007100040833404884\n"
     ]
    },
    {
     "name": "stderr",
     "output_type": "stream",
     "text": [
      "\r",
      " 71%|███████   | 353/500 [49:50<19:15,  7.86s/it]"
     ]
    },
    {
     "name": "stdout",
     "output_type": "stream",
     "text": [
      "Test on 1143 samples\n",
      "R^2: -4.44\n",
      "Test Loss: 1.67%\n",
      "Train Epoch: 354 [0/19577 (0%)]\tLoss: 0.008782\n",
      "Train Epoch: 354 [3200/19577 (16%)]\tLoss: 0.006078\n",
      "Train Epoch: 354 [6400/19577 (33%)]\tLoss: 0.002515\n",
      "Train Epoch: 354 [9600/19577 (49%)]\tLoss: 0.003613\n",
      "Train Epoch: 354 [12800/19577 (65%)]\tLoss: 0.003039\n",
      "Train Epoch: 354 [16000/19577 (82%)]\tLoss: 0.002213\n",
      "Train Epoch: 354 [19200/19577 (98%)]\tLoss: 0.005372\n",
      "\n",
      "Train loss: 0.007092117417521556\n"
     ]
    },
    {
     "name": "stderr",
     "output_type": "stream",
     "text": [
      "\r",
      " 71%|███████   | 354/500 [49:58<19:25,  7.98s/it]"
     ]
    },
    {
     "name": "stdout",
     "output_type": "stream",
     "text": [
      "Test on 1143 samples\n",
      "R^2: -1.27\n",
      "Test Loss: 1.64%\n",
      "Train Epoch: 355 [0/19577 (0%)]\tLoss: 0.008095\n",
      "Train Epoch: 355 [3200/19577 (16%)]\tLoss: 0.003404\n",
      "Train Epoch: 355 [6400/19577 (33%)]\tLoss: 0.007098\n",
      "Train Epoch: 355 [9600/19577 (49%)]\tLoss: 0.007641\n",
      "Train Epoch: 355 [12800/19577 (65%)]\tLoss: 0.004016\n",
      "Train Epoch: 355 [16000/19577 (82%)]\tLoss: 0.006786\n",
      "Train Epoch: 355 [19200/19577 (98%)]\tLoss: 0.005396\n",
      "\n",
      "Train loss: 0.007075135317993247\n"
     ]
    },
    {
     "name": "stderr",
     "output_type": "stream",
     "text": [
      "\r",
      " 71%|███████   | 355/500 [50:05<18:42,  7.74s/it]"
     ]
    },
    {
     "name": "stdout",
     "output_type": "stream",
     "text": [
      "Test on 1143 samples\n",
      "R^2: 0.05\n",
      "Test Loss: 1.64%\n",
      "Train Epoch: 356 [0/19577 (0%)]\tLoss: 0.004126\n",
      "Train Epoch: 356 [3200/19577 (16%)]\tLoss: 0.007423\n",
      "Train Epoch: 356 [6400/19577 (33%)]\tLoss: 0.005694\n",
      "Train Epoch: 356 [9600/19577 (49%)]\tLoss: 0.004394\n",
      "Train Epoch: 356 [12800/19577 (65%)]\tLoss: 0.007004\n",
      "Train Epoch: 356 [16000/19577 (82%)]\tLoss: 0.005581\n",
      "Train Epoch: 356 [19200/19577 (98%)]\tLoss: 0.007574\n",
      "\n",
      "Train loss: 0.007094233924160815\n"
     ]
    },
    {
     "name": "stderr",
     "output_type": "stream",
     "text": [
      "\r",
      " 71%|███████   | 356/500 [50:12<18:06,  7.54s/it]"
     ]
    },
    {
     "name": "stdout",
     "output_type": "stream",
     "text": [
      "Test on 1143 samples\n",
      "R^2: -3.81\n",
      "Test Loss: 1.70%\n",
      "Train Epoch: 357 [0/19577 (0%)]\tLoss: 0.006814\n",
      "Train Epoch: 357 [3200/19577 (16%)]\tLoss: 0.003545\n",
      "Train Epoch: 357 [6400/19577 (33%)]\tLoss: 0.006109\n",
      "Train Epoch: 357 [9600/19577 (49%)]\tLoss: 0.003562\n",
      "Train Epoch: 357 [12800/19577 (65%)]\tLoss: 0.004668\n",
      "Train Epoch: 357 [16000/19577 (82%)]\tLoss: 0.004123\n",
      "Train Epoch: 357 [19200/19577 (98%)]\tLoss: 0.003699\n",
      "\n",
      "Train loss: 0.007070437717796273\n"
     ]
    },
    {
     "name": "stderr",
     "output_type": "stream",
     "text": [
      "\r",
      " 71%|███████▏  | 357/500 [50:20<17:48,  7.47s/it]"
     ]
    },
    {
     "name": "stdout",
     "output_type": "stream",
     "text": [
      "Test on 1143 samples\n",
      "R^2: -0.23\n",
      "Test Loss: 1.63%\n",
      "Train Epoch: 358 [0/19577 (0%)]\tLoss: 0.003198\n",
      "Train Epoch: 358 [3200/19577 (16%)]\tLoss: 0.008309\n",
      "Train Epoch: 358 [6400/19577 (33%)]\tLoss: 0.002957\n",
      "Train Epoch: 358 [9600/19577 (49%)]\tLoss: 0.003052\n",
      "Train Epoch: 358 [12800/19577 (65%)]\tLoss: 0.004347\n",
      "Train Epoch: 358 [16000/19577 (82%)]\tLoss: 0.007595\n",
      "Train Epoch: 358 [19200/19577 (98%)]\tLoss: 0.005204\n",
      "\n",
      "Train loss: 0.0070969120567372325\n"
     ]
    },
    {
     "name": "stderr",
     "output_type": "stream",
     "text": [
      "\r",
      " 72%|███████▏  | 358/500 [50:29<18:47,  7.94s/it]"
     ]
    },
    {
     "name": "stdout",
     "output_type": "stream",
     "text": [
      "Test on 1143 samples\n",
      "R^2: -0.04\n",
      "Test Loss: 1.63%\n",
      "Train Epoch: 359 [0/19577 (0%)]\tLoss: 0.005203\n",
      "Train Epoch: 359 [3200/19577 (16%)]\tLoss: 0.003233\n",
      "Train Epoch: 359 [6400/19577 (33%)]\tLoss: 0.006912\n",
      "Train Epoch: 359 [9600/19577 (49%)]\tLoss: 0.004349\n",
      "Train Epoch: 359 [12800/19577 (65%)]\tLoss: 0.004231\n",
      "Train Epoch: 359 [16000/19577 (82%)]\tLoss: 0.003241\n",
      "Train Epoch: 359 [19200/19577 (98%)]\tLoss: 0.003292\n",
      "\n",
      "Train loss: 0.007092401935426774\n"
     ]
    },
    {
     "name": "stderr",
     "output_type": "stream",
     "text": [
      "\r",
      " 72%|███████▏  | 359/500 [50:36<18:05,  7.70s/it]"
     ]
    },
    {
     "name": "stdout",
     "output_type": "stream",
     "text": [
      "Test on 1143 samples\n",
      "R^2: -0.38\n",
      "Test Loss: 1.63%\n",
      "Train Epoch: 360 [0/19577 (0%)]\tLoss: 0.007101\n",
      "Train Epoch: 360 [3200/19577 (16%)]\tLoss: 0.005493\n",
      "Train Epoch: 360 [6400/19577 (33%)]\tLoss: 0.007268\n",
      "Train Epoch: 360 [9600/19577 (49%)]\tLoss: 0.002383\n",
      "Train Epoch: 360 [12800/19577 (65%)]\tLoss: 0.008960\n",
      "Train Epoch: 360 [16000/19577 (82%)]\tLoss: 0.005903\n",
      "Train Epoch: 360 [19200/19577 (98%)]\tLoss: 0.006000\n",
      "\n",
      "Train loss: 0.007099957601775969\n"
     ]
    },
    {
     "name": "stderr",
     "output_type": "stream",
     "text": [
      "\r",
      " 72%|███████▏  | 360/500 [50:43<17:32,  7.52s/it]"
     ]
    },
    {
     "name": "stdout",
     "output_type": "stream",
     "text": [
      "Test on 1143 samples\n",
      "R^2: -0.03\n",
      "Test Loss: 1.63%\n",
      "Train Epoch: 361 [0/19577 (0%)]\tLoss: 0.004461\n",
      "Train Epoch: 361 [3200/19577 (16%)]\tLoss: 0.006246\n",
      "Train Epoch: 361 [6400/19577 (33%)]\tLoss: 0.003784\n",
      "Train Epoch: 361 [9600/19577 (49%)]\tLoss: 0.001935\n",
      "Train Epoch: 361 [12800/19577 (65%)]\tLoss: 0.005425\n",
      "Train Epoch: 361 [16000/19577 (82%)]\tLoss: 0.004934\n",
      "Train Epoch: 361 [19200/19577 (98%)]\tLoss: 0.005225\n",
      "\n",
      "Train loss: 0.007086166770736158\n"
     ]
    },
    {
     "name": "stderr",
     "output_type": "stream",
     "text": [
      "\r",
      " 72%|███████▏  | 361/500 [50:50<17:05,  7.38s/it]"
     ]
    },
    {
     "name": "stdout",
     "output_type": "stream",
     "text": [
      "Test on 1143 samples\n",
      "R^2: -0.33\n",
      "Test Loss: 1.63%\n",
      "Train Epoch: 362 [0/19577 (0%)]\tLoss: 0.005513\n",
      "Train Epoch: 362 [3200/19577 (16%)]\tLoss: 0.005409\n",
      "Train Epoch: 362 [6400/19577 (33%)]\tLoss: 0.012256\n",
      "Train Epoch: 362 [9600/19577 (49%)]\tLoss: 0.006307\n",
      "Train Epoch: 362 [12800/19577 (65%)]\tLoss: 0.004516\n",
      "Train Epoch: 362 [16000/19577 (82%)]\tLoss: 0.002382\n",
      "Train Epoch: 362 [19200/19577 (98%)]\tLoss: 0.004635\n",
      "\n",
      "Train loss: 0.007074788409845259\n"
     ]
    },
    {
     "name": "stderr",
     "output_type": "stream",
     "text": [
      "\r",
      " 72%|███████▏  | 362/500 [50:57<16:45,  7.29s/it]"
     ]
    },
    {
     "name": "stdout",
     "output_type": "stream",
     "text": [
      "Test on 1143 samples\n",
      "R^2: -0.06\n",
      "Test Loss: 1.63%\n",
      "Train Epoch: 363 [0/19577 (0%)]\tLoss: 0.012053\n",
      "Train Epoch: 363 [3200/19577 (16%)]\tLoss: 0.013028\n",
      "Train Epoch: 363 [6400/19577 (33%)]\tLoss: 0.004739\n",
      "Train Epoch: 363 [9600/19577 (49%)]\tLoss: 0.006458\n",
      "Train Epoch: 363 [12800/19577 (65%)]\tLoss: 0.006602\n",
      "Train Epoch: 363 [16000/19577 (82%)]\tLoss: 0.002507\n",
      "Train Epoch: 363 [19200/19577 (98%)]\tLoss: 0.005060\n",
      "\n",
      "Train loss: 0.007065342087146455\n"
     ]
    },
    {
     "name": "stderr",
     "output_type": "stream",
     "text": [
      "\r",
      " 73%|███████▎  | 363/500 [51:04<16:26,  7.20s/it]"
     ]
    },
    {
     "name": "stdout",
     "output_type": "stream",
     "text": [
      "Test on 1143 samples\n",
      "R^2: 0.04\n",
      "Test Loss: 1.64%\n",
      "Train Epoch: 364 [0/19577 (0%)]\tLoss: 0.005332\n",
      "Train Epoch: 364 [3200/19577 (16%)]\tLoss: 0.005092\n",
      "Train Epoch: 364 [6400/19577 (33%)]\tLoss: 0.005557\n",
      "Train Epoch: 364 [9600/19577 (49%)]\tLoss: 0.003679\n",
      "Train Epoch: 364 [12800/19577 (65%)]\tLoss: 0.003814\n",
      "Train Epoch: 364 [16000/19577 (82%)]\tLoss: 0.005286\n",
      "Train Epoch: 364 [19200/19577 (98%)]\tLoss: 0.006889\n",
      "\n",
      "Train loss: 0.007084087647111124\n"
     ]
    },
    {
     "name": "stderr",
     "output_type": "stream",
     "text": [
      "\r",
      " 73%|███████▎  | 364/500 [51:11<16:16,  7.18s/it]"
     ]
    },
    {
     "name": "stdout",
     "output_type": "stream",
     "text": [
      "Test on 1143 samples\n",
      "R^2: -0.32\n",
      "Test Loss: 1.64%\n",
      "Train Epoch: 365 [0/19577 (0%)]\tLoss: 0.006702\n",
      "Train Epoch: 365 [3200/19577 (16%)]\tLoss: 0.004085\n",
      "Train Epoch: 365 [6400/19577 (33%)]\tLoss: 0.004712\n",
      "Train Epoch: 365 [9600/19577 (49%)]\tLoss: 0.004414\n",
      "Train Epoch: 365 [12800/19577 (65%)]\tLoss: 0.004244\n",
      "Train Epoch: 365 [16000/19577 (82%)]\tLoss: 0.004645\n",
      "Train Epoch: 365 [19200/19577 (98%)]\tLoss: 0.002638\n",
      "\n",
      "Train loss: 0.007063511468004435\n"
     ]
    },
    {
     "name": "stderr",
     "output_type": "stream",
     "text": [
      "\r",
      " 73%|███████▎  | 365/500 [51:19<16:38,  7.40s/it]"
     ]
    },
    {
     "name": "stdout",
     "output_type": "stream",
     "text": [
      "Test on 1143 samples\n",
      "R^2: 0.02\n",
      "Test Loss: 1.63%\n",
      "Train Epoch: 366 [0/19577 (0%)]\tLoss: 0.004518\n",
      "Train Epoch: 366 [3200/19577 (16%)]\tLoss: 0.005361\n",
      "Train Epoch: 366 [6400/19577 (33%)]\tLoss: 0.005497\n",
      "Train Epoch: 366 [9600/19577 (49%)]\tLoss: 0.006799\n",
      "Train Epoch: 366 [12800/19577 (65%)]\tLoss: 0.007840\n",
      "Train Epoch: 366 [16000/19577 (82%)]\tLoss: 0.004662\n",
      "Train Epoch: 366 [19200/19577 (98%)]\tLoss: 0.005868\n",
      "\n",
      "Train loss: 0.007087513352470363\n"
     ]
    },
    {
     "name": "stderr",
     "output_type": "stream",
     "text": [
      "\r",
      " 73%|███████▎  | 366/500 [51:29<17:56,  8.04s/it]"
     ]
    },
    {
     "name": "stdout",
     "output_type": "stream",
     "text": [
      "Test on 1143 samples\n",
      "R^2: -0.02\n",
      "Test Loss: 1.63%\n",
      "Train Epoch: 367 [0/19577 (0%)]\tLoss: 0.001791\n",
      "Train Epoch: 367 [3200/19577 (16%)]\tLoss: 0.003436\n",
      "Train Epoch: 367 [6400/19577 (33%)]\tLoss: 0.003762\n",
      "Train Epoch: 367 [9600/19577 (49%)]\tLoss: 0.003543\n",
      "Train Epoch: 367 [12800/19577 (65%)]\tLoss: 0.010099\n",
      "Train Epoch: 367 [16000/19577 (82%)]\tLoss: 0.003797\n",
      "Train Epoch: 367 [19200/19577 (98%)]\tLoss: 0.003375\n",
      "\n",
      "Train loss: 0.0070781927217966785\n"
     ]
    },
    {
     "name": "stderr",
     "output_type": "stream",
     "text": [
      "\r",
      " 73%|███████▎  | 367/500 [51:37<17:40,  7.98s/it]"
     ]
    },
    {
     "name": "stdout",
     "output_type": "stream",
     "text": [
      "Test on 1143 samples\n",
      "R^2: -0.09\n",
      "Test Loss: 1.64%\n",
      "Train Epoch: 368 [0/19577 (0%)]\tLoss: 0.004441\n",
      "Train Epoch: 368 [3200/19577 (16%)]\tLoss: 0.005045\n",
      "Train Epoch: 368 [6400/19577 (33%)]\tLoss: 0.004222\n",
      "Train Epoch: 368 [9600/19577 (49%)]\tLoss: 0.004577\n",
      "Train Epoch: 368 [12800/19577 (65%)]\tLoss: 0.006334\n",
      "Train Epoch: 368 [16000/19577 (82%)]\tLoss: 0.005032\n",
      "Train Epoch: 368 [19200/19577 (98%)]\tLoss: 0.005551\n",
      "\n",
      "Train loss: 0.00705290845141813\n"
     ]
    },
    {
     "name": "stderr",
     "output_type": "stream",
     "text": [
      "\r",
      " 74%|███████▎  | 368/500 [51:45<17:36,  8.00s/it]"
     ]
    },
    {
     "name": "stdout",
     "output_type": "stream",
     "text": [
      "Test on 1143 samples\n",
      "R^2: -0.29\n",
      "Test Loss: 1.63%\n",
      "Train Epoch: 369 [0/19577 (0%)]\tLoss: 0.005275\n",
      "Train Epoch: 369 [3200/19577 (16%)]\tLoss: 0.005543\n",
      "Train Epoch: 369 [6400/19577 (33%)]\tLoss: 0.004872\n",
      "Train Epoch: 369 [9600/19577 (49%)]\tLoss: 0.007094\n",
      "Train Epoch: 369 [12800/19577 (65%)]\tLoss: 0.005430\n",
      "Train Epoch: 369 [16000/19577 (82%)]\tLoss: 0.010854\n",
      "Train Epoch: 369 [19200/19577 (98%)]\tLoss: 0.007551\n",
      "\n",
      "Train loss: 0.007185100337332175\n"
     ]
    },
    {
     "name": "stderr",
     "output_type": "stream",
     "text": [
      "\r",
      " 74%|███████▍  | 369/500 [51:52<17:08,  7.85s/it]"
     ]
    },
    {
     "name": "stdout",
     "output_type": "stream",
     "text": [
      "Test on 1143 samples\n",
      "R^2: -33.10\n",
      "Test Loss: 2.01%\n",
      "Train Epoch: 370 [0/19577 (0%)]\tLoss: 0.007401\n",
      "Train Epoch: 370 [3200/19577 (16%)]\tLoss: 0.005777\n",
      "Train Epoch: 370 [6400/19577 (33%)]\tLoss: 0.004573\n",
      "Train Epoch: 370 [9600/19577 (49%)]\tLoss: 0.002584\n",
      "Train Epoch: 370 [12800/19577 (65%)]\tLoss: 0.004993\n",
      "Train Epoch: 370 [16000/19577 (82%)]\tLoss: 0.004408\n",
      "Train Epoch: 370 [19200/19577 (98%)]\tLoss: 0.005197\n",
      "\n",
      "Train loss: 0.007082544062880105\n"
     ]
    },
    {
     "name": "stderr",
     "output_type": "stream",
     "text": [
      "\r",
      " 74%|███████▍  | 370/500 [51:59<16:27,  7.60s/it]"
     ]
    },
    {
     "name": "stdout",
     "output_type": "stream",
     "text": [
      "Test on 1143 samples\n",
      "R^2: -0.56\n",
      "Test Loss: 1.63%\n",
      "Train Epoch: 371 [0/19577 (0%)]\tLoss: 0.004509\n",
      "Train Epoch: 371 [3200/19577 (16%)]\tLoss: 0.012084\n",
      "Train Epoch: 371 [6400/19577 (33%)]\tLoss: 0.003748\n",
      "Train Epoch: 371 [9600/19577 (49%)]\tLoss: 0.004421\n",
      "Train Epoch: 371 [12800/19577 (65%)]\tLoss: 0.013010\n",
      "Train Epoch: 371 [16000/19577 (82%)]\tLoss: 0.011141\n",
      "Train Epoch: 371 [19200/19577 (98%)]\tLoss: 0.005500\n",
      "\n",
      "Train loss: 0.007067661488571758\n"
     ]
    },
    {
     "name": "stderr",
     "output_type": "stream",
     "text": [
      "\r",
      " 74%|███████▍  | 371/500 [52:06<16:00,  7.44s/it]"
     ]
    },
    {
     "name": "stdout",
     "output_type": "stream",
     "text": [
      "Test on 1143 samples\n",
      "R^2: -0.35\n",
      "Test Loss: 1.63%\n",
      "Train Epoch: 372 [0/19577 (0%)]\tLoss: 0.004685\n",
      "Train Epoch: 372 [3200/19577 (16%)]\tLoss: 0.004087\n",
      "Train Epoch: 372 [6400/19577 (33%)]\tLoss: 0.005241\n",
      "Train Epoch: 372 [9600/19577 (49%)]\tLoss: 0.005178\n",
      "Train Epoch: 372 [12800/19577 (65%)]\tLoss: 0.002096\n",
      "Train Epoch: 372 [16000/19577 (82%)]\tLoss: 0.010163\n",
      "Train Epoch: 372 [19200/19577 (98%)]\tLoss: 0.004431\n",
      "\n",
      "Train loss: 0.007056379468207631\n"
     ]
    },
    {
     "name": "stderr",
     "output_type": "stream",
     "text": [
      "\r",
      " 74%|███████▍  | 372/500 [52:13<15:37,  7.32s/it]"
     ]
    },
    {
     "name": "stdout",
     "output_type": "stream",
     "text": [
      "Test on 1143 samples\n",
      "R^2: -0.66\n",
      "Test Loss: 1.64%\n",
      "Train Epoch: 373 [0/19577 (0%)]\tLoss: 0.007505\n",
      "Train Epoch: 373 [3200/19577 (16%)]\tLoss: 0.002916\n",
      "Train Epoch: 373 [6400/19577 (33%)]\tLoss: 0.004486\n",
      "Train Epoch: 373 [9600/19577 (49%)]\tLoss: 0.005869\n",
      "Train Epoch: 373 [12800/19577 (65%)]\tLoss: 0.009382\n",
      "Train Epoch: 373 [16000/19577 (82%)]\tLoss: 0.003976\n",
      "Train Epoch: 373 [19200/19577 (98%)]\tLoss: 0.002991\n",
      "\n",
      "Train loss: 0.007051114399241758\n"
     ]
    },
    {
     "name": "stderr",
     "output_type": "stream",
     "text": [
      "\r",
      " 75%|███████▍  | 373/500 [52:20<15:15,  7.21s/it]"
     ]
    },
    {
     "name": "stdout",
     "output_type": "stream",
     "text": [
      "Test on 1143 samples\n",
      "R^2: -3.18\n",
      "Test Loss: 1.65%\n",
      "Train Epoch: 374 [0/19577 (0%)]\tLoss: 0.005571\n",
      "Train Epoch: 374 [3200/19577 (16%)]\tLoss: 0.002854\n",
      "Train Epoch: 374 [6400/19577 (33%)]\tLoss: 0.005419\n",
      "Train Epoch: 374 [9600/19577 (49%)]\tLoss: 0.005040\n",
      "Train Epoch: 374 [12800/19577 (65%)]\tLoss: 0.006648\n",
      "Train Epoch: 374 [16000/19577 (82%)]\tLoss: 0.003901\n",
      "Train Epoch: 374 [19200/19577 (98%)]\tLoss: 0.003380\n",
      "\n",
      "Train loss: 0.007073095904167108\n"
     ]
    },
    {
     "name": "stderr",
     "output_type": "stream",
     "text": [
      "\r",
      " 75%|███████▍  | 374/500 [52:28<15:36,  7.43s/it]"
     ]
    },
    {
     "name": "stdout",
     "output_type": "stream",
     "text": [
      "Test on 1143 samples\n",
      "R^2: -0.49\n",
      "Test Loss: 1.64%\n",
      "Train Epoch: 375 [0/19577 (0%)]\tLoss: 0.007310\n",
      "Train Epoch: 375 [3200/19577 (16%)]\tLoss: 0.011465\n",
      "Train Epoch: 375 [6400/19577 (33%)]\tLoss: 0.006037\n",
      "Train Epoch: 375 [9600/19577 (49%)]\tLoss: 0.007073\n",
      "Train Epoch: 375 [12800/19577 (65%)]\tLoss: 0.004812\n",
      "Train Epoch: 375 [16000/19577 (82%)]\tLoss: 0.003819\n",
      "Train Epoch: 375 [19200/19577 (98%)]\tLoss: 0.008570\n",
      "\n",
      "Train loss: 0.0070317295605158495\n"
     ]
    },
    {
     "name": "stderr",
     "output_type": "stream",
     "text": [
      "\r",
      " 75%|███████▌  | 375/500 [52:35<15:13,  7.31s/it]"
     ]
    },
    {
     "name": "stdout",
     "output_type": "stream",
     "text": [
      "Test on 1143 samples\n",
      "R^2: -0.22\n",
      "Test Loss: 1.63%\n",
      "Train Epoch: 376 [0/19577 (0%)]\tLoss: 0.006659\n",
      "Train Epoch: 376 [3200/19577 (16%)]\tLoss: 0.006136\n",
      "Train Epoch: 376 [6400/19577 (33%)]\tLoss: 0.004046\n",
      "Train Epoch: 376 [9600/19577 (49%)]\tLoss: 0.005414\n",
      "Train Epoch: 376 [12800/19577 (65%)]\tLoss: 0.002874\n",
      "Train Epoch: 376 [16000/19577 (82%)]\tLoss: 0.010285\n",
      "Train Epoch: 376 [19200/19577 (98%)]\tLoss: 0.003246\n",
      "\n",
      "Train loss: 0.007047634785599228\n"
     ]
    },
    {
     "name": "stderr",
     "output_type": "stream",
     "text": [
      "\r",
      " 75%|███████▌  | 376/500 [52:42<14:51,  7.19s/it]"
     ]
    },
    {
     "name": "stdout",
     "output_type": "stream",
     "text": [
      "Test on 1143 samples\n",
      "R^2: -0.52\n",
      "Test Loss: 1.62%\n",
      "Train Epoch: 377 [0/19577 (0%)]\tLoss: 0.004657\n",
      "Train Epoch: 377 [3200/19577 (16%)]\tLoss: 0.002025\n",
      "Train Epoch: 377 [6400/19577 (33%)]\tLoss: 0.005360\n",
      "Train Epoch: 377 [9600/19577 (49%)]\tLoss: 0.005143\n",
      "Train Epoch: 377 [12800/19577 (65%)]\tLoss: 0.003945\n",
      "Train Epoch: 377 [16000/19577 (82%)]\tLoss: 0.006510\n",
      "Train Epoch: 377 [19200/19577 (98%)]\tLoss: 0.006827\n",
      "\n",
      "Train loss: 0.007037906147375265\n"
     ]
    },
    {
     "name": "stderr",
     "output_type": "stream",
     "text": [
      "\r",
      " 75%|███████▌  | 377/500 [52:49<14:34,  7.11s/it]"
     ]
    },
    {
     "name": "stdout",
     "output_type": "stream",
     "text": [
      "Test on 1143 samples\n",
      "R^2: -0.03\n",
      "Test Loss: 1.62%\n",
      "Train Epoch: 378 [0/19577 (0%)]\tLoss: 0.002061\n",
      "Train Epoch: 378 [3200/19577 (16%)]\tLoss: 0.004769\n",
      "Train Epoch: 378 [6400/19577 (33%)]\tLoss: 0.003211\n",
      "Train Epoch: 378 [9600/19577 (49%)]\tLoss: 0.008471\n",
      "Train Epoch: 378 [12800/19577 (65%)]\tLoss: 0.003119\n",
      "Train Epoch: 378 [16000/19577 (82%)]\tLoss: 0.004325\n",
      "Train Epoch: 378 [19200/19577 (98%)]\tLoss: 0.005509\n",
      "\n",
      "Train loss: 0.007033905472067714\n"
     ]
    },
    {
     "name": "stderr",
     "output_type": "stream",
     "text": [
      "\r",
      " 76%|███████▌  | 378/500 [52:56<14:20,  7.05s/it]"
     ]
    },
    {
     "name": "stdout",
     "output_type": "stream",
     "text": [
      "Test on 1143 samples\n",
      "R^2: -0.69\n",
      "Test Loss: 1.63%\n",
      "Train Epoch: 379 [0/19577 (0%)]\tLoss: 0.004125\n",
      "Train Epoch: 379 [3200/19577 (16%)]\tLoss: 0.005955\n",
      "Train Epoch: 379 [6400/19577 (33%)]\tLoss: 0.004378\n",
      "Train Epoch: 379 [9600/19577 (49%)]\tLoss: 0.008834\n",
      "Train Epoch: 379 [12800/19577 (65%)]\tLoss: 0.003787\n",
      "Train Epoch: 379 [16000/19577 (82%)]\tLoss: 0.004690\n",
      "Train Epoch: 379 [19200/19577 (98%)]\tLoss: 0.005000\n",
      "\n",
      "Train loss: 0.0070371655256523955\n"
     ]
    },
    {
     "name": "stderr",
     "output_type": "stream",
     "text": [
      "\r",
      " 76%|███████▌  | 379/500 [53:03<14:08,  7.01s/it]"
     ]
    },
    {
     "name": "stdout",
     "output_type": "stream",
     "text": [
      "Test on 1143 samples\n",
      "R^2: -0.82\n",
      "Test Loss: 1.63%\n",
      "Train Epoch: 380 [0/19577 (0%)]\tLoss: 0.006890\n",
      "Train Epoch: 380 [3200/19577 (16%)]\tLoss: 0.004858\n",
      "Train Epoch: 380 [6400/19577 (33%)]\tLoss: 0.003913\n",
      "Train Epoch: 380 [9600/19577 (49%)]\tLoss: 0.007356\n",
      "Train Epoch: 380 [12800/19577 (65%)]\tLoss: 0.005401\n",
      "Train Epoch: 380 [16000/19577 (82%)]\tLoss: 0.004407\n",
      "Train Epoch: 380 [19200/19577 (98%)]\tLoss: 0.004352\n",
      "\n",
      "Train loss: 0.007047501415489059\n"
     ]
    },
    {
     "name": "stderr",
     "output_type": "stream",
     "text": [
      "\r",
      " 76%|███████▌  | 380/500 [53:10<13:59,  7.00s/it]"
     ]
    },
    {
     "name": "stdout",
     "output_type": "stream",
     "text": [
      "Test on 1143 samples\n",
      "R^2: -0.19\n",
      "Test Loss: 1.62%\n",
      "Train Epoch: 381 [0/19577 (0%)]\tLoss: 0.006962\n",
      "Train Epoch: 381 [3200/19577 (16%)]\tLoss: 0.003702\n",
      "Train Epoch: 381 [6400/19577 (33%)]\tLoss: 0.002012\n",
      "Train Epoch: 381 [9600/19577 (49%)]\tLoss: 0.009838\n",
      "Train Epoch: 381 [12800/19577 (65%)]\tLoss: 0.007404\n",
      "Train Epoch: 381 [16000/19577 (82%)]\tLoss: 0.003854\n",
      "Train Epoch: 381 [19200/19577 (98%)]\tLoss: 0.003343\n",
      "\n",
      "Train loss: 0.007051267285277349\n"
     ]
    },
    {
     "name": "stderr",
     "output_type": "stream",
     "text": [
      "\r",
      " 76%|███████▌  | 381/500 [53:17<13:53,  7.00s/it]"
     ]
    },
    {
     "name": "stdout",
     "output_type": "stream",
     "text": [
      "Test on 1143 samples\n",
      "R^2: -0.02\n",
      "Test Loss: 1.62%\n",
      "Train Epoch: 382 [0/19577 (0%)]\tLoss: 0.005990\n",
      "Train Epoch: 382 [3200/19577 (16%)]\tLoss: 0.004840\n",
      "Train Epoch: 382 [6400/19577 (33%)]\tLoss: 0.008411\n",
      "Train Epoch: 382 [9600/19577 (49%)]\tLoss: 0.002825\n",
      "Train Epoch: 382 [12800/19577 (65%)]\tLoss: 0.006783\n",
      "Train Epoch: 382 [16000/19577 (82%)]\tLoss: 0.006551\n",
      "Train Epoch: 382 [19200/19577 (98%)]\tLoss: 0.006679\n",
      "\n",
      "Train loss: 0.007044042666820091\n"
     ]
    },
    {
     "name": "stderr",
     "output_type": "stream",
     "text": [
      "\r",
      " 76%|███████▋  | 382/500 [53:24<13:56,  7.08s/it]"
     ]
    },
    {
     "name": "stdout",
     "output_type": "stream",
     "text": [
      "Test on 1143 samples\n",
      "R^2: -0.25\n",
      "Test Loss: 1.62%\n",
      "Train Epoch: 383 [0/19577 (0%)]\tLoss: 0.003946\n",
      "Train Epoch: 383 [3200/19577 (16%)]\tLoss: 0.003507\n",
      "Train Epoch: 383 [6400/19577 (33%)]\tLoss: 0.004735\n",
      "Train Epoch: 383 [9600/19577 (49%)]\tLoss: 0.005030\n",
      "Train Epoch: 383 [12800/19577 (65%)]\tLoss: 0.007424\n",
      "Train Epoch: 383 [16000/19577 (82%)]\tLoss: 0.005159\n",
      "Train Epoch: 383 [19200/19577 (98%)]\tLoss: 0.007327\n",
      "\n",
      "Train loss: 0.007039528215316191\n"
     ]
    },
    {
     "name": "stderr",
     "output_type": "stream",
     "text": [
      "\r",
      " 77%|███████▋  | 383/500 [53:31<13:46,  7.06s/it]"
     ]
    },
    {
     "name": "stdout",
     "output_type": "stream",
     "text": [
      "Test on 1143 samples\n",
      "R^2: -0.00\n",
      "Test Loss: 1.62%\n",
      "Train Epoch: 384 [0/19577 (0%)]\tLoss: 0.005593\n",
      "Train Epoch: 384 [3200/19577 (16%)]\tLoss: 0.007369\n",
      "Train Epoch: 384 [6400/19577 (33%)]\tLoss: 0.002640\n",
      "Train Epoch: 384 [9600/19577 (49%)]\tLoss: 0.006892\n",
      "Train Epoch: 384 [12800/19577 (65%)]\tLoss: 0.003672\n",
      "Train Epoch: 384 [16000/19577 (82%)]\tLoss: 0.007144\n",
      "Train Epoch: 384 [19200/19577 (98%)]\tLoss: 0.006956\n",
      "\n",
      "Train loss: 0.007033493932111347\n"
     ]
    },
    {
     "name": "stderr",
     "output_type": "stream",
     "text": [
      "\r",
      " 77%|███████▋  | 384/500 [53:41<15:31,  8.03s/it]"
     ]
    },
    {
     "name": "stdout",
     "output_type": "stream",
     "text": [
      "Test on 1143 samples\n",
      "R^2: -0.25\n",
      "Test Loss: 1.63%\n",
      "Train Epoch: 385 [0/19577 (0%)]\tLoss: 0.004471\n",
      "Train Epoch: 385 [3200/19577 (16%)]\tLoss: 0.004995\n",
      "Train Epoch: 385 [6400/19577 (33%)]\tLoss: 0.018676\n",
      "Train Epoch: 385 [9600/19577 (49%)]\tLoss: 0.003900\n",
      "Train Epoch: 385 [12800/19577 (65%)]\tLoss: 0.006652\n",
      "Train Epoch: 385 [16000/19577 (82%)]\tLoss: 0.005007\n",
      "Train Epoch: 385 [19200/19577 (98%)]\tLoss: 0.005009\n",
      "\n",
      "Train loss: 0.007040231169454047\n"
     ]
    },
    {
     "name": "stderr",
     "output_type": "stream",
     "text": [
      "\r",
      " 77%|███████▋  | 385/500 [53:48<14:52,  7.76s/it]"
     ]
    },
    {
     "name": "stdout",
     "output_type": "stream",
     "text": [
      "Test on 1143 samples\n",
      "R^2: -0.04\n",
      "Test Loss: 1.62%\n",
      "Train Epoch: 386 [0/19577 (0%)]\tLoss: 0.005309\n",
      "Train Epoch: 386 [3200/19577 (16%)]\tLoss: 0.003178\n",
      "Train Epoch: 386 [6400/19577 (33%)]\tLoss: 0.004304\n",
      "Train Epoch: 386 [9600/19577 (49%)]\tLoss: 0.006299\n",
      "Train Epoch: 386 [12800/19577 (65%)]\tLoss: 0.006605\n",
      "Train Epoch: 386 [16000/19577 (82%)]\tLoss: 0.003168\n",
      "Train Epoch: 386 [19200/19577 (98%)]\tLoss: 0.003108\n",
      "\n",
      "Train loss: 0.007044209158611088\n"
     ]
    },
    {
     "name": "stderr",
     "output_type": "stream",
     "text": [
      "\r",
      " 77%|███████▋  | 386/500 [53:56<14:21,  7.56s/it]"
     ]
    },
    {
     "name": "stdout",
     "output_type": "stream",
     "text": [
      "Test on 1143 samples\n",
      "R^2: -1.64\n",
      "Test Loss: 1.63%\n",
      "Train Epoch: 387 [0/19577 (0%)]\tLoss: 0.005227\n",
      "Train Epoch: 387 [3200/19577 (16%)]\tLoss: 0.007227\n",
      "Train Epoch: 387 [6400/19577 (33%)]\tLoss: 0.005678\n",
      "Train Epoch: 387 [9600/19577 (49%)]\tLoss: 0.003101\n",
      "Train Epoch: 387 [12800/19577 (65%)]\tLoss: 0.003745\n",
      "Train Epoch: 387 [16000/19577 (82%)]\tLoss: 0.006277\n",
      "Train Epoch: 387 [19200/19577 (98%)]\tLoss: 0.011692\n",
      "\n",
      "Train loss: 0.0070485740095784805\n"
     ]
    },
    {
     "name": "stderr",
     "output_type": "stream",
     "text": [
      "\r",
      " 77%|███████▋  | 387/500 [54:03<13:59,  7.43s/it]"
     ]
    },
    {
     "name": "stdout",
     "output_type": "stream",
     "text": [
      "Test on 1143 samples\n",
      "R^2: -1.06\n",
      "Test Loss: 1.63%\n",
      "Train Epoch: 388 [0/19577 (0%)]\tLoss: 0.002933\n",
      "Train Epoch: 388 [3200/19577 (16%)]\tLoss: 0.014201\n",
      "Train Epoch: 388 [6400/19577 (33%)]\tLoss: 0.005221\n",
      "Train Epoch: 388 [9600/19577 (49%)]\tLoss: 0.004034\n",
      "Train Epoch: 388 [12800/19577 (65%)]\tLoss: 0.005964\n",
      "Train Epoch: 388 [16000/19577 (82%)]\tLoss: 0.006294\n",
      "Train Epoch: 388 [19200/19577 (98%)]\tLoss: 0.003231\n",
      "\n",
      "Train loss: 0.007026189984601551\n"
     ]
    },
    {
     "name": "stderr",
     "output_type": "stream",
     "text": [
      "\r",
      " 78%|███████▊  | 388/500 [54:10<13:33,  7.26s/it]"
     ]
    },
    {
     "name": "stdout",
     "output_type": "stream",
     "text": [
      "Test on 1143 samples\n",
      "R^2: -0.10\n",
      "Test Loss: 1.63%\n",
      "Train Epoch: 389 [0/19577 (0%)]\tLoss: 0.003119\n",
      "Train Epoch: 389 [3200/19577 (16%)]\tLoss: 0.005746\n",
      "Train Epoch: 389 [6400/19577 (33%)]\tLoss: 0.004941\n",
      "Train Epoch: 389 [9600/19577 (49%)]\tLoss: 0.005794\n",
      "Train Epoch: 389 [12800/19577 (65%)]\tLoss: 0.006705\n",
      "Train Epoch: 389 [16000/19577 (82%)]\tLoss: 0.003319\n",
      "Train Epoch: 389 [19200/19577 (98%)]\tLoss: 0.006027\n",
      "\n",
      "Train loss: 0.00702771458933069\n"
     ]
    },
    {
     "name": "stderr",
     "output_type": "stream",
     "text": [
      "\r",
      " 78%|███████▊  | 389/500 [54:17<13:29,  7.29s/it]"
     ]
    },
    {
     "name": "stdout",
     "output_type": "stream",
     "text": [
      "Test on 1143 samples\n",
      "R^2: -0.87\n",
      "Test Loss: 1.64%\n",
      "Train Epoch: 390 [0/19577 (0%)]\tLoss: 0.002949\n",
      "Train Epoch: 390 [3200/19577 (16%)]\tLoss: 0.006559\n",
      "Train Epoch: 390 [6400/19577 (33%)]\tLoss: 0.004700\n",
      "Train Epoch: 390 [9600/19577 (49%)]\tLoss: 0.006492\n",
      "Train Epoch: 390 [12800/19577 (65%)]\tLoss: 0.006837\n",
      "Train Epoch: 390 [16000/19577 (82%)]\tLoss: 0.003295\n",
      "Train Epoch: 390 [19200/19577 (98%)]\tLoss: 0.003869\n",
      "\n",
      "Train loss: 0.007022672394074475\n"
     ]
    },
    {
     "name": "stderr",
     "output_type": "stream",
     "text": [
      "\r",
      " 78%|███████▊  | 390/500 [54:25<13:31,  7.38s/it]"
     ]
    },
    {
     "name": "stdout",
     "output_type": "stream",
     "text": [
      "Test on 1143 samples\n",
      "R^2: -0.12\n",
      "Test Loss: 1.62%\n",
      "Train Epoch: 391 [0/19577 (0%)]\tLoss: 0.004011\n",
      "Train Epoch: 391 [3200/19577 (16%)]\tLoss: 0.004322\n",
      "Train Epoch: 391 [6400/19577 (33%)]\tLoss: 0.004376\n",
      "Train Epoch: 391 [9600/19577 (49%)]\tLoss: 0.005366\n",
      "Train Epoch: 391 [12800/19577 (65%)]\tLoss: 0.003254\n",
      "Train Epoch: 391 [16000/19577 (82%)]\tLoss: 0.004852\n",
      "Train Epoch: 391 [19200/19577 (98%)]\tLoss: 0.004428\n",
      "\n",
      "Train loss: 0.007014979156391586\n"
     ]
    },
    {
     "name": "stderr",
     "output_type": "stream",
     "text": [
      "\r",
      " 78%|███████▊  | 391/500 [54:31<13:10,  7.25s/it]"
     ]
    },
    {
     "name": "stdout",
     "output_type": "stream",
     "text": [
      "Test on 1143 samples\n",
      "R^2: 0.02\n",
      "Test Loss: 1.62%\n",
      "Train Epoch: 392 [0/19577 (0%)]\tLoss: 0.004653\n",
      "Train Epoch: 392 [3200/19577 (16%)]\tLoss: 0.004485\n",
      "Train Epoch: 392 [6400/19577 (33%)]\tLoss: 0.008832\n",
      "Train Epoch: 392 [9600/19577 (49%)]\tLoss: 0.018809\n",
      "Train Epoch: 392 [12800/19577 (65%)]\tLoss: 0.071862\n",
      "Train Epoch: 392 [16000/19577 (82%)]\tLoss: 0.006082\n",
      "Train Epoch: 392 [19200/19577 (98%)]\tLoss: 0.003231\n",
      "\n",
      "Train loss: 0.007040302241008023\n"
     ]
    },
    {
     "name": "stderr",
     "output_type": "stream",
     "text": [
      "\r",
      " 78%|███████▊  | 392/500 [54:38<12:52,  7.15s/it]"
     ]
    },
    {
     "name": "stdout",
     "output_type": "stream",
     "text": [
      "Test on 1143 samples\n",
      "R^2: -1.27\n",
      "Test Loss: 1.63%\n",
      "Train Epoch: 393 [0/19577 (0%)]\tLoss: 0.003947\n",
      "Train Epoch: 393 [3200/19577 (16%)]\tLoss: 0.002984\n",
      "Train Epoch: 393 [6400/19577 (33%)]\tLoss: 0.003336\n",
      "Train Epoch: 393 [9600/19577 (49%)]\tLoss: 0.009877\n",
      "Train Epoch: 393 [12800/19577 (65%)]\tLoss: 0.004931\n",
      "Train Epoch: 393 [16000/19577 (82%)]\tLoss: 0.003651\n",
      "Train Epoch: 393 [19200/19577 (98%)]\tLoss: 0.003189\n",
      "\n",
      "Train loss: 0.007014822445389833\n"
     ]
    },
    {
     "name": "stderr",
     "output_type": "stream",
     "text": [
      "\r",
      " 79%|███████▊  | 393/500 [54:45<12:36,  7.07s/it]"
     ]
    },
    {
     "name": "stdout",
     "output_type": "stream",
     "text": [
      "Test on 1143 samples\n",
      "R^2: -1.48\n",
      "Test Loss: 1.65%\n",
      "Train Epoch: 394 [0/19577 (0%)]\tLoss: 0.004568\n",
      "Train Epoch: 394 [3200/19577 (16%)]\tLoss: 0.008001\n",
      "Train Epoch: 394 [6400/19577 (33%)]\tLoss: 0.007674\n",
      "Train Epoch: 394 [9600/19577 (49%)]\tLoss: 0.008764\n",
      "Train Epoch: 394 [12800/19577 (65%)]\tLoss: 0.009935\n",
      "Train Epoch: 394 [16000/19577 (82%)]\tLoss: 0.005353\n",
      "Train Epoch: 394 [19200/19577 (98%)]\tLoss: 0.004763\n",
      "\n",
      "Train loss: 0.007046010213587555\n"
     ]
    },
    {
     "name": "stderr",
     "output_type": "stream",
     "text": [
      "\r",
      " 79%|███████▉  | 394/500 [54:52<12:23,  7.02s/it]"
     ]
    },
    {
     "name": "stdout",
     "output_type": "stream",
     "text": [
      "Test on 1143 samples\n",
      "R^2: -1.01\n",
      "Test Loss: 1.62%\n",
      "Train Epoch: 395 [0/19577 (0%)]\tLoss: 0.005245\n",
      "Train Epoch: 395 [3200/19577 (16%)]\tLoss: 0.004956\n",
      "Train Epoch: 395 [6400/19577 (33%)]\tLoss: 0.002742\n",
      "Train Epoch: 395 [9600/19577 (49%)]\tLoss: 0.012956\n",
      "Train Epoch: 395 [12800/19577 (65%)]\tLoss: 0.007800\n",
      "Train Epoch: 395 [16000/19577 (82%)]\tLoss: 0.010420\n",
      "Train Epoch: 395 [19200/19577 (98%)]\tLoss: 0.003097\n",
      "\n",
      "Train loss: 0.007009292327269327\n"
     ]
    },
    {
     "name": "stderr",
     "output_type": "stream",
     "text": [
      "\r",
      " 79%|███████▉  | 395/500 [54:59<12:14,  7.00s/it]"
     ]
    },
    {
     "name": "stdout",
     "output_type": "stream",
     "text": [
      "Test on 1143 samples\n",
      "R^2: 0.02\n",
      "Test Loss: 1.63%\n",
      "Train Epoch: 396 [0/19577 (0%)]\tLoss: 0.007913\n",
      "Train Epoch: 396 [3200/19577 (16%)]\tLoss: 0.003146\n",
      "Train Epoch: 396 [6400/19577 (33%)]\tLoss: 0.003936\n",
      "Train Epoch: 396 [9600/19577 (49%)]\tLoss: 0.004025\n",
      "Train Epoch: 396 [12800/19577 (65%)]\tLoss: 0.005278\n",
      "Train Epoch: 396 [16000/19577 (82%)]\tLoss: 0.003258\n",
      "Train Epoch: 396 [19200/19577 (98%)]\tLoss: 0.006083\n",
      "\n",
      "Train loss: 0.00701486032183763\n"
     ]
    },
    {
     "name": "stderr",
     "output_type": "stream",
     "text": [
      "\r",
      " 79%|███████▉  | 396/500 [55:06<12:03,  6.96s/it]"
     ]
    },
    {
     "name": "stdout",
     "output_type": "stream",
     "text": [
      "Test on 1143 samples\n",
      "R^2: 0.01\n",
      "Test Loss: 1.62%\n",
      "Train Epoch: 397 [0/19577 (0%)]\tLoss: 0.004454\n",
      "Train Epoch: 397 [3200/19577 (16%)]\tLoss: 0.003846\n",
      "Train Epoch: 397 [6400/19577 (33%)]\tLoss: 0.006134\n",
      "Train Epoch: 397 [9600/19577 (49%)]\tLoss: 0.005952\n",
      "Train Epoch: 397 [12800/19577 (65%)]\tLoss: 0.009725\n",
      "Train Epoch: 397 [16000/19577 (82%)]\tLoss: 0.004565\n",
      "Train Epoch: 397 [19200/19577 (98%)]\tLoss: 0.010724\n",
      "\n",
      "Train loss: 0.007014557898799383\n"
     ]
    },
    {
     "name": "stderr",
     "output_type": "stream",
     "text": [
      "\r",
      " 79%|███████▉  | 397/500 [55:14<12:30,  7.29s/it]"
     ]
    },
    {
     "name": "stdout",
     "output_type": "stream",
     "text": [
      "Test on 1143 samples\n",
      "R^2: -0.17\n",
      "Test Loss: 1.63%\n",
      "Train Epoch: 398 [0/19577 (0%)]\tLoss: 0.003863\n",
      "Train Epoch: 398 [3200/19577 (16%)]\tLoss: 0.005144\n",
      "Train Epoch: 398 [6400/19577 (33%)]\tLoss: 0.005832\n",
      "Train Epoch: 398 [9600/19577 (49%)]\tLoss: 0.003645\n",
      "Train Epoch: 398 [12800/19577 (65%)]\tLoss: 0.006464\n",
      "Train Epoch: 398 [16000/19577 (82%)]\tLoss: 0.002619\n",
      "Train Epoch: 398 [19200/19577 (98%)]\tLoss: 0.004610\n",
      "\n",
      "Train loss: 0.007004871475205945\n"
     ]
    },
    {
     "name": "stderr",
     "output_type": "stream",
     "text": [
      "\r",
      " 80%|███████▉  | 398/500 [55:21<12:13,  7.19s/it]"
     ]
    },
    {
     "name": "stdout",
     "output_type": "stream",
     "text": [
      "Test on 1143 samples\n",
      "R^2: -0.09\n",
      "Test Loss: 1.62%\n",
      "Train Epoch: 399 [0/19577 (0%)]\tLoss: 0.003884\n",
      "Train Epoch: 399 [3200/19577 (16%)]\tLoss: 0.005624\n",
      "Train Epoch: 399 [6400/19577 (33%)]\tLoss: 0.002240\n",
      "Train Epoch: 399 [9600/19577 (49%)]\tLoss: 0.004537\n",
      "Train Epoch: 399 [12800/19577 (65%)]\tLoss: 0.005997\n",
      "Train Epoch: 399 [16000/19577 (82%)]\tLoss: 0.007444\n",
      "Train Epoch: 399 [19200/19577 (98%)]\tLoss: 0.007478\n",
      "\n",
      "Train loss: 0.007016163217390772\n"
     ]
    },
    {
     "name": "stderr",
     "output_type": "stream",
     "text": [
      "\r",
      " 80%|███████▉  | 399/500 [55:29<12:26,  7.39s/it]"
     ]
    },
    {
     "name": "stdout",
     "output_type": "stream",
     "text": [
      "Test on 1143 samples\n",
      "R^2: -0.41\n",
      "Test Loss: 1.63%\n",
      "Train Epoch: 400 [0/19577 (0%)]\tLoss: 0.004470\n",
      "Train Epoch: 400 [3200/19577 (16%)]\tLoss: 0.004501\n",
      "Train Epoch: 400 [6400/19577 (33%)]\tLoss: 0.003322\n",
      "Train Epoch: 400 [9600/19577 (49%)]\tLoss: 0.006386\n",
      "Train Epoch: 400 [12800/19577 (65%)]\tLoss: 0.006117\n",
      "Train Epoch: 400 [16000/19577 (82%)]\tLoss: 0.005927\n",
      "Train Epoch: 400 [19200/19577 (98%)]\tLoss: 0.005837\n",
      "\n",
      "Train loss: 0.007011935243450008\n"
     ]
    },
    {
     "name": "stderr",
     "output_type": "stream",
     "text": [
      "\r",
      " 80%|████████  | 400/500 [55:36<12:04,  7.24s/it]"
     ]
    },
    {
     "name": "stdout",
     "output_type": "stream",
     "text": [
      "Test on 1143 samples\n",
      "R^2: -3.27\n",
      "Test Loss: 1.64%\n",
      "Train Epoch: 401 [0/19577 (0%)]\tLoss: 0.004367\n",
      "Train Epoch: 401 [3200/19577 (16%)]\tLoss: 0.017335\n",
      "Train Epoch: 401 [6400/19577 (33%)]\tLoss: 0.006631\n",
      "Train Epoch: 401 [9600/19577 (49%)]\tLoss: 0.004996\n",
      "Train Epoch: 401 [12800/19577 (65%)]\tLoss: 0.007461\n",
      "Train Epoch: 401 [16000/19577 (82%)]\tLoss: 0.006523\n",
      "Train Epoch: 401 [19200/19577 (98%)]\tLoss: 0.004462\n",
      "\n",
      "Train loss: 0.0070049449648507236\n"
     ]
    },
    {
     "name": "stderr",
     "output_type": "stream",
     "text": [
      "\r",
      " 80%|████████  | 401/500 [55:43<11:46,  7.14s/it]"
     ]
    },
    {
     "name": "stdout",
     "output_type": "stream",
     "text": [
      "Test on 1143 samples\n",
      "R^2: -0.00\n",
      "Test Loss: 1.62%\n",
      "Train Epoch: 402 [0/19577 (0%)]\tLoss: 0.003367\n",
      "Train Epoch: 402 [3200/19577 (16%)]\tLoss: 0.005450\n",
      "Train Epoch: 402 [6400/19577 (33%)]\tLoss: 0.003430\n",
      "Train Epoch: 402 [9600/19577 (49%)]\tLoss: 0.006981\n",
      "Train Epoch: 402 [12800/19577 (65%)]\tLoss: 0.010558\n",
      "Train Epoch: 402 [16000/19577 (82%)]\tLoss: 0.008354\n",
      "Train Epoch: 402 [19200/19577 (98%)]\tLoss: 0.006304\n",
      "\n",
      "Train loss: 0.0070059242821146365\n"
     ]
    },
    {
     "name": "stderr",
     "output_type": "stream",
     "text": [
      "\r",
      " 80%|████████  | 402/500 [55:50<11:31,  7.06s/it]"
     ]
    },
    {
     "name": "stdout",
     "output_type": "stream",
     "text": [
      "Test on 1143 samples\n",
      "R^2: -0.48\n",
      "Test Loss: 1.62%\n",
      "Train Epoch: 403 [0/19577 (0%)]\tLoss: 0.008054\n",
      "Train Epoch: 403 [3200/19577 (16%)]\tLoss: 0.002757\n",
      "Train Epoch: 403 [6400/19577 (33%)]\tLoss: 0.003934\n",
      "Train Epoch: 403 [9600/19577 (49%)]\tLoss: 0.002698\n",
      "Train Epoch: 403 [12800/19577 (65%)]\tLoss: 0.005486\n",
      "Train Epoch: 403 [16000/19577 (82%)]\tLoss: 0.010416\n",
      "Train Epoch: 403 [19200/19577 (98%)]\tLoss: 0.008703\n",
      "\n",
      "Train loss: 0.007013536341034874\n"
     ]
    },
    {
     "name": "stderr",
     "output_type": "stream",
     "text": [
      "\r",
      " 81%|████████  | 403/500 [55:56<11:19,  7.01s/it]"
     ]
    },
    {
     "name": "stdout",
     "output_type": "stream",
     "text": [
      "Test on 1143 samples\n",
      "R^2: -1.00\n",
      "Test Loss: 1.62%\n",
      "Train Epoch: 404 [0/19577 (0%)]\tLoss: 0.007100\n",
      "Train Epoch: 404 [3200/19577 (16%)]\tLoss: 0.006358\n",
      "Train Epoch: 404 [6400/19577 (33%)]\tLoss: 0.007209\n",
      "Train Epoch: 404 [9600/19577 (49%)]\tLoss: 0.043079\n",
      "Train Epoch: 404 [12800/19577 (65%)]\tLoss: 0.004940\n",
      "Train Epoch: 404 [16000/19577 (82%)]\tLoss: 0.004400\n",
      "Train Epoch: 404 [19200/19577 (98%)]\tLoss: 0.007023\n",
      "\n",
      "Train loss: 0.007008990274020927\n"
     ]
    },
    {
     "name": "stderr",
     "output_type": "stream",
     "text": [
      "\r",
      " 81%|████████  | 404/500 [56:03<11:09,  6.97s/it]"
     ]
    },
    {
     "name": "stdout",
     "output_type": "stream",
     "text": [
      "Test on 1143 samples\n",
      "R^2: -1.14\n",
      "Test Loss: 1.63%\n",
      "Train Epoch: 405 [0/19577 (0%)]\tLoss: 0.006469\n",
      "Train Epoch: 405 [3200/19577 (16%)]\tLoss: 0.004427\n",
      "Train Epoch: 405 [6400/19577 (33%)]\tLoss: 0.004620\n",
      "Train Epoch: 405 [9600/19577 (49%)]\tLoss: 0.002284\n",
      "Train Epoch: 405 [12800/19577 (65%)]\tLoss: 0.012720\n",
      "Train Epoch: 405 [16000/19577 (82%)]\tLoss: 0.005675\n",
      "Train Epoch: 405 [19200/19577 (98%)]\tLoss: 0.002728\n",
      "\n",
      "Train loss: 0.007000375699611028\n"
     ]
    },
    {
     "name": "stderr",
     "output_type": "stream",
     "text": [
      "\r",
      " 81%|████████  | 405/500 [56:10<11:01,  6.96s/it]"
     ]
    },
    {
     "name": "stdout",
     "output_type": "stream",
     "text": [
      "Test on 1143 samples\n",
      "R^2: -0.57\n",
      "Test Loss: 1.63%\n",
      "Train Epoch: 406 [0/19577 (0%)]\tLoss: 0.007497\n",
      "Train Epoch: 406 [3200/19577 (16%)]\tLoss: 0.004809\n",
      "Train Epoch: 406 [6400/19577 (33%)]\tLoss: 0.006478\n",
      "Train Epoch: 406 [9600/19577 (49%)]\tLoss: 0.007105\n",
      "Train Epoch: 406 [12800/19577 (65%)]\tLoss: 0.005848\n",
      "Train Epoch: 406 [16000/19577 (82%)]\tLoss: 0.003836\n",
      "Train Epoch: 406 [19200/19577 (98%)]\tLoss: 0.002069\n",
      "\n",
      "Train loss: 0.007005785498311561\n"
     ]
    },
    {
     "name": "stderr",
     "output_type": "stream",
     "text": [
      "\r",
      " 81%|████████  | 406/500 [56:18<11:30,  7.35s/it]"
     ]
    },
    {
     "name": "stdout",
     "output_type": "stream",
     "text": [
      "Test on 1143 samples\n",
      "R^2: -1.02\n",
      "Test Loss: 1.62%\n",
      "Train Epoch: 407 [0/19577 (0%)]\tLoss: 0.004965\n",
      "Train Epoch: 407 [3200/19577 (16%)]\tLoss: 0.014786\n",
      "Train Epoch: 407 [6400/19577 (33%)]\tLoss: 0.006293\n",
      "Train Epoch: 407 [9600/19577 (49%)]\tLoss: 0.008816\n",
      "Train Epoch: 407 [12800/19577 (65%)]\tLoss: 0.003362\n",
      "Train Epoch: 407 [16000/19577 (82%)]\tLoss: 0.004798\n",
      "Train Epoch: 407 [19200/19577 (98%)]\tLoss: 0.003404\n",
      "\n",
      "Train loss: 0.007011797719291149\n"
     ]
    },
    {
     "name": "stderr",
     "output_type": "stream",
     "text": [
      "\r",
      " 81%|████████▏ | 407/500 [56:26<11:38,  7.51s/it]"
     ]
    },
    {
     "name": "stdout",
     "output_type": "stream",
     "text": [
      "Test on 1143 samples\n",
      "R^2: -0.40\n",
      "Test Loss: 1.62%\n",
      "Train Epoch: 408 [0/19577 (0%)]\tLoss: 0.005874\n",
      "Train Epoch: 408 [3200/19577 (16%)]\tLoss: 0.005609\n",
      "Train Epoch: 408 [6400/19577 (33%)]\tLoss: 0.015019\n",
      "Train Epoch: 408 [9600/19577 (49%)]\tLoss: 0.002598\n",
      "Train Epoch: 408 [12800/19577 (65%)]\tLoss: 0.003047\n",
      "Train Epoch: 408 [16000/19577 (82%)]\tLoss: 0.004566\n",
      "Train Epoch: 408 [19200/19577 (98%)]\tLoss: 0.007862\n",
      "\n",
      "Train loss: 0.0069921761446821145\n"
     ]
    },
    {
     "name": "stderr",
     "output_type": "stream",
     "text": [
      "\r",
      " 82%|████████▏ | 408/500 [56:34<11:20,  7.40s/it]"
     ]
    },
    {
     "name": "stdout",
     "output_type": "stream",
     "text": [
      "Test on 1143 samples\n",
      "R^2: 0.04\n",
      "Test Loss: 1.62%\n",
      "Train Epoch: 409 [0/19577 (0%)]\tLoss: 0.005315\n",
      "Train Epoch: 409 [3200/19577 (16%)]\tLoss: 0.003524\n",
      "Train Epoch: 409 [6400/19577 (33%)]\tLoss: 0.010107\n",
      "Train Epoch: 409 [9600/19577 (49%)]\tLoss: 0.005480\n",
      "Train Epoch: 409 [12800/19577 (65%)]\tLoss: 0.006273\n",
      "Train Epoch: 409 [16000/19577 (82%)]\tLoss: 0.004271\n",
      "Train Epoch: 409 [19200/19577 (98%)]\tLoss: 0.006171\n",
      "\n",
      "Train loss: 0.0069833803173227635\n"
     ]
    },
    {
     "name": "stderr",
     "output_type": "stream",
     "text": [
      "\r",
      " 82%|████████▏ | 409/500 [56:41<11:03,  7.29s/it]"
     ]
    },
    {
     "name": "stdout",
     "output_type": "stream",
     "text": [
      "Test on 1143 samples\n",
      "R^2: -0.64\n",
      "Test Loss: 1.62%\n",
      "Train Epoch: 410 [0/19577 (0%)]\tLoss: 0.002769\n",
      "Train Epoch: 410 [3200/19577 (16%)]\tLoss: 0.003609\n",
      "Train Epoch: 410 [6400/19577 (33%)]\tLoss: 0.005301\n",
      "Train Epoch: 410 [9600/19577 (49%)]\tLoss: 0.003493\n",
      "Train Epoch: 410 [12800/19577 (65%)]\tLoss: 0.002110\n",
      "Train Epoch: 410 [16000/19577 (82%)]\tLoss: 0.009193\n",
      "Train Epoch: 410 [19200/19577 (98%)]\tLoss: 0.004721\n",
      "\n",
      "Train loss: 0.00700374144689466\n"
     ]
    },
    {
     "name": "stderr",
     "output_type": "stream",
     "text": [
      "\r",
      " 82%|████████▏ | 410/500 [56:48<10:54,  7.27s/it]"
     ]
    },
    {
     "name": "stdout",
     "output_type": "stream",
     "text": [
      "Test on 1143 samples\n",
      "R^2: -0.17\n",
      "Test Loss: 1.62%\n",
      "Train Epoch: 411 [0/19577 (0%)]\tLoss: 0.003702\n",
      "Train Epoch: 411 [3200/19577 (16%)]\tLoss: 0.004214\n",
      "Train Epoch: 411 [6400/19577 (33%)]\tLoss: 0.004057\n",
      "Train Epoch: 411 [9600/19577 (49%)]\tLoss: 0.003996\n",
      "Train Epoch: 411 [12800/19577 (65%)]\tLoss: 0.002453\n",
      "Train Epoch: 411 [16000/19577 (82%)]\tLoss: 0.004962\n",
      "Train Epoch: 411 [19200/19577 (98%)]\tLoss: 0.004464\n",
      "\n",
      "Train loss: 0.006977962604282558\n"
     ]
    },
    {
     "name": "stderr",
     "output_type": "stream",
     "text": [
      "\r",
      " 82%|████████▏ | 411/500 [56:55<10:52,  7.33s/it]"
     ]
    },
    {
     "name": "stdout",
     "output_type": "stream",
     "text": [
      "Test on 1143 samples\n",
      "R^2: -0.15\n",
      "Test Loss: 1.61%\n",
      "Train Epoch: 412 [0/19577 (0%)]\tLoss: 0.002796\n",
      "Train Epoch: 412 [3200/19577 (16%)]\tLoss: 0.003848\n",
      "Train Epoch: 412 [6400/19577 (33%)]\tLoss: 0.006852\n",
      "Train Epoch: 412 [9600/19577 (49%)]\tLoss: 0.003974\n",
      "Train Epoch: 412 [12800/19577 (65%)]\tLoss: 0.004639\n",
      "Train Epoch: 412 [16000/19577 (82%)]\tLoss: 0.005471\n",
      "Train Epoch: 412 [19200/19577 (98%)]\tLoss: 0.005898\n",
      "\n",
      "Train loss: 0.0069892234587433195\n"
     ]
    },
    {
     "name": "stderr",
     "output_type": "stream",
     "text": [
      "\r",
      " 82%|████████▏ | 412/500 [57:03<11:08,  7.59s/it]"
     ]
    },
    {
     "name": "stdout",
     "output_type": "stream",
     "text": [
      "Test on 1143 samples\n",
      "R^2: -0.46\n",
      "Test Loss: 1.61%\n",
      "Train Epoch: 413 [0/19577 (0%)]\tLoss: 0.006162\n",
      "Train Epoch: 413 [3200/19577 (16%)]\tLoss: 0.009338\n",
      "Train Epoch: 413 [6400/19577 (33%)]\tLoss: 0.003421\n",
      "Train Epoch: 413 [9600/19577 (49%)]\tLoss: 0.003791\n",
      "Train Epoch: 413 [12800/19577 (65%)]\tLoss: 0.006322\n",
      "Train Epoch: 413 [16000/19577 (82%)]\tLoss: 0.002827\n",
      "Train Epoch: 413 [19200/19577 (98%)]\tLoss: 0.004231\n",
      "\n",
      "Train loss: 0.006984295245880882\n"
     ]
    },
    {
     "name": "stderr",
     "output_type": "stream",
     "text": [
      "\r",
      " 83%|████████▎ | 413/500 [57:12<11:37,  8.02s/it]"
     ]
    },
    {
     "name": "stdout",
     "output_type": "stream",
     "text": [
      "Test on 1143 samples\n",
      "R^2: -0.14\n",
      "Test Loss: 1.62%\n",
      "Train Epoch: 414 [0/19577 (0%)]\tLoss: 0.006441\n",
      "Train Epoch: 414 [3200/19577 (16%)]\tLoss: 0.007540\n",
      "Train Epoch: 414 [6400/19577 (33%)]\tLoss: 0.011890\n",
      "Train Epoch: 414 [9600/19577 (49%)]\tLoss: 0.003953\n",
      "Train Epoch: 414 [12800/19577 (65%)]\tLoss: 0.008843\n",
      "Train Epoch: 414 [16000/19577 (82%)]\tLoss: 0.008949\n",
      "Train Epoch: 414 [19200/19577 (98%)]\tLoss: 0.005543\n",
      "\n",
      "Train loss: 0.006991134892564779\n"
     ]
    },
    {
     "name": "stderr",
     "output_type": "stream",
     "text": [
      "\r",
      " 83%|████████▎ | 414/500 [57:20<11:19,  7.90s/it]"
     ]
    },
    {
     "name": "stdout",
     "output_type": "stream",
     "text": [
      "Test on 1143 samples\n",
      "R^2: -1.03\n",
      "Test Loss: 1.64%\n",
      "Train Epoch: 415 [0/19577 (0%)]\tLoss: 0.004176\n",
      "Train Epoch: 415 [3200/19577 (16%)]\tLoss: 0.012070\n",
      "Train Epoch: 415 [6400/19577 (33%)]\tLoss: 0.002169\n",
      "Train Epoch: 415 [9600/19577 (49%)]\tLoss: 0.004776\n",
      "Train Epoch: 415 [12800/19577 (65%)]\tLoss: 0.003987\n",
      "Train Epoch: 415 [16000/19577 (82%)]\tLoss: 0.007550\n",
      "Train Epoch: 415 [19200/19577 (98%)]\tLoss: 0.005042\n",
      "\n",
      "Train loss: 0.006980741370676292\n"
     ]
    },
    {
     "name": "stderr",
     "output_type": "stream",
     "text": [
      "\r",
      " 83%|████████▎ | 415/500 [57:28<11:07,  7.85s/it]"
     ]
    },
    {
     "name": "stdout",
     "output_type": "stream",
     "text": [
      "Test on 1143 samples\n",
      "R^2: -0.00\n",
      "Test Loss: 1.61%\n",
      "Train Epoch: 416 [0/19577 (0%)]\tLoss: 0.007598\n",
      "Train Epoch: 416 [3200/19577 (16%)]\tLoss: 0.005777\n",
      "Train Epoch: 416 [6400/19577 (33%)]\tLoss: 0.008859\n",
      "Train Epoch: 416 [9600/19577 (49%)]\tLoss: 0.003804\n",
      "Train Epoch: 416 [12800/19577 (65%)]\tLoss: 0.004035\n",
      "Train Epoch: 416 [16000/19577 (82%)]\tLoss: 0.001955\n",
      "Train Epoch: 416 [19200/19577 (98%)]\tLoss: 0.003623\n",
      "\n",
      "Train loss: 0.006964682392149044\n"
     ]
    },
    {
     "name": "stderr",
     "output_type": "stream",
     "text": [
      "\r",
      " 83%|████████▎ | 416/500 [57:36<11:10,  7.99s/it]"
     ]
    },
    {
     "name": "stdout",
     "output_type": "stream",
     "text": [
      "Test on 1143 samples\n",
      "R^2: -1.59\n",
      "Test Loss: 1.65%\n",
      "Train Epoch: 417 [0/19577 (0%)]\tLoss: 0.005905\n",
      "Train Epoch: 417 [3200/19577 (16%)]\tLoss: 0.005599\n",
      "Train Epoch: 417 [6400/19577 (33%)]\tLoss: 0.019216\n",
      "Train Epoch: 417 [9600/19577 (49%)]\tLoss: 0.008600\n",
      "Train Epoch: 417 [12800/19577 (65%)]\tLoss: 0.005134\n",
      "Train Epoch: 417 [16000/19577 (82%)]\tLoss: 0.003032\n",
      "Train Epoch: 417 [19200/19577 (98%)]\tLoss: 0.006075\n",
      "\n",
      "Train loss: 0.0069774199586081645\n"
     ]
    },
    {
     "name": "stderr",
     "output_type": "stream",
     "text": [
      "\r",
      " 83%|████████▎ | 417/500 [57:44<11:08,  8.06s/it]"
     ]
    },
    {
     "name": "stdout",
     "output_type": "stream",
     "text": [
      "Test on 1143 samples\n",
      "R^2: -2.01\n",
      "Test Loss: 1.63%\n",
      "Train Epoch: 418 [0/19577 (0%)]\tLoss: 0.003177\n",
      "Train Epoch: 418 [3200/19577 (16%)]\tLoss: 0.006661\n",
      "Train Epoch: 418 [6400/19577 (33%)]\tLoss: 0.003724\n",
      "Train Epoch: 418 [9600/19577 (49%)]\tLoss: 0.005734\n",
      "Train Epoch: 418 [12800/19577 (65%)]\tLoss: 0.006914\n",
      "Train Epoch: 418 [16000/19577 (82%)]\tLoss: 0.003834\n",
      "Train Epoch: 418 [19200/19577 (98%)]\tLoss: 0.005950\n",
      "\n",
      "Train loss: 0.0069784057338789\n"
     ]
    },
    {
     "name": "stderr",
     "output_type": "stream",
     "text": [
      "\r",
      " 84%|████████▎ | 418/500 [57:52<10:51,  7.94s/it]"
     ]
    },
    {
     "name": "stdout",
     "output_type": "stream",
     "text": [
      "Test on 1143 samples\n",
      "R^2: -0.00\n",
      "Test Loss: 1.61%\n",
      "Train Epoch: 419 [0/19577 (0%)]\tLoss: 0.003997\n",
      "Train Epoch: 419 [3200/19577 (16%)]\tLoss: 0.003849\n",
      "Train Epoch: 419 [6400/19577 (33%)]\tLoss: 0.004946\n",
      "Train Epoch: 419 [9600/19577 (49%)]\tLoss: 0.005042\n",
      "Train Epoch: 419 [12800/19577 (65%)]\tLoss: 0.004582\n",
      "Train Epoch: 419 [16000/19577 (82%)]\tLoss: 0.005897\n",
      "Train Epoch: 419 [19200/19577 (98%)]\tLoss: 0.007660\n",
      "\n",
      "Train loss: 0.006980957540613447\n"
     ]
    },
    {
     "name": "stderr",
     "output_type": "stream",
     "text": [
      "\r",
      " 84%|████████▍ | 419/500 [58:00<10:54,  8.08s/it]"
     ]
    },
    {
     "name": "stdout",
     "output_type": "stream",
     "text": [
      "Test on 1143 samples\n",
      "R^2: -1.21\n",
      "Test Loss: 1.62%\n",
      "Train Epoch: 420 [0/19577 (0%)]\tLoss: 0.003110\n",
      "Train Epoch: 420 [3200/19577 (16%)]\tLoss: 0.004599\n",
      "Train Epoch: 420 [6400/19577 (33%)]\tLoss: 0.007797\n",
      "Train Epoch: 420 [9600/19577 (49%)]\tLoss: 0.002921\n",
      "Train Epoch: 420 [12800/19577 (65%)]\tLoss: 0.003028\n",
      "Train Epoch: 420 [16000/19577 (82%)]\tLoss: 0.005005\n",
      "Train Epoch: 420 [19200/19577 (98%)]\tLoss: 0.004873\n",
      "\n",
      "Train loss: 0.0069846333213016585\n"
     ]
    },
    {
     "name": "stderr",
     "output_type": "stream",
     "text": [
      "\r",
      " 84%|████████▍ | 420/500 [58:08<10:38,  7.98s/it]"
     ]
    },
    {
     "name": "stdout",
     "output_type": "stream",
     "text": [
      "Test on 1143 samples\n",
      "R^2: -1.83\n",
      "Test Loss: 1.65%\n",
      "Train Epoch: 421 [0/19577 (0%)]\tLoss: 0.002773\n",
      "Train Epoch: 421 [3200/19577 (16%)]\tLoss: 0.004180\n",
      "Train Epoch: 421 [6400/19577 (33%)]\tLoss: 0.005159\n",
      "Train Epoch: 421 [9600/19577 (49%)]\tLoss: 0.005292\n",
      "Train Epoch: 421 [12800/19577 (65%)]\tLoss: 0.005992\n",
      "Train Epoch: 421 [16000/19577 (82%)]\tLoss: 0.004461\n",
      "Train Epoch: 421 [19200/19577 (98%)]\tLoss: 0.007682\n",
      "\n",
      "Train loss: 0.006978072457736833\n"
     ]
    },
    {
     "name": "stderr",
     "output_type": "stream",
     "text": [
      "\r",
      " 84%|████████▍ | 421/500 [58:15<10:07,  7.69s/it]"
     ]
    },
    {
     "name": "stdout",
     "output_type": "stream",
     "text": [
      "Test on 1143 samples\n",
      "R^2: -1.97\n",
      "Test Loss: 1.66%\n",
      "Train Epoch: 422 [0/19577 (0%)]\tLoss: 0.008569\n",
      "Train Epoch: 422 [3200/19577 (16%)]\tLoss: 0.004859\n",
      "Train Epoch: 422 [6400/19577 (33%)]\tLoss: 0.007276\n",
      "Train Epoch: 422 [9600/19577 (49%)]\tLoss: 0.005472\n",
      "Train Epoch: 422 [12800/19577 (65%)]\tLoss: 0.004752\n",
      "Train Epoch: 422 [16000/19577 (82%)]\tLoss: 0.004942\n",
      "Train Epoch: 422 [19200/19577 (98%)]\tLoss: 0.005823\n",
      "\n",
      "Train loss: 0.00696878986824243\n"
     ]
    },
    {
     "name": "stderr",
     "output_type": "stream",
     "text": [
      "\r",
      " 84%|████████▍ | 422/500 [58:25<10:49,  8.33s/it]"
     ]
    },
    {
     "name": "stdout",
     "output_type": "stream",
     "text": [
      "Test on 1143 samples\n",
      "R^2: -0.55\n",
      "Test Loss: 1.63%\n",
      "Train Epoch: 423 [0/19577 (0%)]\tLoss: 0.004220\n",
      "Train Epoch: 423 [3200/19577 (16%)]\tLoss: 0.005015\n",
      "Train Epoch: 423 [6400/19577 (33%)]\tLoss: 0.004729\n",
      "Train Epoch: 423 [9600/19577 (49%)]\tLoss: 0.006943\n",
      "Train Epoch: 423 [12800/19577 (65%)]\tLoss: 0.006051\n",
      "Train Epoch: 423 [16000/19577 (82%)]\tLoss: 0.011222\n",
      "Train Epoch: 423 [19200/19577 (98%)]\tLoss: 0.002832\n",
      "\n",
      "Train loss: 0.0069703210397848705\n"
     ]
    },
    {
     "name": "stderr",
     "output_type": "stream",
     "text": [
      "\r",
      " 85%|████████▍ | 423/500 [58:34<10:57,  8.54s/it]"
     ]
    },
    {
     "name": "stdout",
     "output_type": "stream",
     "text": [
      "Test on 1143 samples\n",
      "R^2: -0.07\n",
      "Test Loss: 1.61%\n",
      "Train Epoch: 424 [0/19577 (0%)]\tLoss: 0.004211\n",
      "Train Epoch: 424 [3200/19577 (16%)]\tLoss: 0.005241\n",
      "Train Epoch: 424 [6400/19577 (33%)]\tLoss: 0.007282\n",
      "Train Epoch: 424 [9600/19577 (49%)]\tLoss: 0.004858\n",
      "Train Epoch: 424 [12800/19577 (65%)]\tLoss: 0.004278\n",
      "Train Epoch: 424 [16000/19577 (82%)]\tLoss: 0.004668\n",
      "Train Epoch: 424 [19200/19577 (98%)]\tLoss: 0.005188\n",
      "\n",
      "Train loss: 0.00698047715811412\n"
     ]
    },
    {
     "name": "stderr",
     "output_type": "stream",
     "text": [
      "\r",
      " 85%|████████▍ | 424/500 [58:41<10:15,  8.09s/it]"
     ]
    },
    {
     "name": "stdout",
     "output_type": "stream",
     "text": [
      "Test on 1143 samples\n",
      "R^2: -1.78\n",
      "Test Loss: 1.62%\n",
      "Train Epoch: 425 [0/19577 (0%)]\tLoss: 0.003834\n",
      "Train Epoch: 425 [3200/19577 (16%)]\tLoss: 0.003627\n",
      "Train Epoch: 425 [6400/19577 (33%)]\tLoss: 0.006426\n",
      "Train Epoch: 425 [9600/19577 (49%)]\tLoss: 0.002131\n",
      "Train Epoch: 425 [12800/19577 (65%)]\tLoss: 0.008386\n",
      "Train Epoch: 425 [16000/19577 (82%)]\tLoss: 0.008663\n",
      "Train Epoch: 425 [19200/19577 (98%)]\tLoss: 0.007893\n",
      "\n",
      "Train loss: 0.0069622580982361204\n"
     ]
    },
    {
     "name": "stderr",
     "output_type": "stream",
     "text": [
      "\r",
      " 85%|████████▌ | 425/500 [58:49<09:52,  7.91s/it]"
     ]
    },
    {
     "name": "stdout",
     "output_type": "stream",
     "text": [
      "Test on 1143 samples\n",
      "R^2: -0.55\n",
      "Test Loss: 1.61%\n",
      "Train Epoch: 426 [0/19577 (0%)]\tLoss: 0.007176\n",
      "Train Epoch: 426 [3200/19577 (16%)]\tLoss: 0.003153\n",
      "Train Epoch: 426 [6400/19577 (33%)]\tLoss: 0.004930\n",
      "Train Epoch: 426 [9600/19577 (49%)]\tLoss: 0.008198\n",
      "Train Epoch: 426 [12800/19577 (65%)]\tLoss: 0.003182\n",
      "Train Epoch: 426 [16000/19577 (82%)]\tLoss: 0.003231\n",
      "Train Epoch: 426 [19200/19577 (98%)]\tLoss: 0.003955\n",
      "\n",
      "Train loss: 0.006958079991140859\n"
     ]
    },
    {
     "name": "stderr",
     "output_type": "stream",
     "text": [
      "\r",
      " 85%|████████▌ | 426/500 [58:56<09:40,  7.84s/it]"
     ]
    },
    {
     "name": "stdout",
     "output_type": "stream",
     "text": [
      "Test on 1143 samples\n",
      "R^2: -0.12\n",
      "Test Loss: 1.61%\n",
      "Train Epoch: 427 [0/19577 (0%)]\tLoss: 0.009736\n",
      "Train Epoch: 427 [3200/19577 (16%)]\tLoss: 0.010051\n",
      "Train Epoch: 427 [6400/19577 (33%)]\tLoss: 0.002440\n",
      "Train Epoch: 427 [9600/19577 (49%)]\tLoss: 0.005074\n",
      "Train Epoch: 427 [12800/19577 (65%)]\tLoss: 0.006785\n",
      "Train Epoch: 427 [16000/19577 (82%)]\tLoss: 0.004918\n",
      "Train Epoch: 427 [19200/19577 (98%)]\tLoss: 0.003572\n",
      "\n",
      "Train loss: 0.0069647934215502465\n"
     ]
    },
    {
     "name": "stderr",
     "output_type": "stream",
     "text": [
      "\r",
      " 85%|████████▌ | 427/500 [59:04<09:23,  7.73s/it]"
     ]
    },
    {
     "name": "stdout",
     "output_type": "stream",
     "text": [
      "Test on 1143 samples\n",
      "R^2: -1.57\n",
      "Test Loss: 1.62%\n",
      "Train Epoch: 428 [0/19577 (0%)]\tLoss: 0.005633\n",
      "Train Epoch: 428 [3200/19577 (16%)]\tLoss: 0.003728\n",
      "Train Epoch: 428 [6400/19577 (33%)]\tLoss: 0.013155\n",
      "Train Epoch: 428 [9600/19577 (49%)]\tLoss: 0.005141\n",
      "Train Epoch: 428 [12800/19577 (65%)]\tLoss: 0.007715\n",
      "Train Epoch: 428 [16000/19577 (82%)]\tLoss: 0.003596\n",
      "Train Epoch: 428 [19200/19577 (98%)]\tLoss: 0.005905\n",
      "\n",
      "Train loss: 0.006970311885203533\n"
     ]
    },
    {
     "name": "stderr",
     "output_type": "stream",
     "text": [
      "\r",
      " 86%|████████▌ | 428/500 [59:16<10:47,  8.99s/it]"
     ]
    },
    {
     "name": "stdout",
     "output_type": "stream",
     "text": [
      "Test on 1143 samples\n",
      "R^2: -0.19\n",
      "Test Loss: 1.62%\n",
      "Train Epoch: 429 [0/19577 (0%)]\tLoss: 0.004889\n",
      "Train Epoch: 429 [3200/19577 (16%)]\tLoss: 0.004071\n",
      "Train Epoch: 429 [6400/19577 (33%)]\tLoss: 0.009069\n",
      "Train Epoch: 429 [9600/19577 (49%)]\tLoss: 0.004089\n",
      "Train Epoch: 429 [12800/19577 (65%)]\tLoss: 0.005226\n",
      "Train Epoch: 429 [16000/19577 (82%)]\tLoss: 0.006009\n",
      "Train Epoch: 429 [19200/19577 (98%)]\tLoss: 0.003627\n",
      "\n",
      "Train loss: 0.0069708367851501925\n"
     ]
    },
    {
     "name": "stderr",
     "output_type": "stream",
     "text": [
      "\r",
      " 86%|████████▌ | 429/500 [59:37<15:00, 12.68s/it]"
     ]
    },
    {
     "name": "stdout",
     "output_type": "stream",
     "text": [
      "Test on 1143 samples\n",
      "R^2: 0.07\n",
      "Test Loss: 1.62%\n",
      "Train Epoch: 430 [0/19577 (0%)]\tLoss: 0.009871\n",
      "Train Epoch: 430 [3200/19577 (16%)]\tLoss: 0.005145\n",
      "Train Epoch: 430 [6400/19577 (33%)]\tLoss: 0.004008\n",
      "Train Epoch: 430 [9600/19577 (49%)]\tLoss: 0.006230\n",
      "Train Epoch: 430 [12800/19577 (65%)]\tLoss: 0.002730\n",
      "Train Epoch: 430 [16000/19577 (82%)]\tLoss: 0.003121\n",
      "Train Epoch: 430 [19200/19577 (98%)]\tLoss: 0.008030\n",
      "\n",
      "Train loss: 0.006964115343007922\n"
     ]
    },
    {
     "name": "stderr",
     "output_type": "stream",
     "text": [
      "\r",
      " 86%|████████▌ | 430/500 [59:48<14:20, 12.29s/it]"
     ]
    },
    {
     "name": "stdout",
     "output_type": "stream",
     "text": [
      "Test on 1143 samples\n",
      "R^2: -1.61\n",
      "Test Loss: 1.62%\n",
      "Train Epoch: 431 [0/19577 (0%)]\tLoss: 0.004444\n",
      "Train Epoch: 431 [3200/19577 (16%)]\tLoss: 0.005635\n",
      "Train Epoch: 431 [6400/19577 (33%)]\tLoss: 0.002729\n",
      "Train Epoch: 431 [9600/19577 (49%)]\tLoss: 0.007883\n",
      "Train Epoch: 431 [12800/19577 (65%)]\tLoss: 0.004424\n",
      "Train Epoch: 431 [16000/19577 (82%)]\tLoss: 0.005299\n",
      "Train Epoch: 431 [19200/19577 (98%)]\tLoss: 0.006600\n",
      "\n",
      "Train loss: 0.006955029831337895\n"
     ]
    },
    {
     "name": "stderr",
     "output_type": "stream",
     "text": [
      "\r",
      " 86%|████████▌ | 431/500 [59:59<13:25, 11.67s/it]"
     ]
    },
    {
     "name": "stdout",
     "output_type": "stream",
     "text": [
      "Test on 1143 samples\n",
      "R^2: -0.04\n",
      "Test Loss: 1.61%\n",
      "Train Epoch: 432 [0/19577 (0%)]\tLoss: 0.004829\n",
      "Train Epoch: 432 [3200/19577 (16%)]\tLoss: 0.003574\n",
      "Train Epoch: 432 [6400/19577 (33%)]\tLoss: 0.006247\n",
      "Train Epoch: 432 [9600/19577 (49%)]\tLoss: 0.005573\n",
      "Train Epoch: 432 [12800/19577 (65%)]\tLoss: 0.006325\n",
      "Train Epoch: 432 [16000/19577 (82%)]\tLoss: 0.010938\n",
      "Train Epoch: 432 [19200/19577 (98%)]\tLoss: 0.004794\n",
      "\n",
      "Train loss: 0.006944745826212312\n"
     ]
    },
    {
     "name": "stderr",
     "output_type": "stream",
     "text": [
      "\r",
      " 86%|████████▋ | 432/500 [1:00:07<12:13, 10.79s/it]"
     ]
    },
    {
     "name": "stdout",
     "output_type": "stream",
     "text": [
      "Test on 1143 samples\n",
      "R^2: -0.11\n",
      "Test Loss: 1.61%\n",
      "Train Epoch: 433 [0/19577 (0%)]\tLoss: 0.004294\n",
      "Train Epoch: 433 [3200/19577 (16%)]\tLoss: 0.004695\n",
      "Train Epoch: 433 [6400/19577 (33%)]\tLoss: 0.004246\n",
      "Train Epoch: 433 [9600/19577 (49%)]\tLoss: 0.003003\n",
      "Train Epoch: 433 [12800/19577 (65%)]\tLoss: 0.003962\n",
      "Train Epoch: 433 [16000/19577 (82%)]\tLoss: 0.005297\n",
      "Train Epoch: 433 [19200/19577 (98%)]\tLoss: 0.006298\n",
      "\n",
      "Train loss: 0.006964415949814971\n"
     ]
    },
    {
     "name": "stderr",
     "output_type": "stream",
     "text": [
      "\r",
      " 87%|████████▋ | 433/500 [1:00:15<10:57,  9.82s/it]"
     ]
    },
    {
     "name": "stdout",
     "output_type": "stream",
     "text": [
      "Test on 1143 samples\n",
      "R^2: -0.46\n",
      "Test Loss: 1.60%\n",
      "Train Epoch: 434 [0/19577 (0%)]\tLoss: 0.005590\n",
      "Train Epoch: 434 [3200/19577 (16%)]\tLoss: 0.007773\n",
      "Train Epoch: 434 [6400/19577 (33%)]\tLoss: 0.005220\n",
      "Train Epoch: 434 [9600/19577 (49%)]\tLoss: 0.006661\n",
      "Train Epoch: 434 [12800/19577 (65%)]\tLoss: 0.009172\n",
      "Train Epoch: 434 [16000/19577 (82%)]\tLoss: 0.008600\n",
      "Train Epoch: 434 [19200/19577 (98%)]\tLoss: 0.006051\n",
      "\n",
      "Train loss: 0.0069565531220195775\n"
     ]
    },
    {
     "name": "stderr",
     "output_type": "stream",
     "text": [
      "\r",
      " 87%|████████▋ | 434/500 [1:00:23<10:13,  9.30s/it]"
     ]
    },
    {
     "name": "stdout",
     "output_type": "stream",
     "text": [
      "Test on 1143 samples\n",
      "R^2: -1.07\n",
      "Test Loss: 1.61%\n",
      "Train Epoch: 435 [0/19577 (0%)]\tLoss: 0.004679\n",
      "Train Epoch: 435 [3200/19577 (16%)]\tLoss: 0.007084\n",
      "Train Epoch: 435 [6400/19577 (33%)]\tLoss: 0.005277\n",
      "Train Epoch: 435 [9600/19577 (49%)]\tLoss: 0.003155\n",
      "Train Epoch: 435 [12800/19577 (65%)]\tLoss: 0.012374\n",
      "Train Epoch: 435 [16000/19577 (82%)]\tLoss: 0.004731\n",
      "Train Epoch: 435 [19200/19577 (98%)]\tLoss: 0.005558\n",
      "\n",
      "Train loss: 0.006971907079466344\n"
     ]
    },
    {
     "name": "stderr",
     "output_type": "stream",
     "text": [
      "\r",
      " 87%|████████▋ | 435/500 [1:00:33<10:28,  9.66s/it]"
     ]
    },
    {
     "name": "stdout",
     "output_type": "stream",
     "text": [
      "Test on 1143 samples\n",
      "R^2: -0.30\n",
      "Test Loss: 1.62%\n",
      "Train Epoch: 436 [0/19577 (0%)]\tLoss: 0.006682\n",
      "Train Epoch: 436 [3200/19577 (16%)]\tLoss: 0.007063\n",
      "Train Epoch: 436 [6400/19577 (33%)]\tLoss: 0.007722\n",
      "Train Epoch: 436 [9600/19577 (49%)]\tLoss: 0.003712\n",
      "Train Epoch: 436 [12800/19577 (65%)]\tLoss: 0.003900\n",
      "Train Epoch: 436 [16000/19577 (82%)]\tLoss: 0.002993\n",
      "Train Epoch: 436 [19200/19577 (98%)]\tLoss: 0.003896\n",
      "\n",
      "Train loss: 0.006955862657039189\n"
     ]
    },
    {
     "name": "stderr",
     "output_type": "stream",
     "text": [
      "\r",
      " 87%|████████▋ | 436/500 [1:00:42<09:56,  9.32s/it]"
     ]
    },
    {
     "name": "stdout",
     "output_type": "stream",
     "text": [
      "Test on 1143 samples\n",
      "R^2: -0.53\n",
      "Test Loss: 1.61%\n",
      "Train Epoch: 437 [0/19577 (0%)]\tLoss: 0.007409\n",
      "Train Epoch: 437 [3200/19577 (16%)]\tLoss: 0.007103\n",
      "Train Epoch: 437 [6400/19577 (33%)]\tLoss: 0.007014\n",
      "Train Epoch: 437 [9600/19577 (49%)]\tLoss: 0.003503\n",
      "Train Epoch: 437 [12800/19577 (65%)]\tLoss: 0.003555\n",
      "Train Epoch: 437 [16000/19577 (82%)]\tLoss: 0.005820\n",
      "Train Epoch: 437 [19200/19577 (98%)]\tLoss: 0.011156\n",
      "\n",
      "Train loss: 0.0069475004718078945\n"
     ]
    },
    {
     "name": "stderr",
     "output_type": "stream",
     "text": [
      "\r",
      " 87%|████████▋ | 437/500 [1:00:52<09:54,  9.43s/it]"
     ]
    },
    {
     "name": "stdout",
     "output_type": "stream",
     "text": [
      "Test on 1143 samples\n",
      "R^2: -0.11\n",
      "Test Loss: 1.61%\n",
      "Train Epoch: 438 [0/19577 (0%)]\tLoss: 0.004659\n",
      "Train Epoch: 438 [3200/19577 (16%)]\tLoss: 0.003133\n",
      "Train Epoch: 438 [6400/19577 (33%)]\tLoss: 0.002835\n",
      "Train Epoch: 438 [9600/19577 (49%)]\tLoss: 0.003271\n",
      "Train Epoch: 438 [12800/19577 (65%)]\tLoss: 0.004516\n",
      "Train Epoch: 438 [16000/19577 (82%)]\tLoss: 0.004997\n",
      "Train Epoch: 438 [19200/19577 (98%)]\tLoss: 0.003900\n",
      "\n",
      "Train loss: 0.006943338988896678\n"
     ]
    },
    {
     "name": "stderr",
     "output_type": "stream",
     "text": [
      "\r",
      " 88%|████████▊ | 438/500 [1:01:00<09:23,  9.10s/it]"
     ]
    },
    {
     "name": "stdout",
     "output_type": "stream",
     "text": [
      "Test on 1143 samples\n",
      "R^2: 0.06\n",
      "Test Loss: 1.61%\n",
      "Train Epoch: 439 [0/19577 (0%)]\tLoss: 0.002398\n",
      "Train Epoch: 439 [3200/19577 (16%)]\tLoss: 0.004191\n",
      "Train Epoch: 439 [6400/19577 (33%)]\tLoss: 0.006652\n",
      "Train Epoch: 439 [9600/19577 (49%)]\tLoss: 0.004468\n",
      "Train Epoch: 439 [12800/19577 (65%)]\tLoss: 0.003385\n",
      "Train Epoch: 439 [16000/19577 (82%)]\tLoss: 0.008646\n",
      "Train Epoch: 439 [19200/19577 (98%)]\tLoss: 0.006556\n",
      "\n",
      "Train loss: 0.006952036019974675\n"
     ]
    },
    {
     "name": "stderr",
     "output_type": "stream",
     "text": [
      "\r",
      " 88%|████████▊ | 439/500 [1:01:07<08:43,  8.59s/it]"
     ]
    },
    {
     "name": "stdout",
     "output_type": "stream",
     "text": [
      "Test on 1143 samples\n",
      "R^2: -0.02\n",
      "Test Loss: 1.61%\n",
      "Train Epoch: 440 [0/19577 (0%)]\tLoss: 0.009433\n",
      "Train Epoch: 440 [3200/19577 (16%)]\tLoss: 0.006528\n",
      "Train Epoch: 440 [6400/19577 (33%)]\tLoss: 0.008891\n",
      "Train Epoch: 440 [9600/19577 (49%)]\tLoss: 0.004198\n",
      "Train Epoch: 440 [12800/19577 (65%)]\tLoss: 0.003566\n",
      "Train Epoch: 440 [16000/19577 (82%)]\tLoss: 0.003048\n",
      "Train Epoch: 440 [19200/19577 (98%)]\tLoss: 0.006557\n",
      "\n",
      "Train loss: 0.006932289759990656\n"
     ]
    },
    {
     "name": "stderr",
     "output_type": "stream",
     "text": [
      "\r",
      " 88%|████████▊ | 440/500 [1:01:23<10:39, 10.66s/it]"
     ]
    },
    {
     "name": "stdout",
     "output_type": "stream",
     "text": [
      "Test on 1143 samples\n",
      "R^2: -0.64\n",
      "Test Loss: 1.61%\n",
      "Train Epoch: 441 [0/19577 (0%)]\tLoss: 0.006116\n",
      "Train Epoch: 441 [3200/19577 (16%)]\tLoss: 0.004568\n",
      "Train Epoch: 441 [6400/19577 (33%)]\tLoss: 0.003592\n",
      "Train Epoch: 441 [9600/19577 (49%)]\tLoss: 0.003247\n",
      "Train Epoch: 441 [12800/19577 (65%)]\tLoss: 0.006206\n",
      "Train Epoch: 441 [16000/19577 (82%)]\tLoss: 0.002950\n",
      "Train Epoch: 441 [19200/19577 (98%)]\tLoss: 0.003025\n",
      "\n",
      "Train loss: 0.006948985757452308\n"
     ]
    },
    {
     "name": "stderr",
     "output_type": "stream",
     "text": [
      "\r",
      " 88%|████████▊ | 441/500 [1:01:33<10:15, 10.42s/it]"
     ]
    },
    {
     "name": "stdout",
     "output_type": "stream",
     "text": [
      "Test on 1143 samples\n",
      "R^2: -0.16\n",
      "Test Loss: 1.61%\n",
      "Train Epoch: 442 [0/19577 (0%)]\tLoss: 0.005673\n",
      "Train Epoch: 442 [3200/19577 (16%)]\tLoss: 0.005425\n",
      "Train Epoch: 442 [6400/19577 (33%)]\tLoss: 0.006923\n",
      "Train Epoch: 442 [9600/19577 (49%)]\tLoss: 0.003744\n",
      "Train Epoch: 442 [12800/19577 (65%)]\tLoss: 0.004058\n",
      "Train Epoch: 442 [16000/19577 (82%)]\tLoss: 0.005612\n",
      "Train Epoch: 442 [19200/19577 (98%)]\tLoss: 0.003160\n",
      "\n",
      "Train loss: 0.00693200081525967\n"
     ]
    },
    {
     "name": "stderr",
     "output_type": "stream",
     "text": [
      "\r",
      " 88%|████████▊ | 442/500 [1:01:40<09:09,  9.47s/it]"
     ]
    },
    {
     "name": "stdout",
     "output_type": "stream",
     "text": [
      "Test on 1143 samples\n",
      "R^2: -0.01\n",
      "Test Loss: 1.61%\n",
      "Train Epoch: 443 [0/19577 (0%)]\tLoss: 0.005822\n",
      "Train Epoch: 443 [3200/19577 (16%)]\tLoss: 0.005441\n",
      "Train Epoch: 443 [6400/19577 (33%)]\tLoss: 0.005722\n",
      "Train Epoch: 443 [9600/19577 (49%)]\tLoss: 0.002591\n",
      "Train Epoch: 443 [12800/19577 (65%)]\tLoss: 0.004972\n",
      "Train Epoch: 443 [16000/19577 (82%)]\tLoss: 0.004802\n",
      "Train Epoch: 443 [19200/19577 (98%)]\tLoss: 0.002554\n",
      "\n",
      "Train loss: 0.006921243416358492\n"
     ]
    },
    {
     "name": "stderr",
     "output_type": "stream",
     "text": [
      "\r",
      " 89%|████████▊ | 443/500 [1:01:47<08:18,  8.75s/it]"
     ]
    },
    {
     "name": "stdout",
     "output_type": "stream",
     "text": [
      "Test on 1143 samples\n",
      "R^2: -2.87\n",
      "Test Loss: 1.63%\n",
      "Train Epoch: 444 [0/19577 (0%)]\tLoss: 0.004550\n",
      "Train Epoch: 444 [3200/19577 (16%)]\tLoss: 0.007094\n",
      "Train Epoch: 444 [6400/19577 (33%)]\tLoss: 0.007133\n",
      "Train Epoch: 444 [9600/19577 (49%)]\tLoss: 0.006227\n",
      "Train Epoch: 444 [12800/19577 (65%)]\tLoss: 0.003573\n",
      "Train Epoch: 444 [16000/19577 (82%)]\tLoss: 0.004838\n",
      "Train Epoch: 444 [19200/19577 (98%)]\tLoss: 0.005869\n",
      "\n",
      "Train loss: 0.006948970254051067\n"
     ]
    },
    {
     "name": "stderr",
     "output_type": "stream",
     "text": [
      "\r",
      " 89%|████████▉ | 444/500 [1:01:54<07:40,  8.22s/it]"
     ]
    },
    {
     "name": "stdout",
     "output_type": "stream",
     "text": [
      "Test on 1143 samples\n",
      "R^2: 0.02\n",
      "Test Loss: 1.61%\n",
      "Train Epoch: 445 [0/19577 (0%)]\tLoss: 0.005103\n",
      "Train Epoch: 445 [3200/19577 (16%)]\tLoss: 0.002589\n",
      "Train Epoch: 445 [6400/19577 (33%)]\tLoss: 0.005569\n",
      "Train Epoch: 445 [9600/19577 (49%)]\tLoss: 0.004478\n",
      "Train Epoch: 445 [12800/19577 (65%)]\tLoss: 0.004712\n",
      "Train Epoch: 445 [16000/19577 (82%)]\tLoss: 0.004846\n",
      "Train Epoch: 445 [19200/19577 (98%)]\tLoss: 0.006847\n",
      "\n",
      "Train loss: 0.0069451148015313045\n"
     ]
    },
    {
     "name": "stderr",
     "output_type": "stream",
     "text": [
      "\r",
      " 89%|████████▉ | 445/500 [1:02:04<08:06,  8.85s/it]"
     ]
    },
    {
     "name": "stdout",
     "output_type": "stream",
     "text": [
      "Test on 1143 samples\n",
      "R^2: -0.00\n",
      "Test Loss: 1.61%\n",
      "Train Epoch: 446 [0/19577 (0%)]\tLoss: 0.009908\n",
      "Train Epoch: 446 [3200/19577 (16%)]\tLoss: 0.006695\n",
      "Train Epoch: 446 [6400/19577 (33%)]\tLoss: 0.004148\n",
      "Train Epoch: 446 [9600/19577 (49%)]\tLoss: 0.003534\n",
      "Train Epoch: 446 [12800/19577 (65%)]\tLoss: 0.007907\n",
      "Train Epoch: 446 [16000/19577 (82%)]\tLoss: 0.008935\n",
      "Train Epoch: 446 [19200/19577 (98%)]\tLoss: 0.005803\n",
      "\n",
      "Train loss: 0.006965003125110848\n"
     ]
    },
    {
     "name": "stderr",
     "output_type": "stream",
     "text": [
      "\r",
      " 89%|████████▉ | 446/500 [1:02:13<07:52,  8.74s/it]"
     ]
    },
    {
     "name": "stdout",
     "output_type": "stream",
     "text": [
      "Test on 1143 samples\n",
      "R^2: -0.12\n",
      "Test Loss: 1.61%\n",
      "Train Epoch: 447 [0/19577 (0%)]\tLoss: 0.005820\n",
      "Train Epoch: 447 [3200/19577 (16%)]\tLoss: 0.006522\n",
      "Train Epoch: 447 [6400/19577 (33%)]\tLoss: 0.007376\n",
      "Train Epoch: 447 [9600/19577 (49%)]\tLoss: 0.004710\n",
      "Train Epoch: 447 [12800/19577 (65%)]\tLoss: 0.005218\n",
      "Train Epoch: 447 [16000/19577 (82%)]\tLoss: 0.004049\n",
      "Train Epoch: 447 [19200/19577 (98%)]\tLoss: 0.003516\n",
      "\n",
      "Train loss: 0.006956758351960019\n"
     ]
    },
    {
     "name": "stderr",
     "output_type": "stream",
     "text": [
      "\r",
      " 89%|████████▉ | 447/500 [1:02:20<07:18,  8.27s/it]"
     ]
    },
    {
     "name": "stdout",
     "output_type": "stream",
     "text": [
      "Test on 1143 samples\n",
      "R^2: -0.86\n",
      "Test Loss: 1.61%\n",
      "Train Epoch: 448 [0/19577 (0%)]\tLoss: 0.002763\n",
      "Train Epoch: 448 [3200/19577 (16%)]\tLoss: 0.008741\n",
      "Train Epoch: 448 [6400/19577 (33%)]\tLoss: 0.006401\n",
      "Train Epoch: 448 [9600/19577 (49%)]\tLoss: 0.011435\n",
      "Train Epoch: 448 [12800/19577 (65%)]\tLoss: 0.003909\n",
      "Train Epoch: 448 [16000/19577 (82%)]\tLoss: 0.003238\n",
      "Train Epoch: 448 [19200/19577 (98%)]\tLoss: 0.004542\n",
      "\n",
      "Train loss: 0.006940900172743021\n"
     ]
    },
    {
     "name": "stderr",
     "output_type": "stream",
     "text": [
      "\r",
      " 90%|████████▉ | 448/500 [1:02:28<07:07,  8.22s/it]"
     ]
    },
    {
     "name": "stdout",
     "output_type": "stream",
     "text": [
      "Test on 1143 samples\n",
      "R^2: -0.12\n",
      "Test Loss: 1.61%\n",
      "Train Epoch: 449 [0/19577 (0%)]\tLoss: 0.014931\n",
      "Train Epoch: 449 [3200/19577 (16%)]\tLoss: 0.003992\n",
      "Train Epoch: 449 [6400/19577 (33%)]\tLoss: 0.004480\n",
      "Train Epoch: 449 [9600/19577 (49%)]\tLoss: 0.003803\n",
      "Train Epoch: 449 [12800/19577 (65%)]\tLoss: 0.005694\n",
      "Train Epoch: 449 [16000/19577 (82%)]\tLoss: 0.005211\n",
      "Train Epoch: 449 [19200/19577 (98%)]\tLoss: 0.002886\n",
      "\n",
      "Train loss: 0.006928815470637109\n"
     ]
    },
    {
     "name": "stderr",
     "output_type": "stream",
     "text": [
      "\r",
      " 90%|████████▉ | 449/500 [1:02:35<06:42,  7.88s/it]"
     ]
    },
    {
     "name": "stdout",
     "output_type": "stream",
     "text": [
      "Test on 1143 samples\n",
      "R^2: -0.26\n",
      "Test Loss: 1.62%\n",
      "Train Epoch: 450 [0/19577 (0%)]\tLoss: 0.004930\n",
      "Train Epoch: 450 [3200/19577 (16%)]\tLoss: 0.002369\n",
      "Train Epoch: 450 [6400/19577 (33%)]\tLoss: 0.011741\n",
      "Train Epoch: 450 [9600/19577 (49%)]\tLoss: 0.004901\n",
      "Train Epoch: 450 [12800/19577 (65%)]\tLoss: 0.004208\n",
      "Train Epoch: 450 [16000/19577 (82%)]\tLoss: 0.006516\n",
      "Train Epoch: 450 [19200/19577 (98%)]\tLoss: 0.006274\n",
      "\n",
      "Train loss: 0.006932263629316212\n"
     ]
    },
    {
     "name": "stderr",
     "output_type": "stream",
     "text": [
      "\r",
      " 90%|█████████ | 450/500 [1:02:42<06:21,  7.63s/it]"
     ]
    },
    {
     "name": "stdout",
     "output_type": "stream",
     "text": [
      "Test on 1143 samples\n",
      "R^2: -0.05\n",
      "Test Loss: 1.60%\n",
      "Train Epoch: 451 [0/19577 (0%)]\tLoss: 0.005632\n",
      "Train Epoch: 451 [3200/19577 (16%)]\tLoss: 0.002675\n",
      "Train Epoch: 451 [6400/19577 (33%)]\tLoss: 0.005406\n",
      "Train Epoch: 451 [9600/19577 (49%)]\tLoss: 0.004934\n",
      "Train Epoch: 451 [12800/19577 (65%)]\tLoss: 0.006337\n",
      "Train Epoch: 451 [16000/19577 (82%)]\tLoss: 0.004569\n",
      "Train Epoch: 451 [19200/19577 (98%)]\tLoss: 0.001872\n",
      "\n",
      "Train loss: 0.00692313568121784\n"
     ]
    },
    {
     "name": "stderr",
     "output_type": "stream",
     "text": [
      "\r",
      " 90%|█████████ | 451/500 [1:02:49<06:03,  7.42s/it]"
     ]
    },
    {
     "name": "stdout",
     "output_type": "stream",
     "text": [
      "Test on 1143 samples\n",
      "R^2: -4.77\n",
      "Test Loss: 1.64%\n",
      "Train Epoch: 452 [0/19577 (0%)]\tLoss: 0.006711\n",
      "Train Epoch: 452 [3200/19577 (16%)]\tLoss: 0.005603\n",
      "Train Epoch: 452 [6400/19577 (33%)]\tLoss: 0.007614\n",
      "Train Epoch: 452 [9600/19577 (49%)]\tLoss: 0.007109\n",
      "Train Epoch: 452 [12800/19577 (65%)]\tLoss: 0.008094\n",
      "Train Epoch: 452 [16000/19577 (82%)]\tLoss: 0.004059\n",
      "Train Epoch: 452 [19200/19577 (98%)]\tLoss: 0.006467\n",
      "\n",
      "Train loss: 0.006914123796532235\n"
     ]
    },
    {
     "name": "stderr",
     "output_type": "stream",
     "text": [
      "\r",
      " 90%|█████████ | 452/500 [1:02:56<05:50,  7.30s/it]"
     ]
    },
    {
     "name": "stdout",
     "output_type": "stream",
     "text": [
      "Test on 1143 samples\n",
      "R^2: 0.04\n",
      "Test Loss: 1.61%\n",
      "Train Epoch: 453 [0/19577 (0%)]\tLoss: 0.004648\n",
      "Train Epoch: 453 [3200/19577 (16%)]\tLoss: 0.007651\n",
      "Train Epoch: 453 [6400/19577 (33%)]\tLoss: 0.007518\n",
      "Train Epoch: 453 [9600/19577 (49%)]\tLoss: 0.007026\n",
      "Train Epoch: 453 [12800/19577 (65%)]\tLoss: 0.006461\n",
      "Train Epoch: 453 [16000/19577 (82%)]\tLoss: 0.002084\n",
      "Train Epoch: 453 [19200/19577 (98%)]\tLoss: 0.003419\n",
      "\n",
      "Train loss: 0.006926005000851172\n"
     ]
    },
    {
     "name": "stderr",
     "output_type": "stream",
     "text": [
      "\r",
      " 91%|█████████ | 453/500 [1:03:03<05:38,  7.20s/it]"
     ]
    },
    {
     "name": "stdout",
     "output_type": "stream",
     "text": [
      "Test on 1143 samples\n",
      "R^2: -0.14\n",
      "Test Loss: 1.60%\n",
      "Train Epoch: 454 [0/19577 (0%)]\tLoss: 0.004817\n",
      "Train Epoch: 454 [3200/19577 (16%)]\tLoss: 0.005949\n",
      "Train Epoch: 454 [6400/19577 (33%)]\tLoss: 0.011118\n",
      "Train Epoch: 454 [9600/19577 (49%)]\tLoss: 0.006361\n",
      "Train Epoch: 454 [12800/19577 (65%)]\tLoss: 0.003205\n",
      "Train Epoch: 454 [16000/19577 (82%)]\tLoss: 0.004316\n",
      "Train Epoch: 454 [19200/19577 (98%)]\tLoss: 0.003749\n",
      "\n",
      "Train loss: 0.006923598723540849\n"
     ]
    },
    {
     "name": "stderr",
     "output_type": "stream",
     "text": [
      "\r",
      " 91%|█████████ | 454/500 [1:03:11<05:36,  7.31s/it]"
     ]
    },
    {
     "name": "stdout",
     "output_type": "stream",
     "text": [
      "Test on 1143 samples\n",
      "R^2: -1.17\n",
      "Test Loss: 1.61%\n",
      "Train Epoch: 455 [0/19577 (0%)]\tLoss: 0.004111\n",
      "Train Epoch: 455 [3200/19577 (16%)]\tLoss: 0.009861\n",
      "Train Epoch: 455 [6400/19577 (33%)]\tLoss: 0.004760\n",
      "Train Epoch: 455 [9600/19577 (49%)]\tLoss: 0.005490\n",
      "Train Epoch: 455 [12800/19577 (65%)]\tLoss: 0.009432\n",
      "Train Epoch: 455 [16000/19577 (82%)]\tLoss: 0.005536\n",
      "Train Epoch: 455 [19200/19577 (98%)]\tLoss: 0.002907\n",
      "\n",
      "Train loss: 0.006914381821962451\n"
     ]
    },
    {
     "name": "stderr",
     "output_type": "stream",
     "text": [
      "\r",
      " 91%|█████████ | 455/500 [1:03:18<05:28,  7.30s/it]"
     ]
    },
    {
     "name": "stdout",
     "output_type": "stream",
     "text": [
      "Test on 1143 samples\n",
      "R^2: -0.00\n",
      "Test Loss: 1.61%\n",
      "Train Epoch: 456 [0/19577 (0%)]\tLoss: 0.004272\n",
      "Train Epoch: 456 [3200/19577 (16%)]\tLoss: 0.002726\n",
      "Train Epoch: 456 [6400/19577 (33%)]\tLoss: 0.002766\n",
      "Train Epoch: 456 [9600/19577 (49%)]\tLoss: 0.007085\n",
      "Train Epoch: 456 [12800/19577 (65%)]\tLoss: 0.006204\n",
      "Train Epoch: 456 [16000/19577 (82%)]\tLoss: 0.010429\n",
      "Train Epoch: 456 [19200/19577 (98%)]\tLoss: 0.005525\n",
      "\n",
      "Train loss: 0.006933795724952825\n"
     ]
    },
    {
     "name": "stderr",
     "output_type": "stream",
     "text": [
      "\r",
      " 91%|█████████ | 456/500 [1:03:25<05:18,  7.23s/it]"
     ]
    },
    {
     "name": "stdout",
     "output_type": "stream",
     "text": [
      "Test on 1143 samples\n",
      "R^2: -3.13\n",
      "Test Loss: 1.63%\n",
      "Train Epoch: 457 [0/19577 (0%)]\tLoss: 0.004628\n",
      "Train Epoch: 457 [3200/19577 (16%)]\tLoss: 0.005262\n",
      "Train Epoch: 457 [6400/19577 (33%)]\tLoss: 0.004261\n",
      "Train Epoch: 457 [9600/19577 (49%)]\tLoss: 0.006474\n",
      "Train Epoch: 457 [12800/19577 (65%)]\tLoss: 0.005825\n",
      "Train Epoch: 457 [16000/19577 (82%)]\tLoss: 0.003973\n",
      "Train Epoch: 457 [19200/19577 (98%)]\tLoss: 0.004087\n",
      "\n",
      "Train loss: 0.006934932788782235\n"
     ]
    },
    {
     "name": "stderr",
     "output_type": "stream",
     "text": [
      "\r",
      " 91%|█████████▏| 457/500 [1:03:32<05:12,  7.28s/it]"
     ]
    },
    {
     "name": "stdout",
     "output_type": "stream",
     "text": [
      "Test on 1143 samples\n",
      "R^2: -0.15\n",
      "Test Loss: 1.61%\n",
      "Train Epoch: 458 [0/19577 (0%)]\tLoss: 0.007315\n",
      "Train Epoch: 458 [3200/19577 (16%)]\tLoss: 0.005566\n",
      "Train Epoch: 458 [6400/19577 (33%)]\tLoss: 0.005966\n",
      "Train Epoch: 458 [9600/19577 (49%)]\tLoss: 0.008263\n",
      "Train Epoch: 458 [12800/19577 (65%)]\tLoss: 0.006182\n",
      "Train Epoch: 458 [16000/19577 (82%)]\tLoss: 0.006219\n",
      "Train Epoch: 458 [19200/19577 (98%)]\tLoss: 0.005610\n",
      "\n",
      "Train loss: 0.006938224126511783\n"
     ]
    },
    {
     "name": "stderr",
     "output_type": "stream",
     "text": [
      "\r",
      " 92%|█████████▏| 458/500 [1:03:40<05:04,  7.26s/it]"
     ]
    },
    {
     "name": "stdout",
     "output_type": "stream",
     "text": [
      "Test on 1143 samples\n",
      "R^2: 0.00\n",
      "Test Loss: 1.60%\n",
      "Train Epoch: 459 [0/19577 (0%)]\tLoss: 0.013094\n",
      "Train Epoch: 459 [3200/19577 (16%)]\tLoss: 0.004875\n",
      "Train Epoch: 459 [6400/19577 (33%)]\tLoss: 0.006071\n",
      "Train Epoch: 459 [9600/19577 (49%)]\tLoss: 0.004772\n",
      "Train Epoch: 459 [12800/19577 (65%)]\tLoss: 0.003726\n",
      "Train Epoch: 459 [16000/19577 (82%)]\tLoss: 0.004054\n",
      "Train Epoch: 459 [19200/19577 (98%)]\tLoss: 0.007696\n",
      "\n",
      "Train loss: 0.006917802372329497\n"
     ]
    },
    {
     "name": "stderr",
     "output_type": "stream",
     "text": [
      "\r",
      " 92%|█████████▏| 459/500 [1:03:47<04:59,  7.31s/it]"
     ]
    },
    {
     "name": "stdout",
     "output_type": "stream",
     "text": [
      "Test on 1143 samples\n",
      "R^2: -3.55\n",
      "Test Loss: 1.63%\n",
      "Train Epoch: 460 [0/19577 (0%)]\tLoss: 0.015870\n",
      "Train Epoch: 460 [3200/19577 (16%)]\tLoss: 0.006228\n",
      "Train Epoch: 460 [6400/19577 (33%)]\tLoss: 0.020891\n",
      "Train Epoch: 460 [9600/19577 (49%)]\tLoss: 0.323001\n",
      "Train Epoch: 460 [12800/19577 (65%)]\tLoss: 0.005186\n",
      "Train Epoch: 460 [16000/19577 (82%)]\tLoss: 0.006645\n",
      "Train Epoch: 460 [19200/19577 (98%)]\tLoss: 0.007775\n",
      "\n",
      "Train loss: 0.006919442384208559\n"
     ]
    },
    {
     "name": "stderr",
     "output_type": "stream",
     "text": [
      "\r",
      " 92%|█████████▏| 460/500 [1:03:56<05:09,  7.74s/it]"
     ]
    },
    {
     "name": "stdout",
     "output_type": "stream",
     "text": [
      "Test on 1143 samples\n",
      "R^2: -2.65\n",
      "Test Loss: 1.62%\n",
      "Train Epoch: 461 [0/19577 (0%)]\tLoss: 0.007151\n",
      "Train Epoch: 461 [3200/19577 (16%)]\tLoss: 0.005275\n",
      "Train Epoch: 461 [6400/19577 (33%)]\tLoss: 0.010756\n",
      "Train Epoch: 461 [9600/19577 (49%)]\tLoss: 0.005928\n",
      "Train Epoch: 461 [12800/19577 (65%)]\tLoss: 0.003113\n",
      "Train Epoch: 461 [16000/19577 (82%)]\tLoss: 0.008776\n",
      "Train Epoch: 461 [19200/19577 (98%)]\tLoss: 0.003563\n",
      "\n",
      "Train loss: 0.0069309064233523425\n"
     ]
    },
    {
     "name": "stderr",
     "output_type": "stream",
     "text": [
      "\r",
      " 92%|█████████▏| 461/500 [1:04:04<05:03,  7.77s/it]"
     ]
    },
    {
     "name": "stdout",
     "output_type": "stream",
     "text": [
      "Test on 1143 samples\n",
      "R^2: -1.42\n",
      "Test Loss: 1.63%\n",
      "Train Epoch: 462 [0/19577 (0%)]\tLoss: 0.004126\n",
      "Train Epoch: 462 [3200/19577 (16%)]\tLoss: 0.004875\n",
      "Train Epoch: 462 [6400/19577 (33%)]\tLoss: 0.008123\n",
      "Train Epoch: 462 [9600/19577 (49%)]\tLoss: 0.005793\n",
      "Train Epoch: 462 [12800/19577 (65%)]\tLoss: 0.004184\n",
      "Train Epoch: 462 [16000/19577 (82%)]\tLoss: 0.005117\n",
      "Train Epoch: 462 [19200/19577 (98%)]\tLoss: 0.006722\n",
      "\n",
      "Train loss: 0.006940537473959909\n"
     ]
    },
    {
     "name": "stderr",
     "output_type": "stream",
     "text": [
      "\r",
      " 92%|█████████▏| 462/500 [1:04:13<05:08,  8.11s/it]"
     ]
    },
    {
     "name": "stdout",
     "output_type": "stream",
     "text": [
      "Test on 1143 samples\n",
      "R^2: -0.20\n",
      "Test Loss: 1.60%\n",
      "Train Epoch: 463 [0/19577 (0%)]\tLoss: 0.004949\n",
      "Train Epoch: 463 [3200/19577 (16%)]\tLoss: 0.004904\n",
      "Train Epoch: 463 [6400/19577 (33%)]\tLoss: 0.006587\n",
      "Train Epoch: 463 [9600/19577 (49%)]\tLoss: 0.005417\n",
      "Train Epoch: 463 [12800/19577 (65%)]\tLoss: 0.007496\n",
      "Train Epoch: 463 [16000/19577 (82%)]\tLoss: 0.004521\n",
      "Train Epoch: 463 [19200/19577 (98%)]\tLoss: 0.004935\n",
      "\n",
      "Train loss: 0.006896533205149561\n"
     ]
    },
    {
     "name": "stderr",
     "output_type": "stream",
     "text": [
      "\r",
      " 93%|█████████▎| 463/500 [1:04:20<04:55,  7.99s/it]"
     ]
    },
    {
     "name": "stdout",
     "output_type": "stream",
     "text": [
      "Test on 1143 samples\n",
      "R^2: -0.46\n",
      "Test Loss: 1.62%\n",
      "Train Epoch: 464 [0/19577 (0%)]\tLoss: 0.006122\n",
      "Train Epoch: 464 [3200/19577 (16%)]\tLoss: 0.004512\n",
      "Train Epoch: 464 [6400/19577 (33%)]\tLoss: 0.004104\n",
      "Train Epoch: 464 [9600/19577 (49%)]\tLoss: 0.005993\n",
      "Train Epoch: 464 [12800/19577 (65%)]\tLoss: 0.006007\n",
      "Train Epoch: 464 [16000/19577 (82%)]\tLoss: 0.013742\n",
      "Train Epoch: 464 [19200/19577 (98%)]\tLoss: 0.004838\n",
      "\n",
      "Train loss: 0.00690646584486601\n"
     ]
    },
    {
     "name": "stderr",
     "output_type": "stream",
     "text": [
      "\r",
      " 93%|█████████▎| 464/500 [1:04:29<04:57,  8.27s/it]"
     ]
    },
    {
     "name": "stdout",
     "output_type": "stream",
     "text": [
      "Test on 1143 samples\n",
      "R^2: -0.30\n",
      "Test Loss: 1.60%\n",
      "Train Epoch: 465 [0/19577 (0%)]\tLoss: 0.008859\n",
      "Train Epoch: 465 [3200/19577 (16%)]\tLoss: 0.002567\n",
      "Train Epoch: 465 [6400/19577 (33%)]\tLoss: 0.002962\n",
      "Train Epoch: 465 [9600/19577 (49%)]\tLoss: 0.009677\n",
      "Train Epoch: 465 [12800/19577 (65%)]\tLoss: 0.003001\n",
      "Train Epoch: 465 [16000/19577 (82%)]\tLoss: 0.005478\n",
      "Train Epoch: 465 [19200/19577 (98%)]\tLoss: 0.003608\n",
      "\n",
      "Train loss: 0.006911746242990583\n"
     ]
    },
    {
     "name": "stderr",
     "output_type": "stream",
     "text": [
      "\r",
      " 93%|█████████▎| 465/500 [1:04:38<04:51,  8.33s/it]"
     ]
    },
    {
     "name": "stdout",
     "output_type": "stream",
     "text": [
      "Test on 1143 samples\n",
      "R^2: 0.01\n",
      "Test Loss: 1.61%\n",
      "Train Epoch: 466 [0/19577 (0%)]\tLoss: 0.003654\n",
      "Train Epoch: 466 [3200/19577 (16%)]\tLoss: 0.003781\n",
      "Train Epoch: 466 [6400/19577 (33%)]\tLoss: 0.014152\n",
      "Train Epoch: 466 [9600/19577 (49%)]\tLoss: 0.005029\n",
      "Train Epoch: 466 [12800/19577 (65%)]\tLoss: 0.006102\n",
      "Train Epoch: 466 [16000/19577 (82%)]\tLoss: 0.002829\n",
      "Train Epoch: 466 [19200/19577 (98%)]\tLoss: 0.006015\n",
      "\n",
      "Train loss: 0.006917633241791205\n"
     ]
    },
    {
     "name": "stderr",
     "output_type": "stream",
     "text": [
      "\r",
      " 93%|█████████▎| 466/500 [1:04:45<04:32,  8.02s/it]"
     ]
    },
    {
     "name": "stdout",
     "output_type": "stream",
     "text": [
      "Test on 1143 samples\n",
      "R^2: 0.01\n",
      "Test Loss: 1.60%\n",
      "Train Epoch: 467 [0/19577 (0%)]\tLoss: 0.007475\n",
      "Train Epoch: 467 [3200/19577 (16%)]\tLoss: 0.003611\n",
      "Train Epoch: 467 [6400/19577 (33%)]\tLoss: 0.010439\n",
      "Train Epoch: 467 [9600/19577 (49%)]\tLoss: 0.006655\n",
      "Train Epoch: 467 [12800/19577 (65%)]\tLoss: 0.008771\n",
      "Train Epoch: 467 [16000/19577 (82%)]\tLoss: 0.005671\n",
      "Train Epoch: 467 [19200/19577 (98%)]\tLoss: 0.004197\n",
      "\n",
      "Train loss: 0.006914018522080618\n"
     ]
    },
    {
     "name": "stderr",
     "output_type": "stream",
     "text": [
      "\r",
      " 93%|█████████▎| 467/500 [1:04:52<04:15,  7.74s/it]"
     ]
    },
    {
     "name": "stdout",
     "output_type": "stream",
     "text": [
      "Test on 1143 samples\n",
      "R^2: -1.50\n",
      "Test Loss: 1.61%\n",
      "Train Epoch: 468 [0/19577 (0%)]\tLoss: 0.004481\n",
      "Train Epoch: 468 [3200/19577 (16%)]\tLoss: 0.003125\n",
      "Train Epoch: 468 [6400/19577 (33%)]\tLoss: 0.003255\n",
      "Train Epoch: 468 [9600/19577 (49%)]\tLoss: 0.003964\n",
      "Train Epoch: 468 [12800/19577 (65%)]\tLoss: 0.005739\n",
      "Train Epoch: 468 [16000/19577 (82%)]\tLoss: 0.005272\n",
      "Train Epoch: 468 [19200/19577 (98%)]\tLoss: 0.008303\n",
      "\n",
      "Train loss: 0.006901373010086127\n"
     ]
    },
    {
     "name": "stderr",
     "output_type": "stream",
     "text": [
      "\r",
      " 94%|█████████▎| 468/500 [1:04:59<04:00,  7.51s/it]"
     ]
    },
    {
     "name": "stdout",
     "output_type": "stream",
     "text": [
      "Test on 1143 samples\n",
      "R^2: -0.72\n",
      "Test Loss: 1.60%\n",
      "Train Epoch: 469 [0/19577 (0%)]\tLoss: 0.003240\n",
      "Train Epoch: 469 [3200/19577 (16%)]\tLoss: 0.007552\n",
      "Train Epoch: 469 [6400/19577 (33%)]\tLoss: 0.004499\n",
      "Train Epoch: 469 [9600/19577 (49%)]\tLoss: 0.007311\n",
      "Train Epoch: 469 [12800/19577 (65%)]\tLoss: 0.003978\n",
      "Train Epoch: 469 [16000/19577 (82%)]\tLoss: 0.006250\n",
      "Train Epoch: 469 [19200/19577 (98%)]\tLoss: 0.006037\n",
      "\n",
      "Train loss: 0.006914457470616873\n"
     ]
    },
    {
     "name": "stderr",
     "output_type": "stream",
     "text": [
      "\r",
      " 94%|█████████▍| 469/500 [1:05:08<04:08,  8.01s/it]"
     ]
    },
    {
     "name": "stdout",
     "output_type": "stream",
     "text": [
      "Test on 1143 samples\n",
      "R^2: -0.75\n",
      "Test Loss: 1.60%\n",
      "Train Epoch: 470 [0/19577 (0%)]\tLoss: 0.003838\n",
      "Train Epoch: 470 [3200/19577 (16%)]\tLoss: 0.004479\n",
      "Train Epoch: 470 [6400/19577 (33%)]\tLoss: 0.003840\n",
      "Train Epoch: 470 [9600/19577 (49%)]\tLoss: 0.003066\n",
      "Train Epoch: 470 [12800/19577 (65%)]\tLoss: 0.003301\n",
      "Train Epoch: 470 [16000/19577 (82%)]\tLoss: 0.008839\n",
      "Train Epoch: 470 [19200/19577 (98%)]\tLoss: 0.007434\n",
      "\n",
      "Train loss: 0.006919884884173014\n"
     ]
    },
    {
     "name": "stderr",
     "output_type": "stream",
     "text": [
      "\r",
      " 94%|█████████▍| 470/500 [1:05:26<05:24, 10.82s/it]"
     ]
    },
    {
     "name": "stdout",
     "output_type": "stream",
     "text": [
      "Test on 1143 samples\n",
      "R^2: -0.72\n",
      "Test Loss: 1.62%\n",
      "Train Epoch: 471 [0/19577 (0%)]\tLoss: 0.005790\n",
      "Train Epoch: 471 [3200/19577 (16%)]\tLoss: 0.006996\n",
      "Train Epoch: 471 [6400/19577 (33%)]\tLoss: 0.004341\n",
      "Train Epoch: 471 [9600/19577 (49%)]\tLoss: 0.004985\n",
      "Train Epoch: 471 [12800/19577 (65%)]\tLoss: 0.008962\n",
      "Train Epoch: 471 [16000/19577 (82%)]\tLoss: 0.005755\n",
      "Train Epoch: 471 [19200/19577 (98%)]\tLoss: 0.003320\n",
      "\n",
      "Train loss: 0.006918283261577873\n"
     ]
    },
    {
     "name": "stderr",
     "output_type": "stream",
     "text": [
      "\r",
      " 94%|█████████▍| 471/500 [1:05:41<05:55, 12.27s/it]"
     ]
    },
    {
     "name": "stdout",
     "output_type": "stream",
     "text": [
      "Test on 1143 samples\n",
      "R^2: -0.03\n",
      "Test Loss: 1.60%\n",
      "Train Epoch: 472 [0/19577 (0%)]\tLoss: 0.005723\n",
      "Train Epoch: 472 [3200/19577 (16%)]\tLoss: 0.003478\n",
      "Train Epoch: 472 [6400/19577 (33%)]\tLoss: 0.018122\n",
      "Train Epoch: 472 [9600/19577 (49%)]\tLoss: 0.002638\n",
      "Train Epoch: 472 [12800/19577 (65%)]\tLoss: 0.009331\n",
      "Train Epoch: 472 [16000/19577 (82%)]\tLoss: 0.003182\n",
      "Train Epoch: 472 [19200/19577 (98%)]\tLoss: 0.003387\n",
      "\n",
      "Train loss: 0.00691951972468957\n"
     ]
    },
    {
     "name": "stderr",
     "output_type": "stream",
     "text": [
      "\r",
      " 94%|█████████▍| 472/500 [1:05:50<05:15, 11.26s/it]"
     ]
    },
    {
     "name": "stdout",
     "output_type": "stream",
     "text": [
      "Test on 1143 samples\n",
      "R^2: -0.74\n",
      "Test Loss: 1.62%\n",
      "Train Epoch: 473 [0/19577 (0%)]\tLoss: 0.003780\n",
      "Train Epoch: 473 [3200/19577 (16%)]\tLoss: 0.005012\n",
      "Train Epoch: 473 [6400/19577 (33%)]\tLoss: 0.003710\n",
      "Train Epoch: 473 [9600/19577 (49%)]\tLoss: 0.007282\n",
      "Train Epoch: 473 [12800/19577 (65%)]\tLoss: 0.007450\n",
      "Train Epoch: 473 [16000/19577 (82%)]\tLoss: 0.007398\n",
      "Train Epoch: 473 [19200/19577 (98%)]\tLoss: 0.005617\n",
      "\n",
      "Train loss: 0.006901508683773987\n"
     ]
    },
    {
     "name": "stderr",
     "output_type": "stream",
     "text": [
      "\r",
      " 95%|█████████▍| 473/500 [1:06:03<05:17, 11.76s/it]"
     ]
    },
    {
     "name": "stdout",
     "output_type": "stream",
     "text": [
      "Test on 1143 samples\n",
      "R^2: -0.08\n",
      "Test Loss: 1.60%\n",
      "Train Epoch: 474 [0/19577 (0%)]\tLoss: 0.005646\n",
      "Train Epoch: 474 [3200/19577 (16%)]\tLoss: 0.005257\n",
      "Train Epoch: 474 [6400/19577 (33%)]\tLoss: 0.003232\n",
      "Train Epoch: 474 [9600/19577 (49%)]\tLoss: 0.004175\n",
      "Train Epoch: 474 [12800/19577 (65%)]\tLoss: 0.006754\n",
      "Train Epoch: 474 [16000/19577 (82%)]\tLoss: 0.005224\n",
      "Train Epoch: 474 [19200/19577 (98%)]\tLoss: 0.002977\n",
      "\n",
      "Train loss: 0.006916466567001847\n"
     ]
    },
    {
     "name": "stderr",
     "output_type": "stream",
     "text": [
      "\r",
      " 95%|█████████▍| 474/500 [1:06:13<04:47, 11.06s/it]"
     ]
    },
    {
     "name": "stdout",
     "output_type": "stream",
     "text": [
      "Test on 1143 samples\n",
      "R^2: -0.49\n",
      "Test Loss: 1.62%\n",
      "Train Epoch: 475 [0/19577 (0%)]\tLoss: 0.003735\n",
      "Train Epoch: 475 [3200/19577 (16%)]\tLoss: 0.002785\n",
      "Train Epoch: 475 [6400/19577 (33%)]\tLoss: 0.003791\n",
      "Train Epoch: 475 [9600/19577 (49%)]\tLoss: 0.009138\n",
      "Train Epoch: 475 [12800/19577 (65%)]\tLoss: 0.007638\n",
      "Train Epoch: 475 [16000/19577 (82%)]\tLoss: 0.006287\n",
      "Train Epoch: 475 [19200/19577 (98%)]\tLoss: 0.005134\n",
      "\n",
      "Train loss: 0.006892512322272618\n"
     ]
    },
    {
     "name": "stderr",
     "output_type": "stream",
     "text": [
      "\r",
      " 95%|█████████▌| 475/500 [1:06:26<04:57, 11.90s/it]"
     ]
    },
    {
     "name": "stdout",
     "output_type": "stream",
     "text": [
      "Test on 1143 samples\n",
      "R^2: -0.10\n",
      "Test Loss: 1.61%\n",
      "Train Epoch: 476 [0/19577 (0%)]\tLoss: 0.003008\n",
      "Train Epoch: 476 [3200/19577 (16%)]\tLoss: 0.002235\n",
      "Train Epoch: 476 [6400/19577 (33%)]\tLoss: 0.008735\n",
      "Train Epoch: 476 [9600/19577 (49%)]\tLoss: 0.002084\n",
      "Train Epoch: 476 [12800/19577 (65%)]\tLoss: 0.006424\n",
      "Train Epoch: 476 [16000/19577 (82%)]\tLoss: 0.005101\n",
      "Train Epoch: 476 [19200/19577 (98%)]\tLoss: 0.005668\n",
      "\n",
      "Train loss: 0.006889131679534425\n"
     ]
    },
    {
     "name": "stderr",
     "output_type": "stream",
     "text": [
      "\r",
      " 95%|█████████▌| 476/500 [1:06:35<04:24, 11.02s/it]"
     ]
    },
    {
     "name": "stdout",
     "output_type": "stream",
     "text": [
      "Test on 1143 samples\n",
      "R^2: -0.10\n",
      "Test Loss: 1.59%\n",
      "Train Epoch: 477 [0/19577 (0%)]\tLoss: 0.003634\n",
      "Train Epoch: 477 [3200/19577 (16%)]\tLoss: 0.003851\n",
      "Train Epoch: 477 [6400/19577 (33%)]\tLoss: 0.004609\n",
      "Train Epoch: 477 [9600/19577 (49%)]\tLoss: 0.003978\n",
      "Train Epoch: 477 [12800/19577 (65%)]\tLoss: 0.003971\n",
      "Train Epoch: 477 [16000/19577 (82%)]\tLoss: 0.002722\n",
      "Train Epoch: 477 [19200/19577 (98%)]\tLoss: 0.004977\n",
      "\n",
      "Train loss: 0.006904908433462207\n"
     ]
    },
    {
     "name": "stderr",
     "output_type": "stream",
     "text": [
      "\r",
      " 95%|█████████▌| 477/500 [1:06:44<03:58, 10.35s/it]"
     ]
    },
    {
     "name": "stdout",
     "output_type": "stream",
     "text": [
      "Test on 1143 samples\n",
      "R^2: -0.53\n",
      "Test Loss: 1.60%\n",
      "Train Epoch: 478 [0/19577 (0%)]\tLoss: 0.003418\n",
      "Train Epoch: 478 [3200/19577 (16%)]\tLoss: 0.009136\n",
      "Train Epoch: 478 [6400/19577 (33%)]\tLoss: 0.004493\n",
      "Train Epoch: 478 [9600/19577 (49%)]\tLoss: 0.006182\n",
      "Train Epoch: 478 [12800/19577 (65%)]\tLoss: 0.004332\n",
      "Train Epoch: 478 [16000/19577 (82%)]\tLoss: 0.003441\n",
      "Train Epoch: 478 [19200/19577 (98%)]\tLoss: 0.008056\n",
      "\n",
      "Train loss: 0.006910794445395689\n"
     ]
    },
    {
     "name": "stderr",
     "output_type": "stream",
     "text": [
      "\r",
      " 96%|█████████▌| 478/500 [1:06:53<03:40, 10.03s/it]"
     ]
    },
    {
     "name": "stdout",
     "output_type": "stream",
     "text": [
      "Test on 1143 samples\n",
      "R^2: -0.80\n",
      "Test Loss: 1.60%\n",
      "Train Epoch: 479 [0/19577 (0%)]\tLoss: 0.004590\n",
      "Train Epoch: 479 [3200/19577 (16%)]\tLoss: 0.006745\n",
      "Train Epoch: 479 [6400/19577 (33%)]\tLoss: 0.004373\n",
      "Train Epoch: 479 [9600/19577 (49%)]\tLoss: 0.006488\n",
      "Train Epoch: 479 [12800/19577 (65%)]\tLoss: 0.004922\n",
      "Train Epoch: 479 [16000/19577 (82%)]\tLoss: 0.003853\n",
      "Train Epoch: 479 [19200/19577 (98%)]\tLoss: 0.004626\n",
      "\n",
      "Train loss: 0.006891967638949651\n"
     ]
    },
    {
     "name": "stderr",
     "output_type": "stream",
     "text": [
      "\r",
      " 96%|█████████▌| 479/500 [1:07:03<03:25,  9.80s/it]"
     ]
    },
    {
     "name": "stdout",
     "output_type": "stream",
     "text": [
      "Test on 1143 samples\n",
      "R^2: -0.48\n",
      "Test Loss: 1.60%\n",
      "Train Epoch: 480 [0/19577 (0%)]\tLoss: 0.005243\n",
      "Train Epoch: 480 [3200/19577 (16%)]\tLoss: 0.003361\n",
      "Train Epoch: 480 [6400/19577 (33%)]\tLoss: 0.004667\n",
      "Train Epoch: 480 [9600/19577 (49%)]\tLoss: 0.006190\n",
      "Train Epoch: 480 [12800/19577 (65%)]\tLoss: 0.006492\n",
      "Train Epoch: 480 [16000/19577 (82%)]\tLoss: 0.008358\n",
      "Train Epoch: 480 [19200/19577 (98%)]\tLoss: 0.005254\n",
      "\n",
      "Train loss: 0.0068899104177641375\n"
     ]
    },
    {
     "name": "stderr",
     "output_type": "stream",
     "text": [
      "\r",
      " 96%|█████████▌| 480/500 [1:07:11<03:04,  9.23s/it]"
     ]
    },
    {
     "name": "stdout",
     "output_type": "stream",
     "text": [
      "Test on 1143 samples\n",
      "R^2: 0.01\n",
      "Test Loss: 1.60%\n",
      "Train Epoch: 481 [0/19577 (0%)]\tLoss: 0.004595\n",
      "Train Epoch: 481 [3200/19577 (16%)]\tLoss: 0.005068\n",
      "Train Epoch: 481 [6400/19577 (33%)]\tLoss: 0.011202\n",
      "Train Epoch: 481 [9600/19577 (49%)]\tLoss: 0.005296\n",
      "Train Epoch: 481 [12800/19577 (65%)]\tLoss: 0.006016\n",
      "Train Epoch: 481 [16000/19577 (82%)]\tLoss: 0.004125\n",
      "Train Epoch: 481 [19200/19577 (98%)]\tLoss: 0.003727\n",
      "\n",
      "Train loss: 0.0069045259760315315\n"
     ]
    },
    {
     "name": "stderr",
     "output_type": "stream",
     "text": [
      "\r",
      " 96%|█████████▌| 481/500 [1:07:19<02:51,  9.02s/it]"
     ]
    },
    {
     "name": "stdout",
     "output_type": "stream",
     "text": [
      "Test on 1143 samples\n",
      "R^2: -0.01\n",
      "Test Loss: 1.60%\n",
      "Train Epoch: 482 [0/19577 (0%)]\tLoss: 0.006637\n",
      "Train Epoch: 482 [3200/19577 (16%)]\tLoss: 0.005513\n",
      "Train Epoch: 482 [6400/19577 (33%)]\tLoss: 0.004311\n",
      "Train Epoch: 482 [9600/19577 (49%)]\tLoss: 0.002993\n",
      "Train Epoch: 482 [12800/19577 (65%)]\tLoss: 0.005472\n",
      "Train Epoch: 482 [16000/19577 (82%)]\tLoss: 0.003039\n",
      "Train Epoch: 482 [19200/19577 (98%)]\tLoss: 0.005789\n",
      "\n",
      "Train loss: 0.006906961448478446\n"
     ]
    },
    {
     "name": "stderr",
     "output_type": "stream",
     "text": [
      "\r",
      " 96%|█████████▋| 482/500 [1:07:27<02:37,  8.76s/it]"
     ]
    },
    {
     "name": "stdout",
     "output_type": "stream",
     "text": [
      "Test on 1143 samples\n",
      "R^2: -0.21\n",
      "Test Loss: 1.61%\n",
      "Train Epoch: 483 [0/19577 (0%)]\tLoss: 0.009491\n",
      "Train Epoch: 483 [3200/19577 (16%)]\tLoss: 0.005441\n",
      "Train Epoch: 483 [6400/19577 (33%)]\tLoss: 0.004257\n",
      "Train Epoch: 483 [9600/19577 (49%)]\tLoss: 0.007915\n",
      "Train Epoch: 483 [12800/19577 (65%)]\tLoss: 0.004932\n",
      "Train Epoch: 483 [16000/19577 (82%)]\tLoss: 0.011782\n",
      "Train Epoch: 483 [19200/19577 (98%)]\tLoss: 0.003632\n",
      "\n",
      "Train loss: 0.006883315820006495\n"
     ]
    },
    {
     "name": "stderr",
     "output_type": "stream",
     "text": [
      "\r",
      " 97%|█████████▋| 483/500 [1:07:40<02:49, 10.00s/it]"
     ]
    },
    {
     "name": "stdout",
     "output_type": "stream",
     "text": [
      "Test on 1143 samples\n",
      "R^2: -0.26\n",
      "Test Loss: 1.60%\n",
      "Train Epoch: 484 [0/19577 (0%)]\tLoss: 0.003741\n",
      "Train Epoch: 484 [3200/19577 (16%)]\tLoss: 0.003449\n",
      "Train Epoch: 484 [6400/19577 (33%)]\tLoss: 0.004975\n",
      "Train Epoch: 484 [9600/19577 (49%)]\tLoss: 0.002968\n",
      "Train Epoch: 484 [12800/19577 (65%)]\tLoss: 0.004018\n",
      "Train Epoch: 484 [16000/19577 (82%)]\tLoss: 0.003338\n",
      "Train Epoch: 484 [19200/19577 (98%)]\tLoss: 0.003439\n",
      "\n",
      "Train loss: 0.006880200212727014\n"
     ]
    },
    {
     "name": "stderr",
     "output_type": "stream",
     "text": [
      "\r",
      " 97%|█████████▋| 484/500 [1:07:50<02:39,  9.99s/it]"
     ]
    },
    {
     "name": "stdout",
     "output_type": "stream",
     "text": [
      "Test on 1143 samples\n",
      "R^2: -0.62\n",
      "Test Loss: 1.62%\n",
      "Train Epoch: 485 [0/19577 (0%)]\tLoss: 0.007213\n",
      "Train Epoch: 485 [3200/19577 (16%)]\tLoss: 0.003008\n",
      "Train Epoch: 485 [6400/19577 (33%)]\tLoss: 0.005084\n",
      "Train Epoch: 485 [9600/19577 (49%)]\tLoss: 0.010166\n",
      "Train Epoch: 485 [12800/19577 (65%)]\tLoss: 0.007422\n",
      "Train Epoch: 485 [16000/19577 (82%)]\tLoss: 0.005912\n",
      "Train Epoch: 485 [19200/19577 (98%)]\tLoss: 0.005014\n",
      "\n",
      "Train loss: 0.0068942553514395565\n"
     ]
    },
    {
     "name": "stderr",
     "output_type": "stream",
     "text": [
      "\r",
      " 97%|█████████▋| 485/500 [1:07:58<02:20,  9.34s/it]"
     ]
    },
    {
     "name": "stdout",
     "output_type": "stream",
     "text": [
      "Test on 1143 samples\n",
      "R^2: -0.33\n",
      "Test Loss: 1.61%\n",
      "Train Epoch: 486 [0/19577 (0%)]\tLoss: 0.005747\n",
      "Train Epoch: 486 [3200/19577 (16%)]\tLoss: 0.003237\n",
      "Train Epoch: 486 [6400/19577 (33%)]\tLoss: 0.002500\n",
      "Train Epoch: 486 [9600/19577 (49%)]\tLoss: 0.005367\n",
      "Train Epoch: 486 [12800/19577 (65%)]\tLoss: 0.009080\n",
      "Train Epoch: 486 [16000/19577 (82%)]\tLoss: 0.003433\n",
      "Train Epoch: 486 [19200/19577 (98%)]\tLoss: 0.004212\n",
      "\n",
      "Train loss: 0.0068911403144429765\n"
     ]
    },
    {
     "name": "stderr",
     "output_type": "stream",
     "text": [
      "\r",
      " 97%|█████████▋| 486/500 [1:08:06<02:03,  8.82s/it]"
     ]
    },
    {
     "name": "stdout",
     "output_type": "stream",
     "text": [
      "Test on 1143 samples\n",
      "R^2: -0.33\n",
      "Test Loss: 1.61%\n",
      "Train Epoch: 487 [0/19577 (0%)]\tLoss: 0.007444\n",
      "Train Epoch: 487 [3200/19577 (16%)]\tLoss: 0.005300\n",
      "Train Epoch: 487 [6400/19577 (33%)]\tLoss: 0.005000\n",
      "Train Epoch: 487 [9600/19577 (49%)]\tLoss: 0.005625\n",
      "Train Epoch: 487 [12800/19577 (65%)]\tLoss: 0.002968\n",
      "Train Epoch: 487 [16000/19577 (82%)]\tLoss: 0.006384\n",
      "Train Epoch: 487 [19200/19577 (98%)]\tLoss: 0.005343\n",
      "\n",
      "Train loss: 0.006895726240008729\n"
     ]
    },
    {
     "name": "stderr",
     "output_type": "stream",
     "text": [
      "\r",
      " 97%|█████████▋| 487/500 [1:08:14<01:51,  8.57s/it]"
     ]
    },
    {
     "name": "stdout",
     "output_type": "stream",
     "text": [
      "Test on 1143 samples\n",
      "R^2: -0.47\n",
      "Test Loss: 1.61%\n",
      "Train Epoch: 488 [0/19577 (0%)]\tLoss: 0.006198\n",
      "Train Epoch: 488 [3200/19577 (16%)]\tLoss: 0.002674\n",
      "Train Epoch: 488 [6400/19577 (33%)]\tLoss: 0.009169\n",
      "Train Epoch: 488 [9600/19577 (49%)]\tLoss: 0.005667\n",
      "Train Epoch: 488 [12800/19577 (65%)]\tLoss: 0.007311\n",
      "Train Epoch: 488 [16000/19577 (82%)]\tLoss: 0.007036\n",
      "Train Epoch: 488 [19200/19577 (98%)]\tLoss: 0.007295\n",
      "\n",
      "Train loss: 0.006887450700114463\n"
     ]
    },
    {
     "name": "stderr",
     "output_type": "stream",
     "text": [
      "\r",
      " 98%|█████████▊| 488/500 [1:08:22<01:41,  8.43s/it]"
     ]
    },
    {
     "name": "stdout",
     "output_type": "stream",
     "text": [
      "Test on 1143 samples\n",
      "R^2: -0.02\n",
      "Test Loss: 1.61%\n",
      "Train Epoch: 489 [0/19577 (0%)]\tLoss: 0.002709\n",
      "Train Epoch: 489 [3200/19577 (16%)]\tLoss: 0.004828\n",
      "Train Epoch: 489 [6400/19577 (33%)]\tLoss: 0.007292\n",
      "Train Epoch: 489 [9600/19577 (49%)]\tLoss: 0.007763\n",
      "Train Epoch: 489 [12800/19577 (65%)]\tLoss: 0.003517\n",
      "Train Epoch: 489 [16000/19577 (82%)]\tLoss: 0.003357\n",
      "Train Epoch: 489 [19200/19577 (98%)]\tLoss: 0.003439\n",
      "\n",
      "Train loss: 0.006877713291555814\n"
     ]
    },
    {
     "name": "stderr",
     "output_type": "stream",
     "text": [
      "\r",
      " 98%|█████████▊| 489/500 [1:08:31<01:35,  8.68s/it]"
     ]
    },
    {
     "name": "stdout",
     "output_type": "stream",
     "text": [
      "Test on 1143 samples\n",
      "R^2: -1.42\n",
      "Test Loss: 1.60%\n",
      "Train Epoch: 490 [0/19577 (0%)]\tLoss: 0.039113\n",
      "Train Epoch: 490 [3200/19577 (16%)]\tLoss: 0.007153\n",
      "Train Epoch: 490 [6400/19577 (33%)]\tLoss: 0.003443\n",
      "Train Epoch: 490 [9600/19577 (49%)]\tLoss: 0.011452\n",
      "Train Epoch: 490 [12800/19577 (65%)]\tLoss: 0.005728\n",
      "Train Epoch: 490 [16000/19577 (82%)]\tLoss: 0.009463\n",
      "Train Epoch: 490 [19200/19577 (98%)]\tLoss: 0.007817\n",
      "\n",
      "Train loss: 0.0068672515647455416\n"
     ]
    },
    {
     "name": "stderr",
     "output_type": "stream",
     "text": [
      "\r",
      " 98%|█████████▊| 490/500 [1:08:39<01:24,  8.44s/it]"
     ]
    },
    {
     "name": "stdout",
     "output_type": "stream",
     "text": [
      "Test on 1143 samples\n",
      "R^2: -0.37\n",
      "Test Loss: 1.60%\n",
      "Train Epoch: 491 [0/19577 (0%)]\tLoss: 0.005062\n",
      "Train Epoch: 491 [3200/19577 (16%)]\tLoss: 0.003667\n",
      "Train Epoch: 491 [6400/19577 (33%)]\tLoss: 0.004262\n",
      "Train Epoch: 491 [9600/19577 (49%)]\tLoss: 0.004354\n",
      "Train Epoch: 491 [12800/19577 (65%)]\tLoss: 0.003541\n",
      "Train Epoch: 491 [16000/19577 (82%)]\tLoss: 0.007701\n",
      "Train Epoch: 491 [19200/19577 (98%)]\tLoss: 0.007856\n",
      "\n",
      "Train loss: 0.00687181245226693\n"
     ]
    },
    {
     "name": "stderr",
     "output_type": "stream",
     "text": [
      "\r",
      " 98%|█████████▊| 491/500 [1:08:47<01:16,  8.51s/it]"
     ]
    },
    {
     "name": "stdout",
     "output_type": "stream",
     "text": [
      "Test on 1143 samples\n",
      "R^2: -3.33\n",
      "Test Loss: 1.62%\n",
      "Train Epoch: 492 [0/19577 (0%)]\tLoss: 0.004253\n",
      "Train Epoch: 492 [3200/19577 (16%)]\tLoss: 0.003434\n",
      "Train Epoch: 492 [6400/19577 (33%)]\tLoss: 0.004883\n",
      "Train Epoch: 492 [9600/19577 (49%)]\tLoss: 0.007222\n",
      "Train Epoch: 492 [12800/19577 (65%)]\tLoss: 0.003987\n",
      "Train Epoch: 492 [16000/19577 (82%)]\tLoss: 0.003449\n",
      "Train Epoch: 492 [19200/19577 (98%)]\tLoss: 0.005178\n",
      "\n",
      "Train loss: 0.0068765815657113065\n"
     ]
    },
    {
     "name": "stderr",
     "output_type": "stream",
     "text": [
      "\r",
      " 98%|█████████▊| 492/500 [1:08:56<01:08,  8.55s/it]"
     ]
    },
    {
     "name": "stdout",
     "output_type": "stream",
     "text": [
      "Test on 1143 samples\n",
      "R^2: -1.79\n",
      "Test Loss: 1.64%\n",
      "Train Epoch: 493 [0/19577 (0%)]\tLoss: 0.005252\n",
      "Train Epoch: 493 [3200/19577 (16%)]\tLoss: 0.004499\n",
      "Train Epoch: 493 [6400/19577 (33%)]\tLoss: 0.005705\n",
      "Train Epoch: 493 [9600/19577 (49%)]\tLoss: 0.002674\n",
      "Train Epoch: 493 [12800/19577 (65%)]\tLoss: 0.006370\n",
      "Train Epoch: 493 [16000/19577 (82%)]\tLoss: 0.006644\n",
      "Train Epoch: 493 [19200/19577 (98%)]\tLoss: 0.005927\n",
      "\n",
      "Train loss: 0.00690111917104219\n"
     ]
    },
    {
     "name": "stderr",
     "output_type": "stream",
     "text": [
      "\r",
      " 99%|█████████▊| 493/500 [1:09:13<01:18, 11.18s/it]"
     ]
    },
    {
     "name": "stdout",
     "output_type": "stream",
     "text": [
      "Test on 1143 samples\n",
      "R^2: -1.03\n",
      "Test Loss: 1.60%\n",
      "Train Epoch: 494 [0/19577 (0%)]\tLoss: 0.004666\n",
      "Train Epoch: 494 [3200/19577 (16%)]\tLoss: 0.006707\n",
      "Train Epoch: 494 [6400/19577 (33%)]\tLoss: 0.008874\n",
      "Train Epoch: 494 [9600/19577 (49%)]\tLoss: 0.005521\n",
      "Train Epoch: 494 [12800/19577 (65%)]\tLoss: 0.004679\n",
      "Train Epoch: 494 [16000/19577 (82%)]\tLoss: 0.006332\n",
      "Train Epoch: 494 [19200/19577 (98%)]\tLoss: 0.007512\n",
      "\n",
      "Train loss: 0.006860626799440973\n"
     ]
    },
    {
     "name": "stderr",
     "output_type": "stream",
     "text": [
      "\r",
      " 99%|█████████▉| 494/500 [1:09:24<01:06, 11.07s/it]"
     ]
    },
    {
     "name": "stdout",
     "output_type": "stream",
     "text": [
      "Test on 1143 samples\n",
      "R^2: 0.05\n",
      "Test Loss: 1.61%\n",
      "Train Epoch: 495 [0/19577 (0%)]\tLoss: 0.002821\n",
      "Train Epoch: 495 [3200/19577 (16%)]\tLoss: 0.003992\n",
      "Train Epoch: 495 [6400/19577 (33%)]\tLoss: 0.010810\n",
      "Train Epoch: 495 [9600/19577 (49%)]\tLoss: 0.004590\n",
      "Train Epoch: 495 [12800/19577 (65%)]\tLoss: 0.009009\n",
      "Train Epoch: 495 [16000/19577 (82%)]\tLoss: 0.004969\n",
      "Train Epoch: 495 [19200/19577 (98%)]\tLoss: 0.004180\n",
      "\n",
      "Train loss: 0.0068799775033684\n"
     ]
    },
    {
     "name": "stderr",
     "output_type": "stream",
     "text": [
      "\r",
      " 99%|█████████▉| 495/500 [1:09:33<00:52, 10.47s/it]"
     ]
    },
    {
     "name": "stdout",
     "output_type": "stream",
     "text": [
      "Test on 1143 samples\n",
      "R^2: -0.42\n",
      "Test Loss: 1.59%\n",
      "Train Epoch: 496 [0/19577 (0%)]\tLoss: 0.008364\n",
      "Train Epoch: 496 [3200/19577 (16%)]\tLoss: 0.003719\n",
      "Train Epoch: 496 [6400/19577 (33%)]\tLoss: 0.006032\n",
      "Train Epoch: 496 [9600/19577 (49%)]\tLoss: 0.001891\n",
      "Train Epoch: 496 [12800/19577 (65%)]\tLoss: 0.004486\n",
      "Train Epoch: 496 [16000/19577 (82%)]\tLoss: 0.007035\n",
      "Train Epoch: 496 [19200/19577 (98%)]\tLoss: 0.003522\n",
      "\n",
      "Train loss: 0.006871674923923207\n"
     ]
    },
    {
     "name": "stderr",
     "output_type": "stream",
     "text": [
      "\r",
      " 99%|█████████▉| 496/500 [1:09:41<00:38,  9.68s/it]"
     ]
    },
    {
     "name": "stdout",
     "output_type": "stream",
     "text": [
      "Test on 1143 samples\n",
      "R^2: 0.03\n",
      "Test Loss: 1.60%\n",
      "Train Epoch: 497 [0/19577 (0%)]\tLoss: 0.007205\n",
      "Train Epoch: 497 [3200/19577 (16%)]\tLoss: 0.006459\n",
      "Train Epoch: 497 [6400/19577 (33%)]\tLoss: 0.014720\n",
      "Train Epoch: 497 [9600/19577 (49%)]\tLoss: 0.002978\n",
      "Train Epoch: 497 [12800/19577 (65%)]\tLoss: 0.003808\n",
      "Train Epoch: 497 [16000/19577 (82%)]\tLoss: 0.004450\n",
      "Train Epoch: 497 [19200/19577 (98%)]\tLoss: 0.005676\n",
      "\n",
      "Train loss: 0.006872343233850438\n"
     ]
    },
    {
     "name": "stderr",
     "output_type": "stream",
     "text": [
      "\r",
      " 99%|█████████▉| 497/500 [1:09:49<00:27,  9.07s/it]"
     ]
    },
    {
     "name": "stdout",
     "output_type": "stream",
     "text": [
      "Test on 1143 samples\n",
      "R^2: -0.09\n",
      "Test Loss: 1.60%\n",
      "Train Epoch: 498 [0/19577 (0%)]\tLoss: 0.005297\n",
      "Train Epoch: 498 [3200/19577 (16%)]\tLoss: 0.004915\n",
      "Train Epoch: 498 [6400/19577 (33%)]\tLoss: 0.004380\n",
      "Train Epoch: 498 [9600/19577 (49%)]\tLoss: 0.002953\n",
      "Train Epoch: 498 [12800/19577 (65%)]\tLoss: 0.003350\n",
      "Train Epoch: 498 [16000/19577 (82%)]\tLoss: 0.007599\n",
      "Train Epoch: 498 [19200/19577 (98%)]\tLoss: 0.005253\n",
      "\n",
      "Train loss: 0.006878472593752971\n"
     ]
    },
    {
     "name": "stderr",
     "output_type": "stream",
     "text": [
      "\r",
      "100%|█████████▉| 498/500 [1:09:58<00:17,  8.98s/it]"
     ]
    },
    {
     "name": "stdout",
     "output_type": "stream",
     "text": [
      "Test on 1143 samples\n",
      "R^2: 0.02\n",
      "Test Loss: 1.61%\n",
      "Train Epoch: 499 [0/19577 (0%)]\tLoss: 0.005609\n",
      "Train Epoch: 499 [3200/19577 (16%)]\tLoss: 0.009014\n",
      "Train Epoch: 499 [6400/19577 (33%)]\tLoss: 0.040057\n",
      "Train Epoch: 499 [9600/19577 (49%)]\tLoss: 0.003266\n",
      "Train Epoch: 499 [12800/19577 (65%)]\tLoss: 0.005002\n",
      "Train Epoch: 499 [16000/19577 (82%)]\tLoss: 0.005984\n",
      "Train Epoch: 499 [19200/19577 (98%)]\tLoss: 0.005928\n",
      "\n",
      "Train loss: 0.006872858918725446\n"
     ]
    },
    {
     "name": "stderr",
     "output_type": "stream",
     "text": [
      "\r",
      "100%|█████████▉| 499/500 [1:10:08<00:09,  9.28s/it]"
     ]
    },
    {
     "name": "stdout",
     "output_type": "stream",
     "text": [
      "Test on 1143 samples\n",
      "R^2: -3.09\n",
      "Test Loss: 1.61%\n",
      "Train Epoch: 500 [0/19577 (0%)]\tLoss: 0.007211\n",
      "Train Epoch: 500 [3200/19577 (16%)]\tLoss: 0.005721\n",
      "Train Epoch: 500 [6400/19577 (33%)]\tLoss: 0.006147\n",
      "Train Epoch: 500 [9600/19577 (49%)]\tLoss: 0.003243\n",
      "Train Epoch: 500 [12800/19577 (65%)]\tLoss: 0.004502\n",
      "Train Epoch: 500 [16000/19577 (82%)]\tLoss: 0.010409\n",
      "Train Epoch: 500 [19200/19577 (98%)]\tLoss: 0.007794\n",
      "\n",
      "Train loss: 0.006885088143225004\n"
     ]
    },
    {
     "name": "stderr",
     "output_type": "stream",
     "text": [
      "100%|██████████| 500/500 [1:10:15<00:00,  8.43s/it]"
     ]
    },
    {
     "name": "stdout",
     "output_type": "stream",
     "text": [
      "Test on 1143 samples\n",
      "R^2: -0.75\n",
      "Test Loss: 1.62%\n"
     ]
    },
    {
     "name": "stderr",
     "output_type": "stream",
     "text": [
      "\n"
     ]
    }
   ],
   "source": [
    "all_epoch_loss = []\n",
    "all_testing_acc = []\n",
    "all_testing_loss = []\n",
    "for run in [0,1]: # average over three random seeds\n",
    "    epoch_loss = []\n",
    "    testing_acc = []\n",
    "    testing_loss = []\n",
    "    seed_everything(run)\n",
    "    model = MLP2(train_df.shape[1]-1, 64, 64, 1)\n",
    "    model.train()\n",
    "    optimizer = torch.optim.SGD(model.parameters(), lr=0.001)\n",
    "    criterion = torch.nn.MSELoss()\n",
    "    trainloader = DataLoader(train_dataset, batch_size=64, shuffle=True)\n",
    "    for epoch in tqdm(range(500)):\n",
    "        batch_loss = []\n",
    "        for batch_idx, (features, labels) in enumerate(trainloader):\n",
    "            optimizer.zero_grad()\n",
    "            outputs = model(features)\n",
    "\n",
    "            loss = criterion(outputs, labels)\n",
    "            loss.backward()\n",
    "            optimizer.step()\n",
    "\n",
    "            if batch_idx % 50 == 0:\n",
    "                print('Train Epoch: {} [{}/{} ({:.0f}%)]\\tLoss: {:.6f}'.format(\n",
    "                    epoch+1, batch_idx * len(features), len(trainloader.dataset),\n",
    "                    100. * batch_idx / len(trainloader), loss.item()))\n",
    "            batch_loss.append(loss.item())\n",
    "\n",
    "        loss_avg = sum(batch_loss)/len(batch_loss)\n",
    "        print('\\nTrain loss:', loss_avg)\n",
    "        epoch_loss.append(loss_avg)\n",
    "\n",
    "        test_loss, test_acc = test_inference(model, test_dataset)\n",
    "        print('Test on', len(test_dataset), 'samples')\n",
    "        print(\"R^2: {:.2f}\".format(test_acc))\n",
    "        print(\"Test Loss: {:.2f}%\".format(100 * test_loss))\n",
    "        testing_loss.append(test_loss)\n",
    "        testing_acc.append(test_acc)\n",
    "    all_epoch_loss.append(epoch_loss)\n",
    "    all_testing_acc.append(testing_acc)\n",
    "    all_testing_loss.append(testing_loss)"
   ]
  },
  {
   "cell_type": "code",
   "execution_count": 863,
   "metadata": {},
   "outputs": [],
   "source": [
    "def mean_confidence_interval(data, confidence=0.95):\n",
    "    a = 1.0 * np.array(data)\n",
    "    m, se = np.mean(a, axis=0), scipy.stats.sem(a)\n",
    "    n = len(m)\n",
    "    h = se * scipy.stats.t.ppf((1 + confidence) / 2., n-1)\n",
    "    return m, m-h, m+h"
   ]
  },
  {
   "cell_type": "code",
   "execution_count": 870,
   "metadata": {},
   "outputs": [],
   "source": [
    "def plot_train_loss(all_data, title=''):\n",
    "    \"\"\"\n",
    "    Just plot training loss.\n",
    "\n",
    "    \"\"\"\n",
    "\n",
    "    m, lower, upper = mean_confidence_interval(all_data)\n",
    "    n = np.arange(len(m))\n",
    "    # arr = np.array(epoch_data)\n",
    "    # mean = np.mean(arr, axis=0)\n",
    "    # ci = 1.96*np.std(arr, axis=0)/mean\n",
    "    plt.figure()\n",
    "    plt.plot(n, m, label='Mean Loss')\n",
    "    plt.fill_between(n, lower, upper, alpha=0.1)\n",
    "    plt.xlabel('Epochs')\n",
    "    plt.ylabel('Training Loss')\n",
    "    plt.title(title)\n",
    "#     plt.savefig('mlp_day_ahead_all_houses_train_loss.png')\n",
    "    plt.show()\n",
    "    "
   ]
  },
  {
   "cell_type": "code",
   "execution_count": 881,
   "metadata": {},
   "outputs": [
    {
     "data": {
      "image/png": "[encoded data removed]",
      "text/plain": [
       "<Figure size 432x288 with 1 Axes>"
      ]
     },
     "metadata": {
      "needs_background": "light"
     },
     "output_type": "display_data"
    }
   ],
   "source": [
    "data = plot_train_loss(all_testing_loss, 'Day-Ahead Forecast')"
   ]
  },
  {
   "cell_type": "code",
   "execution_count": 873,
   "metadata": {},
   "outputs": [],
   "source": [
    "model.eval()\n",
    "y_test = []\n",
    "y_preds = []\n",
    "test_dataset = LondonEnergyDataset(test_df, transform=apply_transform)\n",
    "\n",
    "testloader = DataLoader(test_dataset, batch_size=24,\n",
    "                        shuffle=False)\n",
    "\n",
    "for batch_idx, (features, labels) in enumerate(testloader):\n",
    "    # Inference\n",
    "    outputs = model(features)\n",
    "    y_test.append(labels.numpy())\n",
    "    y_preds.append(outputs.detach().numpy())\n",
    "    \n",
    "y_test = np.concatenate(y_test)\n",
    "y_preds = np.concatenate(y_preds)"
   ]
  },
  {
   "cell_type": "code",
   "execution_count": 875,
   "metadata": {},
   "outputs": [
    {
     "data": {
      "image/png": "[encoded data removed]",
      "text/plain": [
       "<Figure size 432x288 with 1 Axes>"
      ]
     },
     "metadata": {
      "needs_background": "light"
     },
     "output_type": "display_data"
    }
   ],
   "source": [
    "plt.figure()\n",
    "plt.plot(y_test, y_preds,'.')\n",
    "plt.xlabel('Actual Consumption')\n",
    "plt.ylabel('Predicted Consumption')\n",
    "plt.savefig('mlp_day_ahead_r2.png')"
   ]
  },
  {
   "cell_type": "code",
   "execution_count": 876,
   "metadata": {},
   "outputs": [],
   "source": [
    "data_dict = {'testing_acc': all_testing_acc,\n",
    "            'training_loss': all_epoch_loss,\n",
    "            'testing_loss': all_testing_loss}\n",
    "with open('mlp_day_ahead_all_houses.pkl', 'wb') as outfile:\n",
    "    pickle.dump(data_dict, outfile, protocol=pickle.HIGHEST_PROTOCOL)"
   ]
  },
  {
   "cell_type": "code",
   "execution_count": 906,
   "metadata": {},
   "outputs": [
    {
     "data": {
      "text/plain": [
       "-0.7478405202512364"
      ]
     },
     "execution_count": 906,
     "metadata": {},
     "output_type": "execute_result"
    }
   ],
   "source": [
    "all_testing_acc[1][-1]"
   ]
  },
  {
   "cell_type": "code",
   "execution_count": null,
   "metadata": {},
   "outputs": [],
   "source": []
  }
 ],
 "metadata": {
  "kernelspec": {
   "display_name": "Python 3",
   "language": "python",
   "name": "python3"
  },
  "language_info": {
   "codemirror_mode": {
    "name": "ipython",
    "version": 3
   },
   "file_extension": ".py",
   "mimetype": "text/x-python",
   "name": "python",
   "nbconvert_exporter": "python",
   "pygments_lexer": "ipython3",
   "version": "3.8.2"
  }
 },
 "nbformat": 4,
 "nbformat_minor": 4
}
